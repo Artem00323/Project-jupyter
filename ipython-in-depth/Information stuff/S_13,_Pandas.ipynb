{
 "cells": [
  {
   "cell_type": "markdown",
   "metadata": {
    "id": "CRr3UsjT98BU"
   },
   "source": [
    "# Pandas"
   ]
  },
  {
   "cell_type": "markdown",
   "metadata": {
    "id": "YTAWb6gA98BW"
   },
   "source": [
    "## Series"
   ]
  },
  {
   "cell_type": "markdown",
   "metadata": {
    "id": "rctPvvAY98BW"
   },
   "source": [
    "**Series (1D)** – это проиндексированный одномерный массив значений. Он похож на простой словарь типа dict, где имя элемента соответствует ключу, а значение – значению записи.\n",
    "\n",
    "Объект Series можно создать с помощью конструктора Series, принимающего список значений и (дополнительно) список ключей. Если список ключей не указан, ключами станут индексы исходного массива."
   ]
  },
  {
   "cell_type": "code",
   "execution_count": 12,
   "metadata": {
    "id": "E1tCG9h498BX"
   },
   "outputs": [],
   "source": [
    "import pandas as pd\n",
    "import numpy as np"
   ]
  },
  {
   "cell_type": "code",
   "execution_count": 14,
   "metadata": {
    "id": "guXw6ikz98BX",
    "outputId": "d73a054b-a6f3-43e6-f616-44eeae224c48"
   },
   "outputs": [
    {
     "data": {
      "text/plain": [
       "0    0.430126\n",
       "1   -0.827983\n",
       "2    0.012268\n",
       "3   -0.942257\n",
       "4   -1.908486\n",
       "5   -0.413116\n",
       "6   -0.431118\n",
       "7    0.855719\n",
       "8    1.989107\n",
       "9    0.331080\n",
       "dtype: float64"
      ]
     },
     "execution_count": 14,
     "metadata": {},
     "output_type": "execute_result"
    }
   ],
   "source": [
    "s = pd.Series(np.random.randn(10)) # Генерация списка из 5 случайных значений\n",
    "s"
   ]
  },
  {
   "cell_type": "code",
   "execution_count": 15,
   "metadata": {
    "id": "JwycB1ZB98BZ",
    "outputId": "aad5edea-33a8-444c-cd17-af019f684ddc"
   },
   "outputs": [
    {
     "data": {
      "text/plain": [
       "a   -0.673274\n",
       "b   -0.286774\n",
       "c   -1.286257\n",
       "d    0.177918\n",
       "e   -1.034669\n",
       "dtype: float64"
      ]
     },
     "execution_count": 15,
     "metadata": {},
     "output_type": "execute_result"
    }
   ],
   "source": [
    "s = pd.Series(np.random.randn(5), # Генерация списка из 5 случайных значений\n",
    "              index=['a', 'b', 'c', 'd', 'e']) # Список ключей\n",
    "s"
   ]
  },
  {
   "cell_type": "markdown",
   "metadata": {
    "id": "X2XDqk7698BZ"
   },
   "source": [
    "Также можно создать такой объект из словаря: "
   ]
  },
  {
   "cell_type": "code",
   "execution_count": 17,
   "metadata": {
    "id": "-m357nUF98Ba",
    "outputId": "cc6472b3-65dd-4ca5-a6df-ef9603ac1d85"
   },
   "outputs": [
    {
     "data": {
      "text/plain": [
       "a   -1\n",
       "g    3\n",
       "dtype: int64"
      ]
     },
     "execution_count": 17,
     "metadata": {},
     "output_type": "execute_result"
    }
   ],
   "source": [
    "s_new = pd.Series({'a' : -1, 'g' : 3})\n",
    "s_new"
   ]
  },
  {
   "cell_type": "markdown",
   "metadata": {
    "id": "C0UtxW9y98Ba"
   },
   "source": [
    "Добавить в Series элемент можно, присвоив новое значение по ключу (как в словаре). Изменить значение можно так же:"
   ]
  },
  {
   "cell_type": "code",
   "execution_count": 18,
   "metadata": {
    "id": "8cNcRPGM98Ba",
    "outputId": "ace24614-167c-431a-d9f5-f3bdb9ca4f30",
    "scrolled": true
   },
   "outputs": [
    {
     "data": {
      "text/plain": [
       "a   -10.000000\n",
       "b    -0.286774\n",
       "c    -1.286257\n",
       "d     0.177918\n",
       "e    -1.034669\n",
       "f     2.000000\n",
       "dtype: float64"
      ]
     },
     "execution_count": 18,
     "metadata": {},
     "output_type": "execute_result"
    }
   ],
   "source": [
    "s['f'] = 2 # Добавление новой пары ключ-значение\n",
    "s['a'] = -10 # Изменение значения для старого ключа\n",
    "s"
   ]
  },
  {
   "cell_type": "markdown",
   "metadata": {
    "id": "71fdKQuh98Bb"
   },
   "source": [
    "Удалить элемент можно с помощью метода **drop**, который принимает как параметры массив с ключами, которые нужно удалить. Метод **drop** по умолчанию не является inplace-методом -- создавая и возвращая новую табличку без указанного элемента, он не меняет старую."
   ]
  },
  {
   "cell_type": "code",
   "execution_count": 23,
   "metadata": {
    "id": "4_Y0PdF798Bb",
    "outputId": "adf84f32-40b3-43f5-e7e7-7ca521b21149",
    "scrolled": true
   },
   "outputs": [
    {
     "name": "stdout",
     "output_type": "stream",
     "text": [
      "a   -10.000000\n",
      "c    -1.286257\n",
      "e    -1.034669\n",
      "f     2.000000\n",
      "dtype: float64\n"
     ]
    },
    {
     "data": {
      "text/plain": [
       "a   -10.000000\n",
       "b    -0.286774\n",
       "c    -1.286257\n",
       "d     0.177918\n",
       "e    -1.034669\n",
       "f     2.000000\n",
       "dtype: float64"
      ]
     },
     "execution_count": 23,
     "metadata": {},
     "output_type": "execute_result"
    }
   ],
   "source": [
    "print(s.drop(['d', 'b']))\n",
    "s"
   ]
  },
  {
   "cell_type": "markdown",
   "metadata": {
    "id": "kNp7sMn898Bc"
   },
   "source": [
    "Чтобы метод **drop** изменил исходную табличку, необходимо прописать атрибут **inplace=True**. Вот так:"
   ]
  },
  {
   "cell_type": "code",
   "execution_count": 24,
   "metadata": {
    "id": "1UavsdXB98Bc",
    "outputId": "62a41b53-450d-4188-87b8-8169f48869ba"
   },
   "outputs": [
    {
     "data": {
      "text/plain": [
       "a   -10.000000\n",
       "c    -1.286257\n",
       "e    -1.034669\n",
       "f     2.000000\n",
       "dtype: float64"
      ]
     },
     "execution_count": 24,
     "metadata": {},
     "output_type": "execute_result"
    }
   ],
   "source": [
    "s.drop(['d', 'b'], inplace=True)\n",
    "s"
   ]
  },
  {
   "cell_type": "markdown",
   "metadata": {
    "id": "4kE6LE-q98Bc"
   },
   "source": [
    "Списки Series можно объединять с помощью метода **append**:"
   ]
  },
  {
   "cell_type": "code",
   "execution_count": 25,
   "metadata": {
    "id": "FnminSn598Bd",
    "outputId": "01bdf1e0-0319-44e0-837c-c73a30534118",
    "scrolled": false
   },
   "outputs": [
    {
     "data": {
      "text/plain": [
       "a   -10.000000\n",
       "c    -1.286257\n",
       "e    -1.034669\n",
       "f     2.000000\n",
       "a    -1.000000\n",
       "g     3.000000\n",
       "dtype: float64"
      ]
     },
     "execution_count": 25,
     "metadata": {},
     "output_type": "execute_result"
    }
   ],
   "source": [
    "s = s.append(s_new)\n",
    "s"
   ]
  },
  {
   "cell_type": "markdown",
   "metadata": {
    "id": "WRfupb1s98Bd"
   },
   "source": [
    "Как можно заметить, в списке Series ключи не обязательно различны. При попытке изменить значение для ключа, встречающегося в списке неоднократно, меняется значение для *всех* таких ключей."
   ]
  },
  {
   "cell_type": "code",
   "execution_count": null,
   "metadata": {
    "id": "cfqOfcQp98Bd",
    "outputId": "46c7372d-cd68-4a49-c9d5-f74e05fd3635",
    "scrolled": true
   },
   "outputs": [
    {
     "data": {
      "text/plain": [
       "a    100.000000\n",
       "c      1.998060\n",
       "e      0.022206\n",
       "f      2.000000\n",
       "a    100.000000\n",
       "g      3.000000\n",
       "dtype: float64"
      ]
     },
     "execution_count": 9,
     "metadata": {
      "tags": []
     },
     "output_type": "execute_result"
    }
   ],
   "source": [
    "s['a'] = 100\n",
    "s"
   ]
  },
  {
   "cell_type": "code",
   "execution_count": null,
   "metadata": {
    "id": "S13m-08898Be",
    "outputId": "6be11f12-f0bd-4bdc-bfe2-f4ea9d264624",
    "scrolled": true
   },
   "outputs": [
    {
     "data": {
      "text/plain": [
       "a    115.000000\n",
       "c      1.998060\n",
       "e      0.022206\n",
       "f      2.000000\n",
       "a    115.000000\n",
       "g      3.000000\n",
       "dtype: float64"
      ]
     },
     "execution_count": 10,
     "metadata": {
      "tags": []
     },
     "output_type": "execute_result"
    }
   ],
   "source": [
    "s['a'] += 15\n",
    "s"
   ]
  },
  {
   "cell_type": "markdown",
   "metadata": {
    "id": "36oTB38p98Be"
   },
   "source": [
    "Списки Series можно сортировать как по ключам, так и по значениям с помощью методов **sort_values** и **sort_index**."
   ]
  },
  {
   "cell_type": "code",
   "execution_count": null,
   "metadata": {
    "id": "PORJH7Cq98Bf",
    "outputId": "c689e25e-28cf-4c2c-a069-c9d5b82e49aa"
   },
   "outputs": [
    {
     "data": {
      "text/plain": [
       "e      0.022206\n",
       "c      1.998060\n",
       "f      2.000000\n",
       "g      3.000000\n",
       "a    115.000000\n",
       "a    115.000000\n",
       "dtype: float64"
      ]
     },
     "execution_count": 11,
     "metadata": {
      "tags": []
     },
     "output_type": "execute_result"
    }
   ],
   "source": [
    "s = s.sort_values()\n",
    "s"
   ]
  },
  {
   "cell_type": "code",
   "execution_count": null,
   "metadata": {
    "id": "cWSFuzVB98Bf",
    "outputId": "ed6d3fd1-5525-4518-9c21-e511f5e3c844"
   },
   "outputs": [
    {
     "data": {
      "text/plain": [
       "a    115.000000\n",
       "a    115.000000\n",
       "c      1.998060\n",
       "e      0.022206\n",
       "f      2.000000\n",
       "g      3.000000\n",
       "dtype: float64"
      ]
     },
     "execution_count": 12,
     "metadata": {
      "tags": []
     },
     "output_type": "execute_result"
    }
   ],
   "source": [
    "s = s.sort_index()\n",
    "s"
   ]
  },
  {
   "cell_type": "markdown",
   "metadata": {
    "id": "xspyvHV898Bf"
   },
   "source": [
    "Также к спискам Series можно применять арифметические операции, которые выполняются поэлементно. Так, можно сложить два списка одинакового размера, умножить список на число и т.д."
   ]
  },
  {
   "cell_type": "code",
   "execution_count": null,
   "metadata": {
    "id": "pp2dF_U798Bf",
    "outputId": "4e09f7c7-584b-493d-86d7-8ad0d382b431"
   },
   "outputs": [
    {
     "data": {
      "text/plain": [
       "a    13225.000000\n",
       "a    13225.000000\n",
       "c        3.992243\n",
       "e        0.000493\n",
       "f        4.000000\n",
       "g        9.000000\n",
       "dtype: float64"
      ]
     },
     "execution_count": 13,
     "metadata": {
      "tags": []
     },
     "output_type": "execute_result"
    }
   ],
   "source": [
    "s * s"
   ]
  },
  {
   "cell_type": "code",
   "execution_count": null,
   "metadata": {
    "id": "jIPnRdkd98Bg",
    "outputId": "6a82c038-e8f4-47a1-c5e7-c8c749b2c5ee"
   },
   "outputs": [
    {
     "data": {
      "text/plain": [
       "a    117.000000\n",
       "a    117.000000\n",
       "c      3.998060\n",
       "e      2.022206\n",
       "f      4.000000\n",
       "g      5.000000\n",
       "dtype: float64"
      ]
     },
     "execution_count": 14,
     "metadata": {
      "tags": []
     },
     "output_type": "execute_result"
    }
   ],
   "source": [
    "s + 2"
   ]
  },
  {
   "cell_type": "markdown",
   "metadata": {
    "id": "K_YmvqPa98Bg"
   },
   "source": [
    "## DataFrame"
   ]
  },
  {
   "cell_type": "markdown",
   "metadata": {
    "id": "AolBQ35W98Bg"
   },
   "source": [
    "** DataFrame (2D) ** — это проиндексированный двумерный массив значений, соответственно каждый столбец **DataFrame** является структурой **Series**. Он отлично подходит для представления реальных данных: столбцы соответствуют признакам, а  строки - признаковым описаниям отдельных объектов.\n",
    "### Создание\n",
    "DataFrame, как и Series, можно создать из словаря:"
   ]
  },
  {
   "cell_type": "code",
   "execution_count": null,
   "metadata": {
    "id": "YQo_lgIK98Bg",
    "outputId": "ed4aaed8-7932-4f0c-a968-8b41d3429eca"
   },
   "outputs": [
    {
     "data": {
      "text/html": [
       "<div>\n",
       "<style>\n",
       "    .dataframe thead tr:only-child th {\n",
       "        text-align: right;\n",
       "    }\n",
       "\n",
       "    .dataframe thead th {\n",
       "        text-align: left;\n",
       "    }\n",
       "\n",
       "    .dataframe tbody tr th {\n",
       "        vertical-align: top;\n",
       "    }\n",
       "</style>\n",
       "<table border=\"1\" class=\"dataframe\">\n",
       "  <thead>\n",
       "    <tr style=\"text-align: right;\">\n",
       "      <th></th>\n",
       "      <th>chars</th>\n",
       "      <th>numbers</th>\n",
       "    </tr>\n",
       "  </thead>\n",
       "  <tbody>\n",
       "    <tr>\n",
       "      <th>0</th>\n",
       "      <td>a</td>\n",
       "      <td>1</td>\n",
       "    </tr>\n",
       "    <tr>\n",
       "      <th>1</th>\n",
       "      <td>a</td>\n",
       "      <td>2</td>\n",
       "    </tr>\n",
       "    <tr>\n",
       "      <th>2</th>\n",
       "      <td>a</td>\n",
       "      <td>3</td>\n",
       "    </tr>\n",
       "    <tr>\n",
       "      <th>3</th>\n",
       "      <td>a</td>\n",
       "      <td>4</td>\n",
       "    </tr>\n",
       "    <tr>\n",
       "      <th>4</th>\n",
       "      <td>a</td>\n",
       "      <td>5</td>\n",
       "    </tr>\n",
       "  </tbody>\n",
       "</table>\n",
       "</div>"
      ],
      "text/plain": [
       "  chars  numbers\n",
       "0     a        1\n",
       "1     a        2\n",
       "2     a        3\n",
       "3     a        4\n",
       "4     a        5"
      ]
     },
     "execution_count": 24,
     "metadata": {
      "tags": []
     },
     "output_type": "execute_result"
    }
   ],
   "source": [
    "df = pd.DataFrame({'numbers' : range(1, 6), 'chars' : ['a'] * 5})\n",
    "df"
   ]
  },
  {
   "cell_type": "markdown",
   "metadata": {
    "id": "_HsDsAA_98Bh"
   },
   "source": [
    "Или из двумерного массива. Существует специальный атрибут **columns**, позволяющий прописать заголовки. Если не воспользоваться им, столбцы будут просто пронумерованы."
   ]
  },
  {
   "cell_type": "code",
   "execution_count": 30,
   "metadata": {
    "id": "SjfHZTRP98Bh",
    "outputId": "2c01ee5c-7948-48d3-c133-dd3d7e0b7882"
   },
   "outputs": [
    {
     "data": {
      "text/html": [
       "<div>\n",
       "<style scoped>\n",
       "    .dataframe tbody tr th:only-of-type {\n",
       "        vertical-align: middle;\n",
       "    }\n",
       "\n",
       "    .dataframe tbody tr th {\n",
       "        vertical-align: top;\n",
       "    }\n",
       "\n",
       "    .dataframe thead th {\n",
       "        text-align: right;\n",
       "    }\n",
       "</style>\n",
       "<table border=\"1\" class=\"dataframe\">\n",
       "  <thead>\n",
       "    <tr style=\"text-align: right;\">\n",
       "      <th></th>\n",
       "      <th>chars</th>\n",
       "      <th>numbers</th>\n",
       "    </tr>\n",
       "  </thead>\n",
       "  <tbody>\n",
       "    <tr>\n",
       "      <th>0</th>\n",
       "      <td>a</td>\n",
       "      <td>1</td>\n",
       "    </tr>\n",
       "    <tr>\n",
       "      <th>1</th>\n",
       "      <td>b</td>\n",
       "      <td>2</td>\n",
       "    </tr>\n",
       "    <tr>\n",
       "      <th>2</th>\n",
       "      <td>c</td>\n",
       "      <td>3</td>\n",
       "    </tr>\n",
       "  </tbody>\n",
       "</table>\n",
       "</div>"
      ],
      "text/plain": [
       "  chars  numbers\n",
       "0     a        1\n",
       "1     b        2\n",
       "2     c        3"
      ]
     },
     "execution_count": 30,
     "metadata": {},
     "output_type": "execute_result"
    }
   ],
   "source": [
    "df = pd.DataFrame([['a', 1], ['b', 2], ['c', 3]], columns=['chars', 'numbers'])\n",
    "df"
   ]
  },
  {
   "cell_type": "markdown",
   "metadata": {
    "id": "UVcZzgJk98Bh"
   },
   "source": [
    "Однако в большинстве случаев удобнее считывать данные из файла. Это делается с помощью метода **read_csv**. Параметром ему передается путь к файлу, с помощью атрибутов указываются номер строки с заголовками (если они есть) и используемый разделитель."
   ]
  },
  {
   "cell_type": "code",
   "execution_count": 28,
   "metadata": {
    "id": "CfIBJo1098Bh",
    "outputId": "aa566a80-11c7-46a0-b5d2-659c87c62357",
    "scrolled": true
   },
   "outputs": [
    {
     "ename": "FileNotFoundError",
     "evalue": "[Errno 2] No such file or directory: 'df.txt'",
     "output_type": "error",
     "traceback": [
      "\u001b[0;31m---------------------------------------------------------------------------\u001b[0m",
      "\u001b[0;31mFileNotFoundError\u001b[0m                         Traceback (most recent call last)",
      "\u001b[0;32m/var/folders/mp/fq0hr_bj2z3850p7x62kfrjm0000gn/T/ipykernel_15920/2832749765.py\u001b[0m in \u001b[0;36m<module>\u001b[0;34m\u001b[0m\n\u001b[0;32m----> 1\u001b[0;31m \u001b[0mdf\u001b[0m \u001b[0;34m=\u001b[0m \u001b[0mpd\u001b[0m\u001b[0;34m.\u001b[0m\u001b[0mread_csv\u001b[0m\u001b[0;34m(\u001b[0m\u001b[0;34m\"df.txt\"\u001b[0m\u001b[0;34m,\u001b[0m \u001b[0mheader\u001b[0m\u001b[0;34m=\u001b[0m\u001b[0;36m0\u001b[0m\u001b[0;34m,\u001b[0m \u001b[0msep\u001b[0m\u001b[0;34m=\u001b[0m\u001b[0;34m'\\t'\u001b[0m\u001b[0;34m)\u001b[0m \u001b[0;31m# Здесь заголовки лежат в первой строке, а разделителем является табуляция\u001b[0m\u001b[0;34m\u001b[0m\u001b[0;34m\u001b[0m\u001b[0m\n\u001b[0m\u001b[1;32m      2\u001b[0m \u001b[0mdf\u001b[0m\u001b[0;34m\u001b[0m\u001b[0;34m\u001b[0m\u001b[0m\n",
      "\u001b[0;32m/opt/homebrew/lib/python3.9/site-packages/pandas/util/_decorators.py\u001b[0m in \u001b[0;36mwrapper\u001b[0;34m(*args, **kwargs)\u001b[0m\n\u001b[1;32m    309\u001b[0m                     \u001b[0mstacklevel\u001b[0m\u001b[0;34m=\u001b[0m\u001b[0mstacklevel\u001b[0m\u001b[0;34m,\u001b[0m\u001b[0;34m\u001b[0m\u001b[0;34m\u001b[0m\u001b[0m\n\u001b[1;32m    310\u001b[0m                 )\n\u001b[0;32m--> 311\u001b[0;31m             \u001b[0;32mreturn\u001b[0m \u001b[0mfunc\u001b[0m\u001b[0;34m(\u001b[0m\u001b[0;34m*\u001b[0m\u001b[0margs\u001b[0m\u001b[0;34m,\u001b[0m \u001b[0;34m**\u001b[0m\u001b[0mkwargs\u001b[0m\u001b[0;34m)\u001b[0m\u001b[0;34m\u001b[0m\u001b[0;34m\u001b[0m\u001b[0m\n\u001b[0m\u001b[1;32m    312\u001b[0m \u001b[0;34m\u001b[0m\u001b[0m\n\u001b[1;32m    313\u001b[0m         \u001b[0;32mreturn\u001b[0m \u001b[0mwrapper\u001b[0m\u001b[0;34m\u001b[0m\u001b[0;34m\u001b[0m\u001b[0m\n",
      "\u001b[0;32m/opt/homebrew/lib/python3.9/site-packages/pandas/io/parsers/readers.py\u001b[0m in \u001b[0;36mread_csv\u001b[0;34m(filepath_or_buffer, sep, delimiter, header, names, index_col, usecols, squeeze, prefix, mangle_dupe_cols, dtype, engine, converters, true_values, false_values, skipinitialspace, skiprows, skipfooter, nrows, na_values, keep_default_na, na_filter, verbose, skip_blank_lines, parse_dates, infer_datetime_format, keep_date_col, date_parser, dayfirst, cache_dates, iterator, chunksize, compression, thousands, decimal, lineterminator, quotechar, quoting, doublequote, escapechar, comment, encoding, encoding_errors, dialect, error_bad_lines, warn_bad_lines, on_bad_lines, delim_whitespace, low_memory, memory_map, float_precision, storage_options)\u001b[0m\n\u001b[1;32m    584\u001b[0m     \u001b[0mkwds\u001b[0m\u001b[0;34m.\u001b[0m\u001b[0mupdate\u001b[0m\u001b[0;34m(\u001b[0m\u001b[0mkwds_defaults\u001b[0m\u001b[0;34m)\u001b[0m\u001b[0;34m\u001b[0m\u001b[0;34m\u001b[0m\u001b[0m\n\u001b[1;32m    585\u001b[0m \u001b[0;34m\u001b[0m\u001b[0m\n\u001b[0;32m--> 586\u001b[0;31m     \u001b[0;32mreturn\u001b[0m \u001b[0m_read\u001b[0m\u001b[0;34m(\u001b[0m\u001b[0mfilepath_or_buffer\u001b[0m\u001b[0;34m,\u001b[0m \u001b[0mkwds\u001b[0m\u001b[0;34m)\u001b[0m\u001b[0;34m\u001b[0m\u001b[0;34m\u001b[0m\u001b[0m\n\u001b[0m\u001b[1;32m    587\u001b[0m \u001b[0;34m\u001b[0m\u001b[0m\n\u001b[1;32m    588\u001b[0m \u001b[0;34m\u001b[0m\u001b[0m\n",
      "\u001b[0;32m/opt/homebrew/lib/python3.9/site-packages/pandas/io/parsers/readers.py\u001b[0m in \u001b[0;36m_read\u001b[0;34m(filepath_or_buffer, kwds)\u001b[0m\n\u001b[1;32m    480\u001b[0m \u001b[0;34m\u001b[0m\u001b[0m\n\u001b[1;32m    481\u001b[0m     \u001b[0;31m# Create the parser.\u001b[0m\u001b[0;34m\u001b[0m\u001b[0;34m\u001b[0m\u001b[0m\n\u001b[0;32m--> 482\u001b[0;31m     \u001b[0mparser\u001b[0m \u001b[0;34m=\u001b[0m \u001b[0mTextFileReader\u001b[0m\u001b[0;34m(\u001b[0m\u001b[0mfilepath_or_buffer\u001b[0m\u001b[0;34m,\u001b[0m \u001b[0;34m**\u001b[0m\u001b[0mkwds\u001b[0m\u001b[0;34m)\u001b[0m\u001b[0;34m\u001b[0m\u001b[0;34m\u001b[0m\u001b[0m\n\u001b[0m\u001b[1;32m    483\u001b[0m \u001b[0;34m\u001b[0m\u001b[0m\n\u001b[1;32m    484\u001b[0m     \u001b[0;32mif\u001b[0m \u001b[0mchunksize\u001b[0m \u001b[0;32mor\u001b[0m \u001b[0miterator\u001b[0m\u001b[0;34m:\u001b[0m\u001b[0;34m\u001b[0m\u001b[0;34m\u001b[0m\u001b[0m\n",
      "\u001b[0;32m/opt/homebrew/lib/python3.9/site-packages/pandas/io/parsers/readers.py\u001b[0m in \u001b[0;36m__init__\u001b[0;34m(self, f, engine, **kwds)\u001b[0m\n\u001b[1;32m    809\u001b[0m             \u001b[0mself\u001b[0m\u001b[0;34m.\u001b[0m\u001b[0moptions\u001b[0m\u001b[0;34m[\u001b[0m\u001b[0;34m\"has_index_names\"\u001b[0m\u001b[0;34m]\u001b[0m \u001b[0;34m=\u001b[0m \u001b[0mkwds\u001b[0m\u001b[0;34m[\u001b[0m\u001b[0;34m\"has_index_names\"\u001b[0m\u001b[0;34m]\u001b[0m\u001b[0;34m\u001b[0m\u001b[0;34m\u001b[0m\u001b[0m\n\u001b[1;32m    810\u001b[0m \u001b[0;34m\u001b[0m\u001b[0m\n\u001b[0;32m--> 811\u001b[0;31m         \u001b[0mself\u001b[0m\u001b[0;34m.\u001b[0m\u001b[0m_engine\u001b[0m \u001b[0;34m=\u001b[0m \u001b[0mself\u001b[0m\u001b[0;34m.\u001b[0m\u001b[0m_make_engine\u001b[0m\u001b[0;34m(\u001b[0m\u001b[0mself\u001b[0m\u001b[0;34m.\u001b[0m\u001b[0mengine\u001b[0m\u001b[0;34m)\u001b[0m\u001b[0;34m\u001b[0m\u001b[0;34m\u001b[0m\u001b[0m\n\u001b[0m\u001b[1;32m    812\u001b[0m \u001b[0;34m\u001b[0m\u001b[0m\n\u001b[1;32m    813\u001b[0m     \u001b[0;32mdef\u001b[0m \u001b[0mclose\u001b[0m\u001b[0;34m(\u001b[0m\u001b[0mself\u001b[0m\u001b[0;34m)\u001b[0m\u001b[0;34m:\u001b[0m\u001b[0;34m\u001b[0m\u001b[0;34m\u001b[0m\u001b[0m\n",
      "\u001b[0;32m/opt/homebrew/lib/python3.9/site-packages/pandas/io/parsers/readers.py\u001b[0m in \u001b[0;36m_make_engine\u001b[0;34m(self, engine)\u001b[0m\n\u001b[1;32m   1038\u001b[0m             )\n\u001b[1;32m   1039\u001b[0m         \u001b[0;31m# error: Too many arguments for \"ParserBase\"\u001b[0m\u001b[0;34m\u001b[0m\u001b[0;34m\u001b[0m\u001b[0m\n\u001b[0;32m-> 1040\u001b[0;31m         \u001b[0;32mreturn\u001b[0m \u001b[0mmapping\u001b[0m\u001b[0;34m[\u001b[0m\u001b[0mengine\u001b[0m\u001b[0;34m]\u001b[0m\u001b[0;34m(\u001b[0m\u001b[0mself\u001b[0m\u001b[0;34m.\u001b[0m\u001b[0mf\u001b[0m\u001b[0;34m,\u001b[0m \u001b[0;34m**\u001b[0m\u001b[0mself\u001b[0m\u001b[0;34m.\u001b[0m\u001b[0moptions\u001b[0m\u001b[0;34m)\u001b[0m  \u001b[0;31m# type: ignore[call-arg]\u001b[0m\u001b[0;34m\u001b[0m\u001b[0;34m\u001b[0m\u001b[0m\n\u001b[0m\u001b[1;32m   1041\u001b[0m \u001b[0;34m\u001b[0m\u001b[0m\n\u001b[1;32m   1042\u001b[0m     \u001b[0;32mdef\u001b[0m \u001b[0m_failover_to_python\u001b[0m\u001b[0;34m(\u001b[0m\u001b[0mself\u001b[0m\u001b[0;34m)\u001b[0m\u001b[0;34m:\u001b[0m\u001b[0;34m\u001b[0m\u001b[0;34m\u001b[0m\u001b[0m\n",
      "\u001b[0;32m/opt/homebrew/lib/python3.9/site-packages/pandas/io/parsers/c_parser_wrapper.py\u001b[0m in \u001b[0;36m__init__\u001b[0;34m(self, src, **kwds)\u001b[0m\n\u001b[1;32m     49\u001b[0m \u001b[0;34m\u001b[0m\u001b[0m\n\u001b[1;32m     50\u001b[0m         \u001b[0;31m# open handles\u001b[0m\u001b[0;34m\u001b[0m\u001b[0;34m\u001b[0m\u001b[0m\n\u001b[0;32m---> 51\u001b[0;31m         \u001b[0mself\u001b[0m\u001b[0;34m.\u001b[0m\u001b[0m_open_handles\u001b[0m\u001b[0;34m(\u001b[0m\u001b[0msrc\u001b[0m\u001b[0;34m,\u001b[0m \u001b[0mkwds\u001b[0m\u001b[0;34m)\u001b[0m\u001b[0;34m\u001b[0m\u001b[0;34m\u001b[0m\u001b[0m\n\u001b[0m\u001b[1;32m     52\u001b[0m         \u001b[0;32massert\u001b[0m \u001b[0mself\u001b[0m\u001b[0;34m.\u001b[0m\u001b[0mhandles\u001b[0m \u001b[0;32mis\u001b[0m \u001b[0;32mnot\u001b[0m \u001b[0;32mNone\u001b[0m\u001b[0;34m\u001b[0m\u001b[0;34m\u001b[0m\u001b[0m\n\u001b[1;32m     53\u001b[0m \u001b[0;34m\u001b[0m\u001b[0m\n",
      "\u001b[0;32m/opt/homebrew/lib/python3.9/site-packages/pandas/io/parsers/base_parser.py\u001b[0m in \u001b[0;36m_open_handles\u001b[0;34m(self, src, kwds)\u001b[0m\n\u001b[1;32m    220\u001b[0m         \u001b[0mLet\u001b[0m \u001b[0mthe\u001b[0m \u001b[0mreaders\u001b[0m \u001b[0mopen\u001b[0m \u001b[0mIOHandles\u001b[0m \u001b[0mafter\u001b[0m \u001b[0mthey\u001b[0m \u001b[0mare\u001b[0m \u001b[0mdone\u001b[0m \u001b[0;32mwith\u001b[0m \u001b[0mtheir\u001b[0m \u001b[0mpotential\u001b[0m \u001b[0mraises\u001b[0m\u001b[0;34m.\u001b[0m\u001b[0;34m\u001b[0m\u001b[0;34m\u001b[0m\u001b[0m\n\u001b[1;32m    221\u001b[0m         \"\"\"\n\u001b[0;32m--> 222\u001b[0;31m         self.handles = get_handle(\n\u001b[0m\u001b[1;32m    223\u001b[0m             \u001b[0msrc\u001b[0m\u001b[0;34m,\u001b[0m\u001b[0;34m\u001b[0m\u001b[0;34m\u001b[0m\u001b[0m\n\u001b[1;32m    224\u001b[0m             \u001b[0;34m\"r\"\u001b[0m\u001b[0;34m,\u001b[0m\u001b[0;34m\u001b[0m\u001b[0;34m\u001b[0m\u001b[0m\n",
      "\u001b[0;32m/opt/homebrew/lib/python3.9/site-packages/pandas/io/common.py\u001b[0m in \u001b[0;36mget_handle\u001b[0;34m(path_or_buf, mode, encoding, compression, memory_map, is_text, errors, storage_options)\u001b[0m\n\u001b[1;32m    700\u001b[0m         \u001b[0;32mif\u001b[0m \u001b[0mioargs\u001b[0m\u001b[0;34m.\u001b[0m\u001b[0mencoding\u001b[0m \u001b[0;32mand\u001b[0m \u001b[0;34m\"b\"\u001b[0m \u001b[0;32mnot\u001b[0m \u001b[0;32min\u001b[0m \u001b[0mioargs\u001b[0m\u001b[0;34m.\u001b[0m\u001b[0mmode\u001b[0m\u001b[0;34m:\u001b[0m\u001b[0;34m\u001b[0m\u001b[0;34m\u001b[0m\u001b[0m\n\u001b[1;32m    701\u001b[0m             \u001b[0;31m# Encoding\u001b[0m\u001b[0;34m\u001b[0m\u001b[0;34m\u001b[0m\u001b[0m\n\u001b[0;32m--> 702\u001b[0;31m             handle = open(\n\u001b[0m\u001b[1;32m    703\u001b[0m                 \u001b[0mhandle\u001b[0m\u001b[0;34m,\u001b[0m\u001b[0;34m\u001b[0m\u001b[0;34m\u001b[0m\u001b[0m\n\u001b[1;32m    704\u001b[0m                 \u001b[0mioargs\u001b[0m\u001b[0;34m.\u001b[0m\u001b[0mmode\u001b[0m\u001b[0;34m,\u001b[0m\u001b[0;34m\u001b[0m\u001b[0;34m\u001b[0m\u001b[0m\n",
      "\u001b[0;31mFileNotFoundError\u001b[0m: [Errno 2] No such file or directory: 'df.txt'"
     ]
    }
   ],
   "source": [
    "df = pd.read_csv(\"df.txt\", header=0, sep='\\t') # Здесь заголовки лежат в первой строке, а разделителем является табуляция\n",
    "df"
   ]
  },
  {
   "cell_type": "markdown",
   "metadata": {
    "id": "TwZiGUDE98Bi"
   },
   "source": [
    "### Добавление данных"
   ]
  },
  {
   "cell_type": "markdown",
   "metadata": {
    "id": "C3OAaxZg98Bi"
   },
   "source": [
    "В DataFrame можно добавить строку, воспользовавшись методом **append**. Если атрибут **ignore_index** = True, то при добавлении новых записей их индексы не будут учитываться. Так как у строки нет индекса, то при ее добавлении *необходимо* прописать ignore_index=True.\n",
    "\n",
    "Прибавим строку, заданную словарем:"
   ]
  },
  {
   "cell_type": "code",
   "execution_count": 27,
   "metadata": {
    "id": "DAm3d0Kk98Bi",
    "outputId": "14306abe-c371-4621-b30f-5f72d4abe6c3"
   },
   "outputs": [
    {
     "ename": "NameError",
     "evalue": "name 'df' is not defined",
     "output_type": "error",
     "traceback": [
      "\u001b[0;31m---------------------------------------------------------------------------\u001b[0m",
      "\u001b[0;31mNameError\u001b[0m                                 Traceback (most recent call last)",
      "\u001b[0;32m/var/folders/mp/fq0hr_bj2z3850p7x62kfrjm0000gn/T/ipykernel_15920/936803583.py\u001b[0m in \u001b[0;36m<module>\u001b[0;34m\u001b[0m\n\u001b[1;32m      1\u001b[0m \u001b[0mline_1\u001b[0m \u001b[0;34m=\u001b[0m \u001b[0;34m{\u001b[0m\u001b[0;34m'number'\u001b[0m \u001b[0;34m:\u001b[0m \u001b[0;34m'3'\u001b[0m\u001b[0;34m,\u001b[0m \u001b[0;34m'city'\u001b[0m \u001b[0;34m:\u001b[0m \u001b[0;34m'Arzamas'\u001b[0m\u001b[0;34m}\u001b[0m\u001b[0;34m\u001b[0m\u001b[0;34m\u001b[0m\u001b[0m\n\u001b[0;32m----> 2\u001b[0;31m \u001b[0mdf\u001b[0m \u001b[0;34m=\u001b[0m \u001b[0mdf\u001b[0m\u001b[0;34m.\u001b[0m\u001b[0mappend\u001b[0m\u001b[0;34m(\u001b[0m\u001b[0mline_1\u001b[0m\u001b[0;34m,\u001b[0m\u001b[0mignore_index\u001b[0m\u001b[0;34m=\u001b[0m\u001b[0;32mTrue\u001b[0m\u001b[0;34m)\u001b[0m\u001b[0;34m\u001b[0m\u001b[0;34m\u001b[0m\u001b[0m\n\u001b[0m\u001b[1;32m      3\u001b[0m \u001b[0mdf\u001b[0m\u001b[0;34m\u001b[0m\u001b[0;34m\u001b[0m\u001b[0m\n",
      "\u001b[0;31mNameError\u001b[0m: name 'df' is not defined"
     ]
    }
   ],
   "source": [
    "line_1 = {'number' : '3', 'city' : 'Arzamas'}\n",
    "df = df.append(line_1,ignore_index=True)\n",
    "df"
   ]
  },
  {
   "cell_type": "markdown",
   "metadata": {
    "id": "7z4_dK4D98Bj"
   },
   "source": [
    "Это же метод позволяет прибавить и другой DataFrame:"
   ]
  },
  {
   "cell_type": "code",
   "execution_count": 26,
   "metadata": {
    "id": "ZmP5B33z98Bj",
    "outputId": "93795a6c-19de-4a9a-f256-756eadd50d9e",
    "scrolled": true
   },
   "outputs": [
    {
     "name": "stdout",
     "output_type": "stream",
     "text": [
      "   number       city  population\n",
      "0     NaN  Belomorsk        9861\n",
      "1     5.0     Odessa     1010783\n"
     ]
    },
    {
     "ename": "NameError",
     "evalue": "name 'df' is not defined",
     "output_type": "error",
     "traceback": [
      "\u001b[0;31m---------------------------------------------------------------------------\u001b[0m",
      "\u001b[0;31mNameError\u001b[0m                                 Traceback (most recent call last)",
      "\u001b[0;32m/var/folders/mp/fq0hr_bj2z3850p7x62kfrjm0000gn/T/ipykernel_15920/263123387.py\u001b[0m in \u001b[0;36m<module>\u001b[0;34m\u001b[0m\n\u001b[1;32m      2\u001b[0m                       columns=['number', 'city', 'population'])\n\u001b[1;32m      3\u001b[0m \u001b[0mprint\u001b[0m\u001b[0;34m(\u001b[0m\u001b[0mdf_2\u001b[0m\u001b[0;34m)\u001b[0m\u001b[0;34m\u001b[0m\u001b[0;34m\u001b[0m\u001b[0m\n\u001b[0;32m----> 4\u001b[0;31m \u001b[0mdf\u001b[0m \u001b[0;34m=\u001b[0m \u001b[0mdf\u001b[0m\u001b[0;34m.\u001b[0m\u001b[0mappend\u001b[0m\u001b[0;34m(\u001b[0m\u001b[0mdf_2\u001b[0m\u001b[0;34m,\u001b[0m \u001b[0mignore_index\u001b[0m\u001b[0;34m=\u001b[0m\u001b[0;32mTrue\u001b[0m\u001b[0;34m)\u001b[0m\u001b[0;34m\u001b[0m\u001b[0;34m\u001b[0m\u001b[0m\n\u001b[0m\u001b[1;32m      5\u001b[0m \u001b[0mdf\u001b[0m\u001b[0;34m\u001b[0m\u001b[0;34m\u001b[0m\u001b[0m\n",
      "\u001b[0;31mNameError\u001b[0m: name 'df' is not defined"
     ]
    }
   ],
   "source": [
    "df_2 = pd.DataFrame([[np.nan, 'Belomorsk', 9861], [5, 'Odessa', 1010783]],\n",
    "                      columns=['number', 'city', 'population'])\n",
    "print(df_2)\n",
    "df = df.append(df_2, ignore_index=True)\n",
    "df"
   ]
  },
  {
   "cell_type": "markdown",
   "metadata": {
    "id": "CfnnI7Mx98Bj"
   },
   "source": [
    "Добавление столбцов происходит так же, как и в словарях. Ключом служит имя столбца, значением -- список, который мы добавляем."
   ]
  },
  {
   "cell_type": "code",
   "execution_count": null,
   "metadata": {
    "id": "7MyXRrg498Bj",
    "outputId": "3ae0a987-8e57-4b70-9841-cf96214edc47"
   },
   "outputs": [
    {
     "ename": "ValueError",
     "evalue": "Length of values does not match length of index",
     "output_type": "error",
     "traceback": [
      "\u001b[1;31m---------------------------------------------------------------------------\u001b[0m",
      "\u001b[1;31mValueError\u001b[0m                                Traceback (most recent call last)",
      "\u001b[1;32m<ipython-input-26-6ce85616aedb>\u001b[0m in \u001b[0;36m<module>\u001b[1;34m()\u001b[0m\n\u001b[1;32m----> 1\u001b[1;33m \u001b[0mdf\u001b[0m\u001b[1;33m[\u001b[0m\u001b[1;34m'country'\u001b[0m\u001b[1;33m]\u001b[0m \u001b[1;33m=\u001b[0m \u001b[1;33m[\u001b[0m\u001b[1;34m'Russia'\u001b[0m\u001b[1;33m,\u001b[0m \u001b[1;34m'Finland'\u001b[0m\u001b[1;33m,\u001b[0m \u001b[1;34m'Russia'\u001b[0m\u001b[1;33m,\u001b[0m \u001b[1;34m'Russia'\u001b[0m\u001b[1;33m,\u001b[0m \u001b[1;34m'Ukraine'\u001b[0m\u001b[1;33m]\u001b[0m\u001b[1;33m\u001b[0m\u001b[0m\n\u001b[0m\u001b[0;32m      2\u001b[0m \u001b[0mdf\u001b[0m\u001b[1;33m\u001b[0m\u001b[0m\n",
      "\u001b[1;32mC:\\ProgramData\\Anaconda3\\lib\\site-packages\\pandas\\core\\frame.py\u001b[0m in \u001b[0;36m__setitem__\u001b[1;34m(self, key, value)\u001b[0m\n\u001b[0;32m   2427\u001b[0m         \u001b[1;32melse\u001b[0m\u001b[1;33m:\u001b[0m\u001b[1;33m\u001b[0m\u001b[0m\n\u001b[0;32m   2428\u001b[0m             \u001b[1;31m# set column\u001b[0m\u001b[1;33m\u001b[0m\u001b[1;33m\u001b[0m\u001b[0m\n\u001b[1;32m-> 2429\u001b[1;33m             \u001b[0mself\u001b[0m\u001b[1;33m.\u001b[0m\u001b[0m_set_item\u001b[0m\u001b[1;33m(\u001b[0m\u001b[0mkey\u001b[0m\u001b[1;33m,\u001b[0m \u001b[0mvalue\u001b[0m\u001b[1;33m)\u001b[0m\u001b[1;33m\u001b[0m\u001b[0m\n\u001b[0m\u001b[0;32m   2430\u001b[0m \u001b[1;33m\u001b[0m\u001b[0m\n\u001b[0;32m   2431\u001b[0m     \u001b[1;32mdef\u001b[0m \u001b[0m_setitem_slice\u001b[0m\u001b[1;33m(\u001b[0m\u001b[0mself\u001b[0m\u001b[1;33m,\u001b[0m \u001b[0mkey\u001b[0m\u001b[1;33m,\u001b[0m \u001b[0mvalue\u001b[0m\u001b[1;33m)\u001b[0m\u001b[1;33m:\u001b[0m\u001b[1;33m\u001b[0m\u001b[0m\n",
      "\u001b[1;32mC:\\ProgramData\\Anaconda3\\lib\\site-packages\\pandas\\core\\frame.py\u001b[0m in \u001b[0;36m_set_item\u001b[1;34m(self, key, value)\u001b[0m\n\u001b[0;32m   2493\u001b[0m \u001b[1;33m\u001b[0m\u001b[0m\n\u001b[0;32m   2494\u001b[0m         \u001b[0mself\u001b[0m\u001b[1;33m.\u001b[0m\u001b[0m_ensure_valid_index\u001b[0m\u001b[1;33m(\u001b[0m\u001b[0mvalue\u001b[0m\u001b[1;33m)\u001b[0m\u001b[1;33m\u001b[0m\u001b[0m\n\u001b[1;32m-> 2495\u001b[1;33m         \u001b[0mvalue\u001b[0m \u001b[1;33m=\u001b[0m \u001b[0mself\u001b[0m\u001b[1;33m.\u001b[0m\u001b[0m_sanitize_column\u001b[0m\u001b[1;33m(\u001b[0m\u001b[0mkey\u001b[0m\u001b[1;33m,\u001b[0m \u001b[0mvalue\u001b[0m\u001b[1;33m)\u001b[0m\u001b[1;33m\u001b[0m\u001b[0m\n\u001b[0m\u001b[0;32m   2496\u001b[0m         \u001b[0mNDFrame\u001b[0m\u001b[1;33m.\u001b[0m\u001b[0m_set_item\u001b[0m\u001b[1;33m(\u001b[0m\u001b[0mself\u001b[0m\u001b[1;33m,\u001b[0m \u001b[0mkey\u001b[0m\u001b[1;33m,\u001b[0m \u001b[0mvalue\u001b[0m\u001b[1;33m)\u001b[0m\u001b[1;33m\u001b[0m\u001b[0m\n\u001b[0;32m   2497\u001b[0m \u001b[1;33m\u001b[0m\u001b[0m\n",
      "\u001b[1;32mC:\\ProgramData\\Anaconda3\\lib\\site-packages\\pandas\\core\\frame.py\u001b[0m in \u001b[0;36m_sanitize_column\u001b[1;34m(self, key, value, broadcast)\u001b[0m\n\u001b[0;32m   2664\u001b[0m \u001b[1;33m\u001b[0m\u001b[0m\n\u001b[0;32m   2665\u001b[0m             \u001b[1;31m# turn me into an ndarray\u001b[0m\u001b[1;33m\u001b[0m\u001b[1;33m\u001b[0m\u001b[0m\n\u001b[1;32m-> 2666\u001b[1;33m             \u001b[0mvalue\u001b[0m \u001b[1;33m=\u001b[0m \u001b[0m_sanitize_index\u001b[0m\u001b[1;33m(\u001b[0m\u001b[0mvalue\u001b[0m\u001b[1;33m,\u001b[0m \u001b[0mself\u001b[0m\u001b[1;33m.\u001b[0m\u001b[0mindex\u001b[0m\u001b[1;33m,\u001b[0m \u001b[0mcopy\u001b[0m\u001b[1;33m=\u001b[0m\u001b[1;32mFalse\u001b[0m\u001b[1;33m)\u001b[0m\u001b[1;33m\u001b[0m\u001b[0m\n\u001b[0m\u001b[0;32m   2667\u001b[0m             \u001b[1;32mif\u001b[0m \u001b[1;32mnot\u001b[0m \u001b[0misinstance\u001b[0m\u001b[1;33m(\u001b[0m\u001b[0mvalue\u001b[0m\u001b[1;33m,\u001b[0m \u001b[1;33m(\u001b[0m\u001b[0mnp\u001b[0m\u001b[1;33m.\u001b[0m\u001b[0mndarray\u001b[0m\u001b[1;33m,\u001b[0m \u001b[0mIndex\u001b[0m\u001b[1;33m)\u001b[0m\u001b[1;33m)\u001b[0m\u001b[1;33m:\u001b[0m\u001b[1;33m\u001b[0m\u001b[0m\n\u001b[0;32m   2668\u001b[0m                 \u001b[1;32mif\u001b[0m \u001b[0misinstance\u001b[0m\u001b[1;33m(\u001b[0m\u001b[0mvalue\u001b[0m\u001b[1;33m,\u001b[0m \u001b[0mlist\u001b[0m\u001b[1;33m)\u001b[0m \u001b[1;32mand\u001b[0m \u001b[0mlen\u001b[0m\u001b[1;33m(\u001b[0m\u001b[0mvalue\u001b[0m\u001b[1;33m)\u001b[0m \u001b[1;33m>\u001b[0m \u001b[1;36m0\u001b[0m\u001b[1;33m:\u001b[0m\u001b[1;33m\u001b[0m\u001b[0m\n",
      "\u001b[1;32mC:\\ProgramData\\Anaconda3\\lib\\site-packages\\pandas\\core\\series.py\u001b[0m in \u001b[0;36m_sanitize_index\u001b[1;34m(data, index, copy)\u001b[0m\n\u001b[0;32m   2877\u001b[0m \u001b[1;33m\u001b[0m\u001b[0m\n\u001b[0;32m   2878\u001b[0m     \u001b[1;32mif\u001b[0m \u001b[0mlen\u001b[0m\u001b[1;33m(\u001b[0m\u001b[0mdata\u001b[0m\u001b[1;33m)\u001b[0m \u001b[1;33m!=\u001b[0m \u001b[0mlen\u001b[0m\u001b[1;33m(\u001b[0m\u001b[0mindex\u001b[0m\u001b[1;33m)\u001b[0m\u001b[1;33m:\u001b[0m\u001b[1;33m\u001b[0m\u001b[0m\n\u001b[1;32m-> 2879\u001b[1;33m         \u001b[1;32mraise\u001b[0m \u001b[0mValueError\u001b[0m\u001b[1;33m(\u001b[0m\u001b[1;34m'Length of values does not match length of '\u001b[0m \u001b[1;34m'index'\u001b[0m\u001b[1;33m)\u001b[0m\u001b[1;33m\u001b[0m\u001b[0m\n\u001b[0m\u001b[0;32m   2880\u001b[0m \u001b[1;33m\u001b[0m\u001b[0m\n\u001b[0;32m   2881\u001b[0m     \u001b[1;32mif\u001b[0m \u001b[0misinstance\u001b[0m\u001b[1;33m(\u001b[0m\u001b[0mdata\u001b[0m\u001b[1;33m,\u001b[0m \u001b[0mPeriodIndex\u001b[0m\u001b[1;33m)\u001b[0m\u001b[1;33m:\u001b[0m\u001b[1;33m\u001b[0m\u001b[0m\n",
      "\u001b[1;31mValueError\u001b[0m: Length of values does not match length of index"
     ]
    }
   ],
   "source": [
    "df['country'] = ['Russia', 'Finland', 'Russia', 'Russia', 'Ukraine']\n",
    "df"
   ]
  },
  {
   "cell_type": "markdown",
   "metadata": {
    "id": "TjwIX0f298Bj"
   },
   "source": [
    "Добавить новый столбец можно и по-другому, используя метод **insert**. Первый параметр указывает, после какого столбца следует добавить столбец, второй параметр - это название нового столбца, а третий - добавляемый список."
   ]
  },
  {
   "cell_type": "code",
   "execution_count": null,
   "metadata": {
    "id": "f82CfGOv98Bk",
    "outputId": "f3c4c219-6b2a-487a-cbfe-faf83948086b",
    "scrolled": true
   },
   "outputs": [
    {
     "data": {
      "text/html": [
       "<div>\n",
       "<style>\n",
       "    .dataframe thead tr:only-child th {\n",
       "        text-align: right;\n",
       "    }\n",
       "\n",
       "    .dataframe thead th {\n",
       "        text-align: left;\n",
       "    }\n",
       "\n",
       "    .dataframe tbody tr th {\n",
       "        vertical-align: top;\n",
       "    }\n",
       "</style>\n",
       "<table border=\"1\" class=\"dataframe\">\n",
       "  <thead>\n",
       "    <tr style=\"text-align: right;\">\n",
       "      <th></th>\n",
       "      <th>number</th>\n",
       "      <th>city</th>\n",
       "      <th>is_capital</th>\n",
       "      <th>population</th>\n",
       "    </tr>\n",
       "  </thead>\n",
       "  <tbody>\n",
       "    <tr>\n",
       "      <th>0</th>\n",
       "      <td>1</td>\n",
       "      <td>Moscow</td>\n",
       "      <td>True</td>\n",
       "      <td>12380664.0</td>\n",
       "    </tr>\n",
       "    <tr>\n",
       "      <th>1</th>\n",
       "      <td>2</td>\n",
       "      <td>Helsinki</td>\n",
       "      <td>True</td>\n",
       "      <td>620982.0</td>\n",
       "    </tr>\n",
       "    <tr>\n",
       "      <th>2</th>\n",
       "      <td>3</td>\n",
       "      <td>Arzamas</td>\n",
       "      <td>False</td>\n",
       "      <td>NaN</td>\n",
       "    </tr>\n",
       "    <tr>\n",
       "      <th>3</th>\n",
       "      <td>NaN</td>\n",
       "      <td>Belomorsk</td>\n",
       "      <td>False</td>\n",
       "      <td>9861.0</td>\n",
       "    </tr>\n",
       "    <tr>\n",
       "      <th>4</th>\n",
       "      <td>5</td>\n",
       "      <td>Odessa</td>\n",
       "      <td>False</td>\n",
       "      <td>1010783.0</td>\n",
       "    </tr>\n",
       "  </tbody>\n",
       "</table>\n",
       "</div>"
      ],
      "text/plain": [
       "  number       city  is_capital  population\n",
       "0      1     Moscow        True  12380664.0\n",
       "1      2   Helsinki        True    620982.0\n",
       "2      3    Arzamas       False         NaN\n",
       "3    NaN  Belomorsk       False      9861.0\n",
       "4      5     Odessa       False   1010783.0"
      ]
     },
     "execution_count": 29,
     "metadata": {
      "tags": []
     },
     "output_type": "execute_result"
    }
   ],
   "source": [
    "is_capital = [True] * 2 + [False] * 3\n",
    "df.insert(2, 'is_capital', is_capital)\n",
    "df"
   ]
  },
  {
   "cell_type": "markdown",
   "metadata": {
    "id": "AygCaYmF98Bk"
   },
   "source": [
    "### Удаление данных"
   ]
  },
  {
   "cell_type": "markdown",
   "metadata": {
    "id": "M9_fjPLW98Bk"
   },
   "source": [
    "Для удаления строк и столбцов из DataFrame, как и для Series, существует метод **drop**. Как параметр ему нужно передать список названий строк/столбцов и прописать атрибут оси **axis**, равный 0 для строк и 1 для столбцов. Также у drop есть атрибут **inplace**, с которым мы уже сталкивались."
   ]
  },
  {
   "cell_type": "code",
   "execution_count": null,
   "metadata": {
    "id": "QH6U2_YA98Bk",
    "outputId": "6dc0b666-48d8-4f03-adc3-0aacd5fdf9cc"
   },
   "outputs": [
    {
     "data": {
      "text/html": [
       "<div>\n",
       "<style>\n",
       "    .dataframe thead tr:only-child th {\n",
       "        text-align: right;\n",
       "    }\n",
       "\n",
       "    .dataframe thead th {\n",
       "        text-align: left;\n",
       "    }\n",
       "\n",
       "    .dataframe tbody tr th {\n",
       "        vertical-align: top;\n",
       "    }\n",
       "</style>\n",
       "<table border=\"1\" class=\"dataframe\">\n",
       "  <thead>\n",
       "    <tr style=\"text-align: right;\">\n",
       "      <th></th>\n",
       "      <th>number</th>\n",
       "      <th>city</th>\n",
       "      <th>is_capital</th>\n",
       "      <th>population</th>\n",
       "    </tr>\n",
       "  </thead>\n",
       "  <tbody>\n",
       "    <tr>\n",
       "      <th>0</th>\n",
       "      <td>1</td>\n",
       "      <td>Moscow</td>\n",
       "      <td>True</td>\n",
       "      <td>12380664.0</td>\n",
       "    </tr>\n",
       "    <tr>\n",
       "      <th>1</th>\n",
       "      <td>2</td>\n",
       "      <td>Helsinki</td>\n",
       "      <td>True</td>\n",
       "      <td>620982.0</td>\n",
       "    </tr>\n",
       "    <tr>\n",
       "      <th>2</th>\n",
       "      <td>3</td>\n",
       "      <td>Arzamas</td>\n",
       "      <td>False</td>\n",
       "      <td>NaN</td>\n",
       "    </tr>\n",
       "    <tr>\n",
       "      <th>4</th>\n",
       "      <td>5</td>\n",
       "      <td>Odessa</td>\n",
       "      <td>False</td>\n",
       "      <td>1010783.0</td>\n",
       "    </tr>\n",
       "  </tbody>\n",
       "</table>\n",
       "</div>"
      ],
      "text/plain": [
       "  number      city  is_capital  population\n",
       "0      1    Moscow        True  12380664.0\n",
       "1      2  Helsinki        True    620982.0\n",
       "2      3   Arzamas       False         NaN\n",
       "4      5    Odessa       False   1010783.0"
      ]
     },
     "execution_count": 30,
     "metadata": {
      "tags": []
     },
     "output_type": "execute_result"
    }
   ],
   "source": [
    "df.drop([3], axis=0)"
   ]
  },
  {
   "cell_type": "code",
   "execution_count": null,
   "metadata": {
    "id": "TQqlV3yq98Bk",
    "outputId": "143c25e6-a6b5-43d3-92fa-fc85931c3417"
   },
   "outputs": [
    {
     "data": {
      "text/html": [
       "<div>\n",
       "<style scoped>\n",
       "    .dataframe tbody tr th:only-of-type {\n",
       "        vertical-align: middle;\n",
       "    }\n",
       "\n",
       "    .dataframe tbody tr th {\n",
       "        vertical-align: top;\n",
       "    }\n",
       "\n",
       "    .dataframe thead th {\n",
       "        text-align: right;\n",
       "    }\n",
       "</style>\n",
       "<table border=\"1\" class=\"dataframe\">\n",
       "  <thead>\n",
       "    <tr style=\"text-align: right;\">\n",
       "      <th></th>\n",
       "      <th>city</th>\n",
       "      <th>is_capital</th>\n",
       "      <th>population</th>\n",
       "      <th>country</th>\n",
       "    </tr>\n",
       "  </thead>\n",
       "  <tbody>\n",
       "    <tr>\n",
       "      <th>0</th>\n",
       "      <td>Moscow</td>\n",
       "      <td>True</td>\n",
       "      <td>12380664.0</td>\n",
       "      <td>Russia</td>\n",
       "    </tr>\n",
       "    <tr>\n",
       "      <th>1</th>\n",
       "      <td>Helsinki</td>\n",
       "      <td>True</td>\n",
       "      <td>620982.0</td>\n",
       "      <td>Finland</td>\n",
       "    </tr>\n",
       "    <tr>\n",
       "      <th>2</th>\n",
       "      <td>Arzamas</td>\n",
       "      <td>False</td>\n",
       "      <td>NaN</td>\n",
       "      <td>Russia</td>\n",
       "    </tr>\n",
       "    <tr>\n",
       "      <th>3</th>\n",
       "      <td>Belomorsk</td>\n",
       "      <td>False</td>\n",
       "      <td>9861.0</td>\n",
       "      <td>Russia</td>\n",
       "    </tr>\n",
       "    <tr>\n",
       "      <th>4</th>\n",
       "      <td>Odessa</td>\n",
       "      <td>False</td>\n",
       "      <td>1010783.0</td>\n",
       "      <td>Ukraine</td>\n",
       "    </tr>\n",
       "  </tbody>\n",
       "</table>\n",
       "</div>"
      ],
      "text/plain": [
       "        city  is_capital  population  country\n",
       "0     Moscow        True  12380664.0   Russia\n",
       "1   Helsinki        True    620982.0  Finland\n",
       "2    Arzamas       False         NaN   Russia\n",
       "3  Belomorsk       False      9861.0   Russia\n",
       "4     Odessa       False   1010783.0  Ukraine"
      ]
     },
     "execution_count": 23,
     "metadata": {
      "tags": []
     },
     "output_type": "execute_result"
    }
   ],
   "source": [
    "df.drop(['number'], axis=1, inplace=True)\n",
    "df"
   ]
  },
  {
   "cell_type": "markdown",
   "metadata": {
    "id": "bJKlPCDA98Bl"
   },
   "source": [
    "### Объединение таблиц"
   ]
  },
  {
   "cell_type": "markdown",
   "metadata": {
    "id": "MFigYSEk98Bl"
   },
   "source": [
    "Для того, чтобы объединить две таблицы, существуют функции **merge** и **concat**."
   ]
  },
  {
   "cell_type": "code",
   "execution_count": null,
   "metadata": {
    "id": "bmbaSaao98Bl",
    "outputId": "b1a27ff6-2d37-4cf3-caf1-4eabebc66bc6"
   },
   "outputs": [
    {
     "data": {
      "text/html": [
       "<div>\n",
       "<style>\n",
       "    .dataframe thead tr:only-child th {\n",
       "        text-align: right;\n",
       "    }\n",
       "\n",
       "    .dataframe thead th {\n",
       "        text-align: left;\n",
       "    }\n",
       "\n",
       "    .dataframe tbody tr th {\n",
       "        vertical-align: top;\n",
       "    }\n",
       "</style>\n",
       "<table border=\"1\" class=\"dataframe\">\n",
       "  <thead>\n",
       "    <tr style=\"text-align: right;\">\n",
       "      <th></th>\n",
       "      <th>number</th>\n",
       "      <th>city</th>\n",
       "      <th>population</th>\n",
       "      <th>mayor</th>\n",
       "    </tr>\n",
       "  </thead>\n",
       "  <tbody>\n",
       "    <tr>\n",
       "      <th>0</th>\n",
       "      <td>1</td>\n",
       "      <td>Moscow</td>\n",
       "      <td>NaN</td>\n",
       "      <td>Sobyanin</td>\n",
       "    </tr>\n",
       "    <tr>\n",
       "      <th>1</th>\n",
       "      <td>2</td>\n",
       "      <td>Helsinki</td>\n",
       "      <td>620982.0</td>\n",
       "      <td>Vapaavuori</td>\n",
       "    </tr>\n",
       "    <tr>\n",
       "      <th>2</th>\n",
       "      <td>10</td>\n",
       "      <td>Yaroslavl</td>\n",
       "      <td>608079.0</td>\n",
       "      <td>Slepcov</td>\n",
       "    </tr>\n",
       "  </tbody>\n",
       "</table>\n",
       "</div>"
      ],
      "text/plain": [
       "   number       city  population       mayor\n",
       "0       1     Moscow         NaN    Sobyanin\n",
       "1       2   Helsinki    620982.0  Vapaavuori\n",
       "2      10  Yaroslavl    608079.0     Slepcov"
      ]
     },
     "execution_count": 31,
     "metadata": {
      "tags": []
     },
     "output_type": "execute_result"
    }
   ],
   "source": [
    "df3 = pd.read_csv(\"df3.txt\", header=0, sep='\\t')\n",
    "df3"
   ]
  },
  {
   "cell_type": "markdown",
   "metadata": {
    "id": "_ukjKs4Z98Bl"
   },
   "source": [
    "В качестве параметров функции **merge** подаются две таблицы, для которых можно указать список тех столбцов, которые должны оказаться в новой таблице. Атрибут **on** нужен для обозначения списка столбцов-ключей. Также существует атрибут **how**, который определяет, каким образом будут сливаться таблицы. Ниже представлены его возможные значения и соответственно строки, которые окажутся в новой таблице:\n",
    "* 'inner': значение строки в столбце-ключе встречается в обеих таблицах. \n",
    "* 'outer': значение строки в столбце-ключе встречается хотя бы в одной таблице. \n",
    "* 'left': значение строки в столбце-ключе встречается в левой таблице.\n",
    "* 'right': значение строки в столбце-ключе встречается в правой таблице."
   ]
  },
  {
   "cell_type": "code",
   "execution_count": null,
   "metadata": {
    "id": "Tgy8D_K598Bm",
    "outputId": "72132a3e-28fd-43b5-d207-e4051d753bc6"
   },
   "outputs": [
    {
     "data": {
      "text/html": [
       "<div>\n",
       "<style>\n",
       "    .dataframe thead tr:only-child th {\n",
       "        text-align: right;\n",
       "    }\n",
       "\n",
       "    .dataframe thead th {\n",
       "        text-align: left;\n",
       "    }\n",
       "\n",
       "    .dataframe tbody tr th {\n",
       "        vertical-align: top;\n",
       "    }\n",
       "</style>\n",
       "<table border=\"1\" class=\"dataframe\">\n",
       "  <thead>\n",
       "    <tr style=\"text-align: right;\">\n",
       "      <th></th>\n",
       "      <th>number</th>\n",
       "      <th>city</th>\n",
       "      <th>is_capital</th>\n",
       "      <th>population</th>\n",
       "      <th>mayor</th>\n",
       "    </tr>\n",
       "  </thead>\n",
       "  <tbody>\n",
       "    <tr>\n",
       "      <th>0</th>\n",
       "      <td>1</td>\n",
       "      <td>Moscow</td>\n",
       "      <td>True</td>\n",
       "      <td>12380664.0</td>\n",
       "      <td>Sobyanin</td>\n",
       "    </tr>\n",
       "    <tr>\n",
       "      <th>1</th>\n",
       "      <td>2</td>\n",
       "      <td>Helsinki</td>\n",
       "      <td>True</td>\n",
       "      <td>620982.0</td>\n",
       "      <td>Vapaavuori</td>\n",
       "    </tr>\n",
       "  </tbody>\n",
       "</table>\n",
       "</div>"
      ],
      "text/plain": [
       "  number      city  is_capital  population       mayor\n",
       "0      1    Moscow        True  12380664.0    Sobyanin\n",
       "1      2  Helsinki        True    620982.0  Vapaavuori"
      ]
     },
     "execution_count": 39,
     "metadata": {
      "tags": []
     },
     "output_type": "execute_result"
    }
   ],
   "source": [
    "pd.merge(df, df3[['mayor', 'city']], how='inner', on='city') # Возьмем все столбцы из первой таблицы,\n",
    "                                                            # добавим столбец с мэрами и городами из второй. \n",
    "                                                            # Пересечем таблицы по названию городов"
   ]
  },
  {
   "cell_type": "code",
   "execution_count": null,
   "metadata": {
    "id": "U_BlGXg-98Bm",
    "outputId": "b9261626-163f-444f-d967-1c3c735cae81"
   },
   "outputs": [
    {
     "data": {
      "text/html": [
       "<div>\n",
       "<style scoped>\n",
       "    .dataframe tbody tr th:only-of-type {\n",
       "        vertical-align: middle;\n",
       "    }\n",
       "\n",
       "    .dataframe tbody tr th {\n",
       "        vertical-align: top;\n",
       "    }\n",
       "\n",
       "    .dataframe thead th {\n",
       "        text-align: right;\n",
       "    }\n",
       "</style>\n",
       "<table border=\"1\" class=\"dataframe\">\n",
       "  <thead>\n",
       "    <tr style=\"text-align: right;\">\n",
       "      <th></th>\n",
       "      <th>city</th>\n",
       "      <th>is_capital</th>\n",
       "      <th>population_x</th>\n",
       "      <th>country</th>\n",
       "      <th>number</th>\n",
       "      <th>population_y</th>\n",
       "      <th>mayor</th>\n",
       "    </tr>\n",
       "  </thead>\n",
       "  <tbody>\n",
       "    <tr>\n",
       "      <th>0</th>\n",
       "      <td>Moscow</td>\n",
       "      <td>True</td>\n",
       "      <td>12380664.0</td>\n",
       "      <td>Russia</td>\n",
       "      <td>1.0</td>\n",
       "      <td>NaN</td>\n",
       "      <td>Sobyanin</td>\n",
       "    </tr>\n",
       "    <tr>\n",
       "      <th>1</th>\n",
       "      <td>Helsinki</td>\n",
       "      <td>True</td>\n",
       "      <td>620982.0</td>\n",
       "      <td>Finland</td>\n",
       "      <td>2.0</td>\n",
       "      <td>620982.0</td>\n",
       "      <td>Vapaavuori</td>\n",
       "    </tr>\n",
       "    <tr>\n",
       "      <th>2</th>\n",
       "      <td>Arzamas</td>\n",
       "      <td>False</td>\n",
       "      <td>NaN</td>\n",
       "      <td>Russia</td>\n",
       "      <td>NaN</td>\n",
       "      <td>NaN</td>\n",
       "      <td>NaN</td>\n",
       "    </tr>\n",
       "    <tr>\n",
       "      <th>3</th>\n",
       "      <td>Belomorsk</td>\n",
       "      <td>False</td>\n",
       "      <td>9861.0</td>\n",
       "      <td>Russia</td>\n",
       "      <td>NaN</td>\n",
       "      <td>NaN</td>\n",
       "      <td>NaN</td>\n",
       "    </tr>\n",
       "    <tr>\n",
       "      <th>4</th>\n",
       "      <td>Odessa</td>\n",
       "      <td>False</td>\n",
       "      <td>1010783.0</td>\n",
       "      <td>Ukraine</td>\n",
       "      <td>NaN</td>\n",
       "      <td>NaN</td>\n",
       "      <td>NaN</td>\n",
       "    </tr>\n",
       "  </tbody>\n",
       "</table>\n",
       "</div>"
      ],
      "text/plain": [
       "        city  is_capital  population_x  country  number  population_y  \\\n",
       "0     Moscow        True    12380664.0   Russia     1.0           NaN   \n",
       "1   Helsinki        True      620982.0  Finland     2.0      620982.0   \n",
       "2    Arzamas       False           NaN   Russia     NaN           NaN   \n",
       "3  Belomorsk       False        9861.0   Russia     NaN           NaN   \n",
       "4     Odessa       False     1010783.0  Ukraine     NaN           NaN   \n",
       "\n",
       "        mayor  \n",
       "0    Sobyanin  \n",
       "1  Vapaavuori  \n",
       "2         NaN  \n",
       "3         NaN  \n",
       "4         NaN  "
      ]
     },
     "execution_count": 26,
     "metadata": {
      "tags": []
     },
     "output_type": "execute_result"
    }
   ],
   "source": [
    "pd.merge(df, df3, how='left', on='city') # Cделаем то же самое, но из второй таблицы будут добавлены все столбцы.\n",
    "                                        # Названия городов возьмем из первой таблицы"
   ]
  },
  {
   "cell_type": "markdown",
   "metadata": {
    "id": "KngfocCd98Bm"
   },
   "source": [
    "Функция **concat** принимает массив из объектов, которые следует объединить, и имеет атрибут **axis** - по какой из осей нужно соединять таблицы. "
   ]
  },
  {
   "cell_type": "code",
   "execution_count": null,
   "metadata": {
    "id": "gMR9DQg998Bm",
    "outputId": "d4000e4e-8a31-4706-d0cf-44975d46f2cb",
    "scrolled": true
   },
   "outputs": [
    {
     "data": {
      "text/html": [
       "<div>\n",
       "<style>\n",
       "    .dataframe thead tr:only-child th {\n",
       "        text-align: right;\n",
       "    }\n",
       "\n",
       "    .dataframe thead th {\n",
       "        text-align: left;\n",
       "    }\n",
       "\n",
       "    .dataframe tbody tr th {\n",
       "        vertical-align: top;\n",
       "    }\n",
       "</style>\n",
       "<table border=\"1\" class=\"dataframe\">\n",
       "  <thead>\n",
       "    <tr style=\"text-align: right;\">\n",
       "      <th></th>\n",
       "      <th>city</th>\n",
       "      <th>is_capital</th>\n",
       "      <th>mayor</th>\n",
       "      <th>number</th>\n",
       "      <th>population</th>\n",
       "    </tr>\n",
       "  </thead>\n",
       "  <tbody>\n",
       "    <tr>\n",
       "      <th>0</th>\n",
       "      <td>Moscow</td>\n",
       "      <td>True</td>\n",
       "      <td>NaN</td>\n",
       "      <td>1</td>\n",
       "      <td>12380664.0</td>\n",
       "    </tr>\n",
       "    <tr>\n",
       "      <th>1</th>\n",
       "      <td>Helsinki</td>\n",
       "      <td>True</td>\n",
       "      <td>NaN</td>\n",
       "      <td>2</td>\n",
       "      <td>620982.0</td>\n",
       "    </tr>\n",
       "    <tr>\n",
       "      <th>2</th>\n",
       "      <td>Arzamas</td>\n",
       "      <td>False</td>\n",
       "      <td>NaN</td>\n",
       "      <td>3</td>\n",
       "      <td>NaN</td>\n",
       "    </tr>\n",
       "    <tr>\n",
       "      <th>3</th>\n",
       "      <td>Belomorsk</td>\n",
       "      <td>False</td>\n",
       "      <td>NaN</td>\n",
       "      <td>NaN</td>\n",
       "      <td>9861.0</td>\n",
       "    </tr>\n",
       "    <tr>\n",
       "      <th>4</th>\n",
       "      <td>Odessa</td>\n",
       "      <td>False</td>\n",
       "      <td>NaN</td>\n",
       "      <td>5</td>\n",
       "      <td>1010783.0</td>\n",
       "    </tr>\n",
       "    <tr>\n",
       "      <th>0</th>\n",
       "      <td>Moscow</td>\n",
       "      <td>NaN</td>\n",
       "      <td>Sobyanin</td>\n",
       "      <td>1</td>\n",
       "      <td>NaN</td>\n",
       "    </tr>\n",
       "    <tr>\n",
       "      <th>1</th>\n",
       "      <td>Helsinki</td>\n",
       "      <td>NaN</td>\n",
       "      <td>Vapaavuori</td>\n",
       "      <td>2</td>\n",
       "      <td>620982.0</td>\n",
       "    </tr>\n",
       "    <tr>\n",
       "      <th>2</th>\n",
       "      <td>Yaroslavl</td>\n",
       "      <td>NaN</td>\n",
       "      <td>Slepcov</td>\n",
       "      <td>10</td>\n",
       "      <td>608079.0</td>\n",
       "    </tr>\n",
       "  </tbody>\n",
       "</table>\n",
       "</div>"
      ],
      "text/plain": [
       "        city is_capital       mayor number  population\n",
       "0     Moscow       True         NaN      1  12380664.0\n",
       "1   Helsinki       True         NaN      2    620982.0\n",
       "2    Arzamas      False         NaN      3         NaN\n",
       "3  Belomorsk      False         NaN    NaN      9861.0\n",
       "4     Odessa      False         NaN      5   1010783.0\n",
       "0     Moscow        NaN    Sobyanin      1         NaN\n",
       "1   Helsinki        NaN  Vapaavuori      2    620982.0\n",
       "2  Yaroslavl        NaN     Slepcov     10    608079.0"
      ]
     },
     "execution_count": 40,
     "metadata": {
      "tags": []
     },
     "output_type": "execute_result"
    }
   ],
   "source": [
    "pd.concat([df, df3], axis=0)"
   ]
  },
  {
   "cell_type": "code",
   "execution_count": null,
   "metadata": {
    "id": "0Qx3JR7E98Bn",
    "outputId": "72bd3ad5-252b-4a48-c3c9-d859220184cb"
   },
   "outputs": [
    {
     "data": {
      "text/html": [
       "<div>\n",
       "<style scoped>\n",
       "    .dataframe tbody tr th:only-of-type {\n",
       "        vertical-align: middle;\n",
       "    }\n",
       "\n",
       "    .dataframe tbody tr th {\n",
       "        vertical-align: top;\n",
       "    }\n",
       "\n",
       "    .dataframe thead th {\n",
       "        text-align: right;\n",
       "    }\n",
       "</style>\n",
       "<table border=\"1\" class=\"dataframe\">\n",
       "  <thead>\n",
       "    <tr style=\"text-align: right;\">\n",
       "      <th></th>\n",
       "      <th>city</th>\n",
       "      <th>is_capital</th>\n",
       "      <th>population</th>\n",
       "      <th>country</th>\n",
       "      <th>mayor</th>\n",
       "    </tr>\n",
       "  </thead>\n",
       "  <tbody>\n",
       "    <tr>\n",
       "      <th>0</th>\n",
       "      <td>Moscow</td>\n",
       "      <td>True</td>\n",
       "      <td>12380664.0</td>\n",
       "      <td>Russia</td>\n",
       "      <td>Sobyanin</td>\n",
       "    </tr>\n",
       "    <tr>\n",
       "      <th>1</th>\n",
       "      <td>Helsinki</td>\n",
       "      <td>True</td>\n",
       "      <td>620982.0</td>\n",
       "      <td>Finland</td>\n",
       "      <td>Vapaavuori</td>\n",
       "    </tr>\n",
       "    <tr>\n",
       "      <th>2</th>\n",
       "      <td>Arzamas</td>\n",
       "      <td>False</td>\n",
       "      <td>NaN</td>\n",
       "      <td>Russia</td>\n",
       "      <td>Slepcov</td>\n",
       "    </tr>\n",
       "    <tr>\n",
       "      <th>3</th>\n",
       "      <td>Belomorsk</td>\n",
       "      <td>False</td>\n",
       "      <td>9861.0</td>\n",
       "      <td>Russia</td>\n",
       "      <td>NaN</td>\n",
       "    </tr>\n",
       "    <tr>\n",
       "      <th>4</th>\n",
       "      <td>Odessa</td>\n",
       "      <td>False</td>\n",
       "      <td>1010783.0</td>\n",
       "      <td>Ukraine</td>\n",
       "      <td>NaN</td>\n",
       "    </tr>\n",
       "  </tbody>\n",
       "</table>\n",
       "</div>"
      ],
      "text/plain": [
       "        city  is_capital  population  country       mayor\n",
       "0     Moscow        True  12380664.0   Russia    Sobyanin\n",
       "1   Helsinki        True    620982.0  Finland  Vapaavuori\n",
       "2    Arzamas       False         NaN   Russia     Slepcov\n",
       "3  Belomorsk       False      9861.0   Russia         NaN\n",
       "4     Odessa       False   1010783.0  Ukraine         NaN"
      ]
     },
     "execution_count": 28,
     "metadata": {
      "tags": []
     },
     "output_type": "execute_result"
    }
   ],
   "source": [
    "pd.concat([df, df3[['mayor']]], axis=1)"
   ]
  },
  {
   "cell_type": "markdown",
   "metadata": {
    "id": "OG6anigZ98Bn"
   },
   "source": [
    "Она полезна в том случае, когда в таблицах полное соответствие строк (столбцов) по данной оси. Обратите внимание, что в качестве мэра Арзамаса в табличке выше указан Слепцов (мэр Ярославля). "
   ]
  },
  {
   "cell_type": "markdown",
   "metadata": {
    "collapsed": true,
    "id": "0asvzclA98Bn"
   },
   "source": [
    "### Индексация"
   ]
  },
  {
   "cell_type": "markdown",
   "metadata": {
    "id": "jKEWSYW_98Bn"
   },
   "source": [
    "Чтобы воспользоваться столбцом как объектом типа Series, нужно обратиться к нему по имени через точку:"
   ]
  },
  {
   "cell_type": "code",
   "execution_count": null,
   "metadata": {
    "id": "tSwD3JBe98Bn",
    "outputId": "ff3ee2e0-0886-4da2-8073-c098f7ad7a5b"
   },
   "outputs": [
    {
     "data": {
      "text/plain": [
       "0       Moscow\n",
       "1     Helsinki\n",
       "2      Arzamas\n",
       "3    Belomorsk\n",
       "4       Odessa\n",
       "Name: city, dtype: object"
      ]
     },
     "execution_count": 29,
     "metadata": {
      "tags": []
     },
     "output_type": "execute_result"
    }
   ],
   "source": [
    "df.city"
   ]
  },
  {
   "cell_type": "markdown",
   "metadata": {
    "id": "pNnayGQW98Bo"
   },
   "source": [
    "Также можно представить его как отдельный DataFrame с помощью двойных квадратных скобочек:"
   ]
  },
  {
   "cell_type": "code",
   "execution_count": null,
   "metadata": {
    "id": "anYoVdjd98Bo",
    "outputId": "c9077bc7-5800-4c1b-b6f5-77a9ba08b5cf"
   },
   "outputs": [
    {
     "data": {
      "text/html": [
       "<div>\n",
       "<style scoped>\n",
       "    .dataframe tbody tr th:only-of-type {\n",
       "        vertical-align: middle;\n",
       "    }\n",
       "\n",
       "    .dataframe tbody tr th {\n",
       "        vertical-align: top;\n",
       "    }\n",
       "\n",
       "    .dataframe thead th {\n",
       "        text-align: right;\n",
       "    }\n",
       "</style>\n",
       "<table border=\"1\" class=\"dataframe\">\n",
       "  <thead>\n",
       "    <tr style=\"text-align: right;\">\n",
       "      <th></th>\n",
       "      <th>city</th>\n",
       "    </tr>\n",
       "  </thead>\n",
       "  <tbody>\n",
       "    <tr>\n",
       "      <th>0</th>\n",
       "      <td>Moscow</td>\n",
       "    </tr>\n",
       "    <tr>\n",
       "      <th>1</th>\n",
       "      <td>Helsinki</td>\n",
       "    </tr>\n",
       "    <tr>\n",
       "      <th>2</th>\n",
       "      <td>Arzamas</td>\n",
       "    </tr>\n",
       "    <tr>\n",
       "      <th>3</th>\n",
       "      <td>Belomorsk</td>\n",
       "    </tr>\n",
       "    <tr>\n",
       "      <th>4</th>\n",
       "      <td>Odessa</td>\n",
       "    </tr>\n",
       "  </tbody>\n",
       "</table>\n",
       "</div>"
      ],
      "text/plain": [
       "        city\n",
       "0     Moscow\n",
       "1   Helsinki\n",
       "2    Arzamas\n",
       "3  Belomorsk\n",
       "4     Odessa"
      ]
     },
     "execution_count": 30,
     "metadata": {
      "tags": []
     },
     "output_type": "execute_result"
    }
   ],
   "source": [
    "df[['city']]"
   ]
  },
  {
   "cell_type": "markdown",
   "metadata": {
    "id": "0tB4P-BB98Bo"
   },
   "source": [
    "Таким образом можно вывести DataFrame с произвольным количеством столбцов, просто перечислив их имена в списке:"
   ]
  },
  {
   "cell_type": "code",
   "execution_count": null,
   "metadata": {
    "id": "ouVaboQS98Bo",
    "outputId": "de6f6fd4-50dd-4907-c9c9-469796667d80"
   },
   "outputs": [
    {
     "data": {
      "text/html": [
       "<div>\n",
       "<style scoped>\n",
       "    .dataframe tbody tr th:only-of-type {\n",
       "        vertical-align: middle;\n",
       "    }\n",
       "\n",
       "    .dataframe tbody tr th {\n",
       "        vertical-align: top;\n",
       "    }\n",
       "\n",
       "    .dataframe thead th {\n",
       "        text-align: right;\n",
       "    }\n",
       "</style>\n",
       "<table border=\"1\" class=\"dataframe\">\n",
       "  <thead>\n",
       "    <tr style=\"text-align: right;\">\n",
       "      <th></th>\n",
       "      <th>city</th>\n",
       "      <th>country</th>\n",
       "      <th>is_capital</th>\n",
       "    </tr>\n",
       "  </thead>\n",
       "  <tbody>\n",
       "    <tr>\n",
       "      <th>0</th>\n",
       "      <td>Moscow</td>\n",
       "      <td>Russia</td>\n",
       "      <td>True</td>\n",
       "    </tr>\n",
       "    <tr>\n",
       "      <th>1</th>\n",
       "      <td>Helsinki</td>\n",
       "      <td>Finland</td>\n",
       "      <td>True</td>\n",
       "    </tr>\n",
       "    <tr>\n",
       "      <th>2</th>\n",
       "      <td>Arzamas</td>\n",
       "      <td>Russia</td>\n",
       "      <td>False</td>\n",
       "    </tr>\n",
       "    <tr>\n",
       "      <th>3</th>\n",
       "      <td>Belomorsk</td>\n",
       "      <td>Russia</td>\n",
       "      <td>False</td>\n",
       "    </tr>\n",
       "    <tr>\n",
       "      <th>4</th>\n",
       "      <td>Odessa</td>\n",
       "      <td>Ukraine</td>\n",
       "      <td>False</td>\n",
       "    </tr>\n",
       "  </tbody>\n",
       "</table>\n",
       "</div>"
      ],
      "text/plain": [
       "        city  country  is_capital\n",
       "0     Moscow   Russia        True\n",
       "1   Helsinki  Finland        True\n",
       "2    Arzamas   Russia       False\n",
       "3  Belomorsk   Russia       False\n",
       "4     Odessa  Ukraine       False"
      ]
     },
     "execution_count": 31,
     "metadata": {
      "tags": []
     },
     "output_type": "execute_result"
    }
   ],
   "source": [
    "df[['city', 'country', 'is_capital']]"
   ]
  },
  {
   "cell_type": "markdown",
   "metadata": {
    "id": "18EZmBYU98Bo"
   },
   "source": [
    "Со строками работать не труднее. К ним нельзя обратиться по индексу, но можно брать срезы, как в обычных списках."
   ]
  },
  {
   "cell_type": "code",
   "execution_count": null,
   "metadata": {
    "id": "_oAqOhRz98Bo",
    "outputId": "2bff6d79-078a-4e80-c845-4b641d41644e"
   },
   "outputs": [
    {
     "data": {
      "text/html": [
       "<div>\n",
       "<style scoped>\n",
       "    .dataframe tbody tr th:only-of-type {\n",
       "        vertical-align: middle;\n",
       "    }\n",
       "\n",
       "    .dataframe tbody tr th {\n",
       "        vertical-align: top;\n",
       "    }\n",
       "\n",
       "    .dataframe thead th {\n",
       "        text-align: right;\n",
       "    }\n",
       "</style>\n",
       "<table border=\"1\" class=\"dataframe\">\n",
       "  <thead>\n",
       "    <tr style=\"text-align: right;\">\n",
       "      <th></th>\n",
       "      <th>city</th>\n",
       "      <th>is_capital</th>\n",
       "      <th>population</th>\n",
       "      <th>country</th>\n",
       "    </tr>\n",
       "  </thead>\n",
       "  <tbody>\n",
       "    <tr>\n",
       "      <th>2</th>\n",
       "      <td>Arzamas</td>\n",
       "      <td>False</td>\n",
       "      <td>NaN</td>\n",
       "      <td>Russia</td>\n",
       "    </tr>\n",
       "    <tr>\n",
       "      <th>3</th>\n",
       "      <td>Belomorsk</td>\n",
       "      <td>False</td>\n",
       "      <td>9861.0</td>\n",
       "      <td>Russia</td>\n",
       "    </tr>\n",
       "  </tbody>\n",
       "</table>\n",
       "</div>"
      ],
      "text/plain": [
       "        city  is_capital  population country\n",
       "2    Arzamas       False         NaN  Russia\n",
       "3  Belomorsk       False      9861.0  Russia"
      ]
     },
     "execution_count": 32,
     "metadata": {
      "tags": []
     },
     "output_type": "execute_result"
    }
   ],
   "source": [
    "df[2:4]"
   ]
  },
  {
   "cell_type": "markdown",
   "metadata": {
    "id": "Y88qLWIM98Bp"
   },
   "source": [
    "Для получения первых строк также существует метод **head**:"
   ]
  },
  {
   "cell_type": "code",
   "execution_count": null,
   "metadata": {
    "id": "eOyOOkMX98Bp",
    "outputId": "a06342a4-38b0-4144-af29-2653d198d394"
   },
   "outputs": [
    {
     "data": {
      "text/html": [
       "<div>\n",
       "<style scoped>\n",
       "    .dataframe tbody tr th:only-of-type {\n",
       "        vertical-align: middle;\n",
       "    }\n",
       "\n",
       "    .dataframe tbody tr th {\n",
       "        vertical-align: top;\n",
       "    }\n",
       "\n",
       "    .dataframe thead th {\n",
       "        text-align: right;\n",
       "    }\n",
       "</style>\n",
       "<table border=\"1\" class=\"dataframe\">\n",
       "  <thead>\n",
       "    <tr style=\"text-align: right;\">\n",
       "      <th></th>\n",
       "      <th>city</th>\n",
       "      <th>is_capital</th>\n",
       "      <th>population</th>\n",
       "      <th>country</th>\n",
       "    </tr>\n",
       "  </thead>\n",
       "  <tbody>\n",
       "    <tr>\n",
       "      <th>0</th>\n",
       "      <td>Moscow</td>\n",
       "      <td>True</td>\n",
       "      <td>12380664.0</td>\n",
       "      <td>Russia</td>\n",
       "    </tr>\n",
       "    <tr>\n",
       "      <th>1</th>\n",
       "      <td>Helsinki</td>\n",
       "      <td>True</td>\n",
       "      <td>620982.0</td>\n",
       "      <td>Finland</td>\n",
       "    </tr>\n",
       "  </tbody>\n",
       "</table>\n",
       "</div>"
      ],
      "text/plain": [
       "       city  is_capital  population  country\n",
       "0    Moscow        True  12380664.0   Russia\n",
       "1  Helsinki        True    620982.0  Finland"
      ]
     },
     "execution_count": 33,
     "metadata": {
      "tags": []
     },
     "output_type": "execute_result"
    }
   ],
   "source": [
    "df.head(2)"
   ]
  },
  {
   "cell_type": "markdown",
   "metadata": {
    "id": "6ZEr_Cbm98Bp"
   },
   "source": [
    "Чтобы выбрать какой-то произвольный список строк и столбцов, можно использовать один из двух методов: **loc** или **iloc**.\n",
    "\n",
    "Команда **loc** позволяет индексировать DataFrame с помощью обращения к названию осей. При этом *учитывается и начало, и конец среза*. "
   ]
  },
  {
   "cell_type": "code",
   "execution_count": null,
   "metadata": {
    "id": "dxez-Gi898Bq",
    "outputId": "d46c0976-230f-480c-a71f-dbfc4cec5077"
   },
   "outputs": [
    {
     "data": {
      "text/html": [
       "<div>\n",
       "<style scoped>\n",
       "    .dataframe tbody tr th:only-of-type {\n",
       "        vertical-align: middle;\n",
       "    }\n",
       "\n",
       "    .dataframe tbody tr th {\n",
       "        vertical-align: top;\n",
       "    }\n",
       "\n",
       "    .dataframe thead th {\n",
       "        text-align: right;\n",
       "    }\n",
       "</style>\n",
       "<table border=\"1\" class=\"dataframe\">\n",
       "  <thead>\n",
       "    <tr style=\"text-align: right;\">\n",
       "      <th></th>\n",
       "      <th>city</th>\n",
       "      <th>is_capital</th>\n",
       "      <th>population</th>\n",
       "    </tr>\n",
       "  </thead>\n",
       "  <tbody>\n",
       "    <tr>\n",
       "      <th>1</th>\n",
       "      <td>Helsinki</td>\n",
       "      <td>True</td>\n",
       "      <td>620982.0</td>\n",
       "    </tr>\n",
       "    <tr>\n",
       "      <th>2</th>\n",
       "      <td>Arzamas</td>\n",
       "      <td>False</td>\n",
       "      <td>NaN</td>\n",
       "    </tr>\n",
       "    <tr>\n",
       "      <th>3</th>\n",
       "      <td>Belomorsk</td>\n",
       "      <td>False</td>\n",
       "      <td>9861.0</td>\n",
       "    </tr>\n",
       "  </tbody>\n",
       "</table>\n",
       "</div>"
      ],
      "text/plain": [
       "        city  is_capital  population\n",
       "1   Helsinki        True    620982.0\n",
       "2    Arzamas       False         NaN\n",
       "3  Belomorsk       False      9861.0"
      ]
     },
     "execution_count": 34,
     "metadata": {
      "tags": []
     },
     "output_type": "execute_result"
    }
   ],
   "source": [
    "df.loc[1:3, 'city':'population']"
   ]
  },
  {
   "cell_type": "markdown",
   "metadata": {
    "id": "Me4mA_Iq98Bq"
   },
   "source": [
    "Команда **iloc** принимает индексы начала и конца среза, и *конец среза не учитывается*. "
   ]
  },
  {
   "cell_type": "code",
   "execution_count": null,
   "metadata": {
    "id": "tB4PbKFg98Bq",
    "outputId": "a786070e-4d70-41b3-dd85-48356d03c02a"
   },
   "outputs": [
    {
     "data": {
      "text/html": [
       "<div>\n",
       "<style scoped>\n",
       "    .dataframe tbody tr th:only-of-type {\n",
       "        vertical-align: middle;\n",
       "    }\n",
       "\n",
       "    .dataframe tbody tr th {\n",
       "        vertical-align: top;\n",
       "    }\n",
       "\n",
       "    .dataframe thead th {\n",
       "        text-align: right;\n",
       "    }\n",
       "</style>\n",
       "<table border=\"1\" class=\"dataframe\">\n",
       "  <thead>\n",
       "    <tr style=\"text-align: right;\">\n",
       "      <th></th>\n",
       "      <th>city</th>\n",
       "      <th>is_capital</th>\n",
       "    </tr>\n",
       "  </thead>\n",
       "  <tbody>\n",
       "    <tr>\n",
       "      <th>1</th>\n",
       "      <td>Helsinki</td>\n",
       "      <td>True</td>\n",
       "    </tr>\n",
       "    <tr>\n",
       "      <th>2</th>\n",
       "      <td>Arzamas</td>\n",
       "      <td>False</td>\n",
       "    </tr>\n",
       "  </tbody>\n",
       "</table>\n",
       "</div>"
      ],
      "text/plain": [
       "       city  is_capital\n",
       "1  Helsinki        True\n",
       "2   Arzamas       False"
      ]
     },
     "execution_count": 35,
     "metadata": {
      "tags": []
     },
     "output_type": "execute_result"
    }
   ],
   "source": [
    "df.iloc[1:3, 0:2]"
   ]
  },
  {
   "cell_type": "markdown",
   "metadata": {
    "id": "3MOi--ve98Br"
   },
   "source": [
    "Этим методам можно подавать на вход не только срезы, но и списки нужных названий или индексов:"
   ]
  },
  {
   "cell_type": "code",
   "execution_count": null,
   "metadata": {
    "id": "BVUKgUeK98Br",
    "outputId": "271baeb8-6a52-4b42-f8c1-def34661fab7",
    "scrolled": true
   },
   "outputs": [
    {
     "data": {
      "text/html": [
       "<div>\n",
       "<style scoped>\n",
       "    .dataframe tbody tr th:only-of-type {\n",
       "        vertical-align: middle;\n",
       "    }\n",
       "\n",
       "    .dataframe tbody tr th {\n",
       "        vertical-align: top;\n",
       "    }\n",
       "\n",
       "    .dataframe thead th {\n",
       "        text-align: right;\n",
       "    }\n",
       "</style>\n",
       "<table border=\"1\" class=\"dataframe\">\n",
       "  <thead>\n",
       "    <tr style=\"text-align: right;\">\n",
       "      <th></th>\n",
       "      <th>city</th>\n",
       "      <th>is_capital</th>\n",
       "      <th>country</th>\n",
       "    </tr>\n",
       "  </thead>\n",
       "  <tbody>\n",
       "    <tr>\n",
       "      <th>0</th>\n",
       "      <td>Moscow</td>\n",
       "      <td>True</td>\n",
       "      <td>Russia</td>\n",
       "    </tr>\n",
       "    <tr>\n",
       "      <th>2</th>\n",
       "      <td>Arzamas</td>\n",
       "      <td>False</td>\n",
       "      <td>Russia</td>\n",
       "    </tr>\n",
       "    <tr>\n",
       "      <th>4</th>\n",
       "      <td>Odessa</td>\n",
       "      <td>False</td>\n",
       "      <td>Ukraine</td>\n",
       "    </tr>\n",
       "  </tbody>\n",
       "</table>\n",
       "</div>"
      ],
      "text/plain": [
       "      city  is_capital  country\n",
       "0   Moscow        True   Russia\n",
       "2  Arzamas       False   Russia\n",
       "4   Odessa       False  Ukraine"
      ]
     },
     "execution_count": 36,
     "metadata": {
      "tags": []
     },
     "output_type": "execute_result"
    }
   ],
   "source": [
    "df.loc[[0, 2, 4], ['city', 'is_capital', 'country']]"
   ]
  },
  {
   "cell_type": "markdown",
   "metadata": {
    "id": "XavWYfI-98Br"
   },
   "source": [
    "### Применение функций к ячейкам, столбцам и строкам"
   ]
  },
  {
   "cell_type": "markdown",
   "metadata": {
    "id": "qL8Bhsy998Br"
   },
   "source": [
    "Pandas позволяет применять функции к столбцу с помощью метода **apply**:"
   ]
  },
  {
   "cell_type": "code",
   "execution_count": null,
   "metadata": {
    "id": "6ijMeRgz98Bs",
    "outputId": "a24467c5-5a6b-498f-b50a-c6c16fa36118"
   },
   "outputs": [
    {
     "data": {
      "text/html": [
       "<div>\n",
       "<style>\n",
       "    .dataframe thead tr:only-child th {\n",
       "        text-align: right;\n",
       "    }\n",
       "\n",
       "    .dataframe thead th {\n",
       "        text-align: left;\n",
       "    }\n",
       "\n",
       "    .dataframe tbody tr th {\n",
       "        vertical-align: top;\n",
       "    }\n",
       "</style>\n",
       "<table border=\"1\" class=\"dataframe\">\n",
       "  <thead>\n",
       "    <tr style=\"text-align: right;\">\n",
       "      <th></th>\n",
       "      <th>population</th>\n",
       "    </tr>\n",
       "  </thead>\n",
       "  <tbody>\n",
       "    <tr>\n",
       "      <th>0</th>\n",
       "      <td>6190332.0</td>\n",
       "    </tr>\n",
       "    <tr>\n",
       "      <th>1</th>\n",
       "      <td>310491.0</td>\n",
       "    </tr>\n",
       "    <tr>\n",
       "      <th>2</th>\n",
       "      <td>NaN</td>\n",
       "    </tr>\n",
       "    <tr>\n",
       "      <th>3</th>\n",
       "      <td>4930.0</td>\n",
       "    </tr>\n",
       "    <tr>\n",
       "      <th>4</th>\n",
       "      <td>505391.0</td>\n",
       "    </tr>\n",
       "  </tbody>\n",
       "</table>\n",
       "</div>"
      ],
      "text/plain": [
       "   population\n",
       "0   6190332.0\n",
       "1    310491.0\n",
       "2         NaN\n",
       "3      4930.0\n",
       "4    505391.0"
      ]
     },
     "execution_count": 41,
     "metadata": {
      "tags": []
     },
     "output_type": "execute_result"
    }
   ],
   "source": [
    "df[['population']].apply(lambda x : x // 2) # Уменьшим численность населения в два раза"
   ]
  },
  {
   "cell_type": "code",
   "execution_count": null,
   "metadata": {
    "id": "yPdbypvM98Bs",
    "outputId": "1b708dc8-33af-4536-80af-e76e1cb86a2d"
   },
   "outputs": [
    {
     "data": {
      "text/plain": [
       "city               Odessa\n",
       "is_capital           True\n",
       "population    1.23807e+07\n",
       "country           Ukraine\n",
       "dtype: object"
      ]
     },
     "execution_count": 38,
     "metadata": {
      "tags": []
     },
     "output_type": "execute_result"
    }
   ],
   "source": [
    "df.apply(max) # Найдем максимум для каждого столбца"
   ]
  },
  {
   "cell_type": "markdown",
   "metadata": {
    "id": "BKYfkcyT98Bs"
   },
   "source": [
    "То же самое можно делать и со строками, указав атрибут **axis**=1.\n",
    "\n",
    "Метод **map** можно использовать, чтобы применить функцию к каждой ячейке столбца. Например, с помощью map и словаря можно изменить значения:"
   ]
  },
  {
   "cell_type": "code",
   "execution_count": null,
   "metadata": {
    "id": "GGZgEebA98Bs",
    "outputId": "2e9515ea-d08f-4992-ca01-63a78bc4e7fa"
   },
   "outputs": [
    {
     "name": "stdout",
     "output_type": "stream",
     "text": [
      "0     True\n",
      "1     True\n",
      "2    False\n",
      "3    False\n",
      "4    False\n",
      "Name: is_capital, dtype: bool\n"
     ]
    },
    {
     "data": {
      "text/plain": [
       "0    Yes\n",
       "1    Yes\n",
       "2     No\n",
       "3     No\n",
       "4     No\n",
       "Name: is_capital, dtype: object"
      ]
     },
     "execution_count": 39,
     "metadata": {
      "tags": []
     },
     "output_type": "execute_result"
    }
   ],
   "source": [
    "print(df.is_capital)\n",
    "d = {True : 'Yes', False : 'No'}\n",
    "df['is_capital'].map(d) # Изменим булевы значения на соответствующие строки в столбце is_capital"
   ]
  },
  {
   "cell_type": "markdown",
   "metadata": {
    "id": "FIf6heCk98Bt"
   },
   "source": [
    "Заполнить пустые ячейки может метод **fillna**:"
   ]
  },
  {
   "cell_type": "code",
   "execution_count": null,
   "metadata": {
    "id": "MS3z7-N598Bt",
    "outputId": "98d0040a-6529-4916-9eea-9dd5c1b41033"
   },
   "outputs": [
    {
     "data": {
      "text/html": [
       "<div>\n",
       "<style scoped>\n",
       "    .dataframe tbody tr th:only-of-type {\n",
       "        vertical-align: middle;\n",
       "    }\n",
       "\n",
       "    .dataframe tbody tr th {\n",
       "        vertical-align: top;\n",
       "    }\n",
       "\n",
       "    .dataframe thead th {\n",
       "        text-align: right;\n",
       "    }\n",
       "</style>\n",
       "<table border=\"1\" class=\"dataframe\">\n",
       "  <thead>\n",
       "    <tr style=\"text-align: right;\">\n",
       "      <th></th>\n",
       "      <th>city</th>\n",
       "      <th>is_capital</th>\n",
       "      <th>population</th>\n",
       "      <th>country</th>\n",
       "    </tr>\n",
       "  </thead>\n",
       "  <tbody>\n",
       "    <tr>\n",
       "      <th>0</th>\n",
       "      <td>Moscow</td>\n",
       "      <td>True</td>\n",
       "      <td>12380664.0</td>\n",
       "      <td>Russia</td>\n",
       "    </tr>\n",
       "    <tr>\n",
       "      <th>1</th>\n",
       "      <td>Helsinki</td>\n",
       "      <td>True</td>\n",
       "      <td>620982.0</td>\n",
       "      <td>Finland</td>\n",
       "    </tr>\n",
       "    <tr>\n",
       "      <th>2</th>\n",
       "      <td>Arzamas</td>\n",
       "      <td>False</td>\n",
       "      <td>0.0</td>\n",
       "      <td>Russia</td>\n",
       "    </tr>\n",
       "    <tr>\n",
       "      <th>3</th>\n",
       "      <td>Belomorsk</td>\n",
       "      <td>False</td>\n",
       "      <td>9861.0</td>\n",
       "      <td>Russia</td>\n",
       "    </tr>\n",
       "    <tr>\n",
       "      <th>4</th>\n",
       "      <td>Odessa</td>\n",
       "      <td>False</td>\n",
       "      <td>1010783.0</td>\n",
       "      <td>Ukraine</td>\n",
       "    </tr>\n",
       "  </tbody>\n",
       "</table>\n",
       "</div>"
      ],
      "text/plain": [
       "        city  is_capital  population  country\n",
       "0     Moscow        True  12380664.0   Russia\n",
       "1   Helsinki        True    620982.0  Finland\n",
       "2    Arzamas       False         0.0   Russia\n",
       "3  Belomorsk       False      9861.0   Russia\n",
       "4     Odessa       False   1010783.0  Ukraine"
      ]
     },
     "execution_count": 40,
     "metadata": {
      "tags": []
     },
     "output_type": "execute_result"
    }
   ],
   "source": [
    "df.fillna(0)"
   ]
  },
  {
   "cell_type": "markdown",
   "metadata": {
    "id": "w3fp_OP298Bt"
   },
   "source": [
    "Изменить тип колонки можно с помощью метода **astype**:"
   ]
  },
  {
   "cell_type": "code",
   "execution_count": null,
   "metadata": {
    "id": "toEb6MwE98Bt",
    "outputId": "543b9dbe-90ab-4e7f-f7e5-43c507f408ea",
    "scrolled": true
   },
   "outputs": [
    {
     "data": {
      "text/plain": [
       "0    1\n",
       "1    1\n",
       "2    0\n",
       "3    0\n",
       "4    0\n",
       "Name: is_capital, dtype: int32"
      ]
     },
     "execution_count": 41,
     "metadata": {
      "tags": []
     },
     "output_type": "execute_result"
    }
   ],
   "source": [
    "df['is_capital'].astype('int')"
   ]
  },
  {
   "cell_type": "markdown",
   "metadata": {
    "id": "OE8UoFJD98Bt"
   },
   "source": [
    "### Сортировки"
   ]
  },
  {
   "cell_type": "markdown",
   "metadata": {
    "id": "Gm6-cAEi98Bu"
   },
   "source": [
    "Отсортировать таблицу по значениям столбца или строки можно, использовав метод **sort_values**. У него есть параметр **ascending**, равный True для сортировки по возрастанию и False - по убыванию, и атрибут **axis**, обозначающий ось."
   ]
  },
  {
   "cell_type": "code",
   "execution_count": null,
   "metadata": {
    "id": "RIV87Px298Bu",
    "outputId": "35fedbaf-f05c-43b9-ca80-109a5a446ded"
   },
   "outputs": [
    {
     "data": {
      "text/html": [
       "<div>\n",
       "<style scoped>\n",
       "    .dataframe tbody tr th:only-of-type {\n",
       "        vertical-align: middle;\n",
       "    }\n",
       "\n",
       "    .dataframe tbody tr th {\n",
       "        vertical-align: top;\n",
       "    }\n",
       "\n",
       "    .dataframe thead th {\n",
       "        text-align: right;\n",
       "    }\n",
       "</style>\n",
       "<table border=\"1\" class=\"dataframe\">\n",
       "  <thead>\n",
       "    <tr style=\"text-align: right;\">\n",
       "      <th></th>\n",
       "      <th>city</th>\n",
       "      <th>is_capital</th>\n",
       "      <th>population</th>\n",
       "      <th>country</th>\n",
       "    </tr>\n",
       "  </thead>\n",
       "  <tbody>\n",
       "    <tr>\n",
       "      <th>0</th>\n",
       "      <td>Moscow</td>\n",
       "      <td>True</td>\n",
       "      <td>12380664.0</td>\n",
       "      <td>Russia</td>\n",
       "    </tr>\n",
       "    <tr>\n",
       "      <th>4</th>\n",
       "      <td>Odessa</td>\n",
       "      <td>False</td>\n",
       "      <td>1010783.0</td>\n",
       "      <td>Ukraine</td>\n",
       "    </tr>\n",
       "    <tr>\n",
       "      <th>1</th>\n",
       "      <td>Helsinki</td>\n",
       "      <td>True</td>\n",
       "      <td>620982.0</td>\n",
       "      <td>Finland</td>\n",
       "    </tr>\n",
       "    <tr>\n",
       "      <th>3</th>\n",
       "      <td>Belomorsk</td>\n",
       "      <td>False</td>\n",
       "      <td>9861.0</td>\n",
       "      <td>Russia</td>\n",
       "    </tr>\n",
       "    <tr>\n",
       "      <th>2</th>\n",
       "      <td>Arzamas</td>\n",
       "      <td>False</td>\n",
       "      <td>NaN</td>\n",
       "      <td>Russia</td>\n",
       "    </tr>\n",
       "  </tbody>\n",
       "</table>\n",
       "</div>"
      ],
      "text/plain": [
       "        city  is_capital  population  country\n",
       "0     Moscow        True  12380664.0   Russia\n",
       "4     Odessa       False   1010783.0  Ukraine\n",
       "1   Helsinki        True    620982.0  Finland\n",
       "3  Belomorsk       False      9861.0   Russia\n",
       "2    Arzamas       False         NaN   Russia"
      ]
     },
     "execution_count": 42,
     "metadata": {
      "tags": []
     },
     "output_type": "execute_result"
    }
   ],
   "source": [
    "df.sort_values('population', ascending=False)"
   ]
  },
  {
   "cell_type": "markdown",
   "metadata": {
    "id": "qlxqsTdO98Bu"
   },
   "source": [
    "### Фильтрация и селекция"
   ]
  },
  {
   "cell_type": "markdown",
   "metadata": {
    "id": "jkAfVCTc98Bu"
   },
   "source": [
    "Pandas позволяет фильтровать данные в таблице с помощью логических операторов (&, |, ==, != и так далее). Для этого следует выбрать нужную часть таблицы и применить к ней логическое выражение. Например, вычислим количество городов, население которых превышает 10 000."
   ]
  },
  {
   "cell_type": "code",
   "execution_count": null,
   "metadata": {
    "id": "xZILukwe98Bu",
    "outputId": "da68fed7-a618-42ad-fa30-725474a2ead5"
   },
   "outputs": [
    {
     "name": "stdout",
     "output_type": "stream",
     "text": [
      "3\n"
     ]
    }
   ],
   "source": [
    "print(len(df[df.population > 1e4])) # Выбираем столбец с населением, сравниваем с 10000,\n",
    "                                    # выбираем строки, где это правда, и считаем их количество"
   ]
  },
  {
   "cell_type": "markdown",
   "metadata": {
    "id": "Fur2Km6G98Bu"
   },
   "source": [
    "Или, например, в данной таблице можно отфильтровать данные, оставив информацию только про города, не являющиеся столицами. Для этого нужно в квадратных скобках написать соответствующее логическое выражение. "
   ]
  },
  {
   "cell_type": "code",
   "execution_count": null,
   "metadata": {
    "id": "EzrxEkXA98Bv",
    "outputId": "12b3f0cd-11de-42a9-be16-a3fd4dafa03a"
   },
   "outputs": [
    {
     "data": {
      "text/html": [
       "<div>\n",
       "<style scoped>\n",
       "    .dataframe tbody tr th:only-of-type {\n",
       "        vertical-align: middle;\n",
       "    }\n",
       "\n",
       "    .dataframe tbody tr th {\n",
       "        vertical-align: top;\n",
       "    }\n",
       "\n",
       "    .dataframe thead th {\n",
       "        text-align: right;\n",
       "    }\n",
       "</style>\n",
       "<table border=\"1\" class=\"dataframe\">\n",
       "  <thead>\n",
       "    <tr style=\"text-align: right;\">\n",
       "      <th></th>\n",
       "      <th>city</th>\n",
       "      <th>is_capital</th>\n",
       "      <th>population</th>\n",
       "      <th>country</th>\n",
       "    </tr>\n",
       "  </thead>\n",
       "  <tbody>\n",
       "    <tr>\n",
       "      <th>2</th>\n",
       "      <td>Arzamas</td>\n",
       "      <td>False</td>\n",
       "      <td>NaN</td>\n",
       "      <td>Russia</td>\n",
       "    </tr>\n",
       "    <tr>\n",
       "      <th>3</th>\n",
       "      <td>Belomorsk</td>\n",
       "      <td>False</td>\n",
       "      <td>9861.0</td>\n",
       "      <td>Russia</td>\n",
       "    </tr>\n",
       "    <tr>\n",
       "      <th>4</th>\n",
       "      <td>Odessa</td>\n",
       "      <td>False</td>\n",
       "      <td>1010783.0</td>\n",
       "      <td>Ukraine</td>\n",
       "    </tr>\n",
       "  </tbody>\n",
       "</table>\n",
       "</div>"
      ],
      "text/plain": [
       "        city  is_capital  population  country\n",
       "2    Arzamas       False         NaN   Russia\n",
       "3  Belomorsk       False      9861.0   Russia\n",
       "4     Odessa       False   1010783.0  Ukraine"
      ]
     },
     "execution_count": 44,
     "metadata": {
      "tags": []
     },
     "output_type": "execute_result"
    }
   ],
   "source": [
    "df[df.is_capital == False]"
   ]
  },
  {
   "cell_type": "markdown",
   "metadata": {
    "id": "fJaJl6fl98Bv"
   },
   "source": [
    "Выражение можно усложнить, выбрав, например, все российские города, не являющиеся столицами."
   ]
  },
  {
   "cell_type": "code",
   "execution_count": null,
   "metadata": {
    "id": "3cMHGnt798Bv",
    "outputId": "aabc34d6-2128-41dd-cba6-d7eee8e5b0e3"
   },
   "outputs": [
    {
     "data": {
      "text/html": [
       "<div>\n",
       "<style scoped>\n",
       "    .dataframe tbody tr th:only-of-type {\n",
       "        vertical-align: middle;\n",
       "    }\n",
       "\n",
       "    .dataframe tbody tr th {\n",
       "        vertical-align: top;\n",
       "    }\n",
       "\n",
       "    .dataframe thead th {\n",
       "        text-align: right;\n",
       "    }\n",
       "</style>\n",
       "<table border=\"1\" class=\"dataframe\">\n",
       "  <thead>\n",
       "    <tr style=\"text-align: right;\">\n",
       "      <th></th>\n",
       "      <th>city</th>\n",
       "      <th>is_capital</th>\n",
       "      <th>population</th>\n",
       "      <th>country</th>\n",
       "    </tr>\n",
       "  </thead>\n",
       "  <tbody>\n",
       "    <tr>\n",
       "      <th>2</th>\n",
       "      <td>Arzamas</td>\n",
       "      <td>False</td>\n",
       "      <td>NaN</td>\n",
       "      <td>Russia</td>\n",
       "    </tr>\n",
       "    <tr>\n",
       "      <th>3</th>\n",
       "      <td>Belomorsk</td>\n",
       "      <td>False</td>\n",
       "      <td>9861.0</td>\n",
       "      <td>Russia</td>\n",
       "    </tr>\n",
       "  </tbody>\n",
       "</table>\n",
       "</div>"
      ],
      "text/plain": [
       "        city  is_capital  population country\n",
       "2    Arzamas       False         NaN  Russia\n",
       "3  Belomorsk       False      9861.0  Russia"
      ]
     },
     "execution_count": 45,
     "metadata": {
      "tags": []
     },
     "output_type": "execute_result"
    }
   ],
   "source": [
    "df[(df.is_capital == False) & (df.country == 'Russia')]"
   ]
  },
  {
   "cell_type": "markdown",
   "metadata": {
    "id": "313OdftJ98Bv"
   },
   "source": [
    "### Группировка"
   ]
  },
  {
   "cell_type": "markdown",
   "metadata": {
    "id": "XyRVwL_198Bv"
   },
   "source": [
    "Pandas позволяет группировать данные с помощью метода **groupby**, принимающего на вход имя признака и возвращающая  объект **DataFrameGroupBy**, в котором хранятся сведения о группировке данных."
   ]
  },
  {
   "cell_type": "code",
   "execution_count": null,
   "metadata": {
    "id": "5vhNubl998Bw",
    "outputId": "d6541cb2-f075-4ca4-b39c-be9ea88f1f63"
   },
   "outputs": [
    {
     "data": {
      "text/plain": [
       "<pandas.core.groupby.groupby.DataFrameGroupBy object at 0x00000000190D3080>"
      ]
     },
     "execution_count": 46,
     "metadata": {
      "tags": []
     },
     "output_type": "execute_result"
    }
   ],
   "source": [
    "df.groupby('country')"
   ]
  },
  {
   "cell_type": "markdown",
   "metadata": {
    "id": "mBOo66ls98Bw"
   },
   "source": [
    "В этом объекте можно выбрать интересующие столбцы по названию (но можно и не выбирать) и применить ряд функций, позволяющих проанализировать сведения о каждой группе. Вот часть таких функций:\n",
    "\n",
    "![alternate text](https://pp.userapi.com/c841632/v841632172/150fd/DtGqi1-LYig.jpg)"
   ]
  },
  {
   "cell_type": "markdown",
   "metadata": {
    "id": "nK_hHgGp98Bw"
   },
   "source": [
    "Также можно посмотреть количество различных значений поля, по которому происходит группировка, с помощью функции **size**:"
   ]
  },
  {
   "cell_type": "code",
   "execution_count": null,
   "metadata": {
    "id": "RFfxkif498Bw",
    "outputId": "e870cdfe-012e-428b-a918-7f5163ecf38c"
   },
   "outputs": [
    {
     "data": {
      "text/plain": [
       "country\n",
       "Finland    1\n",
       "Russia     3\n",
       "Ukraine    1\n",
       "dtype: int64"
      ]
     },
     "execution_count": 47,
     "metadata": {
      "tags": []
     },
     "output_type": "execute_result"
    }
   ],
   "source": [
    "df.groupby('country').size()"
   ]
  },
  {
   "cell_type": "markdown",
   "metadata": {
    "id": "IVl2vD0O98Bw"
   },
   "source": [
    "Как пример, рассчитаем суммарное население в каждой стране, представленной в таблице:"
   ]
  },
  {
   "cell_type": "code",
   "execution_count": null,
   "metadata": {
    "id": "C7UIbxby98Bx",
    "outputId": "8975066f-401a-40fe-aa7c-fc47aa2985dc"
   },
   "outputs": [
    {
     "data": {
      "text/plain": [
       "country\n",
       "Finland      620982.0\n",
       "Russia     12390525.0\n",
       "Ukraine     1010783.0\n",
       "Name: population, dtype: float64"
      ]
     },
     "execution_count": 48,
     "metadata": {
      "tags": []
     },
     "output_type": "execute_result"
    }
   ],
   "source": [
    "df.groupby('country')['population'].sum()"
   ]
  },
  {
   "cell_type": "markdown",
   "metadata": {
    "id": "AV1rxM1R98Bx"
   },
   "source": [
    "Функция **get_group** дает возможность посмотреть все ячейки конкретной группы по набору столбцов."
   ]
  },
  {
   "cell_type": "code",
   "execution_count": null,
   "metadata": {
    "id": "P4HSmmQK98Bx",
    "outputId": "6b80e369-a48b-4608-cdc7-9e8696b654fb"
   },
   "outputs": [
    {
     "data": {
      "text/html": [
       "<div>\n",
       "<style scoped>\n",
       "    .dataframe tbody tr th:only-of-type {\n",
       "        vertical-align: middle;\n",
       "    }\n",
       "\n",
       "    .dataframe tbody tr th {\n",
       "        vertical-align: top;\n",
       "    }\n",
       "\n",
       "    .dataframe thead th {\n",
       "        text-align: right;\n",
       "    }\n",
       "</style>\n",
       "<table border=\"1\" class=\"dataframe\">\n",
       "  <thead>\n",
       "    <tr style=\"text-align: right;\">\n",
       "      <th></th>\n",
       "      <th>city</th>\n",
       "      <th>is_capital</th>\n",
       "    </tr>\n",
       "  </thead>\n",
       "  <tbody>\n",
       "    <tr>\n",
       "      <th>0</th>\n",
       "      <td>Moscow</td>\n",
       "      <td>True</td>\n",
       "    </tr>\n",
       "    <tr>\n",
       "      <th>2</th>\n",
       "      <td>Arzamas</td>\n",
       "      <td>False</td>\n",
       "    </tr>\n",
       "    <tr>\n",
       "      <th>3</th>\n",
       "      <td>Belomorsk</td>\n",
       "      <td>False</td>\n",
       "    </tr>\n",
       "  </tbody>\n",
       "</table>\n",
       "</div>"
      ],
      "text/plain": [
       "        city  is_capital\n",
       "0     Moscow        True\n",
       "2    Arzamas       False\n",
       "3  Belomorsk       False"
      ]
     },
     "execution_count": 49,
     "metadata": {
      "tags": []
     },
     "output_type": "execute_result"
    }
   ],
   "source": [
    "df.groupby(['country'])[['city', 'is_capital']].get_group('Russia')"
   ]
  },
  {
   "cell_type": "markdown",
   "metadata": {
    "id": "SV8n3Vmk98Bx"
   },
   "source": [
    "### Сводные таблицы"
   ]
  },
  {
   "cell_type": "markdown",
   "metadata": {
    "collapsed": true,
    "id": "zbuD_LUX98Bx"
   },
   "source": [
    "Сводные таблицы помогают обобщать численные данные. Они могут автоматически сортировать и подсчитывать данные, а также вычислять общее или среднее значение в одной таблице. \n",
    "\n",
    "В Pandas для этого существует функция **pivot_table**, принимающая на вход список столбцов, по которым будет считаться агрегированные значения, и список столбцов, которые будут строками итоговой таблицы. Атрибут **aggfunc** задает функцию, которая используется для агрегации, а **fill_value** - параметр для замены пустых значений на 0."
   ]
  },
  {
   "cell_type": "code",
   "execution_count": 33,
   "metadata": {
    "id": "V87Rsdm198By",
    "outputId": "24cb409d-51bd-4b77-a1fd-935d73036b04"
   },
   "outputs": [
    {
     "ename": "ValueError",
     "evalue": "Length of values (5) does not match length of index (3)",
     "output_type": "error",
     "traceback": [
      "\u001b[0;31m---------------------------------------------------------------------------\u001b[0m",
      "\u001b[0;31mValueError\u001b[0m                                Traceback (most recent call last)",
      "\u001b[0;32m/var/folders/mp/fq0hr_bj2z3850p7x62kfrjm0000gn/T/ipykernel_15920/2013257484.py\u001b[0m in \u001b[0;36m<module>\u001b[0;34m\u001b[0m\n\u001b[0;32m----> 1\u001b[0;31m \u001b[0mdf\u001b[0m\u001b[0;34m[\u001b[0m\u001b[0;34m'living_wage'\u001b[0m\u001b[0;34m]\u001b[0m \u001b[0;34m=\u001b[0m \u001b[0;34m[\u001b[0m\u001b[0;36m15307\u001b[0m\u001b[0;34m,\u001b[0m \u001b[0;36m84925\u001b[0m\u001b[0;34m,\u001b[0m \u001b[0;36m8082\u001b[0m\u001b[0;34m,\u001b[0m \u001b[0;36m13730\u001b[0m\u001b[0;34m,\u001b[0m \u001b[0;36m3958\u001b[0m\u001b[0;34m]\u001b[0m \u001b[0;31m# Добавим к таблице еще один столбец\u001b[0m\u001b[0;34m\u001b[0m\u001b[0;34m\u001b[0m\u001b[0m\n\u001b[0m\u001b[1;32m      2\u001b[0m \u001b[0mdf\u001b[0m\u001b[0;34m\u001b[0m\u001b[0;34m\u001b[0m\u001b[0m\n",
      "\u001b[0;32m/opt/homebrew/lib/python3.9/site-packages/pandas/core/frame.py\u001b[0m in \u001b[0;36m__setitem__\u001b[0;34m(self, key, value)\u001b[0m\n\u001b[1;32m   3610\u001b[0m         \u001b[0;32melse\u001b[0m\u001b[0;34m:\u001b[0m\u001b[0;34m\u001b[0m\u001b[0;34m\u001b[0m\u001b[0m\n\u001b[1;32m   3611\u001b[0m             \u001b[0;31m# set column\u001b[0m\u001b[0;34m\u001b[0m\u001b[0;34m\u001b[0m\u001b[0m\n\u001b[0;32m-> 3612\u001b[0;31m             \u001b[0mself\u001b[0m\u001b[0;34m.\u001b[0m\u001b[0m_set_item\u001b[0m\u001b[0;34m(\u001b[0m\u001b[0mkey\u001b[0m\u001b[0;34m,\u001b[0m \u001b[0mvalue\u001b[0m\u001b[0;34m)\u001b[0m\u001b[0;34m\u001b[0m\u001b[0;34m\u001b[0m\u001b[0m\n\u001b[0m\u001b[1;32m   3613\u001b[0m \u001b[0;34m\u001b[0m\u001b[0m\n\u001b[1;32m   3614\u001b[0m     \u001b[0;32mdef\u001b[0m \u001b[0m_setitem_slice\u001b[0m\u001b[0;34m(\u001b[0m\u001b[0mself\u001b[0m\u001b[0;34m,\u001b[0m \u001b[0mkey\u001b[0m\u001b[0;34m:\u001b[0m \u001b[0mslice\u001b[0m\u001b[0;34m,\u001b[0m \u001b[0mvalue\u001b[0m\u001b[0;34m)\u001b[0m\u001b[0;34m:\u001b[0m\u001b[0;34m\u001b[0m\u001b[0;34m\u001b[0m\u001b[0m\n",
      "\u001b[0;32m/opt/homebrew/lib/python3.9/site-packages/pandas/core/frame.py\u001b[0m in \u001b[0;36m_set_item\u001b[0;34m(self, key, value)\u001b[0m\n\u001b[1;32m   3782\u001b[0m         \u001b[0mensure\u001b[0m \u001b[0mhomogeneity\u001b[0m\u001b[0;34m.\u001b[0m\u001b[0;34m\u001b[0m\u001b[0;34m\u001b[0m\u001b[0m\n\u001b[1;32m   3783\u001b[0m         \"\"\"\n\u001b[0;32m-> 3784\u001b[0;31m         \u001b[0mvalue\u001b[0m \u001b[0;34m=\u001b[0m \u001b[0mself\u001b[0m\u001b[0;34m.\u001b[0m\u001b[0m_sanitize_column\u001b[0m\u001b[0;34m(\u001b[0m\u001b[0mvalue\u001b[0m\u001b[0;34m)\u001b[0m\u001b[0;34m\u001b[0m\u001b[0;34m\u001b[0m\u001b[0m\n\u001b[0m\u001b[1;32m   3785\u001b[0m \u001b[0;34m\u001b[0m\u001b[0m\n\u001b[1;32m   3786\u001b[0m         if (\n",
      "\u001b[0;32m/opt/homebrew/lib/python3.9/site-packages/pandas/core/frame.py\u001b[0m in \u001b[0;36m_sanitize_column\u001b[0;34m(self, value)\u001b[0m\n\u001b[1;32m   4507\u001b[0m \u001b[0;34m\u001b[0m\u001b[0m\n\u001b[1;32m   4508\u001b[0m         \u001b[0;32mif\u001b[0m \u001b[0mis_list_like\u001b[0m\u001b[0;34m(\u001b[0m\u001b[0mvalue\u001b[0m\u001b[0;34m)\u001b[0m\u001b[0;34m:\u001b[0m\u001b[0;34m\u001b[0m\u001b[0;34m\u001b[0m\u001b[0m\n\u001b[0;32m-> 4509\u001b[0;31m             \u001b[0mcom\u001b[0m\u001b[0;34m.\u001b[0m\u001b[0mrequire_length_match\u001b[0m\u001b[0;34m(\u001b[0m\u001b[0mvalue\u001b[0m\u001b[0;34m,\u001b[0m \u001b[0mself\u001b[0m\u001b[0;34m.\u001b[0m\u001b[0mindex\u001b[0m\u001b[0;34m)\u001b[0m\u001b[0;34m\u001b[0m\u001b[0;34m\u001b[0m\u001b[0m\n\u001b[0m\u001b[1;32m   4510\u001b[0m         \u001b[0;32mreturn\u001b[0m \u001b[0msanitize_array\u001b[0m\u001b[0;34m(\u001b[0m\u001b[0mvalue\u001b[0m\u001b[0;34m,\u001b[0m \u001b[0mself\u001b[0m\u001b[0;34m.\u001b[0m\u001b[0mindex\u001b[0m\u001b[0;34m,\u001b[0m \u001b[0mcopy\u001b[0m\u001b[0;34m=\u001b[0m\u001b[0;32mTrue\u001b[0m\u001b[0;34m,\u001b[0m \u001b[0mallow_2d\u001b[0m\u001b[0;34m=\u001b[0m\u001b[0;32mTrue\u001b[0m\u001b[0;34m)\u001b[0m\u001b[0;34m\u001b[0m\u001b[0;34m\u001b[0m\u001b[0m\n\u001b[1;32m   4511\u001b[0m \u001b[0;34m\u001b[0m\u001b[0m\n",
      "\u001b[0;32m/opt/homebrew/lib/python3.9/site-packages/pandas/core/common.py\u001b[0m in \u001b[0;36mrequire_length_match\u001b[0;34m(data, index)\u001b[0m\n\u001b[1;32m    529\u001b[0m     \"\"\"\n\u001b[1;32m    530\u001b[0m     \u001b[0;32mif\u001b[0m \u001b[0mlen\u001b[0m\u001b[0;34m(\u001b[0m\u001b[0mdata\u001b[0m\u001b[0;34m)\u001b[0m \u001b[0;34m!=\u001b[0m \u001b[0mlen\u001b[0m\u001b[0;34m(\u001b[0m\u001b[0mindex\u001b[0m\u001b[0;34m)\u001b[0m\u001b[0;34m:\u001b[0m\u001b[0;34m\u001b[0m\u001b[0;34m\u001b[0m\u001b[0m\n\u001b[0;32m--> 531\u001b[0;31m         raise ValueError(\n\u001b[0m\u001b[1;32m    532\u001b[0m             \u001b[0;34m\"Length of values \"\u001b[0m\u001b[0;34m\u001b[0m\u001b[0;34m\u001b[0m\u001b[0m\n\u001b[1;32m    533\u001b[0m             \u001b[0;34mf\"({len(data)}) \"\u001b[0m\u001b[0;34m\u001b[0m\u001b[0;34m\u001b[0m\u001b[0m\n",
      "\u001b[0;31mValueError\u001b[0m: Length of values (5) does not match length of index (3)"
     ]
    }
   ],
   "source": [
    "df['living_wage'] = [15307, 84925, 8082, 13730, 3958] # Добавим к таблице еще один столбец\n",
    "df"
   ]
  },
  {
   "cell_type": "code",
   "execution_count": 32,
   "metadata": {
    "id": "80PxUWHT98By",
    "outputId": "9c75d43e-3829-45b5-c01b-21eace1f2827",
    "scrolled": true
   },
   "outputs": [
    {
     "ename": "KeyError",
     "evalue": "'population'",
     "output_type": "error",
     "traceback": [
      "\u001b[0;31m---------------------------------------------------------------------------\u001b[0m",
      "\u001b[0;31mKeyError\u001b[0m                                  Traceback (most recent call last)",
      "\u001b[0;32m/var/folders/mp/fq0hr_bj2z3850p7x62kfrjm0000gn/T/ipykernel_15920/3038565209.py\u001b[0m in \u001b[0;36m<module>\u001b[0;34m\u001b[0m\n\u001b[0;32m----> 1\u001b[0;31m \u001b[0mdf\u001b[0m\u001b[0;34m.\u001b[0m\u001b[0mpivot_table\u001b[0m\u001b[0;34m(\u001b[0m\u001b[0;34m[\u001b[0m\u001b[0;34m'population'\u001b[0m\u001b[0;34m,\u001b[0m \u001b[0;34m'living_wage'\u001b[0m\u001b[0;34m]\u001b[0m\u001b[0;34m,\u001b[0m \u001b[0;34m[\u001b[0m\u001b[0;34m'country'\u001b[0m\u001b[0;34m]\u001b[0m\u001b[0;34m,\u001b[0m \u001b[0maggfunc\u001b[0m\u001b[0;34m=\u001b[0m\u001b[0;34m'mean'\u001b[0m\u001b[0;34m,\u001b[0m \u001b[0mfill_value\u001b[0m\u001b[0;34m=\u001b[0m\u001b[0;36m0\u001b[0m\u001b[0;34m)\u001b[0m \u001b[0;31m#Посчитаем средние значения\u001b[0m\u001b[0;34m\u001b[0m\u001b[0;34m\u001b[0m\u001b[0m\n\u001b[0m\u001b[1;32m      2\u001b[0m \u001b[0;31m# прожиточного минимума и численности населения для разных стран, все пустые ячейки заполним 0\u001b[0m\u001b[0;34m\u001b[0m\u001b[0;34m\u001b[0m\u001b[0m\n",
      "\u001b[0;32m/opt/homebrew/lib/python3.9/site-packages/pandas/core/frame.py\u001b[0m in \u001b[0;36mpivot_table\u001b[0;34m(self, values, index, columns, aggfunc, fill_value, margins, dropna, margins_name, observed, sort)\u001b[0m\n\u001b[1;32m   7949\u001b[0m         \u001b[0;32mfrom\u001b[0m \u001b[0mpandas\u001b[0m\u001b[0;34m.\u001b[0m\u001b[0mcore\u001b[0m\u001b[0;34m.\u001b[0m\u001b[0mreshape\u001b[0m\u001b[0;34m.\u001b[0m\u001b[0mpivot\u001b[0m \u001b[0;32mimport\u001b[0m \u001b[0mpivot_table\u001b[0m\u001b[0;34m\u001b[0m\u001b[0;34m\u001b[0m\u001b[0m\n\u001b[1;32m   7950\u001b[0m \u001b[0;34m\u001b[0m\u001b[0m\n\u001b[0;32m-> 7951\u001b[0;31m         return pivot_table(\n\u001b[0m\u001b[1;32m   7952\u001b[0m             \u001b[0mself\u001b[0m\u001b[0;34m,\u001b[0m\u001b[0;34m\u001b[0m\u001b[0;34m\u001b[0m\u001b[0m\n\u001b[1;32m   7953\u001b[0m             \u001b[0mvalues\u001b[0m\u001b[0;34m=\u001b[0m\u001b[0mvalues\u001b[0m\u001b[0;34m,\u001b[0m\u001b[0;34m\u001b[0m\u001b[0;34m\u001b[0m\u001b[0m\n",
      "\u001b[0;32m/opt/homebrew/lib/python3.9/site-packages/pandas/core/reshape/pivot.py\u001b[0m in \u001b[0;36mpivot_table\u001b[0;34m(data, values, index, columns, aggfunc, fill_value, margins, dropna, margins_name, observed, sort)\u001b[0m\n\u001b[1;32m     93\u001b[0m         \u001b[0;32mreturn\u001b[0m \u001b[0mtable\u001b[0m\u001b[0;34m.\u001b[0m\u001b[0m__finalize__\u001b[0m\u001b[0;34m(\u001b[0m\u001b[0mdata\u001b[0m\u001b[0;34m,\u001b[0m \u001b[0mmethod\u001b[0m\u001b[0;34m=\u001b[0m\u001b[0;34m\"pivot_table\"\u001b[0m\u001b[0;34m)\u001b[0m\u001b[0;34m\u001b[0m\u001b[0;34m\u001b[0m\u001b[0m\n\u001b[1;32m     94\u001b[0m \u001b[0;34m\u001b[0m\u001b[0m\n\u001b[0;32m---> 95\u001b[0;31m     table = __internal_pivot_table(\n\u001b[0m\u001b[1;32m     96\u001b[0m         \u001b[0mdata\u001b[0m\u001b[0;34m,\u001b[0m\u001b[0;34m\u001b[0m\u001b[0;34m\u001b[0m\u001b[0m\n\u001b[1;32m     97\u001b[0m         \u001b[0mvalues\u001b[0m\u001b[0;34m,\u001b[0m\u001b[0;34m\u001b[0m\u001b[0;34m\u001b[0m\u001b[0m\n",
      "\u001b[0;32m/opt/homebrew/lib/python3.9/site-packages/pandas/core/reshape/pivot.py\u001b[0m in \u001b[0;36m__internal_pivot_table\u001b[0;34m(data, values, index, columns, aggfunc, fill_value, margins, dropna, margins_name, observed, sort)\u001b[0m\n\u001b[1;32m    139\u001b[0m         \u001b[0;32mfor\u001b[0m \u001b[0mi\u001b[0m \u001b[0;32min\u001b[0m \u001b[0mvalues\u001b[0m\u001b[0;34m:\u001b[0m\u001b[0;34m\u001b[0m\u001b[0;34m\u001b[0m\u001b[0m\n\u001b[1;32m    140\u001b[0m             \u001b[0;32mif\u001b[0m \u001b[0mi\u001b[0m \u001b[0;32mnot\u001b[0m \u001b[0;32min\u001b[0m \u001b[0mdata\u001b[0m\u001b[0;34m:\u001b[0m\u001b[0;34m\u001b[0m\u001b[0;34m\u001b[0m\u001b[0m\n\u001b[0;32m--> 141\u001b[0;31m                 \u001b[0;32mraise\u001b[0m \u001b[0mKeyError\u001b[0m\u001b[0;34m(\u001b[0m\u001b[0mi\u001b[0m\u001b[0;34m)\u001b[0m\u001b[0;34m\u001b[0m\u001b[0;34m\u001b[0m\u001b[0m\n\u001b[0m\u001b[1;32m    142\u001b[0m \u001b[0;34m\u001b[0m\u001b[0m\n\u001b[1;32m    143\u001b[0m         \u001b[0mto_filter\u001b[0m \u001b[0;34m=\u001b[0m \u001b[0;34m[\u001b[0m\u001b[0;34m]\u001b[0m\u001b[0;34m\u001b[0m\u001b[0;34m\u001b[0m\u001b[0m\n",
      "\u001b[0;31mKeyError\u001b[0m: 'population'"
     ]
    }
   ],
   "source": [
    "df.pivot_table(['population', 'living_wage'], ['country'], aggfunc='mean', fill_value=0) #Посчитаем средние значения \n",
    "# прожиточного минимума и численности населения для разных стран, все пустые ячейки заполним 0"
   ]
  },
  {
   "cell_type": "markdown",
   "metadata": {
    "id": "Zbrxeuo498By"
   },
   "source": [
    "# Пример"
   ]
  },
  {
   "cell_type": "markdown",
   "metadata": {
    "collapsed": true,
    "id": "NFWPWXSb98By"
   },
   "source": [
    "Есть две таблички. В первой (data.csv) лежит информация о количестве бюджетных и платных мест по разным специальностям двух факультетов. Во второй (cost.csv) -- информация о стоимости обучения на всех направлениях подготовки ВШЭ. Посчитаем количество денег, полученных за обучение на платной основе по каждому из представленных в первой таблице факультетов. "
   ]
  },
  {
   "cell_type": "code",
   "execution_count": null,
   "metadata": {
    "id": "J1MNvtPQ98By",
    "outputId": "89b6f531-a693-4cce-a922-fcd81d3970e0"
   },
   "outputs": [
    {
     "data": {
      "text/html": [
       "<div>\n",
       "<style scoped>\n",
       "    .dataframe tbody tr th:only-of-type {\n",
       "        vertical-align: middle;\n",
       "    }\n",
       "\n",
       "    .dataframe tbody tr th {\n",
       "        vertical-align: top;\n",
       "    }\n",
       "\n",
       "    .dataframe thead th {\n",
       "        text-align: right;\n",
       "    }\n",
       "</style>\n",
       "<table border=\"1\" class=\"dataframe\">\n",
       "  <thead>\n",
       "    <tr style=\"text-align: right;\">\n",
       "      <th></th>\n",
       "      <th>Направление подготовки</th>\n",
       "      <th>Бюджетные места</th>\n",
       "      <th>Квота</th>\n",
       "      <th>Целевая квота</th>\n",
       "      <th>Платные места</th>\n",
       "      <th>Платные места для иностранцев</th>\n",
       "      <th>Факультет</th>\n",
       "    </tr>\n",
       "  </thead>\n",
       "  <tbody>\n",
       "    <tr>\n",
       "      <th>0</th>\n",
       "      <td>Реклама и связи с общественностью</td>\n",
       "      <td>35</td>\n",
       "      <td>4</td>\n",
       "      <td>1</td>\n",
       "      <td>300</td>\n",
       "      <td>10</td>\n",
       "      <td>Факультет коммуникаций, медиа и дизайна</td>\n",
       "    </tr>\n",
       "    <tr>\n",
       "      <th>1</th>\n",
       "      <td>Журналистика</td>\n",
       "      <td>40</td>\n",
       "      <td>4</td>\n",
       "      <td></td>\n",
       "      <td>70</td>\n",
       "      <td>10</td>\n",
       "      <td>Факультет коммуникаций, медиа и дизайна</td>\n",
       "    </tr>\n",
       "    <tr>\n",
       "      <th>2</th>\n",
       "      <td>Медиакоммуникации</td>\n",
       "      <td>30</td>\n",
       "      <td>3</td>\n",
       "      <td></td>\n",
       "      <td>120</td>\n",
       "      <td>10</td>\n",
       "      <td>Факультет коммуникаций, медиа и дизайна</td>\n",
       "    </tr>\n",
       "    <tr>\n",
       "      <th>3</th>\n",
       "      <td>Филология</td>\n",
       "      <td>33</td>\n",
       "      <td>3</td>\n",
       "      <td></td>\n",
       "      <td>80</td>\n",
       "      <td>5</td>\n",
       "      <td>Факультет гуманитарных наук</td>\n",
       "    </tr>\n",
       "    <tr>\n",
       "      <th>4</th>\n",
       "      <td>Фундаментальная и компьютерная лингвистика</td>\n",
       "      <td>37</td>\n",
       "      <td>4</td>\n",
       "      <td></td>\n",
       "      <td>50</td>\n",
       "      <td>5</td>\n",
       "      <td>Факультет гуманитарных наук</td>\n",
       "    </tr>\n",
       "    <tr>\n",
       "      <th>5</th>\n",
       "      <td>История</td>\n",
       "      <td>60</td>\n",
       "      <td>6</td>\n",
       "      <td></td>\n",
       "      <td>30</td>\n",
       "      <td>5</td>\n",
       "      <td>Факультет гуманитарных наук</td>\n",
       "    </tr>\n",
       "    <tr>\n",
       "      <th>6</th>\n",
       "      <td>Философия</td>\n",
       "      <td>45</td>\n",
       "      <td>5</td>\n",
       "      <td></td>\n",
       "      <td>20</td>\n",
       "      <td>5</td>\n",
       "      <td>Факультет гуманитарных наук</td>\n",
       "    </tr>\n",
       "    <tr>\n",
       "      <th>7</th>\n",
       "      <td>История искусств</td>\n",
       "      <td>25</td>\n",
       "      <td>3</td>\n",
       "      <td></td>\n",
       "      <td>30</td>\n",
       "      <td>5</td>\n",
       "      <td>Факультет гуманитарных наук</td>\n",
       "    </tr>\n",
       "    <tr>\n",
       "      <th>8</th>\n",
       "      <td>Культурология</td>\n",
       "      <td>30</td>\n",
       "      <td>3</td>\n",
       "      <td></td>\n",
       "      <td>30</td>\n",
       "      <td>5</td>\n",
       "      <td>Факультет гуманитарных наук</td>\n",
       "    </tr>\n",
       "    <tr>\n",
       "      <th>9</th>\n",
       "      <td>Дизайн</td>\n",
       "      <td>55</td>\n",
       "      <td>6</td>\n",
       "      <td></td>\n",
       "      <td>300</td>\n",
       "      <td>10</td>\n",
       "      <td>Факультет коммуникаций, медиа и дизайна</td>\n",
       "    </tr>\n",
       "    <tr>\n",
       "      <th>10</th>\n",
       "      <td>Мода</td>\n",
       "      <td></td>\n",
       "      <td></td>\n",
       "      <td></td>\n",
       "      <td>50</td>\n",
       "      <td>10</td>\n",
       "      <td>Факультет коммуникаций, медиа и дизайна</td>\n",
       "    </tr>\n",
       "  </tbody>\n",
       "</table>\n",
       "</div>"
      ],
      "text/plain": [
       "                        Направление подготовки Бюджетные места Квота  \\\n",
       "0            Реклама и связи с общественностью              35     4   \n",
       "1                                 Журналистика              40     4   \n",
       "2                            Медиакоммуникации              30     3   \n",
       "3                                    Филология              33     3   \n",
       "4   Фундаментальная и компьютерная лингвистика              37     4   \n",
       "5                                      История              60     6   \n",
       "6                                    Философия              45     5   \n",
       "7                             История искусств              25     3   \n",
       "8                                Культурология              30     3   \n",
       "9                                       Дизайн              55     6   \n",
       "10                                        Мода                         \n",
       "\n",
       "   Целевая квота Платные места Платные места для иностранцев  \\\n",
       "0             1            300                            10   \n",
       "1                           70                            10   \n",
       "2                          120                            10   \n",
       "3                           80                             5   \n",
       "4                           50                             5   \n",
       "5                           30                            5    \n",
       "6                           20                            5    \n",
       "7                           30                            5    \n",
       "8                           30                             5   \n",
       "9                          300                            10   \n",
       "10                          50                            10   \n",
       "\n",
       "                                  Факультет  \n",
       "0   Факультет коммуникаций, медиа и дизайна  \n",
       "1   Факультет коммуникаций, медиа и дизайна  \n",
       "2   Факультет коммуникаций, медиа и дизайна  \n",
       "3               Факультет гуманитарных наук  \n",
       "4               Факультет гуманитарных наук  \n",
       "5               Факультет гуманитарных наук  \n",
       "6               Факультет гуманитарных наук  \n",
       "7               Факультет гуманитарных наук  \n",
       "8               Факультет гуманитарных наук  \n",
       "9   Факультет коммуникаций, медиа и дизайна  \n",
       "10  Факультет коммуникаций, медиа и дизайна  "
      ]
     },
     "execution_count": 52,
     "metadata": {
      "tags": []
     },
     "output_type": "execute_result"
    }
   ],
   "source": [
    "data = pd.read_csv(\"data.csv\", sep=',', header=0) # Считаем файлы\n",
    "data"
   ]
  },
  {
   "cell_type": "code",
   "execution_count": null,
   "metadata": {
    "id": "vkqr43ch98By",
    "outputId": "d6baa13c-bf0d-4e86-9df8-a60204eacdf1"
   },
   "outputs": [
    {
     "data": {
      "text/html": [
       "<div>\n",
       "<style scoped>\n",
       "    .dataframe tbody tr th:only-of-type {\n",
       "        vertical-align: middle;\n",
       "    }\n",
       "\n",
       "    .dataframe tbody tr th {\n",
       "        vertical-align: top;\n",
       "    }\n",
       "\n",
       "    .dataframe thead th {\n",
       "        text-align: right;\n",
       "    }\n",
       "</style>\n",
       "<table border=\"1\" class=\"dataframe\">\n",
       "  <thead>\n",
       "    <tr style=\"text-align: right;\">\n",
       "      <th></th>\n",
       "      <th>Направление подготовки</th>\n",
       "      <th>Стоимость обучения</th>\n",
       "    </tr>\n",
       "  </thead>\n",
       "  <tbody>\n",
       "    <tr>\n",
       "      <th>0</th>\n",
       "      <td>Математика</td>\n",
       "      <td>320</td>\n",
       "    </tr>\n",
       "    <tr>\n",
       "      <th>1</th>\n",
       "      <td>Совместный бакалавриат НИУ ВШЭ и Центра педаго...</td>\n",
       "      <td>260</td>\n",
       "    </tr>\n",
       "    <tr>\n",
       "      <th>2</th>\n",
       "      <td>Прикладная математика и информатика</td>\n",
       "      <td>350</td>\n",
       "    </tr>\n",
       "    <tr>\n",
       "      <th>3</th>\n",
       "      <td>Прикладная математика</td>\n",
       "      <td>260</td>\n",
       "    </tr>\n",
       "    <tr>\n",
       "      <th>4</th>\n",
       "      <td>Физика</td>\n",
       "      <td>320</td>\n",
       "    </tr>\n",
       "  </tbody>\n",
       "</table>\n",
       "</div>"
      ],
      "text/plain": [
       "                              Направление подготовки  Стоимость обучения\n",
       "0                                         Математика                 320\n",
       "1  Совместный бакалавриат НИУ ВШЭ и Центра педаго...                 260\n",
       "2                Прикладная математика и информатика                 350\n",
       "3                              Прикладная математика                 260\n",
       "4                                             Физика                 320"
      ]
     },
     "execution_count": 53,
     "metadata": {
      "tags": []
     },
     "output_type": "execute_result"
    }
   ],
   "source": [
    "cost = pd.read_csv(\"cost.csv\", sep=',', header=0)\n",
    "cost.head() # Посмотрим на первые пять строк"
   ]
  },
  {
   "cell_type": "markdown",
   "metadata": {
    "id": "a1g_aNue98Bz"
   },
   "source": [
    "Совместим таблички, добавив в первую столбец со стоимостью на соответсвующих направлениях:"
   ]
  },
  {
   "cell_type": "code",
   "execution_count": null,
   "metadata": {
    "id": "OvXBDqeo98Bz",
    "outputId": "844fe7e3-9d2c-4d7f-d9b3-57948dbd8fda",
    "scrolled": true
   },
   "outputs": [
    {
     "data": {
      "text/html": [
       "<div>\n",
       "<style scoped>\n",
       "    .dataframe tbody tr th:only-of-type {\n",
       "        vertical-align: middle;\n",
       "    }\n",
       "\n",
       "    .dataframe tbody tr th {\n",
       "        vertical-align: top;\n",
       "    }\n",
       "\n",
       "    .dataframe thead th {\n",
       "        text-align: right;\n",
       "    }\n",
       "</style>\n",
       "<table border=\"1\" class=\"dataframe\">\n",
       "  <thead>\n",
       "    <tr style=\"text-align: right;\">\n",
       "      <th></th>\n",
       "      <th>Направление подготовки</th>\n",
       "      <th>Бюджетные места</th>\n",
       "      <th>Квота</th>\n",
       "      <th>Целевая квота</th>\n",
       "      <th>Платные места</th>\n",
       "      <th>Платные места для иностранцев</th>\n",
       "      <th>Факультет</th>\n",
       "      <th>Стоимость обучения</th>\n",
       "    </tr>\n",
       "  </thead>\n",
       "  <tbody>\n",
       "    <tr>\n",
       "      <th>0</th>\n",
       "      <td>Реклама и связи с общественностью</td>\n",
       "      <td>35</td>\n",
       "      <td>4</td>\n",
       "      <td>1</td>\n",
       "      <td>300</td>\n",
       "      <td>10</td>\n",
       "      <td>Факультет коммуникаций, медиа и дизайна</td>\n",
       "      <td>370</td>\n",
       "    </tr>\n",
       "    <tr>\n",
       "      <th>1</th>\n",
       "      <td>Журналистика</td>\n",
       "      <td>40</td>\n",
       "      <td>4</td>\n",
       "      <td></td>\n",
       "      <td>70</td>\n",
       "      <td>10</td>\n",
       "      <td>Факультет коммуникаций, медиа и дизайна</td>\n",
       "      <td>300</td>\n",
       "    </tr>\n",
       "    <tr>\n",
       "      <th>2</th>\n",
       "      <td>Медиакоммуникации</td>\n",
       "      <td>30</td>\n",
       "      <td>3</td>\n",
       "      <td></td>\n",
       "      <td>120</td>\n",
       "      <td>10</td>\n",
       "      <td>Факультет коммуникаций, медиа и дизайна</td>\n",
       "      <td>300</td>\n",
       "    </tr>\n",
       "    <tr>\n",
       "      <th>3</th>\n",
       "      <td>Филология</td>\n",
       "      <td>33</td>\n",
       "      <td>3</td>\n",
       "      <td></td>\n",
       "      <td>80</td>\n",
       "      <td>5</td>\n",
       "      <td>Факультет гуманитарных наук</td>\n",
       "      <td>300</td>\n",
       "    </tr>\n",
       "    <tr>\n",
       "      <th>4</th>\n",
       "      <td>Фундаментальная и компьютерная лингвистика</td>\n",
       "      <td>37</td>\n",
       "      <td>4</td>\n",
       "      <td></td>\n",
       "      <td>50</td>\n",
       "      <td>5</td>\n",
       "      <td>Факультет гуманитарных наук</td>\n",
       "      <td>300</td>\n",
       "    </tr>\n",
       "    <tr>\n",
       "      <th>5</th>\n",
       "      <td>История</td>\n",
       "      <td>60</td>\n",
       "      <td>6</td>\n",
       "      <td></td>\n",
       "      <td>30</td>\n",
       "      <td>5</td>\n",
       "      <td>Факультет гуманитарных наук</td>\n",
       "      <td>260</td>\n",
       "    </tr>\n",
       "    <tr>\n",
       "      <th>6</th>\n",
       "      <td>Философия</td>\n",
       "      <td>45</td>\n",
       "      <td>5</td>\n",
       "      <td></td>\n",
       "      <td>20</td>\n",
       "      <td>5</td>\n",
       "      <td>Факультет гуманитарных наук</td>\n",
       "      <td>260</td>\n",
       "    </tr>\n",
       "    <tr>\n",
       "      <th>7</th>\n",
       "      <td>История искусств</td>\n",
       "      <td>25</td>\n",
       "      <td>3</td>\n",
       "      <td></td>\n",
       "      <td>30</td>\n",
       "      <td>5</td>\n",
       "      <td>Факультет гуманитарных наук</td>\n",
       "      <td>300</td>\n",
       "    </tr>\n",
       "    <tr>\n",
       "      <th>8</th>\n",
       "      <td>Культурология</td>\n",
       "      <td>30</td>\n",
       "      <td>3</td>\n",
       "      <td></td>\n",
       "      <td>30</td>\n",
       "      <td>5</td>\n",
       "      <td>Факультет гуманитарных наук</td>\n",
       "      <td>260</td>\n",
       "    </tr>\n",
       "    <tr>\n",
       "      <th>9</th>\n",
       "      <td>Дизайн</td>\n",
       "      <td>55</td>\n",
       "      <td>6</td>\n",
       "      <td></td>\n",
       "      <td>300</td>\n",
       "      <td>10</td>\n",
       "      <td>Факультет коммуникаций, медиа и дизайна</td>\n",
       "      <td>350</td>\n",
       "    </tr>\n",
       "    <tr>\n",
       "      <th>10</th>\n",
       "      <td>Мода</td>\n",
       "      <td></td>\n",
       "      <td></td>\n",
       "      <td></td>\n",
       "      <td>50</td>\n",
       "      <td>10</td>\n",
       "      <td>Факультет коммуникаций, медиа и дизайна</td>\n",
       "      <td>300</td>\n",
       "    </tr>\n",
       "  </tbody>\n",
       "</table>\n",
       "</div>"
      ],
      "text/plain": [
       "                        Направление подготовки Бюджетные места Квота  \\\n",
       "0            Реклама и связи с общественностью              35     4   \n",
       "1                                 Журналистика              40     4   \n",
       "2                            Медиакоммуникации              30     3   \n",
       "3                                    Филология              33     3   \n",
       "4   Фундаментальная и компьютерная лингвистика              37     4   \n",
       "5                                      История              60     6   \n",
       "6                                    Философия              45     5   \n",
       "7                             История искусств              25     3   \n",
       "8                                Культурология              30     3   \n",
       "9                                       Дизайн              55     6   \n",
       "10                                        Мода                         \n",
       "\n",
       "   Целевая квота Платные места Платные места для иностранцев  \\\n",
       "0             1            300                            10   \n",
       "1                           70                            10   \n",
       "2                          120                            10   \n",
       "3                           80                             5   \n",
       "4                           50                             5   \n",
       "5                           30                            5    \n",
       "6                           20                            5    \n",
       "7                           30                            5    \n",
       "8                           30                             5   \n",
       "9                          300                            10   \n",
       "10                          50                            10   \n",
       "\n",
       "                                  Факультет  Стоимость обучения  \n",
       "0   Факультет коммуникаций, медиа и дизайна                 370  \n",
       "1   Факультет коммуникаций, медиа и дизайна                 300  \n",
       "2   Факультет коммуникаций, медиа и дизайна                 300  \n",
       "3               Факультет гуманитарных наук                 300  \n",
       "4               Факультет гуманитарных наук                 300  \n",
       "5               Факультет гуманитарных наук                 260  \n",
       "6               Факультет гуманитарных наук                 260  \n",
       "7               Факультет гуманитарных наук                 300  \n",
       "8               Факультет гуманитарных наук                 260  \n",
       "9   Факультет коммуникаций, медиа и дизайна                 350  \n",
       "10  Факультет коммуникаций, медиа и дизайна                 300  "
      ]
     },
     "execution_count": 54,
     "metadata": {
      "tags": []
     },
     "output_type": "execute_result"
    }
   ],
   "source": [
    "data = pd.merge(data, cost, how='left', on='Направление подготовки') # Ключевой столбец - 'Направление подготовки',\n",
    "                                                                    # берем строки из первой таблицы\n",
    "data"
   ]
  },
  {
   "cell_type": "code",
   "execution_count": null,
   "metadata": {
    "collapsed": true,
    "id": "n7BzzolP98Bz"
   },
   "outputs": [],
   "source": [
    "data['Платные места'] = data['Платные места'].astype('int64') # Поменяем тип столбца на int\n",
    "data['Платные места для иностранцев'] = data['Платные места для иностранцев'].astype('int64')"
   ]
  },
  {
   "cell_type": "markdown",
   "metadata": {
    "id": "Td8eHrZF98Bz"
   },
   "source": [
    "Добавим к платным местам количество платных мест для иностранцев, и удалим этот столбец. "
   ]
  },
  {
   "cell_type": "code",
   "execution_count": null,
   "metadata": {
    "collapsed": true,
    "id": "WQkHtcgj98Bz"
   },
   "outputs": [],
   "source": [
    "data['Платные места'] += data['Платные места для иностранцев']\n",
    "data.drop(['Платные места для иностранцев'], axis=1, inplace=True)"
   ]
  },
  {
   "cell_type": "code",
   "execution_count": null,
   "metadata": {
    "id": "5JxLz57998Bz",
    "outputId": "6775ba1c-5a26-4329-e85f-e17354bdcb0e"
   },
   "outputs": [
    {
     "data": {
      "text/html": [
       "<div>\n",
       "<style scoped>\n",
       "    .dataframe tbody tr th:only-of-type {\n",
       "        vertical-align: middle;\n",
       "    }\n",
       "\n",
       "    .dataframe tbody tr th {\n",
       "        vertical-align: top;\n",
       "    }\n",
       "\n",
       "    .dataframe thead th {\n",
       "        text-align: right;\n",
       "    }\n",
       "</style>\n",
       "<table border=\"1\" class=\"dataframe\">\n",
       "  <thead>\n",
       "    <tr style=\"text-align: right;\">\n",
       "      <th></th>\n",
       "      <th>Направление подготовки</th>\n",
       "      <th>Бюджетные места</th>\n",
       "      <th>Квота</th>\n",
       "      <th>Целевая квота</th>\n",
       "      <th>Платные места</th>\n",
       "      <th>Факультет</th>\n",
       "      <th>Стоимость обучения</th>\n",
       "    </tr>\n",
       "  </thead>\n",
       "  <tbody>\n",
       "    <tr>\n",
       "      <th>0</th>\n",
       "      <td>Реклама и связи с общественностью</td>\n",
       "      <td>35</td>\n",
       "      <td>4</td>\n",
       "      <td>1</td>\n",
       "      <td>310</td>\n",
       "      <td>Факультет коммуникаций, медиа и дизайна</td>\n",
       "      <td>370</td>\n",
       "    </tr>\n",
       "    <tr>\n",
       "      <th>1</th>\n",
       "      <td>Журналистика</td>\n",
       "      <td>40</td>\n",
       "      <td>4</td>\n",
       "      <td></td>\n",
       "      <td>80</td>\n",
       "      <td>Факультет коммуникаций, медиа и дизайна</td>\n",
       "      <td>300</td>\n",
       "    </tr>\n",
       "    <tr>\n",
       "      <th>2</th>\n",
       "      <td>Медиакоммуникации</td>\n",
       "      <td>30</td>\n",
       "      <td>3</td>\n",
       "      <td></td>\n",
       "      <td>130</td>\n",
       "      <td>Факультет коммуникаций, медиа и дизайна</td>\n",
       "      <td>300</td>\n",
       "    </tr>\n",
       "    <tr>\n",
       "      <th>3</th>\n",
       "      <td>Филология</td>\n",
       "      <td>33</td>\n",
       "      <td>3</td>\n",
       "      <td></td>\n",
       "      <td>85</td>\n",
       "      <td>Факультет гуманитарных наук</td>\n",
       "      <td>300</td>\n",
       "    </tr>\n",
       "    <tr>\n",
       "      <th>4</th>\n",
       "      <td>Фундаментальная и компьютерная лингвистика</td>\n",
       "      <td>37</td>\n",
       "      <td>4</td>\n",
       "      <td></td>\n",
       "      <td>55</td>\n",
       "      <td>Факультет гуманитарных наук</td>\n",
       "      <td>300</td>\n",
       "    </tr>\n",
       "    <tr>\n",
       "      <th>5</th>\n",
       "      <td>История</td>\n",
       "      <td>60</td>\n",
       "      <td>6</td>\n",
       "      <td></td>\n",
       "      <td>35</td>\n",
       "      <td>Факультет гуманитарных наук</td>\n",
       "      <td>260</td>\n",
       "    </tr>\n",
       "    <tr>\n",
       "      <th>6</th>\n",
       "      <td>Философия</td>\n",
       "      <td>45</td>\n",
       "      <td>5</td>\n",
       "      <td></td>\n",
       "      <td>25</td>\n",
       "      <td>Факультет гуманитарных наук</td>\n",
       "      <td>260</td>\n",
       "    </tr>\n",
       "    <tr>\n",
       "      <th>7</th>\n",
       "      <td>История искусств</td>\n",
       "      <td>25</td>\n",
       "      <td>3</td>\n",
       "      <td></td>\n",
       "      <td>35</td>\n",
       "      <td>Факультет гуманитарных наук</td>\n",
       "      <td>300</td>\n",
       "    </tr>\n",
       "    <tr>\n",
       "      <th>8</th>\n",
       "      <td>Культурология</td>\n",
       "      <td>30</td>\n",
       "      <td>3</td>\n",
       "      <td></td>\n",
       "      <td>35</td>\n",
       "      <td>Факультет гуманитарных наук</td>\n",
       "      <td>260</td>\n",
       "    </tr>\n",
       "    <tr>\n",
       "      <th>9</th>\n",
       "      <td>Дизайн</td>\n",
       "      <td>55</td>\n",
       "      <td>6</td>\n",
       "      <td></td>\n",
       "      <td>310</td>\n",
       "      <td>Факультет коммуникаций, медиа и дизайна</td>\n",
       "      <td>350</td>\n",
       "    </tr>\n",
       "    <tr>\n",
       "      <th>10</th>\n",
       "      <td>Мода</td>\n",
       "      <td></td>\n",
       "      <td></td>\n",
       "      <td></td>\n",
       "      <td>60</td>\n",
       "      <td>Факультет коммуникаций, медиа и дизайна</td>\n",
       "      <td>300</td>\n",
       "    </tr>\n",
       "  </tbody>\n",
       "</table>\n",
       "</div>"
      ],
      "text/plain": [
       "                        Направление подготовки Бюджетные места Квота  \\\n",
       "0            Реклама и связи с общественностью              35     4   \n",
       "1                                 Журналистика              40     4   \n",
       "2                            Медиакоммуникации              30     3   \n",
       "3                                    Филология              33     3   \n",
       "4   Фундаментальная и компьютерная лингвистика              37     4   \n",
       "5                                      История              60     6   \n",
       "6                                    Философия              45     5   \n",
       "7                             История искусств              25     3   \n",
       "8                                Культурология              30     3   \n",
       "9                                       Дизайн              55     6   \n",
       "10                                        Мода                         \n",
       "\n",
       "   Целевая квота  Платные места                                Факультет  \\\n",
       "0             1             310  Факультет коммуникаций, медиа и дизайна   \n",
       "1                            80  Факультет коммуникаций, медиа и дизайна   \n",
       "2                           130  Факультет коммуникаций, медиа и дизайна   \n",
       "3                            85              Факультет гуманитарных наук   \n",
       "4                            55              Факультет гуманитарных наук   \n",
       "5                            35              Факультет гуманитарных наук   \n",
       "6                            25              Факультет гуманитарных наук   \n",
       "7                            35              Факультет гуманитарных наук   \n",
       "8                            35              Факультет гуманитарных наук   \n",
       "9                           310  Факультет коммуникаций, медиа и дизайна   \n",
       "10                           60  Факультет коммуникаций, медиа и дизайна   \n",
       "\n",
       "    Стоимость обучения  \n",
       "0                  370  \n",
       "1                  300  \n",
       "2                  300  \n",
       "3                  300  \n",
       "4                  300  \n",
       "5                  260  \n",
       "6                  260  \n",
       "7                  300  \n",
       "8                  260  \n",
       "9                  350  \n",
       "10                 300  "
      ]
     },
     "execution_count": 57,
     "metadata": {
      "tags": []
     },
     "output_type": "execute_result"
    }
   ],
   "source": [
    "data"
   ]
  },
  {
   "cell_type": "markdown",
   "metadata": {
    "id": "ZroaM0o_98Bz"
   },
   "source": [
    "Введем новый столбец - количество денег в тысячах рублей, которые получит вуз от абитуриентов за первый год, при условии, что все платные места будут заполнены."
   ]
  },
  {
   "cell_type": "code",
   "execution_count": null,
   "metadata": {
    "id": "QLhkIgBG98B0",
    "outputId": "cf9c4d26-57ae-483f-b53b-afe207cb52f8"
   },
   "outputs": [
    {
     "data": {
      "text/html": [
       "<div>\n",
       "<style scoped>\n",
       "    .dataframe tbody tr th:only-of-type {\n",
       "        vertical-align: middle;\n",
       "    }\n",
       "\n",
       "    .dataframe tbody tr th {\n",
       "        vertical-align: top;\n",
       "    }\n",
       "\n",
       "    .dataframe thead th {\n",
       "        text-align: right;\n",
       "    }\n",
       "</style>\n",
       "<table border=\"1\" class=\"dataframe\">\n",
       "  <thead>\n",
       "    <tr style=\"text-align: right;\">\n",
       "      <th></th>\n",
       "      <th>Направление подготовки</th>\n",
       "      <th>Бюджетные места</th>\n",
       "      <th>Квота</th>\n",
       "      <th>Целевая квота</th>\n",
       "      <th>Платные места</th>\n",
       "      <th>Факультет</th>\n",
       "      <th>Стоимость обучения</th>\n",
       "      <th>Прибыль</th>\n",
       "    </tr>\n",
       "  </thead>\n",
       "  <tbody>\n",
       "    <tr>\n",
       "      <th>0</th>\n",
       "      <td>Реклама и связи с общественностью</td>\n",
       "      <td>35</td>\n",
       "      <td>4</td>\n",
       "      <td>1</td>\n",
       "      <td>310</td>\n",
       "      <td>Факультет коммуникаций, медиа и дизайна</td>\n",
       "      <td>370</td>\n",
       "      <td>114700</td>\n",
       "    </tr>\n",
       "    <tr>\n",
       "      <th>1</th>\n",
       "      <td>Журналистика</td>\n",
       "      <td>40</td>\n",
       "      <td>4</td>\n",
       "      <td></td>\n",
       "      <td>80</td>\n",
       "      <td>Факультет коммуникаций, медиа и дизайна</td>\n",
       "      <td>300</td>\n",
       "      <td>24000</td>\n",
       "    </tr>\n",
       "    <tr>\n",
       "      <th>2</th>\n",
       "      <td>Медиакоммуникации</td>\n",
       "      <td>30</td>\n",
       "      <td>3</td>\n",
       "      <td></td>\n",
       "      <td>130</td>\n",
       "      <td>Факультет коммуникаций, медиа и дизайна</td>\n",
       "      <td>300</td>\n",
       "      <td>39000</td>\n",
       "    </tr>\n",
       "    <tr>\n",
       "      <th>3</th>\n",
       "      <td>Филология</td>\n",
       "      <td>33</td>\n",
       "      <td>3</td>\n",
       "      <td></td>\n",
       "      <td>85</td>\n",
       "      <td>Факультет гуманитарных наук</td>\n",
       "      <td>300</td>\n",
       "      <td>25500</td>\n",
       "    </tr>\n",
       "    <tr>\n",
       "      <th>4</th>\n",
       "      <td>Фундаментальная и компьютерная лингвистика</td>\n",
       "      <td>37</td>\n",
       "      <td>4</td>\n",
       "      <td></td>\n",
       "      <td>55</td>\n",
       "      <td>Факультет гуманитарных наук</td>\n",
       "      <td>300</td>\n",
       "      <td>16500</td>\n",
       "    </tr>\n",
       "    <tr>\n",
       "      <th>5</th>\n",
       "      <td>История</td>\n",
       "      <td>60</td>\n",
       "      <td>6</td>\n",
       "      <td></td>\n",
       "      <td>35</td>\n",
       "      <td>Факультет гуманитарных наук</td>\n",
       "      <td>260</td>\n",
       "      <td>9100</td>\n",
       "    </tr>\n",
       "    <tr>\n",
       "      <th>6</th>\n",
       "      <td>Философия</td>\n",
       "      <td>45</td>\n",
       "      <td>5</td>\n",
       "      <td></td>\n",
       "      <td>25</td>\n",
       "      <td>Факультет гуманитарных наук</td>\n",
       "      <td>260</td>\n",
       "      <td>6500</td>\n",
       "    </tr>\n",
       "    <tr>\n",
       "      <th>7</th>\n",
       "      <td>История искусств</td>\n",
       "      <td>25</td>\n",
       "      <td>3</td>\n",
       "      <td></td>\n",
       "      <td>35</td>\n",
       "      <td>Факультет гуманитарных наук</td>\n",
       "      <td>300</td>\n",
       "      <td>10500</td>\n",
       "    </tr>\n",
       "    <tr>\n",
       "      <th>8</th>\n",
       "      <td>Культурология</td>\n",
       "      <td>30</td>\n",
       "      <td>3</td>\n",
       "      <td></td>\n",
       "      <td>35</td>\n",
       "      <td>Факультет гуманитарных наук</td>\n",
       "      <td>260</td>\n",
       "      <td>9100</td>\n",
       "    </tr>\n",
       "    <tr>\n",
       "      <th>9</th>\n",
       "      <td>Дизайн</td>\n",
       "      <td>55</td>\n",
       "      <td>6</td>\n",
       "      <td></td>\n",
       "      <td>310</td>\n",
       "      <td>Факультет коммуникаций, медиа и дизайна</td>\n",
       "      <td>350</td>\n",
       "      <td>108500</td>\n",
       "    </tr>\n",
       "    <tr>\n",
       "      <th>10</th>\n",
       "      <td>Мода</td>\n",
       "      <td></td>\n",
       "      <td></td>\n",
       "      <td></td>\n",
       "      <td>60</td>\n",
       "      <td>Факультет коммуникаций, медиа и дизайна</td>\n",
       "      <td>300</td>\n",
       "      <td>18000</td>\n",
       "    </tr>\n",
       "  </tbody>\n",
       "</table>\n",
       "</div>"
      ],
      "text/plain": [
       "                        Направление подготовки Бюджетные места Квота  \\\n",
       "0            Реклама и связи с общественностью              35     4   \n",
       "1                                 Журналистика              40     4   \n",
       "2                            Медиакоммуникации              30     3   \n",
       "3                                    Филология              33     3   \n",
       "4   Фундаментальная и компьютерная лингвистика              37     4   \n",
       "5                                      История              60     6   \n",
       "6                                    Философия              45     5   \n",
       "7                             История искусств              25     3   \n",
       "8                                Культурология              30     3   \n",
       "9                                       Дизайн              55     6   \n",
       "10                                        Мода                         \n",
       "\n",
       "   Целевая квота  Платные места                                Факультет  \\\n",
       "0             1             310  Факультет коммуникаций, медиа и дизайна   \n",
       "1                            80  Факультет коммуникаций, медиа и дизайна   \n",
       "2                           130  Факультет коммуникаций, медиа и дизайна   \n",
       "3                            85              Факультет гуманитарных наук   \n",
       "4                            55              Факультет гуманитарных наук   \n",
       "5                            35              Факультет гуманитарных наук   \n",
       "6                            25              Факультет гуманитарных наук   \n",
       "7                            35              Факультет гуманитарных наук   \n",
       "8                            35              Факультет гуманитарных наук   \n",
       "9                           310  Факультет коммуникаций, медиа и дизайна   \n",
       "10                           60  Факультет коммуникаций, медиа и дизайна   \n",
       "\n",
       "    Стоимость обучения  Прибыль  \n",
       "0                  370   114700  \n",
       "1                  300    24000  \n",
       "2                  300    39000  \n",
       "3                  300    25500  \n",
       "4                  300    16500  \n",
       "5                  260     9100  \n",
       "6                  260     6500  \n",
       "7                  300    10500  \n",
       "8                  260     9100  \n",
       "9                  350   108500  \n",
       "10                 300    18000  "
      ]
     },
     "execution_count": 58,
     "metadata": {
      "tags": []
     },
     "output_type": "execute_result"
    }
   ],
   "source": [
    "data['Прибыль'] = data['Платные места'] * data['Стоимость обучения']\n",
    "data"
   ]
  },
  {
   "cell_type": "markdown",
   "metadata": {
    "id": "Dp-oYBAm98B0"
   },
   "source": [
    "Теперь построим итоговую сводную таблицу. "
   ]
  },
  {
   "cell_type": "code",
   "execution_count": null,
   "metadata": {
    "id": "Hltjlfrk98B0",
    "outputId": "91090003-780f-46df-9c3d-40b70e215e7f"
   },
   "outputs": [
    {
     "data": {
      "text/html": [
       "<div>\n",
       "<style scoped>\n",
       "    .dataframe tbody tr th:only-of-type {\n",
       "        vertical-align: middle;\n",
       "    }\n",
       "\n",
       "    .dataframe tbody tr th {\n",
       "        vertical-align: top;\n",
       "    }\n",
       "\n",
       "    .dataframe thead th {\n",
       "        text-align: right;\n",
       "    }\n",
       "</style>\n",
       "<table border=\"1\" class=\"dataframe\">\n",
       "  <thead>\n",
       "    <tr style=\"text-align: right;\">\n",
       "      <th></th>\n",
       "      <th>Прибыль</th>\n",
       "    </tr>\n",
       "    <tr>\n",
       "      <th>Факультет</th>\n",
       "      <th></th>\n",
       "    </tr>\n",
       "  </thead>\n",
       "  <tbody>\n",
       "    <tr>\n",
       "      <th>Факультет гуманитарных наук</th>\n",
       "      <td>77200</td>\n",
       "    </tr>\n",
       "    <tr>\n",
       "      <th>Факультет коммуникаций, медиа и дизайна</th>\n",
       "      <td>304200</td>\n",
       "    </tr>\n",
       "  </tbody>\n",
       "</table>\n",
       "</div>"
      ],
      "text/plain": [
       "                                         Прибыль\n",
       "Факультет                                       \n",
       "Факультет гуманитарных наук                77200\n",
       "Факультет коммуникаций, медиа и дизайна   304200"
      ]
     },
     "execution_count": 59,
     "metadata": {
      "tags": []
     },
     "output_type": "execute_result"
    }
   ],
   "source": [
    "res = data.pivot_table(['Прибыль'], ['Факультет'], aggfunc='sum', fill_value=0)\n",
    "res"
   ]
  },
  {
   "cell_type": "markdown",
   "metadata": {
    "id": "RI8aehnS98B0"
   },
   "source": [
    "## Задание\n",
    "\n",
    "Отсортируйте таблицу data по стоимости обучения."
   ]
  },
  {
   "cell_type": "code",
   "execution_count": null,
   "metadata": {
    "collapsed": true,
    "id": "FTTy0gcu98B0"
   },
   "outputs": [],
   "source": [
    "# Место для вашего кода"
   ]
  },
  {
   "cell_type": "markdown",
   "metadata": {
    "id": "ZaNylxY_98B0"
   },
   "source": [
    "Посчитайте, сколько есть направлений, на которых платных мест строго больше 70."
   ]
  },
  {
   "cell_type": "code",
   "execution_count": null,
   "metadata": {
    "collapsed": true,
    "id": "vlMGD0et98B0"
   },
   "outputs": [],
   "source": [
    "# Место для вашего кода"
   ]
  },
  {
   "cell_type": "markdown",
   "metadata": {
    "id": "-gIWG2Vu98B1"
   },
   "source": [
    "Сгруппируйте направления по факультетам и посчитайте, сколько бюджетных мест на каждом из них."
   ]
  },
  {
   "cell_type": "code",
   "execution_count": null,
   "metadata": {
    "collapsed": true,
    "id": "PGcHbMSj98B1"
   },
   "outputs": [],
   "source": [
    "# Место для вашего кода"
   ]
  }
 ],
 "metadata": {
  "anaconda-cloud": {},
  "colab": {
   "name": "S 13, Pandas.ipynb",
   "provenance": []
  },
  "kernelspec": {
   "display_name": "Python 3 (ipykernel)",
   "language": "python",
   "name": "python3"
  },
  "language_info": {
   "codemirror_mode": {
    "name": "ipython",
    "version": 3
   },
   "file_extension": ".py",
   "mimetype": "text/x-python",
   "name": "python",
   "nbconvert_exporter": "python",
   "pygments_lexer": "ipython3",
   "version": "3.9.7"
  }
 },
 "nbformat": 4,
 "nbformat_minor": 1
}
