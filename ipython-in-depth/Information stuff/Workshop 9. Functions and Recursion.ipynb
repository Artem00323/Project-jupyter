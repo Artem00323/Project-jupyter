{
 "cells": [
  {
   "cell_type": "markdown",
   "metadata": {
    "id": "Lq3ed7O5OCkI",
    "pycharm": {
     "name": "#%% md\n"
    }
   },
   "source": [
    "#  Workshop 9\n",
    "## _Functions and recursion. Lambda-functions. Named parameters. Namespaces._\n",
    "\n",
    "\n",
    "### Functions\n",
    "\n",
    "__Definition__: A function is a rule of taking zero and more inputs, performing some actions\n",
    "                with the inputs and returning a corresponding output.\n",
    "\n",
    "In Python, we typically define functions using _def_:\n",
    "\n"
   ]
  },
  {
   "cell_type": "code",
   "execution_count": 70,
   "metadata": {
    "id": "zK6p_m2anYir",
    "outputId": "11642927-4f69-45d3-d01c-62b029397578",
    "pycharm": {
     "is_executing": false,
     "metadata": false,
     "name": "#%%\n"
    }
   },
   "outputs": [],
   "source": [
    "def double(x):\n",
    "    \"\"\"this is where you can put an optional docstring\n",
    "    that explains when the function does.\n",
    "    for example, this function multiplies its input by 2\"\"\"\n",
    "    return x * 2\n",
    "\n",
    "y = double(10) # doubles integer value 10\n",
    "y # prints it\n",
    "\n"
   ]
  },
  {
   "cell_type": "markdown",
   "metadata": {
    "id": "8s9_n5W4OCkN",
    "pycharm": {}
   },
   "source": [
    "\n",
    "A function may or may not return an output value.\n",
    "For example, the _fib_ function below calculates and prints the Fibonacci series.\n",
    "It does not return any output values.\n"
   ]
  },
  {
   "cell_type": "code",
   "execution_count": 71,
   "metadata": {
    "colab": {
     "base_uri": "https://localhost:8080/"
    },
    "executionInfo": {
     "elapsed": 865,
     "status": "ok",
     "timestamp": 1602053551448,
     "user": {
      "displayName": "George Piatsky",
      "photoUrl": "",
      "userId": "11871908103632217156"
     },
     "user_tz": -180
    },
    "id": "soh6Z-luOCkO",
    "outputId": "b64de316-560d-48ac-f37e-6849b369c508",
    "pycharm": {
     "is_executing": false,
     "name": "#%%\n"
    }
   },
   "outputs": [
    {
     "name": "stdout",
     "output_type": "stream",
     "text": [
      "0 1 1 2 3 5 8 13 21 34 55 89 \n",
      "None\n"
     ]
    }
   ],
   "source": [
    "def fib(n): # write Fibonacci series up to n\n",
    "    \"\"\"Print a Fibonacci series up to n.\"\"\"\n",
    "    a, b = 0, 1\n",
    "    while a < n:\n",
    "        print(a, end=' ')\n",
    "        a, b = b, a + b\n",
    "    print()\n",
    "\n",
    "# Now call the function we just defined:\n",
    "A = fib(100)\n",
    "print(A)\n"
   ]
  },
  {
   "cell_type": "markdown",
   "metadata": {
    "id": "Qe0oDuOAOCkQ",
    "pycharm": {
     "name": "#%% md\n"
    }
   },
   "source": [
    "\n",
    "When a functions needs to return an output value, it uses the _return_ operator.\n",
    "In the example below, the _fib2_ function returns a list of the numbers of the Fibonacci\n",
    "series instead of printing them:\n",
    "\n"
   ]
  },
  {
   "cell_type": "code",
   "execution_count": 72,
   "metadata": {
    "id": "mewbJn19OCkR",
    "outputId": "1f680dfd-a8b6-4b53-9ed3-c9faa16f8872",
    "pycharm": {
     "is_executing": false,
     "name": "#%%\n"
    }
   },
   "outputs": [
    {
     "data": {
      "text/plain": [
       "[0, 1, 1, 2, 3, 5, 8, 13, 21, 34, 55, 89]"
      ]
     },
     "execution_count": 72,
     "metadata": {},
     "output_type": "execute_result"
    }
   ],
   "source": [
    "def fib2(n): # return Fibonacci series up to n\n",
    "    \"\"\"Return a list containing the Fibonacci series up to n.\"\"\"\n",
    "    result = []\n",
    "    a, b = 0, 1\n",
    "    while a < n:\n",
    "        result.append(a) # see below\n",
    "        a, b = b, a + b\n",
    "    return result\n",
    "\n",
    "\n",
    "f100 = fib2(100) # call it\n",
    "f100 # write the result\n"
   ]
  },
  {
   "cell_type": "markdown",
   "metadata": {
    "id": "Is9aBUHdOCkT"
   },
   "source": [
    "**Task 1** Write a Python function to check whether a number is in a given range  \n",
    "  \n",
    "**Input**  \n",
    "number_in_range(4, 1, 6)  \n",
    "  \n",
    "**Output**  \n",
    "YES, 4 is in the range from 1 to 6"
   ]
  },
  {
   "cell_type": "code",
   "execution_count": null,
   "metadata": {
    "id": "0A067fRl1h5i"
   },
   "outputs": [],
   "source": [
    "def number_in_range (input_number, bottom, top):\n",
    "  return \"YES\" if bottom <= input_number <= top else \"NO\""
   ]
  },
  {
   "cell_type": "markdown",
   "metadata": {
    "id": "-vs8bqhcOCkU"
   },
   "source": [
    "**Task 2** Write a Python function that accepts a string and calculate the number of upper case letters and lower case letters. Go to the editor  \n",
    "  \n",
    "**Input**  \n",
    "The quick Brown Fox  \n",
    "  \n",
    "**Output**  \n",
    "No. of Upper case characters : 3  \n",
    "No. of Lower case Characters : 13  \n",
    "  \n",
    "A **Hint**: use .isalpha() method\n",
    ".isupper ()  .islower()"
   ]
  },
  {
   "cell_type": "code",
   "execution_count": null,
   "metadata": {
    "id": "F44K1kcN2Im7"
   },
   "outputs": [],
   "source": []
  },
  {
   "cell_type": "markdown",
   "metadata": {
    "id": "Y28l5ovFOCkU",
    "pycharm": {
     "name": "#%% md\n"
    }
   },
   "source": [
    "\n",
    "### Recursion \n",
    "\n",
    "Python allows functions to call themselves to loop. This technique is known as _recursion_.\n",
    "\n",
    "For example, here is how we can use recursion to write a function that sums a list of numbers:\n",
    "\n"
   ]
  },
  {
   "cell_type": "code",
   "execution_count": 73,
   "metadata": {
    "id": "sLwXwiwuOCkV",
    "outputId": "e2da7536-892c-4d67-8ccb-1ee42fb73b21",
    "pycharm": {
     "is_executing": false,
     "name": "#%%\n"
    }
   },
   "outputs": [
    {
     "data": {
      "text/plain": [
       "15"
      ]
     },
     "execution_count": 73,
     "metadata": {},
     "output_type": "execute_result"
    }
   ],
   "source": [
    "def mysum(L):\n",
    "    if not L:\n",
    "        return 0\n",
    "    else:\n",
    "        return L[0] + mysum(L[1:]) # Call mysum recursively\n",
    "\n",
    "x = mysum([1,2,3,4,5])\n",
    "x\n"
   ]
  },
  {
   "cell_type": "code",
   "execution_count": 81,
   "metadata": {},
   "outputs": [
    {
     "ename": "SyntaxError",
     "evalue": "invalid syntax (<ipython-input-81-4481de3f7b4b>, line 4)",
     "output_type": "error",
     "traceback": [
      "\u001b[0;36m  File \u001b[0;32m\"<ipython-input-81-4481de3f7b4b>\"\u001b[0;36m, line \u001b[0;32m4\u001b[0m\n\u001b[0;31m    else:\u001b[0m\n\u001b[0m       ^\u001b[0m\n\u001b[0;31mSyntaxError\u001b[0m\u001b[0;31m:\u001b[0m invalid syntax\n"
     ]
    }
   ],
   "source": [
    "def fact(x):\n",
    "    if x <= 1:\n",
    "        return 1\n",
    "    else:\n",
    "        return x * fact(x-1)\n",
    "    \n",
    "fact(3)"
   ]
  },
  {
   "cell_type": "code",
   "execution_count": 96,
   "metadata": {
    "scrolled": true
   },
   "outputs": [
    {
     "name": "stdout",
     "output_type": "stream",
     "text": [
      "521321None\n"
     ]
    }
   ],
   "source": [
    "def printN(line):\n",
    "    if len(line)>1:\n",
    "        printN(line[1:]) \n",
    "    print(line[0],end='')\n",
    "\n",
    "#     return line[1:]+line[0]\n",
    "    \n",
    "x = printN('123125')\n",
    "print(x)"
   ]
  },
  {
   "cell_type": "markdown",
   "metadata": {
    "id": "3n1_qWe4OCkX",
    "pycharm": {}
   },
   "source": [
    "\n",
    "\n",
    "Here is how we can calculate a factorial using recursion:\n"
   ]
  },
  {
   "cell_type": "code",
   "execution_count": null,
   "metadata": {
    "id": "QAjs1RwJOCkY",
    "outputId": "5886aa7f-d287-4a13-9a7d-10b50b33ea89",
    "pycharm": {
     "is_executing": false,
     "name": "#%%\n"
    }
   },
   "outputs": [],
   "source": [
    "def factorial(n):\n",
    "    if n < 1:   # base case\n",
    "        return 1\n",
    "    else:\n",
    "        return n * factorial(n - 1)  # recursive call\n",
    "\n",
    "\n",
    "for i in range(10):\n",
    "    print(f\"{i}! = {factorial(i)}\")"
   ]
  },
  {
   "cell_type": "markdown",
   "metadata": {
    "id": "Y19RNjhQOCka"
   },
   "source": [
    "**Task 3** Write a Python program to calculate the value of 'a' to the power 'b'(integer)  \n",
    "  \n",
    "**Input**:  \n",
    "power_func(3,4)  \n",
    "  \n",
    "**Output**  \n",
    "81"
   ]
  },
  {
   "cell_type": "code",
   "execution_count": 99,
   "metadata": {},
   "outputs": [
    {
     "data": {
      "text/plain": [
       "27"
      ]
     },
     "execution_count": 99,
     "metadata": {},
     "output_type": "execute_result"
    }
   ],
   "source": [
    "def power_func(a,b):\n",
    "    if b == 0:\n",
    "        return 1\n",
    "    if b == 1:\n",
    "        return a\n",
    "    if b != 1:\n",
    "        return a * power_func(a, b - 1)\n",
    "    \n",
    "    \n",
    "power_func(3,3)"
   ]
  },
  {
   "cell_type": "code",
   "execution_count": 100,
   "metadata": {},
   "outputs": [],
   "source": [
    "myPrint = print"
   ]
  },
  {
   "cell_type": "code",
   "execution_count": 101,
   "metadata": {},
   "outputs": [
    {
     "name": "stdout",
     "output_type": "stream",
     "text": [
      "sss\n"
     ]
    }
   ],
   "source": [
    "myPrint('sss')"
   ]
  },
  {
   "cell_type": "code",
   "execution_count": 102,
   "metadata": {},
   "outputs": [
    {
     "data": {
      "text/plain": [
       "True"
      ]
     },
     "execution_count": 102,
     "metadata": {},
     "output_type": "execute_result"
    }
   ],
   "source": [
    "myPrint is print "
   ]
  },
  {
   "cell_type": "code",
   "execution_count": 110,
   "metadata": {},
   "outputs": [
    {
     "data": {
      "text/plain": [
       "True"
      ]
     },
     "execution_count": 110,
     "metadata": {},
     "output_type": "execute_result"
    }
   ],
   "source": [
    "a = 'qwerty'\n",
    "b = 'qwerty'\n",
    "\n",
    "a is b"
   ]
  },
  {
   "cell_type": "markdown",
   "metadata": {
    "id": "Wm3JpOfrOCka",
    "pycharm": {}
   },
   "source": [
    "\n",
    "\n",
    "### Lambdas\n",
    "\n",
    "Python functions are _first-class_, which means that we can assign them to variables and\n",
    "pass them into functions just like any other arguments:\n"
   ]
  },
  {
   "cell_type": "code",
   "execution_count": 111,
   "metadata": {
    "id": "W3G5bIYTOCkb",
    "outputId": "e6031ad9-927f-47d0-c87e-bcbed68c9c6c",
    "pycharm": {
     "is_executing": true,
     "name": "#%%\n"
    }
   },
   "outputs": [
    {
     "name": "stdout",
     "output_type": "stream",
     "text": [
      "2\n"
     ]
    }
   ],
   "source": [
    "def double(x):\n",
    "    return x * 2\n",
    "\n",
    "def apply_to_one(f):\n",
    "    \"\"\"calls the function f with 1 as its argument\"\"\"\n",
    "    return f(1)\n",
    "\n",
    "my_double = double          # refers to the previously defined function\n",
    "x = apply_to_one(my_double) # equals 2\n",
    "\n",
    "print(x)\n"
   ]
  },
  {
   "cell_type": "markdown",
   "metadata": {
    "id": "8OI-Ve58OCke",
    "pycharm": {
     "name": "#%% md\n"
    }
   },
   "source": [
    "It is also easy to create short anonymous functions, or _lambdas_:\n"
   ]
  },
  {
   "cell_type": "code",
   "execution_count": 25,
   "metadata": {
    "id": "nRBZavd7OCkf",
    "pycharm": {
     "name": "#%%\n"
    }
   },
   "outputs": [
    {
     "name": "stdout",
     "output_type": "stream",
     "text": [
      "5\n"
     ]
    }
   ],
   "source": [
    "def apply_to_one(f):\n",
    "    return f(1)\n",
    "\n",
    "\n",
    "y = apply_to_one(lambda x: x + 4) # equals 5\n",
    "print(y)\n"
   ]
  },
  {
   "cell_type": "markdown",
   "metadata": {
    "id": "BQqowIooOCkh",
    "pycharm": {}
   },
   "source": [
    "\n",
    "You can assign lambdas to variables, although most people will tell you that you should\n",
    "just use def instead:\n"
   ]
  },
  {
   "cell_type": "code",
   "execution_count": 26,
   "metadata": {
    "id": "quaxV-EiOCkh",
    "outputId": "cac56786-0a72-4444-e0dc-f8fa92a5e17e",
    "pycharm": {
     "name": "#%%\n"
    }
   },
   "outputs": [
    {
     "name": "stdout",
     "output_type": "stream",
     "text": [
      "8\n",
      "12\n"
     ]
    }
   ],
   "source": [
    "another_double1 = lambda x: 2 * x     # don't do this\n",
    "def another_double2(x): return 2 * x  # do this instead\n",
    "\n",
    "print(another_double1(4))\n",
    "print(another_double2(6))"
   ]
  },
  {
   "cell_type": "markdown",
   "metadata": {
    "id": "lk5_CYQROCkl",
    "pycharm": {
     "metadata": false
    }
   },
   "source": [
    "We can pass lambdas to other functions as arguments and return them from functions as return values. \n"
   ]
  },
  {
   "cell_type": "code",
   "execution_count": 112,
   "metadata": {
    "id": "8_EyLcfrOCkl",
    "outputId": "74237794-48f7-4ce5-c25c-792fc78ff210",
    "pycharm": {
     "metadata": false,
     "name": "#%%\n"
    }
   },
   "outputs": [
    {
     "name": "stdout",
     "output_type": "stream",
     "text": [
      "8\n",
      "0\n",
      "2\n"
     ]
    }
   ],
   "source": [
    "def doubler(f):\n",
    "    return lambda x: 2 * f(x)\n",
    "\n",
    "\n",
    "g = doubler(lambda x: x + 1)\n",
    "print(g(3))\n",
    "print(g(-1))\n",
    "print(g(0))\n",
    "\n",
    "# it's ok to have a little headache at this point, don't give up\n",
    "\n"
   ]
  },
  {
   "cell_type": "markdown",
   "metadata": {
    "id": "snX8a7UbOCko",
    "pycharm": {
     "name": "#%% md\n"
    }
   },
   "source": [
    "### Function parameters\n",
    "A function can has from zero to many arguments.\n"
   ]
  },
  {
   "cell_type": "code",
   "execution_count": 113,
   "metadata": {
    "id": "8k4JtKElOCko",
    "pycharm": {
     "metadata": false,
     "name": "#%%\n"
    }
   },
   "outputs": [],
   "source": [
    "def func0(): # Zero parameters\n",
    "    pass\n",
    "\n",
    "def func1(x): # One parameter\n",
    "    pass\n",
    "\n",
    "def func5(a, b, c, d, e): # Five parameters\n",
    "    pass"
   ]
  },
  {
   "cell_type": "markdown",
   "metadata": {
    "id": "CfRixZuDOCkq",
    "pycharm": {
     "metadata": false,
     "name": "#%% md\n"
    }
   },
   "source": [
    "Sometimes you may want to pass an arbitrary number of arguments:\n"
   ]
  },
  {
   "cell_type": "code",
   "execution_count": 119,
   "metadata": {},
   "outputs": [],
   "source": [
    "?print"
   ]
  },
  {
   "cell_type": "code",
   "execution_count": 122,
   "metadata": {
    "id": "Hm8u8ma_OCkq",
    "outputId": "29e7b116-6671-47c4-abc9-71cb3f5ad036",
    "pycharm": {
     "metadata": false,
     "name": "#%%\n"
    }
   },
   "outputs": [
    {
     "name": "stdout",
     "output_type": "stream",
     "text": [
      "<class 'tuple'>\n",
      "1f\n",
      "2f\n",
      "3f\n",
      "4f\n",
      "45f\n",
      "5f\n"
     ]
    }
   ],
   "source": [
    "def funcx(*qwerty,w='f'):  \n",
    "    print(type(qwerty))\n",
    "    for arg in qwerty:  \n",
    "        print(str(arg)+w) \n",
    "    \n",
    "funcx(1,2,3,4,45,5)\n"
   ]
  },
  {
   "cell_type": "markdown",
   "metadata": {
    "id": "CkV0tr65OCks",
    "pycharm": {
     "metadata": false,
     "name": "#%% md\n"
    }
   },
   "source": [
    "Function parameters can be given default arguments, which only need to be specified\n",
    "when you want a value other than the default:\n"
   ]
  },
  {
   "cell_type": "code",
   "execution_count": 115,
   "metadata": {
    "id": "dLZxji9zOCkt",
    "pycharm": {
     "name": "#%%\n"
    }
   },
   "outputs": [
    {
     "name": "stdout",
     "output_type": "stream",
     "text": [
      "hello\n",
      "my default message\n"
     ]
    }
   ],
   "source": [
    "def my_print(message=\"my default message\"):\n",
    "    print(message)\n",
    "\n",
    "\n",
    "my_print(\"hello\") # prints 'hello'\n",
    "my_print()        # prints 'my default message'\n"
   ]
  },
  {
   "cell_type": "markdown",
   "metadata": {
    "id": "_bzYwYwhOCkv",
    "pycharm": {}
   },
   "source": [
    "\n",
    "It is sometimes useful to specify arguments by name:\n"
   ]
  },
  {
   "cell_type": "code",
   "execution_count": 134,
   "metadata": {
    "id": "x_xHdM_4OCkw",
    "pycharm": {
     "name": "#%%\n"
    }
   },
   "outputs": [
    {
     "name": "stdout",
     "output_type": "stream",
     "text": [
      "0\n",
      "5\n",
      "-5\n",
      "-5\n",
      "5\n",
      "5\n"
     ]
    }
   ],
   "source": [
    "def subtract(a=0, b=0):\n",
    "    return a - b\n",
    "\n",
    "# Passing arguments without specifying their names:\n",
    "print(subtract())           # prints 0\n",
    "print(subtract(10, 5))      # prints 5\n",
    "print(subtract(0, 5))       # prints -5\n",
    "\n",
    "# Arguments with names\"\n",
    "print(subtract(b=5))        # prints -5\n",
    "print(subtract(b=5, a=10))  # prints 5\n",
    "print(subtract(a=10, b=5))  # prints 5"
   ]
  },
  {
   "cell_type": "code",
   "execution_count": 135,
   "metadata": {},
   "outputs": [
    {
     "data": {
      "text/plain": [
       "0"
      ]
     },
     "execution_count": 135,
     "metadata": {},
     "output_type": "execute_result"
    }
   ],
   "source": [
    "subtract()"
   ]
  },
  {
   "cell_type": "markdown",
   "metadata": {
    "id": "81BX1vmbnYi4",
    "pycharm": {
     "metadata": false
    }
   },
   "source": [
    "#### Scopes and Namespaces\n",
    "\n",
    "Scope rules:\n",
    "\n",
    "* If a variable is assigned inside a def, it is local to that function.\n",
    "* If a variable is assigned in an enclosing def, it is nonlocal to nested functions.\n",
    "* If a variable is assigned outside all defs, it is global to the entire file.\n",
    "\n",
    "This is an example demonstrating how to reference the different scopes and namespaces,\n",
    "and how _global_ and _nonlocal_ affect variable binding:\n"
   ]
  },
  {
   "cell_type": "code",
   "execution_count": 53,
   "metadata": {
    "colab": {
     "base_uri": "https://localhost:8080/"
    },
    "executionInfo": {
     "elapsed": 819,
     "status": "ok",
     "timestamp": 1602055564979,
     "user": {
      "displayName": "George Piatsky",
      "photoUrl": "",
      "userId": "11871908103632217156"
     },
     "user_tz": -180
    },
    "id": "GZGQiZ0anYi5",
    "outputId": "1f9efeb6-7ec4-4b23-eb41-a47308973264",
    "pycharm": {
     "metadata": false,
     "name": "#%%\n"
    }
   },
   "outputs": [
    {
     "name": "stdout",
     "output_type": "stream",
     "text": [
      "After local assignment: test spam\n",
      "After nonlocal assignment: nonlocal spam\n",
      "After global assignment: nonlocal spam\n",
      "In global scope: global spam\n"
     ]
    }
   ],
   "source": [
    "def scope_test():\n",
    "    def do_local():\n",
    "        spam = \"local spam\"\n",
    "\n",
    "    def do_nonlocal():\n",
    "        nonlocal spam\n",
    "        spam = \"nonlocal spam\"\n",
    "\n",
    "    def do_global():\n",
    "        global spam\n",
    "        spam = \"global spam\"\n",
    "\n",
    "    spam = \"test spam\"\n",
    "    do_local()\n",
    "    print(\"After local assignment:\", spam)\n",
    "    do_nonlocal()\n",
    "    print(\"After nonlocal assignment:\", spam)\n",
    "    do_global()\n",
    "    print(\"After global assignment:\", spam)\n",
    "\n",
    "scope_test()\n",
    "print(\"In global scope:\", spam)\n"
   ]
  },
  {
   "cell_type": "code",
   "execution_count": 146,
   "metadata": {},
   "outputs": [
    {
     "data": {
      "text/plain": [
       "'sa'"
      ]
     },
     "execution_count": 146,
     "metadata": {},
     "output_type": "execute_result"
    }
   ],
   "source": [
    "def a():\n",
    "    global x\n",
    "    x += 'a'\n",
    "       \n",
    "x = 's'\n",
    "a()\n",
    "x"
   ]
  },
  {
   "cell_type": "code",
   "execution_count": 58,
   "metadata": {
    "id": "_4VyK4U7OCk1",
    "outputId": "5665560e-7fb4-49b3-dbbe-02d31d1bedef"
   },
   "outputs": [
    {
     "name": "stdout",
     "output_type": "stream",
     "text": [
      "inner: nonlocal\n",
      "outer: nonlocal\n",
      "outer: nonlocal\n",
      "global: global spam\n"
     ]
    }
   ],
   "source": [
    "x = \"global\"\n",
    "def outer():\n",
    "    x = \"local\"\n",
    "\n",
    "    def inner():\n",
    "        nonlocal x\n",
    "        x = \"nonlocal\"\n",
    "        print(\"inner:\", x)\n",
    "    \n",
    "    def do_global():\n",
    "        global x\n",
    "        x = \"global spam\"\n",
    "    \n",
    "    inner()\n",
    "    print(\"outer:\", x)\n",
    "    do_global()\n",
    "    print(\"outer:\", x)\n",
    "    \n",
    "\n",
    "\n",
    "outer()\n",
    "print(\"global:\", x)"
   ]
  },
  {
   "cell_type": "markdown",
   "metadata": {
    "id": "yrYyW13YnYi9",
    "pycharm": {
     "metadata": false
    }
   },
   "source": [
    "Note how the local assignment (which is default) did not change scope_test’s binding of spam.\n",
    "The nonlocal assignment changed scope_test’s binding of spam, and the global assignment\n",
    "changed the module-level binding.\n",
    "\n",
    "You can also see that there was no previous binding for spam before the global assignment.\n"
   ]
  },
  {
   "cell_type": "code",
   "execution_count": 150,
   "metadata": {},
   "outputs": [],
   "source": [
    "def abc(x: str, y: list) -> str:\n",
    "    '''abd'''\n",
    "    return float(str(x)+y)\n",
    "\n",
    "?abc"
   ]
  },
  {
   "cell_type": "code",
   "execution_count": 148,
   "metadata": {},
   "outputs": [],
   "source": [
    "x: str = 1"
   ]
  },
  {
   "cell_type": "code",
   "execution_count": 151,
   "metadata": {},
   "outputs": [],
   "source": [
    "def func(x,y):\n",
    "    pass\n",
    "\n",
    "\n",
    "def func2(x,y):\n",
    "    '''qwerg'''\n",
    "    \n",
    "def func3(x: str, y: list) -> complex:\n",
    "    '''hfjfkdkdf'''"
   ]
  },
  {
   "cell_type": "code",
   "execution_count": 152,
   "metadata": {},
   "outputs": [],
   "source": [
    "func3(2,3)"
   ]
  },
  {
   "cell_type": "code",
   "execution_count": null,
   "metadata": {},
   "outputs": [],
   "source": []
  }
 ],
 "metadata": {
  "colab": {
   "name": "Workshop 9. Functions and Recursion.ipynb",
   "provenance": []
  },
  "kernelspec": {
   "display_name": "Python 3",
   "language": "python",
   "name": "python3"
  },
  "language_info": {
   "codemirror_mode": {
    "name": "ipython",
    "version": 3
   },
   "file_extension": ".py",
   "mimetype": "text/x-python",
   "name": "python",
   "nbconvert_exporter": "python",
   "pygments_lexer": "ipython3",
   "version": "3.7.7"
  },
  "pycharm": {
   "stem_cell": {
    "cell_type": "raw",
    "metadata": {
     "collapsed": false
    },
    "source": []
   }
  },
  "stem_cell": {
   "cell_type": "raw",
   "metadata": {
    "pycharm": {
     "metadata": false
    }
   },
   "source": ""
  }
 },
 "nbformat": 4,
 "nbformat_minor": 1
}
