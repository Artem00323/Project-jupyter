{
 "cells": [
  {
   "cell_type": "markdown",
   "metadata": {},
   "source": [
    "# Functions"
   ]
  },
  {
   "cell_type": "markdown",
   "metadata": {},
   "source": [
    "Starts with <b>def</b>, then <b>your_function_name</b> follows with parentheses"
   ]
  },
  {
   "cell_type": "code",
   "execution_count": 1,
   "metadata": {},
   "outputs": [],
   "source": [
    "def my_print_function():\n",
    "    print(\"Print from function!\")"
   ]
  },
  {
   "cell_type": "code",
   "execution_count": 2,
   "metadata": {},
   "outputs": [
    {
     "name": "stdout",
     "output_type": "stream",
     "text": [
      "Print from function!\n"
     ]
    }
   ],
   "source": [
    "my_print_function()"
   ]
  },
  {
   "cell_type": "markdown",
   "metadata": {},
   "source": [
    "## How to pass an information to functions"
   ]
  },
  {
   "cell_type": "code",
   "execution_count": 3,
   "metadata": {},
   "outputs": [],
   "source": [
    "def my_print_function_with_parameter(parameter): # through parameter[s] after the function name inside the parentheses\n",
    "    print(\"Print passed\",parameter)"
   ]
  },
  {
   "cell_type": "code",
   "execution_count": 4,
   "metadata": {},
   "outputs": [
    {
     "name": "stdout",
     "output_type": "stream",
     "text": [
      "Print passed smth,qwerty,123456\n"
     ]
    }
   ],
   "source": [
    "my_print_function_with_parameter(\"smth,qwerty,123456\")"
   ]
  },
  {
   "cell_type": "markdown",
   "metadata": {},
   "source": [
    "### The parameter did not have a default value in the case above, but we can do it like:"
   ]
  },
  {
   "cell_type": "code",
   "execution_count": 5,
   "metadata": {},
   "outputs": [],
   "source": [
    "def my_print_function_with_parameter_def(parameter=\"param\"): # through parameter[s] after the function name inside the parentheses\n",
    "    print(\"Print passed\",parameter)"
   ]
  },
  {
   "cell_type": "code",
   "execution_count": 8,
   "metadata": {},
   "outputs": [
    {
     "name": "stdout",
     "output_type": "stream",
     "text": [
      "Print passed param\n"
     ]
    }
   ],
   "source": [
    "my_print_function_with_parameter_def()"
   ]
  },
  {
   "cell_type": "code",
   "execution_count": 9,
   "metadata": {},
   "outputs": [
    {
     "name": "stdout",
     "output_type": "stream",
     "text": [
      "Print passed all_the_same_we_can_set_parameter\n"
     ]
    }
   ],
   "source": [
    "my_print_function_with_parameter_def(\"all_the_same_we_can_set_parameter\")"
   ]
  },
  {
   "cell_type": "code",
   "execution_count": 10,
   "metadata": {},
   "outputs": [],
   "source": [
    "def function_with_several_param(param_1=True,param_2=\"NaN\"):\n",
    "    print(\"param_1:{} param_2:{}\".format(param_1,param_2))"
   ]
  },
  {
   "cell_type": "code",
   "execution_count": 73,
   "metadata": {},
   "outputs": [
    {
     "name": "stdout",
     "output_type": "stream",
     "text": [
      "param_1:True param_2:NaN\n",
      "param_1:First param_2:NaN\n",
      "param_1:1 param_2:2\n",
      "param_1:True param_2:Second\n"
     ]
    }
   ],
   "source": [
    "function_with_several_param(),\n",
    "function_with_several_param(\"First\")\n",
    "function_with_several_param(1,2)\n",
    "function_with_several_param(param_2=\"Second\")"
   ]
  },
  {
   "cell_type": "code",
   "execution_count": 11,
   "metadata": {},
   "outputs": [],
   "source": [
    "def function_with_several_param_2(param_1,param_2=\"NaN\",param_3=\"None\"):\n",
    "    print(\"param_1:{} param_2:{} param_3:{}\".format(param_1,param_2,param_3))"
   ]
  },
  {
   "cell_type": "code",
   "execution_count": 60,
   "metadata": {},
   "outputs": [
    {
     "name": "stdout",
     "output_type": "stream",
     "text": [
      "param_1:1 param_2:NaN param_3:None\n",
      "param_1:1 param_2:2 param_3:None\n",
      "param_1:1 param_2:2 param_3:3\n",
      "param_1:1 param_2:NaN param_3:3\n"
     ]
    }
   ],
   "source": [
    "function_with_several_param_2(1)\n",
    "function_with_several_param_2(1,2)\n",
    "function_with_several_param_2(1,2,3)\n",
    "function_with_several_param_2(1,param_3='3')"
   ]
  },
  {
   "cell_type": "code",
   "execution_count": 12,
   "metadata": {},
   "outputs": [
    {
     "ename": "TypeError",
     "evalue": "function_with_several_param_2() missing 1 required positional argument: 'param_1'",
     "output_type": "error",
     "traceback": [
      "\u001b[0;31m---------------------------------------------------------------------------\u001b[0m",
      "\u001b[0;31mTypeError\u001b[0m                                 Traceback (most recent call last)",
      "\u001b[0;32m<ipython-input-12-e2e303b66f56>\u001b[0m in \u001b[0;36m<module>\u001b[0;34m()\u001b[0m\n\u001b[0;32m----> 1\u001b[0;31m \u001b[0mfunction_with_several_param_2\u001b[0m\u001b[0;34m(\u001b[0m\u001b[0;34m)\u001b[0m\u001b[0;34m\u001b[0m\u001b[0m\n\u001b[0m",
      "\u001b[0;31mTypeError\u001b[0m: function_with_several_param_2() missing 1 required positional argument: 'param_1'"
     ]
    }
   ],
   "source": [
    "function_with_several_param_2()"
   ]
  },
  {
   "cell_type": "code",
   "execution_count": 62,
   "metadata": {},
   "outputs": [
    {
     "ename": "SyntaxError",
     "evalue": "positional argument follows keyword argument (<ipython-input-62-6e6e6fdd827b>, line 1)",
     "output_type": "error",
     "traceback": [
      "\u001b[0;36m  File \u001b[0;32m\"<ipython-input-62-6e6e6fdd827b>\"\u001b[0;36m, line \u001b[0;32m1\u001b[0m\n\u001b[0;31m    function_with_several_param_2(param_2=\"123\",1)\u001b[0m\n\u001b[0m                                               ^\u001b[0m\n\u001b[0;31mSyntaxError\u001b[0m\u001b[0;31m:\u001b[0m positional argument follows keyword argument\n"
     ]
    }
   ],
   "source": [
    "function_with_several_param_2(param_2=\"123\",1)"
   ]
  },
  {
   "cell_type": "markdown",
   "metadata": {},
   "source": [
    "## Return values through function"
   ]
  },
  {
   "cell_type": "code",
   "execution_count": 13,
   "metadata": {},
   "outputs": [],
   "source": [
    "def return_values_function(x,y=10):\n",
    "    return x*y"
   ]
  },
  {
   "cell_type": "code",
   "execution_count": 14,
   "metadata": {},
   "outputs": [
    {
     "name": "stdout",
     "output_type": "stream",
     "text": [
      "60 3\n"
     ]
    }
   ],
   "source": [
    "value_1 = return_values_function(6)\n",
    "value_2 = return_values_function(1,3)\n",
    "print(value_1,value_2)"
   ]
  },
  {
   "cell_type": "code",
   "execution_count": 17,
   "metadata": {},
   "outputs": [],
   "source": [
    "def poo():\n",
    "    print(\"jello\")"
   ]
  },
  {
   "cell_type": "code",
   "execution_count": 21,
   "metadata": {},
   "outputs": [],
   "source": [
    "def return_values_function_2(x,y=10): # return max value\n",
    "    if x>y:\n",
    "        return x\n",
    "        print(\"NO PRINT HERE\") # no print after return\n",
    "    elif y>x:\n",
    "        return y\n",
    "    \n",
    "    return x\n",
    "    print(\"NO PRINT HERE\") # no print after return"
   ]
  },
  {
   "cell_type": "code",
   "execution_count": 22,
   "metadata": {},
   "outputs": [
    {
     "name": "stdout",
     "output_type": "stream",
     "text": [
      "NO PRINT HERE\n"
     ]
    }
   ],
   "source": [
    "value = return_values_function_2(10,10)\n",
    "value"
   ]
  },
  {
   "cell_type": "code",
   "execution_count": 23,
   "metadata": {},
   "outputs": [],
   "source": [
    "def more_complex_function(x,y=10):\n",
    "    i = 0\n",
    "    \n",
    "    while x//10<y:\n",
    "        print('At step #{}\\tx:{}'.format(i,x))\n",
    "        x +=15\n",
    "        i +=1\n",
    "        \n",
    "    print(\"\\nBefore return x: {}, y: {}\".format(x,y))    \n",
    "    print(\"The largest number: {}\".format(return_values_function_2(x,y))) # call another function inside our body function\n",
    "    \n",
    "    return x*y,x>y,'cool!' # several values can be returned"
   ]
  },
  {
   "cell_type": "code",
   "execution_count": 26,
   "metadata": {},
   "outputs": [
    {
     "name": "stdout",
     "output_type": "stream",
     "text": [
      "At step #0\tx:1\n",
      "At step #1\tx:16\n",
      "At step #2\tx:31\n",
      "At step #3\tx:46\n",
      "At step #4\tx:61\n",
      "At step #5\tx:76\n",
      "At step #6\tx:91\n",
      "At step #7\tx:106\n",
      "At step #8\tx:121\n",
      "At step #9\tx:136\n",
      "At step #10\tx:151\n",
      "\n",
      "Before return x: 166, y: 16\n",
      "The largest number: 166\n"
     ]
    },
    {
     "ename": "ValueError",
     "evalue": "too many values to unpack (expected 2)",
     "output_type": "error",
     "traceback": [
      "\u001b[0;31m---------------------------------------------------------------------------\u001b[0m",
      "\u001b[0;31mValueError\u001b[0m                                Traceback (most recent call last)",
      "\u001b[0;32m<ipython-input-26-97e0d8ab1d27>\u001b[0m in \u001b[0;36m<module>\u001b[0;34m()\u001b[0m\n\u001b[0;32m----> 1\u001b[0;31m \u001b[0mvalue_int\u001b[0m\u001b[0;34m,\u001b[0m\u001b[0mvalue_bool\u001b[0m \u001b[0;34m=\u001b[0m \u001b[0mmore_complex_function\u001b[0m\u001b[0;34m(\u001b[0m\u001b[0;36m1\u001b[0m\u001b[0;34m,\u001b[0m\u001b[0;36m16\u001b[0m\u001b[0;34m)\u001b[0m\u001b[0;34m\u001b[0m\u001b[0m\n\u001b[0m",
      "\u001b[0;31mValueError\u001b[0m: too many values to unpack (expected 2)"
     ]
    }
   ],
   "source": [
    "value_int,value_bool,value_str = more_complex_function(1,16)"
   ]
  },
  {
   "cell_type": "code",
   "execution_count": 110,
   "metadata": {},
   "outputs": [
    {
     "name": "stdout",
     "output_type": "stream",
     "text": [
      "2656\n",
      "True\n",
      "cool!\n"
     ]
    }
   ],
   "source": [
    "print(value_int)\n",
    "print(value_bool)\n",
    "print(value_str)"
   ]
  },
  {
   "cell_type": "code",
   "execution_count": 27,
   "metadata": {},
   "outputs": [
    {
     "name": "stdout",
     "output_type": "stream",
     "text": [
      "At step #0\tx:1\n",
      "At step #1\tx:16\n",
      "At step #2\tx:31\n",
      "At step #3\tx:46\n",
      "At step #4\tx:61\n",
      "At step #5\tx:76\n",
      "At step #6\tx:91\n",
      "At step #7\tx:106\n",
      "At step #8\tx:121\n",
      "At step #9\tx:136\n",
      "At step #10\tx:151\n",
      "\n",
      "Before return x: 166, y: 16\n",
      "The largest number: 166\n",
      "\n",
      "\n",
      "TYPE is HERE: <class 'tuple'>\n"
     ]
    }
   ],
   "source": [
    "print(\"\\n\\nTYPE is HERE:\",type(more_complex_function(1,16)))"
   ]
  },
  {
   "cell_type": "code",
   "execution_count": 28,
   "metadata": {},
   "outputs": [
    {
     "name": "stdout",
     "output_type": "stream",
     "text": [
      "(1, 2, 3, 4) (1, 2) ('one', 2)\n",
      "[1, 2, 3, 4] [1, 2] ['one', 2]\n"
     ]
    }
   ],
   "source": [
    "print((1,2,3,4),(1,2),('one',2)) # tuples\n",
    "print([1,2,3,4],[1,2],['one',2]) # lists"
   ]
  },
  {
   "cell_type": "markdown",
   "metadata": {},
   "source": [
    "### Local and global variables"
   ]
  },
  {
   "cell_type": "code",
   "execution_count": 31,
   "metadata": {},
   "outputs": [
    {
     "name": "stdout",
     "output_type": "stream",
     "text": [
      "1\n"
     ]
    }
   ],
   "source": [
    "a = 1\n",
    "\n",
    "def how_it_works():\n",
    "    print(a)    \n",
    "\n",
    "how_it_works()"
   ]
  },
  {
   "cell_type": "code",
   "execution_count": 32,
   "metadata": {},
   "outputs": [
    {
     "name": "stdout",
     "output_type": "stream",
     "text": [
      "Brefore function a: 10\n",
      "Inside function a: -10\n",
      "Outside function a: 10\n",
      "10\n"
     ]
    }
   ],
   "source": [
    "a = 10\n",
    "print(\"Brefore function a:\",a)\n",
    "\n",
    "def how_it_works_0():\n",
    "    a = -10\n",
    "    b = 1\n",
    "    print(\"Inside function a:\",a)\n",
    "    \n",
    "how_it_works_0()\n",
    "print(\"Outside function a:\",a)\n",
    "\n",
    "how_it_works() # outside function too"
   ]
  },
  {
   "cell_type": "code",
   "execution_count": 33,
   "metadata": {},
   "outputs": [
    {
     "ename": "NameError",
     "evalue": "name 'b' is not defined",
     "output_type": "error",
     "traceback": [
      "\u001b[0;31m---------------------------------------------------------------------------\u001b[0m",
      "\u001b[0;31mNameError\u001b[0m                                 Traceback (most recent call last)",
      "\u001b[0;32m<ipython-input-33-223501f828a8>\u001b[0m in \u001b[0;36m<module>\u001b[0;34m()\u001b[0m\n\u001b[0;32m----> 1\u001b[0;31m \u001b[0mprint\u001b[0m\u001b[0;34m(\u001b[0m\u001b[0mb\u001b[0m\u001b[0;34m)\u001b[0m \u001b[0;31m# name 'b' is not defined\u001b[0m\u001b[0;34m\u001b[0m\u001b[0m\n\u001b[0m",
      "\u001b[0;31mNameError\u001b[0m: name 'b' is not defined"
     ]
    }
   ],
   "source": [
    "print(b) # name 'b' is not defined"
   ]
  },
  {
   "cell_type": "code",
   "execution_count": 34,
   "metadata": {},
   "outputs": [],
   "source": [
    "def how_it_works_1(): \n",
    "    print(a)\n",
    "    a=0"
   ]
  },
  {
   "cell_type": "code",
   "execution_count": 35,
   "metadata": {},
   "outputs": [
    {
     "ename": "UnboundLocalError",
     "evalue": "local variable 'a' referenced before assignment",
     "output_type": "error",
     "traceback": [
      "\u001b[0;31m---------------------------------------------------------------------------\u001b[0m",
      "\u001b[0;31mUnboundLocalError\u001b[0m                         Traceback (most recent call last)",
      "\u001b[0;32m<ipython-input-35-31429102da59>\u001b[0m in \u001b[0;36m<module>\u001b[0;34m()\u001b[0m\n\u001b[0;32m----> 1\u001b[0;31m \u001b[0mhow_it_works_1\u001b[0m\u001b[0;34m(\u001b[0m\u001b[0;34m)\u001b[0m \u001b[0;31m# local variable 'a' referenced before assignment\u001b[0m\u001b[0;34m\u001b[0m\u001b[0m\n\u001b[0m",
      "\u001b[0;32m<ipython-input-34-b9a4921a38c1>\u001b[0m in \u001b[0;36mhow_it_works_1\u001b[0;34m()\u001b[0m\n\u001b[1;32m      1\u001b[0m \u001b[0;32mdef\u001b[0m \u001b[0mhow_it_works_1\u001b[0m\u001b[0;34m(\u001b[0m\u001b[0;34m)\u001b[0m\u001b[0;34m:\u001b[0m\u001b[0;34m\u001b[0m\u001b[0m\n\u001b[0;32m----> 2\u001b[0;31m     \u001b[0mprint\u001b[0m\u001b[0;34m(\u001b[0m\u001b[0ma\u001b[0m\u001b[0;34m)\u001b[0m\u001b[0;34m\u001b[0m\u001b[0m\n\u001b[0m\u001b[1;32m      3\u001b[0m     \u001b[0ma\u001b[0m\u001b[0;34m=\u001b[0m\u001b[0;36m0\u001b[0m\u001b[0;34m\u001b[0m\u001b[0m\n",
      "\u001b[0;31mUnboundLocalError\u001b[0m: local variable 'a' referenced before assignment"
     ]
    }
   ],
   "source": [
    "how_it_works_1() # local variable 'a' referenced before assignment"
   ]
  },
  {
   "cell_type": "code",
   "execution_count": 36,
   "metadata": {},
   "outputs": [],
   "source": [
    "def how_it_works_global():\n",
    "    global a \n",
    "    a = 1000"
   ]
  },
  {
   "cell_type": "code",
   "execution_count": 37,
   "metadata": {},
   "outputs": [
    {
     "name": "stdout",
     "output_type": "stream",
     "text": [
      "1000\n"
     ]
    }
   ],
   "source": [
    "a = 0\n",
    "how_it_works_global()\n",
    "print(a)"
   ]
  },
  {
   "cell_type": "markdown",
   "metadata": {},
   "source": [
    "## Built-in Functions\n",
    "https://docs.python.org/3/library/functions.html"
   ]
  },
  {
   "cell_type": "code",
   "execution_count": 38,
   "metadata": {},
   "outputs": [
    {
     "data": {
      "text/plain": [
       "2"
      ]
     },
     "execution_count": 38,
     "metadata": {},
     "output_type": "execute_result"
    }
   ],
   "source": [
    "abs(18-20)"
   ]
  },
  {
   "cell_type": "code",
   "execution_count": 39,
   "metadata": {},
   "outputs": [
    {
     "data": {
      "text/plain": [
       "(112, 2)"
      ]
     },
     "execution_count": 39,
     "metadata": {},
     "output_type": "execute_result"
    }
   ],
   "source": [
    "divmod(2018,18)"
   ]
  },
  {
   "cell_type": "code",
   "execution_count": 42,
   "metadata": {},
   "outputs": [
    {
     "data": {
      "text/plain": [
       "(1, 16, 179, 'Ͻ')"
      ]
     },
     "execution_count": 42,
     "metadata": {},
     "output_type": "execute_result"
    }
   ],
   "source": [
    "min(1,2,3,4,5),max(12,12,14,15,16),eval(\"13**2+10\"),chr(1021)"
   ]
  },
  {
   "cell_type": "markdown",
   "metadata": {},
   "source": [
    "## Recursion"
   ]
  },
  {
   "cell_type": "code",
   "execution_count": 43,
   "metadata": {},
   "outputs": [],
   "source": [
    "def recursion(x):\n",
    "    print(x)\n",
    "    \n",
    "    x = x//2\n",
    "    if x!=0:\n",
    "        recursion(x)"
   ]
  },
  {
   "cell_type": "code",
   "execution_count": 45,
   "metadata": {},
   "outputs": [
    {
     "name": "stdout",
     "output_type": "stream",
     "text": [
      "100024\n",
      "50012\n",
      "25006\n",
      "12503\n",
      "6251\n",
      "3125\n",
      "1562\n",
      "781\n",
      "390\n",
      "195\n",
      "97\n",
      "48\n",
      "24\n",
      "12\n",
      "6\n",
      "3\n",
      "1\n"
     ]
    }
   ],
   "source": [
    "recursion(100024)"
   ]
  },
  {
   "cell_type": "code",
   "execution_count": 50,
   "metadata": {},
   "outputs": [],
   "source": [
    "def factorial(n):\n",
    "    if n == 0:\n",
    "        return 1\n",
    "    \n",
    "    return n *factorial(n-1)"
   ]
  },
  {
   "cell_type": "code",
   "execution_count": 51,
   "metadata": {},
   "outputs": [
    {
     "name": "stdout",
     "output_type": "stream",
     "text": [
      "6\n"
     ]
    }
   ],
   "source": [
    "fac = factorial(3)\n",
    "print(fac)"
   ]
  },
  {
   "cell_type": "markdown",
   "metadata": {},
   "source": [
    "## A lambda function\n",
    "Small anonymous function"
   ]
  },
  {
   "cell_type": "code",
   "execution_count": 151,
   "metadata": {},
   "outputs": [],
   "source": [
    "lambda_function = lambda x : x + 10"
   ]
  },
  {
   "cell_type": "code",
   "execution_count": 152,
   "metadata": {},
   "outputs": [
    {
     "data": {
      "text/plain": [
       "<function __main__.<lambda>(x)>"
      ]
     },
     "execution_count": 152,
     "metadata": {},
     "output_type": "execute_result"
    }
   ],
   "source": [
    "lambda_function"
   ]
  },
  {
   "cell_type": "code",
   "execution_count": 153,
   "metadata": {},
   "outputs": [
    {
     "data": {
      "text/plain": [
       "2018"
      ]
     },
     "execution_count": 153,
     "metadata": {},
     "output_type": "execute_result"
    }
   ],
   "source": [
    "lambda_function(2008)"
   ]
  },
  {
   "cell_type": "code",
   "execution_count": 154,
   "metadata": {},
   "outputs": [],
   "source": [
    "lambda_function_2 = lambda x,y: x+y"
   ]
  },
  {
   "cell_type": "code",
   "execution_count": 155,
   "metadata": {},
   "outputs": [
    {
     "data": {
      "text/plain": [
       "38"
      ]
     },
     "execution_count": 155,
     "metadata": {},
     "output_type": "execute_result"
    }
   ],
   "source": [
    "lambda_function_2(20,18)"
   ]
  },
  {
   "cell_type": "code",
   "execution_count": 156,
   "metadata": {},
   "outputs": [],
   "source": [
    "lambda_function_greater = lambda x,y: x if x>y else y"
   ]
  },
  {
   "cell_type": "code",
   "execution_count": 157,
   "metadata": {},
   "outputs": [
    {
     "data": {
      "text/plain": [
       "6"
      ]
     },
     "execution_count": 157,
     "metadata": {},
     "output_type": "execute_result"
    }
   ],
   "source": [
    "lambda_function_greater(2,6)"
   ]
  },
  {
   "cell_type": "code",
   "execution_count": 158,
   "metadata": {},
   "outputs": [],
   "source": [
    "def lambda_usage(x):\n",
    "    return lambda y : y ** x"
   ]
  },
  {
   "cell_type": "code",
   "execution_count": 159,
   "metadata": {},
   "outputs": [
    {
     "data": {
      "text/plain": [
       "<function __main__.lambda_usage.<locals>.<lambda>(y)>"
      ]
     },
     "execution_count": 159,
     "metadata": {},
     "output_type": "execute_result"
    }
   ],
   "source": [
    "lambda_usage(10)"
   ]
  },
  {
   "cell_type": "code",
   "execution_count": 160,
   "metadata": {},
   "outputs": [],
   "source": [
    "lambda_function_3 = lambda_usage(10)"
   ]
  },
  {
   "cell_type": "code",
   "execution_count": 161,
   "metadata": {},
   "outputs": [
    {
     "data": {
      "text/plain": [
       "1024"
      ]
     },
     "execution_count": 161,
     "metadata": {},
     "output_type": "execute_result"
    }
   ],
   "source": [
    "lambda_function_3(2)"
   ]
  },
  {
   "cell_type": "code",
   "execution_count": 181,
   "metadata": {},
   "outputs": [],
   "source": [
    "a,b,c = 2,2,math.sqrt(8)"
   ]
  },
  {
   "cell_type": "code",
   "execution_count": 182,
   "metadata": {},
   "outputs": [
    {
     "name": "stdout",
     "output_type": "stream",
     "text": [
      "triangle\n"
     ]
    }
   ],
   "source": [
    "if 0<a<=b<=c and a+b>c and a+c>b and a+c>b:\n",
    "    print(\"triangle\")\n",
    "else:\n",
    "    print('impossible')"
   ]
  },
  {
   "cell_type": "code",
   "execution_count": 184,
   "metadata": {},
   "outputs": [
    {
     "data": {
      "text/plain": [
       "12"
      ]
     },
     "execution_count": 184,
     "metadata": {},
     "output_type": "execute_result"
    }
   ],
   "source": [
    "12%16"
   ]
  },
  {
   "cell_type": "code",
   "execution_count": null,
   "metadata": {},
   "outputs": [],
   "source": []
  }
 ],
 "metadata": {
  "kernelspec": {
   "display_name": "Python 3",
   "language": "python",
   "name": "python3"
  },
  "language_info": {
   "codemirror_mode": {
    "name": "ipython",
    "version": 3
   },
   "file_extension": ".py",
   "mimetype": "text/x-python",
   "name": "python",
   "nbconvert_exporter": "python",
   "pygments_lexer": "ipython3",
   "version": "3.7.7"
  }
 },
 "nbformat": 4,
 "nbformat_minor": 2
}
