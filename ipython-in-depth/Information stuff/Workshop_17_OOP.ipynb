{
 "cells": [
  {
   "cell_type": "markdown",
   "metadata": {
    "collapsed": true,
    "id": "xGng2p93gWd6",
    "pycharm": {
     "name": "#%% md\n"
    }
   },
   "source": [
    "\n",
    "## _Object-oriented programming._\n",
    "\n",
    "#### Classes and Objects\n"
   ]
  },
  {
   "cell_type": "code",
   "execution_count": 122,
   "metadata": {
    "id": "QP4IzCOggWd7",
    "pycharm": {
     "metadata": false,
     "name": "#%%\n"
    }
   },
   "outputs": [
    {
     "name": "stdout",
     "output_type": "stream",
     "text": [
      "<__main__.MyClass object at 0x7fe72b6c40d0>\n",
      "<class '__main__.MyClass'>\n",
      "<__main__.MyClass object at 0x7fe72b6c4710>\n",
      "<class '__main__.MyClass'>\n",
      "0\n",
      "<class 'int'>\n"
     ]
    }
   ],
   "source": [
    "class MyClass:\n",
    "    pass\n",
    "\n",
    "\n",
    "obj1 = MyClass()\n",
    "obj2 = MyClass()\n",
    "obj3 = int()\n",
    "\n",
    "print(obj1)\n",
    "print(type(obj1))\n",
    "\n",
    "print(obj2)\n",
    "print(type(obj2))\n",
    "\n",
    "print(obj3)\n",
    "print(type(obj3))"
   ]
  },
  {
   "cell_type": "markdown",
   "metadata": {
    "id": "vGOfIhy7gWeA",
    "pycharm": {
     "metadata": false
    }
   },
   "source": [
    "##### Constructor and destructor"
   ]
  },
  {
   "cell_type": "code",
   "execution_count": 5,
   "metadata": {
    "id": "XddvEB0RgWeA",
    "pycharm": {
     "metadata": false,
     "name": "#%%\n"
    }
   },
   "outputs": [
    {
     "name": "stdout",
     "output_type": "stream",
     "text": [
      "Employee created.\n",
      "Destructor called, Employee deleted.\n"
     ]
    }
   ],
   "source": [
    "class Employee:   \n",
    "    def __init__(self): \n",
    "        print('Employee created.') \n",
    "  \n",
    "    def __del__(self): \n",
    "        print('Destructor called, Employee deleted.') \n",
    "  \n",
    "obj = Employee() \n",
    "del obj "
   ]
  },
  {
   "cell_type": "markdown",
   "metadata": {
    "id": "s6e-GMlTgWeE",
    "pycharm": {
     "metadata": false,
     "name": "#%% md\n"
    }
   },
   "source": [
    "##### Attributes and methods\n"
   ]
  },
  {
   "cell_type": "code",
   "execution_count": 6,
   "metadata": {},
   "outputs": [],
   "source": [
    "a = str('aa aa')"
   ]
  },
  {
   "cell_type": "code",
   "execution_count": 7,
   "metadata": {},
   "outputs": [
    {
     "data": {
      "text/plain": [
       "['aa', 'aa']"
      ]
     },
     "execution_count": 7,
     "metadata": {},
     "output_type": "execute_result"
    }
   ],
   "source": [
    "a.split()"
   ]
  },
  {
   "cell_type": "code",
   "execution_count": 13,
   "metadata": {
    "colab": {
     "base_uri": "https://localhost:8080/"
    },
    "id": "7H_yO-DegWeE",
    "outputId": "82b40749-af61-48cb-836c-98c9b0255233",
    "pycharm": {
     "metadata": false,
     "name": "#%%\n"
    }
   },
   "outputs": [
    {
     "data": {
      "text/plain": [
       "{'name': 'Steve', 'grade': 10}"
      ]
     },
     "execution_count": 13,
     "metadata": {},
     "output_type": "execute_result"
    }
   ],
   "source": [
    "class Student:\n",
    "    def __init__(self, name='', grade=0):\n",
    "        self.name = name\n",
    "        self.grade = grade\n",
    "        \n",
    "    def printS(self):\n",
    "        print(f'{self.name} {self.grade}')\n",
    "        \n",
    "    def __str__(self):\n",
    "        return f'{self.name}: {self.grade}'\n",
    "        \n",
    "    def absS(x):\n",
    "        return abs(x)\n",
    "\n",
    "        \n",
    "# print(Student('Steve', 10))\n",
    "\n",
    "\n",
    "# students = [Student('Steve', 9), Student('Oleg', 10)]\n",
    "\n",
    "# for student in students:\n",
    "#     print()\n",
    "#     print('student.name = ' + student.name)\n",
    "#     print('student.grade = ' + str(student.grade))\n",
    "#     print('student = ' + str(student))\n",
    "#     student.learn()\n",
    "\n",
    "# obj = Student()\n",
    "# obj.grade = 10\n",
    "\n",
    "\n",
    "obj = Student('Steve',10)\n",
    "\n",
    "# obj.printS()\n",
    "# \n",
    "\n",
    "\n",
    "\n",
    "obj.__dict__\n",
    "# obj = Student('Steve', 10)\n",
    "# obj.learn()\n",
    "# obj2 = Student('H', 10)\n",
    "# obj.ex\n",
    "# Student.absS(-10)"
   ]
  },
  {
   "cell_type": "code",
   "execution_count": 162,
   "metadata": {},
   "outputs": [
    {
     "name": "stdout",
     "output_type": "stream",
     "text": [
      "0+0i\n"
     ]
    }
   ],
   "source": [
    "class Complex:\n",
    "    def __init__(self, real=0, img=0):\n",
    "        self.real = real\n",
    "        self.img = img\n",
    "        \n",
    "    def __str__(self):\n",
    "        return f'{self.real}+{self.img}i'\n",
    "\n",
    "c = Complex() \n",
    "print(c)"
   ]
  },
  {
   "cell_type": "markdown",
   "metadata": {
    "id": "ZoXt7YU5gWeH",
    "pycharm": {
     "metadata": false,
     "name": "#%% md\n"
    }
   },
   "source": [
    "##### Class and instance attributes\n"
   ]
  },
  {
   "cell_type": "code",
   "execution_count": 169,
   "metadata": {
    "colab": {
     "base_uri": "https://localhost:8080/"
    },
    "id": "OfN7dBv2gWeI",
    "outputId": "abe1866f-9476-4827-81e8-eb700e3a319a",
    "pycharm": {
     "metadata": false,
     "name": "#%%\n"
    }
   },
   "outputs": [
    {
     "name": "stdout",
     "output_type": "stream",
     "text": [
      "\n",
      "Steve : student\n",
      "Mark : student\n",
      "\n",
      "Steve : graduate\n",
      "Mark : graduate\n",
      "{'name': 'Steve'} {'name': 'Mark'}\n",
      "\n",
      "Steve : graduate\n",
      "Mark : student\n",
      "{'name': 'Steve', 'status': 'graduate'} {'name': 'Mark'}\n"
     ]
    }
   ],
   "source": [
    "class Person:\n",
    "\n",
    "    # class variable shared by all instances\n",
    "    status = 'student'\n",
    "    \n",
    "    def __str__(self):\n",
    "        return self.name[::]\n",
    "\n",
    "    def __init__(self, name):\n",
    "        # instance variable unique to each instance\n",
    "        self.name = name\n",
    "\n",
    "\n",
    "a = Person('Steve')\n",
    "b = Person('Mark')\n",
    "\n",
    "\n",
    "print('')\n",
    "print(a.name + ' : ' + a.status)\n",
    "print(b.name + ' : ' + b.status)\n",
    "\n",
    "Person.status = 'graduate'\n",
    "\n",
    "print('')\n",
    "print(a.name + ' : ' + a.status)\n",
    "print(b.name + ' : ' + b.status)\n",
    "print(a.__dict__,b.__dict__)\n",
    "\n",
    "Person.status = 'student'\n",
    "a.status = 'graduate'\n",
    "Person.status = 'student'\n",
    "\n",
    "print('')\n",
    "print(a.name + ' : ' + a.status)\n",
    "print(b.name + ' : ' + b.status)\n",
    "print(a.__dict__,b.__dict__)\n"
   ]
  },
  {
   "cell_type": "markdown",
   "metadata": {
    "id": "cRlF8qM8gWeL",
    "pycharm": {
     "metadata": false,
     "name": "#%% md\n"
    }
   },
   "source": [
    "##### Class and static methods\n"
   ]
  },
  {
   "cell_type": "code",
   "execution_count": 173,
   "metadata": {
    "colab": {
     "base_uri": "https://localhost:8080/"
    },
    "id": "85ZUj8bugWeL",
    "outputId": "cf6c78c3-31b1-4516-f54e-a9ef6e23c4a9",
    "pycharm": {
     "metadata": false,
     "name": "#%%\n"
    }
   },
   "outputs": [
    {
     "name": "stdout",
     "output_type": "stream",
     "text": [
      "guest\n",
      "Windows\n",
      "guest\n",
      "Windows\n"
     ]
    }
   ],
   "source": [
    "class Env:\n",
    "    os = 'Windows'\n",
    "\n",
    "    @classmethod\n",
    "    def print_os(self):\n",
    "        print(self.os)\n",
    "        \n",
    "    @staticmethod\n",
    "    def print_user():\n",
    "        print('guest')\n",
    "\n",
    "        \n",
    "a = Env()\n",
    "a.os = '123'\n",
    "a.print_user()\n",
    "Env.print_os()\n",
    "Env.print_user()\n",
    "a.print_os()"
   ]
  },
  {
   "cell_type": "markdown",
   "metadata": {
    "id": "2OQSNRdygWeO",
    "pycharm": {
     "metadata": false,
     "name": "#%% md\n"
    }
   },
   "source": [
    "##### Encapsulation"
   ]
  },
  {
   "cell_type": "code",
   "execution_count": 177,
   "metadata": {
    "colab": {
     "base_uri": "https://localhost:8080/"
    },
    "id": "a-XZM32KgWeP",
    "outputId": "1376c030-db67-427e-d695-6d4486adbbdc",
    "pycharm": {
     "metadata": false,
     "name": "#%%\n"
    }
   },
   "outputs": [
    {
     "data": {
      "text/plain": [
       "'YUUU'"
      ]
     },
     "execution_count": 177,
     "metadata": {},
     "output_type": "execute_result"
    }
   ],
   "source": [
    "class Person:\n",
    "\n",
    "    def __init__(self, name):\n",
    "        self.name = name\n",
    "\n",
    "    def __str__(self):\n",
    "        return 'My name is ' + self.name\n",
    "    \n",
    "    def getName(self):\n",
    "        return self.name\n",
    "    \n",
    "    def setName(self, name):\n",
    "        self.name = name\n",
    "\n",
    "\n",
    "person = Person('Steve')\n",
    "person.name = 'YUUU'\n",
    "person.name\n",
    "# person.setName('Name')\n",
    "# print(person.name,person.getName())\n",
    "\n",
    "\n",
    "# person.name = 'Said' \n",
    "# print(person.name)\n"
   ]
  },
  {
   "cell_type": "code",
   "execution_count": null,
   "metadata": {},
   "outputs": [],
   "source": [
    "class Person:\n",
    "\n",
    "    def __init__(self, name):\n",
    "        self._name = name\n",
    "\n",
    "    def __str__(self):\n",
    "        return 'My name is ' + self._name\n",
    "\n",
    "person = Person('Steve')\n"
   ]
  },
  {
   "cell_type": "code",
   "execution_count": 183,
   "metadata": {
    "colab": {
     "base_uri": "https://localhost:8080/",
     "height": 224
    },
    "id": "g4hmkGnigWeS",
    "outputId": "b6a6ac4a-0c19-481c-979f-1f3909b5fd00",
    "pycharm": {
     "metadata": false,
     "name": "#%%\n"
    }
   },
   "outputs": [
    {
     "name": "stdout",
     "output_type": "stream",
     "text": [
      "123\n",
      "My name is 123\n"
     ]
    }
   ],
   "source": [
    "class Identity:\n",
    "\n",
    "    def __init__(self, name):\n",
    "        self.__name = name\n",
    "\n",
    "    def __str__(self):\n",
    "        return 'My name is ' + self.__name\n",
    "\n",
    "\n",
    "person = Identity('Steve')\n",
    "\n",
    "person._Identity__name = '123'\n",
    "print(person._Identity__name)\n",
    "# print(person.__name)\n",
    "\n",
    "print(person)\n"
   ]
  },
  {
   "cell_type": "markdown",
   "metadata": {
    "id": "6FiiYyQpgWeV",
    "pycharm": {
     "metadata": false
    }
   },
   "source": [
    "##### Operator overloading\n"
   ]
  },
  {
   "cell_type": "code",
   "execution_count": 210,
   "metadata": {},
   "outputs": [
    {
     "data": {
      "text/plain": [
       "20-20"
      ]
     },
     "execution_count": 210,
     "metadata": {},
     "output_type": "execute_result"
    }
   ],
   "source": [
    "class Number:\n",
    "    def __init__(self, value, num = 10):\n",
    "        self.value = value\n",
    "        self.num = num\n",
    "    \n",
    "    def __repr__(self):\n",
    "        return f'{self.value}-{self.num}'\n",
    "    \n",
    "    def __str__(self):\n",
    "        return f'{self.value}-{self.num}'\n",
    "\n",
    "\n",
    "    def __eq__(self, other):\n",
    "        return self.value+self.num == other.value + other.num\n",
    "    \n",
    "    def __add__(self, other):\n",
    "        return Number(self.value + other.value,self.num+other.num)\n",
    "    \n",
    "    def __and__(self, other):\n",
    "        return Number(self.value + other.value,self.num+other.num)\n",
    "\n",
    "a = Number(10)\n",
    "b = Number(10, 10)\n",
    "\n",
    "\n",
    "a & b"
   ]
  },
  {
   "cell_type": "code",
   "execution_count": null,
   "metadata": {
    "colab": {
     "base_uri": "https://localhost:8080/",
     "height": 292
    },
    "id": "J9Aypg-jgWeV",
    "outputId": "eb2b3a41-f662-451a-b99a-39f5eba2963f",
    "pycharm": {
     "metadata": false,
     "name": "#%%\n"
    }
   },
   "outputs": [],
   "source": [
    "class Number:\n",
    "\n",
    "    def __init__(self, value, ex=10):\n",
    "        self.__value = value\n",
    "        self.f_ex = ex\n",
    "\n",
    "    def __del__(self):\n",
    "        pass\n",
    "\n",
    "    def __str__(self):\n",
    "        return str(self.__value)\n",
    "\n",
    "    def __int__(self):\n",
    "        return self.__value\n",
    "\n",
    "    def __eq__(self, other):\n",
    "        return self.f_ex == other.f_ex\n",
    "\n",
    "    def __ne__(self, other):\n",
    "        return self.__value != other.__value\n",
    "\n",
    "    def __lt__(self, other):\n",
    "        return self.__value < other.__value\n",
    "    \n",
    "    def __le__(self, other):\n",
    "        return self.__value <= other.__value\n",
    "    \n",
    "    def __gt__(self, other):\n",
    "        return self.__value > other.__value\n",
    "\n",
    "    def __add__(self, other):\n",
    "        return Number(self.__value + other.__value)\n",
    "\n",
    "    def __mul__(self, other):\n",
    "        return Number(self.__value * other.__value)\n",
    "\n",
    "    def __neg__(self):\n",
    "        return Number(-self.__value)\n",
    "\n",
    "\n",
    "a = Number(10)\n",
    "\n",
    "b = Number(20,10)\n",
    "print(a == b)\n",
    "c = Number(5)\n",
    "\n",
    "# Overloaded operators\n",
    "x = -a + b * c\n",
    "print(x)\n",
    "\n",
    "print(a < b)\n",
    "print(b > c)\n",
    "\n",
    "# Unsupported operators\n",
    "print(a <= b)\n",
    "print(b >= c)\n",
    "print(a // c)\n"
   ]
  },
  {
   "cell_type": "code",
   "execution_count": null,
   "metadata": {},
   "outputs": [],
   "source": []
  },
  {
   "cell_type": "markdown",
   "metadata": {
    "id": "TrTxNsm4gWeY",
    "pycharm": {
     "metadata": false,
     "name": "#%% md\n"
    }
   },
   "source": [
    "#### Inheritance and polymorphism"
   ]
  },
  {
   "cell_type": "code",
   "execution_count": 211,
   "metadata": {
    "colab": {
     "base_uri": "https://localhost:8080/"
    },
    "id": "9clVlpcOgWeZ",
    "outputId": "01fdf94f-9973-4aff-fd93-fc49a5534bdf",
    "pycharm": {
     "metadata": false,
     "name": "#%%\n"
    }
   },
   "outputs": [
    {
     "name": "stdout",
     "output_type": "stream",
     "text": [
      "<class '__main__.Creature'>\n",
      "Creature\n",
      "My name is Creature!\n",
      "--------------\n",
      "<class '__main__.Dog'>\n",
      "Dog\n",
      "Woof!\n",
      "My name is Dog!\n",
      "--------------\n",
      "<class '__main__.Cat'>\n",
      "Cat\n",
      "Meow!\n",
      "My name is Cat!\n",
      "--------------\n",
      "<class '__main__.Lion'>\n",
      "Lion\n",
      "Roar!\n",
      "My name is Lion!\n",
      "--------------\n",
      "<class 'int'>\n"
     ]
    },
    {
     "ename": "AttributeError",
     "evalue": "'int' object has no attribute 'name'",
     "output_type": "error",
     "traceback": [
      "\u001b[0;31m---------------------------------------------------------------------------\u001b[0m",
      "\u001b[0;31mAttributeError\u001b[0m                            Traceback (most recent call last)",
      "\u001b[0;32m<ipython-input-211-1054ee882cd7>\u001b[0m in \u001b[0;36m<module>\u001b[0;34m\u001b[0m\n\u001b[1;32m     29\u001b[0m \u001b[0;32mfor\u001b[0m \u001b[0manimal\u001b[0m \u001b[0;32min\u001b[0m \u001b[0manimals\u001b[0m\u001b[0;34m:\u001b[0m\u001b[0;34m\u001b[0m\u001b[0;34m\u001b[0m\u001b[0m\n\u001b[1;32m     30\u001b[0m     \u001b[0mprint\u001b[0m\u001b[0;34m(\u001b[0m\u001b[0mtype\u001b[0m\u001b[0;34m(\u001b[0m\u001b[0manimal\u001b[0m\u001b[0;34m)\u001b[0m\u001b[0;34m)\u001b[0m\u001b[0;34m\u001b[0m\u001b[0;34m\u001b[0m\u001b[0m\n\u001b[0;32m---> 31\u001b[0;31m     \u001b[0mprint\u001b[0m\u001b[0;34m(\u001b[0m\u001b[0manimal\u001b[0m\u001b[0;34m.\u001b[0m\u001b[0mname\u001b[0m\u001b[0;34m)\u001b[0m\u001b[0;34m\u001b[0m\u001b[0;34m\u001b[0m\u001b[0m\n\u001b[0m\u001b[1;32m     32\u001b[0m     \u001b[0manimal\u001b[0m\u001b[0;34m.\u001b[0m\u001b[0msay\u001b[0m\u001b[0;34m(\u001b[0m\u001b[0;34m)\u001b[0m\u001b[0;34m\u001b[0m\u001b[0;34m\u001b[0m\u001b[0m\n\u001b[1;32m     33\u001b[0m     \u001b[0manimal\u001b[0m\u001b[0;34m.\u001b[0m\u001b[0mprint\u001b[0m\u001b[0;34m(\u001b[0m\u001b[0;34m)\u001b[0m\u001b[0;34m\u001b[0m\u001b[0;34m\u001b[0m\u001b[0m\n",
      "\u001b[0;31mAttributeError\u001b[0m: 'int' object has no attribute 'name'"
     ]
    }
   ],
   "source": [
    "class Creature:\n",
    "    def __init__(self, name='Creature'):\n",
    "        self.name = name\n",
    "    \n",
    "    def say(self):\n",
    "        pass\n",
    "    \n",
    "    def print(self):\n",
    "        print(f'My name is {self.name}!')\n",
    "\n",
    "\n",
    "class Dog(Creature):  \n",
    "    def say(self):\n",
    "        print('Woof!')\n",
    "\n",
    "\n",
    "class Cat(Creature):\n",
    "    def say(self):\n",
    "        print(\"Meow!\")\n",
    "\n",
    "\n",
    "class Lion(Creature):\n",
    "    def say(self):\n",
    "        print(\"Roar!\")\n",
    "        \n",
    "\n",
    "animals = [Creature(), Dog('Dog'), Cat('Cat'), Lion('Lion'),1]\n",
    "\n",
    "for animal in animals:\n",
    "    print(type(animal))\n",
    "    print(animal.name)\n",
    "    animal.say()\n",
    "    animal.print()\n",
    "    print('--------------')\n"
   ]
  },
  {
   "cell_type": "code",
   "execution_count": null,
   "metadata": {},
   "outputs": [],
   "source": [
    "class A:\n",
    "    def __init__(self, a):\n",
    "        \n",
    "        self.fa = a\n",
    "\n",
    "        \n",
    "print(A(1).fa)"
   ]
  },
  {
   "cell_type": "markdown",
   "metadata": {
    "id": "QaSiRujwgWed",
    "pycharm": {
     "metadata": false,
     "name": "#%% md\n"
    }
   },
   "source": [
    "##### Multiple inheritance\n"
   ]
  },
  {
   "cell_type": "code",
   "execution_count": 212,
   "metadata": {
    "colab": {
     "base_uri": "https://localhost:8080/"
    },
    "id": "DRkHRR1XgWee",
    "outputId": "c7fcf08e-7fd5-4014-b956-7a8bbff8ede1",
    "pycharm": {
     "metadata": false,
     "name": "#%%\n"
    }
   },
   "outputs": [
    {
     "name": "stdout",
     "output_type": "stream",
     "text": [
      "Oleg\n",
      "Grade 9\n",
      "---------------\n",
      "Sergei\n",
      "Salary 1000\n",
      "Grade 10\n",
      "---------------\n",
      "Andrei\n",
      "Salary 2000\n",
      "---------------\n"
     ]
    }
   ],
   "source": [
    "class Person:\n",
    "    def __init__(self, name):\n",
    "        self.name = name\n",
    "        \n",
    "class Employee:\n",
    "    def __init__(self, salary):\n",
    "        self.salary = salary\n",
    "\n",
    "\n",
    "\n",
    "class Student(Person):\n",
    "    def __init__(self, name, grade):\n",
    "        super().__init__(name)\n",
    "        self.grade = grade\n",
    "\n",
    "\n",
    "\n",
    "class Teacher(Person, Employee):\n",
    "    def __init__(self, name, salary):\n",
    "        Person.__init__(self, name)\n",
    "        Employee.__init__(self, salary)\n",
    "        \n",
    "\n",
    "\n",
    "class TA(Student, Employee):\n",
    "    def __init__(self, name, grage, salary):\n",
    "        Student.__init__(self, name, grage)\n",
    "        Employee.__init__(self, salary)\n",
    "\n",
    "\n",
    "x = Student('Oleg', 9)\n",
    "y = TA('Sergei', 10, 1000)\n",
    "z = Teacher('Andrei', 2000)\n",
    "\n",
    "for person in [x, y, z]:\n",
    "    print(person.name)\n",
    "    if isinstance(person, Employee):\n",
    "        print('Salary',person.salary)\n",
    "    if isinstance(person, Student):\n",
    "        print('Grade',person.grade)\n",
    "    print('---------------')\n"
   ]
  },
  {
   "cell_type": "markdown",
   "metadata": {
    "id": "_aFKzyQtgWeg",
    "pycharm": {
     "metadata": false,
     "name": "#%% md\n"
    }
   },
   "source": [
    "##### Function _isinstance_\n"
   ]
  },
  {
   "cell_type": "code",
   "execution_count": 213,
   "metadata": {
    "colab": {
     "base_uri": "https://localhost:8080/"
    },
    "id": "klaZ1ZVXgWeh",
    "outputId": "8d313c9a-69fb-43a7-b31c-e168cbef8631",
    "pycharm": {
     "metadata": false,
     "name": "#%%\n"
    }
   },
   "outputs": [
    {
     "name": "stdout",
     "output_type": "stream",
     "text": [
      "\n",
      "True\n",
      "False\n",
      "False\n",
      "\n",
      "False\n",
      "True\n",
      "False\n",
      "\n",
      "False\n",
      "False\n",
      "True\n"
     ]
    }
   ],
   "source": [
    "x = 10\n",
    "print('')\n",
    "print(isinstance(x, int))\n",
    "print(isinstance(x, float))\n",
    "print(isinstance(x, str))\n",
    "\n",
    "y = 3.14\n",
    "print('')\n",
    "print(isinstance(y, int))\n",
    "print(isinstance(y, float))\n",
    "print(isinstance(y, str))\n",
    "\n",
    "\n",
    "z = 'Hello world'\n",
    "print('')\n",
    "print(isinstance(z, int))\n",
    "print(isinstance(z, float))\n",
    "print(isinstance(z, str))\n"
   ]
  },
  {
   "cell_type": "code",
   "execution_count": 217,
   "metadata": {
    "colab": {
     "base_uri": "https://localhost:8080/"
    },
    "id": "SQG-iRhCgWej",
    "outputId": "66c79bd1-dd4f-4952-c6e9-3a9295e9b2c1",
    "pycharm": {
     "metadata": false,
     "name": "#%%\n"
    }
   },
   "outputs": [
    {
     "name": "stdout",
     "output_type": "stream",
     "text": [
      "\n",
      "True\n",
      "True\n",
      "True\n",
      "\n",
      "True\n",
      "False\n",
      "True\n",
      "False\n",
      "\n",
      "True\n",
      "True\n",
      "True\n",
      "False\n",
      "False\n",
      "\n",
      "True\n",
      "True\n",
      "True\n",
      "False\n",
      "True\n",
      "True\n"
     ]
    }
   ],
   "source": [
    "class O:\n",
    "    pass\n",
    "\n",
    "class A(O):\n",
    "    pass\n",
    "\n",
    "\n",
    "class B:\n",
    "    pass\n",
    "\n",
    "\n",
    "class C(A):\n",
    "    pass\n",
    "\n",
    "\n",
    "class D(A, B):\n",
    "    pass\n",
    "\n",
    "\n",
    "a = A()\n",
    "b = B()\n",
    "c = C()\n",
    "d = D()\n",
    "\n",
    "print('')\n",
    "print(isinstance(a, object))\n",
    "print(isinstance(a, A))\n",
    "print(isinstance(b, B))\n",
    "\n",
    "print('')\n",
    "print(isinstance(b, object))\n",
    "print(isinstance(b, A))\n",
    "print(isinstance(b, B))\n",
    "print(isinstance(b, C))\n",
    "\n",
    "print('')\n",
    "print(isinstance(c, object))\n",
    "print(isinstance(c, A))\n",
    "print(isinstance(c, C))\n",
    "print(isinstance(c, B))\n",
    "print(isinstance(c, D))\n",
    "\n",
    "\n",
    "print('')\n",
    "print(isinstance(d, object))\n",
    "print(isinstance(d, A))\n",
    "print(isinstance(d, B))\n",
    "print(isinstance(d, C))\n",
    "print(isinstance(d, D))\n",
    "print(isinstance(d, O))\n"
   ]
  },
  {
   "cell_type": "markdown",
   "metadata": {
    "id": "xc-B12D_gWen",
    "pycharm": {
     "metadata": false,
     "name": "#%% md\n"
    }
   },
   "source": [
    "##### Composition\n"
   ]
  },
  {
   "cell_type": "code",
   "execution_count": null,
   "metadata": {
    "id": "vFP_KbP4gWen",
    "pycharm": {
     "metadata": false,
     "name": "#%%\n"
    }
   },
   "outputs": [],
   "source": [
    "class Teacher:\n",
    "    pass\n",
    "\n",
    "class Student:\n",
    "    pass\n",
    "\n",
    "class ClassRoom:\n",
    "    def __init__(self, teacher, students):\n",
    "        self.teacher = teacher\n",
    "        self.students = students\n",
    "\n",
    "\n",
    "cl = ClassRoom(Teacher(), [Student(), Student(), Student()])"
   ]
  },
  {
   "cell_type": "code",
   "execution_count": null,
   "metadata": {
    "id": "OuZl4sq5gWeq",
    "pycharm": {
     "metadata": false,
     "name": "#%%\n"
    }
   },
   "outputs": [],
   "source": [
    "class Set:\n",
    "\n",
    "    def __init__(self, values=None):\n",
    "        self.dict = {}\n",
    "\n",
    "        if values is not None:\n",
    "            for value in values:\n",
    "                self.add(value)\n",
    "\n",
    "    def __repr__(self):\n",
    "        return \"Set: \" + str(self.dict)\n",
    "\n",
    "    def add(self, value):\n",
    "        self.dict[value] = True\n",
    "\n",
    "    def contains(self, value):\n",
    "        return value in self.dict\n",
    "\n",
    "    def remove(self, value):\n",
    "        del self.dict[value]\n",
    "\n",
    "\n",
    "        \n",
    "s = Set([1,2,3])\n",
    "print(s)\n",
    "s.add(4)\n",
    "print(s.contains(4))\n",
    "s.remove(3)\n",
    "print(s.contains(3))\n",
    "print(s)"
   ]
  },
  {
   "cell_type": "code",
   "execution_count": null,
   "metadata": {},
   "outputs": [],
   "source": [
    "s"
   ]
  },
  {
   "cell_type": "code",
   "execution_count": null,
   "metadata": {},
   "outputs": [],
   "source": []
  }
 ],
 "metadata": {
  "colab": {
   "collapsed_sections": [],
   "name": "Workshop_17_OOP.ipynb",
   "provenance": []
  },
  "kernelspec": {
   "display_name": "Python 3 (ipykernel)",
   "language": "python",
   "name": "python3"
  },
  "language_info": {
   "codemirror_mode": {
    "name": "ipython",
    "version": 3
   },
   "file_extension": ".py",
   "mimetype": "text/x-python",
   "name": "python",
   "nbconvert_exporter": "python",
   "pygments_lexer": "ipython3",
   "version": "3.9.7"
  }
 },
 "nbformat": 4,
 "nbformat_minor": 1
}
