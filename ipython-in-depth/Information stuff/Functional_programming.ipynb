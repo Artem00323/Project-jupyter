{
 "cells": [
  {
   "cell_type": "markdown",
   "metadata": {
    "id": "hzMFrS9D3tKf"
   },
   "source": [
    "# Common Programming Paradigms\n",
    "\n",
    "* Imperative programming: there are instructions for machines how to change their state;\n",
    "    * Procedural programming: there are sequences of instructions;\n",
    "    * Object-oriented programming: there are linked instructions with the part of the state they operate on;\n",
    "* Declarative programming: there are merely declared properties of the desired result, but without computing;\n",
    "    * Functional programming: there are several subfunctions for a task and the desired result is declared as the value of a series of function applications;\n",
    "    * https://en.wikipedia.org/wiki/Programming_paradigm\n",
    "\n"
   ]
  },
  {
   "cell_type": "code",
   "execution_count": 78,
   "metadata": {},
   "outputs": [
    {
     "name": "stdout",
     "output_type": "stream",
     "text": [
      "0\n",
      "1\n",
      "2\n"
     ]
    }
   ],
   "source": [
    "for i in  (i for i in range(3)):\n",
    "    print(i)"
   ]
  },
  {
   "cell_type": "code",
   "execution_count": 88,
   "metadata": {},
   "outputs": [],
   "source": [
    "gen = (i for i in range(3))"
   ]
  },
  {
   "cell_type": "code",
   "execution_count": 82,
   "metadata": {},
   "outputs": [],
   "source": [
    "for i in gen:\n",
    "    print(i)"
   ]
  },
  {
   "cell_type": "code",
   "execution_count": 92,
   "metadata": {},
   "outputs": [
    {
     "ename": "StopIteration",
     "evalue": "",
     "output_type": "error",
     "traceback": [
      "\u001b[0;31m---------------------------------------------------------------------------\u001b[0m",
      "\u001b[0;31mStopIteration\u001b[0m                             Traceback (most recent call last)",
      "\u001b[0;32m<ipython-input-92-6e72e47198db>\u001b[0m in \u001b[0;36m<module>\u001b[0;34m\u001b[0m\n\u001b[0;32m----> 1\u001b[0;31m \u001b[0mnext\u001b[0m\u001b[0;34m(\u001b[0m\u001b[0mgen\u001b[0m\u001b[0;34m)\u001b[0m\u001b[0;34m\u001b[0m\u001b[0;34m\u001b[0m\u001b[0m\n\u001b[0m",
      "\u001b[0;31mStopIteration\u001b[0m: "
     ]
    }
   ],
   "source": [
    "next(gen)"
   ]
  },
  {
   "cell_type": "code",
   "execution_count": 87,
   "metadata": {
    "id": "COTQZyr33tKl"
   },
   "outputs": [],
   "source": [
    "def like_range(n): \n",
    "    i=1\n",
    "    while i < n+1:\n",
    "        yield i\n",
    "        i += 1"
   ]
  },
  {
   "cell_type": "code",
   "execution_count": 86,
   "metadata": {
    "id": "vTIfnLEi3tKn",
    "outputId": "0ae5e570-00a1-4dbe-bdd7-de9ebf9878be"
   },
   "outputs": [
    {
     "name": "stdout",
     "output_type": "stream",
     "text": [
      "1\n"
     ]
    }
   ],
   "source": [
    "print(*like_range(10))"
   ]
  },
  {
   "cell_type": "code",
   "execution_count": 93,
   "metadata": {
    "id": "jgKIAX-b3tKp",
    "outputId": "7c4ffc40-1a0e-43ca-d645-8a4d07ddc7a8"
   },
   "outputs": [
    {
     "name": "stdout",
     "output_type": "stream",
     "text": [
      "0 10 11 20 21 22 30 31 32 33 40 41 42 43 44 50 51 52 53 54 55 60 61 62 63 64 65 66 70 71 72 73 74 75 76 77\n"
     ]
    }
   ],
   "source": [
    "def genDecDigs(cntDigits , maxDigit): \n",
    "    if cntDigits > 0:       \n",
    "        for nowDigit in range(maxDigit + 1):\n",
    "            for tail in genDecDigs(cntDigits - 1, nowDigit):\n",
    "                yield nowDigit * 10**(cntDigits - 1) + tail\n",
    "    else :\n",
    "        yield 0\n",
    "    \n",
    "print(*genDecDigs(2, 7))"
   ]
  },
  {
   "cell_type": "code",
   "execution_count": 99,
   "metadata": {},
   "outputs": [
    {
     "name": "stdout",
     "output_type": "stream",
     "text": [
      "1 1 1 1 1 1 1 1 1 1 1 1 1 1 1 1 1 1 1 1 1 1 1 1 1 1 1 1 1 1 1 1 1 1 1 1 1 1 1 1 1 1 1 1 1 1 1 1 1 1 1 1 1 1 1 1 1 1 1 1 1 1 1 1 1 1 1 1 1 1 1 1 1 1 1 1 1 1 1 1 1 1 1 1 1 1 1 1 1 1 1 1 1 1 1 1 1 1 1 1 1\n"
     ]
    }
   ],
   "source": [
    "def a():\n",
    "    inc = 0\n",
    "    while True:\n",
    "        yield  1\n",
    "        inc += 1\n",
    "        if inc > 100:\n",
    "            break\n",
    "print(*a())"
   ]
  },
  {
   "cell_type": "markdown",
   "metadata": {
    "id": "utaqgayY3tKq"
   },
   "source": [
    "## Built-in Functions\n",
    "https://docs.python.org/3/library/functions.html"
   ]
  },
  {
   "cell_type": "code",
   "execution_count": 100,
   "metadata": {
    "id": "7-ubqtG23tKq"
   },
   "outputs": [],
   "source": [
    "target_list = [-100,0,1,2,3,4,5,6,6,7,8,-1,-22,8,-33]"
   ]
  },
  {
   "cell_type": "code",
   "execution_count": 102,
   "metadata": {},
   "outputs": [],
   "source": [
    "def powLike(x):\n",
    "    return x ** 2"
   ]
  },
  {
   "cell_type": "code",
   "execution_count": 101,
   "metadata": {},
   "outputs": [
    {
     "name": "stdout",
     "output_type": "stream",
     "text": [
      "10000 0 1 4 9 16 25 36 36 49 64 1 484 64 1089\n"
     ]
    }
   ],
   "source": [
    "print(*map(lambda x: x**2,target_list))"
   ]
  },
  {
   "cell_type": "code",
   "execution_count": 105,
   "metadata": {},
   "outputs": [
    {
     "name": "stdout",
     "output_type": "stream",
     "text": [
      "False True True True True True True True True True True False False True False\n"
     ]
    }
   ],
   "source": [
    "print(*map(lambda x: x>=0,target_list))"
   ]
  },
  {
   "cell_type": "code",
   "execution_count": 106,
   "metadata": {
    "id": "8SpaFp8W3tKr",
    "outputId": "01446833-fd8a-4693-dcaa-5992f489533b"
   },
   "outputs": [
    {
     "name": "stdout",
     "output_type": "stream",
     "text": [
      "-100 -1 -22 -33\n"
     ]
    }
   ],
   "source": [
    "print(*filter(lambda x: x < 0,target_list))"
   ]
  },
  {
   "cell_type": "code",
   "execution_count": 107,
   "metadata": {
    "id": "wYeYF45H3tKr",
    "outputId": "dced5ac3-8627-4ffa-f3ab-5e749ece4280"
   },
   "outputs": [
    {
     "name": "stdout",
     "output_type": "stream",
     "text": [
      "1\n"
     ]
    }
   ],
   "source": [
    "print(min(filter(lambda x: x > 0,target_list)))"
   ]
  },
  {
   "cell_type": "code",
   "execution_count": 108,
   "metadata": {
    "id": "1sqPQN603tKs",
    "outputId": "8b15bd63-3096-4e32-d5f0-eaf80a604f48"
   },
   "outputs": [
    {
     "name": "stdout",
     "output_type": "stream",
     "text": [
      "index: 0 elem: -100\n",
      "index: 1 elem: 0\n",
      "index: 2 elem: 1\n",
      "index: 3 elem: 2\n",
      "index: 4 elem: 3\n",
      "index: 5 elem: 4\n",
      "index: 6 elem: 5\n",
      "index: 7 elem: 6\n",
      "index: 8 elem: 6\n",
      "index: 9 elem: 7\n",
      "index: 10 elem: 8\n",
      "index: 11 elem: -1\n",
      "index: 12 elem: -22\n",
      "index: 13 elem: 8\n",
      "index: 14 elem: -33\n"
     ]
    }
   ],
   "source": [
    "for i,elem in enumerate(target_list):\n",
    "    print('index: {}'.format(i),'elem: %i' % elem)"
   ]
  },
  {
   "cell_type": "code",
   "execution_count": 111,
   "metadata": {
    "id": "wUuhd7Pl3tKs",
    "outputId": "faca43a5-43aa-4252-eded-eb80af063f74"
   },
   "outputs": [
    {
     "name": "stdout",
     "output_type": "stream",
     "text": [
      "False\n"
     ]
    }
   ],
   "source": [
    "print(all(map(lambda x: (x) >= 0, target_list)))"
   ]
  },
  {
   "cell_type": "code",
   "execution_count": 109,
   "metadata": {
    "id": "rie7NWGD3tKt",
    "outputId": "51838973-8377-46ec-b33e-f93b45c3f8b3"
   },
   "outputs": [
    {
     "name": "stdout",
     "output_type": "stream",
     "text": [
      "True\n"
     ]
    }
   ],
   "source": [
    "print(any(map(lambda x: abs(x) <= 10, target_list)))"
   ]
  },
  {
   "cell_type": "code",
   "execution_count": 120,
   "metadata": {
    "id": "AW0uzY0c3tKt"
   },
   "outputs": [],
   "source": [
    "a = [1,2,3,4,5,6,7,8,9,10,12211]\n",
    "b = list('ababbccd')\n"
   ]
  },
  {
   "cell_type": "code",
   "execution_count": 121,
   "metadata": {
    "id": "rS4oEiYz3tKu",
    "outputId": "625d09ef-0ac2-47cf-f913-68bb9b2521fc"
   },
   "outputs": [
    {
     "data": {
      "text/plain": [
       "[(0, 'a'),\n",
       " (1, 'b'),\n",
       " (2, 'a'),\n",
       " (3, 'b'),\n",
       " (4, 'b'),\n",
       " (5, 'c'),\n",
       " (6, 'c'),\n",
       " (7, 'd')]"
      ]
     },
     "execution_count": 121,
     "metadata": {},
     "output_type": "execute_result"
    }
   ],
   "source": [
    "list(enumerate(b))"
   ]
  },
  {
   "cell_type": "code",
   "execution_count": 127,
   "metadata": {
    "id": "W5mTZ8FX3tKv",
    "outputId": "6f28a987-643f-438f-9e4a-eb4dc8fd0964"
   },
   "outputs": [
    {
     "name": "stdout",
     "output_type": "stream",
     "text": [
      "(0, 'a') (1, 'b') (2, 'a') (3, 'b') (4, 'b') (5, 'c') (6, 'c') (7, 'd')\n"
     ]
    }
   ],
   "source": [
    "# print(*zip(a,b))\n",
    "print(*sorted((enumerate(b)),key = lambda x: (x[0],x[1]),reverse=False))\n"
   ]
  },
  {
   "cell_type": "code",
   "execution_count": null,
   "metadata": {
    "id": "G7UPYA463tKv",
    "outputId": "ae946b71-d307-4aca-90ce-e277f7aeef7f"
   },
   "outputs": [],
   "source": [
    "X = list(zip(range(10),range(10,0,-1),range(10,20),range(20,10,-1)))\n",
    "X"
   ]
  },
  {
   "cell_type": "code",
   "execution_count": null,
   "metadata": {
    "id": "77SgiTfb3tKw",
    "outputId": "b355cefb-e520-45b1-bb4e-d1c505956c83"
   },
   "outputs": [],
   "source": [
    "X[0][3]"
   ]
  },
  {
   "cell_type": "code",
   "execution_count": 128,
   "metadata": {
    "id": "o2RkLskQ3tKw"
   },
   "outputs": [],
   "source": [
    "from itertools import combinations,permutations,combinations_with_replacement,accumulate"
   ]
  },
  {
   "cell_type": "code",
   "execution_count": 129,
   "metadata": {
    "id": "tCW8tfuf3tKx",
    "outputId": "d7eed2e9-30e5-49fe-e7f1-61a91e70e6b4"
   },
   "outputs": [],
   "source": [
    "nums = [1,2,3,4,5]"
   ]
  },
  {
   "cell_type": "code",
   "execution_count": 133,
   "metadata": {
    "id": "VXRbaHep3tKx",
    "outputId": "12c1768c-fdc6-4fe8-cc34-2ab7d4e9d264",
    "scrolled": true
   },
   "outputs": [
    {
     "name": "stdout",
     "output_type": "stream",
     "text": [
      "(0, 1, 2) (0, 1, 3) (0, 1, 4) (0, 1, 5) (0, 1, 6) (0, 1, 7) (0, 1, 8) (0, 1, 9) (0, 2, 3) (0, 2, 4) (0, 2, 5) (0, 2, 6) (0, 2, 7) (0, 2, 8) (0, 2, 9) (0, 3, 4) (0, 3, 5) (0, 3, 6) (0, 3, 7) (0, 3, 8) (0, 3, 9) (0, 4, 5) (0, 4, 6) (0, 4, 7) (0, 4, 8) (0, 4, 9) (0, 5, 6) (0, 5, 7) (0, 5, 8) (0, 5, 9) (0, 6, 7) (0, 6, 8) (0, 6, 9) (0, 7, 8) (0, 7, 9) (0, 8, 9) (1, 2, 3) (1, 2, 4) (1, 2, 5) (1, 2, 6) (1, 2, 7) (1, 2, 8) (1, 2, 9) (1, 3, 4) (1, 3, 5) (1, 3, 6) (1, 3, 7) (1, 3, 8) (1, 3, 9) (1, 4, 5) (1, 4, 6) (1, 4, 7) (1, 4, 8) (1, 4, 9) (1, 5, 6) (1, 5, 7) (1, 5, 8) (1, 5, 9) (1, 6, 7) (1, 6, 8) (1, 6, 9) (1, 7, 8) (1, 7, 9) (1, 8, 9) (2, 3, 4) (2, 3, 5) (2, 3, 6) (2, 3, 7) (2, 3, 8) (2, 3, 9) (2, 4, 5) (2, 4, 6) (2, 4, 7) (2, 4, 8) (2, 4, 9) (2, 5, 6) (2, 5, 7) (2, 5, 8) (2, 5, 9) (2, 6, 7) (2, 6, 8) (2, 6, 9) (2, 7, 8) (2, 7, 9) (2, 8, 9) (3, 4, 5) (3, 4, 6) (3, 4, 7) (3, 4, 8) (3, 4, 9) (3, 5, 6) (3, 5, 7) (3, 5, 8) (3, 5, 9) (3, 6, 7) (3, 6, 8) (3, 6, 9) (3, 7, 8) (3, 7, 9) (3, 8, 9) (4, 5, 6) (4, 5, 7) (4, 5, 8) (4, 5, 9) (4, 6, 7) (4, 6, 8) (4, 6, 9) (4, 7, 8) (4, 7, 9) (4, 8, 9) (5, 6, 7) (5, 6, 8) (5, 6, 9) (5, 7, 8) (5, 7, 9) (5, 8, 9) (6, 7, 8) (6, 7, 9) (6, 8, 9) (7, 8, 9)\n",
      "\n",
      "(0, 1, 2) (0, 1, 3) (0, 1, 4) (0, 1, 5) (0, 1, 6) (0, 1, 7) (0, 1, 8) (0, 1, 9) (0, 2, 1) (0, 2, 3) (0, 2, 4) (0, 2, 5) (0, 2, 6) (0, 2, 7) (0, 2, 8) (0, 2, 9) (0, 3, 1) (0, 3, 2) (0, 3, 4) (0, 3, 5) (0, 3, 6) (0, 3, 7) (0, 3, 8) (0, 3, 9) (0, 4, 1) (0, 4, 2) (0, 4, 3) (0, 4, 5) (0, 4, 6) (0, 4, 7) (0, 4, 8) (0, 4, 9) (0, 5, 1) (0, 5, 2) (0, 5, 3) (0, 5, 4) (0, 5, 6) (0, 5, 7) (0, 5, 8) (0, 5, 9) (0, 6, 1) (0, 6, 2) (0, 6, 3) (0, 6, 4) (0, 6, 5) (0, 6, 7) (0, 6, 8) (0, 6, 9) (0, 7, 1) (0, 7, 2) (0, 7, 3) (0, 7, 4) (0, 7, 5) (0, 7, 6) (0, 7, 8) (0, 7, 9) (0, 8, 1) (0, 8, 2) (0, 8, 3) (0, 8, 4) (0, 8, 5) (0, 8, 6) (0, 8, 7) (0, 8, 9) (0, 9, 1) (0, 9, 2) (0, 9, 3) (0, 9, 4) (0, 9, 5) (0, 9, 6) (0, 9, 7) (0, 9, 8) (1, 0, 2) (1, 0, 3) (1, 0, 4) (1, 0, 5) (1, 0, 6) (1, 0, 7) (1, 0, 8) (1, 0, 9) (1, 2, 0) (1, 2, 3) (1, 2, 4) (1, 2, 5) (1, 2, 6) (1, 2, 7) (1, 2, 8) (1, 2, 9) (1, 3, 0) (1, 3, 2) (1, 3, 4) (1, 3, 5) (1, 3, 6) (1, 3, 7) (1, 3, 8) (1, 3, 9) (1, 4, 0) (1, 4, 2) (1, 4, 3) (1, 4, 5) (1, 4, 6) (1, 4, 7) (1, 4, 8) (1, 4, 9) (1, 5, 0) (1, 5, 2) (1, 5, 3) (1, 5, 4) (1, 5, 6) (1, 5, 7) (1, 5, 8) (1, 5, 9) (1, 6, 0) (1, 6, 2) (1, 6, 3) (1, 6, 4) (1, 6, 5) (1, 6, 7) (1, 6, 8) (1, 6, 9) (1, 7, 0) (1, 7, 2) (1, 7, 3) (1, 7, 4) (1, 7, 5) (1, 7, 6) (1, 7, 8) (1, 7, 9) (1, 8, 0) (1, 8, 2) (1, 8, 3) (1, 8, 4) (1, 8, 5) (1, 8, 6) (1, 8, 7) (1, 8, 9) (1, 9, 0) (1, 9, 2) (1, 9, 3) (1, 9, 4) (1, 9, 5) (1, 9, 6) (1, 9, 7) (1, 9, 8) (2, 0, 1) (2, 0, 3) (2, 0, 4) (2, 0, 5) (2, 0, 6) (2, 0, 7) (2, 0, 8) (2, 0, 9) (2, 1, 0) (2, 1, 3) (2, 1, 4) (2, 1, 5) (2, 1, 6) (2, 1, 7) (2, 1, 8) (2, 1, 9) (2, 3, 0) (2, 3, 1) (2, 3, 4) (2, 3, 5) (2, 3, 6) (2, 3, 7) (2, 3, 8) (2, 3, 9) (2, 4, 0) (2, 4, 1) (2, 4, 3) (2, 4, 5) (2, 4, 6) (2, 4, 7) (2, 4, 8) (2, 4, 9) (2, 5, 0) (2, 5, 1) (2, 5, 3) (2, 5, 4) (2, 5, 6) (2, 5, 7) (2, 5, 8) (2, 5, 9) (2, 6, 0) (2, 6, 1) (2, 6, 3) (2, 6, 4) (2, 6, 5) (2, 6, 7) (2, 6, 8) (2, 6, 9) (2, 7, 0) (2, 7, 1) (2, 7, 3) (2, 7, 4) (2, 7, 5) (2, 7, 6) (2, 7, 8) (2, 7, 9) (2, 8, 0) (2, 8, 1) (2, 8, 3) (2, 8, 4) (2, 8, 5) (2, 8, 6) (2, 8, 7) (2, 8, 9) (2, 9, 0) (2, 9, 1) (2, 9, 3) (2, 9, 4) (2, 9, 5) (2, 9, 6) (2, 9, 7) (2, 9, 8) (3, 0, 1) (3, 0, 2) (3, 0, 4) (3, 0, 5) (3, 0, 6) (3, 0, 7) (3, 0, 8) (3, 0, 9) (3, 1, 0) (3, 1, 2) (3, 1, 4) (3, 1, 5) (3, 1, 6) (3, 1, 7) (3, 1, 8) (3, 1, 9) (3, 2, 0) (3, 2, 1) (3, 2, 4) (3, 2, 5) (3, 2, 6) (3, 2, 7) (3, 2, 8) (3, 2, 9) (3, 4, 0) (3, 4, 1) (3, 4, 2) (3, 4, 5) (3, 4, 6) (3, 4, 7) (3, 4, 8) (3, 4, 9) (3, 5, 0) (3, 5, 1) (3, 5, 2) (3, 5, 4) (3, 5, 6) (3, 5, 7) (3, 5, 8) (3, 5, 9) (3, 6, 0) (3, 6, 1) (3, 6, 2) (3, 6, 4) (3, 6, 5) (3, 6, 7) (3, 6, 8) (3, 6, 9) (3, 7, 0) (3, 7, 1) (3, 7, 2) (3, 7, 4) (3, 7, 5) (3, 7, 6) (3, 7, 8) (3, 7, 9) (3, 8, 0) (3, 8, 1) (3, 8, 2) (3, 8, 4) (3, 8, 5) (3, 8, 6) (3, 8, 7) (3, 8, 9) (3, 9, 0) (3, 9, 1) (3, 9, 2) (3, 9, 4) (3, 9, 5) (3, 9, 6) (3, 9, 7) (3, 9, 8) (4, 0, 1) (4, 0, 2) (4, 0, 3) (4, 0, 5) (4, 0, 6) (4, 0, 7) (4, 0, 8) (4, 0, 9) (4, 1, 0) (4, 1, 2) (4, 1, 3) (4, 1, 5) (4, 1, 6) (4, 1, 7) (4, 1, 8) (4, 1, 9) (4, 2, 0) (4, 2, 1) (4, 2, 3) (4, 2, 5) (4, 2, 6) (4, 2, 7) (4, 2, 8) (4, 2, 9) (4, 3, 0) (4, 3, 1) (4, 3, 2) (4, 3, 5) (4, 3, 6) (4, 3, 7) (4, 3, 8) (4, 3, 9) (4, 5, 0) (4, 5, 1) (4, 5, 2) (4, 5, 3) (4, 5, 6) (4, 5, 7) (4, 5, 8) (4, 5, 9) (4, 6, 0) (4, 6, 1) (4, 6, 2) (4, 6, 3) (4, 6, 5) (4, 6, 7) (4, 6, 8) (4, 6, 9) (4, 7, 0) (4, 7, 1) (4, 7, 2) (4, 7, 3) (4, 7, 5) (4, 7, 6) (4, 7, 8) (4, 7, 9) (4, 8, 0) (4, 8, 1) (4, 8, 2) (4, 8, 3) (4, 8, 5) (4, 8, 6) (4, 8, 7) (4, 8, 9) (4, 9, 0) (4, 9, 1) (4, 9, 2) (4, 9, 3) (4, 9, 5) (4, 9, 6) (4, 9, 7) (4, 9, 8) (5, 0, 1) (5, 0, 2) (5, 0, 3) (5, 0, 4) (5, 0, 6) (5, 0, 7) (5, 0, 8) (5, 0, 9) (5, 1, 0) (5, 1, 2) (5, 1, 3) (5, 1, 4) (5, 1, 6) (5, 1, 7) (5, 1, 8) (5, 1, 9) (5, 2, 0) (5, 2, 1) (5, 2, 3) (5, 2, 4) (5, 2, 6) (5, 2, 7) (5, 2, 8) (5, 2, 9) (5, 3, 0) (5, 3, 1) (5, 3, 2) (5, 3, 4) (5, 3, 6) (5, 3, 7) (5, 3, 8) (5, 3, 9) (5, 4, 0) (5, 4, 1) (5, 4, 2) (5, 4, 3) (5, 4, 6) (5, 4, 7) (5, 4, 8) (5, 4, 9) (5, 6, 0) (5, 6, 1) (5, 6, 2) (5, 6, 3) (5, 6, 4) (5, 6, 7) (5, 6, 8) (5, 6, 9) (5, 7, 0) (5, 7, 1) (5, 7, 2) (5, 7, 3) (5, 7, 4) (5, 7, 6) (5, 7, 8) (5, 7, 9) (5, 8, 0) (5, 8, 1) (5, 8, 2) (5, 8, 3) (5, 8, 4) (5, 8, 6) (5, 8, 7) (5, 8, 9) (5, 9, 0) (5, 9, 1) (5, 9, 2) (5, 9, 3) (5, 9, 4) (5, 9, 6) (5, 9, 7) (5, 9, 8) (6, 0, 1) (6, 0, 2) (6, 0, 3) (6, 0, 4) (6, 0, 5) (6, 0, 7) (6, 0, 8) (6, 0, 9) (6, 1, 0) (6, 1, 2) (6, 1, 3) (6, 1, 4) (6, 1, 5) (6, 1, 7) (6, 1, 8) (6, 1, 9) (6, 2, 0) (6, 2, 1) (6, 2, 3) (6, 2, 4) (6, 2, 5) (6, 2, 7) (6, 2, 8) (6, 2, 9) (6, 3, 0) (6, 3, 1) (6, 3, 2) (6, 3, 4) (6, 3, 5) (6, 3, 7) (6, 3, 8) (6, 3, 9) (6, 4, 0) (6, 4, 1) (6, 4, 2) (6, 4, 3) (6, 4, 5) (6, 4, 7) (6, 4, 8) (6, 4, 9) (6, 5, 0) (6, 5, 1) (6, 5, 2) (6, 5, 3) (6, 5, 4) (6, 5, 7) (6, 5, 8) (6, 5, 9) (6, 7, 0) (6, 7, 1) (6, 7, 2) (6, 7, 3) (6, 7, 4) (6, 7, 5) (6, 7, 8) (6, 7, 9) (6, 8, 0) (6, 8, 1) (6, 8, 2) (6, 8, 3) (6, 8, 4) (6, 8, 5) (6, 8, 7) (6, 8, 9) (6, 9, 0) (6, 9, 1) (6, 9, 2) (6, 9, 3) (6, 9, 4) (6, 9, 5) (6, 9, 7) (6, 9, 8) (7, 0, 1) (7, 0, 2) (7, 0, 3) (7, 0, 4) (7, 0, 5) (7, 0, 6) (7, 0, 8) (7, 0, 9) (7, 1, 0) (7, 1, 2) (7, 1, 3) (7, 1, 4) (7, 1, 5) (7, 1, 6) (7, 1, 8) (7, 1, 9) (7, 2, 0) (7, 2, 1) (7, 2, 3) (7, 2, 4) (7, 2, 5) (7, 2, 6) (7, 2, 8) (7, 2, 9) (7, 3, 0) (7, 3, 1) (7, 3, 2) (7, 3, 4) (7, 3, 5) (7, 3, 6) (7, 3, 8) (7, 3, 9) (7, 4, 0) (7, 4, 1) (7, 4, 2) (7, 4, 3) (7, 4, 5) (7, 4, 6) (7, 4, 8) (7, 4, 9) (7, 5, 0) (7, 5, 1) (7, 5, 2) (7, 5, 3) (7, 5, 4) (7, 5, 6) (7, 5, 8) (7, 5, 9) (7, 6, 0) (7, 6, 1) (7, 6, 2) (7, 6, 3) (7, 6, 4) (7, 6, 5) (7, 6, 8) (7, 6, 9) (7, 8, 0) (7, 8, 1) (7, 8, 2) (7, 8, 3) (7, 8, 4) (7, 8, 5) (7, 8, 6) (7, 8, 9) (7, 9, 0) (7, 9, 1) (7, 9, 2) (7, 9, 3) (7, 9, 4) (7, 9, 5) (7, 9, 6) (7, 9, 8) (8, 0, 1) (8, 0, 2) (8, 0, 3) (8, 0, 4) (8, 0, 5) (8, 0, 6) (8, 0, 7) (8, 0, 9) (8, 1, 0) (8, 1, 2) (8, 1, 3) (8, 1, 4) (8, 1, 5) (8, 1, 6) (8, 1, 7) (8, 1, 9) (8, 2, 0) (8, 2, 1) (8, 2, 3) (8, 2, 4) (8, 2, 5) (8, 2, 6) (8, 2, 7) (8, 2, 9) (8, 3, 0) (8, 3, 1) (8, 3, 2) (8, 3, 4) (8, 3, 5) (8, 3, 6) (8, 3, 7) (8, 3, 9) (8, 4, 0) (8, 4, 1) (8, 4, 2) (8, 4, 3) (8, 4, 5) (8, 4, 6) (8, 4, 7) (8, 4, 9) (8, 5, 0) (8, 5, 1) (8, 5, 2) (8, 5, 3) (8, 5, 4) (8, 5, 6) (8, 5, 7) (8, 5, 9) (8, 6, 0) (8, 6, 1) (8, 6, 2) (8, 6, 3) (8, 6, 4) (8, 6, 5) (8, 6, 7) (8, 6, 9) (8, 7, 0) (8, 7, 1) (8, 7, 2) (8, 7, 3) (8, 7, 4) (8, 7, 5) (8, 7, 6) (8, 7, 9) (8, 9, 0) (8, 9, 1) (8, 9, 2) (8, 9, 3) (8, 9, 4) (8, 9, 5) (8, 9, 6) (8, 9, 7) (9, 0, 1) (9, 0, 2) (9, 0, 3) (9, 0, 4) (9, 0, 5) (9, 0, 6) (9, 0, 7) (9, 0, 8) (9, 1, 0) (9, 1, 2) (9, 1, 3) (9, 1, 4) (9, 1, 5) (9, 1, 6) (9, 1, 7) (9, 1, 8) (9, 2, 0) (9, 2, 1) (9, 2, 3) (9, 2, 4) (9, 2, 5) (9, 2, 6) (9, 2, 7) (9, 2, 8) (9, 3, 0) (9, 3, 1) (9, 3, 2) (9, 3, 4) (9, 3, 5) (9, 3, 6) (9, 3, 7) (9, 3, 8) (9, 4, 0) (9, 4, 1) (9, 4, 2) (9, 4, 3) (9, 4, 5) (9, 4, 6) (9, 4, 7) (9, 4, 8) (9, 5, 0) (9, 5, 1) (9, 5, 2) (9, 5, 3) (9, 5, 4) (9, 5, 6) (9, 5, 7) (9, 5, 8) (9, 6, 0) (9, 6, 1) (9, 6, 2) (9, 6, 3) (9, 6, 4) (9, 6, 5) (9, 6, 7) (9, 6, 8) (9, 7, 0) (9, 7, 1) (9, 7, 2) (9, 7, 3) (9, 7, 4) (9, 7, 5) (9, 7, 6) (9, 7, 8) (9, 8, 0) (9, 8, 1) (9, 8, 2) (9, 8, 3) (9, 8, 4) (9, 8, 5) (9, 8, 6) (9, 8, 7)\n",
      "\n",
      "(0, 0) (0, 1) (0, 2) (0, 3) (0, 4) (0, 5) (0, 6) (0, 7) (0, 8) (0, 9) (1, 1) (1, 2) (1, 3) (1, 4) (1, 5) (1, 6) (1, 7) (1, 8) (1, 9) (2, 2) (2, 3) (2, 4) (2, 5) (2, 6) (2, 7) (2, 8) (2, 9) (3, 3) (3, 4) (3, 5) (3, 6) (3, 7) (3, 8) (3, 9) (4, 4) (4, 5) (4, 6) (4, 7) (4, 8) (4, 9) (5, 5) (5, 6) (5, 7) (5, 8) (5, 9) (6, 6) (6, 7) (6, 8) (6, 9) (7, 7) (7, 8) (7, 9) (8, 8) (8, 9) (9, 9)\n"
     ]
    }
   ],
   "source": [
    "print(*combinations(range(10),3))\n",
    "print()\n",
    "print(*permutations(range(10),3))\n",
    "print()\n",
    "print(*combinations_with_replacement(range(10),2))"
   ]
  },
  {
   "cell_type": "code",
   "execution_count": 138,
   "metadata": {
    "id": "mKkOtQ_e3tKy",
    "outputId": "658a470d-30f0-4253-ca9e-aa1c14d52c13"
   },
   "outputs": [
    {
     "name": "stdout",
     "output_type": "stream",
     "text": [
      "5 1 1 1 1 1\n"
     ]
    }
   ],
   "source": [
    "print(*accumulate([5,1,8,2,7,3],min))"
   ]
  },
  {
   "cell_type": "code",
   "execution_count": null,
   "metadata": {
    "id": "Ar8fjLRR3tKy"
   },
   "outputs": [],
   "source": [
    "from functools import partial,reduce"
   ]
  },
  {
   "cell_type": "code",
   "execution_count": 168,
   "metadata": {},
   "outputs": [],
   "source": [
    "def func(x, a, b):\n",
    "    return x ** a / b"
   ]
  },
  {
   "cell_type": "code",
   "execution_count": null,
   "metadata": {},
   "outputs": [],
   "source": []
  },
  {
   "cell_type": "code",
   "execution_count": 169,
   "metadata": {},
   "outputs": [],
   "source": [
    "funcP = partial(func, a=5, b=1000)"
   ]
  },
  {
   "cell_type": "code",
   "execution_count": 170,
   "metadata": {},
   "outputs": [
    {
     "name": "stdout",
     "output_type": "stream",
     "text": [
      "0.0 0.001 0.032 0.243 1.024\n"
     ]
    }
   ],
   "source": [
    "print(*map(partial(func, a=5, b=1000),range(5)))"
   ]
  },
  {
   "cell_type": "code",
   "execution_count": null,
   "metadata": {},
   "outputs": [],
   "source": [
    "func = partial(pow, 2)\n",
    "pow(2,2)"
   ]
  },
  {
   "cell_type": "code",
   "execution_count": null,
   "metadata": {},
   "outputs": [],
   "source": [
    "print(*map(partial(pow, 2),range(10)))"
   ]
  },
  {
   "cell_type": "code",
   "execution_count": 174,
   "metadata": {
    "id": "se1CsXiv3tKz",
    "outputId": "e5231533-2252-4fcd-f08f-e8bbcbd66651"
   },
   "outputs": [
    {
     "name": "stdout",
     "output_type": "stream",
     "text": [
      "3003 1809\n"
     ]
    }
   ],
   "source": [
    "hexStrToInt = partial(int,base = 16)\n",
    "octStrToInt = partial(int,base = 16) \n",
    "print(binStrToInt('BBB'),octStrToInt('711'))"
   ]
  },
  {
   "cell_type": "code",
   "execution_count": 198,
   "metadata": {
    "id": "idncXZUV3tKz",
    "outputId": "44a938b0-0216-459a-b359-1d99a5e874dd"
   },
   "outputs": [
    {
     "data": {
      "text/plain": [
       "5"
      ]
     },
     "execution_count": 198,
     "metadata": {},
     "output_type": "execute_result"
    }
   ],
   "source": [
    "reduce(lambda x, y: y, [1, 2, 3, 4, 5]) "
   ]
  },
  {
   "cell_type": "code",
   "execution_count": 193,
   "metadata": {},
   "outputs": [
    {
     "ename": "TypeError",
     "evalue": "reduce expected at least 2 arguments, got 0",
     "output_type": "error",
     "traceback": [
      "\u001b[0;31m---------------------------------------------------------------------------\u001b[0m",
      "\u001b[0;31mTypeError\u001b[0m                                 Traceback (most recent call last)",
      "\u001b[0;32m<ipython-input-193-15d8e45d63e9>\u001b[0m in \u001b[0;36m<module>\u001b[0;34m\u001b[0m\n\u001b[0;32m----> 1\u001b[0;31m \u001b[0mreduce\u001b[0m\u001b[0;34m(\u001b[0m\u001b[0;34m)\u001b[0m\u001b[0;34m\u001b[0m\u001b[0;34m\u001b[0m\u001b[0m\n\u001b[0m",
      "\u001b[0;31mTypeError\u001b[0m: reduce expected at least 2 arguments, got 0"
     ]
    }
   ],
   "source": [
    "reduce()"
   ]
  },
  {
   "cell_type": "code",
   "execution_count": 183,
   "metadata": {
    "id": "cCBmkSQ63tK0",
    "outputId": "ef15bbaa-55a8-47dd-9a8b-edec03975fcc",
    "scrolled": true
   },
   "outputs": [
    {
     "name": "stdout",
     "output_type": "stream",
     "text": [
      "6\n"
     ]
    }
   ],
   "source": [
    "def gcd(a, b): \n",
    "    while b != 0:\n",
    "        a, b=b, a%b \n",
    "    return a\n",
    "\n",
    "print(reduce(gcd,[12,12,18]))"
   ]
  },
  {
   "cell_type": "code",
   "execution_count": null,
   "metadata": {},
   "outputs": [],
   "source": [
    "x, y = (1, 0)\n",
    "y"
   ]
  },
  {
   "cell_type": "code",
   "execution_count": null,
   "metadata": {
    "id": "VEGCv7sk3tK0"
   },
   "outputs": [],
   "source": [
    "for i, res in enumerate(list('qwertyu')):\n",
    "    print(i,res)"
   ]
  },
  {
   "cell_type": "code",
   "execution_count": null,
   "metadata": {},
   "outputs": [],
   "source": [
    "reduce(lambda x, y: x*y,list(range(1,100)))"
   ]
  },
  {
   "cell_type": "code",
   "execution_count": 199,
   "metadata": {},
   "outputs": [
    {
     "name": "stdout",
     "output_type": "stream",
     "text": [
      "0 2 4 6 8 10 12 14 16 18 20 22 24 26 28 30 32 34 36 38 40 42 44 46 48 50 52 54 56 58 60 62 64 66 68 70 72 74 76 78 80 82 84 86 88 90 92 94 96 98\n"
     ]
    }
   ],
   "source": [
    "print(*filter(lambda x: x%2==0,list(range(0,100))))"
   ]
  },
  {
   "cell_type": "code",
   "execution_count": 202,
   "metadata": {},
   "outputs": [
    {
     "data": {
      "text/plain": [
       "[0,\n",
       " 2,\n",
       " 4,\n",
       " 6,\n",
       " 8,\n",
       " 10,\n",
       " 12,\n",
       " 14,\n",
       " 16,\n",
       " 18,\n",
       " 20,\n",
       " 22,\n",
       " 24,\n",
       " 26,\n",
       " 28,\n",
       " 30,\n",
       " 32,\n",
       " 34,\n",
       " 36,\n",
       " 38,\n",
       " 40,\n",
       " 42,\n",
       " 44,\n",
       " 46,\n",
       " 48,\n",
       " 50,\n",
       " 52,\n",
       " 54,\n",
       " 56,\n",
       " 58,\n",
       " 60,\n",
       " 62,\n",
       " 64,\n",
       " 66,\n",
       " 68,\n",
       " 70,\n",
       " 72,\n",
       " 74,\n",
       " 76,\n",
       " 78,\n",
       " 80,\n",
       " 82,\n",
       " 84,\n",
       " 86,\n",
       " 88,\n",
       " 90,\n",
       " 92,\n",
       " 94,\n",
       " 96,\n",
       " 98]"
      ]
     },
     "execution_count": 202,
     "metadata": {},
     "output_type": "execute_result"
    }
   ],
   "source": [
    "lst = list(filter(lambda x: x%2==0,list(range(0,100))))"
   ]
  },
  {
   "cell_type": "code",
   "execution_count": null,
   "metadata": {},
   "outputs": [],
   "source": [
    "package.sub.sub.sub"
   ]
  },
  {
   "cell_type": "code",
   "execution_count": 210,
   "metadata": {},
   "outputs": [],
   "source": [
    "from math import pi as PI"
   ]
  },
  {
   "cell_type": "code",
   "execution_count": 218,
   "metadata": {},
   "outputs": [],
   "source": [
    "import random"
   ]
  },
  {
   "cell_type": "code",
   "execution_count": 217,
   "metadata": {},
   "outputs": [
    {
     "data": {
      "text/plain": [
       "-24"
      ]
     },
     "execution_count": 217,
     "metadata": {},
     "output_type": "execute_result"
    }
   ],
   "source": [
    "random.randrange(-100, 100)"
   ]
  },
  {
   "cell_type": "code",
   "execution_count": 242,
   "metadata": {},
   "outputs": [
    {
     "data": {
      "text/plain": [
       "[7,\n",
       " -67,\n",
       " 96,\n",
       " -38,\n",
       " 9,\n",
       " -96,\n",
       " -43,\n",
       " 68,\n",
       " -49,\n",
       " 75,\n",
       " -27,\n",
       " 84,\n",
       " 7,\n",
       " 58,\n",
       " 12,\n",
       " -30,\n",
       " 21,\n",
       " -1,\n",
       " 92,\n",
       " -82,\n",
       " -87,\n",
       " 29,\n",
       " -6,\n",
       " -83,\n",
       " -9,\n",
       " 17,\n",
       " 31,\n",
       " -84,\n",
       " -18,\n",
       " 99,\n",
       " -1,\n",
       " -66,\n",
       " 41,\n",
       " 67,\n",
       " -72,\n",
       " -20,\n",
       " 63,\n",
       " -92,\n",
       " -22,\n",
       " -37,\n",
       " -23,\n",
       " -5,\n",
       " -54,\n",
       " -13,\n",
       " -93,\n",
       " 75,\n",
       " -96,\n",
       " -16,\n",
       " -73,\n",
       " 94,\n",
       " -34,\n",
       " 89,\n",
       " 94,\n",
       " 85,\n",
       " -9,\n",
       " -1,\n",
       " 92,\n",
       " 79,\n",
       " 7,\n",
       " -30,\n",
       " 64,\n",
       " -4,\n",
       " 77,\n",
       " -29,\n",
       " 41,\n",
       " 60,\n",
       " 49,\n",
       " 43,\n",
       " -50,\n",
       " -32,\n",
       " 6,\n",
       " 24,\n",
       " 70,\n",
       " 34,\n",
       " -70,\n",
       " 32,\n",
       " 36,\n",
       " -3,\n",
       " -29,\n",
       " 89,\n",
       " 26,\n",
       " -28,\n",
       " 80,\n",
       " 5,\n",
       " -65,\n",
       " -12,\n",
       " -67,\n",
       " -77,\n",
       " 4,\n",
       " 71,\n",
       " 18,\n",
       " 67,\n",
       " 4,\n",
       " 40,\n",
       " 36,\n",
       " 70,\n",
       " 75,\n",
       " 55,\n",
       " -54,\n",
       " 79]"
      ]
     },
     "execution_count": 242,
     "metadata": {},
     "output_type": "execute_result"
    }
   ],
   "source": [
    "lst  = [random.randint(-100,100) for i in range(100)]\n",
    "lst"
   ]
  },
  {
   "cell_type": "code",
   "execution_count": 221,
   "metadata": {},
   "outputs": [
    {
     "data": {
      "text/plain": [
       "'e'"
      ]
     },
     "execution_count": 221,
     "metadata": {},
     "output_type": "execute_result"
    }
   ],
   "source": [
    "random.choice('qwerty')"
   ]
  },
  {
   "cell_type": "code",
   "execution_count": 228,
   "metadata": {},
   "outputs": [
    {
     "data": {
      "text/plain": [
       "['t', 'e', 'y', 'y', 'w', 't', 'r', 'r', 'y', 't']"
      ]
     },
     "execution_count": 228,
     "metadata": {},
     "output_type": "execute_result"
    }
   ],
   "source": [
    "random.choices('qwerty',k=10)"
   ]
  },
  {
   "cell_type": "code",
   "execution_count": 232,
   "metadata": {},
   "outputs": [
    {
     "name": "stdout",
     "output_type": "stream",
     "text": [
      "['q', 'w', 'e', 'r', 't', 't', 'y', 'u', 'i', 'o', 'p']\n"
     ]
    },
    {
     "data": {
      "text/plain": [
       "['w', 'y', 'o', 'q', 'p', 't', 'u', 'i', 't', 'r', 'e']"
      ]
     },
     "execution_count": 232,
     "metadata": {},
     "output_type": "execute_result"
    }
   ],
   "source": [
    "lst = list('qwerttyuiop')\n",
    "print(lst)\n",
    "random.shuffle(lst)\n",
    "lst"
   ]
  },
  {
   "cell_type": "code",
   "execution_count": 237,
   "metadata": {},
   "outputs": [
    {
     "data": {
      "text/plain": [
       "['blue', 'red']"
      ]
     },
     "execution_count": 237,
     "metadata": {},
     "output_type": "execute_result"
    }
   ],
   "source": [
    "random.sample(['red', 'blue'], k=2)"
   ]
  },
  {
   "cell_type": "code",
   "execution_count": 238,
   "metadata": {},
   "outputs": [
    {
     "data": {
      "text/plain": [
       "47.83959844849756"
      ]
     },
     "execution_count": 238,
     "metadata": {},
     "output_type": "execute_result"
    }
   ],
   "source": [
    "random.uniform(1,100)"
   ]
  },
  {
   "cell_type": "code",
   "execution_count": 243,
   "metadata": {},
   "outputs": [
    {
     "data": {
      "text/plain": [
       "[-96,\n",
       " -96,\n",
       " -93,\n",
       " -92,\n",
       " -87,\n",
       " -84,\n",
       " -83,\n",
       " -82,\n",
       " -77,\n",
       " -73,\n",
       " -72,\n",
       " -70,\n",
       " -67,\n",
       " -67,\n",
       " -66,\n",
       " -65,\n",
       " -54,\n",
       " -54,\n",
       " -50,\n",
       " -49,\n",
       " -43,\n",
       " -38,\n",
       " -37,\n",
       " -34,\n",
       " -32,\n",
       " -30,\n",
       " -30,\n",
       " -29,\n",
       " -29,\n",
       " -28,\n",
       " -27,\n",
       " -23,\n",
       " -22,\n",
       " -20,\n",
       " -18,\n",
       " -16,\n",
       " -13,\n",
       " -12,\n",
       " -9,\n",
       " -9,\n",
       " -6,\n",
       " -5,\n",
       " -4,\n",
       " -3,\n",
       " -1,\n",
       " -1,\n",
       " -1,\n",
       " 4,\n",
       " 4,\n",
       " 5,\n",
       " 6,\n",
       " 7,\n",
       " 7,\n",
       " 7,\n",
       " 9,\n",
       " 12,\n",
       " 17,\n",
       " 18,\n",
       " 21,\n",
       " 24,\n",
       " 26,\n",
       " 29,\n",
       " 31,\n",
       " 32,\n",
       " 34,\n",
       " 36,\n",
       " 36,\n",
       " 40,\n",
       " 41,\n",
       " 41,\n",
       " 43,\n",
       " 49,\n",
       " 55,\n",
       " 58,\n",
       " 60,\n",
       " 63,\n",
       " 64,\n",
       " 67,\n",
       " 67,\n",
       " 68,\n",
       " 70,\n",
       " 70,\n",
       " 71,\n",
       " 75,\n",
       " 75,\n",
       " 75,\n",
       " 77,\n",
       " 79,\n",
       " 79,\n",
       " 80,\n",
       " 84,\n",
       " 85,\n",
       " 89,\n",
       " 89,\n",
       " 92,\n",
       " 92,\n",
       " 94,\n",
       " 94,\n",
       " 96,\n",
       " 99]"
      ]
     },
     "execution_count": 243,
     "metadata": {},
     "output_type": "execute_result"
    }
   ],
   "source": [
    "sorted(lst)"
   ]
  },
  {
   "cell_type": "code",
   "execution_count": null,
   "metadata": {},
   "outputs": [],
   "source": []
  }
 ],
 "metadata": {
  "colab": {
   "name": "Functional programming.ipynb",
   "provenance": []
  },
  "kernelspec": {
   "display_name": "Python 3",
   "language": "python",
   "name": "python3"
  },
  "language_info": {
   "codemirror_mode": {
    "name": "ipython",
    "version": 3
   },
   "file_extension": ".py",
   "mimetype": "text/x-python",
   "name": "python",
   "nbconvert_exporter": "python",
   "pygments_lexer": "ipython3",
   "version": "3.7.7"
  }
 },
 "nbformat": 4,
 "nbformat_minor": 1
}
