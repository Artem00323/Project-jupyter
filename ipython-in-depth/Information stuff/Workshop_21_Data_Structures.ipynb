{
 "cells": [
  {
   "cell_type": "code",
   "execution_count": 36,
   "metadata": {},
   "outputs": [
    {
     "name": "stdout",
     "output_type": "stream",
     "text": [
      "The nb_black extension is already loaded. To reload it, use:\n",
      "  %reload_ext nb_black\n"
     ]
    },
    {
     "data": {
      "application/javascript": [
       "\n",
       "            setTimeout(function() {\n",
       "                var nbb_cell_id = 36;\n",
       "                var nbb_unformatted_code = \"%load_ext nb_black\";\n",
       "                var nbb_formatted_code = \"%load_ext nb_black\";\n",
       "                var nbb_cells = Jupyter.notebook.get_cells();\n",
       "                for (var i = 0; i < nbb_cells.length; ++i) {\n",
       "                    if (nbb_cells[i].input_prompt_number == nbb_cell_id) {\n",
       "                        if (nbb_cells[i].get_text() == nbb_unformatted_code) {\n",
       "                             nbb_cells[i].set_text(nbb_formatted_code);\n",
       "                        }\n",
       "                        break;\n",
       "                    }\n",
       "                }\n",
       "            }, 500);\n",
       "            "
      ],
      "text/plain": [
       "<IPython.core.display.Javascript object>"
      ]
     },
     "metadata": {},
     "output_type": "display_data"
    }
   ],
   "source": [
    "%load_ext nb_black"
   ]
  },
  {
   "cell_type": "markdown",
   "metadata": {
    "id": "ATfGiyVar1aM"
   },
   "source": [
    "# Workshop 21. Data structures"
   ]
  },
  {
   "cell_type": "markdown",
   "metadata": {
    "id": "4tIAivhnr8k6"
   },
   "source": [
    "## Stack\n",
    "\n",
    "Stacks are collections of elements with two operations:\n",
    "\n",
    "* `push(x)` adds element `x` to the stack.\n",
    "* `pop()` removes the last added element from the stack and returns it.\n",
    "\n",
    "![Stack](https://upload.wikimedia.org/wikipedia/commons/b/b4/Lifo_stack.png)"
   ]
  },
  {
   "cell_type": "code",
   "execution_count": 38,
   "metadata": {
    "colab": {
     "base_uri": "https://localhost:8080/"
    },
    "executionInfo": {
     "elapsed": 1502,
     "status": "ok",
     "timestamp": 1606128542569,
     "user": {
      "displayName": "Georgii Zhulikov",
      "photoUrl": "https://lh3.googleusercontent.com/a-/AOh14Giiw9KeBGHLuSFSbGbBOInNZfbi9tDn5rdzWTuqYg=s64",
      "userId": "04047607669073150518"
     },
     "user_tz": -180
    },
    "id": "fDRg-LTMbioQ",
    "outputId": "cdb0a070-3d55-4e0e-b5d2-d223e3d91602"
   },
   "outputs": [
    {
     "name": "stdout",
     "output_type": "stream",
     "text": [
      "[3, 4, 5, 6, 7]\n",
      "7\n",
      "[3, 4, 5, 6]\n",
      "[3, 4]\n"
     ]
    },
    {
     "data": {
      "application/javascript": [
       "\n",
       "            setTimeout(function() {\n",
       "                var nbb_cell_id = 38;\n",
       "                var nbb_unformatted_code = \"# implementation of stacks using a list\\n\\nstack = [3, 4, 5]\\nstack.append(6)\\nstack.append(7)\\nprint(stack)\\n\\nprint(stack.pop())\\nprint(stack)\\n\\nstack.pop()\\nstack.pop()\\nprint(stack)\";\n",
       "                var nbb_formatted_code = \"# implementation of stacks using a list\\n\\nstack = [3, 4, 5]\\nstack.append(6)\\nstack.append(7)\\nprint(stack)\\n\\nprint(stack.pop())\\nprint(stack)\\n\\nstack.pop()\\nstack.pop()\\nprint(stack)\";\n",
       "                var nbb_cells = Jupyter.notebook.get_cells();\n",
       "                for (var i = 0; i < nbb_cells.length; ++i) {\n",
       "                    if (nbb_cells[i].input_prompt_number == nbb_cell_id) {\n",
       "                        if (nbb_cells[i].get_text() == nbb_unformatted_code) {\n",
       "                             nbb_cells[i].set_text(nbb_formatted_code);\n",
       "                        }\n",
       "                        break;\n",
       "                    }\n",
       "                }\n",
       "            }, 500);\n",
       "            "
      ],
      "text/plain": [
       "<IPython.core.display.Javascript object>"
      ]
     },
     "metadata": {},
     "output_type": "display_data"
    }
   ],
   "source": [
    "# implementation of stacks using a list\n",
    "\n",
    "stack = [3, 4, 5]\n",
    "stack.append(6)\n",
    "stack.append(7)\n",
    "print(stack)\n",
    "\n",
    "print(stack.pop())\n",
    "print(stack)\n",
    "\n",
    "stack.pop()\n",
    "stack.pop()\n",
    "print(stack)"
   ]
  },
  {
   "cell_type": "markdown",
   "metadata": {
    "id": "ZNh8WYnou_ZY"
   },
   "source": [
    "Stacks are used to store the context of called functions, including recursive calls.\n",
    "\n",
    "The error message for the following block of code will print the call stack of the functions."
   ]
  },
  {
   "cell_type": "code",
   "execution_count": 39,
   "metadata": {
    "id": "oDxBKC_LvROe",
    "scrolled": true
   },
   "outputs": [
    {
     "ename": "ValueError",
     "evalue": "",
     "output_type": "error",
     "traceback": [
      "\u001b[0;31m---------------------------------------------------------------------------\u001b[0m",
      "\u001b[0;31mValueError\u001b[0m                                Traceback (most recent call last)",
      "\u001b[0;32m<ipython-input-39-902079ddf940>\u001b[0m in \u001b[0;36m<module>\u001b[0;34m\u001b[0m\n\u001b[1;32m      9\u001b[0m   \u001b[0;32mreturn\u001b[0m \u001b[0mmiddle\u001b[0m\u001b[0;34m(\u001b[0m\u001b[0mx\u001b[0m\u001b[0;34m)\u001b[0m\u001b[0;34m\u001b[0m\u001b[0;34m\u001b[0m\u001b[0m\n\u001b[1;32m     10\u001b[0m \u001b[0;34m\u001b[0m\u001b[0m\n\u001b[0;32m---> 11\u001b[0;31m \u001b[0mouter\u001b[0m\u001b[0;34m(\u001b[0m\u001b[0;36m1\u001b[0m\u001b[0;34m)\u001b[0m\u001b[0;34m\u001b[0m\u001b[0;34m\u001b[0m\u001b[0m\n\u001b[0m",
      "\u001b[0;32m<ipython-input-39-902079ddf940>\u001b[0m in \u001b[0;36mouter\u001b[0;34m(x)\u001b[0m\n\u001b[1;32m      7\u001b[0m \u001b[0;34m\u001b[0m\u001b[0m\n\u001b[1;32m      8\u001b[0m \u001b[0;32mdef\u001b[0m \u001b[0mouter\u001b[0m\u001b[0;34m(\u001b[0m\u001b[0mx\u001b[0m\u001b[0;34m)\u001b[0m\u001b[0;34m:\u001b[0m\u001b[0;34m\u001b[0m\u001b[0;34m\u001b[0m\u001b[0m\n\u001b[0;32m----> 9\u001b[0;31m   \u001b[0;32mreturn\u001b[0m \u001b[0mmiddle\u001b[0m\u001b[0;34m(\u001b[0m\u001b[0mx\u001b[0m\u001b[0;34m)\u001b[0m\u001b[0;34m\u001b[0m\u001b[0;34m\u001b[0m\u001b[0m\n\u001b[0m\u001b[1;32m     10\u001b[0m \u001b[0;34m\u001b[0m\u001b[0m\n\u001b[1;32m     11\u001b[0m \u001b[0mouter\u001b[0m\u001b[0;34m(\u001b[0m\u001b[0;36m1\u001b[0m\u001b[0;34m)\u001b[0m\u001b[0;34m\u001b[0m\u001b[0;34m\u001b[0m\u001b[0m\n",
      "\u001b[0;32m<ipython-input-39-902079ddf940>\u001b[0m in \u001b[0;36mmiddle\u001b[0;34m(x)\u001b[0m\n\u001b[1;32m      4\u001b[0m \u001b[0;34m\u001b[0m\u001b[0m\n\u001b[1;32m      5\u001b[0m \u001b[0;32mdef\u001b[0m \u001b[0mmiddle\u001b[0m\u001b[0;34m(\u001b[0m\u001b[0mx\u001b[0m\u001b[0;34m)\u001b[0m\u001b[0;34m:\u001b[0m\u001b[0;34m\u001b[0m\u001b[0;34m\u001b[0m\u001b[0m\n\u001b[0;32m----> 6\u001b[0;31m   \u001b[0;32mreturn\u001b[0m \u001b[0minner\u001b[0m\u001b[0;34m(\u001b[0m\u001b[0mx\u001b[0m\u001b[0;34m)\u001b[0m\u001b[0;34m\u001b[0m\u001b[0;34m\u001b[0m\u001b[0m\n\u001b[0m\u001b[1;32m      7\u001b[0m \u001b[0;34m\u001b[0m\u001b[0m\n\u001b[1;32m      8\u001b[0m \u001b[0;32mdef\u001b[0m \u001b[0mouter\u001b[0m\u001b[0;34m(\u001b[0m\u001b[0mx\u001b[0m\u001b[0;34m)\u001b[0m\u001b[0;34m:\u001b[0m\u001b[0;34m\u001b[0m\u001b[0;34m\u001b[0m\u001b[0m\n",
      "\u001b[0;32m<ipython-input-39-902079ddf940>\u001b[0m in \u001b[0;36minner\u001b[0;34m(x)\u001b[0m\n\u001b[1;32m      1\u001b[0m \u001b[0;32mdef\u001b[0m \u001b[0minner\u001b[0m\u001b[0;34m(\u001b[0m\u001b[0mx\u001b[0m\u001b[0;34m)\u001b[0m\u001b[0;34m:\u001b[0m\u001b[0;34m\u001b[0m\u001b[0;34m\u001b[0m\u001b[0m\n\u001b[0;32m----> 2\u001b[0;31m   \u001b[0;32mraise\u001b[0m \u001b[0mValueError\u001b[0m\u001b[0;34m\u001b[0m\u001b[0;34m\u001b[0m\u001b[0m\n\u001b[0m\u001b[1;32m      3\u001b[0m   \u001b[0;32mreturn\u001b[0m \u001b[0;36m1\u001b[0m\u001b[0;34m\u001b[0m\u001b[0;34m\u001b[0m\u001b[0m\n\u001b[1;32m      4\u001b[0m \u001b[0;34m\u001b[0m\u001b[0m\n\u001b[1;32m      5\u001b[0m \u001b[0;32mdef\u001b[0m \u001b[0mmiddle\u001b[0m\u001b[0;34m(\u001b[0m\u001b[0mx\u001b[0m\u001b[0;34m)\u001b[0m\u001b[0;34m:\u001b[0m\u001b[0;34m\u001b[0m\u001b[0;34m\u001b[0m\u001b[0m\n",
      "\u001b[0;31mValueError\u001b[0m: "
     ]
    },
    {
     "data": {
      "application/javascript": [
       "\n",
       "            setTimeout(function() {\n",
       "                var nbb_cell_id = 39;\n",
       "                var nbb_unformatted_code = \"def inner(x):\\n  raise ValueError\\n  return 1\\n\\ndef middle(x):\\n  return inner(x)\\n\\ndef outer(x):\\n  return middle(x)\\n\\nouter(1)\";\n",
       "                var nbb_formatted_code = \"def inner(x):\\n    raise ValueError\\n    return 1\\n\\n\\ndef middle(x):\\n    return inner(x)\\n\\n\\ndef outer(x):\\n    return middle(x)\\n\\n\\nouter(1)\";\n",
       "                var nbb_cells = Jupyter.notebook.get_cells();\n",
       "                for (var i = 0; i < nbb_cells.length; ++i) {\n",
       "                    if (nbb_cells[i].input_prompt_number == nbb_cell_id) {\n",
       "                        if (nbb_cells[i].get_text() == nbb_unformatted_code) {\n",
       "                             nbb_cells[i].set_text(nbb_formatted_code);\n",
       "                        }\n",
       "                        break;\n",
       "                    }\n",
       "                }\n",
       "            }, 500);\n",
       "            "
      ],
      "text/plain": [
       "<IPython.core.display.Javascript object>"
      ]
     },
     "metadata": {},
     "output_type": "display_data"
    }
   ],
   "source": [
    "def inner(x):\n",
    "    raise ValueError\n",
    "    return 1\n",
    "\n",
    "\n",
    "def middle(x):\n",
    "    return inner(x)\n",
    "\n",
    "\n",
    "def outer(x):\n",
    "    return middle(x)\n",
    "\n",
    "\n",
    "outer(1)"
   ]
  },
  {
   "cell_type": "markdown",
   "metadata": {
    "id": "pQTYAQFyuuqv"
   },
   "source": [
    "## Queues\n",
    "\n",
    "Queues are collections of elements with two operations:\n",
    "\n",
    "* `push(x)` adds element `x` to the end of the queue.\n",
    "* `pop()` removes the **first** element from the queue and returns it.\n",
    "\n",
    "![Queue](https://upload.wikimedia.org/wikipedia/commons/thumb/5/52/Data_Queue.svg/405px-Data_Queue.svg.png)"
   ]
  },
  {
   "cell_type": "markdown",
   "metadata": {
    "id": "Ra_Um_bPC15H"
   },
   "source": [
    "Queues can be implemented with a `list` but removing the first element from a list is an expensive operation, so such an implementation would be extremely unoptimized.\n",
    "\n",
    "It is better to use `collections.deque` to implement a queue."
   ]
  },
  {
   "cell_type": "code",
   "execution_count": 40,
   "metadata": {
    "colab": {
     "base_uri": "https://localhost:8080/"
    },
    "executionInfo": {
     "elapsed": 719,
     "status": "ok",
     "timestamp": 1606134400427,
     "user": {
      "displayName": "Georgii Zhulikov",
      "photoUrl": "https://lh3.googleusercontent.com/a-/AOh14Giiw9KeBGHLuSFSbGbBOInNZfbi9tDn5rdzWTuqYg=s64",
      "userId": "04047607669073150518"
     },
     "user_tz": -180
    },
    "id": "AEMtY41OC1WG",
    "outputId": "bed51fa6-6450-4063-b67c-31036e8776a5"
   },
   "outputs": [
    {
     "name": "stdout",
     "output_type": "stream",
     "text": [
      "deque([1, 2, 3])\n",
      "deque([1, 2, 3, 4, 9])\n",
      "1\n",
      "deque([2, 3, 4, 9])\n",
      "2\n",
      "3\n",
      "deque([4, 9])\n"
     ]
    },
    {
     "data": {
      "application/javascript": [
       "\n",
       "            setTimeout(function() {\n",
       "                var nbb_cell_id = 40;\n",
       "                var nbb_unformatted_code = \"from collections import deque\\nqueue = deque([1, 2, 3])\\nprint(queue)\\nqueue.append(4)\\nqueue.append(9)\\nprint(queue)\\nprint(queue.popleft())\\nprint(queue)\\nprint(queue.popleft())\\nprint(queue.popleft())\\nprint(queue)\";\n",
       "                var nbb_formatted_code = \"from collections import deque\\n\\nqueue = deque([1, 2, 3])\\nprint(queue)\\nqueue.append(4)\\nqueue.append(9)\\nprint(queue)\\nprint(queue.popleft())\\nprint(queue)\\nprint(queue.popleft())\\nprint(queue.popleft())\\nprint(queue)\";\n",
       "                var nbb_cells = Jupyter.notebook.get_cells();\n",
       "                for (var i = 0; i < nbb_cells.length; ++i) {\n",
       "                    if (nbb_cells[i].input_prompt_number == nbb_cell_id) {\n",
       "                        if (nbb_cells[i].get_text() == nbb_unformatted_code) {\n",
       "                             nbb_cells[i].set_text(nbb_formatted_code);\n",
       "                        }\n",
       "                        break;\n",
       "                    }\n",
       "                }\n",
       "            }, 500);\n",
       "            "
      ],
      "text/plain": [
       "<IPython.core.display.Javascript object>"
      ]
     },
     "metadata": {},
     "output_type": "display_data"
    }
   ],
   "source": [
    "from collections import deque\n",
    "queue = deque([1, 2, 3])\n",
    "print(queue)\n",
    "queue.append(4)\n",
    "queue.append(9)\n",
    "print(queue)\n",
    "print(queue.popleft())\n",
    "print(queue)\n",
    "print(queue.popleft())\n",
    "print(queue.popleft())\n",
    "print(queue)\n"
   ]
  },
  {
   "cell_type": "markdown",
   "metadata": {
    "id": "tln5CNZiHeny"
   },
   "source": [
    "The data type \"queue\" is used in many situations where a queue is expected naturally. For example, when multiple requests have to be processed, but only one can be processed at a time. Or, when processing an element means adding more elements for future processing, like in a breadth-first search."
   ]
  },
  {
   "cell_type": "markdown",
   "metadata": {
    "id": "A1PNOlTpEiIp"
   },
   "source": [
    "## Double-ended queue (deque)\n",
    "\n",
    "Double-ended queue, or deque (pronounced *deck*) generalizes queue to allow four operations:\n",
    "\n",
    "* Add an element to the front of the deque\n",
    "* Add an element to the back of the deque\n",
    "* Remove an element from the front of the deque and return it\n",
    "* Remove an element from the back of the deque and return it\n",
    "\n"
   ]
  },
  {
   "cell_type": "code",
   "execution_count": 41,
   "metadata": {
    "colab": {
     "base_uri": "https://localhost:8080/"
    },
    "executionInfo": {
     "elapsed": 737,
     "status": "ok",
     "timestamp": 1606135585815,
     "user": {
      "displayName": "Georgii Zhulikov",
      "photoUrl": "https://lh3.googleusercontent.com/a-/AOh14Giiw9KeBGHLuSFSbGbBOInNZfbi9tDn5rdzWTuqYg=s64",
      "userId": "04047607669073150518"
     },
     "user_tz": -180
    },
    "id": "puM4_87tCiqc",
    "outputId": "311c488a-ab20-4704-fe41-7769c77277a9"
   },
   "outputs": [
    {
     "name": "stdout",
     "output_type": "stream",
     "text": [
      "10\n",
      "20\n",
      "50\n",
      "deque(['->', 10, 20, 50, '<-'])\n"
     ]
    },
    {
     "data": {
      "text/plain": [
       "[10, 20, 50]"
      ]
     },
     "execution_count": 41,
     "metadata": {},
     "output_type": "execute_result"
    },
    {
     "data": {
      "application/javascript": [
       "\n",
       "            setTimeout(function() {\n",
       "                var nbb_cell_id = 41;\n",
       "                var nbb_unformatted_code = \"from collections import deque\\n\\nd = deque([10, 20, 50])\\nfor elem in d:\\n    print(elem)\\n\\nd.append(\\\"<-\\\")\\nd.appendleft(\\\"->\\\")\\nprint(d)\\n\\nd.pop()\\nd.popleft()\\nlist(d)\";\n",
       "                var nbb_formatted_code = \"from collections import deque\\n\\nd = deque([10, 20, 50])\\nfor elem in d:\\n    print(elem)\\n\\nd.append(\\\"<-\\\")\\nd.appendleft(\\\"->\\\")\\nprint(d)\\n\\nd.pop()\\nd.popleft()\\nlist(d)\";\n",
       "                var nbb_cells = Jupyter.notebook.get_cells();\n",
       "                for (var i = 0; i < nbb_cells.length; ++i) {\n",
       "                    if (nbb_cells[i].input_prompt_number == nbb_cell_id) {\n",
       "                        if (nbb_cells[i].get_text() == nbb_unformatted_code) {\n",
       "                             nbb_cells[i].set_text(nbb_formatted_code);\n",
       "                        }\n",
       "                        break;\n",
       "                    }\n",
       "                }\n",
       "            }, 500);\n",
       "            "
      ],
      "text/plain": [
       "<IPython.core.display.Javascript object>"
      ]
     },
     "metadata": {},
     "output_type": "display_data"
    }
   ],
   "source": [
    "from collections import deque\n",
    "\n",
    "d = deque([10, 20, 50])\n",
    "for elem in d:\n",
    "    print(elem)\n",
    "\n",
    "d.append(\"<-\")\n",
    "d.appendleft(\"->\")\n",
    "print(d)\n",
    "\n",
    "d.pop()\n",
    "d.popleft()\n",
    "list(d)"
   ]
  },
  {
   "cell_type": "markdown",
   "metadata": {
    "id": "Oq9i5IC0JI4-"
   },
   "source": [
    "## Heap (priority queue)\n",
    "\n",
    "Heap is a data structure represented as a binary tree where all child elements are greater (less) than or equal to the parent elements. Additionally, every \"level\" of the tree has to be full except for the lowest one.\n",
    "\n",
    "It is possible to implement heaps as other types of trees which are more complex than binary ones.\n",
    "\n",
    "A heap supports the following operations:\n",
    "\n",
    "* Add an element to the heap, while maintaining its structure.\n",
    "* Remove the root element from the heap, return it and reorganize the heap to maintain its structure.\n",
    "\n",
    "![Heap](https://upload.wikimedia.org/wikipedia/commons/thumb/3/38/Max-Heap.svg/501px-Max-Heap.svg.png)"
   ]
  },
  {
   "cell_type": "markdown",
   "metadata": {
    "id": "pAky5akzUQH2"
   },
   "source": [
    "**Priority queue** is an abstract data type similar to the regular queue. Its operations are:\n",
    "\n",
    "* Add an element with a certain priority to the queue.\n",
    "* Remove the element with the highest priority from the queue and return it.\n",
    "* Check if the queue is empty\n",
    "\n",
    "Priority queues are ofter implemented with heaps."
   ]
  },
  {
   "cell_type": "code",
   "execution_count": 42,
   "metadata": {},
   "outputs": [
    {
     "data": {
      "text/plain": [
       "[2, 16, 28, 19, 17, 3, 16, 29, 12, 3]"
      ]
     },
     "execution_count": 42,
     "metadata": {},
     "output_type": "execute_result"
    },
    {
     "data": {
      "application/javascript": [
       "\n",
       "            setTimeout(function() {\n",
       "                var nbb_cell_id = 42;\n",
       "                var nbb_unformatted_code = \"import random\\n\\n[random.randint(1, 30) for i in range(10)]\";\n",
       "                var nbb_formatted_code = \"import random\\n\\n[random.randint(1, 30) for i in range(10)]\";\n",
       "                var nbb_cells = Jupyter.notebook.get_cells();\n",
       "                for (var i = 0; i < nbb_cells.length; ++i) {\n",
       "                    if (nbb_cells[i].input_prompt_number == nbb_cell_id) {\n",
       "                        if (nbb_cells[i].get_text() == nbb_unformatted_code) {\n",
       "                             nbb_cells[i].set_text(nbb_formatted_code);\n",
       "                        }\n",
       "                        break;\n",
       "                    }\n",
       "                }\n",
       "            }, 500);\n",
       "            "
      ],
      "text/plain": [
       "<IPython.core.display.Javascript object>"
      ]
     },
     "metadata": {},
     "output_type": "display_data"
    }
   ],
   "source": [
    "import random\n",
    "\n",
    "[random.randint(1, 30) for i in range(10)]"
   ]
  },
  {
   "cell_type": "code",
   "execution_count": null,
   "metadata": {},
   "outputs": [],
   "source": []
  },
  {
   "cell_type": "code",
   "execution_count": null,
   "metadata": {},
   "outputs": [],
   "source": []
  },
  {
   "cell_type": "code",
   "execution_count": 53,
   "metadata": {
    "colab": {
     "base_uri": "https://localhost:8080/"
    },
    "executionInfo": {
     "elapsed": 1139,
     "status": "ok",
     "timestamp": 1606139302003,
     "user": {
      "displayName": "Georgii Zhulikov",
      "photoUrl": "https://lh3.googleusercontent.com/a-/AOh14Giiw9KeBGHLuSFSbGbBOInNZfbi9tDn5rdzWTuqYg=s64",
      "userId": "04047607669073150518"
     },
     "user_tz": -180
    },
    "id": "aU61BqwwUPXX",
    "outputId": "507f0f7b-4fad-4e63-b511-994cdfc9af28"
   },
   "outputs": [
    {
     "name": "stdout",
     "output_type": "stream",
     "text": [
      "[24, 14, 15, 25, 28, 20, 19, 18, 1, 23]\n",
      "[28, 25, 20, 24, 23, 15, 19, 1, 18, 14]\n",
      "[28, 25, 20, 24, 23, 15, 19, 1, 18, 14, 5]\n",
      "[28, 25, 20, 24, 23, 15, 19, 1, 18, 14, 5]\n",
      "28\n"
     ]
    },
    {
     "data": {
      "application/javascript": [
       "\n",
       "            setTimeout(function() {\n",
       "                var nbb_cell_id = 53;\n",
       "                var nbb_unformatted_code = \"import heapq\\n\\nheap_list = [random.randint(1, 30) for i in range(10)]\\nprint(heap_list)\\nheapq.heapify(heap_list)\\nheapq._heapify_max(heap_list)\\nprint(heap_list)\\n\\nheapq.heappush(heap_list, 5)\\nheapq._heapify_max(heap_list)\\nprint(heap_list)\\n\\n# print(heapq.heappop(heap_list))\\n# print(heapq.heappop(heap_list))\\nprint(heap_list)\\nprint(heapq._heappop_max(heap_list))\";\n",
       "                var nbb_formatted_code = \"import heapq\\n\\nheap_list = [random.randint(1, 30) for i in range(10)]\\nprint(heap_list)\\nheapq.heapify(heap_list)\\nheapq._heapify_max(heap_list)\\nprint(heap_list)\\n\\nheapq.heappush(heap_list, 5)\\nheapq._heapify_max(heap_list)\\nprint(heap_list)\\n\\n# print(heapq.heappop(heap_list))\\n# print(heapq.heappop(heap_list))\\nprint(heap_list)\\nprint(heapq._heappop_max(heap_list))\";\n",
       "                var nbb_cells = Jupyter.notebook.get_cells();\n",
       "                for (var i = 0; i < nbb_cells.length; ++i) {\n",
       "                    if (nbb_cells[i].input_prompt_number == nbb_cell_id) {\n",
       "                        if (nbb_cells[i].get_text() == nbb_unformatted_code) {\n",
       "                             nbb_cells[i].set_text(nbb_formatted_code);\n",
       "                        }\n",
       "                        break;\n",
       "                    }\n",
       "                }\n",
       "            }, 500);\n",
       "            "
      ],
      "text/plain": [
       "<IPython.core.display.Javascript object>"
      ]
     },
     "metadata": {},
     "output_type": "display_data"
    }
   ],
   "source": [
    "import heapq\n",
    "\n",
    "heap_list = [random.randint(1, 30) for i in range(10)]\n",
    "print(heap_list)\n",
    "heapq.heapify(heap_list)\n",
    "heapq._heapify_max(heap_list)\n",
    "print(heap_list)\n",
    "\n",
    "heapq.heappush(heap_list, 5)\n",
    "heapq._heapify_max(heap_list)\n",
    "print(heap_list)\n",
    "\n",
    "# print(heapq.heappop(heap_list))\n",
    "# print(heapq.heappop(heap_list))\n",
    "print(heap_list)\n",
    "print(heapq._heappop_max(heap_list))"
   ]
  },
  {
   "cell_type": "markdown",
   "metadata": {
    "id": "VreZLKdwXUsj"
   },
   "source": [
    "A common way to implement heaps is to use lists, arrays or other linear data types, and maintain the following relationship between its elements:\n",
    "\n",
    "`a[k] <= a[2*k+1]' and 'a[k] <= a[2*k+2]` for all k, counting elements from 0. \n",
    "\n",
    "\n",
    "![Heap as array](https://upload.wikimedia.org/wikipedia/commons/thumb/d/d2/Heap-as-array.svg/603px-Heap-as-array.svg.png)"
   ]
  },
  {
   "cell_type": "code",
   "execution_count": null,
   "metadata": {
    "id": "EJhxKC2bXVLB"
   },
   "outputs": [],
   "source": [
    "# The order of elements in the array:\n",
    "\n",
    "#                                0\n",
    "\n",
    "#               1                                 2\n",
    "\n",
    "#       3               4                5               6\n",
    "\n",
    "#   7       8       9       10      11      12      13      14\n",
    "\n",
    "# 15 16   17 18   19 20   21 22   23 24   25 26   27 28   29 30"
   ]
  },
  {
   "cell_type": "markdown",
   "metadata": {
    "id": "Xu4cs13OYaaZ"
   },
   "source": [
    "The two operations can be combined for speed. There are two functions for doing this.\n",
    "\n",
    "* `heappushpop` first adds a new element, then pops the lowest one.\n",
    "* `heapreplace` first pops the lowest element, then adds a new one."
   ]
  },
  {
   "cell_type": "code",
   "execution_count": null,
   "metadata": {
    "colab": {
     "base_uri": "https://localhost:8080/"
    },
    "executionInfo": {
     "elapsed": 689,
     "status": "ok",
     "timestamp": 1606139975170,
     "user": {
      "displayName": "Georgii Zhulikov",
      "photoUrl": "https://lh3.googleusercontent.com/a-/AOh14Giiw9KeBGHLuSFSbGbBOInNZfbi9tDn5rdzWTuqYg=s64",
      "userId": "04047607669073150518"
     },
     "user_tz": -180
    },
    "id": "4OCU7JMiYTAW",
    "outputId": "523fbc2b-097f-41de-8f6f-bf751a0cc7e0"
   },
   "outputs": [],
   "source": [
    "heap_list_1 = [4, 10, 9, 1, 2]\n",
    "heap_list_2 = [4, 10, 9, 1, 2]\n",
    "  \n",
    "heapq.heapify(heap_list_1) \n",
    "heapq.heapify(heap_list_2) \n",
    "  \n",
    "print(\"headpushpop:\")\n",
    "print(\"Pushed 0\")\n",
    "print(\"Popped\", heapq.heappushpop(heap_list_1, 3)) \n",
    "print(heap_list_1)\n",
    "print()\n",
    "\n",
    "print(\"heapreplace:\")\n",
    "print(\"Popped\", heapq.heapreplace(heap_list_2, 0)) \n",
    "print(\"Pushed 0\")\n",
    "print(heap_list_2)\n"
   ]
  },
  {
   "cell_type": "markdown",
   "metadata": {
    "id": "z-OBuQhxZ0Sb"
   },
   "source": [
    "## Task 1\n",
    "\n",
    "Implement a class `Stack` that supports the stack operations. The a list to store the elements."
   ]
  },
  {
   "cell_type": "markdown",
   "metadata": {
    "id": "6y-f_4NVaxmv"
   },
   "source": [
    "## Task 2\n",
    "\n",
    "Implement a function `heapsort()` that sorts iterables using a heap.\n",
    "\n",
    "Use the module `heapq`."
   ]
  },
  {
   "cell_type": "markdown",
   "metadata": {
    "id": "vak0jJNiWnZ5"
   },
   "source": [
    "## Task 3. Fill\n",
    "\n",
    "You are given a matrix as a list of lists.\n",
    "\n",
    "```\n",
    "a=[\n",
    "[1,1,1,1,1,1,1],\n",
    "[1,0,0,0,0,1,1],\n",
    "[1,0,0,1,1,0,1],\n",
    "[1,1,1,0,0,0,1],\n",
    "[1,0,0,0,0,0,1],\n",
    "[1,0,0,1,1,1,1],\n",
    "[1,0,1,0,0,0,1],\n",
    "[1,1,1,1,1,1,1]\n",
    "]\n",
    "```\n",
    "\n",
    "Write a program that takes two coordinates **x** and **y** as input and \"fills\" the matrix with the value **2** using the following rules:\n",
    "\n",
    "* If the cell is 0, fill this cell and adjacent 4 cells (to the top, bottom, left and right).\n",
    "* If the cell is 1, do not fill the cell.\n",
    "* Use a queue.\n",
    "\n",
    "**Example:**\n",
    "\n",
    "Input: `4 4`\n",
    "\n",
    "Output:\n",
    "\n",
    "```\n",
    "1 1 1 1 1 1 1\n",
    "1 0 0 0 0 1 1\n",
    "1 0 0 1 1 2 1\n",
    "1 1 1 2 2 2 1\n",
    "1 2 2 2 2 2 1\n",
    "1 2 2 1 1 1 1\n",
    "1 2 1 0 0 0 1\n",
    "1 1 1 1 1 1 1\n",
    "```"
   ]
  },
  {
   "cell_type": "code",
   "execution_count": null,
   "metadata": {
    "id": "vMdMWQkdXrRf"
   },
   "outputs": [],
   "source": [
    "from collections import deque\n",
    "\n",
    "a=[\n",
    "[1,1,1,1,1,1,1],\n",
    "[1,0,0,0,0,1,1],\n",
    "[1,0,0,1,1,0,1],\n",
    "[1,1,1,0,0,0,1],\n",
    "[1,0,0,0,0,0,1],\n",
    "[1,0,0,1,1,1,1],\n",
    "[1,0,1,0,0,0,1],\n",
    "[1,1,1,1,1,1,1]\n",
    "]\n"
   ]
  }
 ],
 "metadata": {
  "colab": {
   "authorship_tag": "ABX9TyNxgpIcIEhBu56h98dcIPlX",
   "collapsed_sections": [],
   "name": "Workshop 21.ipynb",
   "provenance": [],
   "toc_visible": true
  },
  "kernelspec": {
   "display_name": "Python 3 (ipykernel)",
   "language": "python",
   "name": "python3"
  },
  "language_info": {
   "codemirror_mode": {
    "name": "ipython",
    "version": 3
   },
   "file_extension": ".py",
   "mimetype": "text/x-python",
   "name": "python",
   "nbconvert_exporter": "python",
   "pygments_lexer": "ipython3",
   "version": "3.9.7"
  }
 },
 "nbformat": 4,
 "nbformat_minor": 1
}
