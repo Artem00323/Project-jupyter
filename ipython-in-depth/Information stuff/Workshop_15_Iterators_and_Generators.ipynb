{
 "cells": [
  {
   "cell_type": "markdown",
   "metadata": {
    "collapsed": true,
    "id": "OLmxZ78AmjH4",
    "pycharm": {
     "name": "#%% md\n"
    }
   },
   "source": [
    "\n",
    "\n",
    "#  Workshop 15\n",
    "## _Iterators and generators._\n",
    "\n",
    "### Iterators\n",
    "\n",
    "#### Iterators and the \"for\" loop\n"
   ]
  },
  {
   "cell_type": "code",
   "execution_count": 1,
   "metadata": {
    "id": "1WK8X6zSmjH5",
    "pycharm": {
     "metadata": false,
     "name": "#%%\n"
    }
   },
   "outputs": [
    {
     "name": "stdout",
     "output_type": "stream",
     "text": [
      "0\n",
      "1\n",
      "2\n",
      "3\n",
      "4\n",
      "1\n",
      "2\n",
      "3\n",
      "1\n",
      "2\n",
      "3\n",
      "one\n",
      "two\n",
      "1\n",
      "2\n",
      "3\n"
     ]
    },
    {
     "ename": "FileNotFoundError",
     "evalue": "[Errno 2] No such file or directory: 'text.txt'",
     "output_type": "error",
     "traceback": [
      "\u001b[0;31m---------------------------------------------------------------------------\u001b[0m",
      "\u001b[0;31mFileNotFoundError\u001b[0m                         Traceback (most recent call last)",
      "\u001b[0;32m/var/folders/mp/fq0hr_bj2z3850p7x62kfrjm0000gn/T/ipykernel_15503/3481316537.py\u001b[0m in \u001b[0;36m<module>\u001b[0;34m\u001b[0m\n\u001b[1;32m     14\u001b[0m     \u001b[0mprint\u001b[0m\u001b[0;34m(\u001b[0m\u001b[0mchar\u001b[0m\u001b[0;34m)\u001b[0m\u001b[0;34m\u001b[0m\u001b[0;34m\u001b[0m\u001b[0m\n\u001b[1;32m     15\u001b[0m \u001b[0;34m\u001b[0m\u001b[0m\n\u001b[0;32m---> 16\u001b[0;31m \u001b[0;32mfor\u001b[0m \u001b[0mline\u001b[0m \u001b[0;32min\u001b[0m \u001b[0mopen\u001b[0m\u001b[0;34m(\u001b[0m\u001b[0;34m\"text.txt\"\u001b[0m\u001b[0;34m)\u001b[0m\u001b[0;34m:\u001b[0m\u001b[0;34m\u001b[0m\u001b[0;34m\u001b[0m\u001b[0m\n\u001b[0m\u001b[1;32m     17\u001b[0m     \u001b[0mprint\u001b[0m\u001b[0;34m(\u001b[0m\u001b[0mline\u001b[0m\u001b[0;34m,\u001b[0m \u001b[0mend\u001b[0m\u001b[0;34m=\u001b[0m\u001b[0;34m''\u001b[0m\u001b[0;34m)\u001b[0m\u001b[0;34m\u001b[0m\u001b[0;34m\u001b[0m\u001b[0m\n",
      "\u001b[0;31mFileNotFoundError\u001b[0m: [Errno 2] No such file or directory: 'text.txt'"
     ]
    }
   ],
   "source": [
    "for i in range(5):\n",
    "    print(i)\n",
    "\n",
    "for element in [1, 2, 3]:\n",
    "    print(element)\n",
    "\n",
    "for element in (1, 2, 3):\n",
    "    print(element)\n",
    "\n",
    "for key in {'one': 1, 'two': 2}:\n",
    "    print(key)\n",
    "\n",
    "for char in \"123\":\n",
    "    print(char)\n",
    "\n",
    "for line in open(\"text.txt\"):\n",
    "    print(line, end='')"
   ]
  },
  {
   "cell_type": "markdown",
   "metadata": {
    "id": "lze4b61zmjH-",
    "pycharm": {
     "metadata": false,
     "name": "#%% md\n"
    }
   },
   "source": [
    "#### Under the hood: functions \"iter\" and \"next\" \n"
   ]
  },
  {
   "cell_type": "code",
   "execution_count": 188,
   "metadata": {
    "colab": {
     "base_uri": "https://localhost:8080/",
     "height": 278
    },
    "id": "vmqDk7H3mjH-",
    "outputId": "30b270b4-213e-4e01-ba2c-c16bbf735471",
    "pycharm": {
     "metadata": false,
     "name": "#%%\n"
    }
   },
   "outputs": [
    {
     "name": "stdout",
     "output_type": "stream",
     "text": [
      "<str_iterator object at 0x10810d860>\n"
     ]
    }
   ],
   "source": [
    "s = 'abc'\n",
    "it = iter(s)\n",
    "print(it)\n",
    "\n",
    "# print(next(it))\n",
    "# print(next(it))\n",
    "# print(next(it))\n",
    "# print(next(it))\n"
   ]
  },
  {
   "cell_type": "code",
   "execution_count": 192,
   "metadata": {},
   "outputs": [
    {
     "ename": "StopIteration",
     "evalue": "",
     "output_type": "error",
     "traceback": [
      "\u001b[0;31m---------------------------------------------------------------------------\u001b[0m",
      "\u001b[0;31mStopIteration\u001b[0m                             Traceback (most recent call last)",
      "\u001b[0;32m<ipython-input-192-2cdb14c0d4d6>\u001b[0m in \u001b[0;36m<module>\u001b[0;34m()\u001b[0m\n\u001b[0;32m----> 1\u001b[0;31m \u001b[0mnext\u001b[0m\u001b[0;34m(\u001b[0m\u001b[0mit\u001b[0m\u001b[0;34m)\u001b[0m\u001b[0;34m\u001b[0m\u001b[0m\n\u001b[0m",
      "\u001b[0;31mStopIteration\u001b[0m: "
     ]
    }
   ],
   "source": [
    "next(it)"
   ]
  },
  {
   "cell_type": "code",
   "execution_count": 196,
   "metadata": {},
   "outputs": [],
   "source": [
    "import sys"
   ]
  },
  {
   "cell_type": "code",
   "execution_count": 212,
   "metadata": {},
   "outputs": [
    {
     "data": {
      "text/plain": [
       "48"
      ]
     },
     "execution_count": 212,
     "metadata": {},
     "output_type": "execute_result"
    }
   ],
   "source": [
    "sys.getsizeof((range(100)))"
   ]
  },
  {
   "cell_type": "code",
   "execution_count": 195,
   "metadata": {},
   "outputs": [
    {
     "data": {
      "text/plain": [
       "[0, 1, 2, 3, 4, 5, 6, 7, 8, 9]"
      ]
     },
     "execution_count": 195,
     "metadata": {},
     "output_type": "execute_result"
    }
   ],
   "source": [
    "list(range(10))"
   ]
  },
  {
   "cell_type": "markdown",
   "metadata": {
    "id": "ChPK491KmjIL",
    "pycharm": {
     "metadata": false,
     "name": "#%% md\n"
    }
   },
   "source": [
    "### Generators\n",
    "\n",
    "\n",
    "Generators are a simple and powerful tool for creating iterators.\n"
   ]
  },
  {
   "cell_type": "code",
   "execution_count": 218,
   "metadata": {
    "colab": {
     "base_uri": "https://localhost:8080/",
     "height": 104
    },
    "id": "U17smtZlmjIM",
    "outputId": "66924768-0214-4a79-9928-d8b43fb54dd3",
    "pycharm": {
     "metadata": false,
     "name": "#%%\n"
    }
   },
   "outputs": [
    {
     "name": "stdout",
     "output_type": "stream",
     "text": [
      "<function reverse at 0x10809e2f0>\n",
      "f l o g\n"
     ]
    }
   ],
   "source": [
    "def reverse(data):\n",
    "    for index in range(len(data)-1, -1, -1):\n",
    "        yield data[index]\n",
    "\n",
    "print(reverse)\n",
    "print(*reverse('golf'))\n"
   ]
  },
  {
   "cell_type": "code",
   "execution_count": 219,
   "metadata": {
    "id": "oKc0gbfzmjIO",
    "pycharm": {
     "metadata": false,
     "name": "#%%\n"
    }
   },
   "outputs": [
    {
     "name": "stdout",
     "output_type": "stream",
     "text": [
      "0\n",
      "1\n",
      "4\n",
      "9\n",
      "16\n",
      "25\n",
      "36\n",
      "49\n",
      "64\n",
      "81\n",
      "[0, 1, 4, 9, 16, 25, 36, 49, 64, 81]\n"
     ]
    }
   ],
   "source": [
    "def squares(n):\n",
    "    for i in range(n):\n",
    "        yield i ** 2\n",
    "\n",
    "\n",
    "for x in squares(10):\n",
    "    print(x)\n",
    "\n",
    "print(list(squares(10)))"
   ]
  },
  {
   "cell_type": "code",
   "execution_count": 220,
   "metadata": {
    "id": "jtfDuFa-mjIS",
    "pycharm": {
     "metadata": false,
     "name": "#%%\n"
    }
   },
   "outputs": [
    {
     "name": "stdout",
     "output_type": "stream",
     "text": [
      "1\n",
      "2\n",
      "6\n",
      "24\n",
      "120\n",
      "720\n",
      "5040\n",
      "40320\n",
      "362880\n"
     ]
    }
   ],
   "source": [
    "def fact(n):\n",
    "    f = 1\n",
    "    for i in range(1, n):\n",
    "        f *= i\n",
    "        yield f\n",
    "\n",
    "\n",
    "for x in fact(10):\n",
    "    print(x)\n",
    "\n"
   ]
  },
  {
   "cell_type": "markdown",
   "metadata": {
    "id": "l9Yv15IGmjIU",
    "pycharm": {
     "metadata": false,
     "name": "#%% md\n"
    }
   },
   "source": [
    "### Generator expressions\n"
   ]
  },
  {
   "cell_type": "code",
   "execution_count": null,
   "metadata": {},
   "outputs": [],
   "source": [
    "sys.getsizeof()"
   ]
  },
  {
   "cell_type": "code",
   "execution_count": 222,
   "metadata": {},
   "outputs": [
    {
     "data": {
      "text/plain": [
       "<generator object <genexpr> at 0x108117b48>"
      ]
     },
     "execution_count": 222,
     "metadata": {},
     "output_type": "execute_result"
    }
   ],
   "source": [
    "(x*x for x in range(10))"
   ]
  },
  {
   "cell_type": "code",
   "execution_count": 223,
   "metadata": {
    "id": "ltQ2RTWvmjIV",
    "pycharm": {
     "metadata": false,
     "name": "#%%\n"
    }
   },
   "outputs": [
    {
     "name": "stdout",
     "output_type": "stream",
     "text": [
      "0\n",
      "1\n",
      "4\n",
      "9\n",
      "16\n",
      "25\n",
      "36\n",
      "49\n",
      "64\n",
      "81\n"
     ]
    }
   ],
   "source": [
    "for i in (x*x for x in range(10)):\n",
    "    print(i)\n"
   ]
  },
  {
   "cell_type": "code",
   "execution_count": 224,
   "metadata": {
    "id": "XYU1fI8cmjIY",
    "pycharm": {
     "metadata": false,
     "name": "#%%\n"
    }
   },
   "outputs": [
    {
     "name": "stdout",
     "output_type": "stream",
     "text": [
      "0\n",
      "2\n",
      "4\n",
      "6\n",
      "8\n"
     ]
    }
   ],
   "source": [
    "for i in (x for x in range(10) if x % 2 == 0):\n",
    "    print(i)\n"
   ]
  },
  {
   "cell_type": "code",
   "execution_count": 225,
   "metadata": {},
   "outputs": [
    {
     "data": {
      "text/plain": [
       "2"
      ]
     },
     "execution_count": 225,
     "metadata": {},
     "output_type": "execute_result"
    }
   ],
   "source": [
    "math.trunc(math.sqrt(5))"
   ]
  },
  {
   "cell_type": "code",
   "execution_count": 226,
   "metadata": {
    "id": "fx4xvGelmjIa",
    "pycharm": {
     "metadata": false,
     "name": "#%% \n"
    }
   },
   "outputs": [
    {
     "name": "stdout",
     "output_type": "stream",
     "text": [
      "0\n",
      "1\n",
      "4\n",
      "9\n"
     ]
    }
   ],
   "source": [
    "import math\n",
    "for i in (x for x in range(10) if math.sqrt(x) - math.trunc(math.sqrt(x)) == 0):\n",
    "    print(i)\n"
   ]
  },
  {
   "cell_type": "code",
   "execution_count": 227,
   "metadata": {
    "id": "YKipVFx8mjIc",
    "pycharm": {
     "metadata": false,
     "name": "#%%\n"
    }
   },
   "outputs": [
    {
     "name": "stdout",
     "output_type": "stream",
     "text": [
      "285\n"
     ]
    }
   ],
   "source": [
    "s = sum(i*i for i in range(10))\n",
    "print(s)\n",
    "\n"
   ]
  },
  {
   "cell_type": "code",
   "execution_count": 233,
   "metadata": {
    "collapsed": true,
    "id": "Xbg41E6-mjIf",
    "pycharm": {
     "metadata": false,
     "name": "#%%\n"
    }
   },
   "outputs": [
    {
     "data": {
      "text/plain": [
       "{0: 0.0,\n",
       " 1: 0.01745240643728351,\n",
       " 2: 0.03489949670250097,\n",
       " 3: 0.05233595624294383,\n",
       " 4: 0.0697564737441253,\n",
       " 5: 0.08715574274765817,\n",
       " 6: 0.10452846326765346,\n",
       " 7: 0.12186934340514748,\n",
       " 8: 0.13917310096006544,\n",
       " 9: 0.15643446504023087,\n",
       " 10: 0.17364817766693033,\n",
       " 11: 0.1908089953765448,\n",
       " 12: 0.20791169081775931,\n",
       " 13: 0.224951054343865,\n",
       " 14: 0.24192189559966773,\n",
       " 15: 0.25881904510252074,\n",
       " 16: 0.27563735581699916,\n",
       " 17: 0.29237170472273677,\n",
       " 18: 0.3090169943749474,\n",
       " 19: 0.32556815445715664,\n",
       " 20: 0.3420201433256687,\n",
       " 21: 0.35836794954530027,\n",
       " 22: 0.374606593415912,\n",
       " 23: 0.3907311284892737,\n",
       " 24: 0.40673664307580015,\n",
       " 25: 0.42261826174069944,\n",
       " 26: 0.4383711467890774,\n",
       " 27: 0.45399049973954675,\n",
       " 28: 0.4694715627858908,\n",
       " 29: 0.48480962024633706,\n",
       " 30: 0.49999999999999994,\n",
       " 31: 0.5150380749100542,\n",
       " 32: 0.5299192642332049,\n",
       " 33: 0.5446390350150271,\n",
       " 34: 0.5591929034707469,\n",
       " 35: 0.573576436351046,\n",
       " 36: 0.5877852522924731,\n",
       " 37: 0.6018150231520483,\n",
       " 38: 0.6156614753256582,\n",
       " 39: 0.6293203910498374,\n",
       " 40: 0.6427876096865393,\n",
       " 41: 0.6560590289905072,\n",
       " 42: 0.6691306063588582,\n",
       " 43: 0.6819983600624985,\n",
       " 44: 0.6946583704589973,\n",
       " 45: 0.7071067811865475,\n",
       " 46: 0.7193398003386511,\n",
       " 47: 0.7313537016191705,\n",
       " 48: 0.7431448254773941,\n",
       " 49: 0.7547095802227719,\n",
       " 50: 0.766044443118978,\n",
       " 51: 0.7771459614569708,\n",
       " 52: 0.7880107536067219,\n",
       " 53: 0.7986355100472928,\n",
       " 54: 0.8090169943749473,\n",
       " 55: 0.8191520442889917,\n",
       " 56: 0.8290375725550416,\n",
       " 57: 0.8386705679454239,\n",
       " 58: 0.848048096156426,\n",
       " 59: 0.8571673007021121,\n",
       " 60: 0.8660254037844386,\n",
       " 61: 0.8746197071393957,\n",
       " 62: 0.8829475928589269,\n",
       " 63: 0.8910065241883678,\n",
       " 64: 0.898794046299167,\n",
       " 65: 0.9063077870366499,\n",
       " 66: 0.9135454576426009,\n",
       " 67: 0.9205048534524403,\n",
       " 68: 0.9271838545667874,\n",
       " 69: 0.9335804264972017,\n",
       " 70: 0.9396926207859083,\n",
       " 71: 0.9455185755993167,\n",
       " 72: 0.9510565162951535,\n",
       " 73: 0.9563047559630354,\n",
       " 74: 0.9612616959383189,\n",
       " 75: 0.9659258262890683,\n",
       " 76: 0.9702957262759965,\n",
       " 77: 0.9743700647852352,\n",
       " 78: 0.9781476007338056,\n",
       " 79: 0.981627183447664,\n",
       " 80: 0.984807753012208,\n",
       " 81: 0.9876883405951378,\n",
       " 82: 0.9902680687415703,\n",
       " 83: 0.992546151641322,\n",
       " 84: 0.9945218953682733,\n",
       " 85: 0.9961946980917455,\n",
       " 86: 0.9975640502598242,\n",
       " 87: 0.9986295347545738,\n",
       " 88: 0.9993908270190958,\n",
       " 89: 0.9998476951563913,\n",
       " 90: 1.0}"
      ]
     },
     "execution_count": 233,
     "metadata": {},
     "output_type": "execute_result"
    }
   ],
   "source": [
    "from math import pi, asin\n",
    "{x:sin(x*pi/180) for x in range(0, 91)}\n",
    "\n"
   ]
  },
  {
   "cell_type": "code",
   "execution_count": null,
   "metadata": {
    "id": "bL3l3AfGmjIh",
    "pycharm": {
     "metadata": false,
     "name": "#%%\n"
    }
   },
   "outputs": [],
   "source": [
    "data = 'golf'\n",
    "letter_list = [data[i] for i in range(len(data)-1, -1, -1)]\n",
    "print(letter_list)\n"
   ]
  },
  {
   "cell_type": "code",
   "execution_count": 234,
   "metadata": {
    "id": "kakmSdv4mjIk",
    "pycharm": {
     "metadata": false,
     "name": "#%%\n"
    }
   },
   "outputs": [
    {
     "name": "stdout",
     "output_type": "stream",
     "text": [
      "['al', 'am', 'an', 'bl', 'bm', 'bn', 'cl', 'cm', 'cn']\n"
     ]
    }
   ],
   "source": [
    "print([x + y for x in 'abc' for y in 'lmn'])"
   ]
  },
  {
   "cell_type": "markdown",
   "metadata": {
    "id": "VjiJemgdmjIm",
    "pycharm": {
     "metadata": false,
     "name": "#%% md\n"
    }
   },
   "source": [
    "### Functional tools\n",
    "\n",
    "#### filter\n"
   ]
  },
  {
   "cell_type": "code",
   "execution_count": 241,
   "metadata": {},
   "outputs": [],
   "source": [
    "?filter"
   ]
  },
  {
   "cell_type": "code",
   "execution_count": 242,
   "metadata": {
    "colab": {
     "base_uri": "https://localhost:8080/"
    },
    "id": "4NIqVdODmjIn",
    "outputId": "908d3630-0bc9-46e2-8cda-60610eac54b2",
    "pycharm": {
     "metadata": false,
     "name": "#%%\n"
    }
   },
   "outputs": [
    {
     "name": "stdout",
     "output_type": "stream",
     "text": [
      "9 7 5 3 1\n"
     ]
    }
   ],
   "source": [
    "print(*filter(lambda x: x % 2 != 0, range(10,0,-1)))\n"
   ]
  },
  {
   "cell_type": "code",
   "execution_count": 243,
   "metadata": {},
   "outputs": [],
   "source": [
    "lst = ['abc','a','jjjjj','poiuytr','ssss']"
   ]
  },
  {
   "cell_type": "code",
   "execution_count": 245,
   "metadata": {},
   "outputs": [
    {
     "name": "stdout",
     "output_type": "stream",
     "text": [
      "jjjjj poiuytr\n"
     ]
    }
   ],
   "source": [
    "print(*filter(lambda x: len(x) > 4, lst ))"
   ]
  },
  {
   "cell_type": "code",
   "execution_count": 246,
   "metadata": {},
   "outputs": [
    {
     "name": "stdout",
     "output_type": "stream",
     "text": [
      "jjjjj poiuytr\n"
     ]
    }
   ],
   "source": [
    "print(*(i for i in ['abc','a','jjjjj','poiuytr','ssss'] if len(i) > 4))"
   ]
  },
  {
   "cell_type": "code",
   "execution_count": 247,
   "metadata": {
    "colab": {
     "base_uri": "https://localhost:8080/"
    },
    "id": "DJr0kK4UmjIq",
    "outputId": "980fa081-2bb0-4318-c92f-3ec79f8bee07",
    "pycharm": {
     "metadata": false,
     "name": "#%%\n"
    }
   },
   "outputs": [
    {
     "name": "stdout",
     "output_type": "stream",
     "text": [
      "0 1 4 9 16 25 36 49 64 81\n"
     ]
    }
   ],
   "source": [
    "import math\n",
    "print(*filter(lambda x: math.sqrt(x) - int(math.sqrt(x)) == 0, range(100)))\n"
   ]
  },
  {
   "cell_type": "code",
   "execution_count": null,
   "metadata": {},
   "outputs": [],
   "source": [
    "math.sqrt(4)-int(math.sqrt(4))"
   ]
  },
  {
   "cell_type": "markdown",
   "metadata": {
    "id": "GP5EZIFhmjIs",
    "pycharm": {
     "metadata": false,
     "name": "#%% md\n"
    }
   },
   "source": [
    "#### map\n"
   ]
  },
  {
   "cell_type": "code",
   "execution_count": 248,
   "metadata": {},
   "outputs": [
    {
     "data": {
      "text/plain": [
       "['abc', 'a', 'jjjjj', 'poiuytr', 'ssss']"
      ]
     },
     "execution_count": 248,
     "metadata": {},
     "output_type": "execute_result"
    }
   ],
   "source": [
    "lst"
   ]
  },
  {
   "cell_type": "code",
   "execution_count": 252,
   "metadata": {},
   "outputs": [
    {
     "data": {
      "text/plain": [
       "(<reversed at 0x10811a1d0>, 'cba')"
      ]
     },
     "execution_count": 252,
     "metadata": {},
     "output_type": "execute_result"
    }
   ],
   "source": [
    "reversed('abc'),'abc'[::-1]"
   ]
  },
  {
   "cell_type": "code",
   "execution_count": 250,
   "metadata": {},
   "outputs": [
    {
     "data": {
      "text/plain": [
       "['cba', 'a', 'jjjjj', 'rtyuiop', 'ssss']"
      ]
     },
     "execution_count": 250,
     "metadata": {},
     "output_type": "execute_result"
    }
   ],
   "source": [
    "list(map(lambda q: q[::-1], lst))"
   ]
  },
  {
   "cell_type": "code",
   "execution_count": 253,
   "metadata": {
    "colab": {
     "base_uri": "https://localhost:8080/",
     "height": 35
    },
    "id": "3Xuc88tXmjIt",
    "outputId": "d81a9122-7bff-4e3d-c783-227883dba2c1",
    "pycharm": {
     "metadata": false,
     "name": "#%%\n"
    }
   },
   "outputs": [
    {
     "name": "stdout",
     "output_type": "stream",
     "text": [
      "[0, 1, 4, 9, 16, 25, 36, 49, 64, 81]\n"
     ]
    }
   ],
   "source": [
    "print(list(map(lambda x: x * x, range(10))))"
   ]
  },
  {
   "cell_type": "code",
   "execution_count": 264,
   "metadata": {},
   "outputs": [],
   "source": [
    "rule = {\n",
    "        'sep': '',\n",
    "        'end': '<-',\n",
    "\n",
    "       }"
   ]
  },
  {
   "cell_type": "code",
   "execution_count": 262,
   "metadata": {},
   "outputs": [
    {
     "name": "stdout",
     "output_type": "stream",
     "text": [
      "_H__E__L__L__O_<-"
     ]
    }
   ],
   "source": [
    "print(*map(lambda c: '_' + c.upper() + '_' , 'hello'), sep='', end='<-')"
   ]
  },
  {
   "cell_type": "code",
   "execution_count": 265,
   "metadata": {
    "colab": {
     "base_uri": "https://localhost:8080/"
    },
    "id": "G0k_L89PmjIv",
    "outputId": "602d7e98-3bce-4965-bfe1-a5cb65dddac7",
    "pycharm": {
     "metadata": false,
     "name": "#%%\n"
    }
   },
   "outputs": [
    {
     "name": "stdout",
     "output_type": "stream",
     "text": [
      "_H__E__L__L__O_<-"
     ]
    }
   ],
   "source": [
    "print(*map(lambda c: '_' + c.upper() + '_' , 'hello'), **rule)"
   ]
  },
  {
   "cell_type": "markdown",
   "metadata": {
    "id": "t-YU6e6smjI0",
    "pycharm": {
     "metadata": false,
     "name": "#%% md\n"
    }
   },
   "source": [
    "#### reduce\n"
   ]
  },
  {
   "cell_type": "code",
   "execution_count": 267,
   "metadata": {},
   "outputs": [],
   "source": [
    "?reduce()"
   ]
  },
  {
   "cell_type": "code",
   "execution_count": 270,
   "metadata": {
    "colab": {
     "base_uri": "https://localhost:8080/"
    },
    "id": "VCsi10NVmjI1",
    "outputId": "c85f8792-f481-47d6-b958-eb0d59b408ac",
    "pycharm": {
     "metadata": false,
     "name": "#%%\n"
    }
   },
   "outputs": [
    {
     "name": "stdout",
     "output_type": "stream",
     "text": [
      "10\n",
      "2\n"
     ]
    }
   ],
   "source": [
    "from functools import reduce\n",
    "\n",
    "# Arithmetic series\n",
    "print(reduce(lambda a, b: a + b, range(1,5)))\n",
    "\n",
    "# Factorial\n",
    "print(reduce(lambda a, b: b-a, range(1, 5))) # 4-(3-(2-1)) = 2"
   ]
  },
  {
   "cell_type": "markdown",
   "metadata": {
    "id": "kyYoYm6YmjI6",
    "pycharm": {
     "metadata": false,
     "name": "#%% md\n"
    }
   },
   "source": [
    "#### zip\n"
   ]
  },
  {
   "cell_type": "code",
   "execution_count": 273,
   "metadata": {
    "id": "sAwLLqlEmjI7",
    "pycharm": {
     "metadata": false,
     "name": "#%%\n"
    }
   },
   "outputs": [
    {
     "data": {
      "text/plain": [
       "[('NAME', 10, 0.6666666666666666),\n",
       " ('NAME_@', 3, 1.0),\n",
       " ('NAME_3', 8, 0.3333333333333333)]"
      ]
     },
     "execution_count": 273,
     "metadata": {},
     "output_type": "execute_result"
    }
   ],
   "source": [
    "x_list = ['NAME', 'NAME_@','NAME_3']\n",
    "y_list = [10,3,8]\n",
    "z_list = [2/3,3/3,1/3]\n",
    "\n",
    "names = ['Name','Rate','Att']\n",
    "\n",
    "[i for i in zip(x_list,y_list,z_list)]\n",
    "\n"
   ]
  },
  {
   "cell_type": "code",
   "execution_count": 274,
   "metadata": {},
   "outputs": [
    {
     "data": {
      "text/plain": [
       "[[10, 20, 30], [7, 5, 3], [1, 2, 3]]"
      ]
     },
     "execution_count": 274,
     "metadata": {},
     "output_type": "execute_result"
    }
   ],
   "source": [
    "M"
   ]
  },
  {
   "cell_type": "code",
   "execution_count": 282,
   "metadata": {},
   "outputs": [
    {
     "name": "stdout",
     "output_type": "stream",
     "text": [
      "[10, 20, 30]\n",
      "[7, 5, 3]\n",
      "[1, 2, 3]\n"
     ]
    }
   ],
   "source": [
    "print(*M,sep='\\n')"
   ]
  },
  {
   "cell_type": "code",
   "execution_count": 305,
   "metadata": {},
   "outputs": [
    {
     "data": {
      "text/plain": [
       "[(1, 'a'), (2, 'b'), (3, 'c'), (4, 'd'), (5, 'f'), (6, 'd')]"
      ]
     },
     "execution_count": 305,
     "metadata": {},
     "output_type": "execute_result"
    }
   ],
   "source": [
    "list(zip([1,2,3,4,5,6,7],'abcdfd'))"
   ]
  },
  {
   "cell_type": "code",
   "execution_count": 296,
   "metadata": {},
   "outputs": [
    {
     "name": "stdout",
     "output_type": "stream",
     "text": [
      "(1, 1)\n",
      "(2, 2)\n"
     ]
    }
   ],
   "source": [
    "print(*(zip([1,2],[1,2,4])),sep='\\n')"
   ]
  },
  {
   "cell_type": "code",
   "execution_count": 310,
   "metadata": {},
   "outputs": [
    {
     "data": {
      "text/plain": [
       "['x', 'x', 'x', 'x', 'x']"
      ]
     },
     "execution_count": 310,
     "metadata": {},
     "output_type": "execute_result"
    }
   ],
   "source": [
    "lst\n",
    "for i, x in enumerate(lst):\n",
    "    lst[i] = 'x' \n",
    "lst"
   ]
  },
  {
   "cell_type": "code",
   "execution_count": 311,
   "metadata": {
    "id": "IyJwmk9VmjI_",
    "pycharm": {
     "metadata": false,
     "name": "#%%\n"
    }
   },
   "outputs": [
    {
     "name": "stdout",
     "output_type": "stream",
     "text": [
      "0  *  0  =  0\n",
      "1  *  1  =  1\n",
      "2  *  2  =  4\n",
      "3  *  3  =  9\n",
      "4  *  4  =  16\n",
      "5  *  5  =  25\n",
      "6  *  6  =  36\n",
      "7  *  7  =  49\n",
      "8  *  8  =  64\n",
      "9  *  9  =  81\n"
     ]
    }
   ],
   "source": [
    "for i, x in enumerate(x * x for x in range(10)):\n",
    "    print(i, \" * \", i, \" = \", x)\n"
   ]
  },
  {
   "cell_type": "markdown",
   "metadata": {
    "id": "yhybOpbMNKFz"
   },
   "source": [
    "__partial__"
   ]
  },
  {
   "cell_type": "code",
   "execution_count": 325,
   "metadata": {
    "colab": {
     "base_uri": "https://localhost:8080/"
    },
    "id": "9EOUSBe_NKF1",
    "outputId": "ff8d1f4a-f336-46c3-8a79-8de8c39ae837"
   },
   "outputs": [
    {
     "name": "stdout",
     "output_type": "stream",
     "text": [
      "84\n"
     ]
    }
   ],
   "source": [
    "from functools import partial\n",
    "\n",
    "binStrToInt = partial(int, base=3)\n",
    "print(binStrToInt('10010'))\n"
   ]
  },
  {
   "cell_type": "code",
   "execution_count": 328,
   "metadata": {},
   "outputs": [
    {
     "data": {
      "text/plain": [
       "{'end': '<-', 'sep': ''}"
      ]
     },
     "execution_count": 328,
     "metadata": {},
     "output_type": "execute_result"
    }
   ],
   "source": [
    "rule"
   ]
  },
  {
   "cell_type": "code",
   "execution_count": 329,
   "metadata": {},
   "outputs": [
    {
     "data": {
      "text/plain": [
       "functools.partial(<built-in function print>, sep='', end='<-')"
      ]
     },
     "execution_count": 329,
     "metadata": {},
     "output_type": "execute_result"
    }
   ],
   "source": [
    "ourF = partial(print,**rule)\n",
    "ourF"
   ]
  },
  {
   "cell_type": "code",
   "execution_count": 324,
   "metadata": {},
   "outputs": [
    {
     "data": {
      "text/plain": [
       "True"
      ]
     },
     "execution_count": 324,
     "metadata": {},
     "output_type": "execute_result"
    }
   ],
   "source": [
    "ourF == None"
   ]
  },
  {
   "cell_type": "code",
   "execution_count": 331,
   "metadata": {},
   "outputs": [
    {
     "name": "stdout",
     "output_type": "stream",
     "text": [
      "101223<-"
     ]
    }
   ],
   "source": [
    "ourF('1012',2,3)"
   ]
  },
  {
   "cell_type": "markdown",
   "metadata": {
    "id": "GzEnAd9zTtB_"
   },
   "source": [
    "## Task 1\n",
    "\n",
    "Implement a generator function that takes several sequences as input and return their elements as a single sequence. First all the elements of the first argument, then the second one, and so on.\n"
   ]
  },
  {
   "cell_type": "code",
   "execution_count": 332,
   "metadata": {
    "colab": {
     "base_uri": "https://localhost:8080/"
    },
    "id": "OrULlgrxUq4H",
    "outputId": "f7af7280-1684-41f4-89d4-b5e56bd0442c"
   },
   "outputs": [
    {
     "name": "stdout",
     "output_type": "stream",
     "text": [
      "1 2 3 A B C "
     ]
    }
   ],
   "source": [
    "sequence1 = '123'\n",
    "sequence2 = 'ABC'\n",
    "# implement the function 'combine'\n",
    "sequence_combined = itertools.chain(sequence1, sequence2)\n",
    "for symbol in sequence_combined:\n",
    "    print(symbol, end=' ')\n",
    "\n",
    "# the output should be\n",
    "# 1 2 3 A B C\n"
   ]
  },
  {
   "cell_type": "code",
   "execution_count": 333,
   "metadata": {},
   "outputs": [
    {
     "ename": "TypeError",
     "evalue": "'float' object cannot be interpreted as an integer",
     "output_type": "error",
     "traceback": [
      "\u001b[0;31m---------------------------------------------------------------------------\u001b[0m",
      "\u001b[0;31mTypeError\u001b[0m                                 Traceback (most recent call last)",
      "\u001b[0;32m<ipython-input-333-a0aba114a25e>\u001b[0m in \u001b[0;36m<module>\u001b[0;34m()\u001b[0m\n\u001b[0;32m----> 1\u001b[0;31m \u001b[0mrange\u001b[0m\u001b[0;34m(\u001b[0m\u001b[0;36m1.5\u001b[0m\u001b[0;34m)\u001b[0m\u001b[0;34m\u001b[0m\u001b[0m\n\u001b[0m",
      "\u001b[0;31mTypeError\u001b[0m: 'float' object cannot be interpreted as an integer"
     ]
    }
   ],
   "source": [
    "range(1.5)"
   ]
  },
  {
   "cell_type": "code",
   "execution_count": null,
   "metadata": {},
   "outputs": [],
   "source": [
    "def combine(sequence1, sequence2):\n",
    "    \n",
    "    yield "
   ]
  },
  {
   "cell_type": "markdown",
   "metadata": {
    "id": "lhFJdAVVYbT6"
   },
   "source": [
    "## Task 2\n",
    "\n",
    "For a number N, output the list of all prime numbers below N. Use the function `math.sqrt` as opposed to `x**0.5` to compute the square root.\n",
    "\n",
    "Use the function `filter` to get the output list."
   ]
  },
  {
   "cell_type": "code",
   "execution_count": null,
   "metadata": {
    "id": "uPG6X7lNYupy"
   },
   "outputs": [],
   "source": []
  },
  {
   "cell_type": "markdown",
   "metadata": {
    "id": "NUrf9MGqSY0h"
   },
   "source": [
    "### itertools\n",
    "\n",
    "Library to make various iterators to automate common operations.\n",
    "\n",
    "https://docs.python.org/3.8/library/itertools.html\n",
    "\n"
   ]
  },
  {
   "cell_type": "markdown",
   "metadata": {
    "id": "vZjl7v4joUC_"
   },
   "source": [
    "**islice()**\n",
    "\n",
    "Makes slices of any iterable objects."
   ]
  },
  {
   "cell_type": "code",
   "execution_count": 334,
   "metadata": {
    "id": "LoJlZ3NQo0pa"
   },
   "outputs": [],
   "source": [
    "text_data = '''First line has data\n",
    "### Second line doesn't have data\n",
    "Third line has data\n",
    "### Every even line does not contain data\n",
    "Every odd line contains data\n",
    "### No data\n",
    "Data here\n",
    "### No data\n",
    "Data here\n",
    "'''\n",
    "\n",
    "with open('slicefile.txt', 'w') as output_file:\n",
    "    output_file.write(text_data)"
   ]
  },
  {
   "cell_type": "code",
   "execution_count": 335,
   "metadata": {
    "colab": {
     "base_uri": "https://localhost:8080/"
    },
    "id": "M_cvFAOCp4NF",
    "outputId": "fbd4982e-1e33-45f3-8c28-d3891cb29906"
   },
   "outputs": [
    {
     "name": "stdout",
     "output_type": "stream",
     "text": [
      "First line has data\n",
      "### Second line doesn't have data\n",
      "Third line has data\n",
      "### Every even line does not contain data\n",
      "Every odd line contains data\n",
      "### No data\n",
      "Data here\n",
      "### No data\n",
      "Data here\n"
     ]
    }
   ],
   "source": [
    "with open('slicefile.txt') as input_file:\n",
    "    for line in input_file:\n",
    "        print(line.strip())"
   ]
  },
  {
   "cell_type": "code",
   "execution_count": 340,
   "metadata": {
    "colab": {
     "base_uri": "https://localhost:8080/"
    },
    "id": "9KkXJkKRoRRr",
    "outputId": "6b61cd66-67d9-4bde-ca79-a63ef7d22d84"
   },
   "outputs": [
    {
     "name": "stdout",
     "output_type": "stream",
     "text": [
      "<itertools.islice object at 0x108136d18>\n",
      "First line has data\n",
      "Third line has data\n",
      "Every odd line contains data\n",
      "Data here\n",
      "Data here\n"
     ]
    }
   ],
   "source": [
    "import itertools\n",
    "\n",
    "with open('slicefile.txt') as input_file:\n",
    "    # itertools.islice(sequence, start, stop, step)\n",
    "    input_file_even = itertools.islice(input_file, 0, None, 2)\n",
    "\n",
    "    for line in input_file_even:\n",
    "        print(line.strip())"
   ]
  },
  {
   "cell_type": "code",
   "execution_count": 346,
   "metadata": {
    "colab": {
     "base_uri": "https://localhost:8080/"
    },
    "id": "f7QqyO1jNKGH",
    "outputId": "d8994674-656e-4b06-86f1-df535cc4f17a"
   },
   "outputs": [
    {
     "name": "stdout",
     "output_type": "stream",
     "text": [
      "('1', '2')\n",
      "('1', '3')\n",
      "('1', '4')\n",
      "('1', '5')\n",
      "('1', '6')\n",
      "('2', '1')\n",
      "('2', '3')\n",
      "('2', '4')\n",
      "('2', '5')\n",
      "('2', '6')\n",
      "('3', '1')\n",
      "('3', '2')\n",
      "('3', '4')\n",
      "('3', '5')\n",
      "('3', '6')\n",
      "('4', '1')\n",
      "('4', '2')\n",
      "('4', '3')\n",
      "('4', '5')\n",
      "('4', '6')\n",
      "('5', '1')\n",
      "('5', '2')\n",
      "('5', '3')\n",
      "('5', '4')\n",
      "('5', '6')\n",
      "('6', '1')\n",
      "('6', '2')\n",
      "('6', '3')\n",
      "('6', '4')\n",
      "('6', '5')\n"
     ]
    }
   ],
   "source": [
    "import itertools\n",
    "\n",
    "print(*(itertools.permutations('123456', 2)), sep='\\n')"
   ]
  },
  {
   "cell_type": "markdown",
   "metadata": {
    "id": "9bXr7292qgPi"
   },
   "source": [
    "## Task 3\n",
    "\n",
    "You are given a list of data pairs. The first element of a pair is a year, the second one is a data point.\n",
    "\n",
    "Split the data into groups by year using the `itertools.groupby()` function. Then for every year output data points containing numbers over 1000. Use the function `filter` to do it.\n",
    "\n",
    "Do not use any lists / tuples / sets / dictionaries as variables. Solve everything using `groupby`, `filter`, `map` and other tools for iterable objects.\n",
    "\n",
    "You can learn how to use `groupby` here: https://docs.python.org/3.8/library/itertools.html#itertools.groupby\n",
    "\n",
    "The key part is this:\n",
    "\n",
    "```python\n",
    "for k, g in groupby(data, keyfunc):\n",
    "```\n",
    "\n",
    "You output should be\n",
    "\n",
    "```\n",
    "Data for the year 1988\n",
    "4636 1808 1108\n",
    "Data for the year 1989\n",
    "3517\n",
    "Data for the year 1990\n",
    "2276 2407 1798\n",
    "```"
   ]
  },
  {
   "cell_type": "code",
   "execution_count": 358,
   "metadata": {
    "id": "MKu6hsG-zTdg"
   },
   "outputs": [
    {
     "name": "stdout",
     "output_type": "stream",
     "text": [
      "1988 4636 1808 1108\n",
      "1989 3517\n",
      "1990 2276 2407 1798\n"
     ]
    }
   ],
   "source": [
    "from  itertools import groupby\n",
    "\n",
    "data = [\n",
    "    (1988, 330),\n",
    "    (1988, 4636),\n",
    "    (1988, 1808),\n",
    "    (1988, 1108),\n",
    "    (1988, 766),\n",
    "    (1988, 383),\n",
    "    (1988, 411),\n",
    "    (1988, 363),\n",
    "    (1989, 76),\n",
    "    (1989, 202),\n",
    "    (1989, 3517),\n",
    "    (1989, 451),\n",
    "    (1989, 132),\n",
    "    (1989, 141),\n",
    "    (1989, 193),\n",
    "    (1990, 111),\n",
    "    (1990, 2276),\n",
    "    (1990, 2407),\n",
    "    (1990, 405),\n",
    "    (1990, 151),\n",
    "    (1990, 459),\n",
    "    (1990, 1798)\n",
    "]\n",
    "\n",
    "for k, g in groupby(filter(lambda x: x[1]> 1000,data), key=lambda x: x[0]):\n",
    "    print(k,*map(lambda x: x[1],g))"
   ]
  },
  {
   "cell_type": "markdown",
   "metadata": {
    "id": "X0CyU6ic8yT6"
   },
   "source": [
    "\n",
    "\n",
    "---\n",
    "\n",
    "\n",
    "\n",
    "## Appendix\n",
    "\n",
    "The following section contains information from a future topic. It is included only as trivia. \n"
   ]
  },
  {
   "cell_type": "markdown",
   "metadata": {
    "id": "Zz36LI1fmjIC",
    "pycharm": {
     "metadata": false,
     "name": "#%% md\n"
    }
   },
   "source": [
    "\n",
    "### How iterators are implemented\n",
    "\n",
    "Iterator that returns letters of a string in a reversed order:"
   ]
  },
  {
   "cell_type": "code",
   "execution_count": null,
   "metadata": {
    "id": "gbbgHq0amjID",
    "pycharm": {
     "metadata": false,
     "name": "#%%\n"
    }
   },
   "outputs": [],
   "source": [
    "class Reverse:\n",
    "    \"\"\"Iterator for looping over a sequence backwards.\"\"\"\n",
    "\n",
    "    def __init__(self, data):\n",
    "        self.data = data\n",
    "        self.index = len(data)\n",
    "\n",
    "    def __iter__(self):\n",
    "        return self\n",
    "\n",
    "    def __next__(self):\n",
    "        if self.index == 0:\n",
    "            raise StopIteration\n",
    "        self.index = self.index - 1\n",
    "        return self.data[self.index]\n",
    "\n",
    "\n",
    "rev = Reverse('spam')\n",
    "print(iter(rev))\n",
    "\n",
    "for char in rev:\n",
    "    print(char)\n"
   ]
  },
  {
   "cell_type": "markdown",
   "metadata": {
    "id": "PseHLWJA737w"
   },
   "source": [
    "Iterator that returns factorials"
   ]
  },
  {
   "cell_type": "code",
   "execution_count": null,
   "metadata": {
    "id": "Yat_z3CM73Jo"
   },
   "outputs": [],
   "source": [
    "class Fact:\n",
    "    \"\"\"Iterator for calculating factorials.\"\"\"\n",
    "\n",
    "    def __init__(self, limit):\n",
    "        self.n = 1\n",
    "        self.limit = limit\n",
    "        self.data = 1\n",
    "\n",
    "    def __iter__(self):\n",
    "        return self\n",
    "\n",
    "    def __next__(self):\n",
    "        if self.n >= self.limit:\n",
    "            raise StopIteration\n",
    "        self.data *= self.n\n",
    "        self.n += 1\n",
    "        return self.data\n",
    "\n",
    "\n",
    "for x in Fact(10):\n",
    "    print(x)\n"
   ]
  }
 ],
 "metadata": {
  "colab": {
   "name": "Workshop 15 Iterators and Generators.ipynb",
   "provenance": [],
   "toc_visible": true
  },
  "kernelspec": {
   "display_name": "Python 3 (ipykernel)",
   "language": "python",
   "name": "python3"
  },
  "language_info": {
   "codemirror_mode": {
    "name": "ipython",
    "version": 3
   },
   "file_extension": ".py",
   "mimetype": "text/x-python",
   "name": "python",
   "nbconvert_exporter": "python",
   "pygments_lexer": "ipython3",
   "version": "3.9.7"
  }
 },
 "nbformat": 4,
 "nbformat_minor": 1
}
