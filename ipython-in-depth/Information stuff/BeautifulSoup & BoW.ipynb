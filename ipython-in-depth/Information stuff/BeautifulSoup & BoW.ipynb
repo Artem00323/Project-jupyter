{
 "cells": [
  {
   "cell_type": "markdown",
   "metadata": {},
   "source": [
    "# Requests, html / xml, json ..."
   ]
  },
  {
   "cell_type": "code",
   "execution_count": 1,
   "metadata": {},
   "outputs": [
    {
     "data": {
      "application/javascript": [
       "\n",
       "            setTimeout(function() {\n",
       "                var nbb_cell_id = 1;\n",
       "                var nbb_unformatted_code = \"%load_ext nb_black\";\n",
       "                var nbb_formatted_code = \"%load_ext nb_black\";\n",
       "                var nbb_cells = Jupyter.notebook.get_cells();\n",
       "                for (var i = 0; i < nbb_cells.length; ++i) {\n",
       "                    if (nbb_cells[i].input_prompt_number == nbb_cell_id) {\n",
       "                        if (nbb_cells[i].get_text() == nbb_unformatted_code) {\n",
       "                             nbb_cells[i].set_text(nbb_formatted_code);\n",
       "                        }\n",
       "                        break;\n",
       "                    }\n",
       "                }\n",
       "            }, 500);\n",
       "            "
      ],
      "text/plain": [
       "<IPython.core.display.Javascript object>"
      ]
     },
     "metadata": {},
     "output_type": "display_data"
    }
   ],
   "source": [
    "%load_ext nb_black"
   ]
  },
  {
   "cell_type": "code",
   "execution_count": 2,
   "metadata": {},
   "outputs": [
    {
     "data": {
      "application/javascript": [
       "\n",
       "            setTimeout(function() {\n",
       "                var nbb_cell_id = 2;\n",
       "                var nbb_unformatted_code = \"import requests\";\n",
       "                var nbb_formatted_code = \"import requests\";\n",
       "                var nbb_cells = Jupyter.notebook.get_cells();\n",
       "                for (var i = 0; i < nbb_cells.length; ++i) {\n",
       "                    if (nbb_cells[i].input_prompt_number == nbb_cell_id) {\n",
       "                        if (nbb_cells[i].get_text() == nbb_unformatted_code) {\n",
       "                             nbb_cells[i].set_text(nbb_formatted_code);\n",
       "                        }\n",
       "                        break;\n",
       "                    }\n",
       "                }\n",
       "            }, 500);\n",
       "            "
      ],
      "text/plain": [
       "<IPython.core.display.Javascript object>"
      ]
     },
     "metadata": {},
     "output_type": "display_data"
    }
   ],
   "source": [
    "import requests"
   ]
  },
  {
   "cell_type": "code",
   "execution_count": 92,
   "metadata": {},
   "outputs": [
    {
     "data": {
      "text/plain": [
       "<Response [200]>"
      ]
     },
     "execution_count": 92,
     "metadata": {},
     "output_type": "execute_result"
    },
    {
     "data": {
      "application/javascript": [
       "\n",
       "            setTimeout(function() {\n",
       "                var nbb_cell_id = 92;\n",
       "                var nbb_unformatted_code = \"requests.get(\\\"http://habrahabr.ru\\\")\";\n",
       "                var nbb_formatted_code = \"requests.get(\\\"http://habrahabr.ru\\\")\";\n",
       "                var nbb_cells = Jupyter.notebook.get_cells();\n",
       "                for (var i = 0; i < nbb_cells.length; ++i) {\n",
       "                    if (nbb_cells[i].input_prompt_number == nbb_cell_id) {\n",
       "                        if (nbb_cells[i].get_text() == nbb_unformatted_code) {\n",
       "                             nbb_cells[i].set_text(nbb_formatted_code);\n",
       "                        }\n",
       "                        break;\n",
       "                    }\n",
       "                }\n",
       "            }, 500);\n",
       "            "
      ],
      "text/plain": [
       "<IPython.core.display.Javascript object>"
      ]
     },
     "metadata": {},
     "output_type": "display_data"
    }
   ],
   "source": [
    "requests.get(\"http://habrahabr.ru\")"
   ]
  },
  {
   "cell_type": "code",
   "execution_count": 93,
   "metadata": {},
   "outputs": [
    {
     "data": {
      "text/plain": [
       "b'<!DOCTYPE html>\\n<html lang=\"en\" data-vue-meta=\"%7B%22lang%22:%7B%22ssr%22:%22en%22%7D%7D\">\\n<head >\\n  <meta charset=\"UTF-8\">\\n  <meta name=\"viewport\" content=\"width=device-width,initial-scale=1.0,viewport-fit=cover\">\\n  <title>All posts in a row / Habr</title>\\n  <style>\\n    /* cyrillic-ext */\\n    @font-face {\\n      font-family: \\'Fira Sans\\';\\n      font-style: normal;\\n      font-weight: 500;\\n      font-display: swap;\\n      src: url(https://fonts.gstatic.com/s/firasans/v11/va9B4kDNxMZdWfMOD5VnZKveSxf6TF0.woff2) format(\\'woff2\\');\\n      unicode-range: U+0460-052F, U+1C80-1C88, U+20B4, U+2DE0-2DFF, U+A640-A69F, U+FE2E-FE2F;\\n    }\\n\\n    /* cyrillic */\\n    @font-face {\\n      font-family: \\'Fira Sans\\';\\n      font-style: normal;\\n      font-weight: 500;\\n      font-display: swap;\\n      src: url(https://fonts.gstatic.com/s/firasans/v11/va9B4kDNxMZdWfMOD5VnZKveQhf6TF0.woff2) format(\\'woff2\\');\\n      unicode-range: U+0400-045F, U+0490-0491, U+04B0-04B1, U+2116;\\n    }\\n\\n    /* latin-ext */\\n    @font-face {\\n      font-family: \\'Fira Sans\\';\\n      font-style: normal;\\n      font-weight: 500;\\n      font-display: swap;\\n      src: url(https://fonts.gstatic.com/s/firasans/v11/va9B4kDNxMZdWfMOD5VnZKveSBf6TF0.woff2) format(\\'woff2\\');\\n      unicode-range: U+0100-024F, U+0259, U+1E00-1EFF, U+2020, U+20A0-20AB, U+20AD-20CF, U+2113, U+2C60-2C7F, U+A720-A7FF;\\n    }\\n\\n    /* latin */\\n    @font-face {\\n      font-family: \\'Fira Sans\\';\\n      font-style: normal;\\n      font-weight: 500;\\n      font-display: swap;\\n      src: url(https://fonts.gstatic.com/s/firasans/v11/va9B4kDNxMZdWfMOD5VnZKveRhf6.woff2) format(\\'woff2\\');\\n      unicode-range: U+0000-00FF, U+0131, U+0152-0153, U+02BB-02BC, U+02C6, U+02DA, U+02DC, U+2000-206F, U+2074, U+20AC, U+2122, U+2191, U+2193, U+2212, U+2215, U+FEFF, U+FFFD;\\n    }\\n  </style>\\n  <link rel=\"preload\" href=\"https://assets.habr.com/habr-web/css/chunk-vendors.db52f5c6.css\" as=\"style\"><link rel=\"preload\" href=\"https://assets.habr.com/habr-web/js/chunk-vendors.e52202e0.js\" as=\"script\"><link rel=\"preload\" href=\"https://assets.habr.com/habr-web/css/app.c420616c.css\" as=\"style\"><link rel=\"preload\" href=\"https://assets.habr.com/habr-web/js/app.211241c5.js\" as=\"script\"><link rel=\"preload\" href=\"https://assets.habr.com/habr-web/css/page-flows.fba8e213.css\" as=\"style\"><link rel=\"preload\" href=\"https://assets.habr.com/habr-web/js/page-flows.d556d5fc.js\" as=\"script\">\\n  <link rel=\"stylesheet\" href=\"https://assets.habr.com/habr-web/css/chunk-vendors.db52f5c6.css\"><link rel=\"stylesheet\" href=\"https://assets.habr.com/habr-web/css/app.c420616c.css\"><link rel=\"stylesheet\" href=\"https://assets.habr.com/habr-web/css/page-flows.fba8e213.css\">\\n  <script>window.i18nFetch = new Promise((res, rej) => {\\n          const xhr = new XMLHttpRequest();\\n          xhr.open(\\'GET\\', \\'/js/i18n/en-compiled.d95a7372d6a9a7009356a265fd71f187.json\\');\\n          xhr.responseType = \\'json\\';\\n          xhr.onload = function(e) {\\n            if (this.status === 200) {\\n              res({en: xhr.response});\\n            } else {\\n              rej(e);\\n            }\\n          };\\n          xhr.send();\\n        });</script>\\n  \\n  <script data-vue-meta=\"ssr\" src=\"/js/ads.js\" onload=\"window[\\'zhY4i4nJ9K\\'] = true\" data-vmid=\"checkad\"></script>\\n  <script src=\"//www.googletagservices.com/tag/js/gpt.js\" async></script>\\n  <style>.grecaptcha-badge{visibility: hidden;}</style>\\n  <meta name=\"habr-version\" content=\"2.47.1\">\\n  \\n  <meta data-vue-meta=\"ssr\" itemprop=\"image\" content=\"/img/habr_en.png\" data-vmid=\"image:itemprop\"><meta data-vue-meta=\"ssr\" property=\"og:image\" content=\"/img/habr_en.png\" data-vmid=\"og:image\"><meta data-vue-meta=\"ssr\" property=\"aiturec:image\" content=\"/img/habr_en.png\" data-vmid=\"aiturec:image\"><meta data-vue-meta=\"ssr\" name=\"twitter:image\" content=\"/img/habr_en.png\" data-vmid=\"twitter:image\"><meta data-vue-meta=\"ssr\" property=\"vk:image\" content=\"/img/habr_en.png\" data-vmid=\"vk:image\"><meta data-vue-meta=\"ssr\" property=\"fb:app_id\" content=\"444736788986613\"><meta data-vue-meta=\"ssr\" property=\"fb:pages\" content=\"472597926099084\"><meta data-vue-meta=\"ssr\" name=\"twitter:card\" content=\"summary_large_image\"><meta data-vue-meta=\"ssr\" name=\"twitter:site\" content=\"@habr_eng\"><meta data-vue-meta=\"ssr\" property=\"og:locale\" content=\"en_US\" data-vmid=\"og:locale\"><meta data-vue-meta=\"ssr\" property=\"og:type\" content=\"website\" data-vmid=\"og:type\"><meta data-vue-meta=\"ssr\" name=\"description\" content=\"Habr is the largest resource for IT professionals in Europe. People visit Habr to discuss industry news and share own experience.\" data-vmid=\"description\">\\n  <link data-vue-meta=\"ssr\" image_src=\"image\" href=\"/img/habr_en.png\" data-vmid=\"image:href\"><link data-vue-meta=\"ssr\" href=\"https://habr.com/en/all/\" rel=\"canonical\" data-vmid=\"canonical\"><link data-vue-meta=\"ssr\" href=\"https://habr.com/en/all/\" hreflang=\"en\" rel=\"alternate\" data-vmid=\"hreflang\"><link data-vue-meta=\"ssr\" href=\"https://habr.com/ru/all/\" hreflang=\"ru\" rel=\"alternate\" data-vmid=\"hreflang\"><link data-vue-meta=\"ssr\" href=\"https://habr.com/en/rss/all/all/?fl=en\" type=\"application/rss+xml\" title=\"All posts in a row\" rel=\"alternate\" name=\"rss\">\\n  <meta name=\"apple-mobile-web-app-status-bar-style\" content=\"#303b44\">\\n  <meta name=\"msapplication-TileColor\" content=\"#629FBC\">\\n  <meta name=\"apple-mobile-web-app-capable\" content=\"yes\">\\n  <meta name=\"mobile-web-app-capable\" content=\"yes\">\\n  <link\\n    rel=\"shortcut icon\"\\n    type=\"image/png\"\\n    sizes=\"16x16\"\\n    href=\"https://assets.habr.com/habr-web/img/favicons/favicon-16.png\"\\n  >\\n  <link\\n    rel=\"shortcut icon\"\\n    type=\"image/png\"\\n    sizes=\"32x32\"\\n    href=\"https://assets.habr.com/habr-web/img/favicons/favicon-32.png\"\\n  >\\n  <link\\n    rel=\"apple-touch-icon\"\\n    type=\"image/png\"\\n    sizes=\"76x76\"\\n    href=\"https://assets.habr.com/habr-web/img/favicons/apple-touch-icon-76.png\"\\n  >\\n  <link\\n    rel=\"apple-touch-icon\"\\n    type=\"image/png\"\\n    sizes=\"120x120\"\\n    href=\"https://assets.habr.com/habr-web/img/favicons/apple-touch-icon-120.png\"\\n  >\\n  <link\\n    rel=\"apple-touch-icon\"\\n    type=\"image/png\"\\n    sizes=\"152x152\"\\n    href=\"https://assets.habr.com/habr-web/img/favicons/apple-touch-icon-152.png\"\\n  >\\n  <link\\n    rel=\"apple-touch-icon\"\\n    type=\"image/png\"\\n    sizes=\"180x180\"\\n    href=\"https://assets.habr.com/habr-web/img/favicons/apple-touch-icon-180.png\"\\n  >\\n  <link\\n    rel=\"apple-touch-icon\"\\n    type=\"image/png\"\\n    sizes=\"256x256\"\\n    href=\"https://assets.habr.com/habr-web/img/favicons/apple-touch-icon-256.png\"\\n  >\\n  <link\\n    rel=\"apple-touch-startup-image\"\\n    media=\"screen and (device-width: 320px) and (device-height: 568px) and (-webkit-device-pixel-ratio: 2) and (orientation: landscape)\"\\n    href=\"https://assets.habr.com/habr-web/img/splashes/splash_1136x640.png\"\\n  >\\n  <link\\n    rel=\"apple-touch-startup-image\"\\n    media=\"screen and (device-width: 375px) and (device-height: 812px) and (-webkit-device-pixel-ratio: 3) and (orientation: landscape)\"\\n    href=\"https://assets.habr.com/habr-web/img/splashes/splash_2436x1125.png\"\\n  >\\n  <link\\n    rel=\"apple-touch-startup-image\"\\n    media=\"screen and (device-width: 414px) and (device-height: 896px) and (-webkit-device-pixel-ratio: 2) and (orientation: landscape)\"\\n    href=\"https://assets.habr.com/habr-web/img/splashes/splash_1792x828.png\"\\n  >\\n  <link\\n    rel=\"apple-touch-startup-image\"\\n    media=\"screen and (device-width: 414px) and (device-height: 896px) and (-webkit-device-pixel-ratio: 2) and (orientation: portrait)\"\\n    href=\"https://assets.habr.com/habr-web/img/splashes/splash_828x1792.png\"\\n  >\\n  <link\\n    rel=\"apple-touch-startup-image\"\\n    media=\"screen and (device-width: 375px) and (device-height: 667px) and (-webkit-device-pixel-ratio: 2) and (orientation: landscape)\"\\n    href=\"https://assets.habr.com/habr-web/img/splashes/splash_1334x750.png\"\\n  >\\n  <link\\n    rel=\"apple-touch-startup-image\"\\n    media=\"screen and (device-width: 414px) and (device-height: 896px) and (-webkit-device-pixel-ratio: 3) and (orientation: portrait)\"\\n    href=\"https://assets.habr.com/habr-web/img/splashes/splash_1242x2668.png\"\\n  >\\n  <link\\n    rel=\"apple-touch-startup-image\"\\n    media=\"screen and (device-width: 414px) and (device-height: 736px) and (-webkit-device-pixel-ratio: 3) and (orientation: landscape)\"\\n    href=\"https://assets.habr.com/habr-web/img/splashes/splash_2208x1242.png\"\\n  >\\n  <link\\n    rel=\"apple-touch-startup-image\"\\n    media=\"screen and (device-width: 375px) and (device-height: 812px) and (-webkit-device-pixel-ratio: 3) and (orientation: portrait)\"\\n    href=\"https://assets.habr.com/habr-web/img/splashes/splash_1125x2436.png\"\\n  >\\n  <link\\n    rel=\"apple-touch-startup-image\"\\n    media=\"screen and (device-width: 414px) and (device-height: 736px) and (-webkit-device-pixel-ratio: 3) and (orientation: portrait)\"\\n    href=\"https://assets.habr.com/habr-web/img/splashes/splash_1242x2208.png\"\\n  >\\n  <link\\n    rel=\"apple-touch-startup-image\"\\n    media=\"screen and (device-width: 1024px) and (device-height: 1366px) and (-webkit-device-pixel-ratio: 2) and (orientation: landscape)\"\\n    href=\"https://assets.habr.com/habr-web/img/splashes/splash_2732x2048.png\"\\n  >\\n  <link\\n    rel=\"apple-touch-startup-image\"\\n    media=\"screen and (device-width: 414px) and (device-height: 896px) and (-webkit-device-pixel-ratio: 3) and (orientation: landscape)\"\\n    href=\"https://assets.habr.com/habr-web/img/splashes/splash_2688x1242.png\"\\n  >\\n  <link\\n    rel=\"apple-touch-startup-image\"\\n    media=\"screen and (device-width: 834px) and (device-height: 1112px) and (-webkit-device-pixel-ratio: 2) and (orientation: landscape)\"\\n    href=\"https://assets.habr.com/habr-web/img/splashes/splash_2224x1668.png\"\\n  >\\n  <link\\n    rel=\"apple-touch-startup-image\"\\n    media=\"screen and (device-width: 375px) and (device-height: 667px) and (-webkit-device-pixel-ratio: 2) and (orientation: portrait)\"\\n    href=\"https://assets.habr.com/habr-web/img/splashes/splash_750x1334.png\"\\n  >\\n  <link\\n    rel=\"apple-touch-startup-image\"\\n    media=\"screen and (device-width: 1024px) and (device-height: 1366px) and (-webkit-device-pixel-ratio: 2) and (orientation: portrait)\"\\n    href=\"https://assets.habr.com/habr-web/img/splashes/splash_2048x2732.png\"\\n  >\\n  <link\\n    rel=\"apple-touch-startup-image\"\\n    media=\"screen and (device-width: 834px) and (device-height: 1194px) and (-webkit-device-pixel-ratio: 2) and (orientation: landscape)\"\\n    href=\"https://assets.habr.com/habr-web/img/splashes/splash_2388x1668.png\"\\n  >\\n  <link\\n    rel=\"apple-touch-startup-image\"\\n    media=\"screen and (device-width: 834px) and (device-height: 1112px) and (-webkit-device-pixel-ratio: 2) and (orientation: portrait)\"\\n    href=\"https://assets.habr.com/habr-web/img/splashes/splash_1668x2224.png\"\\n  >\\n  <link\\n    rel=\"apple-touch-startup-image\"\\n    media=\"screen and (device-width: 320px) and (device-height: 568px) and (-webkit-device-pixel-ratio: 2) and (orientation: portrait)\"\\n    href=\"https://assets.habr.com/habr-web/img/splashes/splash_640x1136.png\"\\n  >\\n  <link\\n    rel=\"apple-touch-startup-image\"\\n    media=\"screen and (device-width: 834px) and (device-height: 1194px) and (-webkit-device-pixel-ratio: 2) and (orientation: portrait)\"\\n    href=\"https://assets.habr.com/habr-web/img/splashes/splash_1668x2388.png\"\\n  >\\n  <link\\n    rel=\"apple-touch-startup-image\"\\n    media=\"screen and (device-width: 768px) and (device-height: 1024px) and (-webkit-device-pixel-ratio: 2) and (orientation: landscape)\"\\n    href=\"https://assets.habr.com/habr-web/img/splashes/splash_2048x1536.png\"\\n  >\\n  <link\\n    rel=\"apple-touch-startup-image\"\\n    media=\"screen and (device-width: 768px) and (device-height: 1024px) and (-webkit-device-pixel-ratio: 2) and (orientation: portrait)\"\\n    href=\"https://assets.habr.com/habr-web/img/splashes/splash_1536x2048.png\"\\n  >\\n  <link\\n    rel=\"mask-icon\"\\n    color=\"#77a2b6\"\\n    href=\"https://assets.habr.com/habr-web/img/favicons/apple-touch-icon-120.svg\"\\n  >\\n  <link\\n    crossorigin=\"use-credentials\"\\n    href=\"/manifest.webmanifest\"\\n    rel=\"manifest\"\\n  >\\n</head>\\n<body>\\n\\n\\n<div id=\"app\" data-server-rendered=\"true\" data-async-called=\"true\"><div class=\"tm-layout__wrapper\"><!----> <div></div> <!----> <header class=\"tm-header\"><div class=\"tm-page-width\"><div class=\"tm-header__container\"><!----> <span class=\"tm-header__logo-wrap\"><a href=\"/en/\" class=\"tm-header__logo tm-header__logo_en\"><svg height=\"16\" width=\"16\" class=\"tm-svg-img tm-header__icon\"><title>Habr</title> <use xlink:href=\"/img/habr-logo-en.svg#logo\"></use></svg></a> <span class=\"tm-header__beta-sign\" style=\"display:none;\">\\xce\\xb2</span></span> <!----> <a href=\"/en/sandbox/start/\" class=\"tm-header__become-author-btn\">\\n              How to become an author\\n            </a> <!----> <!----> <!----></div></div></header> <div class=\"tm-layout\"><div class=\"tm-page-progress-bar\"></div> <div data-menu-sticky=\"true\" class=\"tm-base-layout__header tm-base-layout__header_is-sticky\"><div class=\"tm-page-width\"><div class=\"tm-base-layout__header-wrapper\"><div class=\"tm-main-menu\"><div class=\"tm-main-menu__section\"><nav class=\"tm-main-menu__section-content\"><!----> <a href=\"/en/all/\" aria-current=\"page\" class=\"tm-main-menu__item router-link-exact-active tm-main-menu__item_active\">\\n        All streams\\n      </a> <a href=\"/en/flows/develop/\" class=\"tm-main-menu__item\">\\n          Development\\n        </a><a href=\"/en/flows/admin/\" class=\"tm-main-menu__item\">\\n          Admin\\n        </a><a href=\"/en/flows/design/\" class=\"tm-main-menu__item\">\\n          Design\\n        </a><a href=\"/en/flows/management/\" class=\"tm-main-menu__item\">\\n          Management\\n        </a><a href=\"/en/flows/marketing/\" class=\"tm-main-menu__item\">\\n          Marketing\\n        </a><a href=\"/en/flows/popsci/\" class=\"tm-main-menu__item\">\\n          PopSci\\n        </a></nav></div></div> <div class=\"tm-header-user-menu tm-base-layout__user-menu\"><a href=\"/en/search/\" class=\"tm-header-user-menu__item tm-header-user-menu__search\"><svg height=\"24\" width=\"24\" class=\"tm-svg-img tm-header-user-menu__icon tm-header-user-menu__icon_search tm-header-user-menu__icon_dark\"><title>Search</title> <use xlink:href=\"/img/megazord-v24.cee85629.svg#search\"></use></svg></a> <!----> <!----> <!----> <div class=\"tm-header-user-menu__item tm-header-user-menu__user_desktop\"><div class=\"tm-dropdown\"><div class=\"tm-dropdown__head\"><svg height=\"24\" width=\"24\" data-test-id=\"menu-toggle-guest\" class=\"tm-svg-img tm-header-user-menu__icon\"><title>Profile</title> <use xlink:href=\"/img/megazord-v24.cee85629.svg#header-user\"></use></svg> <!----></div> <!----></div> <!----></div> <!----></div></div></div></div> <!----> <div class=\"tm-page-width\"></div> <main class=\"tm-layout__container\"><div class=\"tm-page\"><div class=\"tm-page-width\"><!----> <div class=\"tm-page__wrapper\"><div class=\"tm-page__main tm-page__main_has-sidebar\"><div class=\"pull-down\"><div class=\"pull-down__header\" style=\"height:0px;\"><div class=\"pull-down__content\" style=\"bottom:10px;\"><svg height=\"24\" width=\"24\" class=\"tm-svg-img pull-down__arrow\"><title>Pull to refresh</title> <use xlink:href=\"/img/megazord-v24.cee85629.svg#pull-arrow\"></use></svg></div></div> <div class=\"tm-page__top\"><div class=\"tm-section-name\"><h1 class=\"tm-section-name__text\">\\n    All streams\\n  </h1> </div> <div class=\"tm-tabs tm-tabs_page-header\"><div class=\"tm-tabs__scroll-area\"><span class=\"tm-tabs__tab-item\"><a href=\"/en/all/\" aria-current=\"page\" class=\"tm-tabs__tab-link router-link-exact-active  tm-tabs__tab-link_active\">\\n        Articles\\n        <!----></a></span><span class=\"tm-tabs__tab-item\"><a href=\"/en/news/\" class=\"tm-tabs__tab-link\">\\n        News\\n        <!----></a></span><span class=\"tm-tabs__tab-item\"><a href=\"/en/hubs/\" class=\"tm-tabs__tab-link\">\\n        Hubs\\n        <!----></a></span><span class=\"tm-tabs__tab-item\"><a href=\"/en/users/\" class=\"tm-tabs__tab-link\">\\n        Authors\\n        <!----></a></span><span class=\"tm-tabs__tab-item\"><a href=\"/en/companies/\" class=\"tm-tabs__tab-link\">\\n        Companies\\n        <!----></a></span></div> <!----></div> <div class=\"tm-navigation-filter\"><div class=\"tm-navigation-filters\"><div class=\"tm-navigation-filters__wrapper\"><button class=\"tm-navigation-filters__button\">\\n      Everything\\n      <svg height=\"16\" width=\"16\" class=\"tm-svg-img icon_dropdown-arrow\"><title>Dropdown</title> <use xlink:href=\"/img/megazord-v24.cee85629.svg#arrow-down\"></use></svg></button> <button class=\"tm-rss-button tm-rss-button_default\"><span class=\"tm-svg-icon__wrapper tm-rss-button__icon\"><svg height=\"16\" width=\"16\" class=\"tm-svg-img tm-svg-icon\"><title>Copy RSS link</title> <use xlink:href=\"/img/megazord-v24.cee85629.svg#rss\"></use></svg></span></button></div> <div class=\"tm-navigation-filters__options\"><div class=\"tm-navigation-filters__list-label\">\\n      Show first\\n    </div> <ul class=\"tm-navigation-filters__list\"><li class=\"tm-navigation-filters__option tm-navigation-filters__option_active\">\\n        New\\n      </li><li class=\"tm-navigation-filters__option\">\\n        Top\\n      </li></ul> <div class=\"tm-navigation-filters__list-label\">\\n      Rating limit\\n    </div> <ul class=\"tm-navigation-filters__list\"><li class=\"tm-navigation-filters__option tm-navigation-filters__option_active\">\\n        All\\n      </li><li class=\"tm-navigation-filters__option\">\\n        \\xe2\\x89\\xa50\\n      </li><li class=\"tm-navigation-filters__option\">\\n        \\xe2\\x89\\xa510\\n      </li><li class=\"tm-navigation-filters__option\">\\n        \\xe2\\x89\\xa525\\n      </li><li class=\"tm-navigation-filters__option\">\\n        \\xe2\\x89\\xa550\\n      </li><li class=\"tm-navigation-filters__option\">\\n        \\xe2\\x89\\xa5100\\n      </li></ul> <button type=\"button\" class=\"tm-navigation-filters__apply btn btn_solid btn_small\">\\n      Apply\\n    </button></div></div></div> <!----></div> <div data-async-called=\"true\" class=\"tm-articles-subpage\"><!----> <div><div class=\"tm-articles-list\"><!----> <article id=\"581226\" data-navigatable=\"\" tabindex=\"0\" class=\"tm-articles-list__item\"><div class=\"tm-article-snippet\"><div class=\"tm-article-snippet__meta-container\"><div class=\"tm-article-snippet__meta\"><span class=\"tm-user-info tm-article-snippet__author\"><a href=\"/en/users/daymock/\" title=\"daymock\" class=\"tm-user-info__userpic\"><div class=\"tm-entity-image\"><svg height=\"24\" width=\"24\" class=\"tm-svg-img tm-image-placeholder tm-image-placeholder_blue\"><!----> <use xlink:href=\"/img/megazord-v24.cee85629.svg#placeholder-user\"></use></svg></div></a> <span class=\"tm-user-info__user\"><a href=\"/en/users/daymock/\" class=\"tm-user-info__username\">\\n      daymock\\n    </a> </span></span> <span class=\"tm-article-snippet__datetime-published\"><time datetime=\"2021-10-04T09:04:29.000Z\" title=\"2021-10-04, 12:04\">yesterday at 12:04</time></span></div> <!----></div> <h2 class=\"tm-article-snippet__title tm-article-snippet__title_h2\"><a href=\"/en/post/581226/\" data-article-link=\"\" class=\"tm-article-snippet__title-link\"><span>Helpful service for microservice JSON-RPC based test automation</span></a></h2> <div class=\"tm-article-snippet__hubs\"><span class=\"tm-article-snippet__hubs-item\"><a href=\"/en/hub/it_testing/\" class=\"tm-article-snippet__hubs-item-link\"><span>IT systems testing</span> <span title=\"Core hub\" class=\"tm-article-snippet__profiled-hub\">*</span></a></span><span class=\"tm-article-snippet__hubs-item\"><a href=\"/en/hub/web_testing/\" class=\"tm-article-snippet__hubs-item-link\"><span>Web services testing</span> <span title=\"Core hub\" class=\"tm-article-snippet__profiled-hub\">*</span></a></span></div> <!----> <!----> <div class=\"tm-article-body tm-article-snippet__lead\"><!----> <div class=\"article-formatted-body article-formatted-body_version-2\"><p>Test automation, with product built in microservice architecture could be very situational in context of testing goals and ways to achieve them. You got an easy life if you testing a service, that is an isolated entity, which is receiving some data and providing a result of it\\'s work in a response, by callback or through additional endpoint. In this case all you need to do is cover all the endpoints of the service, and probably learn to catch it\\'s callbacks. However, it\\'s not the only case. Sometimes you need to test service which isn\\'t totally isolated, but a part of a chain of interactions. This service could send some data to other services within your infrastructure or even to third parties. This time you got plenty of additional things to bother of:</p></div> <a href=\"/en/post/581226/\" class=\"tm-article-snippet__readmore\"><span>Read more</span></a></div></div> <div class=\"tm-data-icons\"><!----> <div class=\"tm-votes-meter tm-data-icons__item\"><svg height=\"16\" width=\"16\" class=\"tm-svg-img tm-votes-meter__icon tm-votes-meter__icon_small\"><title>Rating</title> <use xlink:href=\"/img/megazord-v24.cee85629.svg#counter-rating\"></use></svg> <span class=\"tm-votes-meter__value tm-votes-meter__value_small\">0</span></div> <span title=\"Views\" class=\"tm-icon-counter tm-data-icons__item\"><svg height=\"16\" width=\"16\" class=\"tm-svg-img tm-icon-counter__icon\"><title>Views</title> <use xlink:href=\"/img/megazord-v24.cee85629.svg#counter-views\"></use></svg> <span class=\"tm-icon-counter__value\">82</span></span> <button title=\"Add to bookmarks\" type=\"button\" class=\"bookmarks-button tm-data-icons__item\"><span title=\"Add to bookmarks\" class=\"tm-svg-icon__wrapper bookmarks-button__icon\"><svg height=\"16\" width=\"16\" class=\"tm-svg-img tm-svg-icon\"><title>Add to bookmarks</title> <use xlink:href=\"/img/megazord-v24.cee85629.svg#counter-favorite\"></use></svg></span> <span title=\"Users added post to bookmarks\" class=\"bookmarks-button__counter\">\\n    0\\n  </span></button> <div title=\"Read comments\" class=\"tm-article-comments-counter-link tm-data-icons__item\"><a href=\"/en/post/581226/comments/\" class=\"tm-article-comments-counter-link__link\"><svg height=\"16\" width=\"16\" class=\"tm-svg-img tm-article-comments-counter-link__icon\"><title>Comments</title> <use xlink:href=\"/img/megazord-v24.cee85629.svg#counter-comments\"></use></svg> <span class=\"tm-article-comments-counter-link__value\">\\n      0\\n    </span></a> <!----></div> <!----> <DIV class=\"v-portal\" style=\"display:none;\"></DIV></div></article> <div class=\"tm-articles-list__after-article\"><!----></div><!----> <article id=\"581360\" data-navigatable=\"\" tabindex=\"0\" class=\"tm-articles-list__item\"><div class=\"tm-article-snippet\"><div class=\"tm-article-snippet__meta-container\"><div class=\"tm-article-snippet__meta\"><span class=\"tm-user-info tm-article-snippet__author\"><a href=\"/en/users/Saldojin/\" title=\"Saldojin\" class=\"tm-user-info__userpic\"><div class=\"tm-entity-image\"><svg height=\"24\" width=\"24\" class=\"tm-svg-img tm-image-placeholder tm-image-placeholder_blue\"><!----> <use xlink:href=\"/img/megazord-v24.cee85629.svg#placeholder-user\"></use></svg></div></a> <span class=\"tm-user-info__user\"><a href=\"/en/users/Saldojin/\" class=\"tm-user-info__username\">\\n      Saldojin\\n    </a> </span></span> <span class=\"tm-article-snippet__datetime-published\"><time datetime=\"2021-10-04T08:53:59.000Z\" title=\"2021-10-04, 11:53\">yesterday at 11:53</time></span></div> <!----></div> <h2 class=\"tm-article-snippet__title tm-article-snippet__title_h2\"><a href=\"/en/post/581360/\" data-article-link=\"\" class=\"tm-article-snippet__title-link\"><span>How to fund an MVP-stage startup? An ultimate guide to initial funding</span></a></h2> <div class=\"tm-article-snippet__hubs\"><span class=\"tm-article-snippet__hubs-item\"><a href=\"/en/hub/startuprise/\" class=\"tm-article-snippet__hubs-item-link\"><span>Start-up development</span> <!----></a></span><span class=\"tm-article-snippet__hubs-item\"><a href=\"/en/hub/finance/\" class=\"tm-article-snippet__hubs-item-link\"><span>Finance in IT</span> <!----></a></span></div> <div class=\"tm-article-snippet__labels\"><div class=\"tm-article-snippet__label\"><span>\\n        Tutorial\\n      </span></div></div> <!----> <div class=\"tm-article-body tm-article-snippet__lead\"><div class=\"tm-article-snippet__cover tm-article-snippet__cover_cover\"><img src=\"https://habrastorage.org/getpro/habr/upload_files/b47/0b8/360/b470b836013673993d813978c0aed51e.jpeg\" class=\"tm-article-snippet__lead-image\" style=\"object-position:0% 0%;\"></div> <div class=\"article-formatted-body article-formatted-body_version-2\"><p>Free money to fund your own business is probably the most cherished dream of every budding entrepreneur.</p><p>And getting a grant is what can bring it to life. While small business owners dream of a grant to fund their startup, the process of its obtaining is not as easy and cloudless as it may seem.</p><p>However, if you know where to look for the right fund and how to apply, one can significantly nick in the path to getting seed money.</p><p><strong>Difference between a grant, attracted investment, and loan.</strong></p></div> <a href=\"/en/post/581360/\" class=\"tm-article-snippet__readmore\"><span>Read more</span></a></div></div> <div class=\"tm-data-icons\"><!----> <div class=\"tm-votes-meter tm-data-icons__item\"><svg height=\"16\" width=\"16\" class=\"tm-svg-img tm-votes-meter__icon tm-votes-meter__icon_small\"><title>Rating</title> <use xlink:href=\"/img/megazord-v24.cee85629.svg#counter-rating\"></use></svg> <span class=\"tm-votes-meter__value tm-votes-meter__value_small\">0</span></div> <span title=\"Views\" class=\"tm-icon-counter tm-data-icons__item\"><svg height=\"16\" width=\"16\" class=\"tm-svg-img tm-icon-counter__icon\"><title>Views</title> <use xlink:href=\"/img/megazord-v24.cee85629.svg#counter-views\"></use></svg> <span class=\"tm-icon-counter__value\">129</span></span> <button title=\"Add to bookmarks\" type=\"button\" class=\"bookmarks-button tm-data-icons__item\"><span title=\"Add to bookmarks\" class=\"tm-svg-icon__wrapper bookmarks-button__icon\"><svg height=\"16\" width=\"16\" class=\"tm-svg-img tm-svg-icon\"><title>Add to bookmarks</title> <use xlink:href=\"/img/megazord-v24.cee85629.svg#counter-favorite\"></use></svg></span> <span title=\"Users added post to bookmarks\" class=\"bookmarks-button__counter\">\\n    0\\n  </span></button> <div title=\"Read comments\" class=\"tm-article-comments-counter-link tm-data-icons__item\"><a href=\"/en/post/581360/comments/\" class=\"tm-article-comments-counter-link__link\"><svg height=\"16\" width=\"16\" class=\"tm-svg-img tm-article-comments-counter-link__icon\"><title>Comments</title> <use xlink:href=\"/img/megazord-v24.cee85629.svg#counter-comments\"></use></svg> <span class=\"tm-article-comments-counter-link__value\">\\n      0\\n    </span></a> <!----></div> <!----> <DIV class=\"v-portal\" style=\"display:none;\"></DIV></div></article> <div class=\"tm-articles-list__after-article\"><!----></div><!----> <article id=\"581170\" data-navigatable=\"\" tabindex=\"0\" class=\"tm-articles-list__item\"><div class=\"tm-article-snippet\"><div class=\"tm-article-snippet__meta-container\"><div class=\"tm-article-snippet__meta\"><span class=\"tm-user-info tm-article-snippet__author\"><a href=\"/en/users/AlexZus/\" title=\"AlexZus\" class=\"tm-user-info__userpic\"><div class=\"tm-entity-image\"><svg height=\"24\" width=\"24\" class=\"tm-svg-img tm-image-placeholder tm-image-placeholder_blue\"><!----> <use xlink:href=\"/img/megazord-v24.cee85629.svg#placeholder-user\"></use></svg></div></a> <span class=\"tm-user-info__user\"><a href=\"/en/users/AlexZus/\" class=\"tm-user-info__username\">\\n      AlexZus\\n    </a> </span></span> <span class=\"tm-article-snippet__datetime-published\"><time datetime=\"2021-10-01T16:27:13.000Z\" title=\"2021-10-01, 19:27\">1  October   at 19:27</time></span></div> <!----></div> <h2 class=\"tm-article-snippet__title tm-article-snippet__title_h2\"><a href=\"/en/post/581170/\" data-article-link=\"\" class=\"tm-article-snippet__title-link\"><span>Millions of orders per second matching engine testing</span></a></h2> <div class=\"tm-article-snippet__hubs\"><span class=\"tm-article-snippet__hubs-item\"><a href=\"/en/hub/cpp/\" class=\"tm-article-snippet__hubs-item-link\"><span>C++</span> <span title=\"Core hub\" class=\"tm-article-snippet__profiled-hub\">*</span></a></span><span class=\"tm-article-snippet__hubs-item\"><a href=\"/en/hub/data_mining/\" class=\"tm-article-snippet__hubs-item-link\"><span>Data Mining</span> <span title=\"Core hub\" class=\"tm-article-snippet__profiled-hub\">*</span></a></span><span class=\"tm-article-snippet__hubs-item\"><a href=\"/en/hub/bigdata/\" class=\"tm-article-snippet__hubs-item-link\"><span>Big Data</span> <span title=\"Core hub\" class=\"tm-article-snippet__profiled-hub\">*</span></a></span><span class=\"tm-article-snippet__hubs-item\"><a href=\"/en/hub/data_engineering/\" class=\"tm-article-snippet__hubs-item-link\"><span>Data Engineering</span> <span title=\"Core hub\" class=\"tm-article-snippet__profiled-hub\">*</span></a></span></div> <div class=\"tm-article-snippet__labels\"><div class=\"tm-article-snippet__label\"><span>\\n        Sandbox\\n      </span></div></div> <!----> <div class=\"tm-article-body tm-article-snippet__lead\"><div class=\"tm-article-snippet__cover tm-article-snippet__cover_cover\"><img src=\"https://habrastorage.org/getpro/habr/upload_files/751/c03/16d/751c0316d8ce9b5ddc15748e3d418eeb.jpg\" class=\"tm-article-snippet__lead-image\" style=\"object-position:0% 0%;\"></div> <div class=\"article-formatted-body article-formatted-body_version-2\"><p> I had some experience in the matching engine development for cryptocurrency exchange some time ago. That was an interesting and challenging experience. I developed it in clear C++ from scratch. The testing of it is also quite a challenging task. You need to get data for testing, perform testing, collect some statistics, and at last, analyze collected data to find weak points and bottlenecks. I want to focus on testing the C++ matching engine and show how testing can give insights for optimizations even without the need to change the code. The matching engine I developed can do more than 1\\xe2\\x80\\x99000\\xe2\\x80\\x99000 TPS (transactions per second) and is 10x times faster than the matching engine of the Binance cryptocurrency exchange (see one <a href=\"https://www.binance.com/en/blog/421499824684900642/Binance-Futures-For-Institutions--Pioneering-Performance--Technology\" rel=\"noopener noreferrer nofollow\"><u>post</u></a> on Binance Blog).</p></div> <a href=\"/en/post/581170/\" class=\"tm-article-snippet__readmore\"><span>Read more</span></a></div></div> <div class=\"tm-data-icons\"><!----> <div class=\"tm-votes-meter tm-data-icons__item\"><svg height=\"16\" width=\"16\" class=\"tm-svg-img tm-votes-meter__icon tm-votes-meter__icon_small\"><title>Total votes 5: \\xe2\\x86\\x915 and \\xe2\\x86\\x930</title> <use xlink:href=\"/img/megazord-v24.cee85629.svg#counter-rating\"></use></svg> <span title=\"Total votes 5: \\xe2\\x86\\x915 and \\xe2\\x86\\x930\" class=\"tm-votes-meter__value tm-votes-meter__value_positive tm-votes-meter__value_small\">+5</span></div> <span title=\"Views\" class=\"tm-icon-counter tm-data-icons__item\"><svg height=\"16\" width=\"16\" class=\"tm-svg-img tm-icon-counter__icon\"><title>Views</title> <use xlink:href=\"/img/megazord-v24.cee85629.svg#counter-views\"></use></svg> <span class=\"tm-icon-counter__value\">503</span></span> <button title=\"Add to bookmarks\" type=\"button\" class=\"bookmarks-button tm-data-icons__item\"><span title=\"Add to bookmarks\" class=\"tm-svg-icon__wrapper bookmarks-button__icon\"><svg height=\"16\" width=\"16\" class=\"tm-svg-img tm-svg-icon\"><title>Add to bookmarks</title> <use xlink:href=\"/img/megazord-v24.cee85629.svg#counter-favorite\"></use></svg></span> <span title=\"Users added post to bookmarks\" class=\"bookmarks-button__counter\">\\n    2\\n  </span></button> <div title=\"Read comments\" class=\"tm-article-comments-counter-link tm-data-icons__item\"><a href=\"/en/post/581170/comments/\" class=\"tm-article-comments-counter-link__link\"><svg height=\"16\" width=\"16\" class=\"tm-svg-img tm-article-comments-counter-link__icon\"><title>Comments</title> <use xlink:href=\"/img/megazord-v24.cee85629.svg#counter-comments\"></use></svg> <span class=\"tm-article-comments-counter-link__value\">\\n      1\\n    </span></a> <!----></div> <!----> <DIV class=\"v-portal\" style=\"display:none;\"></DIV></div></article> <div class=\"tm-articles-list__after-article\"><!----></div><!----> <article id=\"581000\" data-navigatable=\"\" tabindex=\"0\" class=\"tm-articles-list__item\"><div class=\"tm-article-snippet\"><div class=\"tm-article-snippet__meta-container\"><div class=\"tm-article-snippet__meta\"><span class=\"tm-user-info tm-article-snippet__author\"><a href=\"/en/users/Scallium/\" title=\"Scallium\" class=\"tm-user-info__userpic\"><div class=\"tm-entity-image\"><img alt=\"\" height=\"24\" loading=\"lazy\" src=\"//habrastorage.org/r/w32/getpro/habr/avatars/7f3/aa7/f49/7f3aa7f497998947f25f080d43c10e50.jpg\" width=\"24\" class=\"tm-entity-image__pic\"></div></a> <span class=\"tm-user-info__user\"><a href=\"/en/users/Scallium/\" class=\"tm-user-info__username\">\\n      Scallium\\n    </a> </span></span> <span class=\"tm-article-snippet__datetime-published\"><time datetime=\"2021-09-30T17:25:58.000Z\" title=\"2021-09-30, 20:25\">30  September   at 20:25</time></span></div> <!----></div> <h2 class=\"tm-article-snippet__title tm-article-snippet__title_h2\"><a href=\"/en/post/581000/\" data-article-link=\"\" class=\"tm-article-snippet__title-link\"><span>PIM or MDM: which system is better for retail?</span></a></h2> <div class=\"tm-article-snippet__hubs\"><span class=\"tm-article-snippet__hubs-item\"><a href=\"/en/hub/ecommerce_development/\" class=\"tm-article-snippet__hubs-item-link\"><span>Development for e-commerce</span> <span title=\"Core hub\" class=\"tm-article-snippet__profiled-hub\">*</span></a></span></div> <!----> <!----> <div class=\"tm-article-body tm-article-snippet__lead\"><!----> <div class=\"article-formatted-body article-formatted-body_version-2\"><p>Effective data management is a critical aspect in retail. You have to manage information about customers, products, services, staff, materials, and so on. You should have a source that you will trust. And you need to store, process, moderate, and administer data in this system.&nbsp;</p><p>Until recently, retailers only knew MDM - Master Data Management. A traditional MDM system is a system that knows about different data sources. It contains the \\xe2\\x80\\x9cgolden standard\\xe2\\x80\\x9d of data.&nbsp;</p><p>Imagine that your stores have one customer information, your online store has another, and your marketing services have third data. MDM system collects all these types of information in a single source. The system can find the same clients, spelled differently, and eliminate errors in the data based on different algorithms.</p><p>The evolution of MDM systems has led to the emergence of highly specialized master systems. Modern business does not need to implement a heavy MDM to manage only product data. There are PIM systems for this task.</p></div> <a href=\"/en/post/581000/\" class=\"tm-article-snippet__readmore\"><span>Read more</span></a></div></div> <div class=\"tm-data-icons\"><!----> <div class=\"tm-votes-meter tm-data-icons__item\"><svg height=\"16\" width=\"16\" class=\"tm-svg-img tm-votes-meter__icon tm-votes-meter__icon_small\"><title>Rating</title> <use xlink:href=\"/img/megazord-v24.cee85629.svg#counter-rating\"></use></svg> <span class=\"tm-votes-meter__value tm-votes-meter__value_small\">0</span></div> <span title=\"Views\" class=\"tm-icon-counter tm-data-icons__item\"><svg height=\"16\" width=\"16\" class=\"tm-svg-img tm-icon-counter__icon\"><title>Views</title> <use xlink:href=\"/img/megazord-v24.cee85629.svg#counter-views\"></use></svg> <span class=\"tm-icon-counter__value\">173</span></span> <button title=\"Add to bookmarks\" type=\"button\" class=\"bookmarks-button tm-data-icons__item\"><span title=\"Add to bookmarks\" class=\"tm-svg-icon__wrapper bookmarks-button__icon\"><svg height=\"16\" width=\"16\" class=\"tm-svg-img tm-svg-icon\"><title>Add to bookmarks</title> <use xlink:href=\"/img/megazord-v24.cee85629.svg#counter-favorite\"></use></svg></span> <span title=\"Users added post to bookmarks\" class=\"bookmarks-button__counter\">\\n    0\\n  </span></button> <div title=\"Read comments\" class=\"tm-article-comments-counter-link tm-data-icons__item\"><a href=\"/en/post/581000/comments/\" class=\"tm-article-comments-counter-link__link\"><svg height=\"16\" width=\"16\" class=\"tm-svg-img tm-article-comments-counter-link__icon\"><title>Comments</title> <use xlink:href=\"/img/megazord-v24.cee85629.svg#counter-comments\"></use></svg> <span class=\"tm-article-comments-counter-link__value\">\\n      0\\n    </span></a> <!----></div> <!----> <DIV class=\"v-portal\" style=\"display:none;\"></DIV></div></article> <div class=\"tm-articles-list__after-article\"><div class=\"tm-article-feed-blocks\"><!----></div></div><!----> <article id=\"579832\" data-navigatable=\"\" tabindex=\"0\" class=\"tm-articles-list__item\"><div class=\"tm-article-snippet\"><div class=\"tm-article-snippet__meta-container\"><div class=\"tm-article-snippet__meta\"><span class=\"tm-user-info tm-article-snippet__author\"><a href=\"/en/users/MrDvorak/\" title=\"MrDvorak\" class=\"tm-user-info__userpic\"><div class=\"tm-entity-image\"><img alt=\"\" height=\"24\" loading=\"lazy\" src=\"//habrastorage.org/r/w32/getpro/habr/avatars/aba/86f/100/aba86f1006398de27ec801ac0e54ec35.jpg\" width=\"24\" class=\"tm-entity-image__pic\"></div></a> <span class=\"tm-user-info__user\"><a href=\"/en/users/MrDvorak/\" class=\"tm-user-info__username\">\\n      MrDvorak\\n    </a> </span></span> <span class=\"tm-article-snippet__datetime-published\"><time datetime=\"2021-09-29T08:00:03.000Z\" title=\"2021-09-29, 11:00\">29  September   at 11:00</time></span></div> <!----></div> <h2 class=\"tm-article-snippet__title tm-article-snippet__title_h2\"><a href=\"/en/company/pvs-studio/blog/579832/\" data-article-link=\"\" class=\"tm-article-snippet__title-link\"><span>Software testers \\xe2\\x80\\x94 an endangered species?</span></a></h2> <div class=\"tm-article-snippet__hubs\"><span class=\"tm-article-snippet__hubs-item\"><a href=\"/en/company/pvs-studio/blog/\" class=\"tm-article-snippet__hubs-item-link\"><span>PVS-Studio corporate blog</span> <!----></a></span><span class=\"tm-article-snippet__hubs-item\"><a href=\"/en/hub/it_testing/\" class=\"tm-article-snippet__hubs-item-link\"><span>IT systems testing</span> <span title=\"Core hub\" class=\"tm-article-snippet__profiled-hub\">*</span></a></span><span class=\"tm-article-snippet__hubs-item\"><a href=\"/en/hub/career/\" class=\"tm-article-snippet__hubs-item-link\"><span>IT career</span> <!----></a></span><span class=\"tm-article-snippet__hubs-item\"><a href=\"/en/hub/futurenow/\" class=\"tm-article-snippet__hubs-item-link\"><span>The future is here</span> <!----></a></span></div> <!----> <!----> <div class=\"tm-article-body tm-article-snippet__lead\"><div class=\"tm-article-snippet__cover tm-article-snippet__cover_cover\"><img src=\"https://habrastorage.org/getpro/habr/upload_files/c7e/fc3/f5c/c7efc3f5c309f87d173c02cea1e32982.png\" class=\"tm-article-snippet__lead-image\" style=\"object-position:0% 0%;\"></div> <div class=\"article-formatted-body article-formatted-body_version-2\"><p>Nothing and nobody will escape oblivion. Whatever you may say, the history of mankind is a history of automation and the subsequent evolution of workers. This happened both during the first industrial revolution and during the second. The same thing happened with digital revolution. Now machine learning and artificial intelligence are being implemented everywhere. What is the future of software testing?</p></div> <a href=\"/en/company/pvs-studio/blog/579832/\" class=\"tm-article-snippet__readmore\"><span>Read more</span></a></div></div> <div class=\"tm-data-icons\"><!----> <div class=\"tm-votes-meter tm-data-icons__item\"><svg height=\"16\" width=\"16\" class=\"tm-svg-img tm-votes-meter__icon tm-votes-meter__icon_small\"><title>Total votes 1: \\xe2\\x86\\x911 and \\xe2\\x86\\x930</title> <use xlink:href=\"/img/megazord-v24.cee85629.svg#counter-rating\"></use></svg> <span title=\"Total votes 1: \\xe2\\x86\\x911 and \\xe2\\x86\\x930\" class=\"tm-votes-meter__value tm-votes-meter__value_positive tm-votes-meter__value_small\">+1</span></div> <span title=\"Views\" class=\"tm-icon-counter tm-data-icons__item\"><svg height=\"16\" width=\"16\" class=\"tm-svg-img tm-icon-counter__icon\"><title>Views</title> <use xlink:href=\"/img/megazord-v24.cee85629.svg#counter-views\"></use></svg> <span class=\"tm-icon-counter__value\">442</span></span> <button title=\"Add to bookmarks\" type=\"button\" class=\"bookmarks-button tm-data-icons__item\"><span title=\"Add to bookmarks\" class=\"tm-svg-icon__wrapper bookmarks-button__icon\"><svg height=\"16\" width=\"16\" class=\"tm-svg-img tm-svg-icon\"><title>Add to bookmarks</title> <use xlink:href=\"/img/megazord-v24.cee85629.svg#counter-favorite\"></use></svg></span> <span title=\"Users added post to bookmarks\" class=\"bookmarks-button__counter\">\\n    2\\n  </span></button> <div title=\"Read comments\" class=\"tm-article-comments-counter-link tm-data-icons__item\"><a href=\"/en/company/pvs-studio/blog/579832/comments/\" class=\"tm-article-comments-counter-link__link\"><svg height=\"16\" width=\"16\" class=\"tm-svg-img tm-article-comments-counter-link__icon\"><title>Comments</title> <use xlink:href=\"/img/megazord-v24.cee85629.svg#counter-comments\"></use></svg> <span class=\"tm-article-comments-counter-link__value\">\\n      0\\n    </span></a> <!----></div> <!----> <DIV class=\"v-portal\" style=\"display:none;\"></DIV></div></article> <div class=\"tm-articles-list__after-article\"><!----></div><!----> <article id=\"580482\" data-navigatable=\"\" tabindex=\"0\" class=\"tm-articles-list__item\"><div class=\"tm-article-snippet\"><div class=\"tm-article-snippet__meta-container\"><div class=\"tm-article-snippet__meta\"><span class=\"tm-user-info tm-article-snippet__author\"><a href=\"/en/users/Mixxxxa/\" title=\"Mixxxxa\" class=\"tm-user-info__userpic\"><div class=\"tm-entity-image\"><img alt=\"\" height=\"24\" loading=\"lazy\" src=\"//habrastorage.org/r/w32/getpro/habr/avatars/dba/2ee/f0f/dba2eef0f9977296cfe38816e0a2ae81.png\" width=\"24\" class=\"tm-entity-image__pic\"></div></a> <span class=\"tm-user-info__user\"><a href=\"/en/users/Mixxxxa/\" class=\"tm-user-info__username\">\\n      Mixxxxa\\n    </a> </span></span> <span class=\"tm-article-snippet__datetime-published\"><time datetime=\"2021-09-28T12:43:11.000Z\" title=\"2021-09-28, 15:43\">28  September   at 15:43</time></span></div> <!----></div> <h2 class=\"tm-article-snippet__title tm-article-snippet__title_h2\"><a href=\"/en/company/pvs-studio/blog/580482/\" data-article-link=\"\" class=\"tm-article-snippet__title-link\"><span>CWE Top 25 2021. What is it, what is it for and how is it useful for static analysis?</span></a></h2> <div class=\"tm-article-snippet__hubs\"><span class=\"tm-article-snippet__hubs-item\"><a href=\"/en/company/pvs-studio/blog/\" class=\"tm-article-snippet__hubs-item-link\"><span>PVS-Studio corporate blog</span> <!----></a></span><span class=\"tm-article-snippet__hubs-item\"><a href=\"/en/hub/infosecurity/\" class=\"tm-article-snippet__hubs-item-link\"><span>Information Security</span> <span title=\"Core hub\" class=\"tm-article-snippet__profiled-hub\">*</span></a></span><span class=\"tm-article-snippet__hubs-item\"><a href=\"/en/hub/java/\" class=\"tm-article-snippet__hubs-item-link\"><span>Java</span> <span title=\"Core hub\" class=\"tm-article-snippet__profiled-hub\">*</span></a></span><span class=\"tm-article-snippet__hubs-item\"><a href=\"/en/hub/cpp/\" class=\"tm-article-snippet__hubs-item-link\"><span>C++</span> <span title=\"Core hub\" class=\"tm-article-snippet__profiled-hub\">*</span></a></span><span class=\"tm-article-snippet__hubs-item\"><a href=\"/en/hub/csharp/\" class=\"tm-article-snippet__hubs-item-link\"><span>C#</span> <span title=\"Core hub\" class=\"tm-article-snippet__profiled-hub\">*</span></a></span></div> <!----> <!----> <div class=\"tm-article-body tm-article-snippet__lead\"><!----> <div class=\"article-formatted-body article-formatted-body_version-1\"><p>For the first time PVS-Studio provided support for the CWE classification in the 6.21 release. It took place on January 15, 2018. Years have passed since then and we would like to tell you about the improvements related to the support of this classification in the latest analyzer version.</p><br>\\r\\n<p><img src=\"https://habrastorage.org/getpro/habr/post_images/6c7/064/280/6c706428086332649d765b3f6cdc4675.png\" alt=\"https://import.viva64.com/docx/blog/0869_CWE_status/image1.png\"><br>\\r\\n</p><br></div> <a href=\"/en/company/pvs-studio/blog/580482/\" class=\"tm-article-snippet__readmore\"><span>Read more &rarr;</span></a></div></div> <div class=\"tm-data-icons\"><!----> <div class=\"tm-votes-meter tm-data-icons__item\"><svg height=\"16\" width=\"16\" class=\"tm-svg-img tm-votes-meter__icon tm-votes-meter__icon_small\"><title>Rating</title> <use xlink:href=\"/img/megazord-v24.cee85629.svg#counter-rating\"></use></svg> <span class=\"tm-votes-meter__value tm-votes-meter__value_small\">0</span></div> <span title=\"Views\" class=\"tm-icon-counter tm-data-icons__item\"><svg height=\"16\" width=\"16\" class=\"tm-svg-img tm-icon-counter__icon\"><title>Views</title> <use xlink:href=\"/img/megazord-v24.cee85629.svg#counter-views\"></use></svg> <span class=\"tm-icon-counter__value\">126</span></span> <button title=\"Add to bookmarks\" type=\"button\" class=\"bookmarks-button tm-data-icons__item\"><span title=\"Add to bookmarks\" class=\"tm-svg-icon__wrapper bookmarks-button__icon\"><svg height=\"16\" width=\"16\" class=\"tm-svg-img tm-svg-icon\"><title>Add to bookmarks</title> <use xlink:href=\"/img/megazord-v24.cee85629.svg#counter-favorite\"></use></svg></span> <span title=\"Users added post to bookmarks\" class=\"bookmarks-button__counter\">\\n    1\\n  </span></button> <div title=\"Read comments\" class=\"tm-article-comments-counter-link tm-data-icons__item\"><a href=\"/en/company/pvs-studio/blog/580482/comments/\" class=\"tm-article-comments-counter-link__link\"><svg height=\"16\" width=\"16\" class=\"tm-svg-img tm-article-comments-counter-link__icon\"><title>Comments</title> <use xlink:href=\"/img/megazord-v24.cee85629.svg#counter-comments\"></use></svg> <span class=\"tm-article-comments-counter-link__value\">\\n      0\\n    </span></a> <!----></div> <!----> <DIV class=\"v-portal\" style=\"display:none;\"></DIV></div></article> <div class=\"tm-articles-list__after-article\"><!----></div><!----> <article id=\"580338\" data-navigatable=\"\" tabindex=\"0\" class=\"tm-articles-list__item\"><div class=\"tm-article-snippet\"><div class=\"tm-article-snippet__meta-container\"><div class=\"tm-article-snippet__meta\"><span class=\"tm-user-info tm-article-snippet__author\"><a href=\"/en/users/olegchir/\" title=\"olegchir\" class=\"tm-user-info__userpic\"><div class=\"tm-entity-image\"><img alt=\"\" height=\"24\" loading=\"lazy\" src=\"//habrastorage.org/r/w32/getpro/habr/avatars/97a/7a1/7a3/97a7a17a34ac8e5c74105213ae932c4f.jpg\" width=\"24\" class=\"tm-entity-image__pic\"></div></a> <span class=\"tm-user-info__user\"><a href=\"/en/users/olegchir/\" class=\"tm-user-info__username\">\\n      olegchir\\n    </a> </span></span> <span class=\"tm-article-snippet__datetime-published\"><time datetime=\"2021-09-28T05:46:36.000Z\" title=\"2021-09-28, 08:46\">28  September   at 08:46</time></span></div> <!----></div> <h2 class=\"tm-article-snippet__title tm-article-snippet__title_h2\"><a href=\"/en/company/JetBrains/blog/580338/\" data-article-link=\"\" class=\"tm-article-snippet__title-link\"><span>Big Data Tools with IntelliJ IDEA Ultimate, PyCharm Professional, DataGrip 2021.3 EAP, and DataSpell Support</span></a></h2> <div class=\"tm-article-snippet__hubs\"><span class=\"tm-article-snippet__hubs-item\"><a href=\"/en/company/JetBrains/blog/\" class=\"tm-article-snippet__hubs-item-link\"><span>JetBrains corporate blog</span> <!----></a></span><span class=\"tm-article-snippet__hubs-item\"><a href=\"/en/hub/programming/\" class=\"tm-article-snippet__hubs-item-link\"><span>Programming</span> <span title=\"Core hub\" class=\"tm-article-snippet__profiled-hub\">*</span></a></span><span class=\"tm-article-snippet__hubs-item\"><a href=\"/en/hub/bigdata/\" class=\"tm-article-snippet__hubs-item-link\"><span>Big Data</span> <span title=\"Core hub\" class=\"tm-article-snippet__profiled-hub\">*</span></a></span><span class=\"tm-article-snippet__hubs-item\"><a href=\"/en/hub/data_engineering/\" class=\"tm-article-snippet__hubs-item-link\"><span>Data Engineering</span> <span title=\"Core hub\" class=\"tm-article-snippet__profiled-hub\">*</span></a></span></div> <!----> <!----> <div class=\"tm-article-body tm-article-snippet__lead\"><div class=\"tm-article-snippet__cover tm-article-snippet__cover_cover\"><img src=\"https://habrastorage.org/getpro/habr/upload_files/918/e06/902/918e069020ce32f06f266386b4179dde.png\" class=\"tm-article-snippet__lead-image\" style=\"object-position:54.358974358974% 1.8181818181818%;\"></div> <div class=\"article-formatted-body article-formatted-body_version-2\"><p>Recently we released a new build of the Big Data Tools plugin that is compatible with the 2021.3 versions of IntelliJ IDEA and PyCharm. DataGrip 2021.3 support will be available immediately after the release in October. The plugin also supports our new data science IDE \\xe2\\x80\\x93 JetBrains DataSpell. If you still use previous versions, now is the perfect time to upgrade both your IDE and the plugin.&nbsp;</p><p>This year, we introduced a number of new features as well as some features that have been there for a while, for example, running Spark Submit with a run configuration.</p><p>Here\\xe2\\x80\\x99s a list of the key improvements:</p></div> <a href=\"/en/company/JetBrains/blog/580338/\" class=\"tm-article-snippet__readmore\"><span>Read more</span></a></div></div> <div class=\"tm-data-icons\"><!----> <div class=\"tm-votes-meter tm-data-icons__item\"><svg height=\"16\" width=\"16\" class=\"tm-svg-img tm-votes-meter__icon tm-votes-meter__icon_small\"><title>Rating</title> <use xlink:href=\"/img/megazord-v24.cee85629.svg#counter-rating\"></use></svg> <span class=\"tm-votes-meter__value tm-votes-meter__value_small\">0</span></div> <span title=\"Views\" class=\"tm-icon-counter tm-data-icons__item\"><svg height=\"16\" width=\"16\" class=\"tm-svg-img tm-icon-counter__icon\"><title>Views</title> <use xlink:href=\"/img/megazord-v24.cee85629.svg#counter-views\"></use></svg> <span class=\"tm-icon-counter__value\">271</span></span> <button title=\"Add to bookmarks\" type=\"button\" class=\"bookmarks-button tm-data-icons__item\"><span title=\"Add to bookmarks\" class=\"tm-svg-icon__wrapper bookmarks-button__icon\"><svg height=\"16\" width=\"16\" class=\"tm-svg-img tm-svg-icon\"><title>Add to bookmarks</title> <use xlink:href=\"/img/megazord-v24.cee85629.svg#counter-favorite\"></use></svg></span> <span title=\"Users added post to bookmarks\" class=\"bookmarks-button__counter\">\\n    2\\n  </span></button> <div title=\"Read comments\" class=\"tm-article-comments-counter-link tm-data-icons__item\"><a href=\"/en/company/JetBrains/blog/580338/comments/\" class=\"tm-article-comments-counter-link__link\"><svg height=\"16\" width=\"16\" class=\"tm-svg-img tm-article-comments-counter-link__icon\"><title>Comments</title> <use xlink:href=\"/img/megazord-v24.cee85629.svg#counter-comments\"></use></svg> <span class=\"tm-article-comments-counter-link__value\">\\n      0\\n    </span></a> <!----></div> <!----> <DIV class=\"v-portal\" style=\"display:none;\"></DIV></div></article> <div class=\"tm-articles-list__after-article\"><div class=\"tm-article-feed-blocks\"><div class=\"tm-ad-banner__container\"><!----> <div id=\"articlesListBanner\" class=\"tm-ad-banner\"></div></div></div></div><!----> <article id=\"580272\" data-navigatable=\"\" tabindex=\"0\" class=\"tm-articles-list__item\"><div class=\"tm-article-snippet\"><div class=\"tm-article-snippet__meta-container\"><div class=\"tm-article-snippet__meta\"><span class=\"tm-user-info tm-article-snippet__author\"><a href=\"/en/users/illusionofchaos/\" title=\"illusionofchaos\" class=\"tm-user-info__userpic\"><div class=\"tm-entity-image\"><svg height=\"24\" width=\"24\" class=\"tm-svg-img tm-image-placeholder tm-image-placeholder_lilac\"><!----> <use xlink:href=\"/img/megazord-v24.cee85629.svg#placeholder-user\"></use></svg></div></a> <span class=\"tm-user-info__user\"><a href=\"/en/users/illusionofchaos/\" class=\"tm-user-info__username\">\\n      illusionofchaos\\n    </a> </span></span> <span class=\"tm-article-snippet__datetime-published\"><time datetime=\"2021-09-27T16:23:34.000Z\" title=\"2021-09-27, 19:23\">27  September   at 19:23</time></span></div> <!----></div> <h2 class=\"tm-article-snippet__title tm-article-snippet__title_h2\"><a href=\"/en/post/580272/\" data-article-link=\"\" class=\"tm-article-snippet__title-link\"><span>How malware gets into the App Store and why Apple can\\'t stop that</span></a></h2> <div class=\"tm-article-snippet__hubs\"><span class=\"tm-article-snippet__hubs-item\"><a href=\"/en/hub/infosecurity/\" class=\"tm-article-snippet__hubs-item-link\"><span>Information Security</span> <span title=\"Core hub\" class=\"tm-article-snippet__profiled-hub\">*</span></a></span><span class=\"tm-article-snippet__hubs-item\"><a href=\"/en/hub/ios_dev/\" class=\"tm-article-snippet__hubs-item-link\"><span>Development for iOS</span> <span title=\"Core hub\" class=\"tm-article-snippet__profiled-hub\">*</span></a></span><span class=\"tm-article-snippet__hubs-item\"><a href=\"/en/hub/mobile_dev/\" class=\"tm-article-snippet__hubs-item-link\"><span>Development of mobile applications</span> <span title=\"Core hub\" class=\"tm-article-snippet__profiled-hub\">*</span></a></span><span class=\"tm-article-snippet__hubs-item\"><a href=\"/en/hub/reverse-engineering/\" class=\"tm-article-snippet__hubs-item-link\"><span>Reverse engineering</span> <span title=\"Core hub\" class=\"tm-article-snippet__profiled-hub\">*</span></a></span><span class=\"tm-article-snippet__hubs-item\"><a href=\"/en/hub/swift/\" class=\"tm-article-snippet__hubs-item-link\"><span>Swift</span> <span title=\"Core hub\" class=\"tm-article-snippet__profiled-hub\">*</span></a></span></div> <!----> <!----> <div class=\"tm-article-body tm-article-snippet__lead\"><div class=\"tm-article-snippet__cover tm-article-snippet__cover_cover\"><img src=\"https://habrastorage.org/getpro/habr/upload_files/3a2/ba5/669/3a2ba566997c46b24c2748e6ba0ac430.jpg\" class=\"tm-article-snippet__lead-image\" style=\"object-position:0% 0%;\"></div> <div class=\"article-formatted-body article-formatted-body_version-2\"><p>Only after <a href=\"https://habr.com/ru/post/579714/\" rel=\"noopener noreferrer nofollow\">I had published a post</a> detailing three iOS 0-day vulnerabilities and expressing my frustration with Apple Security Bounty Program, I received a reply from Apple:</p><p><em>We saw your blog post regarding this issue and your other reports. </em></p><p><em>We apologize for the delay in responding to you. We want to let you know that we are still investigating these issues and how we can address them to protect customers. Thank you again for taking the time to report these issues to us, we appreciate your assistance.  </em></p><p><em>Please let us know if you have any questions.</em> </p><p>Indeed, I do have questions. The same ones that you have ignored. I\\'m gonna repeat them. Why was the fix for <a href=\"https://github.com/illusionofchaos/ios-analyticsd-pre14.7-exploit\" rel=\"noopener noreferrer nofollow\">analyticsd</a> vulnerability quietly included in iOS 14.7 update but not mentioned on its <a href=\"https://support.apple.com/en-us/HT212601\" rel=\"noopener noreferrer nofollow\">security content list</a>? Why did you promise to include it in the next update\\'s list but broke your words not once but trice? Why do you keep ignoring these questions?</p><p>After my previous post, some people have expressed doubts that such code can make its way into the App Store. It\\'s understandable why they think this way. That\\'s because Apple makes people believe that the App Store is safe by <a href=\"https://www.voanews.com/a/silicon-valley-technology_app-store-would-be-toxic-mess-without-control-apple-ceo-says/6206076.html\" rel=\"noopener noreferrer nofollow\">repeating it over and over</a>. Moreover, they claim that they disallow alternative stores and application sideloading to keep users safe and otherwise they would be in great danger. Android has alternative stores and unrestricted sideloading, and have you heard about any kind of security problems with Android recently? I haven\\'t. But it the last few months alone there were so many reports about security and privacy issues on Apple platforms. And the real reason that Apple doesn\\'t allow any alternatives to the App Store is that they receive 30% commission on all purchases made inside any app and it\\'s a tremendously lucrative business for them. They also enact censorship by choosing to allow or disallow any app into the App Store based purely on subjective opinions of their employees and managers.</p><p>So in this article I\\'m going to dispute the claim that the App Store is safe, voice my complaints about the App Store review process and provide a detailed explanation (including source code) how malicious apps on the App Store conceal their functionality from the App Store review team and are able to sneak into the App Store.</p></div> <a href=\"/en/post/580272/\" class=\"tm-article-snippet__readmore\"><span>Read more</span></a></div></div> <div class=\"tm-data-icons\"><!----> <div class=\"tm-votes-meter tm-data-icons__item\"><svg height=\"16\" width=\"16\" class=\"tm-svg-img tm-votes-meter__icon tm-votes-meter__icon_small\"><title>Total votes 29: \\xe2\\x86\\x9128 and \\xe2\\x86\\x931</title> <use xlink:href=\"/img/megazord-v24.cee85629.svg#counter-rating\"></use></svg> <span title=\"Total votes 29: \\xe2\\x86\\x9128 and \\xe2\\x86\\x931\" class=\"tm-votes-meter__value tm-votes-meter__value_positive tm-votes-meter__value_small\">+27</span></div> <span title=\"Views\" class=\"tm-icon-counter tm-data-icons__item\"><svg height=\"16\" width=\"16\" class=\"tm-svg-img tm-icon-counter__icon\"><title>Views</title> <use xlink:href=\"/img/megazord-v24.cee85629.svg#counter-views\"></use></svg> <span class=\"tm-icon-counter__value\">29K</span></span> <button title=\"Add to bookmarks\" type=\"button\" class=\"bookmarks-button tm-data-icons__item\"><span title=\"Add to bookmarks\" class=\"tm-svg-icon__wrapper bookmarks-button__icon\"><svg height=\"16\" width=\"16\" class=\"tm-svg-img tm-svg-icon\"><title>Add to bookmarks</title> <use xlink:href=\"/img/megazord-v24.cee85629.svg#counter-favorite\"></use></svg></span> <span title=\"Users added post to bookmarks\" class=\"bookmarks-button__counter\">\\n    5\\n  </span></button> <div title=\"Read comments\" class=\"tm-article-comments-counter-link tm-data-icons__item\"><a href=\"/en/post/580272/comments/\" class=\"tm-article-comments-counter-link__link\"><svg height=\"16\" width=\"16\" class=\"tm-svg-img tm-article-comments-counter-link__icon\"><title>Comments</title> <use xlink:href=\"/img/megazord-v24.cee85629.svg#counter-comments\"></use></svg> <span class=\"tm-article-comments-counter-link__value\">\\n      7\\n    </span></a> <!----></div> <!----> <DIV class=\"v-portal\" style=\"display:none;\"></DIV></div></article> <div class=\"tm-articles-list__after-article\"><!----></div><!----> <article id=\"580188\" data-navigatable=\"\" tabindex=\"0\" class=\"tm-articles-list__item\"><div class=\"tm-article-snippet\"><div class=\"tm-article-snippet__meta-container\"><div class=\"tm-article-snippet__meta\"><span class=\"tm-user-info tm-article-snippet__author\"><a href=\"/en/users/MrROBUST/\" title=\"MrROBUST\" class=\"tm-user-info__userpic\"><div class=\"tm-entity-image\"><svg height=\"24\" width=\"24\" class=\"tm-svg-img tm-image-placeholder tm-image-placeholder_lilac\"><!----> <use xlink:href=\"/img/megazord-v24.cee85629.svg#placeholder-user\"></use></svg></div></a> <span class=\"tm-user-info__user\"><a href=\"/en/users/MrROBUST/\" class=\"tm-user-info__username\">\\n      MrROBUST\\n    </a> </span></span> <span class=\"tm-article-snippet__datetime-published\"><time datetime=\"2021-09-27T12:22:20.000Z\" title=\"2021-09-27, 15:22\">27  September   at 15:22</time></span></div> <!----></div> <h2 class=\"tm-article-snippet__title tm-article-snippet__title_h2\"><a href=\"/en/company/pvs-studio/blog/580188/\" data-article-link=\"\" class=\"tm-article-snippet__title-link\"><span>Why we need dynamic code analysis: the example of the PVS-Studio project</span></a></h2> <div class=\"tm-article-snippet__hubs\"><span class=\"tm-article-snippet__hubs-item\"><a href=\"/en/company/pvs-studio/blog/\" class=\"tm-article-snippet__hubs-item-link\"><span>PVS-Studio corporate blog</span> <!----></a></span><span class=\"tm-article-snippet__hubs-item\"><a href=\"/en/hub/cpp/\" class=\"tm-article-snippet__hubs-item-link\"><span>C++</span> <span title=\"Core hub\" class=\"tm-article-snippet__profiled-hub\">*</span></a></span><span class=\"tm-article-snippet__hubs-item\"><a href=\"/en/hub/vs/\" class=\"tm-article-snippet__hubs-item-link\"><span>Visual Studio</span> <span title=\"Core hub\" class=\"tm-article-snippet__profiled-hub\">*</span></a></span><span class=\"tm-article-snippet__hubs-item\"><a href=\"/en/hub/win_dev/\" class=\"tm-article-snippet__hubs-item-link\"><span>Development for Windows</span> <span title=\"Core hub\" class=\"tm-article-snippet__profiled-hub\">*</span></a></span></div> <!----> <!----> <div class=\"tm-article-body tm-article-snippet__lead\"><!----> <div class=\"article-formatted-body article-formatted-body_version-1\"><p>In May 2021, CppCast recorded a podcast called ABI stability (CppCast #300). In this podcast, Marshall Clow and the hosts discussed rather old news \\xe2\\x80\\x94 Visual Studio compilers support the AddressSantitzer tool. We have already integrated ASan into our testing system a long time ago. Now we want to tell you about a couple of interesting errors it found.</p><br>\\r\\n<p><img src=\"https://habrastorage.org/getpro/habr/post_images/7ef/2db/210/7ef2db210d677f9a8c07026d4361d3ba.png\" alt=\"0868_PVS-Studio_ASan/image2.png\"></p></div> <a href=\"/en/company/pvs-studio/blog/580188/\" class=\"tm-article-snippet__readmore\"><span>Read more &rarr;</span></a></div></div> <div class=\"tm-data-icons\"><!----> <div class=\"tm-votes-meter tm-data-icons__item\"><svg height=\"16\" width=\"16\" class=\"tm-svg-img tm-votes-meter__icon tm-votes-meter__icon_small\"><title>Total votes 4: \\xe2\\x86\\x913 and \\xe2\\x86\\x931</title> <use xlink:href=\"/img/megazord-v24.cee85629.svg#counter-rating\"></use></svg> <span title=\"Total votes 4: \\xe2\\x86\\x913 and \\xe2\\x86\\x931\" class=\"tm-votes-meter__value tm-votes-meter__value_positive tm-votes-meter__value_small\">+2</span></div> <span title=\"Views\" class=\"tm-icon-counter tm-data-icons__item\"><svg height=\"16\" width=\"16\" class=\"tm-svg-img tm-icon-counter__icon\"><title>Views</title> <use xlink:href=\"/img/megazord-v24.cee85629.svg#counter-views\"></use></svg> <span class=\"tm-icon-counter__value\">271</span></span> <button title=\"Add to bookmarks\" type=\"button\" class=\"bookmarks-button tm-data-icons__item\"><span title=\"Add to bookmarks\" class=\"tm-svg-icon__wrapper bookmarks-button__icon\"><svg height=\"16\" width=\"16\" class=\"tm-svg-img tm-svg-icon\"><title>Add to bookmarks</title> <use xlink:href=\"/img/megazord-v24.cee85629.svg#counter-favorite\"></use></svg></span> <span title=\"Users added post to bookmarks\" class=\"bookmarks-button__counter\">\\n    1\\n  </span></button> <div title=\"Read comments\" class=\"tm-article-comments-counter-link tm-data-icons__item\"><a href=\"/en/company/pvs-studio/blog/580188/comments/\" class=\"tm-article-comments-counter-link__link\"><svg height=\"16\" width=\"16\" class=\"tm-svg-img tm-article-comments-counter-link__icon\"><title>Comments</title> <use xlink:href=\"/img/megazord-v24.cee85629.svg#counter-comments\"></use></svg> <span class=\"tm-article-comments-counter-link__value\">\\n      0\\n    </span></a> <!----></div> <!----> <DIV class=\"v-portal\" style=\"display:none;\"></DIV></div></article> <div class=\"tm-articles-list__after-article\"><!----></div><!----> <article id=\"580026\" data-navigatable=\"\" tabindex=\"0\" class=\"tm-articles-list__item\"><div class=\"tm-article-snippet\"><div class=\"tm-article-snippet__meta-container\"><div class=\"tm-article-snippet__meta\"><span class=\"tm-user-info tm-article-snippet__author\"><a href=\"/en/users/Demivan/\" title=\"Demivan\" class=\"tm-user-info__userpic\"><div class=\"tm-entity-image\"><img alt=\"\" height=\"24\" loading=\"lazy\" src=\"//habrastorage.org/r/w32/getpro/habr/avatars/d2a/4ad/0d7/d2a4ad0d7d0ad9a4368f960ab4a6ce0f.png\" width=\"24\" class=\"tm-entity-image__pic\"></div></a> <span class=\"tm-user-info__user\"><a href=\"/en/users/Demivan/\" class=\"tm-user-info__username\">\\n      Demivan\\n    </a> </span></span> <span class=\"tm-article-snippet__datetime-published\"><time datetime=\"2021-09-26T10:53:55.000Z\" title=\"2021-09-26, 13:53\">26  September   at 13:53</time></span></div> <!----></div> <h2 class=\"tm-article-snippet__title tm-article-snippet__title_h2\"><a href=\"/en/post/580026/\" data-article-link=\"\" class=\"tm-article-snippet__title-link\"><span>Difficulties You Might Encounter When Using vue-i18n</span></a></h2> <div class=\"tm-article-snippet__hubs\"><span class=\"tm-article-snippet__hubs-item\"><a href=\"/en/hub/javascript/\" class=\"tm-article-snippet__hubs-item-link\"><span>JavaScript</span> <span title=\"Core hub\" class=\"tm-article-snippet__profiled-hub\">*</span></a></span><span class=\"tm-article-snippet__hubs-item\"><a href=\"/en/hub/localization/\" class=\"tm-article-snippet__hubs-item-link\"><span>Language localisation</span> <span title=\"Core hub\" class=\"tm-article-snippet__profiled-hub\">*</span></a></span><span class=\"tm-article-snippet__hubs-item\"><a href=\"/en/hub/vuejs/\" class=\"tm-article-snippet__hubs-item-link\"><span>VueJS</span> <span title=\"Core hub\" class=\"tm-article-snippet__profiled-hub\">*</span></a></span></div> <div class=\"tm-article-snippet__labels\"><div class=\"tm-article-snippet__label\"><span>\\n        Sandbox\\n      </span></div></div> <!----> <div class=\"tm-article-body tm-article-snippet__lead\"><div class=\"tm-article-snippet__cover tm-article-snippet__cover_cover\"><img src=\"https://habrastorage.org/getpro/habr/upload_files/02f/446/071/02f446071f1fcc15bc89e400e845262a.jpeg\" class=\"tm-article-snippet__lead-image\" style=\"object-position:0% 0%;\"></div> <div class=\"article-formatted-body article-formatted-body_version-2\"><p>After few months of frustration with trying to use the \"de-facto\" internationalization library for Vue.js - <code>vue-i18n</code>, I\\'ve decided it is time to replace it. And that is why I have created <code>fluent-vue</code> - a Vue.js internationalization plugin that uses Mozilla\\'s Fluent syntax to allow for natural-sounding translations.</p><p>In this post, I try to explain what problems I have encountered when trying to use <code>vue-i18n</code> library in my app, and how Fluent syntax solves them.</p></div> <a href=\"/en/post/580026/\" class=\"tm-article-snippet__readmore\"><span>Read more</span></a></div></div> <div class=\"tm-data-icons\"><!----> <div class=\"tm-votes-meter tm-data-icons__item\"><svg height=\"16\" width=\"16\" class=\"tm-svg-img tm-votes-meter__icon tm-votes-meter__icon_small\"><title>Total votes 3: \\xe2\\x86\\x913 and \\xe2\\x86\\x930</title> <use xlink:href=\"/img/megazord-v24.cee85629.svg#counter-rating\"></use></svg> <span title=\"Total votes 3: \\xe2\\x86\\x913 and \\xe2\\x86\\x930\" class=\"tm-votes-meter__value tm-votes-meter__value_positive tm-votes-meter__value_small\">+3</span></div> <span title=\"Views\" class=\"tm-icon-counter tm-data-icons__item\"><svg height=\"16\" width=\"16\" class=\"tm-svg-img tm-icon-counter__icon\"><title>Views</title> <use xlink:href=\"/img/megazord-v24.cee85629.svg#counter-views\"></use></svg> <span class=\"tm-icon-counter__value\">364</span></span> <button title=\"Add to bookmarks\" type=\"button\" class=\"bookmarks-button tm-data-icons__item\"><span title=\"Add to bookmarks\" class=\"tm-svg-icon__wrapper bookmarks-button__icon\"><svg height=\"16\" width=\"16\" class=\"tm-svg-img tm-svg-icon\"><title>Add to bookmarks</title> <use xlink:href=\"/img/megazord-v24.cee85629.svg#counter-favorite\"></use></svg></span> <span title=\"Users added post to bookmarks\" class=\"bookmarks-button__counter\">\\n    4\\n  </span></button> <div title=\"Read comments\" class=\"tm-article-comments-counter-link tm-data-icons__item\"><a href=\"/en/post/580026/comments/\" class=\"tm-article-comments-counter-link__link\"><svg height=\"16\" width=\"16\" class=\"tm-svg-img tm-article-comments-counter-link__icon\"><title>Comments</title> <use xlink:href=\"/img/megazord-v24.cee85629.svg#counter-comments\"></use></svg> <span class=\"tm-article-comments-counter-link__value\">\\n      0\\n    </span></a> <!----></div> <!----> <DIV class=\"v-portal\" style=\"display:none;\"></DIV></div></article> <div class=\"tm-articles-list__after-article\"><div class=\"tm-article-feed-blocks\"><!----></div></div><a name=\"more-news\"></a> <article id=\"579736\" data-navigatable=\"\" tabindex=\"0\" class=\"tm-articles-list__item\"><div class=\"tm-article-snippet\"><div class=\"tm-article-snippet__meta-container\"><div class=\"tm-article-snippet__meta\"><span class=\"tm-user-info tm-article-snippet__author\"><a href=\"/en/users/ValeryKomarov/\" title=\"ValeryKomarov\" class=\"tm-user-info__userpic\"><div class=\"tm-entity-image\"><img alt=\"\" height=\"24\" loading=\"lazy\" src=\"//habrastorage.org/r/w32/getpro/habr/avatars/975/fd9/111/975fd9111e0b2238e2e263da62be3268.png\" width=\"24\" class=\"tm-entity-image__pic\"></div></a> <span class=\"tm-user-info__user\"><a href=\"/en/users/ValeryKomarov/\" class=\"tm-user-info__username\">\\n      ValeryKomarov\\n    </a> </span></span> <span class=\"tm-article-snippet__datetime-published\"><time datetime=\"2021-09-24T07:32:46.000Z\" title=\"2021-09-24, 10:32\">24  September   at 10:32</time></span></div> <!----></div> <h2 class=\"tm-article-snippet__title tm-article-snippet__title_h2\"><a href=\"/en/company/pvs-studio/blog/579736/\" data-article-link=\"\" class=\"tm-article-snippet__title-link\"><span>Creating Roslyn API-based static analyzer for C#</span></a></h2> <div class=\"tm-article-snippet__hubs\"><span class=\"tm-article-snippet__hubs-item\"><a href=\"/en/company/pvs-studio/blog/\" class=\"tm-article-snippet__hubs-item-link\"><span>PVS-Studio corporate blog</span> <!----></a></span><span class=\"tm-article-snippet__hubs-item\"><a href=\"/en/hub/programming/\" class=\"tm-article-snippet__hubs-item-link\"><span>Programming</span> <span title=\"Core hub\" class=\"tm-article-snippet__profiled-hub\">*</span></a></span><span class=\"tm-article-snippet__hubs-item\"><a href=\"/en/hub/net/\" class=\"tm-article-snippet__hubs-item-link\"><span>.NET</span> <span title=\"Core hub\" class=\"tm-article-snippet__profiled-hub\">*</span></a></span><span class=\"tm-article-snippet__hubs-item\"><a href=\"/en/hub/vs/\" class=\"tm-article-snippet__hubs-item-link\"><span>Visual Studio</span> <span title=\"Core hub\" class=\"tm-article-snippet__profiled-hub\">*</span></a></span><span class=\"tm-article-snippet__hubs-item\"><a href=\"/en/hub/csharp/\" class=\"tm-article-snippet__hubs-item-link\"><span>C#</span> <span title=\"Core hub\" class=\"tm-article-snippet__profiled-hub\">*</span></a></span></div> <div class=\"tm-article-snippet__labels\"><div class=\"tm-article-snippet__label\"><span>\\n        Tutorial\\n      </span></div></div> <!----> <div class=\"tm-article-body tm-article-snippet__lead\"><div class=\"tm-article-snippet__cover tm-article-snippet__cover_cover\"><img src=\"https://habrastorage.org/getpro/habr/upload_files/616/a42/a33/616a42a33c69f03f580690b651bce761.png\" class=\"tm-article-snippet__lead-image\" style=\"object-position:0% 0%;\"></div> <div class=\"article-formatted-body article-formatted-body_version-2\"><p>After you read this article, you\\'ll have the knowledge to create your  own static analyzer for C#. With the help of the analyzer, you can find  potential errors and vulnerabilities in the source code of your own and  other projects. Are you intrigued? Well, let\\'s get started.</p></div> <a href=\"/en/company/pvs-studio/blog/579736/\" class=\"tm-article-snippet__readmore\"><span>Read more</span></a></div></div> <div class=\"tm-data-icons\"><!----> <div class=\"tm-votes-meter tm-data-icons__item\"><svg height=\"16\" width=\"16\" class=\"tm-svg-img tm-votes-meter__icon tm-votes-meter__icon_small\"><title>Total votes 2: \\xe2\\x86\\x911 and \\xe2\\x86\\x931</title> <use xlink:href=\"/img/megazord-v24.cee85629.svg#counter-rating\"></use></svg> <span title=\"Total votes 2: \\xe2\\x86\\x911 and \\xe2\\x86\\x931\" class=\"tm-votes-meter__value tm-votes-meter__value_small\">0</span></div> <span title=\"Views\" class=\"tm-icon-counter tm-data-icons__item\"><svg height=\"16\" width=\"16\" class=\"tm-svg-img tm-icon-counter__icon\"><title>Views</title> <use xlink:href=\"/img/megazord-v24.cee85629.svg#counter-views\"></use></svg> <span class=\"tm-icon-counter__value\">572</span></span> <button title=\"Add to bookmarks\" type=\"button\" class=\"bookmarks-button tm-data-icons__item\"><span title=\"Add to bookmarks\" class=\"tm-svg-icon__wrapper bookmarks-button__icon\"><svg height=\"16\" width=\"16\" class=\"tm-svg-img tm-svg-icon\"><title>Add to bookmarks</title> <use xlink:href=\"/img/megazord-v24.cee85629.svg#counter-favorite\"></use></svg></span> <span title=\"Users added post to bookmarks\" class=\"bookmarks-button__counter\">\\n    4\\n  </span></button> <div title=\"Read comments\" class=\"tm-article-comments-counter-link tm-data-icons__item\"><a href=\"/en/company/pvs-studio/blog/579736/comments/\" class=\"tm-article-comments-counter-link__link\"><svg height=\"16\" width=\"16\" class=\"tm-svg-img tm-article-comments-counter-link__icon\"><title>Comments</title> <use xlink:href=\"/img/megazord-v24.cee85629.svg#counter-comments\"></use></svg> <span class=\"tm-article-comments-counter-link__value\">\\n      0\\n    </span></a> <!----></div> <!----> <DIV class=\"v-portal\" style=\"display:none;\"></DIV></div></article> <div class=\"tm-articles-list__after-article\"><!----></div><!----> <article id=\"579714\" data-navigatable=\"\" tabindex=\"0\" class=\"tm-articles-list__item\"><div class=\"tm-article-snippet\"><div class=\"tm-article-snippet__meta-container\"><div class=\"tm-article-snippet__meta\"><span class=\"tm-user-info tm-article-snippet__author\"><a href=\"/en/users/illusionofchaos/\" title=\"illusionofchaos\" class=\"tm-user-info__userpic\"><div class=\"tm-entity-image\"><svg height=\"24\" width=\"24\" class=\"tm-svg-img tm-image-placeholder tm-image-placeholder_lilac\"><!----> <use xlink:href=\"/img/megazord-v24.cee85629.svg#placeholder-user\"></use></svg></div></a> <span class=\"tm-user-info__user\"><a href=\"/en/users/illusionofchaos/\" class=\"tm-user-info__username\">\\n      illusionofchaos\\n    </a> </span></span> <span class=\"tm-article-snippet__datetime-published\"><time datetime=\"2021-09-23T23:08:37.000Z\" title=\"2021-09-24, 02:08\">24  September   at 02:08</time></span></div> <!----></div> <h2 class=\"tm-article-snippet__title tm-article-snippet__title_h2\"><a href=\"/en/post/579714/\" data-article-link=\"\" class=\"tm-article-snippet__title-link\"><span>Disclosure of three 0-day iOS vulnerabilities and critique of Apple Security Bounty program</span></a></h2> <div class=\"tm-article-snippet__hubs\"><span class=\"tm-article-snippet__hubs-item\"><a href=\"/en/hub/infosecurity/\" class=\"tm-article-snippet__hubs-item-link\"><span>Information Security</span> <span title=\"Core hub\" class=\"tm-article-snippet__profiled-hub\">*</span></a></span><span class=\"tm-article-snippet__hubs-item\"><a href=\"/en/hub/ios_dev/\" class=\"tm-article-snippet__hubs-item-link\"><span>Development for iOS</span> <span title=\"Core hub\" class=\"tm-article-snippet__profiled-hub\">*</span></a></span><span class=\"tm-article-snippet__hubs-item\"><a href=\"/en/hub/mobile_dev/\" class=\"tm-article-snippet__hubs-item-link\"><span>Development of mobile applications</span> <span title=\"Core hub\" class=\"tm-article-snippet__profiled-hub\">*</span></a></span><span class=\"tm-article-snippet__hubs-item\"><a href=\"/en/hub/reverse-engineering/\" class=\"tm-article-snippet__hubs-item-link\"><span>Reverse engineering</span> <span title=\"Core hub\" class=\"tm-article-snippet__profiled-hub\">*</span></a></span></div> <div class=\"tm-article-snippet__labels\"><div class=\"tm-article-snippet__label\"><span>\\n        Translation\\n      </span></div></div> <!----> <div class=\"tm-article-body tm-article-snippet__lead\"><div class=\"tm-article-snippet__cover tm-article-snippet__cover_cover\"><img src=\"https://habrastorage.org/getpro/habr/upload_files/5b4/f38/55e/5b4f3855ed7e33970065a5606df6a14b.jpg\" class=\"tm-article-snippet__lead-image\" style=\"object-position:0% 0%;\"></div> <div class=\"article-formatted-body article-formatted-body_version-2\"><p>I want to share my frustrating experience participating in Apple Security Bounty program. I\\'ve reported four 0-day vulnerabilities this year between March 10 and May 4, as of now three of them are still present in the latest iOS version (15.0) and one was fixed in 14.7, but Apple decided to cover it up and not list it on the <a href=\"https://support.apple.com/en-us/HT212601\" rel=\"noopener noreferrer nofollow\">security content page</a>. When I confronted them, they apologized, assured me it happened due to a processing issue and promised to list it on the security content page of the next update. There were three releases since then and they broke their promise each time.</p><p>Read more to learn the specifics of 0-day vulnerabilities.</p></div> <a href=\"/en/post/579714/\" class=\"tm-article-snippet__readmore\"><span>Read more</span></a></div></div> <div class=\"tm-data-icons\"><!----> <div class=\"tm-votes-meter tm-data-icons__item\"><svg height=\"16\" width=\"16\" class=\"tm-svg-img tm-votes-meter__icon tm-votes-meter__icon_small\"><title>Total votes 56: \\xe2\\x86\\x9156 and \\xe2\\x86\\x930</title> <use xlink:href=\"/img/megazord-v24.cee85629.svg#counter-rating\"></use></svg> <span title=\"Total votes 56: \\xe2\\x86\\x9156 and \\xe2\\x86\\x930\" class=\"tm-votes-meter__value tm-votes-meter__value_positive tm-votes-meter__value_small\">+56</span></div> <span title=\"Views\" class=\"tm-icon-counter tm-data-icons__item\"><svg height=\"16\" width=\"16\" class=\"tm-svg-img tm-icon-counter__icon\"><title>Views</title> <use xlink:href=\"/img/megazord-v24.cee85629.svg#counter-views\"></use></svg> <span class=\"tm-icon-counter__value\">136K</span></span> <button title=\"Add to bookmarks\" type=\"button\" class=\"bookmarks-button tm-data-icons__item\"><span title=\"Add to bookmarks\" class=\"tm-svg-icon__wrapper bookmarks-button__icon\"><svg height=\"16\" width=\"16\" class=\"tm-svg-img tm-svg-icon\"><title>Add to bookmarks</title> <use xlink:href=\"/img/megazord-v24.cee85629.svg#counter-favorite\"></use></svg></span> <span title=\"Users added post to bookmarks\" class=\"bookmarks-button__counter\">\\n    9\\n  </span></button> <div title=\"Read comments\" class=\"tm-article-comments-counter-link tm-data-icons__item\"><a href=\"/en/post/579714/comments/\" class=\"tm-article-comments-counter-link__link\"><svg height=\"16\" width=\"16\" class=\"tm-svg-img tm-article-comments-counter-link__icon\"><title>Comments</title> <use xlink:href=\"/img/megazord-v24.cee85629.svg#counter-comments\"></use></svg> <span class=\"tm-article-comments-counter-link__value\">\\n      8\\n    </span></a> <!----></div> <!----> <DIV class=\"v-portal\" style=\"display:none;\"></DIV></div></article> <div class=\"tm-articles-list__after-article\"><!----></div><!----> <article id=\"579522\" data-navigatable=\"\" tabindex=\"0\" class=\"tm-articles-list__item\"><div class=\"tm-article-snippet\"><div class=\"tm-article-snippet__meta-container\"><div class=\"tm-article-snippet__meta\"><span class=\"tm-user-info tm-article-snippet__author\"><a href=\"/en/users/AlexVakulov/\" title=\"AlexVakulov\" class=\"tm-user-info__userpic\"><div class=\"tm-entity-image\"><img alt=\"\" height=\"24\" loading=\"lazy\" src=\"//habrastorage.org/r/w32/getpro/habr/avatars/69b/b3e/722/69bb3e7226a3fbd201a67237da8eaaa8.jpg\" width=\"24\" class=\"tm-entity-image__pic\"></div></a> <span class=\"tm-user-info__user\"><a href=\"/en/users/AlexVakulov/\" class=\"tm-user-info__username\">\\n      AlexVakulov\\n    </a> </span></span> <span class=\"tm-article-snippet__datetime-published\"><time datetime=\"2021-09-23T08:47:21.000Z\" title=\"2021-09-23, 11:47\">23  September   at 11:47</time></span></div> <!----></div> <h2 class=\"tm-article-snippet__title tm-article-snippet__title_h2\"><a href=\"/en/post/579522/\" data-article-link=\"\" class=\"tm-article-snippet__title-link\"><span>Insights Into Proactive Threat Hunting</span></a></h2> <div class=\"tm-article-snippet__hubs\"><span class=\"tm-article-snippet__hubs-item\"><a href=\"/en/hub/infosecurity/\" class=\"tm-article-snippet__hubs-item-link\"><span>Information Security</span> <span title=\"Core hub\" class=\"tm-article-snippet__profiled-hub\">*</span></a></span></div> <div class=\"tm-article-snippet__labels\"><div class=\"tm-article-snippet__label\"><span>\\n        Sandbox\\n      </span></div></div> <!----> <div class=\"tm-article-body tm-article-snippet__lead\"><div class=\"tm-article-snippet__cover tm-article-snippet__cover_cover\"><img src=\"https://habrastorage.org/getpro/habr/upload_files/f71/cb7/fe4/f71cb7fe47db37783c79ebd97bd95465.jpg\" class=\"tm-article-snippet__lead-image\" style=\"object-position:0% 0%;\"></div> <div class=\"article-formatted-body article-formatted-body_version-2\"><p>Proactive search for complex threats seems to be a useful technology but inaccessible for many organizations. Is it really so? What do companies need to do to start Threat Hunting? What tools are needed for threat hunting? What trends in this area can be seen on the market in the coming years? These are some of the questions I would like to answer in my article today.</p><p><strong>What is Threat Hunting?</strong></p><p>Threat Hunting is a search for threats in a proactive mode when the information security specialist is sure that the network is compromised. He should understand how his network operates in order to be able to identify various attacks by examining the existing anomalies.</p><p>Threat Hunting is a search for threats that have already bypassed automated detection systems. Moreover, most often, you do not have signals or alerts that allow you to detect an intrusion.</p><p>From the <a href=\"https://en.wikipedia.org/wiki/Security_operations_center\" rel=\"noopener noreferrer nofollow\">SOC</a> perspective, Threat Hunting is an extension of the service that allows you to counter any level of intruders, including those who use previously unknown tools and methods.</p><p>Threat Hunting can be based on some data obtained by a security specialist, or it can be based on a hypothesis. If after testing the hypothesis, the test gives a positive result, then later, it can be used to improve the processes and mechanisms of detecting threats. And also, Threat Hunting allows you to find blind spots in the security system and expand the monitoring area.</p><p><strong>What organizations need Threat Hunting?</strong></p><p>Proactive threat hunting is relevant to those organizations that can become the target of a complex, targeted <a href=\"https://www.csoonline.com/article/2615666/5-signs-youve-been-hit-with-an-apt.html\" rel=\"noopener noreferrer nofollow\">APT attack</a>. At the same time, given the trend towards <a href=\"https://www.wired.com/story/hacker-lexicon-what-is-a-supply-chain-attack/\" rel=\"noopener noreferrer nofollow\">supply chain attacks</a>, a small company may also become a target for motivated attackers.</p></div> <a href=\"/en/post/579522/\" class=\"tm-article-snippet__readmore\"><span>Read more</span></a></div></div> <div class=\"tm-data-icons\"><!----> <div class=\"tm-votes-meter tm-data-icons__item\"><svg height=\"16\" width=\"16\" class=\"tm-svg-img tm-votes-meter__icon tm-votes-meter__icon_small\"><title>Total votes 3: \\xe2\\x86\\x913 and \\xe2\\x86\\x930</title> <use xlink:href=\"/img/megazord-v24.cee85629.svg#counter-rating\"></use></svg> <span title=\"Total votes 3: \\xe2\\x86\\x913 and \\xe2\\x86\\x930\" class=\"tm-votes-meter__value tm-votes-meter__value_positive tm-votes-meter__value_small\">+3</span></div> <span title=\"Views\" class=\"tm-icon-counter tm-data-icons__item\"><svg height=\"16\" width=\"16\" class=\"tm-svg-img tm-icon-counter__icon\"><title>Views</title> <use xlink:href=\"/img/megazord-v24.cee85629.svg#counter-views\"></use></svg> <span class=\"tm-icon-counter__value\">289</span></span> <button title=\"Add to bookmarks\" type=\"button\" class=\"bookmarks-button tm-data-icons__item\"><span title=\"Add to bookmarks\" class=\"tm-svg-icon__wrapper bookmarks-button__icon\"><svg height=\"16\" width=\"16\" class=\"tm-svg-img tm-svg-icon\"><title>Add to bookmarks</title> <use xlink:href=\"/img/megazord-v24.cee85629.svg#counter-favorite\"></use></svg></span> <span title=\"Users added post to bookmarks\" class=\"bookmarks-button__counter\">\\n    0\\n  </span></button> <div title=\"Read comments\" class=\"tm-article-comments-counter-link tm-data-icons__item\"><a href=\"/en/post/579522/comments/\" class=\"tm-article-comments-counter-link__link\"><svg height=\"16\" width=\"16\" class=\"tm-svg-img tm-article-comments-counter-link__icon\"><title>Comments</title> <use xlink:href=\"/img/megazord-v24.cee85629.svg#counter-comments\"></use></svg> <span class=\"tm-article-comments-counter-link__value\">\\n      0\\n    </span></a> <!----></div> <!----> <DIV class=\"v-portal\" style=\"display:none;\"></DIV></div></article> <div class=\"tm-articles-list__after-article\"><div class=\"tm-article-feed-blocks\"><!----></div></div><!----> <article id=\"579428\" data-navigatable=\"\" tabindex=\"0\" class=\"tm-articles-list__item\"><div class=\"tm-article-snippet\"><div class=\"tm-article-snippet__meta-container\"><div class=\"tm-article-snippet__meta\"><span class=\"tm-user-info tm-article-snippet__author\"><a href=\"/en/users/Cockatoo/\" title=\"Cockatoo\" class=\"tm-user-info__userpic\"><div class=\"tm-entity-image\"><img alt=\"\" height=\"24\" loading=\"lazy\" src=\"//habrastorage.org/r/w32/getpro/habr/avatars/836/149/7f1/8361497f1f637cab1a6e625ec126123f.jpg\" width=\"24\" class=\"tm-entity-image__pic\"></div></a> <span class=\"tm-user-info__user\"><a href=\"/en/users/Cockatoo/\" class=\"tm-user-info__username\">\\n      Cockatoo\\n    </a> </span></span> <span class=\"tm-article-snippet__datetime-published\"><time datetime=\"2021-09-22T15:04:03.000Z\" title=\"2021-09-22, 18:04\">22  September   at 18:04</time></span></div> <!----></div> <h2 class=\"tm-article-snippet__title tm-article-snippet__title_h2\"><a href=\"/en/company/pvs-studio/blog/579428/\" data-article-link=\"\" class=\"tm-article-snippet__title-link\"><span>MISRA C: struggle for code quality and security</span></a></h2> <div class=\"tm-article-snippet__hubs\"><span class=\"tm-article-snippet__hubs-item\"><a href=\"/en/company/pvs-studio/blog/\" class=\"tm-article-snippet__hubs-item-link\"><span>PVS-Studio corporate blog</span> <!----></a></span><span class=\"tm-article-snippet__hubs-item\"><a href=\"/en/hub/cpp/\" class=\"tm-article-snippet__hubs-item-link\"><span>C++</span> <span title=\"Core hub\" class=\"tm-article-snippet__profiled-hub\">*</span></a></span><span class=\"tm-article-snippet__hubs-item\"><a href=\"/en/hub/itstandarts/\" class=\"tm-article-snippet__hubs-item-link\"><span>IT Standards</span> <span title=\"Core hub\" class=\"tm-article-snippet__profiled-hub\">*</span></a></span><span class=\"tm-article-snippet__hubs-item\"><a href=\"/en/hub/c/\" class=\"tm-article-snippet__hubs-item-link\"><span>C</span> <span title=\"Core hub\" class=\"tm-article-snippet__profiled-hub\">*</span></a></span><span class=\"tm-article-snippet__hubs-item\"><a href=\"/en/hub/controllers/\" class=\"tm-article-snippet__hubs-item-link\"><span>Programming microcontrollers</span> <span title=\"Core hub\" class=\"tm-article-snippet__profiled-hub\">*</span></a></span></div> <!----> <!----> <div class=\"tm-article-body tm-article-snippet__lead\"><!----> <div class=\"article-formatted-body article-formatted-body_version-1\"><p>A couple of years ago the PVS-Studio analyzer got its first diagnostic rules to check program code compliance with the MISRA C and MISRA C++ standards. We collected feedback and saw that our clients were interested in using the analyzer to check their projects for MISRA compliance. So, we decided to further develop the analyzer in this direction. The article covers the MISRA C/C++ standard and the MISRA Compliance report. It also shows what we already managed to do and what we plan to achieve by the end of the year.</p><br>\\r\\n<p><img src=\"https://habrastorage.org/getpro/habr/post_images/483/838/f99/483838f992499d85b0c64070bf21b7e6.png\" alt=\"0866_MISRA_C/image1.png\"></p></div> <a href=\"/en/company/pvs-studio/blog/579428/\" class=\"tm-article-snippet__readmore\"><span>Read more &rarr;</span></a></div></div> <div class=\"tm-data-icons\"><!----> <div class=\"tm-votes-meter tm-data-icons__item\"><svg height=\"16\" width=\"16\" class=\"tm-svg-img tm-votes-meter__icon tm-votes-meter__icon_small\"><title>Rating</title> <use xlink:href=\"/img/megazord-v24.cee85629.svg#counter-rating\"></use></svg> <span class=\"tm-votes-meter__value tm-votes-meter__value_small\">0</span></div> <span title=\"Views\" class=\"tm-icon-counter tm-data-icons__item\"><svg height=\"16\" width=\"16\" class=\"tm-svg-img tm-icon-counter__icon\"><title>Views</title> <use xlink:href=\"/img/megazord-v24.cee85629.svg#counter-views\"></use></svg> <span class=\"tm-icon-counter__value\">252</span></span> <button title=\"Add to bookmarks\" type=\"button\" class=\"bookmarks-button tm-data-icons__item\"><span title=\"Add to bookmarks\" class=\"tm-svg-icon__wrapper bookmarks-button__icon\"><svg height=\"16\" width=\"16\" class=\"tm-svg-img tm-svg-icon\"><title>Add to bookmarks</title> <use xlink:href=\"/img/megazord-v24.cee85629.svg#counter-favorite\"></use></svg></span> <span title=\"Users added post to bookmarks\" class=\"bookmarks-button__counter\">\\n    0\\n  </span></button> <div title=\"Read comments\" class=\"tm-article-comments-counter-link tm-data-icons__item\"><a href=\"/en/company/pvs-studio/blog/579428/comments/\" class=\"tm-article-comments-counter-link__link\"><svg height=\"16\" width=\"16\" class=\"tm-svg-img tm-article-comments-counter-link__icon\"><title>Comments</title> <use xlink:href=\"/img/megazord-v24.cee85629.svg#counter-comments\"></use></svg> <span class=\"tm-article-comments-counter-link__value\">\\n      0\\n    </span></a> <!----></div> <!----> <DIV class=\"v-portal\" style=\"display:none;\"></DIV></div></article> <div class=\"tm-articles-list__after-article\"><!----></div><!----> <article id=\"578574\" data-navigatable=\"\" tabindex=\"0\" class=\"tm-articles-list__item\"><div class=\"tm-article-snippet\"><div class=\"tm-article-snippet__meta-container\"><div class=\"tm-article-snippet__meta\"><span class=\"tm-user-info tm-article-snippet__author\"><a href=\"/en/users/atomlib/\" title=\"atomlib\" class=\"tm-user-info__userpic\"><div class=\"tm-entity-image\"><img alt=\"\" height=\"24\" loading=\"lazy\" src=\"//habrastorage.org/r/w32/getpro/habr/avatars/0e4/25c/082/0e425c082f0b7e10860ae495a558a233.jpg\" width=\"24\" class=\"tm-entity-image__pic\"></div></a> <span class=\"tm-user-info__user\"><a href=\"/en/users/atomlib/\" class=\"tm-user-info__username\">\\n      atomlib\\n    </a> </span></span> <span class=\"tm-article-snippet__datetime-published\"><time datetime=\"2021-09-17T13:05:46.000Z\" title=\"2021-09-17, 16:05\">17  September   at 16:05</time></span></div> <!----></div> <h2 class=\"tm-article-snippet__title tm-article-snippet__title_h2\"><a href=\"/en/post/578574/\" data-article-link=\"\" class=\"tm-article-snippet__title-link\"><span>Who controls App Store: Martians or AI? Closed session of Russia\\'s Federation Council and Apple leaked online</span></a></h2> <div class=\"tm-article-snippet__hubs\"><span class=\"tm-article-snippet__hubs-item\"><a href=\"/en/hub/business-laws/\" class=\"tm-article-snippet__hubs-item-link\"><span>Legislation in IT</span> <!----></a></span><span class=\"tm-article-snippet__hubs-item\"><a href=\"/en/hub/itcompanies/\" class=\"tm-article-snippet__hubs-item-link\"><span>IT-companies</span> <!----></a></span></div> <!----> <!----> <div class=\"tm-article-body tm-article-snippet__lead\"><!----> <div class=\"article-formatted-body article-formatted-body_version-1\"><img src=\"https://habrastorage.org/getpro/habr/post_images/038/774/342/0387743426652a563edc942af237a249.jpg\"><br>\\r\\n<br>\\r\\nVideo recording of a closed session of the upper house of Russia\\'s parliament was <a href=\"https://t.me/A000MP97/93\" rel=\"nofollow noopener noreferrer\">leaked</a> online by Telegram channel A000MP97. In the video, Andrei Klimov, head of the Ad Hoc Sovereignty and Preventing Interference in the Domestic Affairs Commission, demands Apple to disclose who controls the App Store: people from Mars or artificial intelligence?<br>\\r\\n<br>\\r\\nOn September 16th, a closed session of the Commission <a href=\"https://habr.com/ru/news/t/578466/\">took place</a>, and representatives of Apple and Google were among those who <a href=\"https://habr.com/ru/news/t/578330/\">were invited</a>. The session discussed ways to protect sovereignty of the country, in particular, the fact that the <em>Navalny</em> app was still available in Apple App Store and Google Play. The services were accused of being complicit with organisations deemed extremist and banned in Russia as well as interference with Russian elections.<br></div> <a href=\"/en/post/578574/\" class=\"tm-article-snippet__readmore\"><span>Read more &rarr;</span></a></div></div> <div class=\"tm-data-icons\"><!----> <div class=\"tm-votes-meter tm-data-icons__item\"><svg height=\"16\" width=\"16\" class=\"tm-svg-img tm-votes-meter__icon tm-votes-meter__icon_small\"><title>Total votes 17: \\xe2\\x86\\x9117 and \\xe2\\x86\\x930</title> <use xlink:href=\"/img/megazord-v24.cee85629.svg#counter-rating\"></use></svg> <span title=\"Total votes 17: \\xe2\\x86\\x9117 and \\xe2\\x86\\x930\" class=\"tm-votes-meter__value tm-votes-meter__value_positive tm-votes-meter__value_small\">+17</span></div> <span title=\"Views\" class=\"tm-icon-counter tm-data-icons__item\"><svg height=\"16\" width=\"16\" class=\"tm-svg-img tm-icon-counter__icon\"><title>Views</title> <use xlink:href=\"/img/megazord-v24.cee85629.svg#counter-views\"></use></svg> <span class=\"tm-icon-counter__value\">2.2K</span></span> <button title=\"Add to bookmarks\" type=\"button\" class=\"bookmarks-button tm-data-icons__item\"><span title=\"Add to bookmarks\" class=\"tm-svg-icon__wrapper bookmarks-button__icon\"><svg height=\"16\" width=\"16\" class=\"tm-svg-img tm-svg-icon\"><title>Add to bookmarks</title> <use xlink:href=\"/img/megazord-v24.cee85629.svg#counter-favorite\"></use></svg></span> <span title=\"Users added post to bookmarks\" class=\"bookmarks-button__counter\">\\n    3\\n  </span></button> <div title=\"Read comments\" class=\"tm-article-comments-counter-link tm-data-icons__item\"><a href=\"/en/post/578574/comments/\" class=\"tm-article-comments-counter-link__link\"><svg height=\"16\" width=\"16\" class=\"tm-svg-img tm-article-comments-counter-link__icon\"><title>Comments</title> <use xlink:href=\"/img/megazord-v24.cee85629.svg#counter-comments\"></use></svg> <span class=\"tm-article-comments-counter-link__value\">\\n      0\\n    </span></a> <!----></div> <!----> <DIV class=\"v-portal\" style=\"display:none;\"></DIV></div></article> <div class=\"tm-articles-list__after-article\"><!----></div><!----> <article id=\"577978\" data-navigatable=\"\" tabindex=\"0\" class=\"tm-articles-list__item\"><div class=\"tm-article-snippet\"><div class=\"tm-article-snippet__meta-container\"><div class=\"tm-article-snippet__meta\"><span class=\"tm-user-info tm-article-snippet__author\"><a href=\"/en/users/YuriPanchul/\" title=\"YuriPanchul\" class=\"tm-user-info__userpic\"><div class=\"tm-entity-image\"><img alt=\"\" height=\"24\" loading=\"lazy\" src=\"//habrastorage.org/r/w32/getpro/habr/avatars/0a9/21b/7c1/0a921b7c13a624616c9da17b980b69a9.jpg\" width=\"24\" class=\"tm-entity-image__pic\"></div></a> <span class=\"tm-user-info__user\"><a href=\"/en/users/YuriPanchul/\" class=\"tm-user-info__username\">\\n      YuriPanchul\\n    </a> </span></span> <span class=\"tm-article-snippet__datetime-published\"><time datetime=\"2021-09-15T06:26:24.000Z\" title=\"2021-09-15, 09:26\">15  September   at 09:26</time></span></div> <!----></div> <h2 class=\"tm-article-snippet__title tm-article-snippet__title_h2\"><a href=\"/en/post/577978/\" data-article-link=\"\" class=\"tm-article-snippet__title-link\"><span>High-level pipelining in TL-Verilog, RISC-V from Imagination, formal tools and open-source EDA on ChipEXPO in Moscow</span></a></h2> <div class=\"tm-article-snippet__hubs\"><span class=\"tm-article-snippet__hubs-item\"><a href=\"/en/hub/algorithms/\" class=\"tm-article-snippet__hubs-item-link\"><span>Algorithms</span> <span title=\"Core hub\" class=\"tm-article-snippet__profiled-hub\">*</span></a></span><span class=\"tm-article-snippet__hubs-item\"><a href=\"/en/hub/industrial_control_system/\" class=\"tm-article-snippet__hubs-item-link\"><span>Industrial Programming</span> <span title=\"Core hub\" class=\"tm-article-snippet__profiled-hub\">*</span></a></span><span class=\"tm-article-snippet__hubs-item\"><a href=\"/en/hub/fpga/\" class=\"tm-article-snippet__hubs-item-link\"><span>FPGA</span> <span title=\"Core hub\" class=\"tm-article-snippet__profiled-hub\">*</span></a></span><span class=\"tm-article-snippet__hubs-item\"><a href=\"/en/hub/controllers/\" class=\"tm-article-snippet__hubs-item-link\"><span>Programming microcontrollers</span> <span title=\"Core hub\" class=\"tm-article-snippet__profiled-hub\">*</span></a></span><span class=\"tm-article-snippet__hubs-item\"><a href=\"/en/hub/electronics/\" class=\"tm-article-snippet__hubs-item-link\"><span>Manufacture and development of electronics</span> <span title=\"Core hub\" class=\"tm-article-snippet__profiled-hub\">*</span></a></span></div> <!----> <!----> <div class=\"tm-article-body tm-article-snippet__lead\"><div class=\"tm-article-snippet__cover tm-article-snippet__cover_cover\"><img src=\"https://habrastorage.org/getpro/habr/upload_files/c6f/e3d/686/c6fe3d686d294a446c81cdd207944d0a.png\" class=\"tm-article-snippet__lead-image\" style=\"object-position:0% 36.590909090909%;\"></div> <div class=\"article-formatted-body article-formatted-body_version-2\"><p>This year ChipEXPO conference in Moscow invited several Western speakers to present in English the emerging technologies in high-level HDLs, formal verification, open-source EDA and using industrual RISC-V cores for education. You can join these presentations on September 14-16 for free using this link (you may need to use google translate from Russian to go through the registration) <a href=\"https://eventswallet.com/en/events/282/\" rel=\"noopener noreferrer nofollow\">https://eventswallet.com/en/events/282/</a></p><p>The whole program is <a href=\"http://www.chipexpo.ru/en/business-programm\" rel=\"noopener noreferrer nofollow\">here</a> </p><p>The English-speaking presentations and tutorials include:</p></div> <a href=\"/en/post/577978/\" class=\"tm-article-snippet__readmore\"><span>Read more</span></a></div></div> <div class=\"tm-data-icons\"><!----> <div class=\"tm-votes-meter tm-data-icons__item\"><svg height=\"16\" width=\"16\" class=\"tm-svg-img tm-votes-meter__icon tm-votes-meter__icon_small\"><title>Total votes 3: \\xe2\\x86\\x912 and \\xe2\\x86\\x931</title> <use xlink:href=\"/img/megazord-v24.cee85629.svg#counter-rating\"></use></svg> <span title=\"Total votes 3: \\xe2\\x86\\x912 and \\xe2\\x86\\x931\" class=\"tm-votes-meter__value tm-votes-meter__value_positive tm-votes-meter__value_small\">+1</span></div> <span title=\"Views\" class=\"tm-icon-counter tm-data-icons__item\"><svg height=\"16\" width=\"16\" class=\"tm-svg-img tm-icon-counter__icon\"><title>Views</title> <use xlink:href=\"/img/megazord-v24.cee85629.svg#counter-views\"></use></svg> <span class=\"tm-icon-counter__value\">700</span></span> <button title=\"Add to bookmarks\" type=\"button\" class=\"bookmarks-button tm-data-icons__item\"><span title=\"Add to bookmarks\" class=\"tm-svg-icon__wrapper bookmarks-button__icon\"><svg height=\"16\" width=\"16\" class=\"tm-svg-img tm-svg-icon\"><title>Add to bookmarks</title> <use xlink:href=\"/img/megazord-v24.cee85629.svg#counter-favorite\"></use></svg></span> <span title=\"Users added post to bookmarks\" class=\"bookmarks-button__counter\">\\n    2\\n  </span></button> <div title=\"Read comments\" class=\"tm-article-comments-counter-link tm-data-icons__item\"><a href=\"/en/post/577978/comments/\" class=\"tm-article-comments-counter-link__link\"><svg height=\"16\" width=\"16\" class=\"tm-svg-img tm-article-comments-counter-link__icon\"><title>Comments</title> <use xlink:href=\"/img/megazord-v24.cee85629.svg#counter-comments\"></use></svg> <span class=\"tm-article-comments-counter-link__value\">\\n      2\\n    </span></a> <!----></div> <!----> <DIV class=\"v-portal\" style=\"display:none;\"></DIV></div></article> <div class=\"tm-articles-list__after-article\"><div class=\"tm-article-feed-blocks\"><!----></div></div><!----> <article id=\"577666\" data-navigatable=\"\" tabindex=\"0\" class=\"tm-articles-list__item\"><div class=\"tm-article-snippet\"><div class=\"tm-article-snippet__meta-container\"><div class=\"tm-article-snippet__meta\"><span class=\"tm-user-info tm-article-snippet__author\"><a href=\"/en/users/frontwise/\" title=\"frontwise\" class=\"tm-user-info__userpic\"><div class=\"tm-entity-image\"><img alt=\"\" height=\"24\" loading=\"lazy\" src=\"//habrastorage.org/r/w32/getpro/habr/avatars/721/37d/e84/72137de849a0bd4cc249761399719568.jpg\" width=\"24\" class=\"tm-entity-image__pic\"></div></a> <span class=\"tm-user-info__user\"><a href=\"/en/users/frontwise/\" class=\"tm-user-info__username\">\\n      frontwise\\n    </a> </span></span> <span class=\"tm-article-snippet__datetime-published\"><time datetime=\"2021-09-14T18:09:20.000Z\" title=\"2021-09-14, 21:09\">14  September   at 21:09</time></span></div> <!----></div> <h2 class=\"tm-article-snippet__title tm-article-snippet__title_h2\"><a href=\"/en/post/577666/\" data-article-link=\"\" class=\"tm-article-snippet__title-link\"><span>UAVCAN HITL UAV Simulator for PX4</span></a></h2> <div class=\"tm-article-snippet__hubs\"><span class=\"tm-article-snippet__hubs-item\"><a href=\"/en/hub/robo_dev/\" class=\"tm-article-snippet__hubs-item-link\"><span>Robotics development</span> <span title=\"Core hub\" class=\"tm-article-snippet__profiled-hub\">*</span></a></span><span class=\"tm-article-snippet__hubs-item\"><a href=\"/en/hub/controllers/\" class=\"tm-article-snippet__hubs-item-link\"><span>Programming microcontrollers</span> <span title=\"Core hub\" class=\"tm-article-snippet__profiled-hub\">*</span></a></span><span class=\"tm-article-snippet__hubs-item\"><a href=\"/en/hub/electronics/\" class=\"tm-article-snippet__hubs-item-link\"><span>Manufacture and development of electronics</span> <span title=\"Core hub\" class=\"tm-article-snippet__profiled-hub\">*</span></a></span><span class=\"tm-article-snippet__hubs-item\"><a href=\"/en/hub/robot/\" class=\"tm-article-snippet__hubs-item-link\"><span>Robotics</span> <!----></a></span><span class=\"tm-article-snippet__hubs-item\"><a href=\"/en/hub/multicopters/\" class=\"tm-article-snippet__hubs-item-link\"><span>Multicopters</span> <!----></a></span></div> <!----> <!----> <div class=\"tm-article-body tm-article-snippet__lead\"><div class=\"tm-article-snippet__cover tm-article-snippet__cover_cover\"><img src=\"https://habrastorage.org/getpro/habr/upload_files/1bf/769/f23/1bf769f2307a189c26460d70493055bd.jpg\" class=\"tm-article-snippet__lead-image\" style=\"object-position:0% 0%;\"></div> <div class=\"article-formatted-body article-formatted-body_version-2\"><p>Hi from&nbsp;<a href=\"http://raccoonlab.org/\" rel=\"noopener noreferrer nofollow\">RaccoonLab</a>, a team of enthusiasts in field robotics! We want to share our true-HITL UAVCAN-based simulator for PX4.</p><p>We believe a unified UAVCAN bus for drone onboard electronics will become a mainstream approach shortly. Our simulator is already based on UAVCAN (in opposition to UART-MAVLINK) and emulates exactly the same messages as real UAVCAN-sensors.</p></div> <a href=\"/en/post/577666/\" class=\"tm-article-snippet__readmore\"><span>Read more</span></a></div></div> <div class=\"tm-data-icons\"><!----> <div class=\"tm-votes-meter tm-data-icons__item\"><svg height=\"16\" width=\"16\" class=\"tm-svg-img tm-votes-meter__icon tm-votes-meter__icon_small\"><title>Total votes 2: \\xe2\\x86\\x912 and \\xe2\\x86\\x930</title> <use xlink:href=\"/img/megazord-v24.cee85629.svg#counter-rating\"></use></svg> <span title=\"Total votes 2: \\xe2\\x86\\x912 and \\xe2\\x86\\x930\" class=\"tm-votes-meter__value tm-votes-meter__value_positive tm-votes-meter__value_small\">+2</span></div> <span title=\"Views\" class=\"tm-icon-counter tm-data-icons__item\"><svg height=\"16\" width=\"16\" class=\"tm-svg-img tm-icon-counter__icon\"><title>Views</title> <use xlink:href=\"/img/megazord-v24.cee85629.svg#counter-views\"></use></svg> <span class=\"tm-icon-counter__value\">835</span></span> <button title=\"Add to bookmarks\" type=\"button\" class=\"bookmarks-button tm-data-icons__item\"><span title=\"Add to bookmarks\" class=\"tm-svg-icon__wrapper bookmarks-button__icon\"><svg height=\"16\" width=\"16\" class=\"tm-svg-img tm-svg-icon\"><title>Add to bookmarks</title> <use xlink:href=\"/img/megazord-v24.cee85629.svg#counter-favorite\"></use></svg></span> <span title=\"Users added post to bookmarks\" class=\"bookmarks-button__counter\">\\n    1\\n  </span></button> <div title=\"Read comments\" class=\"tm-article-comments-counter-link tm-data-icons__item\"><a href=\"/en/post/577666/comments/\" class=\"tm-article-comments-counter-link__link\"><svg height=\"16\" width=\"16\" class=\"tm-svg-img tm-article-comments-counter-link__icon\"><title>Comments</title> <use xlink:href=\"/img/megazord-v24.cee85629.svg#counter-comments\"></use></svg> <span class=\"tm-article-comments-counter-link__value\">\\n      0\\n    </span></a> <!----></div> <!----> <DIV class=\"v-portal\" style=\"display:none;\"></DIV></div></article> <div class=\"tm-articles-list__after-article\"><!----></div><!----> <article id=\"575632\" data-navigatable=\"\" tabindex=\"0\" class=\"tm-articles-list__item\"><div class=\"tm-article-snippet\"><div class=\"tm-article-snippet__meta-container\"><div class=\"tm-article-snippet__meta\"><span class=\"tm-user-info tm-article-snippet__author\"><a href=\"/en/users/vikky13/\" title=\"vikky13\" class=\"tm-user-info__userpic\"><div class=\"tm-entity-image\"><img alt=\"\" height=\"24\" loading=\"lazy\" src=\"//habrastorage.org/r/w32/getpro/habr/avatars/a65/b6f/81a/a65b6f81ab26992ba045dba3fd64ac19.jpg\" width=\"24\" class=\"tm-entity-image__pic\"></div></a> <span class=\"tm-user-info__user\"><a href=\"/en/users/vikky13/\" class=\"tm-user-info__username\">\\n      vikky13\\n    </a> </span></span> <span class=\"tm-article-snippet__datetime-published\"><time datetime=\"2021-09-13T06:40:12.000Z\" title=\"2021-09-13, 09:40\">13  September   at 09:40</time></span></div> <!----></div> <h2 class=\"tm-article-snippet__title tm-article-snippet__title_h2\"><a href=\"/en/company/intel/blog/575632/\" data-article-link=\"\" class=\"tm-article-snippet__title-link\"><span>Access the power of hardware accelerated video codecs in your Windows applications via FFmpeg / libavcodec</span></a></h2> <div class=\"tm-article-snippet__hubs\"><span class=\"tm-article-snippet__hubs-item\"><a href=\"/en/company/intel/blog/\" class=\"tm-article-snippet__hubs-item-link\"><span>Intel corporate blog</span> <!----></a></span><span class=\"tm-article-snippet__hubs-item\"><a href=\"/en/hub/video/\" class=\"tm-article-snippet__hubs-item-link\"><span>Working with video</span> <span title=\"Core hub\" class=\"tm-article-snippet__profiled-hub\">*</span></a></span><span class=\"tm-article-snippet__hubs-item\"><a href=\"/en/hub/programming/\" class=\"tm-article-snippet__hubs-item-link\"><span>Programming</span> <span title=\"Core hub\" class=\"tm-article-snippet__profiled-hub\">*</span></a></span></div> <div class=\"tm-article-snippet__labels\"><div class=\"tm-article-snippet__label\"><span>\\n        Tutorial\\n      </span></div></div> <!----> <div class=\"tm-article-body tm-article-snippet__lead\"><!----> <div class=\"article-formatted-body article-formatted-body_version-1\"><img align=\"left\" src=\"https://habrastorage.org/webt/eh/jl/vp/ehjlvpx7wzedre58li_te2wqkrs.png\">Since 2011 all Intel GPUs (integrated and discrete Intel Graphics products) include Intel Quick Sync Video (QSV) \\xe2\\x80\\x94 the dedicated hardware core for video encoding and decoding. Intel QSV is supported by all popular video processing applications across multiple OSes including <a href=\"https://www.ffmpeg.org/\" rel=\"nofollow noopener noreferrer\">FFmpeg</a>. The tutorial focuses on Intel QSV based video encoding and decoding acceleration in Windows native (desktop) applications using FFmpeg/<a href=\"https://en.wikipedia.org/wiki/Libavcodec\" rel=\"nofollow noopener noreferrer\">libavcodec</a> for video processing. To illustrate concepts described, the open source <a href=\"https://github.com/3DStreamingToolkit/3DStreamingToolkit/\" rel=\"nofollow noopener noreferrer\">3D Streaming Toolkit</a> is used.<br></div> <a href=\"/en/company/intel/blog/575632/\" class=\"tm-article-snippet__readmore\"><span>Read more &rarr;</span></a></div></div> <div class=\"tm-data-icons\"><!----> <div class=\"tm-votes-meter tm-data-icons__item\"><svg height=\"16\" width=\"16\" class=\"tm-svg-img tm-votes-meter__icon tm-votes-meter__icon_small\"><title>Total votes 3: \\xe2\\x86\\x913 and \\xe2\\x86\\x930</title> <use xlink:href=\"/img/megazord-v24.cee85629.svg#counter-rating\"></use></svg> <span title=\"Total votes 3: \\xe2\\x86\\x913 and \\xe2\\x86\\x930\" class=\"tm-votes-meter__value tm-votes-meter__value_positive tm-votes-meter__value_small\">+3</span></div> <span title=\"Views\" class=\"tm-icon-counter tm-data-icons__item\"><svg height=\"16\" width=\"16\" class=\"tm-svg-img tm-icon-counter__icon\"><title>Views</title> <use xlink:href=\"/img/megazord-v24.cee85629.svg#counter-views\"></use></svg> <span class=\"tm-icon-counter__value\">635</span></span> <button title=\"Add to bookmarks\" type=\"button\" class=\"bookmarks-button tm-data-icons__item\"><span title=\"Add to bookmarks\" class=\"tm-svg-icon__wrapper bookmarks-button__icon\"><svg height=\"16\" width=\"16\" class=\"tm-svg-img tm-svg-icon\"><title>Add to bookmarks</title> <use xlink:href=\"/img/megazord-v24.cee85629.svg#counter-favorite\"></use></svg></span> <span title=\"Users added post to bookmarks\" class=\"bookmarks-button__counter\">\\n    2\\n  </span></button> <div title=\"Read comments\" class=\"tm-article-comments-counter-link tm-data-icons__item\"><a href=\"/en/company/intel/blog/575632/comments/\" class=\"tm-article-comments-counter-link__link\"><svg height=\"16\" width=\"16\" class=\"tm-svg-img tm-article-comments-counter-link__icon\"><title>Comments</title> <use xlink:href=\"/img/megazord-v24.cee85629.svg#counter-comments\"></use></svg> <span class=\"tm-article-comments-counter-link__value\">\\n      0\\n    </span></a> <!----></div> <!----> <DIV class=\"v-portal\" style=\"display:none;\"></DIV></div></article> <div class=\"tm-articles-list__after-article\"><!----></div><!----> <article id=\"577208\" data-navigatable=\"\" tabindex=\"0\" class=\"tm-articles-list__item\"><div class=\"tm-article-snippet\"><div class=\"tm-article-snippet__meta-container\"><div class=\"tm-article-snippet__meta\"><span class=\"tm-user-info tm-article-snippet__author\"><a href=\"/en/users/Armmaster/\" title=\"Armmaster\" class=\"tm-user-info__userpic\"><div class=\"tm-entity-image\"><svg height=\"24\" width=\"24\" class=\"tm-svg-img tm-image-placeholder tm-image-placeholder_blue\"><!----> <use xlink:href=\"/img/megazord-v24.cee85629.svg#placeholder-user\"></use></svg></div></a> <span class=\"tm-user-info__user\"><a href=\"/en/users/Armmaster/\" class=\"tm-user-info__username\">\\n      Armmaster\\n    </a> </span></span> <span class=\"tm-article-snippet__datetime-published\"><time datetime=\"2021-09-10T09:30:02.000Z\" title=\"2021-09-10, 12:30\">10  September   at 12:30</time></span></div> <!----></div> <h2 class=\"tm-article-snippet__title tm-article-snippet__title_h2\"><a href=\"/en/company/huawei/blog/577208/\" data-article-link=\"\" class=\"tm-article-snippet__title-link\"><span>Comparing Huawei ExaGear to Apple\\'s Rosetta 2 and Microsoft\\'s solution</span></a></h2> <div class=\"tm-article-snippet__hubs\"><span class=\"tm-article-snippet__hubs-item\"><a href=\"/en/company/huawei/blog/\" class=\"tm-article-snippet__hubs-item-link\"><span>Huawei corporate blog</span> <!----></a></span><span class=\"tm-article-snippet__hubs-item\"><a href=\"/en/hub/compilers/\" class=\"tm-article-snippet__hubs-item-link\"><span>Compilers</span> <span title=\"Core hub\" class=\"tm-article-snippet__profiled-hub\">*</span></a></span><span class=\"tm-article-snippet__hubs-item\"><a href=\"/en/hub/cpu/\" class=\"tm-article-snippet__hubs-item-link\"><span>CPU</span> <!----></a></span></div> <div class=\"tm-article-snippet__labels\"><div class=\"tm-article-snippet__label\"><span>\\n        Translation\\n      </span></div></div> <!----> <div class=\"tm-article-body tm-article-snippet__lead\"><!----> <div class=\"article-formatted-body article-formatted-body_version-2\"><p>November 10, 2020 was in many ways a landmark event in the microprocessor industry: Apple unveiled its new Mac Mini, the main feature of which was the new M1 chip, developed in-house. It is not an exaggeration to say that this processor is a landmark achievement for the ARM ecosystem: finally an ARM architecture chip whose performance surpassed x86 architecture chips from competitors such as Intel, a niche that had been dominated for decades.</p><p>But the main interest for us is not the M1 processor itself, but the Rosetta 2 binary translation technology. This allows the user to run legacy x86 software that has not been migrated to the ARM architecture. Apple has a lot of experience in developing binary translation solutions and is a recognized leader in this area. The first version of the Rosetta binary translator appeared in 2006 were it aided Apple in the transition from PowerPC to x86 architecture. Although this time platforms were different from those of 2006, it was obvious that all the experience that Apple engineers had accumulated over the years, was not lost, but used to develop the next version - Rosetta 2. </p><p>We were keen to compare this new solution from Apple, a similar product Huawei ExaGear (with its lineage from Eltechs ExaGear) developed by our team. At the same time, we evaluated the performance of binary translation from x86 to Arm provided by Microsoft (part of MS Windows 10 for Arm devices) on the Huawei MateBook E laptop. At present, these are the only other x86 to Arm binary translation solution that we are aware of on the open market.</p></div> <a href=\"/en/company/huawei/blog/577208/\" class=\"tm-article-snippet__readmore\"><span>Read more</span></a></div></div> <div class=\"tm-data-icons\"><!----> <div class=\"tm-votes-meter tm-data-icons__item\"><svg height=\"16\" width=\"16\" class=\"tm-svg-img tm-votes-meter__icon tm-votes-meter__icon_small\"><title>Total votes 2: \\xe2\\x86\\x912 and \\xe2\\x86\\x930</title> <use xlink:href=\"/img/megazord-v24.cee85629.svg#counter-rating\"></use></svg> <span title=\"Total votes 2: \\xe2\\x86\\x912 and \\xe2\\x86\\x930\" class=\"tm-votes-meter__value tm-votes-meter__value_positive tm-votes-meter__value_small\">+2</span></div> <span title=\"Views\" class=\"tm-icon-counter tm-data-icons__item\"><svg height=\"16\" width=\"16\" class=\"tm-svg-img tm-icon-counter__icon\"><title>Views</title> <use xlink:href=\"/img/megazord-v24.cee85629.svg#counter-views\"></use></svg> <span class=\"tm-icon-counter__value\">1.1K</span></span> <button title=\"Add to bookmarks\" type=\"button\" class=\"bookmarks-button tm-data-icons__item\"><span title=\"Add to bookmarks\" class=\"tm-svg-icon__wrapper bookmarks-button__icon\"><svg height=\"16\" width=\"16\" class=\"tm-svg-img tm-svg-icon\"><title>Add to bookmarks</title> <use xlink:href=\"/img/megazord-v24.cee85629.svg#counter-favorite\"></use></svg></span> <span title=\"Users added post to bookmarks\" class=\"bookmarks-button__counter\">\\n    0\\n  </span></button> <div title=\"Read comments\" class=\"tm-article-comments-counter-link tm-data-icons__item\"><a href=\"/en/company/huawei/blog/577208/comments/\" class=\"tm-article-comments-counter-link__link\"><svg height=\"16\" width=\"16\" class=\"tm-svg-img tm-article-comments-counter-link__icon\"><title>Comments</title> <use xlink:href=\"/img/megazord-v24.cee85629.svg#counter-comments\"></use></svg> <span class=\"tm-article-comments-counter-link__value\">\\n      0\\n    </span></a> <!----></div> <!----> <DIV class=\"v-portal\" style=\"display:none;\"></DIV></div></article> <div class=\"tm-articles-list__after-article\"><!----></div><!----> <article id=\"577040\" data-navigatable=\"\" tabindex=\"0\" class=\"tm-articles-list__item\"><div class=\"tm-article-snippet\"><div class=\"tm-article-snippet__meta-container\"><div class=\"tm-article-snippet__meta\"><span class=\"tm-user-info tm-article-snippet__author\"><a href=\"/en/users/Shapelez/\" title=\"Shapelez\" class=\"tm-user-info__userpic\"><div class=\"tm-entity-image\"><img alt=\"\" height=\"24\" loading=\"lazy\" src=\"//habrastorage.org/r/w32/getpro/habr/avatars/803/5e1/6eb/8035e16eb2a755688d69bb677570e42f.jpg\" width=\"24\" class=\"tm-entity-image__pic\"></div></a> <span class=\"tm-user-info__user\"><a href=\"/en/users/Shapelez/\" class=\"tm-user-info__username\">\\n      Shapelez\\n    </a> </span></span> <span class=\"tm-article-snippet__datetime-published\"><time datetime=\"2021-09-09T09:02:13.000Z\" title=\"2021-09-09, 12:02\">9  September   at 12:02</time></span></div> <!----></div> <h2 class=\"tm-article-snippet__title tm-article-snippet__title_h2\"><a href=\"/en/company/yandex/blog/577040/\" data-article-link=\"\" class=\"tm-article-snippet__title-link\"><span>M\\xc4\\x93ris botnet, climbing to the record</span></a></h2> <div class=\"tm-article-snippet__hubs\"><span class=\"tm-article-snippet__hubs-item\"><a href=\"/en/company/yandex/blog/\" class=\"tm-article-snippet__hubs-item-link\"><span>\\xd0\\xaf\\xd0\\xbd\\xd0\\xb4\\xd0\\xb5\\xd0\\xba\\xd1\\x81 corporate blog</span> <!----></a></span><span class=\"tm-article-snippet__hubs-item\"><a href=\"/en/company/qrator/blog/\" class=\"tm-article-snippet__hubs-item-link\"><span>Qrator Labs corporate blog</span> <!----></a></span><span class=\"tm-article-snippet__hubs-item\"><a href=\"/en/hub/infosecurity/\" class=\"tm-article-snippet__hubs-item-link\"><span>Information Security</span> <span title=\"Core hub\" class=\"tm-article-snippet__profiled-hub\">*</span></a></span><span class=\"tm-article-snippet__hubs-item\"><a href=\"/en/hub/it-infrastructure/\" class=\"tm-article-snippet__hubs-item-link\"><span>IT Infrastructure</span> <span title=\"Core hub\" class=\"tm-article-snippet__profiled-hub\">*</span></a></span><span class=\"tm-article-snippet__hubs-item\"><a href=\"/en/hub/network_technologies/\" class=\"tm-article-snippet__hubs-item-link\"><span>Network technologies</span> <span title=\"Core hub\" class=\"tm-article-snippet__profiled-hub\">*</span></a></span></div> <!----> <!----> <div class=\"tm-article-body tm-article-snippet__lead\"><div class=\"tm-article-snippet__cover tm-article-snippet__cover_cover\"><img src=\"https://habrastorage.org/getpro/habr/upload_files/c62/aee/15f/c62aee15ff71939025d77951f8b78701.png\" class=\"tm-article-snippet__lead-image\" style=\"object-position:0% 0%;\"></div> <div class=\"article-formatted-body article-formatted-body_version-2\"><p><strong>Introduction</strong></p><p>For the last five years, there have virtually been almost no global-scale application-layer attacks.</p><p>During this period, the industry has learned how to cope with the high bandwidth network layer attacks, including amplification-based ones. It does not mean that botnets are now harmless.</p><p>End of June 2021, Qrator Labs started to see signs of a new assaulting force on the Internet \\xe2\\x80\\x93 a botnet of a new kind. That is a joint research we conducted together with Yandex to elaborate on the specifics of the DDoS attacks enabler emerging in almost real-time.</p></div> <a href=\"/en/company/yandex/blog/577040/\" class=\"tm-article-snippet__readmore\"><span>Read more</span></a></div></div> <div class=\"tm-data-icons\"><!----> <div class=\"tm-votes-meter tm-data-icons__item\"><svg height=\"16\" width=\"16\" class=\"tm-svg-img tm-votes-meter__icon tm-votes-meter__icon_small\"><title>Total votes 28: \\xe2\\x86\\x9128 and \\xe2\\x86\\x930</title> <use xlink:href=\"/img/megazord-v24.cee85629.svg#counter-rating\"></use></svg> <span title=\"Total votes 28: \\xe2\\x86\\x9128 and \\xe2\\x86\\x930\" class=\"tm-votes-meter__value tm-votes-meter__value_positive tm-votes-meter__value_small\">+28</span></div> <span title=\"Views\" class=\"tm-icon-counter tm-data-icons__item\"><svg height=\"16\" width=\"16\" class=\"tm-svg-img tm-icon-counter__icon\"><title>Views</title> <use xlink:href=\"/img/megazord-v24.cee85629.svg#counter-views\"></use></svg> <span class=\"tm-icon-counter__value\">13K</span></span> <button title=\"Add to bookmarks\" type=\"button\" class=\"bookmarks-button tm-data-icons__item\"><span title=\"Add to bookmarks\" class=\"tm-svg-icon__wrapper bookmarks-button__icon\"><svg height=\"16\" width=\"16\" class=\"tm-svg-img tm-svg-icon\"><title>Add to bookmarks</title> <use xlink:href=\"/img/megazord-v24.cee85629.svg#counter-favorite\"></use></svg></span> <span title=\"Users added post to bookmarks\" class=\"bookmarks-button__counter\">\\n    4\\n  </span></button> <div title=\"Read comments\" class=\"tm-article-comments-counter-link tm-data-icons__item\"><a href=\"/en/company/yandex/blog/577040/comments/\" class=\"tm-article-comments-counter-link__link\"><svg height=\"16\" width=\"16\" class=\"tm-svg-img tm-article-comments-counter-link__icon\"><title>Comments</title> <use xlink:href=\"/img/megazord-v24.cee85629.svg#counter-comments\"></use></svg> <span class=\"tm-article-comments-counter-link__value\">\\n      0\\n    </span></a> <!----></div> <!----> <DIV class=\"v-portal\" style=\"display:none;\"></DIV></div></article> <div class=\"tm-articles-list__after-article\"><!----></div></div> <!----> <div class=\"tm-pagination\"><div id=\"pagination-prev-page\" data-pagination-prev=\"\" rel=\"prev\" class=\"tm-pagination__navigation-link\"><svg height=\"16\" width=\"16\" class=\"tm-svg-img tm-pagination__arrow tm-pagination__arrow_prev\"><title>Back</title> <use xlink:href=\"/img/megazord-v24.cee85629.svg#arrow-back\"></use></svg> <span class=\"tm-pagination__navigation-link-title\">\\n      Here\\n    </span></div> <div class=\"tm-pagination__pages\"> <span class=\"tm-pagination__page tm-pagination__page_current\">\\n      1\\n    </span> <div class=\"tm-pagination__page-group\"><a href=\"/en/all/page2/\" class=\"tm-pagination__page\">\\n        2\\n      </a><a href=\"/en/all/page3/\" class=\"tm-pagination__page\">\\n        3\\n      </a> <span class=\"tm-pagination__page tm-pagination__page_skip\">\\n        ...\\n      </span></div><div class=\"tm-pagination__page-group\"><a href=\"/en/all/page49/\" class=\"tm-pagination__page\">\\n        49\\n      </a><a href=\"/en/all/page50/\" class=\"tm-pagination__page\">\\n        50\\n      </a> <!----></div></div> <a href=\"/en/all/page2/\" id=\"pagination-next-page\" data-pagination-next=\"\" rel=\"next\" class=\"tm-pagination__navigation-link tm-pagination__navigation-link_active\"><span class=\"tm-pagination__navigation-link-title\">\\n      There\\n    </span> <svg height=\"16\" width=\"16\" class=\"tm-svg-img tm-pagination__arrow tm-pagination__arrow_next\"><title>Back</title> <use xlink:href=\"/img/megazord-v24.cee85629.svg#arrow-back\"></use></svg></a></div></div></div></div></div> <div class=\"tm-page__sidebar\"><div data-async-called=\"true\" class=\"tm-layout-sidebar\"><div class=\"tm-layout-sidebar__ads tm-layout-sidebar__ads_initial\"><div class=\"tm-ad-banner__container tm-layout-sidebar__banner\"><!----> <div id=\"sidebarBanner\" class=\"tm-ad-banner\"></div></div></div> <div class=\"tm-sexy-sidebar tm-sexy-sidebar_initial\" style=\"margin-top:0px;\"><section class=\"tm-block tm-block_spacing-bottom\"><header class=\"tm-block__header\"><h2 class=\"tm-block__title\">Top blogs</h2> <!----></header> <div class=\"tm-block__body\"><div class=\"tm-companies-rating\"><a href=\"/en/company/ruvds/blog/\" class=\"tm-companies-rating__item\"><div class=\"tm-entity-image tm-companies-rating__avatar\"><img alt=\"\" height=\"36\" src=\"//habrastorage.org/getpro/habr/company/f27/ea8/5bd/f27ea85bd62fbd985c308110885af7e0.png\" width=\"36\" class=\"tm-entity-image__pic\"></div> <span class=\"tm-companies-rating__name\">RUVDS.com</span> <span class=\"tm-companies-rating__rating\">3388.02</span></a><a href=\"/en/company/selectel/blog/\" class=\"tm-companies-rating__item\"><div class=\"tm-entity-image tm-companies-rating__avatar\"><img alt=\"\" height=\"36\" src=\"//habrastorage.org/getpro/habr/company/66a/f7d/039/66af7d03979b6d18654293d8f1e72837.png\" width=\"36\" class=\"tm-entity-image__pic\"></div> <span class=\"tm-companies-rating__name\">Selectel</span> <span class=\"tm-companies-rating__rating\">1388.17</span></a><a href=\"/en/company/timeweb/blog/\" class=\"tm-companies-rating__item\"><div class=\"tm-entity-image tm-companies-rating__avatar\"><img alt=\"\" height=\"36\" src=\"//habrastorage.org/getpro/habr/company/b5b/7e1/c48/b5b7e1c4819388606f1a3c7ed1d2373a.jpg\" width=\"36\" class=\"tm-entity-image__pic\"></div> <span class=\"tm-companies-rating__name\">Timeweb</span> <span class=\"tm-companies-rating__rating\">952.36</span></a><a href=\"/en/company/yandex/blog/\" class=\"tm-companies-rating__item\"><div class=\"tm-entity-image tm-companies-rating__avatar\"><img alt=\"\" height=\"36\" src=\"//habrastorage.org/getpro/habr/company/b02/d9b/1d4/b02d9b1d4a6e64ff069e2ab32fdedae2.png\" width=\"36\" class=\"tm-entity-image__pic\"></div> <span class=\"tm-companies-rating__name\">\\xd0\\xaf\\xd0\\xbd\\xd0\\xb4\\xd0\\xb5\\xd0\\xba\\xd1\\x81</span> <span class=\"tm-companies-rating__rating\">708.58</span></a><a href=\"/en/company/domclick/blog/\" class=\"tm-companies-rating__item\"><div class=\"tm-entity-image tm-companies-rating__avatar\"><img alt=\"\" height=\"36\" src=\"//habrastorage.org/getpro/habr/company/d28/115/f55/d28115f5503229d4f9018292fabd1840.jpg\" width=\"36\" class=\"tm-entity-image__pic\"></div> <span class=\"tm-companies-rating__name\">\\xd0\\x94\\xd0\\xbe\\xd0\\xbc\\xd0\\xba\\xd0\\xbb\\xd0\\xb8\\xd0\\xba</span> <span class=\"tm-companies-rating__rating\">657.81</span></a><a href=\"/en/company/lamptest/blog/\" class=\"tm-companies-rating__item\"><div class=\"tm-entity-image tm-companies-rating__avatar\"><img alt=\"\" height=\"36\" src=\"//habrastorage.org/getpro/geektimes/company/faa/8f3/29f/faa8f329f54ab8821c7f2d1459ec2bda.jpg\" width=\"36\" class=\"tm-entity-image__pic\"></div> <span class=\"tm-companies-rating__name\">LampTest</span> <span class=\"tm-companies-rating__rating\">646.77</span></a><a href=\"/en/company/croc/blog/\" class=\"tm-companies-rating__item\"><div class=\"tm-entity-image tm-companies-rating__avatar\"><img alt=\"\" height=\"36\" src=\"//habrastorage.org/getpro/habr/company/5b6/5b7/955/5b65b7955dca146a7fa4bda37463bc04.png\" width=\"36\" class=\"tm-entity-image__pic\"></div> <span class=\"tm-companies-rating__name\">\\xd0\\x9a\\xd0\\xa0\\xd0\\x9e\\xd0\\x9a</span> <span class=\"tm-companies-rating__rating\">436.24</span></a><a href=\"/en/company/habr/blog/\" class=\"tm-companies-rating__item\"><div class=\"tm-entity-image tm-companies-rating__avatar\"><img alt=\"\" height=\"36\" src=\"//habrastorage.org/getpro/habr/company/075/e25/e71/075e25e71073e14733fe91726932789a.png\" width=\"36\" class=\"tm-entity-image__pic\"></div> <span class=\"tm-companies-rating__name\">Habr</span> <span class=\"tm-companies-rating__rating\">435.92</span></a><a href=\"/en/company/itsoft/blog/\" class=\"tm-companies-rating__item\"><div class=\"tm-entity-image tm-companies-rating__avatar\"><img alt=\"\" height=\"36\" src=\"//habrastorage.org/getpro/habr/company/f48/d46/029/f48d460297f1a9fe1a9e3e0a1e7aedc9.png\" width=\"36\" class=\"tm-entity-image__pic\"></div> <span class=\"tm-companies-rating__name\">ITSOFT</span> <span class=\"tm-companies-rating__rating\">358.63</span></a><a href=\"/en/company/qrator/blog/\" class=\"tm-companies-rating__item\"><div class=\"tm-entity-image tm-companies-rating__avatar\"><img alt=\"\" height=\"36\" src=\"//habrastorage.org/getpro/habr/company/631/c46/c29/631c46c29ef344796e29f261da2b0662.png\" width=\"36\" class=\"tm-entity-image__pic\"></div> <span class=\"tm-companies-rating__name\">Qrator Labs</span> <span class=\"tm-companies-rating__rating\">347.93</span></a></div></div> <footer class=\"tm-block__footer\"><a href=\"/en/companies/\" class=\"tm-block-extralink\">\\n      All companies\\n    </a></footer></section> <!----></div></div></div></div></div></div></main> <!----></div> <div class=\"tm-footer-menu\"><div class=\"tm-page-width\"><div class=\"tm-footer-menu__container\"><div class=\"tm-footer-menu__block\"><h3 class=\"tm-footer-menu__block-title\">\\n          Your account\\n        </h3> <div class=\"tm-footer-menu__block-content\"><ul class=\"tm-footer-menu__list\"><li class=\"tm-footer-menu__list-item\"><a href=\"/kek/v1/auth/habrahabr/?back=/en/all/&amp;hl=en\" rel=\"nofollow\" target=\"_self\">\\n                Log in\\n              </a></li><li class=\"tm-footer-menu__list-item\"><a href=\"/kek/v1/auth/habrahabr-register/?back=/en/all/&amp;hl=en\" rel=\"nofollow\" target=\"_self\">\\n                Sign up\\n              </a></li></ul></div></div><div class=\"tm-footer-menu__block\"><h3 class=\"tm-footer-menu__block-title\">\\n          Sections\\n        </h3> <div class=\"tm-footer-menu__block-content\"><ul class=\"tm-footer-menu__list\"><li class=\"tm-footer-menu__list-item\"><a href=\"/en/\" class=\"footer-menu__item-link router-link-active\">\\n                Posts\\n              </a></li><li class=\"tm-footer-menu__list-item\"><a href=\"/en/news/\" class=\"footer-menu__item-link\">\\n                News\\n              </a></li><li class=\"tm-footer-menu__list-item\"><a href=\"/en/hubs/\" class=\"footer-menu__item-link\">\\n                Hubs\\n              </a></li><li class=\"tm-footer-menu__list-item\"><a href=\"/en/companies/\" class=\"footer-menu__item-link\">\\n                Companies\\n              </a></li><li class=\"tm-footer-menu__list-item\"><a href=\"/en/users/\" class=\"footer-menu__item-link\">\\n                Authors\\n              </a></li><li class=\"tm-footer-menu__list-item\"><a href=\"/en/sandbox/\" class=\"footer-menu__item-link\">\\n                Sandbox\\n              </a></li></ul></div></div><div class=\"tm-footer-menu__block\"><h3 class=\"tm-footer-menu__block-title\">\\n          Information\\n        </h3> <div class=\"tm-footer-menu__block-content\"><ul class=\"tm-footer-menu__list\"><li class=\"tm-footer-menu__list-item\"><a href=\"/en/docs/help/\" class=\"footer-menu__item-link\">\\n                How it works\\n              </a></li><li class=\"tm-footer-menu__list-item\"><a href=\"/en/docs/authors/codex/\" class=\"footer-menu__item-link\">\\n                For authors\\n              </a></li><li class=\"tm-footer-menu__list-item\"><a href=\"/en/docs/companies/corpblogs/\" class=\"footer-menu__item-link\">\\n                For companies\\n              </a></li><li class=\"tm-footer-menu__list-item\"><a href=\"/en/docs/docs/transparency/\" class=\"footer-menu__item-link\">\\n                Documents\\n              </a></li><li class=\"tm-footer-menu__list-item\"><a href=\"https://account.habr.com/info/agreement\" target=\"_blank\">\\n                Agreement\\n              </a></li><li class=\"tm-footer-menu__list-item\"><a href=\"https://account.habr.com/info/confidential/\" target=\"_blank\">\\n                Confidential\\n              </a></li></ul></div></div><div class=\"tm-footer-menu__block\"><h3 class=\"tm-footer-menu__block-title\">\\n          Services\\n        </h3> <div class=\"tm-footer-menu__block-content\"><ul class=\"tm-footer-menu__list\"><li class=\"tm-footer-menu__list-item\"><a href=\"https://docs.google.com/presentation/d/e/2PACX-1vQLwRfQmXibiUlWaRg-BAc38s7oM3lJiaPju7qmdJsp8ysIvZ_G-Npem0njJLMozE2bPHMpDqiI5hhy/pub?start=false&amp;loop=false&amp;delayms=60000&amp;slide=id.g91a03369cd_4_297\" target=\"_blank\">\\n                Ads\\n              </a></li><li class=\"tm-footer-menu__list-item\"><a href=\"https://habrastorage.org/storage/stuff/habr/service_price.pdf\" target=\"_blank\">\\n                Subscription plans\\n              </a></li><li class=\"tm-footer-menu__list-item\"><a href=\"https://docs.google.com/presentation/d/e/2PACX-1vQJJds8-Di7BQSP_guHxICN7woVYoN5NP_22ra-BIo4bqnTT9FR6fB-Ku2P0AoRpX0Ds-LRkDeAoD8F/pub?start=false&amp;loop=false&amp;delayms=60000\" target=\"_blank\">\\n                Content\\n              </a></li><li class=\"tm-footer-menu__list-item\"><a href=\"https://tmtm.timepad.ru/\" target=\"_blank\">\\n                Seminars\\n              </a></li><li class=\"tm-footer-menu__list-item\"><a href=\"/en/megaprojects/\" class=\"footer-menu__item-link\">\\n                Megaprojects\\n              </a></li></ul></div></div></div></div></div> <div class=\"tm-footer\"><div class=\"tm-page-width\"><div class=\"tm-footer__container\"><!----> <div class=\"tm-footer__social\"><a href=\"https://www.facebook.com/habr.eng\" rel=\"nofollow noopener noreferrer\" target=\"_blank\" class=\"tm-svg-icon__wrapper tm-social-icons__icon\"><svg height=\"16\" width=\"16\" class=\"tm-svg-img tm-svg-icon\"><title>Facebook</title> <use xlink:href=\"/img/social-icons-sprite.svg#social-logo-facebook\"></use></svg></a><a href=\"https://twitter.com/habr_eng\" rel=\"nofollow noopener noreferrer\" target=\"_blank\" class=\"tm-svg-icon__wrapper tm-social-icons__icon\"><svg height=\"16\" width=\"16\" class=\"tm-svg-img tm-svg-icon\"><title>Twitter</title> <use xlink:href=\"/img/social-icons-sprite.svg#social-logo-twitter\"></use></svg></a><a href=\"https://t.me/habr_eng\" rel=\"nofollow noopener noreferrer\" target=\"_blank\" class=\"tm-svg-icon__wrapper tm-social-icons__icon\"><svg height=\"16\" width=\"16\" class=\"tm-svg-img tm-svg-icon\"><title>Telegram</title> <use xlink:href=\"/img/social-icons-sprite.svg#social-logo-telegram\"></use></svg></a></div> <DIV class=\"v-portal\" style=\"display:none;\"></DIV> <button class=\"tm-footer__link\"><!---->\\n        Language settings\\n      </button> <a href=\"/en/about\" class=\"tm-footer__link\">\\n        About\\n      </a> <a href=\"/en/feedback/\" class=\"tm-footer__link\">\\n        Support\\n      </a> <!----> <a href=\"/berserk-mode-nope\" class=\"tm-footer__link\">\\n        Return to old version\\n      </a> <div class=\"tm-footer-copyright\"><span class=\"tm-copyright\"><span class=\"tm-copyright__years\">\\xc2\\xa9 2006\\xe2\\x80\\x932021 </span> <span class=\"tm-copyright__name\">\\xc2\\xab<a href=\"https://company.habr.com/en/\" rel=\"noopener\" target=\"_blank\" class=\"tm-copyright__link\">Habr</a>\\xc2\\xbb</span></span></div></div></div></div> <!----> <!----></div> <div class=\"vue-portal-target\"></div></div>\\n<script>window.__INITIAL_STATE__={\"adblock\":{\"hasAcceptableAdsFilter\":false,\"hasAdblock\":false},\"articlesList\":{\"articlesList\":{\"575632\":{\"id\":\"575632\",\"timePublished\":\"2021-09-13T06:40:12+00:00\",\"isCorporative\":true,\"lang\":\"en\",\"titleHtml\":\"Access the power of hardware accelerated video codecs in your Windows applications via FFmpeg \\\\u002F libavcodec\",\"editorVersion\":\"1.0\",\"postType\":\"article\",\"postLabels\":[{\"type\":\"tutorial\",\"data\":null}],\"author\":{\"id\":\"50708\",\"alias\":\"vikky13\",\"fullname\":\"Victoria Zhislina\",\"avatarUrl\":\"\\\\u002F\\\\u002Fhabrastorage.org\\\\u002Fgetpro\\\\u002Fhabr\\\\u002Favatars\\\\u002Fa65\\\\u002Fb6f\\\\u002F81a\\\\u002Fa65b6f81ab26992ba045dba3fd64ac19.jpg\",\"speciality\":\"\\xd0\\xa1\\xd1\\x82\\xd0\\xb0\\xd1\\x80\\xd1\\x88\\xd0\\xb8\\xd0\\xb9 \\xd0\\xb8\\xd0\\xbd\\xd0\\xb6\\xd0\\xb5\\xd0\\xbd\\xd0\\xb5\\xd1\\x80 \\xd0\\xbf\\xd0\\xbe \\xd0\\xbf\\xd1\\x80\\xd0\\xbe\\xd0\\xb3\\xd1\\x80\\xd0\\xb0\\xd0\\xbc\\xd0\\xbc\\xd0\\xbd\\xd1\\x8b\\xd0\\xbc \\xd1\\x80\\xd0\\xb5\\xd1\\x88\\xd0\\xb5\\xd0\\xbd\\xd0\\xb8\\xd1\\x8f\\xd0\\xbc, Intel\"},\"statistics\":{\"commentsCount\":0,\"favoritesCount\":2,\"readingCount\":635,\"score\":3,\"votesCount\":3},\"hubs\":[{\"relatedData\":null,\"id\":\"5334\",\"alias\":\"intel\",\"type\":\"corporative\",\"title\":\"Intel corporate blog\",\"titleHtml\":\"Intel corporate blog\",\"isProfiled\":false},{\"relatedData\":null,\"id\":\"262\",\"alias\":\"video\",\"type\":\"collective\",\"title\":\"Working with video\",\"titleHtml\":\"Working with video\",\"isProfiled\":true},{\"relatedData\":null,\"id\":\"359\",\"alias\":\"programming\",\"type\":\"collective\",\"title\":\"Programming\",\"titleHtml\":\"Programming\",\"isProfiled\":true}],\"flows\":[{\"id\":\"1\",\"alias\":\"develop\",\"title\":\"Development\"},{\"id\":\"2\",\"alias\":\"design\",\"title\":\"Design\"}],\"relatedData\":null,\"leadData\":{\"textHtml\":\"\\\\u003Cimg align=\\\\\"left\\\\\" src=\\\\\"https:\\\\u002F\\\\u002Fhabrastorage.org\\\\u002Fwebt\\\\u002Feh\\\\u002Fjl\\\\u002Fvp\\\\u002Fehjlvpx7wzedre58li_te2wqkrs.png\\\\\"\\\\u003ESince 2011 all Intel GPUs (integrated and discrete Intel Graphics products) include Intel Quick Sync Video (QSV) \\xe2\\x80\\x94 the dedicated hardware core for video encoding and decoding. Intel QSV is supported by all popular video processing applications across multiple OSes including \\\\u003Ca href=\\\\\"https:\\\\u002F\\\\u002Fwww.ffmpeg.org\\\\u002F\\\\\" rel=\\\\\"nofollow noopener noreferrer\\\\\"\\\\u003EFFmpeg\\\\u003C\\\\u002Fa\\\\u003E. The tutorial focuses on Intel QSV based video encoding and decoding acceleration in Windows native (desktop) applications using FFmpeg\\\\u002F\\\\u003Ca href=\\\\\"https:\\\\u002F\\\\u002Fen.wikipedia.org\\\\u002Fwiki\\\\u002FLibavcodec\\\\\" rel=\\\\\"nofollow noopener noreferrer\\\\\"\\\\u003Elibavcodec\\\\u003C\\\\u002Fa\\\\u003E for video processing. To illustrate concepts described, the open source \\\\u003Ca href=\\\\\"https:\\\\u002F\\\\u002Fgithub.com\\\\u002F3DStreamingToolkit\\\\u002F3DStreamingToolkit\\\\u002F\\\\\" rel=\\\\\"nofollow noopener noreferrer\\\\\"\\\\u003E3D Streaming Toolkit\\\\u003C\\\\u002Fa\\\\u003E is used.\\\\u003Cbr\\\\u003E\",\"imageUrl\":null,\"buttonTextHtml\":\"Read more &rarr;\",\"image\":null},\"status\":\"published\",\"plannedPublishTime\":null,\"checked\":null,\"tags\":[{\"titleHtml\":\"quick sync video\"},{\"titleHtml\":\"QSV\"},{\"titleHtml\":\"FFmpeg\"},{\"titleHtml\":\"libavcodec\"}]},\"577040\":{\"id\":\"577040\",\"timePublished\":\"2021-09-09T09:02:13+00:00\",\"isCorporative\":true,\"lang\":\"en\",\"titleHtml\":\"M\\xc4\\x93ris botnet, climbing to the record\",\"editorVersion\":\"2.0\",\"postType\":\"article\",\"postLabels\":[],\"author\":{\"id\":\"25440\",\"alias\":\"Shapelez\",\"fullname\":\"Alex Shapelez\",\"avatarUrl\":\"\\\\u002F\\\\u002Fhabrastorage.org\\\\u002Fgetpro\\\\u002Fhabr\\\\u002Favatars\\\\u002F803\\\\u002F5e1\\\\u002F6eb\\\\u002F8035e16eb2a755688d69bb677570e42f.jpg\",\"speciality\":\"Storycaster\"},\"statistics\":{\"commentsCount\":0,\"favoritesCount\":4,\"readingCount\":13338,\"score\":28,\"votesCount\":28},\"hubs\":[{\"relatedData\":null,\"id\":\"4991\",\"alias\":\"yandex\",\"type\":\"corporative\",\"title\":\"\\xd0\\xaf\\xd0\\xbd\\xd0\\xb4\\xd0\\xb5\\xd0\\xba\\xd1\\x81 corporate blog\",\"titleHtml\":\"\\xd0\\xaf\\xd0\\xbd\\xd0\\xb4\\xd0\\xb5\\xd0\\xba\\xd1\\x81 corporate blog\",\"isProfiled\":false},{\"relatedData\":null,\"id\":\"11571\",\"alias\":\"qrator\",\"type\":\"corporative\",\"title\":\"Qrator Labs corporate blog\",\"titleHtml\":\"Qrator Labs corporate blog\",\"isProfiled\":false},{\"relatedData\":null,\"id\":\"50\",\"alias\":\"infosecurity\",\"type\":\"collective\",\"title\":\"Information Security\",\"titleHtml\":\"Information Security\",\"isProfiled\":true},{\"relatedData\":null,\"id\":\"6398\",\"alias\":\"it-infrastructure\",\"type\":\"collective\",\"title\":\"IT Infrastructure\",\"titleHtml\":\"IT Infrastructure\",\"isProfiled\":true},{\"relatedData\":null,\"id\":\"17123\",\"alias\":\"network_technologies\",\"type\":\"collective\",\"title\":\"Network technologies\",\"titleHtml\":\"Network technologies\",\"isProfiled\":true}],\"flows\":[{\"id\":\"1\",\"alias\":\"develop\",\"title\":\"Development\"},{\"id\":\"6\",\"alias\":\"admin\",\"title\":\"Administrating\"}],\"relatedData\":null,\"leadData\":{\"textHtml\":\"\\\\u003Cp\\\\u003E\\\\u003Cstrong\\\\u003EIntroduction\\\\u003C\\\\u002Fstrong\\\\u003E\\\\u003C\\\\u002Fp\\\\u003E\\\\u003Cp\\\\u003EFor the last five years, there have virtually been almost no global-scale application-layer attacks.\\\\u003C\\\\u002Fp\\\\u003E\\\\u003Cp\\\\u003EDuring this period, the industry has learned how to cope with the high bandwidth network layer attacks, including amplification-based ones. It does not mean that botnets are now harmless.\\\\u003C\\\\u002Fp\\\\u003E\\\\u003Cp\\\\u003EEnd of June 2021, Qrator Labs started to see signs of a new assaulting force on the Internet \\xe2\\x80\\x93 a botnet of a new kind. That is a joint research we conducted together with Yandex to elaborate on the specifics of the DDoS attacks enabler emerging in almost real-time.\\\\u003C\\\\u002Fp\\\\u003E\",\"imageUrl\":\"https:\\\\u002F\\\\u002Fhabrastorage.org\\\\u002Fgetpro\\\\u002Fhabr\\\\u002Fupload_files\\\\u002Fc62\\\\u002Faee\\\\u002F15f\\\\u002Fc62aee15ff71939025d77951f8b78701.png\",\"buttonTextHtml\":\"Read more\",\"image\":{\"url\":\"https:\\\\u002F\\\\u002Fhabrastorage.org\\\\u002Fgetpro\\\\u002Fhabr\\\\u002Fupload_files\\\\u002Fc62\\\\u002Faee\\\\u002F15f\\\\u002Fc62aee15ff71939025d77951f8b78701.png\",\"fit\":\"cover\",\"positionY\":0,\"positionX\":0}},\"status\":\"published\",\"plannedPublishTime\":null,\"checked\":null,\"tags\":[{\"titleHtml\":\"M\\xc4\\x93ris\"},{\"titleHtml\":\"Yandex\"},{\"titleHtml\":\"ddos\"},{\"titleHtml\":\"Mikrotik\"},{\"titleHtml\":\"Mirai\"},{\"titleHtml\":\"Qrator Labs\"}]},\"577208\":{\"id\":\"577208\",\"timePublished\":\"2021-09-10T09:30:02+00:00\",\"isCorporative\":true,\"lang\":\"en\",\"titleHtml\":\"Comparing Huawei ExaGear to Apple\\'s Rosetta 2 and Microsoft\\'s solution\",\"editorVersion\":\"2.0\",\"postType\":\"article\",\"postLabels\":[{\"type\":\"translation\",\"data\":{\"originalAuthorName\":\"Armmaster\",\"originalUrl\":\"https:\\\\u002F\\\\u002Fhabr.com\\\\u002Fru\\\\u002Fcompany\\\\u002Fhuawei\\\\u002Fblog\\\\u002F577206\\\\u002F\"}}],\"author\":{\"id\":\"877053\",\"alias\":\"Armmaster\",\"fullname\":\"\\xd0\\x9c\\xd0\\xb0\\xd0\\xba\\xd1\\x81\\xd0\\xb8\\xd0\\xbc \\xd0\\x9c\\xd0\\xb0\\xd1\\x81\\xd0\\xbb\\xd0\\xbe\\xd0\\xb2\",\"avatarUrl\":\"\",\"speciality\":\"\"},\"statistics\":{\"commentsCount\":0,\"favoritesCount\":0,\"readingCount\":1141,\"score\":2,\"votesCount\":2},\"hubs\":[{\"relatedData\":null,\"id\":\"19709\",\"alias\":\"huawei\",\"type\":\"corporative\",\"title\":\"Huawei corporate blog\",\"titleHtml\":\"Huawei corporate blog\",\"isProfiled\":false},{\"relatedData\":null,\"id\":\"17188\",\"alias\":\"compilers\",\"type\":\"collective\",\"title\":\"Compilers\",\"titleHtml\":\"Compilers\",\"isProfiled\":true},{\"relatedData\":null,\"id\":\"21956\",\"alias\":\"cpu\",\"type\":\"collective\",\"title\":\"CPU\",\"titleHtml\":\"CPU\",\"isProfiled\":false}],\"flows\":[{\"id\":\"1\",\"alias\":\"develop\",\"title\":\"Development\"},{\"id\":\"7\",\"alias\":\"popsci\",\"title\":\"PopSci\"}],\"relatedData\":null,\"leadData\":{\"textHtml\":\"\\\\u003Cp\\\\u003ENovember 10, 2020 was in many ways a landmark event in the microprocessor industry: Apple unveiled its new Mac Mini, the main feature of which was the new M1 chip, developed in-house. It is not an exaggeration to say that this processor is a landmark achievement for the ARM ecosystem: finally an ARM architecture chip whose performance surpassed x86 architecture chips from competitors such as Intel, a niche that had been dominated for decades.\\\\u003C\\\\u002Fp\\\\u003E\\\\u003Cp\\\\u003EBut the main interest for us is not the M1 processor itself, but the Rosetta 2 binary translation technology. This allows the user to run legacy x86 software that has not been migrated to the ARM architecture. Apple has a lot of experience in developing binary translation solutions and is a recognized leader in this area. The first version of the Rosetta binary translator appeared in 2006 were it aided Apple in the transition from PowerPC to x86 architecture. Although this time platforms were different from those of 2006, it was obvious that all the experience that Apple engineers had accumulated over the years, was not lost, but used to develop the next version - Rosetta 2. \\\\u003C\\\\u002Fp\\\\u003E\\\\u003Cp\\\\u003EWe were keen to compare this new solution from Apple, a similar product Huawei ExaGear (with its lineage from Eltechs ExaGear) developed by our team. At the same time, we evaluated the performance of binary translation from x86 to Arm provided by Microsoft (part of MS Windows 10 for Arm devices) on the Huawei MateBook E laptop. At present, these are the only other x86 to Arm binary translation solution that we are aware of on the open market.\\\\u003C\\\\u002Fp\\\\u003E\",\"imageUrl\":null,\"buttonTextHtml\":\"Read more\",\"image\":null},\"status\":\"published\",\"plannedPublishTime\":null,\"checked\":null,\"tags\":[{\"titleHtml\":\"\\xd0\\xba\\xd0\\xbe\\xd0\\xbc\\xd0\\xbf\\xd0\\xb8\\xd0\\xbb\\xd1\\x8f\\xd1\\x82\\xd0\\xbe\\xd1\\x80\\xd1\\x8b\"},{\"titleHtml\":\"\\xd0\\xbe\\xd0\\xbf\\xd1\\x82\\xd0\\xb8\\xd0\\xbc\\xd0\\xb8\\xd0\\xb7\\xd0\\xb0\\xd1\\x86\\xd0\\xb8\\xd1\\x8f \\xd0\\xba\\xd0\\xbe\\xd0\\xb4\\xd0\\xb0\"},{\"titleHtml\":\"\\xd0\\xb4\\xd0\\xb2\\xd0\\xbe\\xd0\\xb8\\xd1\\x87\\xd0\\xbd\\xd1\\x8b\\xd0\\xb5 \\xd1\\x82\\xd1\\x80\\xd0\\xb0\\xd0\\xbd\\xd1\\x81\\xd0\\xbb\\xd1\\x8f\\xd1\\x82\\xd0\\xbe\\xd1\\x80\\xd1\\x8b\"}]},\"577666\":{\"id\":\"577666\",\"timePublished\":\"2021-09-14T18:09:20+00:00\",\"isCorporative\":false,\"lang\":\"en\",\"titleHtml\":\"UAVCAN HITL UAV Simulator for PX4\",\"editorVersion\":\"2.0\",\"postType\":\"article\",\"postLabels\":[],\"author\":{\"id\":\"15340\",\"alias\":\"frontwise\",\"fullname\":\"\\xd0\\xa0\\xd0\\xbe\\xd0\\xbc\\xd0\\xb0\\xd0\\xbd \\xd0\\xa4\\xd0\\xb5\\xd0\\xb4\\xd0\\xbe\\xd1\\x80\\xd0\\xb5\\xd0\\xbd\\xd0\\xba\\xd0\\xbe\",\"avatarUrl\":\"\\\\u002F\\\\u002Fhabrastorage.org\\\\u002Fgetpro\\\\u002Fhabr\\\\u002Favatars\\\\u002F721\\\\u002F37d\\\\u002Fe84\\\\u002F72137de849a0bd4cc249761399719568.jpg\",\"speciality\":\"\\xd0\\xa0\\xd0\\xbe\\xd0\\xb1\\xd0\\xbe\\xd1\\x82\\xd0\\xbe\\xd1\\x82\\xd0\\xb5\\xd1\\x85\\xd0\\xbd\\xd0\\xb8\\xd0\\xba\"},\"statistics\":{\"commentsCount\":0,\"favoritesCount\":1,\"readingCount\":835,\"score\":2,\"votesCount\":2},\"hubs\":[{\"relatedData\":null,\"id\":\"19735\",\"alias\":\"robo_dev\",\"type\":\"collective\",\"title\":\"Robotics development\",\"titleHtml\":\"Robotics development\",\"isProfiled\":true},{\"relatedData\":null,\"id\":\"19737\",\"alias\":\"controllers\",\"type\":\"collective\",\"title\":\"Programming microcontrollers\",\"titleHtml\":\"Programming microcontrollers\",\"isProfiled\":true},{\"relatedData\":null,\"id\":\"21484\",\"alias\":\"electronics\",\"type\":\"collective\",\"title\":\"Manufacture and development of electronics\",\"titleHtml\":\"Manufacture and development of electronics\",\"isProfiled\":true},{\"relatedData\":null,\"id\":\"21902\",\"alias\":\"robot\",\"type\":\"collective\",\"title\":\"Robotics\",\"titleHtml\":\"Robotics\",\"isProfiled\":false},{\"relatedData\":null,\"id\":\"21974\",\"alias\":\"multicopters\",\"type\":\"collective\",\"title\":\"Multicopters\",\"titleHtml\":\"Multicopters\",\"isProfiled\":false}],\"flows\":[{\"id\":\"1\",\"alias\":\"develop\",\"title\":\"Development\"},{\"id\":\"7\",\"alias\":\"popsci\",\"title\":\"PopSci\"}],\"relatedData\":null,\"leadData\":{\"textHtml\":\"\\\\u003Cp\\\\u003EHi from&nbsp;\\\\u003Ca href=\\\\\"http:\\\\u002F\\\\u002Fraccoonlab.org\\\\u002F\\\\\" rel=\\\\\"noopener noreferrer nofollow\\\\\"\\\\u003ERaccoonLab\\\\u003C\\\\u002Fa\\\\u003E, a team of enthusiasts in field robotics! We want to share our true-HITL UAVCAN-based simulator for PX4.\\\\u003C\\\\u002Fp\\\\u003E\\\\u003Cp\\\\u003EWe believe a unified UAVCAN bus for drone onboard electronics will become a mainstream approach shortly. Our simulator is already based on UAVCAN (in opposition to UART-MAVLINK) and emulates exactly the same messages as real UAVCAN-sensors.\\\\u003C\\\\u002Fp\\\\u003E\",\"imageUrl\":\"https:\\\\u002F\\\\u002Fhabrastorage.org\\\\u002Fgetpro\\\\u002Fhabr\\\\u002Fupload_files\\\\u002F1bf\\\\u002F769\\\\u002Ff23\\\\u002F1bf769f2307a189c26460d70493055bd.jpg\",\"buttonTextHtml\":\"Read more\",\"image\":{\"url\":\"https:\\\\u002F\\\\u002Fhabrastorage.org\\\\u002Fgetpro\\\\u002Fhabr\\\\u002Fupload_files\\\\u002F1bf\\\\u002F769\\\\u002Ff23\\\\u002F1bf769f2307a189c26460d70493055bd.jpg\",\"fit\":\"cover\",\"positionY\":0,\"positionX\":0}},\"status\":\"published\",\"plannedPublishTime\":null,\"checked\":null,\"tags\":[{\"titleHtml\":\"uavcan\"},{\"titleHtml\":\"hitl\"},{\"titleHtml\":\"simulator\"},{\"titleHtml\":\"uav\"},{\"titleHtml\":\"drone\"},{\"titleHtml\":\"px4\"}]},\"577978\":{\"id\":\"577978\",\"timePublished\":\"2021-09-15T06:26:24+00:00\",\"isCorporative\":false,\"lang\":\"en\",\"titleHtml\":\"High-level pipelining in TL-Verilog, RISC-V from Imagination, formal tools and open-source EDA on ChipEXPO in Moscow\",\"editorVersion\":\"2.0\",\"postType\":\"article\",\"postLabels\":[],\"author\":{\"id\":\"372461\",\"alias\":\"YuriPanchul\",\"fullname\":\"\\xd0\\xae\\xd1\\x80\\xd0\\xb8\\xd0\\xb9 \\xd0\\x9f\\xd0\\xb0\\xd0\\xbd\\xd1\\x87\\xd1\\x83\\xd0\\xbb \\\\u002F Yuri Panchul\",\"avatarUrl\":\"\\\\u002F\\\\u002Fhabrastorage.org\\\\u002Fgetpro\\\\u002Fhabr\\\\u002Favatars\\\\u002F0a9\\\\u002F21b\\\\u002F7c1\\\\u002F0a921b7c13a624616c9da17b980b69a9.jpg\",\"speciality\":\"\\xd0\\x9f\\xd1\\x80\\xd0\\xbe\\xd0\\xb5\\xd0\\xba\\xd1\\x82\\xd0\\xb8\\xd1\\x80\\xd0\\xbe\\xd0\\xb2\\xd1\\x89\\xd0\\xb8\\xd0\\xba CPU, GPU, \\xd1\\x81\\xd0\\xb5\\xd1\\x82\\xd0\\xb5\\xd0\\xb2\\xd1\\x8b\\xd1\\x85 \\xd0\\xbc\\xd0\\xb8\\xd0\\xba\\xd1\\x80\\xd0\\xbe\\xd1\\x81\\xd1\\x85\\xd0\\xb5\\xd0\\xbc\"},\"statistics\":{\"commentsCount\":2,\"favoritesCount\":2,\"readingCount\":700,\"score\":1,\"votesCount\":3},\"hubs\":[{\"relatedData\":null,\"id\":\"8000\",\"alias\":\"algorithms\",\"type\":\"collective\",\"title\":\"Algorithms\",\"titleHtml\":\"Algorithms\",\"isProfiled\":true},{\"relatedData\":null,\"id\":\"18816\",\"alias\":\"industrial_control_system\",\"type\":\"collective\",\"title\":\"Industrial Programming\",\"titleHtml\":\"Industrial Programming\",\"isProfiled\":true},{\"relatedData\":null,\"id\":\"19733\",\"alias\":\"fpga\",\"type\":\"collective\",\"title\":\"FPGA\",\"titleHtml\":\"FPGA\",\"isProfiled\":true},{\"relatedData\":null,\"id\":\"19737\",\"alias\":\"controllers\",\"type\":\"collective\",\"title\":\"Programming microcontrollers\",\"titleHtml\":\"Programming microcontrollers\",\"isProfiled\":true},{\"relatedData\":null,\"id\":\"21484\",\"alias\":\"electronics\",\"type\":\"collective\",\"title\":\"Manufacture and development of electronics\",\"titleHtml\":\"Manufacture and development of electronics\",\"isProfiled\":true}],\"flows\":[{\"id\":\"1\",\"alias\":\"develop\",\"title\":\"Development\"}],\"relatedData\":null,\"leadData\":{\"textHtml\":\"\\\\u003Cp\\\\u003EThis year ChipEXPO conference in Moscow invited several Western speakers to present in English the emerging technologies in high-level HDLs, formal verification, open-source EDA and using industrual RISC-V cores for education. You can join these presentations on September 14-16 for free using this link (you may need to use google translate from Russian to go through the registration) \\\\u003Ca href=\\\\\"https:\\\\u002F\\\\u002Feventswallet.com\\\\u002Fen\\\\u002Fevents\\\\u002F282\\\\u002F\\\\\" rel=\\\\\"noopener noreferrer nofollow\\\\\"\\\\u003Ehttps:\\\\u002F\\\\u002Feventswallet.com\\\\u002Fen\\\\u002Fevents\\\\u002F282\\\\u002F\\\\u003C\\\\u002Fa\\\\u003E\\\\u003C\\\\u002Fp\\\\u003E\\\\u003Cp\\\\u003EThe whole program is \\\\u003Ca href=\\\\\"http:\\\\u002F\\\\u002Fwww.chipexpo.ru\\\\u002Fen\\\\u002Fbusiness-programm\\\\\" rel=\\\\\"noopener noreferrer nofollow\\\\\"\\\\u003Ehere\\\\u003C\\\\u002Fa\\\\u003E \\\\u003C\\\\u002Fp\\\\u003E\\\\u003Cp\\\\u003EThe English-speaking presentations and tutorials include:\\\\u003C\\\\u002Fp\\\\u003E\",\"imageUrl\":\"https:\\\\u002F\\\\u002Fhabrastorage.org\\\\u002Fgetpro\\\\u002Fhabr\\\\u002Fupload_files\\\\u002Fc6f\\\\u002Fe3d\\\\u002F686\\\\u002Fc6fe3d686d294a446c81cdd207944d0a.png\",\"buttonTextHtml\":\"Read more\",\"image\":{\"url\":\"https:\\\\u002F\\\\u002Fhabrastorage.org\\\\u002Fgetpro\\\\u002Fhabr\\\\u002Fupload_files\\\\u002Fc6f\\\\u002Fe3d\\\\u002F686\\\\u002Fc6fe3d686d294a446c81cdd207944d0a.png\",\"fit\":\"cover\",\"positionY\":36.590909090909,\"positionX\":0}},\"status\":\"published\",\"plannedPublishTime\":null,\"checked\":null,\"tags\":[{\"titleHtml\":\"Verilog\"},{\"titleHtml\":\"tl-verilog\"},{\"titleHtml\":\"redwood design automation\"},{\"titleHtml\":\"chipexpo\"},{\"titleHtml\":\"skolkovo\"},{\"titleHtml\":\"symbiotic eda\"},{\"titleHtml\":\"imagination technologies\"},{\"titleHtml\":\"formal verification\"},{\"titleHtml\":\"electronic design automation\"},{\"titleHtml\":\"asic\"}]},\"578574\":{\"id\":\"578574\",\"timePublished\":\"2021-09-17T13:05:46+00:00\",\"isCorporative\":false,\"lang\":\"en\",\"titleHtml\":\"Who controls App Store: Martians or AI? Closed session of Russia\\'s Federation Council and Apple leaked online\",\"editorVersion\":\"1.0\",\"postType\":\"article\",\"postLabels\":[],\"author\":{\"id\":\"62563\",\"alias\":\"atomlib\",\"fullname\":null,\"avatarUrl\":\"\\\\u002F\\\\u002Fhabrastorage.org\\\\u002Fgetpro\\\\u002Fhabr\\\\u002Favatars\\\\u002F0e4\\\\u002F25c\\\\u002F082\\\\u002F0e425c082f0b7e10860ae495a558a233.jpg\",\"speciality\":\"\\xd0\\x97\\xd0\\xb0\\xd0\\xbc\\xd0\\xb3\\xd0\\xbb\\xd0\\xb0\\xd0\\xb2\\xd1\\x80\\xd0\\xb5\\xd0\\xb4\\xd0\\xb0\"},\"statistics\":{\"commentsCount\":0,\"favoritesCount\":3,\"readingCount\":2206,\"score\":17,\"votesCount\":17},\"hubs\":[{\"relatedData\":null,\"id\":\"20738\",\"alias\":\"business-laws\",\"type\":\"collective\",\"title\":\"Legislation in IT\",\"titleHtml\":\"Legislation in IT\",\"isProfiled\":false},{\"relatedData\":null,\"id\":\"22026\",\"alias\":\"itcompanies\",\"type\":\"collective\",\"title\":\"IT-companies\",\"titleHtml\":\"IT-companies\",\"isProfiled\":false}],\"flows\":[{\"id\":\"3\",\"alias\":\"management\",\"title\":\"Management\"}],\"relatedData\":null,\"leadData\":{\"textHtml\":\"\\\\u003Cimg src=\\\\\"https:\\\\u002F\\\\u002Fhabrastorage.org\\\\u002Fgetpro\\\\u002Fhabr\\\\u002Fpost_images\\\\u002F038\\\\u002F774\\\\u002F342\\\\u002F0387743426652a563edc942af237a249.jpg\\\\\"\\\\u003E\\\\u003Cbr\\\\u003E\\\\r\\\\n\\\\u003Cbr\\\\u003E\\\\r\\\\nVideo recording of a closed session of the upper house of Russia\\'s parliament was \\\\u003Ca href=\\\\\"https:\\\\u002F\\\\u002Ft.me\\\\u002FA000MP97\\\\u002F93\\\\\" rel=\\\\\"nofollow noopener noreferrer\\\\\"\\\\u003Eleaked\\\\u003C\\\\u002Fa\\\\u003E online by Telegram channel A000MP97. In the video, Andrei Klimov, head of the Ad Hoc Sovereignty and Preventing Interference in the Domestic Affairs Commission, demands Apple to disclose who controls the App Store: people from Mars or artificial intelligence?\\\\u003Cbr\\\\u003E\\\\r\\\\n\\\\u003Cbr\\\\u003E\\\\r\\\\nOn September 16th, a closed session of the Commission \\\\u003Ca href=\\\\\"https:\\\\u002F\\\\u002Fhabr.com\\\\u002Fru\\\\u002Fnews\\\\u002Ft\\\\u002F578466\\\\u002F\\\\\"\\\\u003Etook place\\\\u003C\\\\u002Fa\\\\u003E, and representatives of Apple and Google were among those who \\\\u003Ca href=\\\\\"https:\\\\u002F\\\\u002Fhabr.com\\\\u002Fru\\\\u002Fnews\\\\u002Ft\\\\u002F578330\\\\u002F\\\\\"\\\\u003Ewere invited\\\\u003C\\\\u002Fa\\\\u003E. The session discussed ways to protect sovereignty of the country, in particular, the fact that the \\\\u003Cem\\\\u003ENavalny\\\\u003C\\\\u002Fem\\\\u003E app was still available in Apple App Store and Google Play. The services were accused of being complicit with organisations deemed extremist and banned in Russia as well as interference with Russian elections.\\\\u003Cbr\\\\u003E\",\"imageUrl\":null,\"buttonTextHtml\":\"Read more &rarr;\",\"image\":null},\"status\":\"published\",\"plannedPublishTime\":null,\"checked\":null,\"tags\":[{\"titleHtml\":\"Apple\"},{\"titleHtml\":\"Dura Lex\"},{\"titleHtml\":\"Russian law\"},{\"titleHtml\":\"State Duma\"},{\"titleHtml\":\"Federation Council\"},{\"titleHtml\":\"IT companies\"},{\"titleHtml\":\"blocked websites\"},{\"titleHtml\":\"App Store\"},{\"titleHtml\":\"Martians\"},{\"titleHtml\":\"AI\"}]},\"579428\":{\"id\":\"579428\",\"timePublished\":\"2021-09-22T15:04:03+00:00\",\"isCorporative\":true,\"lang\":\"en\",\"titleHtml\":\"MISRA C: struggle for code quality and security\",\"editorVersion\":\"1.0\",\"postType\":\"article\",\"postLabels\":[],\"author\":{\"id\":\"2791609\",\"alias\":\"Cockatoo\",\"fullname\":\"Konstantin Kochkin\",\"avatarUrl\":\"\\\\u002F\\\\u002Fhabrastorage.org\\\\u002Fgetpro\\\\u002Fhabr\\\\u002Favatars\\\\u002F836\\\\u002F149\\\\u002F7f1\\\\u002F8361497f1f637cab1a6e625ec126123f.jpg\",\"speciality\":\"C++ developer\"},\"statistics\":{\"commentsCount\":0,\"favoritesCount\":0,\"readingCount\":252,\"score\":0,\"votesCount\":0},\"hubs\":[{\"relatedData\":null,\"id\":\"18095\",\"alias\":\"pvs-studio\",\"type\":\"corporative\",\"title\":\"PVS-Studio corporate blog\",\"titleHtml\":\"PVS-Studio corporate blog\",\"isProfiled\":false},{\"relatedData\":null,\"id\":\"559\",\"alias\":\"cpp\",\"type\":\"collective\",\"title\":\"C++\",\"titleHtml\":\"C++\",\"isProfiled\":true},{\"relatedData\":null,\"id\":\"17189\",\"alias\":\"itstandarts\",\"type\":\"collective\",\"title\":\"IT Standards\",\"titleHtml\":\"IT Standards\",\"isProfiled\":true},{\"relatedData\":null,\"id\":\"17717\",\"alias\":\"c\",\"type\":\"collective\",\"title\":\"C\",\"titleHtml\":\"C\",\"isProfiled\":true},{\"relatedData\":null,\"id\":\"19737\",\"alias\":\"controllers\",\"type\":\"collective\",\"title\":\"Programming microcontrollers\",\"titleHtml\":\"Programming microcontrollers\",\"isProfiled\":true}],\"flows\":[{\"id\":\"1\",\"alias\":\"develop\",\"title\":\"Development\"}],\"relatedData\":null,\"leadData\":{\"textHtml\":\"\\\\u003Cp\\\\u003EA couple of years ago the PVS-Studio analyzer got its first diagnostic rules to check program code compliance with the MISRA C and MISRA C++ standards. We collected feedback and saw that our clients were interested in using the analyzer to check their projects for MISRA compliance. So, we decided to further develop the analyzer in this direction. The article covers the MISRA C\\\\u002FC++ standard and the MISRA Compliance report. It also shows what we already managed to do and what we plan to achieve by the end of the year.\\\\u003C\\\\u002Fp\\\\u003E\\\\u003Cbr\\\\u003E\\\\r\\\\n\\\\u003Cp\\\\u003E\\\\u003Cimg src=\\\\\"https:\\\\u002F\\\\u002Fhabrastorage.org\\\\u002Fgetpro\\\\u002Fhabr\\\\u002Fpost_images\\\\u002F483\\\\u002F838\\\\u002Ff99\\\\u002F483838f992499d85b0c64070bf21b7e6.png\\\\\" alt=\\\\\"0866_MISRA_C\\\\u002Fimage1.png\\\\\"\\\\u003E\\\\u003C\\\\u002Fp\\\\u003E\",\"imageUrl\":null,\"buttonTextHtml\":\"Read more &rarr;\",\"image\":null},\"status\":\"published\",\"plannedPublishTime\":null,\"checked\":null,\"tags\":[{\"titleHtml\":\"misra c\"},{\"titleHtml\":\"misra cpp\"},{\"titleHtml\":\"misra compliance\"},{\"titleHtml\":\"misra rules\"},{\"titleHtml\":\"misra c guidelines\"},{\"titleHtml\":\"c\"},{\"titleHtml\":\"cpp\"},{\"titleHtml\":\"sast\"},{\"titleHtml\":\"embedded\"},{\"titleHtml\":\"pvs-studio\"},{\"titleHtml\":\"safety\"},{\"titleHtml\":\"static code analysis\"}]},\"579522\":{\"id\":\"579522\",\"timePublished\":\"2021-09-23T08:47:21+00:00\",\"isCorporative\":false,\"lang\":\"en\",\"titleHtml\":\"Insights Into Proactive Threat Hunting\",\"editorVersion\":\"2.0\",\"postType\":\"article\",\"postLabels\":[{\"type\":\"sandbox\",\"data\":null}],\"author\":{\"id\":\"2784345\",\"alias\":\"AlexVakulov\",\"fullname\":null,\"avatarUrl\":\"\\\\u002F\\\\u002Fhabrastorage.org\\\\u002Fgetpro\\\\u002Fhabr\\\\u002Favatars\\\\u002F69b\\\\u002Fb3e\\\\u002F722\\\\u002F69bb3e7226a3fbd201a67237da8eaaa8.jpg\",\"speciality\":\"\"},\"statistics\":{\"commentsCount\":0,\"favoritesCount\":0,\"readingCount\":289,\"score\":3,\"votesCount\":3},\"hubs\":[{\"relatedData\":null,\"id\":\"50\",\"alias\":\"infosecurity\",\"type\":\"collective\",\"title\":\"Information Security\",\"titleHtml\":\"Information Security\",\"isProfiled\":true}],\"flows\":[{\"id\":\"1\",\"alias\":\"develop\",\"title\":\"Development\"}],\"relatedData\":null,\"leadData\":{\"textHtml\":\"\\\\u003Cp\\\\u003EProactive search for complex threats seems to be a useful technology but inaccessible for many organizations. Is it really so? What do companies need to do to start Threat Hunting? What tools are needed for threat hunting? What trends in this area can be seen on the market in the coming years? These are some of the questions I would like to answer in my article today.\\\\u003C\\\\u002Fp\\\\u003E\\\\u003Cp\\\\u003E\\\\u003Cstrong\\\\u003EWhat is Threat Hunting?\\\\u003C\\\\u002Fstrong\\\\u003E\\\\u003C\\\\u002Fp\\\\u003E\\\\u003Cp\\\\u003EThreat Hunting is a search for threats in a proactive mode when the information security specialist is sure that the network is compromised. He should understand how his network operates in order to be able to identify various attacks by examining the existing anomalies.\\\\u003C\\\\u002Fp\\\\u003E\\\\u003Cp\\\\u003EThreat Hunting is a search for threats that have already bypassed automated detection systems. Moreover, most often, you do not have signals or alerts that allow you to detect an intrusion.\\\\u003C\\\\u002Fp\\\\u003E\\\\u003Cp\\\\u003EFrom the \\\\u003Ca href=\\\\\"https:\\\\u002F\\\\u002Fen.wikipedia.org\\\\u002Fwiki\\\\u002FSecurity_operations_center\\\\\" rel=\\\\\"noopener noreferrer nofollow\\\\\"\\\\u003ESOC\\\\u003C\\\\u002Fa\\\\u003E perspective, Threat Hunting is an extension of the service that allows you to counter any level of intruders, including those who use previously unknown tools and methods.\\\\u003C\\\\u002Fp\\\\u003E\\\\u003Cp\\\\u003EThreat Hunting can be based on some data obtained by a security specialist, or it can be based on a hypothesis. If after testing the hypothesis, the test gives a positive result, then later, it can be used to improve the processes and mechanisms of detecting threats. And also, Threat Hunting allows you to find blind spots in the security system and expand the monitoring area.\\\\u003C\\\\u002Fp\\\\u003E\\\\u003Cp\\\\u003E\\\\u003Cstrong\\\\u003EWhat organizations need Threat Hunting?\\\\u003C\\\\u002Fstrong\\\\u003E\\\\u003C\\\\u002Fp\\\\u003E\\\\u003Cp\\\\u003EProactive threat hunting is relevant to those organizations that can become the target of a complex, targeted \\\\u003Ca href=\\\\\"https:\\\\u002F\\\\u002Fwww.csoonline.com\\\\u002Farticle\\\\u002F2615666\\\\u002F5-signs-youve-been-hit-with-an-apt.html\\\\\" rel=\\\\\"noopener noreferrer nofollow\\\\\"\\\\u003EAPT attack\\\\u003C\\\\u002Fa\\\\u003E. At the same time, given the trend towards \\\\u003Ca href=\\\\\"https:\\\\u002F\\\\u002Fwww.wired.com\\\\u002Fstory\\\\u002Fhacker-lexicon-what-is-a-supply-chain-attack\\\\u002F\\\\\" rel=\\\\\"noopener noreferrer nofollow\\\\\"\\\\u003Esupply chain attacks\\\\u003C\\\\u002Fa\\\\u003E, a small company may also become a target for motivated attackers.\\\\u003C\\\\u002Fp\\\\u003E\",\"imageUrl\":\"https:\\\\u002F\\\\u002Fhabrastorage.org\\\\u002Fgetpro\\\\u002Fhabr\\\\u002Fupload_files\\\\u002Ff71\\\\u002Fcb7\\\\u002Ffe4\\\\u002Ff71cb7fe47db37783c79ebd97bd95465.jpg\",\"buttonTextHtml\":\"Read more\",\"image\":{\"url\":\"https:\\\\u002F\\\\u002Fhabrastorage.org\\\\u002Fgetpro\\\\u002Fhabr\\\\u002Fupload_files\\\\u002Ff71\\\\u002Fcb7\\\\u002Ffe4\\\\u002Ff71cb7fe47db37783c79ebd97bd95465.jpg\",\"fit\":\"cover\",\"positionY\":0,\"positionX\":0}},\"status\":\"published\",\"plannedPublishTime\":null,\"checked\":null,\"tags\":[{\"titleHtml\":\"threat hunting\"},{\"titleHtml\":\"information security\"},{\"titleHtml\":\"threat intelligence\"}]},\"579714\":{\"id\":\"579714\",\"timePublished\":\"2021-09-23T23:08:37+00:00\",\"isCorporative\":false,\"lang\":\"en\",\"titleHtml\":\"Disclosure of three 0-day iOS vulnerabilities and critique of Apple Security Bounty program\",\"editorVersion\":\"2.0\",\"postType\":\"article\",\"postLabels\":[{\"type\":\"translation\",\"data\":{\"originalAuthorName\":\"illusionofchaos\",\"originalUrl\":\"https:\\\\u002F\\\\u002Fhabr.com\\\\u002Fru\\\\u002Fpost\\\\u002F579716\\\\u002F\"}}],\"author\":{\"id\":\"2792121\",\"alias\":\"illusionofchaos\",\"fullname\":\"Denis Tokarev\",\"avatarUrl\":\"\",\"speciality\":\"\"},\"statistics\":{\"commentsCount\":8,\"favoritesCount\":9,\"readingCount\":136126,\"score\":56,\"votesCount\":56},\"hubs\":[{\"relatedData\":null,\"id\":\"50\",\"alias\":\"infosecurity\",\"type\":\"collective\",\"title\":\"Information Security\",\"titleHtml\":\"Information Security\",\"isProfiled\":true},{\"relatedData\":null,\"id\":\"548\",\"alias\":\"ios_dev\",\"type\":\"collective\",\"title\":\"Development for iOS\",\"titleHtml\":\"Development for iOS\",\"isProfiled\":true},{\"relatedData\":null,\"id\":\"6345\",\"alias\":\"mobile_dev\",\"type\":\"collective\",\"title\":\"Development of mobile applications\",\"titleHtml\":\"Development of mobile applications\",\"isProfiled\":true},{\"relatedData\":null,\"id\":\"19011\",\"alias\":\"reverse-engineering\",\"type\":\"collective\",\"title\":\"Reverse engineering\",\"titleHtml\":\"Reverse engineering\",\"isProfiled\":true}],\"flows\":[{\"id\":\"1\",\"alias\":\"develop\",\"title\":\"Development\"}],\"relatedData\":null,\"leadData\":{\"textHtml\":\"\\\\u003Cp\\\\u003EI want to share my frustrating experience participating in Apple Security Bounty program. I\\'ve reported four 0-day vulnerabilities this year between March 10 and May 4, as of now three of them are still present in the latest iOS version (15.0) and one was fixed in 14.7, but Apple decided to cover it up and not list it on the \\\\u003Ca href=\\\\\"https:\\\\u002F\\\\u002Fsupport.apple.com\\\\u002Fen-us\\\\u002FHT212601\\\\\" rel=\\\\\"noopener noreferrer nofollow\\\\\"\\\\u003Esecurity content page\\\\u003C\\\\u002Fa\\\\u003E. When I confronted them, they apologized, assured me it happened due to a processing issue and promised to list it on the security content page of the next update. There were three releases since then and they broke their promise each time.\\\\u003C\\\\u002Fp\\\\u003E\\\\u003Cp\\\\u003ERead more to learn the specifics of 0-day vulnerabilities.\\\\u003C\\\\u002Fp\\\\u003E\",\"imageUrl\":\"https:\\\\u002F\\\\u002Fhabrastorage.org\\\\u002Fgetpro\\\\u002Fhabr\\\\u002Fupload_files\\\\u002F5b4\\\\u002Ff38\\\\u002F55e\\\\u002F5b4f3855ed7e33970065a5606df6a14b.jpg\",\"buttonTextHtml\":\"Read more\",\"image\":{\"url\":\"https:\\\\u002F\\\\u002Fhabrastorage.org\\\\u002Fgetpro\\\\u002Fhabr\\\\u002Fupload_files\\\\u002F5b4\\\\u002Ff38\\\\u002F55e\\\\u002F5b4f3855ed7e33970065a5606df6a14b.jpg\",\"fit\":\"cover\",\"positionY\":0,\"positionX\":0}},\"status\":\"published\",\"plannedPublishTime\":null,\"checked\":null,\"tags\":[{\"titleHtml\":\"apple\"},{\"titleHtml\":\"ios\"},{\"titleHtml\":\"vulnerability\"},{\"titleHtml\":\"bugbounty\"},{\"titleHtml\":\"bug bounty\"},{\"titleHtml\":\"exploit\"},{\"titleHtml\":\"privacy\"},{\"titleHtml\":\"iphone\"},{\"titleHtml\":\"0day\"},{\"titleHtml\":\"0day-vulnerability\"}]},\"579736\":{\"id\":\"579736\",\"timePublished\":\"2021-09-24T07:32:46+00:00\",\"isCorporative\":true,\"lang\":\"en\",\"titleHtml\":\"Creating Roslyn API-based static analyzer for C#\",\"editorVersion\":\"2.0\",\"postType\":\"article\",\"postLabels\":[{\"type\":\"tutorial\",\"data\":null}],\"author\":{\"id\":\"2111131\",\"alias\":\"ValeryKomarov\",\"fullname\":\"Valery Komarov\",\"avatarUrl\":\"\\\\u002F\\\\u002Fhabrastorage.org\\\\u002Fgetpro\\\\u002Fhabr\\\\u002Favatars\\\\u002F975\\\\u002Ffd9\\\\u002F111\\\\u002F975fd9111e0b2238e2e263da62be3268.png\",\"speciality\":\"User\"},\"statistics\":{\"commentsCount\":0,\"favoritesCount\":4,\"readingCount\":572,\"score\":0,\"votesCount\":2},\"hubs\":[{\"relatedData\":null,\"id\":\"18095\",\"alias\":\"pvs-studio\",\"type\":\"corporative\",\"title\":\"PVS-Studio corporate blog\",\"titleHtml\":\"PVS-Studio corporate blog\",\"isProfiled\":false},{\"relatedData\":null,\"id\":\"359\",\"alias\":\"programming\",\"type\":\"collective\",\"title\":\"Programming\",\"titleHtml\":\"Programming\",\"isProfiled\":true},{\"relatedData\":null,\"id\":\"546\",\"alias\":\"net\",\"type\":\"collective\",\"title\":\".NET\",\"titleHtml\":\".NET\",\"isProfiled\":true},{\"relatedData\":null,\"id\":\"11606\",\"alias\":\"vs\",\"type\":\"collective\",\"title\":\"Visual Studio\",\"titleHtml\":\"Visual Studio\",\"isProfiled\":true},{\"relatedData\":null,\"id\":\"17718\",\"alias\":\"csharp\",\"type\":\"collective\",\"title\":\"C#\",\"titleHtml\":\"C#\",\"isProfiled\":true}],\"flows\":[{\"id\":\"1\",\"alias\":\"develop\",\"title\":\"Development\"}],\"relatedData\":null,\"leadData\":{\"textHtml\":\"\\\\u003Cp\\\\u003EAfter you read this article, you\\'ll have the knowledge to create your  own static analyzer for C#. With the help of the analyzer, you can find  potential errors and vulnerabilities in the source code of your own and  other projects. Are you intrigued? Well, let\\'s get started.\\\\u003C\\\\u002Fp\\\\u003E\",\"imageUrl\":\"https:\\\\u002F\\\\u002Fhabrastorage.org\\\\u002Fgetpro\\\\u002Fhabr\\\\u002Fupload_files\\\\u002F616\\\\u002Fa42\\\\u002Fa33\\\\u002F616a42a33c69f03f580690b651bce761.png\",\"buttonTextHtml\":\"Read more\",\"image\":{\"url\":\"https:\\\\u002F\\\\u002Fhabrastorage.org\\\\u002Fgetpro\\\\u002Fhabr\\\\u002Fupload_files\\\\u002F616\\\\u002Fa42\\\\u002Fa33\\\\u002F616a42a33c69f03f580690b651bce761.png\",\"fit\":\"cover\",\"positionY\":0,\"positionX\":0}},\"status\":\"published\",\"plannedPublishTime\":null,\"checked\":null,\"tags\":[{\"titleHtml\":\"csharp\"},{\"titleHtml\":\"dotnet core\"},{\"titleHtml\":\"roslyn\"},{\"titleHtml\":\"pvs\"},{\"titleHtml\":\"pvs-studio\"},{\"titleHtml\":\"programming\"},{\"titleHtml\":\"tutorial\"},{\"titleHtml\":\"static analysis\"},{\"titleHtml\":\"visual studio\"},{\"titleHtml\":\"pvsstudio\"}]},\"579832\":{\"id\":\"579832\",\"timePublished\":\"2021-09-29T08:00:03+00:00\",\"isCorporative\":true,\"lang\":\"en\",\"titleHtml\":\"Software testers \\xe2\\x80\\x94 an endangered species?\",\"editorVersion\":\"2.0\",\"postType\":\"article\",\"postLabels\":[],\"author\":{\"id\":\"2138035\",\"alias\":\"MrDvorak\",\"fullname\":\"\\xd0\\x9c\\xd0\\xb0\\xd0\\xba\\xd1\\x81\\xd0\\xb8\\xd0\\xbc \\xd0\\x97\\xd0\\xb2\\xd1\\x8f\\xd0\\xb3\\xd0\\xb8\\xd0\\xbd\\xd1\\x86\\xd0\\xb5\\xd0\\xb2\",\"avatarUrl\":\"\\\\u002F\\\\u002Fhabrastorage.org\\\\u002Fgetpro\\\\u002Fhabr\\\\u002Favatars\\\\u002Faba\\\\u002F86f\\\\u002F100\\\\u002Faba86f1006398de27ec801ac0e54ec35.jpg\",\"speciality\":\"Product Marketing Specialist\"},\"statistics\":{\"commentsCount\":0,\"favoritesCount\":2,\"readingCount\":442,\"score\":1,\"votesCount\":1},\"hubs\":[{\"relatedData\":null,\"id\":\"18095\",\"alias\":\"pvs-studio\",\"type\":\"corporative\",\"title\":\"PVS-Studio corporate blog\",\"titleHtml\":\"PVS-Studio corporate blog\",\"isProfiled\":false},{\"relatedData\":null,\"id\":\"210\",\"alias\":\"it_testing\",\"type\":\"collective\",\"title\":\"IT systems testing\",\"titleHtml\":\"IT systems testing\",\"isProfiled\":true},{\"relatedData\":null,\"id\":\"20740\",\"alias\":\"career\",\"type\":\"collective\",\"title\":\"IT career\",\"titleHtml\":\"IT career\",\"isProfiled\":false},{\"relatedData\":null,\"id\":\"22014\",\"alias\":\"futurenow\",\"type\":\"collective\",\"title\":\"The future is here\",\"titleHtml\":\"The future is here\",\"isProfiled\":false}],\"flows\":[{\"id\":\"1\",\"alias\":\"develop\",\"title\":\"Development\"},{\"id\":\"3\",\"alias\":\"management\",\"title\":\"Management\"},{\"id\":\"7\",\"alias\":\"popsci\",\"title\":\"PopSci\"}],\"relatedData\":null,\"leadData\":{\"textHtml\":\"\\\\u003Cp\\\\u003ENothing and nobody will escape oblivion. Whatever you may say, the history of mankind is a history of automation and the subsequent evolution of workers. This happened both during the first industrial revolution and during the second. The same thing happened with digital revolution. Now machine learning and artificial intelligence are being implemented everywhere. What is the future of software testing?\\\\u003C\\\\u002Fp\\\\u003E\",\"imageUrl\":\"https:\\\\u002F\\\\u002Fhabrastorage.org\\\\u002Fgetpro\\\\u002Fhabr\\\\u002Fupload_files\\\\u002Fc7e\\\\u002Ffc3\\\\u002Ff5c\\\\u002Fc7efc3f5c309f87d173c02cea1e32982.png\",\"buttonTextHtml\":\"Read more\",\"image\":{\"url\":\"https:\\\\u002F\\\\u002Fhabrastorage.org\\\\u002Fgetpro\\\\u002Fhabr\\\\u002Fupload_files\\\\u002Fc7e\\\\u002Ffc3\\\\u002Ff5c\\\\u002Fc7efc3f5c309f87d173c02cea1e32982.png\",\"fit\":\"cover\",\"positionY\":0,\"positionX\":0}},\"status\":\"published\",\"plannedPublishTime\":null,\"checked\":null,\"tags\":[{\"titleHtml\":\"pvs-studio\"},{\"titleHtml\":\"machine leraning\"},{\"titleHtml\":\"artificial intelligence\"},{\"titleHtml\":\"career\"},{\"titleHtml\":\"tester\"},{\"titleHtml\":\"feature\"}]},\"580026\":{\"id\":\"580026\",\"timePublished\":\"2021-09-26T10:53:55+00:00\",\"isCorporative\":false,\"lang\":\"en\",\"titleHtml\":\"Difficulties You Might Encounter When Using vue-i18n\",\"editorVersion\":\"2.0\",\"postType\":\"article\",\"postLabels\":[{\"type\":\"sandbox\",\"data\":null}],\"author\":{\"id\":\"122632\",\"alias\":\"Demivan\",\"fullname\":\"Ivan Demchuk\",\"avatarUrl\":\"\\\\u002F\\\\u002Fhabrastorage.org\\\\u002Fgetpro\\\\u002Fhabr\\\\u002Favatars\\\\u002Fd2a\\\\u002F4ad\\\\u002F0d7\\\\u002Fd2a4ad0d7d0ad9a4368f960ab4a6ce0f.png\",\"speciality\":\"\"},\"statistics\":{\"commentsCount\":0,\"favoritesCount\":4,\"readingCount\":364,\"score\":3,\"votesCount\":3},\"hubs\":[{\"relatedData\":null,\"id\":\"357\",\"alias\":\"javascript\",\"type\":\"collective\",\"title\":\"JavaScript\",\"titleHtml\":\"JavaScript\",\"isProfiled\":true},{\"relatedData\":null,\"id\":\"19341\",\"alias\":\"localization\",\"type\":\"collective\",\"title\":\"Language localisation\",\"titleHtml\":\"Language localisation\",\"isProfiled\":true},{\"relatedData\":null,\"id\":\"21296\",\"alias\":\"vuejs\",\"type\":\"collective\",\"title\":\"VueJS\",\"titleHtml\":\"VueJS\",\"isProfiled\":true}],\"flows\":[{\"id\":\"1\",\"alias\":\"develop\",\"title\":\"Development\"},{\"id\":\"3\",\"alias\":\"management\",\"title\":\"Management\"}],\"relatedData\":null,\"leadData\":{\"textHtml\":\"\\\\u003Cp\\\\u003EAfter few months of frustration with trying to use the \\\\\"de-facto\\\\\" internationalization library for Vue.js - \\\\u003Ccode\\\\u003Evue-i18n\\\\u003C\\\\u002Fcode\\\\u003E, I\\'ve decided it is time to replace it. And that is why I have created \\\\u003Ccode\\\\u003Efluent-vue\\\\u003C\\\\u002Fcode\\\\u003E - a Vue.js internationalization plugin that uses Mozilla\\'s Fluent syntax to allow for natural-sounding translations.\\\\u003C\\\\u002Fp\\\\u003E\\\\u003Cp\\\\u003EIn this post, I try to explain what problems I have encountered when trying to use \\\\u003Ccode\\\\u003Evue-i18n\\\\u003C\\\\u002Fcode\\\\u003E library in my app, and how Fluent syntax solves them.\\\\u003C\\\\u002Fp\\\\u003E\",\"imageUrl\":null,\"buttonTextHtml\":\"Read more\",\"image\":{\"url\":\"https:\\\\u002F\\\\u002Fhabrastorage.org\\\\u002Fgetpro\\\\u002Fhabr\\\\u002Fupload_files\\\\u002F02f\\\\u002F446\\\\u002F071\\\\u002F02f446071f1fcc15bc89e400e845262a.jpeg\",\"fit\":\"cover\",\"positionY\":0,\"positionX\":0}},\"status\":\"published\",\"plannedPublishTime\":null,\"checked\":null,\"tags\":[{\"titleHtml\":\"vue\"},{\"titleHtml\":\"localization\"},{\"titleHtml\":\"i18n\"},{\"titleHtml\":\"vue-i18n\"},{\"titleHtml\":\"vue.js\"},{\"titleHtml\":\"vuejs2\"},{\"titleHtml\":\"vue 3.0\"}]},\"580188\":{\"id\":\"580188\",\"timePublished\":\"2021-09-27T12:22:20+00:00\",\"isCorporative\":true,\"lang\":\"en\",\"titleHtml\":\"Why we need dynamic code analysis: the example of the PVS-Studio project\",\"editorVersion\":\"1.0\",\"postType\":\"article\",\"postLabels\":[],\"author\":{\"id\":\"2302295\",\"alias\":\"MrROBUST\",\"fullname\":\"\\xd0\\x90\\xd0\\xbb\\xd0\\xb5\\xd0\\xba\\xd1\\x81\\xd0\\xb5\\xd0\\xb9 \\xd0\\x93\\xd0\\xbe\\xd0\\xb2\\xd0\\xbe\\xd1\\x80\\xd0\\xbe\\xd0\\xb2\",\"avatarUrl\":\"\",\"speciality\":\"\\xd0\\x9f\\xd0\\xbe\\xd0\\xbb\\xd1\\x8c\\xd0\\xb7\\xd0\\xbe\\xd0\\xb2\\xd0\\xb0\\xd1\\x82\\xd0\\xb5\\xd0\\xbb\\xd1\\x8c\"},\"statistics\":{\"commentsCount\":0,\"favoritesCount\":1,\"readingCount\":271,\"score\":2,\"votesCount\":4},\"hubs\":[{\"relatedData\":null,\"id\":\"18095\",\"alias\":\"pvs-studio\",\"type\":\"corporative\",\"title\":\"PVS-Studio corporate blog\",\"titleHtml\":\"PVS-Studio corporate blog\",\"isProfiled\":false},{\"relatedData\":null,\"id\":\"559\",\"alias\":\"cpp\",\"type\":\"collective\",\"title\":\"C++\",\"titleHtml\":\"C++\",\"isProfiled\":true},{\"relatedData\":null,\"id\":\"11606\",\"alias\":\"vs\",\"type\":\"collective\",\"title\":\"Visual Studio\",\"titleHtml\":\"Visual Studio\",\"isProfiled\":true},{\"relatedData\":null,\"id\":\"21456\",\"alias\":\"win_dev\",\"type\":\"collective\",\"title\":\"Development for Windows\",\"titleHtml\":\"Development for Windows\",\"isProfiled\":true}],\"flows\":[{\"id\":\"1\",\"alias\":\"develop\",\"title\":\"Development\"}],\"relatedData\":null,\"leadData\":{\"textHtml\":\"\\\\u003Cp\\\\u003EIn May 2021, CppCast recorded a podcast called ABI stability (CppCast #300). In this podcast, Marshall Clow and the hosts discussed rather old news \\xe2\\x80\\x94 Visual Studio compilers support the AddressSantitzer tool. We have already integrated ASan into our testing system a long time ago. Now we want to tell you about a couple of interesting errors it found.\\\\u003C\\\\u002Fp\\\\u003E\\\\u003Cbr\\\\u003E\\\\r\\\\n\\\\u003Cp\\\\u003E\\\\u003Cimg src=\\\\\"https:\\\\u002F\\\\u002Fhabrastorage.org\\\\u002Fgetpro\\\\u002Fhabr\\\\u002Fpost_images\\\\u002F7ef\\\\u002F2db\\\\u002F210\\\\u002F7ef2db210d677f9a8c07026d4361d3ba.png\\\\\" alt=\\\\\"0868_PVS-Studio_ASan\\\\u002Fimage2.png\\\\\"\\\\u003E\\\\u003C\\\\u002Fp\\\\u003E\",\"imageUrl\":null,\"buttonTextHtml\":\"Read more &rarr;\",\"image\":null},\"status\":\"published\",\"plannedPublishTime\":null,\"checked\":null,\"tags\":[{\"titleHtml\":\"pvs-studio\"},{\"titleHtml\":\"clang\"},{\"titleHtml\":\"asan\"},{\"titleHtml\":\"sanitizer\"},{\"titleHtml\":\"dynamic analysis\"}]},\"580272\":{\"id\":\"580272\",\"timePublished\":\"2021-09-27T16:23:34+00:00\",\"isCorporative\":false,\"lang\":\"en\",\"titleHtml\":\"How malware gets into the App Store and why Apple can\\'t stop that\",\"editorVersion\":\"2.0\",\"postType\":\"article\",\"postLabels\":[],\"author\":{\"id\":\"2792121\",\"alias\":\"illusionofchaos\",\"fullname\":\"Denis Tokarev\",\"avatarUrl\":\"\",\"speciality\":\"\"},\"statistics\":{\"commentsCount\":7,\"favoritesCount\":5,\"readingCount\":29093,\"score\":27,\"votesCount\":29},\"hubs\":[{\"relatedData\":null,\"id\":\"50\",\"alias\":\"infosecurity\",\"type\":\"collective\",\"title\":\"Information Security\",\"titleHtml\":\"Information Security\",\"isProfiled\":true},{\"relatedData\":null,\"id\":\"548\",\"alias\":\"ios_dev\",\"type\":\"collective\",\"title\":\"Development for iOS\",\"titleHtml\":\"Development for iOS\",\"isProfiled\":true},{\"relatedData\":null,\"id\":\"6345\",\"alias\":\"mobile_dev\",\"type\":\"collective\",\"title\":\"Development of mobile applications\",\"titleHtml\":\"Development of mobile applications\",\"isProfiled\":true},{\"relatedData\":null,\"id\":\"19011\",\"alias\":\"reverse-engineering\",\"type\":\"collective\",\"title\":\"Reverse engineering\",\"titleHtml\":\"Reverse engineering\",\"isProfiled\":true},{\"relatedData\":null,\"id\":\"19039\",\"alias\":\"swift\",\"type\":\"collective\",\"title\":\"Swift\",\"titleHtml\":\"Swift\",\"isProfiled\":true}],\"flows\":[{\"id\":\"1\",\"alias\":\"develop\",\"title\":\"Development\"}],\"relatedData\":null,\"leadData\":{\"textHtml\":\"\\\\u003Cp\\\\u003EOnly after \\\\u003Ca href=\\\\\"https:\\\\u002F\\\\u002Fhabr.com\\\\u002Fru\\\\u002Fpost\\\\u002F579714\\\\u002F\\\\\" rel=\\\\\"noopener noreferrer nofollow\\\\\"\\\\u003EI had published a post\\\\u003C\\\\u002Fa\\\\u003E detailing three iOS 0-day vulnerabilities and expressing my frustration with Apple Security Bounty Program, I received a reply from Apple:\\\\u003C\\\\u002Fp\\\\u003E\\\\u003Cp\\\\u003E\\\\u003Cem\\\\u003EWe saw your blog post regarding this issue and your other reports. \\\\u003C\\\\u002Fem\\\\u003E\\\\u003C\\\\u002Fp\\\\u003E\\\\u003Cp\\\\u003E\\\\u003Cem\\\\u003EWe apologize for the delay in responding to you. We want to let you know that we are still investigating these issues and how we can address them to protect customers. Thank you again for taking the time to report these issues to us, we appreciate your assistance.  \\\\u003C\\\\u002Fem\\\\u003E\\\\u003C\\\\u002Fp\\\\u003E\\\\u003Cp\\\\u003E\\\\u003Cem\\\\u003EPlease let us know if you have any questions.\\\\u003C\\\\u002Fem\\\\u003E \\\\u003C\\\\u002Fp\\\\u003E\\\\u003Cp\\\\u003EIndeed, I do have questions. The same ones that you have ignored. I\\'m gonna repeat them. Why was the fix for \\\\u003Ca href=\\\\\"https:\\\\u002F\\\\u002Fgithub.com\\\\u002Fillusionofchaos\\\\u002Fios-analyticsd-pre14.7-exploit\\\\\" rel=\\\\\"noopener noreferrer nofollow\\\\\"\\\\u003Eanalyticsd\\\\u003C\\\\u002Fa\\\\u003E vulnerability quietly included in iOS 14.7 update but not mentioned on its \\\\u003Ca href=\\\\\"https:\\\\u002F\\\\u002Fsupport.apple.com\\\\u002Fen-us\\\\u002FHT212601\\\\\" rel=\\\\\"noopener noreferrer nofollow\\\\\"\\\\u003Esecurity content list\\\\u003C\\\\u002Fa\\\\u003E? Why did you promise to include it in the next update\\'s list but broke your words not once but trice? Why do you keep ignoring these questions?\\\\u003C\\\\u002Fp\\\\u003E\\\\u003Cp\\\\u003EAfter my previous post, some people have expressed doubts that such code can make its way into the App Store. It\\'s understandable why they think this way. That\\'s because Apple makes people believe that the App Store is safe by \\\\u003Ca href=\\\\\"https:\\\\u002F\\\\u002Fwww.voanews.com\\\\u002Fa\\\\u002Fsilicon-valley-technology_app-store-would-be-toxic-mess-without-control-apple-ceo-says\\\\u002F6206076.html\\\\\" rel=\\\\\"noopener noreferrer nofollow\\\\\"\\\\u003Erepeating it over and over\\\\u003C\\\\u002Fa\\\\u003E. Moreover, they claim that they disallow alternative stores and application sideloading to keep users safe and otherwise they would be in great danger. Android has alternative stores and unrestricted sideloading, and have you heard about any kind of security problems with Android recently? I haven\\'t. But it the last few months alone there were so many reports about security and privacy issues on Apple platforms. And the real reason that Apple doesn\\'t allow any alternatives to the App Store is that they receive 30% commission on all purchases made inside any app and it\\'s a tremendously lucrative business for them. They also enact censorship by choosing to allow or disallow any app into the App Store based purely on subjective opinions of their employees and managers.\\\\u003C\\\\u002Fp\\\\u003E\\\\u003Cp\\\\u003ESo in this article I\\'m going to dispute the claim that the App Store is safe, voice my complaints about the App Store review process and provide a detailed explanation (including source code) how malicious apps on the App Store conceal their functionality from the App Store review team and are able to sneak into the App Store.\\\\u003C\\\\u002Fp\\\\u003E\",\"imageUrl\":\"https:\\\\u002F\\\\u002Fhabrastorage.org\\\\u002Fgetpro\\\\u002Fhabr\\\\u002Fupload_files\\\\u002F3a2\\\\u002Fba5\\\\u002F669\\\\u002F3a2ba566997c46b24c2748e6ba0ac430.jpg\",\"buttonTextHtml\":\"Read more\",\"image\":{\"url\":\"https:\\\\u002F\\\\u002Fhabrastorage.org\\\\u002Fgetpro\\\\u002Fhabr\\\\u002Fupload_files\\\\u002F3a2\\\\u002Fba5\\\\u002F669\\\\u002F3a2ba566997c46b24c2748e6ba0ac430.jpg\",\"fit\":\"cover\",\"positionY\":0,\"positionX\":0}},\"status\":\"published\",\"plannedPublishTime\":null,\"checked\":null,\"tags\":[{\"titleHtml\":\"ios\"},{\"titleHtml\":\"app store\"},{\"titleHtml\":\"malware\"}]},\"580338\":{\"id\":\"580338\",\"timePublished\":\"2021-09-28T05:46:36+00:00\",\"isCorporative\":true,\"lang\":\"en\",\"titleHtml\":\"Big Data Tools with IntelliJ IDEA Ultimate, PyCharm Professional, DataGrip 2021.3 EAP, and DataSpell Support\",\"editorVersion\":\"2.0\",\"postType\":\"article\",\"postLabels\":[],\"author\":{\"id\":\"47060\",\"alias\":\"olegchir\",\"fullname\":\"\\xd0\\x9e\\xd0\\xbb\\xd0\\xb5\\xd0\\xb3 \\xd0\\xa7\\xd0\\xb8\\xd1\\x80\\xd1\\x83\\xd1\\x85\\xd0\\xb8\\xd0\\xbd\",\"avatarUrl\":\"\\\\u002F\\\\u002Fhabrastorage.org\\\\u002Fgetpro\\\\u002Fhabr\\\\u002Favatars\\\\u002F97a\\\\u002F7a1\\\\u002F7a3\\\\u002F97a7a17a34ac8e5c74105213ae932c4f.jpg\",\"speciality\":\"\\xd0\\xba\\xd0\\xb8\\xd0\\xb1\\xd0\\xb5\\xd1\\x80-\\xd0\\xbd\\xd0\\xb8\\xd0\\xbd\\xd0\\xb4\\xd0\\xb7\\xd1\\x8f\"},\"statistics\":{\"commentsCount\":0,\"favoritesCount\":2,\"readingCount\":271,\"score\":0,\"votesCount\":0},\"hubs\":[{\"relatedData\":null,\"id\":\"7575\",\"alias\":\"JetBrains\",\"type\":\"corporative\",\"title\":\"JetBrains corporate blog\",\"titleHtml\":\"JetBrains corporate blog\",\"isProfiled\":false},{\"relatedData\":null,\"id\":\"359\",\"alias\":\"programming\",\"type\":\"collective\",\"title\":\"Programming\",\"titleHtml\":\"Programming\",\"isProfiled\":true},{\"relatedData\":null,\"id\":\"17795\",\"alias\":\"bigdata\",\"type\":\"collective\",\"title\":\"Big Data\",\"titleHtml\":\"Big Data\",\"isProfiled\":true},{\"relatedData\":null,\"id\":\"22374\",\"alias\":\"data_engineering\",\"type\":\"collective\",\"title\":\"Data Engineering\",\"titleHtml\":\"Data Engineering\",\"isProfiled\":true}],\"flows\":[{\"id\":\"1\",\"alias\":\"develop\",\"title\":\"Development\"},{\"id\":\"6\",\"alias\":\"admin\",\"title\":\"Administrating\"}],\"relatedData\":null,\"leadData\":{\"textHtml\":\"\\\\u003Cp\\\\u003ERecently we released a new build of the Big Data Tools plugin that is compatible with the 2021.3 versions of IntelliJ IDEA and PyCharm. DataGrip 2021.3 support will be available immediately after the release in October. The plugin also supports our new data science IDE \\xe2\\x80\\x93 JetBrains DataSpell. If you still use previous versions, now is the perfect time to upgrade both your IDE and the plugin.&nbsp;\\\\u003C\\\\u002Fp\\\\u003E\\\\u003Cp\\\\u003EThis year, we introduced a number of new features as well as some features that have been there for a while, for example, running Spark Submit with a run configuration.\\\\u003C\\\\u002Fp\\\\u003E\\\\u003Cp\\\\u003EHere\\xe2\\x80\\x99s a list of the key improvements:\\\\u003C\\\\u002Fp\\\\u003E\",\"imageUrl\":\"https:\\\\u002F\\\\u002Fhabrastorage.org\\\\u002Fgetpro\\\\u002Fhabr\\\\u002Fupload_files\\\\u002F918\\\\u002Fe06\\\\u002F902\\\\u002F918e069020ce32f06f266386b4179dde.png\",\"buttonTextHtml\":\"Read more\",\"image\":{\"url\":\"https:\\\\u002F\\\\u002Fhabrastorage.org\\\\u002Fgetpro\\\\u002Fhabr\\\\u002Fupload_files\\\\u002F918\\\\u002Fe06\\\\u002F902\\\\u002F918e069020ce32f06f266386b4179dde.png\",\"fit\":\"cover\",\"positionY\":1.8181818181818,\"positionX\":54.358974358974}},\"status\":\"published\",\"plannedPublishTime\":null,\"checked\":null,\"tags\":[{\"titleHtml\":\"amazon\"},{\"titleHtml\":\"s3\"},{\"titleHtml\":\"amazon s3\"},{\"titleHtml\":\"hadoop\"},{\"titleHtml\":\"kafka\"},{\"titleHtml\":\"spark\"},{\"titleHtml\":\"zeppelin\"},{\"titleHtml\":\"apache spark\"},{\"titleHtml\":\"apache zeppelin\"},{\"titleHtml\":\"apache kafka\"}]},\"580482\":{\"id\":\"580482\",\"timePublished\":\"2021-09-28T12:43:11+00:00\",\"isCorporative\":true,\"lang\":\"en\",\"titleHtml\":\"CWE Top 25 2021. What is it, what is it for and how is it useful for static analysis?\",\"editorVersion\":\"1.0\",\"postType\":\"article\",\"postLabels\":[],\"author\":{\"id\":\"523214\",\"alias\":\"Mixxxxa\",\"fullname\":\"\\xd0\\x9c\\xd0\\xb8\\xd1\\x85\\xd0\\xb0\\xd0\\xb8\\xd0\\xbb \\xd0\\x93\\xd0\\xb5\\xd0\\xbb\\xd1\\x8c\\xd0\\xb2\\xd0\\xb8\\xd1\\x85\",\"avatarUrl\":\"\\\\u002F\\\\u002Fhabrastorage.org\\\\u002Fgetpro\\\\u002Fhabr\\\\u002Favatars\\\\u002Fdba\\\\u002F2ee\\\\u002Ff0f\\\\u002Fdba2eef0f9977296cfe38816e0a2ae81.png\",\"speciality\":\"C++ \\xd0\\xa0\\xd0\\xb0\\xd0\\xb7\\xd1\\x80\\xd0\\xb0\\xd0\\xb1\\xd0\\xbe\\xd1\\x82\\xd1\\x87\\xd0\\xb8\\xd0\\xba\"},\"statistics\":{\"commentsCount\":0,\"favoritesCount\":1,\"readingCount\":126,\"score\":0,\"votesCount\":0},\"hubs\":[{\"relatedData\":null,\"id\":\"18095\",\"alias\":\"pvs-studio\",\"type\":\"corporative\",\"title\":\"PVS-Studio corporate blog\",\"titleHtml\":\"PVS-Studio corporate blog\",\"isProfiled\":false},{\"relatedData\":null,\"id\":\"50\",\"alias\":\"infosecurity\",\"type\":\"collective\",\"title\":\"Information Security\",\"titleHtml\":\"Information Security\",\"isProfiled\":true},{\"relatedData\":null,\"id\":\"375\",\"alias\":\"java\",\"type\":\"collective\",\"title\":\"Java\",\"titleHtml\":\"Java\",\"isProfiled\":true},{\"relatedData\":null,\"id\":\"559\",\"alias\":\"cpp\",\"type\":\"collective\",\"title\":\"C++\",\"titleHtml\":\"C++\",\"isProfiled\":true},{\"relatedData\":null,\"id\":\"17718\",\"alias\":\"csharp\",\"type\":\"collective\",\"title\":\"C#\",\"titleHtml\":\"C#\",\"isProfiled\":true}],\"flows\":[{\"id\":\"1\",\"alias\":\"develop\",\"title\":\"Development\"}],\"relatedData\":null,\"leadData\":{\"textHtml\":\"\\\\u003Cp\\\\u003EFor the first time PVS-Studio provided support for the CWE classification in the 6.21 release. It took place on January 15, 2018. Years have passed since then and we would like to tell you about the improvements related to the support of this classification in the latest analyzer version.\\\\u003C\\\\u002Fp\\\\u003E\\\\u003Cbr\\\\u003E\\\\r\\\\n\\\\u003Cp\\\\u003E\\\\u003Cimg src=\\\\\"https:\\\\u002F\\\\u002Fhabrastorage.org\\\\u002Fgetpro\\\\u002Fhabr\\\\u002Fpost_images\\\\u002F6c7\\\\u002F064\\\\u002F280\\\\u002F6c706428086332649d765b3f6cdc4675.png\\\\\" alt=\\\\\"https:\\\\u002F\\\\u002Fimport.viva64.com\\\\u002Fdocx\\\\u002Fblog\\\\u002F0869_CWE_status\\\\u002Fimage1.png\\\\\"\\\\u003E\\\\u003Cbr\\\\u003E\\\\r\\\\n\\\\u003C\\\\u002Fp\\\\u003E\\\\u003Cbr\\\\u003E\",\"imageUrl\":null,\"buttonTextHtml\":\"Read more &rarr;\",\"image\":null},\"status\":\"published\",\"plannedPublishTime\":null,\"checked\":null,\"tags\":[{\"titleHtml\":\"cwe\"},{\"titleHtml\":\"top\"},{\"titleHtml\":\"pvsstudio\"},{\"titleHtml\":\"cpp\"},{\"titleHtml\":\"c#\"},{\"titleHtml\":\"java\"},{\"titleHtml\":\"static code analysis\"}]},\"581000\":{\"id\":\"581000\",\"timePublished\":\"2021-09-30T17:25:58+00:00\",\"isCorporative\":false,\"lang\":\"en\",\"titleHtml\":\"PIM or MDM: which system is better for retail?\",\"editorVersion\":\"2.0\",\"postType\":\"article\",\"postLabels\":[],\"author\":{\"id\":\"2354453\",\"alias\":\"Scallium\",\"fullname\":\"\\xd0\\x90\\xd0\\xbd\\xd0\\xb4\\xd1\\x80\\xd0\\xb5\\xd0\\xb9 \\xd0\\x9f\\xd0\\xb0\\xd0\\xb2\\xd0\\xbb\\xd0\\xb5\\xd0\\xbd\\xd0\\xba\\xd0\\xbe\",\"avatarUrl\":\"\\\\u002F\\\\u002Fhabrastorage.org\\\\u002Fgetpro\\\\u002Fhabr\\\\u002Favatars\\\\u002F7f3\\\\u002Faa7\\\\u002Ff49\\\\u002F7f3aa7f497998947f25f080d43c10e50.jpg\",\"speciality\":\"CEO I\\xd0\\xa2-\\xd0\\xba\\xd0\\xbe\\xd0\\xbc\\xd0\\xbf\\xd0\\xb0\\xd0\\xbd\\xd0\\xb8\\xd0\\xb8, Scrum, Agile\"},\"statistics\":{\"commentsCount\":0,\"favoritesCount\":0,\"readingCount\":173,\"score\":0,\"votesCount\":0},\"hubs\":[{\"relatedData\":null,\"id\":\"18810\",\"alias\":\"ecommerce_development\",\"type\":\"collective\",\"title\":\"Development for e-commerce\",\"titleHtml\":\"Development for e-commerce\",\"isProfiled\":true}],\"flows\":[{\"id\":\"1\",\"alias\":\"develop\",\"title\":\"Development\"}],\"relatedData\":null,\"leadData\":{\"textHtml\":\"\\\\u003Cp\\\\u003EEffective data management is a critical aspect in retail. You have to manage information about customers, products, services, staff, materials, and so on. You should have a source that you will trust. And you need to store, process, moderate, and administer data in this system.&nbsp;\\\\u003C\\\\u002Fp\\\\u003E\\\\u003Cp\\\\u003EUntil recently, retailers only knew MDM - Master Data Management. A traditional MDM system is a system that knows about different data sources. It contains the \\xe2\\x80\\x9cgolden standard\\xe2\\x80\\x9d of data.&nbsp;\\\\u003C\\\\u002Fp\\\\u003E\\\\u003Cp\\\\u003EImagine that your stores have one customer information, your online store has another, and your marketing services have third data. MDM system collects all these types of information in a single source. The system can find the same clients, spelled differently, and eliminate errors in the data based on different algorithms.\\\\u003C\\\\u002Fp\\\\u003E\\\\u003Cp\\\\u003EThe evolution of MDM systems has led to the emergence of highly specialized master systems. Modern business does not need to implement a heavy MDM to manage only product data. There are PIM systems for this task.\\\\u003C\\\\u002Fp\\\\u003E\",\"imageUrl\":null,\"buttonTextHtml\":\"Read more\",\"image\":null},\"status\":\"published\",\"plannedPublishTime\":null,\"checked\":null,\"tags\":[{\"titleHtml\":\"pim\"},{\"titleHtml\":\"product information management\"},{\"titleHtml\":\"retail\"},{\"titleHtml\":\"e-commerce\"}]},\"581170\":{\"id\":\"581170\",\"timePublished\":\"2021-10-01T16:27:13+00:00\",\"isCorporative\":false,\"lang\":\"en\",\"titleHtml\":\"Millions of orders per second matching engine testing\",\"editorVersion\":\"2.0\",\"postType\":\"article\",\"postLabels\":[{\"type\":\"sandbox\",\"data\":null}],\"author\":{\"id\":\"484136\",\"alias\":\"AlexZus\",\"fullname\":null,\"avatarUrl\":\"\",\"speciality\":\"\"},\"statistics\":{\"commentsCount\":1,\"favoritesCount\":2,\"readingCount\":503,\"score\":5,\"votesCount\":5},\"hubs\":[{\"relatedData\":null,\"id\":\"559\",\"alias\":\"cpp\",\"type\":\"collective\",\"title\":\"C++\",\"titleHtml\":\"C++\",\"isProfiled\":true},{\"relatedData\":null,\"id\":\"7152\",\"alias\":\"data_mining\",\"type\":\"collective\",\"title\":\"Data Mining\",\"titleHtml\":\"Data Mining\",\"isProfiled\":true},{\"relatedData\":null,\"id\":\"17795\",\"alias\":\"bigdata\",\"type\":\"collective\",\"title\":\"Big Data\",\"titleHtml\":\"Big Data\",\"isProfiled\":true},{\"relatedData\":null,\"id\":\"22374\",\"alias\":\"data_engineering\",\"type\":\"collective\",\"title\":\"Data Engineering\",\"titleHtml\":\"Data Engineering\",\"isProfiled\":true}],\"flows\":[{\"id\":\"1\",\"alias\":\"develop\",\"title\":\"Development\"},{\"id\":\"6\",\"alias\":\"admin\",\"title\":\"Administrating\"}],\"relatedData\":null,\"leadData\":{\"textHtml\":\"\\\\u003Cp\\\\u003E I had some experience in the matching engine development for cryptocurrency exchange some time ago. That was an interesting and challenging experience. I developed it in clear C++ from scratch. The testing of it is also quite a challenging task. You need to get data for testing, perform testing, collect some statistics, and at last, analyze collected data to find weak points and bottlenecks. I want to focus on testing the C++ matching engine and show how testing can give insights for optimizations even without the need to change the code. The matching engine I developed can do more than 1\\xe2\\x80\\x99000\\xe2\\x80\\x99000 TPS (transactions per second) and is 10x times faster than the matching engine of the Binance cryptocurrency exchange (see one \\\\u003Ca href=\\\\\"https:\\\\u002F\\\\u002Fwww.binance.com\\\\u002Fen\\\\u002Fblog\\\\u002F421499824684900642\\\\u002FBinance-Futures-For-Institutions--Pioneering-Performance--Technology\\\\\" rel=\\\\\"noopener noreferrer nofollow\\\\\"\\\\u003E\\\\u003Cu\\\\u003Epost\\\\u003C\\\\u002Fu\\\\u003E\\\\u003C\\\\u002Fa\\\\u003E on Binance Blog).\\\\u003C\\\\u002Fp\\\\u003E\",\"imageUrl\":null,\"buttonTextHtml\":\"Read more\",\"image\":{\"url\":\"https:\\\\u002F\\\\u002Fhabrastorage.org\\\\u002Fgetpro\\\\u002Fhabr\\\\u002Fupload_files\\\\u002F751\\\\u002Fc03\\\\u002F16d\\\\u002F751c0316d8ce9b5ddc15748e3d418eeb.jpg\",\"fit\":\"cover\",\"positionY\":0,\"positionX\":0}},\"status\":\"published\",\"plannedPublishTime\":null,\"checked\":null,\"tags\":[{\"titleHtml\":\"cryptocurrency\"},{\"titleHtml\":\"matching engine\"},{\"titleHtml\":\"trading software\"},{\"titleHtml\":\"exchange\"},{\"titleHtml\":\"optimization\"},{\"titleHtml\":\"analytics\"}]},\"581226\":{\"id\":\"581226\",\"timePublished\":\"2021-10-04T09:04:29+00:00\",\"isCorporative\":false,\"lang\":\"en\",\"titleHtml\":\"Helpful service for microservice JSON-RPC based test automation\",\"editorVersion\":\"2.0\",\"postType\":\"article\",\"postLabels\":[],\"author\":{\"id\":\"2238190\",\"alias\":\"daymock\",\"fullname\":\"Dmitrii Anisimov\",\"avatarUrl\":\"\",\"speciality\":\"SDET\"},\"statistics\":{\"commentsCount\":0,\"favoritesCount\":0,\"readingCount\":82,\"score\":0,\"votesCount\":0},\"hubs\":[{\"relatedData\":null,\"id\":\"210\",\"alias\":\"it_testing\",\"type\":\"collective\",\"title\":\"IT systems testing\",\"titleHtml\":\"IT systems testing\",\"isProfiled\":true},{\"relatedData\":null,\"id\":\"19279\",\"alias\":\"web_testing\",\"type\":\"collective\",\"title\":\"Web services testing\",\"titleHtml\":\"Web services testing\",\"isProfiled\":true}],\"flows\":[{\"id\":\"1\",\"alias\":\"develop\",\"title\":\"Development\"}],\"relatedData\":null,\"leadData\":{\"textHtml\":\"\\\\u003Cp\\\\u003ETest automation, with product built in microservice architecture could be very situational in context of testing goals and ways to achieve them. You got an easy life if you testing a service, that is an isolated entity, which is receiving some data and providing a result of it\\'s work in a response, by callback or through additional endpoint. In this case all you need to do is cover all the endpoints of the service, and probably learn to catch it\\'s callbacks. However, it\\'s not the only case. Sometimes you need to test service which isn\\'t totally isolated, but a part of a chain of interactions. This service could send some data to other services within your infrastructure or even to third parties. This time you got plenty of additional things to bother of:\\\\u003C\\\\u002Fp\\\\u003E\",\"imageUrl\":null,\"buttonTextHtml\":\"Read more\",\"image\":null},\"status\":\"published\",\"plannedPublishTime\":null,\"checked\":null,\"tags\":[{\"titleHtml\":\"test automation\"},{\"titleHtml\":\"testing tools\"}]},\"581360\":{\"id\":\"581360\",\"timePublished\":\"2021-10-04T08:53:59+00:00\",\"isCorporative\":false,\"lang\":\"en\",\"titleHtml\":\"How to fund an MVP-stage startup? An ultimate guide to initial funding\",\"editorVersion\":\"2.0\",\"postType\":\"article\",\"postLabels\":[{\"type\":\"tutorial\",\"data\":null}],\"author\":{\"id\":\"2791635\",\"alias\":\"Saldojin\",\"fullname\":null,\"avatarUrl\":\"\",\"speciality\":\"\"},\"statistics\":{\"commentsCount\":0,\"favoritesCount\":0,\"readingCount\":129,\"score\":0,\"votesCount\":0},\"hubs\":[{\"relatedData\":null,\"id\":\"20722\",\"alias\":\"startuprise\",\"type\":\"collective\",\"title\":\"Start-up development\",\"titleHtml\":\"Start-up development\",\"isProfiled\":false},{\"relatedData\":null,\"id\":\"21928\",\"alias\":\"finance\",\"type\":\"collective\",\"title\":\"Finance in IT\",\"titleHtml\":\"Finance in IT\",\"isProfiled\":false}],\"flows\":[{\"id\":\"3\",\"alias\":\"management\",\"title\":\"Management\"},{\"id\":\"7\",\"alias\":\"popsci\",\"title\":\"PopSci\"}],\"relatedData\":null,\"leadData\":{\"textHtml\":\"\\\\u003Cp\\\\u003EFree money to fund your own business is probably the most cherished dream of every budding entrepreneur.\\\\u003C\\\\u002Fp\\\\u003E\\\\u003Cp\\\\u003EAnd getting a grant is what can bring it to life. While small business owners dream of a grant to fund their startup, the process of its obtaining is not as easy and cloudless as it may seem.\\\\u003C\\\\u002Fp\\\\u003E\\\\u003Cp\\\\u003EHowever, if you know where to look for the right fund and how to apply, one can significantly nick in the path to getting seed money.\\\\u003C\\\\u002Fp\\\\u003E\\\\u003Cp\\\\u003E\\\\u003Cstrong\\\\u003EDifference between a grant, attracted investment, and loan.\\\\u003C\\\\u002Fstrong\\\\u003E\\\\u003C\\\\u002Fp\\\\u003E\",\"imageUrl\":\"https:\\\\u002F\\\\u002Fhabrastorage.org\\\\u002Fgetpro\\\\u002Fhabr\\\\u002Fupload_files\\\\u002Fb47\\\\u002F0b8\\\\u002F360\\\\u002Fb470b836013673993d813978c0aed51e.jpeg\",\"buttonTextHtml\":\"Read more\",\"image\":{\"url\":\"https:\\\\u002F\\\\u002Fhabrastorage.org\\\\u002Fgetpro\\\\u002Fhabr\\\\u002Fupload_files\\\\u002Fb47\\\\u002F0b8\\\\u002F360\\\\u002Fb470b836013673993d813978c0aed51e.jpeg\",\"fit\":\"cover\",\"positionY\":0,\"positionX\":0}},\"status\":\"published\",\"plannedPublishTime\":null,\"checked\":null,\"tags\":[{\"titleHtml\":\"grant\"},{\"titleHtml\":\"funding\"},{\"titleHtml\":\"venture investment\"},{\"titleHtml\":\"startups\"}]}},\"articlesIds\":{\"ARTICLES_LIST_ALL\":[\"581226\",\"581360\",\"581170\",\"581000\",\"579832\",\"580482\",\"580338\",\"580272\",\"580188\",\"580026\",\"579736\",\"579714\",\"579522\",\"579428\",\"578574\",\"577978\",\"577666\",\"575632\",\"577208\",\"577040\"]},\"isLoading\":false,\"pagesCount\":{\"ARTICLES_LIST_ALL\":50},\"route\":{\"name\":\"ARTICLES_LIST_ALL\",\"params\":{\"hl\":\"en\"},\"query\":{}},\"reasonsList\":null,\"view\":\"cards\",\"lastVisitedRoute\":{},\"ssrCommentsArticleIds\":[],\"karma\":{}},\"authorContribution\":{\"authors\":{}},\"betaTest\":{\"currentAnnouncement\":null,\"announcements\":{},\"announcementCards\":null,\"announcementComments\":{},\"announcementCommentThreads\":{},\"announcementCommentingStatuses\":{},\"archivedList\":[]},\"authorStatistics\":{\"articleRefs\":{},\"articleIds\":{},\"pagesCount\":{},\"route\":{},\"viewsCount\":[],\"maxStatsCount\":{}},\"comments\":{\"articleComments\":{},\"searchCommentsResults\":null,\"previewComment\":null,\"pagesCount\":null,\"commentAccess\":{},\"scrollParents\":{},\"pageArticleComments\":{\"lastViewedComment\":0,\"postId\":null,\"lastCommentTimestamp\":\"\",\"moderated\":[],\"moderatedIds\":[],\"commentRoute\":\"\"}},\"companies\":{\"companyRefs\":{\"ruvds\":{\"id\":\"3593\",\"alias\":\"ruvds\",\"titleHtml\":\"RUVDS.com\",\"descriptionHtml\":\"VDS\\\\u002FVPS-\\xd1\\x85\\xd0\\xbe\\xd1\\x81\\xd1\\x82\\xd0\\xb8\\xd0\\xbd\\xd0\\xb3. \\xd0\\xa1\\xd0\\xba\\xd0\\xb8\\xd0\\xb4\\xd0\\xba\\xd0\\xb0 10% \\xd0\\xbf\\xd0\\xbe \\xd0\\xba\\xd0\\xbe\\xd0\\xb4\\xd1\\x83 \\\\u003Cb\\\\u003EHABR10\\\\u003C\\\\u002Fb\\\\u003E\",\"imageUrl\":\"\\\\u002F\\\\u002Fhabrastorage.org\\\\u002Fgetpro\\\\u002Fhabr\\\\u002Fcompany\\\\u002Ff27\\\\u002Fea8\\\\u002F5bd\\\\u002Ff27ea85bd62fbd985c308110885af7e0.png\",\"relatedData\":null,\"statistics\":{\"subscribersCount\":35463,\"rating\":3388.02,\"invest\":null},\"commonHubs\":[{\"id\":\"21976\",\"alias\":\"DIY\",\"type\":\"collective\",\"title\":\"DIY\",\"titleHtml\":\"DIY\",\"isProfiled\":false},{\"id\":\"21910\",\"alias\":\"popular_science\",\"type\":\"collective\",\"title\":\"Popular science\",\"titleHtml\":\"Popular science\",\"isProfiled\":false},{\"id\":\"221\",\"alias\":\"sys_admin\",\"type\":\"collective\",\"title\":\"System administration\",\"titleHtml\":\"System administration\",\"isProfiled\":true},{\"id\":\"91\",\"alias\":\"webdev\",\"type\":\"collective\",\"title\":\"Website development\",\"titleHtml\":\"Website development\",\"isProfiled\":true},{\"id\":\"359\",\"alias\":\"programming\",\"type\":\"collective\",\"title\":\"Programming\",\"titleHtml\":\"Programming\",\"isProfiled\":true}]},\"selectel\":{\"id\":\"975\",\"alias\":\"selectel\",\"titleHtml\":\"Selectel\",\"descriptionHtml\":\"IT-\\xd0\\xb8\\xd0\\xbd\\xd1\\x84\\xd1\\x80\\xd0\\xb0\\xd1\\x81\\xd1\\x82\\xd1\\x80\\xd1\\x83\\xd0\\xba\\xd1\\x82\\xd1\\x83\\xd1\\x80\\xd0\\xb0 \\xd0\\xb4\\xd0\\xbb\\xd1\\x8f \\xd0\\xb1\\xd0\\xb8\\xd0\\xb7\\xd0\\xbd\\xd0\\xb5\\xd1\\x81\\xd0\\xb0\",\"imageUrl\":\"\\\\u002F\\\\u002Fhabrastorage.org\\\\u002Fgetpro\\\\u002Fhabr\\\\u002Fcompany\\\\u002F66a\\\\u002Ff7d\\\\u002F039\\\\u002F66af7d03979b6d18654293d8f1e72837.png\",\"relatedData\":null,\"statistics\":{\"subscribersCount\":26837,\"rating\":1388.17,\"invest\":null},\"commonHubs\":[{\"id\":\"21898\",\"alias\":\"hardware\",\"type\":\"collective\",\"title\":\"Computer hardware\",\"titleHtml\":\"Computer hardware\",\"isProfiled\":false},{\"id\":\"22014\",\"alias\":\"futurenow\",\"type\":\"collective\",\"title\":\"The future is here\",\"titleHtml\":\"The future is here\",\"isProfiled\":false},{\"id\":\"21910\",\"alias\":\"popular_science\",\"type\":\"collective\",\"title\":\"Popular science\",\"titleHtml\":\"Popular science\",\"isProfiled\":false},{\"id\":\"21894\",\"alias\":\"gadgets\",\"type\":\"collective\",\"title\":\"Gadgets\",\"titleHtml\":\"Gadgets\",\"isProfiled\":false},{\"id\":\"21906\",\"alias\":\"history\",\"type\":\"collective\",\"title\":\"History of IT\",\"titleHtml\":\"History of IT\",\"isProfiled\":false}]},\"timeweb\":{\"id\":\"1461\",\"alias\":\"timeweb\",\"titleHtml\":\"Timeweb\",\"descriptionHtml\":\"\\xd0\\xa5\\xd0\\xbe\\xd1\\x81\\xd1\\x82\\xd0\\xb8\\xd0\\xbd\\xd0\\xb3, VDS \\xd0\\xb8 \\xd0\\x98\\xd0\\xa2-\\xd0\\xb8\\xd0\\xbd\\xd1\\x84\\xd1\\x80\\xd0\\xb0\\xd1\\x81\\xd1\\x82\\xd1\\x80\\xd1\\x83\\xd0\\xba\\xd1\\x82\\xd1\\x83\\xd1\\x80\\xd0\\xb0\",\"imageUrl\":\"\\\\u002F\\\\u002Fhabrastorage.org\\\\u002Fgetpro\\\\u002Fhabr\\\\u002Fcompany\\\\u002Fb5b\\\\u002F7e1\\\\u002Fc48\\\\u002Fb5b7e1c4819388606f1a3c7ed1d2373a.jpg\",\"relatedData\":null,\"statistics\":{\"subscribersCount\":468,\"rating\":952.36,\"invest\":null},\"commonHubs\":[{\"id\":\"21910\",\"alias\":\"popular_science\",\"type\":\"collective\",\"title\":\"Popular science\",\"titleHtml\":\"Popular science\",\"isProfiled\":false},{\"id\":\"359\",\"alias\":\"programming\",\"type\":\"collective\",\"title\":\"Programming\",\"titleHtml\":\"Programming\",\"isProfiled\":true},{\"id\":\"20742\",\"alias\":\"read\",\"type\":\"collective\",\"title\":\"Reading room\",\"titleHtml\":\"Reading room\",\"isProfiled\":false},{\"id\":\"357\",\"alias\":\"javascript\",\"type\":\"collective\",\"title\":\"JavaScript\",\"titleHtml\":\"JavaScript\",\"isProfiled\":true},{\"id\":\"91\",\"alias\":\"webdev\",\"type\":\"collective\",\"title\":\"Website development\",\"titleHtml\":\"Website development\",\"isProfiled\":true}]},\"yandex\":{\"id\":\"1\",\"alias\":\"yandex\",\"titleHtml\":\"\\xd0\\xaf\\xd0\\xbd\\xd0\\xb4\\xd0\\xb5\\xd0\\xba\\xd1\\x81\",\"descriptionHtml\":\"\\xd0\\x9a\\xd0\\xb0\\xd0\\xba \\xd0\\xbc\\xd1\\x8b \\xd0\\xb4\\xd0\\xb5\\xd0\\xbb\\xd0\\xb0\\xd0\\xb5\\xd0\\xbc \\xd0\\xaf\\xd0\\xbd\\xd0\\xb4\\xd0\\xb5\\xd0\\xba\\xd1\\x81\",\"imageUrl\":\"\\\\u002F\\\\u002Fhabrastorage.org\\\\u002Fgetpro\\\\u002Fhabr\\\\u002Fcompany\\\\u002Fb02\\\\u002Fd9b\\\\u002F1d4\\\\u002Fb02d9b1d4a6e64ff069e2ab32fdedae2.png\",\"relatedData\":null,\"statistics\":{\"subscribersCount\":113934,\"rating\":708.58,\"invest\":null},\"commonHubs\":[{\"id\":\"9188\",\"alias\":\"ui\",\"type\":\"collective\",\"title\":\"Interfaces\",\"titleHtml\":\"Interfaces\",\"isProfiled\":true},{\"id\":\"4\",\"alias\":\"hi\",\"type\":\"collective\",\"title\":\"High performance\",\"titleHtml\":\"High performance\",\"isProfiled\":true},{\"id\":\"19439\",\"alias\":\"machine_learning\",\"type\":\"collective\",\"title\":\"Machine learning\",\"titleHtml\":\"Machine learning\",\"isProfiled\":true},{\"id\":\"559\",\"alias\":\"cpp\",\"type\":\"collective\",\"title\":\"C++\",\"titleHtml\":\"C++\",\"isProfiled\":true},{\"id\":\"6345\",\"alias\":\"mobile_dev\",\"type\":\"collective\",\"title\":\"Development of mobile applications\",\"titleHtml\":\"Development of mobile applications\",\"isProfiled\":true}]},\"domclick\":{\"id\":\"6680\",\"alias\":\"domclick\",\"titleHtml\":\"\\xd0\\x94\\xd0\\xbe\\xd0\\xbc\\xd0\\xba\\xd0\\xbb\\xd0\\xb8\\xd0\\xba\",\"descriptionHtml\":\"\\xd0\\x9c\\xd0\\xb5\\xd1\\x81\\xd1\\x82\\xd0\\xbe \\xd1\\x81\\xd0\\xb8\\xd0\\xbb\\xd1\\x8b\",\"imageUrl\":\"\\\\u002F\\\\u002Fhabrastorage.org\\\\u002Fgetpro\\\\u002Fhabr\\\\u002Fcompany\\\\u002Fd28\\\\u002F115\\\\u002Ff55\\\\u002Fd28115f5503229d4f9018292fabd1840.jpg\",\"relatedData\":null,\"statistics\":{\"subscribersCount\":589,\"rating\":657.81,\"invest\":null},\"commonHubs\":[{\"id\":\"359\",\"alias\":\"programming\",\"type\":\"collective\",\"title\":\"Programming\",\"titleHtml\":\"Programming\",\"isProfiled\":true},{\"id\":\"340\",\"alias\":\"python\",\"type\":\"collective\",\"title\":\"Python\",\"titleHtml\":\"Python\",\"isProfiled\":true},{\"id\":\"357\",\"alias\":\"javascript\",\"type\":\"collective\",\"title\":\"JavaScript\",\"titleHtml\":\"JavaScript\",\"isProfiled\":true},{\"id\":\"91\",\"alias\":\"webdev\",\"type\":\"collective\",\"title\":\"Website development\",\"titleHtml\":\"Website development\",\"isProfiled\":true},{\"id\":\"19583\",\"alias\":\"dev_management\",\"type\":\"collective\",\"title\":\"Development Management\",\"titleHtml\":\"Development Management\",\"isProfiled\":true}]},\"lamptest\":{\"id\":\"5286\",\"alias\":\"lamptest\",\"titleHtml\":\"LampTest\",\"descriptionHtml\":\"\\xd0\\xa2\\xd0\\xb5\\xd1\\x81\\xd1\\x82\\xd0\\xb8\\xd1\\x80\\xd0\\xbe\\xd0\\xb2\\xd0\\xb0\\xd0\\xbd\\xd0\\xb8\\xd0\\xb5 \\xd1\\x81\\xd0\\xb2\\xd0\\xb5\\xd1\\x82\\xd0\\xbe\\xd0\\xb4\\xd0\\xb8\\xd0\\xbe\\xd0\\xb4\\xd0\\xbd\\xd1\\x8b\\xd1\\x85 \\xd0\\xbb\\xd0\\xb0\\xd0\\xbc\\xd0\\xbf\",\"imageUrl\":\"\\\\u002F\\\\u002Fhabrastorage.org\\\\u002Fgetpro\\\\u002Fgeektimes\\\\u002Fcompany\\\\u002Ffaa\\\\u002F8f3\\\\u002F29f\\\\u002Ffaa8f329f54ab8821c7f2d1459ec2bda.jpg\",\"relatedData\":null,\"statistics\":{\"subscribersCount\":36887,\"rating\":646.77,\"invest\":null},\"commonHubs\":[{\"id\":\"21894\",\"alias\":\"gadgets\",\"type\":\"collective\",\"title\":\"Gadgets\",\"titleHtml\":\"Gadgets\",\"isProfiled\":false},{\"id\":\"21914\",\"alias\":\"energy\",\"type\":\"collective\",\"title\":\"Energy and batteries\",\"titleHtml\":\"Energy and batteries\",\"isProfiled\":false},{\"id\":\"21966\",\"alias\":\"home_automation\",\"type\":\"collective\",\"title\":\"Smart House\",\"titleHtml\":\"Smart House\",\"isProfiled\":false},{\"id\":\"21474\",\"alias\":\"arduino\",\"type\":\"collective\",\"title\":\"Developing for Arduino\",\"titleHtml\":\"Developing for Arduino\",\"isProfiled\":true},{\"id\":\"21976\",\"alias\":\"DIY\",\"type\":\"collective\",\"title\":\"DIY\",\"titleHtml\":\"DIY\",\"isProfiled\":false}]},\"croc\":{\"id\":\"1118\",\"alias\":\"croc\",\"titleHtml\":\"\\xd0\\x9a\\xd0\\xa0\\xd0\\x9e\\xd0\\x9a\",\"descriptionHtml\":\"IT-\\xd0\\xba\\xd0\\xbe\\xd0\\xbc\\xd0\\xbf\\xd0\\xb0\\xd0\\xbd\\xd0\\xb8\\xd1\\x8f\",\"imageUrl\":\"\\\\u002F\\\\u002Fhabrastorage.org\\\\u002Fgetpro\\\\u002Fhabr\\\\u002Fcompany\\\\u002F5b6\\\\u002F5b7\\\\u002F955\\\\u002F5b65b7955dca146a7fa4bda37463bc04.png\",\"relatedData\":null,\"statistics\":{\"subscribersCount\":28832,\"rating\":436.24,\"invest\":null},\"commonHubs\":[{\"id\":\"6398\",\"alias\":\"it-infrastructure\",\"type\":\"collective\",\"title\":\"IT Infrastructure\",\"titleHtml\":\"IT Infrastructure\",\"isProfiled\":true},{\"id\":\"20682\",\"alias\":\"pm\",\"type\":\"collective\",\"title\":\"Project management\",\"titleHtml\":\"Project management\",\"isProfiled\":true},{\"id\":\"20740\",\"alias\":\"career\",\"type\":\"collective\",\"title\":\"IT career\",\"titleHtml\":\"IT career\",\"isProfiled\":false},{\"id\":\"22113\",\"alias\":\"engineering_systems\",\"type\":\"collective\",\"title\":\"Systems engineering\",\"titleHtml\":\"Systems engineering\",\"isProfiled\":false},{\"id\":\"397\",\"alias\":\"analysis_design\",\"type\":\"collective\",\"title\":\"System Analysis and Design\",\"titleHtml\":\"System Analysis and Design\",\"isProfiled\":true}]},\"habr\":{\"id\":\"412\",\"alias\":\"habr\",\"titleHtml\":\"Habr\",\"descriptionHtml\":\"Create services for geeks\",\"imageUrl\":\"\\\\u002F\\\\u002Fhabrastorage.org\\\\u002Fgetpro\\\\u002Fhabr\\\\u002Fcompany\\\\u002F075\\\\u002Fe25\\\\u002Fe71\\\\u002F075e25e71073e14733fe91726932789a.png\",\"relatedData\":null,\"statistics\":{\"subscribersCount\":31801,\"rating\":435.92,\"invest\":null},\"commonHubs\":[{\"id\":\"20720\",\"alias\":\"contentmarketing\",\"type\":\"collective\",\"title\":\"Content-marketing\",\"titleHtml\":\"Content-marketing\",\"isProfiled\":false},{\"id\":\"20742\",\"alias\":\"read\",\"type\":\"collective\",\"title\":\"Reading room\",\"titleHtml\":\"Reading room\",\"isProfiled\":false},{\"id\":\"161\",\"alias\":\"habr\",\"type\":\"collective\",\"title\":\"Habr\",\"titleHtml\":\"Habr\",\"isProfiled\":false},{\"id\":\"20566\",\"alias\":\"habr_career\",\"type\":\"corporative\",\"title\":\"\\xd0\\xa5\\xd0\\xb0\\xd0\\xb1\\xd1\\x80 \\xd0\\x9a\\xd0\\xb0\\xd1\\x80\\xd1\\x8c\\xd0\\xb5\\xd1\\x80\\xd0\\xb0 corporate blog\",\"titleHtml\":\"\\xd0\\xa5\\xd0\\xb0\\xd0\\xb1\\xd1\\x80 \\xd0\\x9a\\xd0\\xb0\\xd1\\x80\\xd1\\x8c\\xd0\\xb5\\xd1\\x80\\xd0\\xb0 corporate blog\",\"isProfiled\":false},{\"id\":\"21910\",\"alias\":\"popular_science\",\"type\":\"collective\",\"title\":\"Popular science\",\"titleHtml\":\"Popular science\",\"isProfiled\":false}]},\"itsoft\":{\"id\":\"7728\",\"alias\":\"itsoft\",\"titleHtml\":\"ITSOFT\",\"descriptionHtml\":\"\\xd0\\x94\\xd0\\xb0\\xd1\\x82\\xd0\\xb0-\\xd1\\x86\\xd0\\xb5\\xd0\\xbd\\xd1\\x82\\xd1\\x80\\xd1\\x8b: \\xd1\\x80\\xd0\\xb0\\xd0\\xb7\\xd0\\xbc\\xd0\\xb5\\xd1\\x89\\xd0\\xb5\\xd0\\xbd\\xd0\\xb8\\xd0\\xb5 \\xd0\\xb8 \\xd0\\xb0\\xd1\\x80\\xd0\\xb5\\xd0\\xbd\\xd0\\xb4\\xd0\\xb0 \\xd1\\x81\\xd0\\xb5\\xd1\\x80\\xd0\\xb2\\xd0\\xb5\\xd1\\x80\\xd0\\xbe\\xd0\\xb2 \\xd0\\xb8 \\xd1\\x81\\xd1\\x82\\xd0\\xbe\\xd0\\xb5\\xd0\\xba.\",\"imageUrl\":\"\\\\u002F\\\\u002Fhabrastorage.org\\\\u002Fgetpro\\\\u002Fhabr\\\\u002Fcompany\\\\u002Ff48\\\\u002Fd46\\\\u002F029\\\\u002Ff48d460297f1a9fe1a9e3e0a1e7aedc9.png\",\"relatedData\":null,\"statistics\":{\"subscribersCount\":505,\"rating\":358.63,\"invest\":null},\"commonHubs\":[{\"id\":\"21910\",\"alias\":\"popular_science\",\"type\":\"collective\",\"title\":\"Popular science\",\"titleHtml\":\"Popular science\",\"isProfiled\":false},{\"id\":\"22014\",\"alias\":\"futurenow\",\"type\":\"collective\",\"title\":\"The future is here\",\"titleHtml\":\"The future is here\",\"isProfiled\":false},{\"id\":\"50\",\"alias\":\"infosecurity\",\"type\":\"collective\",\"title\":\"Information Security\",\"titleHtml\":\"Information Security\",\"isProfiled\":true},{\"id\":\"21962\",\"alias\":\"space\",\"type\":\"collective\",\"title\":\"Astronautics\",\"titleHtml\":\"Astronautics\",\"isProfiled\":false},{\"id\":\"17123\",\"alias\":\"network_technologies\",\"type\":\"collective\",\"title\":\"Network technologies\",\"titleHtml\":\"Network technologies\",\"isProfiled\":true}]},\"qrator\":{\"id\":\"817\",\"alias\":\"qrator\",\"titleHtml\":\"Qrator Labs\",\"descriptionHtml\":\"DDoS Attacks Mitigation & Continuous Availability\",\"imageUrl\":\"\\\\u002F\\\\u002Fhabrastorage.org\\\\u002Fgetpro\\\\u002Fhabr\\\\u002Fcompany\\\\u002F631\\\\u002Fc46\\\\u002Fc29\\\\u002F631c46c29ef344796e29f261da2b0662.png\",\"relatedData\":null,\"statistics\":{\"subscribersCount\":24951,\"rating\":347.93,\"invest\":null},\"commonHubs\":[{\"id\":\"50\",\"alias\":\"infosecurity\",\"type\":\"collective\",\"title\":\"Information Security\",\"titleHtml\":\"Information Security\",\"isProfiled\":true},{\"id\":\"17123\",\"alias\":\"network_technologies\",\"type\":\"collective\",\"title\":\"Network technologies\",\"titleHtml\":\"Network technologies\",\"isProfiled\":true},{\"id\":\"6398\",\"alias\":\"it-infrastructure\",\"type\":\"collective\",\"title\":\"IT Infrastructure\",\"titleHtml\":\"IT Infrastructure\",\"isProfiled\":true},{\"id\":\"8000\",\"alias\":\"algorithms\",\"type\":\"collective\",\"title\":\"Algorithms\",\"titleHtml\":\"Algorithms\",\"isProfiled\":true},{\"id\":\"17812\",\"alias\":\"maths\",\"type\":\"collective\",\"title\":\"Mathematics\",\"titleHtml\":\"Mathematics\",\"isProfiled\":true}]}},\"companyIds\":{},\"companyTopIds\":[\"ruvds\",\"selectel\",\"timeweb\",\"yandex\",\"domclick\",\"lamptest\",\"croc\",\"habr\",\"itsoft\",\"qrator\"],\"pagesCount\":{},\"companyProfiles\":{},\"companiesCategories\":[],\"companiesCategoriesTotalCount\":0,\"companiesWidgets\":{},\"companiesWorkers\":{},\"companiesFans\":{},\"route\":{},\"isLoading\":false,\"companyWorkersLoading\":false,\"companyFansLoading\":false,\"vacancies\":{}},\"companiesContribution\":{\"hubs\":{},\"flows\":{},\"companyRefs\":{}},\"companyHubsContribution\":{\"contributionRefs\":{\"hubRefs\":{},\"hubIds\":{}}},\"conversation\":{\"messages\":[],\"respondent\":null,\"isLoadMore\":false},\"conversations\":{\"conversations\":[],\"unreadCount\":0,\"pagesCount\":0,\"isLoadMore\":false},\"desktopState\":{\"desktopFl\":null,\"desktopHl\":null,\"isChecked\":false,\"isLoginDemanded\":false},\"dfp\":{\"slotsDict\":{}},\"docs\":{\"menu\":{},\"articles\":{},\"mainMenu\":[],\"loading\":{\"main\":false,\"dropdown\":false,\"article\":false}},\"feature\":{\"isProbablyVisible\":\"true\"},\"flows\":{\"flows\":[{\"alias\":\"develop\",\"id\":1,\"route\":{\"name\":\"FLOW_PAGE\",\"params\":{\"flowName\":\"develop\"}}},{\"alias\":\"admin\",\"id\":6,\"route\":{\"name\":\"FLOW_PAGE\",\"params\":{\"flowName\":\"admin\"}}},{\"alias\":\"design\",\"id\":2,\"route\":{\"name\":\"FLOW_PAGE\",\"params\":{\"flowName\":\"design\"}}},{\"alias\":\"management\",\"id\":3,\"route\":{\"name\":\"FLOW_PAGE\",\"params\":{\"flowName\":\"management\"}}},{\"alias\":\"marketing\",\"id\":4,\"route\":{\"name\":\"FLOW_PAGE\",\"params\":{\"flowName\":\"marketing\"}}},{\"alias\":\"popsci\",\"id\":7,\"route\":{\"name\":\"FLOW_PAGE\",\"params\":{\"flowName\":\"popsci\"}}}]},\"global\":{\"isPwa\":false,\"device\":\"desktop\",\"isHabrCom\":true},\"hubs\":{\"hubRefs\":{},\"hubIds\":{},\"pagesCount\":{},\"isLoading\":false,\"route\":{}},\"hubsBlock\":{\"hubRefs\":{},\"hubIds\":{}},\"i18n\":{\"fl\":\"en\",\"hl\":\"en\"},\"info\":{\"infoPage\":{},\"isLoading\":true},\"location\":{\"urlStruct\":{\"protocol\":null,\"slashes\":null,\"auth\":null,\"host\":null,\"port\":null,\"hostname\":null,\"hash\":null,\"search\":null,\"query\":{},\"pathname\":null,\"path\":null,\"href\":\"\"},\"searchQuery\":null},\"me\":{\"user\":null,\"ppgDemanded\":false,\"karmaResetInfo\":{\"canReincarnate\":null,\"wasReincarnated\":null,\"currentScore\":null},\"notes\":null},\"mostReadingList\":{\"mostReadingListIds\":[],\"mostReadingListRefs\":null,\"promoPost\":null},\"pinnedPost\":{\"pinnedPost\":null},\"ppa\":{\"articles\":{},\"card\":null,\"transactions\":null,\"totalTransactions\":null,\"isAccessible\":null},\"projectsBlocks\":{\"activeBlocks\":{}},\"pullRefresh\":{\"shouldRefresh\":false},\"sandbox\":{\"articleIds\":[],\"articleRefs\":{},\"pagesCount\":null,\"route\":{},\"lastVisitedRoute\":{},\"isLoading\":false},\"settingsOther\":{\"inputs\":{\"uiLang\":{\"errors\":[],\"ref\":null,\"value\":\"\"},\"articlesLangEnglish\":{\"errors\":[],\"ref\":null,\"value\":false},\"articlesLangRussian\":{\"errors\":[],\"ref\":null,\"value\":false},\"agreement\":{\"errors\":[],\"ref\":null,\"value\":false},\"email\":{\"errors\":[],\"ref\":null,\"value\":true},\"digest\":{\"errors\":[],\"ref\":null,\"value\":true}}},\"similarList\":{\"similarListIds\":[],\"similarListRefs\":null},\"ssr\":{\"error\":null,\"isDataLoaded\":false,\"isDataLoading\":false,\"isHydrationFailed\":false,\"isServer\":false},\"userHubsContribution\":{\"contributionRefs\":{\"hubRefs\":{},\"hubIds\":{}}},\"userInvites\":{\"availableInvites\":0,\"usedInvitesIds\":[],\"usedInvitesRefs\":{},\"usedInvitesPagesCount\":0,\"unusedInvitesIds\":[],\"unusedInvitesRefs\":{},\"unusedInvitesPagesCount\":0},\"users\":{\"authorRefs\":{},\"authorIds\":{},\"pagesCount\":{},\"authorProfiles\":{},\"userHubs\":{},\"userInvitations\":{},\"authorFollowers\":{},\"authorFollowed\":{},\"karmaStats\":[],\"statistics\":null,\"isLoading\":false,\"authorFollowersLoading\":false,\"authorFollowedLoading\":false,\"userHubsLoading\":false,\"userInvitationsLoading\":false,\"route\":{}},\"viewport\":{\"prevScrollY\":{},\"scrollY\":0,\"width\":0},\"tracker\":{\"items\":{},\"pagesCache\":{},\"markedViewedSilently\":{},\"markedRead\":{},\"unreadCounters\":{\"applications\":null,\"system\":null,\"mentions\":null,\"subscribers\":null,\"posts_and_comments\":null},\"unviewedCounters\":{\"applications\":null,\"system\":null,\"mentions\":null,\"subscribers\":null,\"posts_and_comments\":null}}};(function(){var s;(s=document.currentScript||document.scripts[document.scripts.length-1]).parentNode.removeChild(s);}());</script>\\n<script src=\"https://assets.habr.com/habr-web/js/chunk-vendors.e52202e0.js\" defer></script><script src=\"https://assets.habr.com/habr-web/js/page-flows.d556d5fc.js\" defer></script><script src=\"https://assets.habr.com/habr-web/js/app.211241c5.js\" defer></script>\\n\\n\\n\\n    <script>\\n      (function(i,s,o,g,r,a,m){i[\\'GoogleAnalyticsObject\\']=r;i[r]=i[r]||function(){\\n        (i[r].q=i[r].q||[]).push(arguments)},i[r].l=1*new Date();a=s.createElement(o),\\n        m=s.getElementsByTagName(o)[0];a.async=1;a.src=g;m.parentNode.insertBefore(a,m)\\n      })(window,document,\\'script\\',\\'//www.google-analytics.com/analytics.js\\',\\'ga\\');\\n    </script>\\n  \\n  <script type=\"text/javascript\" >\\n    (function(m,e,t,r,i,k,a){m[i]=m[i]||function(){(m[i].a=m[i].a||[]).push(arguments)};\\n    m[i].l=1*new Date();k=e.createElement(t),a=e.getElementsByTagName(t)[0],k.async=1,k.src=r,a.parentNode.insertBefore(k,a)})\\n    (window, document, \"script\", \"https://mc.yandex.ru/metrika/tag.js\", \"ym\");\\n\\n    ym(24049213, \"init\", {\\n      defer:true,\\n      trackLinks:true,\\n      accurateTrackBounce:true,\\n      webvisor:false,\\n    });\\n  </script>\\n  <noscript>\\n    <div>\\n      <img src=\"https://mc.yandex.ru/watch/24049213\" style=\"position:absolute; left:-9999px;\" alt=\"\" />\\n    </div>\\n  </noscript>\\n  \\n    <script type=\"text/javascript\">\\n      window.addEventListener(\\'load\\', function () {\\n        setTimeout(() => {\\n          const img = new Image();\\n          img.src = \\'https://vk.com/rtrg?p=VK-RTRG-421343-57vKE\\';\\n        }, 0);\\n      });\\n    </script>\\n  \\n</body>\\n</html>\\n'"
      ]
     },
     "execution_count": 93,
     "metadata": {},
     "output_type": "execute_result"
    },
    {
     "data": {
      "application/javascript": [
       "\n",
       "            setTimeout(function() {\n",
       "                var nbb_cell_id = 93;\n",
       "                var nbb_unformatted_code = \"req = requests.get(\\\"http://habrahabr.ru\\\")\\nreq.content\";\n",
       "                var nbb_formatted_code = \"req = requests.get(\\\"http://habrahabr.ru\\\")\\nreq.content\";\n",
       "                var nbb_cells = Jupyter.notebook.get_cells();\n",
       "                for (var i = 0; i < nbb_cells.length; ++i) {\n",
       "                    if (nbb_cells[i].input_prompt_number == nbb_cell_id) {\n",
       "                        if (nbb_cells[i].get_text() == nbb_unformatted_code) {\n",
       "                             nbb_cells[i].set_text(nbb_formatted_code);\n",
       "                        }\n",
       "                        break;\n",
       "                    }\n",
       "                }\n",
       "            }, 500);\n",
       "            "
      ],
      "text/plain": [
       "<IPython.core.display.Javascript object>"
      ]
     },
     "metadata": {},
     "output_type": "display_data"
    }
   ],
   "source": [
    "req = requests.get(\"http://habrahabr.ru\")\n",
    "req.content"
   ]
  },
  {
   "cell_type": "code",
   "execution_count": 94,
   "metadata": {},
   "outputs": [
    {
     "ename": "ConnectionError",
     "evalue": "('Connection aborted.', RemoteDisconnected('Remote end closed connection without response'))",
     "output_type": "error",
     "traceback": [
      "\u001b[0;31m---------------------------------------------------------------------------\u001b[0m",
      "\u001b[0;31mRemoteDisconnected\u001b[0m                        Traceback (most recent call last)",
      "\u001b[0;32m/Library/Frameworks/Python.framework/Versions/3.7/lib/python3.7/site-packages/urllib3-1.25.8-py3.7.egg/urllib3/connectionpool.py\u001b[0m in \u001b[0;36murlopen\u001b[0;34m(self, method, url, body, headers, retries, redirect, assert_same_host, timeout, pool_timeout, release_conn, chunked, body_pos, **response_kw)\u001b[0m\n\u001b[1;32m    671\u001b[0m                 \u001b[0mheaders\u001b[0m\u001b[0;34m=\u001b[0m\u001b[0mheaders\u001b[0m\u001b[0;34m,\u001b[0m\u001b[0;34m\u001b[0m\u001b[0;34m\u001b[0m\u001b[0m\n\u001b[0;32m--> 672\u001b[0;31m                 \u001b[0mchunked\u001b[0m\u001b[0;34m=\u001b[0m\u001b[0mchunked\u001b[0m\u001b[0;34m,\u001b[0m\u001b[0;34m\u001b[0m\u001b[0;34m\u001b[0m\u001b[0m\n\u001b[0m\u001b[1;32m    673\u001b[0m             )\n",
      "\u001b[0;32m/Library/Frameworks/Python.framework/Versions/3.7/lib/python3.7/site-packages/urllib3-1.25.8-py3.7.egg/urllib3/connectionpool.py\u001b[0m in \u001b[0;36m_make_request\u001b[0;34m(self, conn, method, url, timeout, chunked, **httplib_request_kw)\u001b[0m\n\u001b[1;32m    420\u001b[0m                     \u001b[0;31m# Otherwise it looks like a bug in the code.\u001b[0m\u001b[0;34m\u001b[0m\u001b[0;34m\u001b[0m\u001b[0;34m\u001b[0m\u001b[0m\n\u001b[0;32m--> 421\u001b[0;31m                     \u001b[0msix\u001b[0m\u001b[0;34m.\u001b[0m\u001b[0mraise_from\u001b[0m\u001b[0;34m(\u001b[0m\u001b[0me\u001b[0m\u001b[0;34m,\u001b[0m \u001b[0;32mNone\u001b[0m\u001b[0;34m)\u001b[0m\u001b[0;34m\u001b[0m\u001b[0;34m\u001b[0m\u001b[0m\n\u001b[0m\u001b[1;32m    422\u001b[0m         \u001b[0;32mexcept\u001b[0m \u001b[0;34m(\u001b[0m\u001b[0mSocketTimeout\u001b[0m\u001b[0;34m,\u001b[0m \u001b[0mBaseSSLError\u001b[0m\u001b[0;34m,\u001b[0m \u001b[0mSocketError\u001b[0m\u001b[0;34m)\u001b[0m \u001b[0;32mas\u001b[0m \u001b[0me\u001b[0m\u001b[0;34m:\u001b[0m\u001b[0;34m\u001b[0m\u001b[0;34m\u001b[0m\u001b[0m\n",
      "\u001b[0;32m/Library/Frameworks/Python.framework/Versions/3.7/lib/python3.7/site-packages/urllib3-1.25.8-py3.7.egg/urllib3/packages/six.py\u001b[0m in \u001b[0;36mraise_from\u001b[0;34m(value, from_value)\u001b[0m\n",
      "\u001b[0;32m/Library/Frameworks/Python.framework/Versions/3.7/lib/python3.7/site-packages/urllib3-1.25.8-py3.7.egg/urllib3/connectionpool.py\u001b[0m in \u001b[0;36m_make_request\u001b[0;34m(self, conn, method, url, timeout, chunked, **httplib_request_kw)\u001b[0m\n\u001b[1;32m    415\u001b[0m                 \u001b[0;32mtry\u001b[0m\u001b[0;34m:\u001b[0m\u001b[0;34m\u001b[0m\u001b[0;34m\u001b[0m\u001b[0m\n\u001b[0;32m--> 416\u001b[0;31m                     \u001b[0mhttplib_response\u001b[0m \u001b[0;34m=\u001b[0m \u001b[0mconn\u001b[0m\u001b[0;34m.\u001b[0m\u001b[0mgetresponse\u001b[0m\u001b[0;34m(\u001b[0m\u001b[0;34m)\u001b[0m\u001b[0;34m\u001b[0m\u001b[0;34m\u001b[0m\u001b[0m\n\u001b[0m\u001b[1;32m    417\u001b[0m                 \u001b[0;32mexcept\u001b[0m \u001b[0mBaseException\u001b[0m \u001b[0;32mas\u001b[0m \u001b[0me\u001b[0m\u001b[0;34m:\u001b[0m\u001b[0;34m\u001b[0m\u001b[0;34m\u001b[0m\u001b[0m\n",
      "\u001b[0;32m/Library/Frameworks/Python.framework/Versions/3.7/lib/python3.7/http/client.py\u001b[0m in \u001b[0;36mgetresponse\u001b[0;34m(self)\u001b[0m\n\u001b[1;32m   1343\u001b[0m             \u001b[0;32mtry\u001b[0m\u001b[0;34m:\u001b[0m\u001b[0;34m\u001b[0m\u001b[0;34m\u001b[0m\u001b[0m\n\u001b[0;32m-> 1344\u001b[0;31m                 \u001b[0mresponse\u001b[0m\u001b[0;34m.\u001b[0m\u001b[0mbegin\u001b[0m\u001b[0;34m(\u001b[0m\u001b[0;34m)\u001b[0m\u001b[0;34m\u001b[0m\u001b[0;34m\u001b[0m\u001b[0m\n\u001b[0m\u001b[1;32m   1345\u001b[0m             \u001b[0;32mexcept\u001b[0m \u001b[0mConnectionError\u001b[0m\u001b[0;34m:\u001b[0m\u001b[0;34m\u001b[0m\u001b[0;34m\u001b[0m\u001b[0m\n",
      "\u001b[0;32m/Library/Frameworks/Python.framework/Versions/3.7/lib/python3.7/http/client.py\u001b[0m in \u001b[0;36mbegin\u001b[0;34m(self)\u001b[0m\n\u001b[1;32m    305\u001b[0m         \u001b[0;32mwhile\u001b[0m \u001b[0;32mTrue\u001b[0m\u001b[0;34m:\u001b[0m\u001b[0;34m\u001b[0m\u001b[0;34m\u001b[0m\u001b[0m\n\u001b[0;32m--> 306\u001b[0;31m             \u001b[0mversion\u001b[0m\u001b[0;34m,\u001b[0m \u001b[0mstatus\u001b[0m\u001b[0;34m,\u001b[0m \u001b[0mreason\u001b[0m \u001b[0;34m=\u001b[0m \u001b[0mself\u001b[0m\u001b[0;34m.\u001b[0m\u001b[0m_read_status\u001b[0m\u001b[0;34m(\u001b[0m\u001b[0;34m)\u001b[0m\u001b[0;34m\u001b[0m\u001b[0;34m\u001b[0m\u001b[0m\n\u001b[0m\u001b[1;32m    307\u001b[0m             \u001b[0;32mif\u001b[0m \u001b[0mstatus\u001b[0m \u001b[0;34m!=\u001b[0m \u001b[0mCONTINUE\u001b[0m\u001b[0;34m:\u001b[0m\u001b[0;34m\u001b[0m\u001b[0;34m\u001b[0m\u001b[0m\n",
      "\u001b[0;32m/Library/Frameworks/Python.framework/Versions/3.7/lib/python3.7/http/client.py\u001b[0m in \u001b[0;36m_read_status\u001b[0;34m(self)\u001b[0m\n\u001b[1;32m    274\u001b[0m             \u001b[0;31m# sending a valid response.\u001b[0m\u001b[0;34m\u001b[0m\u001b[0;34m\u001b[0m\u001b[0;34m\u001b[0m\u001b[0m\n\u001b[0;32m--> 275\u001b[0;31m             raise RemoteDisconnected(\"Remote end closed connection without\"\n\u001b[0m\u001b[1;32m    276\u001b[0m                                      \" response\")\n",
      "\u001b[0;31mRemoteDisconnected\u001b[0m: Remote end closed connection without response",
      "\nDuring handling of the above exception, another exception occurred:\n",
      "\u001b[0;31mProtocolError\u001b[0m                             Traceback (most recent call last)",
      "\u001b[0;32m/Library/Frameworks/Python.framework/Versions/3.7/lib/python3.7/site-packages/requests-2.24.0-py3.7.egg/requests/adapters.py\u001b[0m in \u001b[0;36msend\u001b[0;34m(self, request, stream, timeout, verify, cert, proxies)\u001b[0m\n\u001b[1;32m    448\u001b[0m                     \u001b[0mretries\u001b[0m\u001b[0;34m=\u001b[0m\u001b[0mself\u001b[0m\u001b[0;34m.\u001b[0m\u001b[0mmax_retries\u001b[0m\u001b[0;34m,\u001b[0m\u001b[0;34m\u001b[0m\u001b[0;34m\u001b[0m\u001b[0m\n\u001b[0;32m--> 449\u001b[0;31m                     \u001b[0mtimeout\u001b[0m\u001b[0;34m=\u001b[0m\u001b[0mtimeout\u001b[0m\u001b[0;34m\u001b[0m\u001b[0;34m\u001b[0m\u001b[0m\n\u001b[0m\u001b[1;32m    450\u001b[0m                 )\n",
      "\u001b[0;32m/Library/Frameworks/Python.framework/Versions/3.7/lib/python3.7/site-packages/urllib3-1.25.8-py3.7.egg/urllib3/connectionpool.py\u001b[0m in \u001b[0;36murlopen\u001b[0;34m(self, method, url, body, headers, retries, redirect, assert_same_host, timeout, pool_timeout, release_conn, chunked, body_pos, **response_kw)\u001b[0m\n\u001b[1;32m    719\u001b[0m             retries = retries.increment(\n\u001b[0;32m--> 720\u001b[0;31m                 \u001b[0mmethod\u001b[0m\u001b[0;34m,\u001b[0m \u001b[0murl\u001b[0m\u001b[0;34m,\u001b[0m \u001b[0merror\u001b[0m\u001b[0;34m=\u001b[0m\u001b[0me\u001b[0m\u001b[0;34m,\u001b[0m \u001b[0m_pool\u001b[0m\u001b[0;34m=\u001b[0m\u001b[0mself\u001b[0m\u001b[0;34m,\u001b[0m \u001b[0m_stacktrace\u001b[0m\u001b[0;34m=\u001b[0m\u001b[0msys\u001b[0m\u001b[0;34m.\u001b[0m\u001b[0mexc_info\u001b[0m\u001b[0;34m(\u001b[0m\u001b[0;34m)\u001b[0m\u001b[0;34m[\u001b[0m\u001b[0;36m2\u001b[0m\u001b[0;34m]\u001b[0m\u001b[0;34m\u001b[0m\u001b[0;34m\u001b[0m\u001b[0m\n\u001b[0m\u001b[1;32m    721\u001b[0m             )\n",
      "\u001b[0;32m/Library/Frameworks/Python.framework/Versions/3.7/lib/python3.7/site-packages/urllib3-1.25.8-py3.7.egg/urllib3/util/retry.py\u001b[0m in \u001b[0;36mincrement\u001b[0;34m(self, method, url, response, error, _pool, _stacktrace)\u001b[0m\n\u001b[1;32m    399\u001b[0m             \u001b[0;32mif\u001b[0m \u001b[0mread\u001b[0m \u001b[0;32mis\u001b[0m \u001b[0;32mFalse\u001b[0m \u001b[0;32mor\u001b[0m \u001b[0;32mnot\u001b[0m \u001b[0mself\u001b[0m\u001b[0;34m.\u001b[0m\u001b[0m_is_method_retryable\u001b[0m\u001b[0;34m(\u001b[0m\u001b[0mmethod\u001b[0m\u001b[0;34m)\u001b[0m\u001b[0;34m:\u001b[0m\u001b[0;34m\u001b[0m\u001b[0;34m\u001b[0m\u001b[0m\n\u001b[0;32m--> 400\u001b[0;31m                 \u001b[0;32mraise\u001b[0m \u001b[0msix\u001b[0m\u001b[0;34m.\u001b[0m\u001b[0mreraise\u001b[0m\u001b[0;34m(\u001b[0m\u001b[0mtype\u001b[0m\u001b[0;34m(\u001b[0m\u001b[0merror\u001b[0m\u001b[0;34m)\u001b[0m\u001b[0;34m,\u001b[0m \u001b[0merror\u001b[0m\u001b[0;34m,\u001b[0m \u001b[0m_stacktrace\u001b[0m\u001b[0;34m)\u001b[0m\u001b[0;34m\u001b[0m\u001b[0;34m\u001b[0m\u001b[0m\n\u001b[0m\u001b[1;32m    401\u001b[0m             \u001b[0;32melif\u001b[0m \u001b[0mread\u001b[0m \u001b[0;32mis\u001b[0m \u001b[0;32mnot\u001b[0m \u001b[0;32mNone\u001b[0m\u001b[0;34m:\u001b[0m\u001b[0;34m\u001b[0m\u001b[0;34m\u001b[0m\u001b[0m\n",
      "\u001b[0;32m/Library/Frameworks/Python.framework/Versions/3.7/lib/python3.7/site-packages/urllib3-1.25.8-py3.7.egg/urllib3/packages/six.py\u001b[0m in \u001b[0;36mreraise\u001b[0;34m(tp, value, tb)\u001b[0m\n\u001b[1;32m    733\u001b[0m             \u001b[0;32mif\u001b[0m \u001b[0mvalue\u001b[0m\u001b[0;34m.\u001b[0m\u001b[0m__traceback__\u001b[0m \u001b[0;32mis\u001b[0m \u001b[0;32mnot\u001b[0m \u001b[0mtb\u001b[0m\u001b[0;34m:\u001b[0m\u001b[0;34m\u001b[0m\u001b[0;34m\u001b[0m\u001b[0m\n\u001b[0;32m--> 734\u001b[0;31m                 \u001b[0;32mraise\u001b[0m \u001b[0mvalue\u001b[0m\u001b[0;34m.\u001b[0m\u001b[0mwith_traceback\u001b[0m\u001b[0;34m(\u001b[0m\u001b[0mtb\u001b[0m\u001b[0;34m)\u001b[0m\u001b[0;34m\u001b[0m\u001b[0;34m\u001b[0m\u001b[0m\n\u001b[0m\u001b[1;32m    735\u001b[0m             \u001b[0;32mraise\u001b[0m \u001b[0mvalue\u001b[0m\u001b[0;34m\u001b[0m\u001b[0;34m\u001b[0m\u001b[0m\n",
      "\u001b[0;32m/Library/Frameworks/Python.framework/Versions/3.7/lib/python3.7/site-packages/urllib3-1.25.8-py3.7.egg/urllib3/connectionpool.py\u001b[0m in \u001b[0;36murlopen\u001b[0;34m(self, method, url, body, headers, retries, redirect, assert_same_host, timeout, pool_timeout, release_conn, chunked, body_pos, **response_kw)\u001b[0m\n\u001b[1;32m    671\u001b[0m                 \u001b[0mheaders\u001b[0m\u001b[0;34m=\u001b[0m\u001b[0mheaders\u001b[0m\u001b[0;34m,\u001b[0m\u001b[0;34m\u001b[0m\u001b[0;34m\u001b[0m\u001b[0m\n\u001b[0;32m--> 672\u001b[0;31m                 \u001b[0mchunked\u001b[0m\u001b[0;34m=\u001b[0m\u001b[0mchunked\u001b[0m\u001b[0;34m,\u001b[0m\u001b[0;34m\u001b[0m\u001b[0;34m\u001b[0m\u001b[0m\n\u001b[0m\u001b[1;32m    673\u001b[0m             )\n",
      "\u001b[0;32m/Library/Frameworks/Python.framework/Versions/3.7/lib/python3.7/site-packages/urllib3-1.25.8-py3.7.egg/urllib3/connectionpool.py\u001b[0m in \u001b[0;36m_make_request\u001b[0;34m(self, conn, method, url, timeout, chunked, **httplib_request_kw)\u001b[0m\n\u001b[1;32m    420\u001b[0m                     \u001b[0;31m# Otherwise it looks like a bug in the code.\u001b[0m\u001b[0;34m\u001b[0m\u001b[0;34m\u001b[0m\u001b[0;34m\u001b[0m\u001b[0m\n\u001b[0;32m--> 421\u001b[0;31m                     \u001b[0msix\u001b[0m\u001b[0;34m.\u001b[0m\u001b[0mraise_from\u001b[0m\u001b[0;34m(\u001b[0m\u001b[0me\u001b[0m\u001b[0;34m,\u001b[0m \u001b[0;32mNone\u001b[0m\u001b[0;34m)\u001b[0m\u001b[0;34m\u001b[0m\u001b[0;34m\u001b[0m\u001b[0m\n\u001b[0m\u001b[1;32m    422\u001b[0m         \u001b[0;32mexcept\u001b[0m \u001b[0;34m(\u001b[0m\u001b[0mSocketTimeout\u001b[0m\u001b[0;34m,\u001b[0m \u001b[0mBaseSSLError\u001b[0m\u001b[0;34m,\u001b[0m \u001b[0mSocketError\u001b[0m\u001b[0;34m)\u001b[0m \u001b[0;32mas\u001b[0m \u001b[0me\u001b[0m\u001b[0;34m:\u001b[0m\u001b[0;34m\u001b[0m\u001b[0;34m\u001b[0m\u001b[0m\n",
      "\u001b[0;32m/Library/Frameworks/Python.framework/Versions/3.7/lib/python3.7/site-packages/urllib3-1.25.8-py3.7.egg/urllib3/packages/six.py\u001b[0m in \u001b[0;36mraise_from\u001b[0;34m(value, from_value)\u001b[0m\n",
      "\u001b[0;32m/Library/Frameworks/Python.framework/Versions/3.7/lib/python3.7/site-packages/urllib3-1.25.8-py3.7.egg/urllib3/connectionpool.py\u001b[0m in \u001b[0;36m_make_request\u001b[0;34m(self, conn, method, url, timeout, chunked, **httplib_request_kw)\u001b[0m\n\u001b[1;32m    415\u001b[0m                 \u001b[0;32mtry\u001b[0m\u001b[0;34m:\u001b[0m\u001b[0;34m\u001b[0m\u001b[0;34m\u001b[0m\u001b[0m\n\u001b[0;32m--> 416\u001b[0;31m                     \u001b[0mhttplib_response\u001b[0m \u001b[0;34m=\u001b[0m \u001b[0mconn\u001b[0m\u001b[0;34m.\u001b[0m\u001b[0mgetresponse\u001b[0m\u001b[0;34m(\u001b[0m\u001b[0;34m)\u001b[0m\u001b[0;34m\u001b[0m\u001b[0;34m\u001b[0m\u001b[0m\n\u001b[0m\u001b[1;32m    417\u001b[0m                 \u001b[0;32mexcept\u001b[0m \u001b[0mBaseException\u001b[0m \u001b[0;32mas\u001b[0m \u001b[0me\u001b[0m\u001b[0;34m:\u001b[0m\u001b[0;34m\u001b[0m\u001b[0;34m\u001b[0m\u001b[0m\n",
      "\u001b[0;32m/Library/Frameworks/Python.framework/Versions/3.7/lib/python3.7/http/client.py\u001b[0m in \u001b[0;36mgetresponse\u001b[0;34m(self)\u001b[0m\n\u001b[1;32m   1343\u001b[0m             \u001b[0;32mtry\u001b[0m\u001b[0;34m:\u001b[0m\u001b[0;34m\u001b[0m\u001b[0;34m\u001b[0m\u001b[0m\n\u001b[0;32m-> 1344\u001b[0;31m                 \u001b[0mresponse\u001b[0m\u001b[0;34m.\u001b[0m\u001b[0mbegin\u001b[0m\u001b[0;34m(\u001b[0m\u001b[0;34m)\u001b[0m\u001b[0;34m\u001b[0m\u001b[0;34m\u001b[0m\u001b[0m\n\u001b[0m\u001b[1;32m   1345\u001b[0m             \u001b[0;32mexcept\u001b[0m \u001b[0mConnectionError\u001b[0m\u001b[0;34m:\u001b[0m\u001b[0;34m\u001b[0m\u001b[0;34m\u001b[0m\u001b[0m\n",
      "\u001b[0;32m/Library/Frameworks/Python.framework/Versions/3.7/lib/python3.7/http/client.py\u001b[0m in \u001b[0;36mbegin\u001b[0;34m(self)\u001b[0m\n\u001b[1;32m    305\u001b[0m         \u001b[0;32mwhile\u001b[0m \u001b[0;32mTrue\u001b[0m\u001b[0;34m:\u001b[0m\u001b[0;34m\u001b[0m\u001b[0;34m\u001b[0m\u001b[0m\n\u001b[0;32m--> 306\u001b[0;31m             \u001b[0mversion\u001b[0m\u001b[0;34m,\u001b[0m \u001b[0mstatus\u001b[0m\u001b[0;34m,\u001b[0m \u001b[0mreason\u001b[0m \u001b[0;34m=\u001b[0m \u001b[0mself\u001b[0m\u001b[0;34m.\u001b[0m\u001b[0m_read_status\u001b[0m\u001b[0;34m(\u001b[0m\u001b[0;34m)\u001b[0m\u001b[0;34m\u001b[0m\u001b[0;34m\u001b[0m\u001b[0m\n\u001b[0m\u001b[1;32m    307\u001b[0m             \u001b[0;32mif\u001b[0m \u001b[0mstatus\u001b[0m \u001b[0;34m!=\u001b[0m \u001b[0mCONTINUE\u001b[0m\u001b[0;34m:\u001b[0m\u001b[0;34m\u001b[0m\u001b[0;34m\u001b[0m\u001b[0m\n",
      "\u001b[0;32m/Library/Frameworks/Python.framework/Versions/3.7/lib/python3.7/http/client.py\u001b[0m in \u001b[0;36m_read_status\u001b[0;34m(self)\u001b[0m\n\u001b[1;32m    274\u001b[0m             \u001b[0;31m# sending a valid response.\u001b[0m\u001b[0;34m\u001b[0m\u001b[0;34m\u001b[0m\u001b[0;34m\u001b[0m\u001b[0m\n\u001b[0;32m--> 275\u001b[0;31m             raise RemoteDisconnected(\"Remote end closed connection without\"\n\u001b[0m\u001b[1;32m    276\u001b[0m                                      \" response\")\n",
      "\u001b[0;31mProtocolError\u001b[0m: ('Connection aborted.', RemoteDisconnected('Remote end closed connection without response'))",
      "\nDuring handling of the above exception, another exception occurred:\n",
      "\u001b[0;31mConnectionError\u001b[0m                           Traceback (most recent call last)",
      "\u001b[0;32m<ipython-input-94-91a9c2b9cc3e>\u001b[0m in \u001b[0;36m<module>\u001b[0;34m\u001b[0m\n\u001b[0;32m----> 1\u001b[0;31m \u001b[0mrequests\u001b[0m\u001b[0;34m.\u001b[0m\u001b[0mget\u001b[0m\u001b[0;34m(\u001b[0m\u001b[0;34m\"https://pikabu.ru/\"\u001b[0m\u001b[0;34m)\u001b[0m\u001b[0;34m\u001b[0m\u001b[0;34m\u001b[0m\u001b[0m\n\u001b[0m",
      "\u001b[0;32m/Library/Frameworks/Python.framework/Versions/3.7/lib/python3.7/site-packages/requests-2.24.0-py3.7.egg/requests/api.py\u001b[0m in \u001b[0;36mget\u001b[0;34m(url, params, **kwargs)\u001b[0m\n\u001b[1;32m     74\u001b[0m \u001b[0;34m\u001b[0m\u001b[0m\n\u001b[1;32m     75\u001b[0m     \u001b[0mkwargs\u001b[0m\u001b[0;34m.\u001b[0m\u001b[0msetdefault\u001b[0m\u001b[0;34m(\u001b[0m\u001b[0;34m'allow_redirects'\u001b[0m\u001b[0;34m,\u001b[0m \u001b[0;32mTrue\u001b[0m\u001b[0;34m)\u001b[0m\u001b[0;34m\u001b[0m\u001b[0;34m\u001b[0m\u001b[0m\n\u001b[0;32m---> 76\u001b[0;31m     \u001b[0;32mreturn\u001b[0m \u001b[0mrequest\u001b[0m\u001b[0;34m(\u001b[0m\u001b[0;34m'get'\u001b[0m\u001b[0;34m,\u001b[0m \u001b[0murl\u001b[0m\u001b[0;34m,\u001b[0m \u001b[0mparams\u001b[0m\u001b[0;34m=\u001b[0m\u001b[0mparams\u001b[0m\u001b[0;34m,\u001b[0m \u001b[0;34m**\u001b[0m\u001b[0mkwargs\u001b[0m\u001b[0;34m)\u001b[0m\u001b[0;34m\u001b[0m\u001b[0;34m\u001b[0m\u001b[0m\n\u001b[0m\u001b[1;32m     77\u001b[0m \u001b[0;34m\u001b[0m\u001b[0m\n\u001b[1;32m     78\u001b[0m \u001b[0;34m\u001b[0m\u001b[0m\n",
      "\u001b[0;32m/Library/Frameworks/Python.framework/Versions/3.7/lib/python3.7/site-packages/requests-2.24.0-py3.7.egg/requests/api.py\u001b[0m in \u001b[0;36mrequest\u001b[0;34m(method, url, **kwargs)\u001b[0m\n\u001b[1;32m     59\u001b[0m     \u001b[0;31m# cases, and look like a memory leak in others.\u001b[0m\u001b[0;34m\u001b[0m\u001b[0;34m\u001b[0m\u001b[0;34m\u001b[0m\u001b[0m\n\u001b[1;32m     60\u001b[0m     \u001b[0;32mwith\u001b[0m \u001b[0msessions\u001b[0m\u001b[0;34m.\u001b[0m\u001b[0mSession\u001b[0m\u001b[0;34m(\u001b[0m\u001b[0;34m)\u001b[0m \u001b[0;32mas\u001b[0m \u001b[0msession\u001b[0m\u001b[0;34m:\u001b[0m\u001b[0;34m\u001b[0m\u001b[0;34m\u001b[0m\u001b[0m\n\u001b[0;32m---> 61\u001b[0;31m         \u001b[0;32mreturn\u001b[0m \u001b[0msession\u001b[0m\u001b[0;34m.\u001b[0m\u001b[0mrequest\u001b[0m\u001b[0;34m(\u001b[0m\u001b[0mmethod\u001b[0m\u001b[0;34m=\u001b[0m\u001b[0mmethod\u001b[0m\u001b[0;34m,\u001b[0m \u001b[0murl\u001b[0m\u001b[0;34m=\u001b[0m\u001b[0murl\u001b[0m\u001b[0;34m,\u001b[0m \u001b[0;34m**\u001b[0m\u001b[0mkwargs\u001b[0m\u001b[0;34m)\u001b[0m\u001b[0;34m\u001b[0m\u001b[0;34m\u001b[0m\u001b[0m\n\u001b[0m\u001b[1;32m     62\u001b[0m \u001b[0;34m\u001b[0m\u001b[0m\n\u001b[1;32m     63\u001b[0m \u001b[0;34m\u001b[0m\u001b[0m\n",
      "\u001b[0;32m/Library/Frameworks/Python.framework/Versions/3.7/lib/python3.7/site-packages/requests-2.24.0-py3.7.egg/requests/sessions.py\u001b[0m in \u001b[0;36mrequest\u001b[0;34m(self, method, url, params, data, headers, cookies, files, auth, timeout, allow_redirects, proxies, hooks, stream, verify, cert, json)\u001b[0m\n\u001b[1;32m    528\u001b[0m         }\n\u001b[1;32m    529\u001b[0m         \u001b[0msend_kwargs\u001b[0m\u001b[0;34m.\u001b[0m\u001b[0mupdate\u001b[0m\u001b[0;34m(\u001b[0m\u001b[0msettings\u001b[0m\u001b[0;34m)\u001b[0m\u001b[0;34m\u001b[0m\u001b[0;34m\u001b[0m\u001b[0m\n\u001b[0;32m--> 530\u001b[0;31m         \u001b[0mresp\u001b[0m \u001b[0;34m=\u001b[0m \u001b[0mself\u001b[0m\u001b[0;34m.\u001b[0m\u001b[0msend\u001b[0m\u001b[0;34m(\u001b[0m\u001b[0mprep\u001b[0m\u001b[0;34m,\u001b[0m \u001b[0;34m**\u001b[0m\u001b[0msend_kwargs\u001b[0m\u001b[0;34m)\u001b[0m\u001b[0;34m\u001b[0m\u001b[0;34m\u001b[0m\u001b[0m\n\u001b[0m\u001b[1;32m    531\u001b[0m \u001b[0;34m\u001b[0m\u001b[0m\n\u001b[1;32m    532\u001b[0m         \u001b[0;32mreturn\u001b[0m \u001b[0mresp\u001b[0m\u001b[0;34m\u001b[0m\u001b[0;34m\u001b[0m\u001b[0m\n",
      "\u001b[0;32m/Library/Frameworks/Python.framework/Versions/3.7/lib/python3.7/site-packages/requests-2.24.0-py3.7.egg/requests/sessions.py\u001b[0m in \u001b[0;36msend\u001b[0;34m(self, request, **kwargs)\u001b[0m\n\u001b[1;32m    641\u001b[0m \u001b[0;34m\u001b[0m\u001b[0m\n\u001b[1;32m    642\u001b[0m         \u001b[0;31m# Send the request\u001b[0m\u001b[0;34m\u001b[0m\u001b[0;34m\u001b[0m\u001b[0;34m\u001b[0m\u001b[0m\n\u001b[0;32m--> 643\u001b[0;31m         \u001b[0mr\u001b[0m \u001b[0;34m=\u001b[0m \u001b[0madapter\u001b[0m\u001b[0;34m.\u001b[0m\u001b[0msend\u001b[0m\u001b[0;34m(\u001b[0m\u001b[0mrequest\u001b[0m\u001b[0;34m,\u001b[0m \u001b[0;34m**\u001b[0m\u001b[0mkwargs\u001b[0m\u001b[0;34m)\u001b[0m\u001b[0;34m\u001b[0m\u001b[0;34m\u001b[0m\u001b[0m\n\u001b[0m\u001b[1;32m    644\u001b[0m \u001b[0;34m\u001b[0m\u001b[0m\n\u001b[1;32m    645\u001b[0m         \u001b[0;31m# Total elapsed time of the request (approximately)\u001b[0m\u001b[0;34m\u001b[0m\u001b[0;34m\u001b[0m\u001b[0;34m\u001b[0m\u001b[0m\n",
      "\u001b[0;32m/Library/Frameworks/Python.framework/Versions/3.7/lib/python3.7/site-packages/requests-2.24.0-py3.7.egg/requests/adapters.py\u001b[0m in \u001b[0;36msend\u001b[0;34m(self, request, stream, timeout, verify, cert, proxies)\u001b[0m\n\u001b[1;32m    496\u001b[0m \u001b[0;34m\u001b[0m\u001b[0m\n\u001b[1;32m    497\u001b[0m         \u001b[0;32mexcept\u001b[0m \u001b[0;34m(\u001b[0m\u001b[0mProtocolError\u001b[0m\u001b[0;34m,\u001b[0m \u001b[0msocket\u001b[0m\u001b[0;34m.\u001b[0m\u001b[0merror\u001b[0m\u001b[0;34m)\u001b[0m \u001b[0;32mas\u001b[0m \u001b[0merr\u001b[0m\u001b[0;34m:\u001b[0m\u001b[0;34m\u001b[0m\u001b[0;34m\u001b[0m\u001b[0m\n\u001b[0;32m--> 498\u001b[0;31m             \u001b[0;32mraise\u001b[0m \u001b[0mConnectionError\u001b[0m\u001b[0;34m(\u001b[0m\u001b[0merr\u001b[0m\u001b[0;34m,\u001b[0m \u001b[0mrequest\u001b[0m\u001b[0;34m=\u001b[0m\u001b[0mrequest\u001b[0m\u001b[0;34m)\u001b[0m\u001b[0;34m\u001b[0m\u001b[0;34m\u001b[0m\u001b[0m\n\u001b[0m\u001b[1;32m    499\u001b[0m \u001b[0;34m\u001b[0m\u001b[0m\n\u001b[1;32m    500\u001b[0m         \u001b[0;32mexcept\u001b[0m \u001b[0mMaxRetryError\u001b[0m \u001b[0;32mas\u001b[0m \u001b[0me\u001b[0m\u001b[0;34m:\u001b[0m\u001b[0;34m\u001b[0m\u001b[0;34m\u001b[0m\u001b[0m\n",
      "\u001b[0;31mConnectionError\u001b[0m: ('Connection aborted.', RemoteDisconnected('Remote end closed connection without response'))"
     ]
    },
    {
     "data": {
      "application/javascript": [
       "\n",
       "            setTimeout(function() {\n",
       "                var nbb_cell_id = 94;\n",
       "                var nbb_unformatted_code = \"requests.get(\\\"https://pikabu.ru/\\\")\";\n",
       "                var nbb_formatted_code = \"requests.get(\\\"https://pikabu.ru/\\\")\";\n",
       "                var nbb_cells = Jupyter.notebook.get_cells();\n",
       "                for (var i = 0; i < nbb_cells.length; ++i) {\n",
       "                    if (nbb_cells[i].input_prompt_number == nbb_cell_id) {\n",
       "                        if (nbb_cells[i].get_text() == nbb_unformatted_code) {\n",
       "                             nbb_cells[i].set_text(nbb_formatted_code);\n",
       "                        }\n",
       "                        break;\n",
       "                    }\n",
       "                }\n",
       "            }, 500);\n",
       "            "
      ],
      "text/plain": [
       "<IPython.core.display.Javascript object>"
      ]
     },
     "metadata": {},
     "output_type": "display_data"
    }
   ],
   "source": [
    "requests.get(\"https://pikabu.ru/\")"
   ]
  },
  {
   "cell_type": "code",
   "execution_count": 95,
   "metadata": {},
   "outputs": [
    {
     "data": {
      "application/javascript": [
       "\n",
       "            setTimeout(function() {\n",
       "                var nbb_cell_id = 95;\n",
       "                var nbb_unformatted_code = \"headers = {\\n    \\\"User-Agent\\\": \\\"Mozilla/5.0 \\\\\\n           (Macintosh; Intel Mac OS X 10_10_1) \\\\\\n           AppleWebKit/537.36 (KHTML, like Gecko) \\\\\\n           Chrome/39.0.2171.95 Safari/537.36\\\"\\n}\";\n",
       "                var nbb_formatted_code = \"headers = {\\n    \\\"User-Agent\\\": \\\"Mozilla/5.0 \\\\\\n           (Macintosh; Intel Mac OS X 10_10_1) \\\\\\n           AppleWebKit/537.36 (KHTML, like Gecko) \\\\\\n           Chrome/39.0.2171.95 Safari/537.36\\\"\\n}\";\n",
       "                var nbb_cells = Jupyter.notebook.get_cells();\n",
       "                for (var i = 0; i < nbb_cells.length; ++i) {\n",
       "                    if (nbb_cells[i].input_prompt_number == nbb_cell_id) {\n",
       "                        if (nbb_cells[i].get_text() == nbb_unformatted_code) {\n",
       "                             nbb_cells[i].set_text(nbb_formatted_code);\n",
       "                        }\n",
       "                        break;\n",
       "                    }\n",
       "                }\n",
       "            }, 500);\n",
       "            "
      ],
      "text/plain": [
       "<IPython.core.display.Javascript object>"
      ]
     },
     "metadata": {},
     "output_type": "display_data"
    }
   ],
   "source": [
    "headers = {\n",
    "    \"User-Agent\": \"Mozilla/5.0 \\\n",
    "           (Macintosh; Intel Mac OS X 10_10_1) \\\n",
    "           AppleWebKit/537.36 (KHTML, like Gecko) \\\n",
    "           Chrome/39.0.2171.95 Safari/537.36\"\n",
    "}"
   ]
  },
  {
   "cell_type": "code",
   "execution_count": 96,
   "metadata": {},
   "outputs": [
    {
     "data": {
      "text/plain": [
       "<Response [200]>"
      ]
     },
     "execution_count": 96,
     "metadata": {},
     "output_type": "execute_result"
    },
    {
     "data": {
      "application/javascript": [
       "\n",
       "            setTimeout(function() {\n",
       "                var nbb_cell_id = 96;\n",
       "                var nbb_unformatted_code = \"requests.get(\\\"https://pikabu.ru/\\\", headers=headers)\";\n",
       "                var nbb_formatted_code = \"requests.get(\\\"https://pikabu.ru/\\\", headers=headers)\";\n",
       "                var nbb_cells = Jupyter.notebook.get_cells();\n",
       "                for (var i = 0; i < nbb_cells.length; ++i) {\n",
       "                    if (nbb_cells[i].input_prompt_number == nbb_cell_id) {\n",
       "                        if (nbb_cells[i].get_text() == nbb_unformatted_code) {\n",
       "                             nbb_cells[i].set_text(nbb_formatted_code);\n",
       "                        }\n",
       "                        break;\n",
       "                    }\n",
       "                }\n",
       "            }, 500);\n",
       "            "
      ],
      "text/plain": [
       "<IPython.core.display.Javascript object>"
      ]
     },
     "metadata": {},
     "output_type": "display_data"
    }
   ],
   "source": [
    "requests.get(\"https://pikabu.ru/\", headers=headers)"
   ]
  },
  {
   "cell_type": "code",
   "execution_count": 97,
   "metadata": {},
   "outputs": [
    {
     "data": {
      "application/javascript": [
       "\n",
       "            setTimeout(function() {\n",
       "                var nbb_cell_id = 97;\n",
       "                var nbb_unformatted_code = \"# https://github.com/hhru/api\\n\\nhh_url_base = \\\"https://api.hh.ru/{path}\\\"\\nhh_url_opt = \\\"https://api.hh.ru/{path}?text={text}\\\"\";\n",
       "                var nbb_formatted_code = \"# https://github.com/hhru/api\\n\\nhh_url_base = \\\"https://api.hh.ru/{path}\\\"\\nhh_url_opt = \\\"https://api.hh.ru/{path}?text={text}\\\"\";\n",
       "                var nbb_cells = Jupyter.notebook.get_cells();\n",
       "                for (var i = 0; i < nbb_cells.length; ++i) {\n",
       "                    if (nbb_cells[i].input_prompt_number == nbb_cell_id) {\n",
       "                        if (nbb_cells[i].get_text() == nbb_unformatted_code) {\n",
       "                             nbb_cells[i].set_text(nbb_formatted_code);\n",
       "                        }\n",
       "                        break;\n",
       "                    }\n",
       "                }\n",
       "            }, 500);\n",
       "            "
      ],
      "text/plain": [
       "<IPython.core.display.Javascript object>"
      ]
     },
     "metadata": {},
     "output_type": "display_data"
    }
   ],
   "source": [
    "# https://github.com/hhru/api\n",
    "\n",
    "hh_url_base = \"https://api.hh.ru/{path}\"\n",
    "hh_url_opt = \"https://api.hh.ru/{path}?text={text}\""
   ]
  },
  {
   "cell_type": "code",
   "execution_count": 99,
   "metadata": {},
   "outputs": [
    {
     "data": {
      "text/plain": [
       "b'{\"items\":[{\"id\":\"4748227\",\"name\":\"000\\xd0\\x91\\xd0\\x90\\xd0\\xa2\",\"url\":\"https://api.hh.ru/employers/4748227\",\"alternate_url\":\"https://hh.ru/employer/4748227\",\"logo_urls\":null,\"vacancies_url\":\"https://api.hh.ru/vacancies?employer_id=4748227\",\"open_vacancies\":0},{\"id\":\"36227\",\"name\":\"000 \\xd0\\x9c\\xd0\\x90\\xd0\\x93\\xd0\\x90\\xd0\\x97\\xd0\\x98\\xd0\\x9d \\xd0\\x9c\\xd0\\x90\\xd0\\x93\\xd0\\x90\\xd0\\x97\\xd0\\x98\\xd0\\x9d\\xd0\\x9e\\xd0\\x92 - \\xd0\\xad\\xd0\\xba\\xd1\\x81\\xd0\\xbf\\xd0\\xb5\\xd1\\x80\\xd1\\x82 \\xd0\\xbf\\xd0\\xbe \\xd1\\x82\\xd0\\xbe\\xd1\\x80\\xd0\\xb3\\xd0\\xbe\\xd0\\xb2\\xd0\\xbe\\xd0\\xb9 \\xd0\\xbd\\xd0\\xb5\\xd0\\xb4\\xd0\\xb2\\xd0\\xb8\\xd0\\xb6\\xd0\\xb8\\xd0\\xbc\\xd0\\xbe\\xd1\\x81\\xd1\\x82\\xd0\\xb8\",\"url\":\"https://api.hh.ru/employers/36227\",\"alternate_url\":\"https://hh.ru/employer/36227\",\"logo_urls\":{\"original\":\"https://hhcdn.ru/employer-logo-original/494504.png\",\"240\":\"https://hhcdn.ru/employer-logo/2419770.png\",\"90\":\"https://hhcdn.ru/employer-logo/2419769.png\"},\"vacancies_url\":\"https://api.hh.ru/vacancies?employer_id=36227\",\"open_vacancies\":0},{\"id\":\"3172102\",\"name\":\"+++000\\xd0\\x9d\\xd1\\x83\\xd1\\x80-\\xd0\\xa1\\xd0\\xb0\\xd1\\x80-\\xd0\\x90\",\"url\":\"https://api.hh.ru/employers/3172102\",\"alternate_url\":\"https://hh.ru/employer/3172102\",\"logo_urls\":null,\"vacancies_url\":\"https://api.hh.ru/vacancies?employer_id=3172102\",\"open_vacancies\":0},{\"id\":\"2757443\",\"name\":\"000 \\xd1\\x80\\xd0\\xb5\\xd0\\xbc\\xd0\\xbe\\xd0\\xbd\\xd1\\x82\",\"url\":\"https://api.hh.ru/employers/2757443\",\"alternate_url\":\"https://hh.ru/employer/2757443\",\"logo_urls\":null,\"vacancies_url\":\"https://api.hh.ru/vacancies?employer_id=2757443\",\"open_vacancies\":0},{\"id\":\"3643187\",\"name\":\"001KZ (001\\xd0\\x9a\\xd0\\x97)\",\"url\":\"https://api.hh.ru/employers/3643187\",\"alternate_url\":\"https://hh.ru/employer/3643187\",\"logo_urls\":{\"original\":\"https://hhcdn.ru/employer-logo-original/619773.jpg\",\"240\":\"https://hhcdn.ru/employer-logo/2920245.jpeg\",\"90\":\"https://hhcdn.ru/employer-logo/2920244.jpeg\"},\"vacancies_url\":\"https://api.hh.ru/vacancies?employer_id=3643187\",\"open_vacancies\":2},{\"id\":\"988247\",\"name\":\"007\",\"url\":\"https://api.hh.ru/employers/988247\",\"alternate_url\":\"https://hh.ru/employer/988247\",\"logo_urls\":{\"original\":\"https://hhcdn.ru/employer-logo-original/305500.jpg\",\"240\":\"https://hhcdn.ru/employer-logo/1664371.jpeg\",\"90\":\"https://hhcdn.ru/employer-logo/1664370.jpeg\"},\"vacancies_url\":\"https://api.hh.ru/vacancies?employer_id=988247\",\"open_vacancies\":0},{\"id\":\"1585311\",\"name\":\"007\",\"url\":\"https://api.hh.ru/employers/1585311\",\"alternate_url\":\"https://hh.ru/employer/1585311\",\"logo_urls\":null,\"vacancies_url\":\"https://api.hh.ru/vacancies?employer_id=1585311\",\"open_vacancies\":0},{\"id\":\"5402159\",\"name\":\"007 Lounge\",\"url\":\"https://api.hh.ru/employers/5402159\",\"alternate_url\":\"https://hh.ru/employer/5402159\",\"logo_urls\":null,\"vacancies_url\":\"https://api.hh.ru/vacancies?employer_id=5402159\",\"open_vacancies\":0},{\"id\":\"2392442\",\"name\":\"007 project\",\"url\":\"https://api.hh.ru/employers/2392442\",\"alternate_url\":\"https://hh.ru/employer/2392442\",\"logo_urls\":null,\"vacancies_url\":\"https://api.hh.ru/vacancies?employer_id=2392442\",\"open_vacancies\":0},{\"id\":\"1272187\",\"name\":\"007 \\xd0\\x92\\xd0\\xb0\\xd1\\x88 \\xd0\\xa3\\xd1\\x81\\xd0\\xbf\\xd0\\xb5\\xd1\\x85\",\"url\":\"https://api.hh.ru/employers/1272187\",\"alternate_url\":\"https://hh.ru/employer/1272187\",\"logo_urls\":null,\"vacancies_url\":\"https://api.hh.ru/vacancies?employer_id=1272187\",\"open_vacancies\":0},{\"id\":\"3357506\",\"name\":\"007 \\xd0\\x9f\\xd1\\x80\\xd0\\xbe\\xd0\\xb4\\xd0\\xb6\\xd0\\xb5\\xd0\\xba\\xd1\\x82 \\xd0\\x93\\xd1\\x80\\xd1\\x83\\xd0\\xbf\\xd0\\xbf\",\"url\":\"https://api.hh.ru/employers/3357506\",\"alternate_url\":\"https://hh.ru/employer/3357506\",\"logo_urls\":null,\"vacancies_url\":\"https://api.hh.ru/vacancies?employer_id=3357506\",\"open_vacancies\":0},{\"id\":\"605490\",\"name\":\"007, \\xd1\\x86\\xd0\\xb5\\xd0\\xbd\\xd1\\x82\\xd1\\x80 \\xd1\\x83\\xd1\\x81\\xd0\\xbb\\xd1\\x83\\xd0\\xb3\",\"url\":\"https://api.hh.ru/employers/605490\",\"alternate_url\":\"https://hh.ru/employer/605490\",\"logo_urls\":{\"original\":\"https://hhcdn.ru/employer-logo-original/356320.PNG\",\"240\":\"https://hhcdn.ru/employer-logo/1867543.png\",\"90\":\"https://hhcdn.ru/employer-logo/1867542.png\"},\"vacancies_url\":\"https://api.hh.ru/vacancies?employer_id=605490\",\"open_vacancies\":0},{\"id\":\"4244677\",\"name\":\"01\",\"url\":\"https://api.hh.ru/employers/4244677\",\"alternate_url\":\"https://hh.ru/employer/4244677\",\"logo_urls\":null,\"vacancies_url\":\"https://api.hh.ru/vacancies?employer_id=4244677\",\"open_vacancies\":0},{\"id\":\"4492703\",\"name\":\"01\",\"url\":\"https://api.hh.ru/employers/4492703\",\"alternate_url\":\"https://hh.ru/employer/4492703\",\"logo_urls\":null,\"vacancies_url\":\"https://api.hh.ru/vacancies?employer_id=4492703\",\"open_vacancies\":0},{\"id\":\"5231866\",\"name\":\"010.community\",\"url\":\"https://api.hh.ru/employers/5231866\",\"alternate_url\":\"https://hh.ru/employer/5231866\",\"logo_urls\":{\"original\":\"https://hhcdn.ru/employer-logo-original/820686.jpeg\",\"240\":\"https://hhcdn.ru/employer-logo/3723632.jpeg\",\"90\":\"https://hhcdn.ru/employer-logo/3723631.jpeg\"},\"vacancies_url\":\"https://api.hh.ru/vacancies?employer_id=5231866\",\"open_vacancies\":0},{\"id\":\"5296076\",\"name\":\"01ourdoor\",\"url\":\"https://api.hh.ru/employers/5296076\",\"alternate_url\":\"https://hh.ru/employer/5296076\",\"logo_urls\":null,\"vacancies_url\":\"https://api.hh.ru/vacancies?employer_id=5296076\",\"open_vacancies\":0},{\"id\":\"576501\",\"name\":\"01PROMO\",\"url\":\"https://api.hh.ru/employers/576501\",\"alternate_url\":\"https://hh.ru/employer/576501\",\"logo_urls\":{\"original\":\"https://hhcdn.ru/employer-logo-original/171898.jpg\",\"240\":\"https://hhcdn.ru/employer-logo/440356.jpeg\",\"90\":\"https://hhcdn.ru/employer-logo/367499.jpeg\"},\"vacancies_url\":\"https://api.hh.ru/vacancies?employer_id=576501\",\"open_vacancies\":0},{\"id\":\"1503841\",\"name\":\"01SNAB\",\"url\":\"https://api.hh.ru/employers/1503841\",\"alternate_url\":\"https://hh.ru/employer/1503841\",\"logo_urls\":null,\"vacancies_url\":\"https://api.hh.ru/vacancies?employer_id=1503841\",\"open_vacancies\":0},{\"id\":\"1479609\",\"name\":\"01 \\xd0\\x93\\xd1\\x80\\xd1\\x83\\xd0\\xbf\\xd0\\xbf\",\"url\":\"https://api.hh.ru/employers/1479609\",\"alternate_url\":\"https://hh.ru/employer/1479609\",\"logo_urls\":{\"original\":\"https://hhcdn.ru/employer-logo-original/472277.png\",\"240\":\"https://hhcdn.ru/employer-logo/2330961.png\",\"90\":\"https://hhcdn.ru/employer-logo/2330960.png\"},\"vacancies_url\":\"https://api.hh.ru/vacancies?employer_id=1479609\",\"open_vacancies\":0},{\"id\":\"4620243\",\"name\":\"01\\xd0\\x9c\\xd0\\xb0\\xd1\\x82\\xd0\\xb5\\xd0\\xbc\\xd0\\xb0\\xd1\\x82\\xd0\\xb8\\xd0\\xba\\xd0\\xb0 \\xd0\\x9e\\xd0\\xb1\\xd1\\x80\\xd0\\xb0\\xd0\\xb7\\xd0\\xbe\\xd0\\xb2\\xd0\\xb0\\xd0\\xbd\\xd0\\xb8\\xd0\\xb5\",\"url\":\"https://api.hh.ru/employers/4620243\",\"alternate_url\":\"https://hh.ru/employer/4620243\",\"logo_urls\":null,\"vacancies_url\":\"https://api.hh.ru/vacancies?employer_id=4620243\",\"open_vacancies\":0}],\"found\":1614984,\"pages\":80750,\"per_page\":20,\"page\":0}'"
      ]
     },
     "execution_count": 99,
     "metadata": {},
     "output_type": "execute_result"
    },
    {
     "data": {
      "application/javascript": [
       "\n",
       "            setTimeout(function() {\n",
       "                var nbb_cell_id = 99;\n",
       "                var nbb_unformatted_code = \"response = requests.get(hh_url_base.format(path=\\\"employers\\\"))\\nresponse.content\";\n",
       "                var nbb_formatted_code = \"response = requests.get(hh_url_base.format(path=\\\"employers\\\"))\\nresponse.content\";\n",
       "                var nbb_cells = Jupyter.notebook.get_cells();\n",
       "                for (var i = 0; i < nbb_cells.length; ++i) {\n",
       "                    if (nbb_cells[i].input_prompt_number == nbb_cell_id) {\n",
       "                        if (nbb_cells[i].get_text() == nbb_unformatted_code) {\n",
       "                             nbb_cells[i].set_text(nbb_formatted_code);\n",
       "                        }\n",
       "                        break;\n",
       "                    }\n",
       "                }\n",
       "            }, 500);\n",
       "            "
      ],
      "text/plain": [
       "<IPython.core.display.Javascript object>"
      ]
     },
     "metadata": {},
     "output_type": "display_data"
    }
   ],
   "source": [
    "response = requests.get(hh_url_base.format(path=\"employers\"))\n",
    "response.content"
   ]
  },
  {
   "cell_type": "code",
   "execution_count": 100,
   "metadata": {},
   "outputs": [
    {
     "data": {
      "text/plain": [
       "[{'id': '4748227',\n",
       "  'name': '000БАТ',\n",
       "  'url': 'https://api.hh.ru/employers/4748227',\n",
       "  'alternate_url': 'https://hh.ru/employer/4748227',\n",
       "  'logo_urls': None,\n",
       "  'vacancies_url': 'https://api.hh.ru/vacancies?employer_id=4748227',\n",
       "  'open_vacancies': 0},\n",
       " {'id': '36227',\n",
       "  'name': '000 МАГАЗИН МАГАЗИНОВ - Эксперт по торговой недвижимости',\n",
       "  'url': 'https://api.hh.ru/employers/36227',\n",
       "  'alternate_url': 'https://hh.ru/employer/36227',\n",
       "  'logo_urls': {'original': 'https://hhcdn.ru/employer-logo-original/494504.png',\n",
       "   '240': 'https://hhcdn.ru/employer-logo/2419770.png',\n",
       "   '90': 'https://hhcdn.ru/employer-logo/2419769.png'},\n",
       "  'vacancies_url': 'https://api.hh.ru/vacancies?employer_id=36227',\n",
       "  'open_vacancies': 0},\n",
       " {'id': '3172102',\n",
       "  'name': '+++000Нур-Сар-А',\n",
       "  'url': 'https://api.hh.ru/employers/3172102',\n",
       "  'alternate_url': 'https://hh.ru/employer/3172102',\n",
       "  'logo_urls': None,\n",
       "  'vacancies_url': 'https://api.hh.ru/vacancies?employer_id=3172102',\n",
       "  'open_vacancies': 0},\n",
       " {'id': '2757443',\n",
       "  'name': '000 ремонт',\n",
       "  'url': 'https://api.hh.ru/employers/2757443',\n",
       "  'alternate_url': 'https://hh.ru/employer/2757443',\n",
       "  'logo_urls': None,\n",
       "  'vacancies_url': 'https://api.hh.ru/vacancies?employer_id=2757443',\n",
       "  'open_vacancies': 0},\n",
       " {'id': '3643187',\n",
       "  'name': '001KZ (001КЗ)',\n",
       "  'url': 'https://api.hh.ru/employers/3643187',\n",
       "  'alternate_url': 'https://hh.ru/employer/3643187',\n",
       "  'logo_urls': {'original': 'https://hhcdn.ru/employer-logo-original/619773.jpg',\n",
       "   '240': 'https://hhcdn.ru/employer-logo/2920245.jpeg',\n",
       "   '90': 'https://hhcdn.ru/employer-logo/2920244.jpeg'},\n",
       "  'vacancies_url': 'https://api.hh.ru/vacancies?employer_id=3643187',\n",
       "  'open_vacancies': 2},\n",
       " {'id': '988247',\n",
       "  'name': '007',\n",
       "  'url': 'https://api.hh.ru/employers/988247',\n",
       "  'alternate_url': 'https://hh.ru/employer/988247',\n",
       "  'logo_urls': {'original': 'https://hhcdn.ru/employer-logo-original/305500.jpg',\n",
       "   '240': 'https://hhcdn.ru/employer-logo/1664371.jpeg',\n",
       "   '90': 'https://hhcdn.ru/employer-logo/1664370.jpeg'},\n",
       "  'vacancies_url': 'https://api.hh.ru/vacancies?employer_id=988247',\n",
       "  'open_vacancies': 0},\n",
       " {'id': '1585311',\n",
       "  'name': '007',\n",
       "  'url': 'https://api.hh.ru/employers/1585311',\n",
       "  'alternate_url': 'https://hh.ru/employer/1585311',\n",
       "  'logo_urls': None,\n",
       "  'vacancies_url': 'https://api.hh.ru/vacancies?employer_id=1585311',\n",
       "  'open_vacancies': 0},\n",
       " {'id': '5402159',\n",
       "  'name': '007 Lounge',\n",
       "  'url': 'https://api.hh.ru/employers/5402159',\n",
       "  'alternate_url': 'https://hh.ru/employer/5402159',\n",
       "  'logo_urls': None,\n",
       "  'vacancies_url': 'https://api.hh.ru/vacancies?employer_id=5402159',\n",
       "  'open_vacancies': 0},\n",
       " {'id': '2392442',\n",
       "  'name': '007 project',\n",
       "  'url': 'https://api.hh.ru/employers/2392442',\n",
       "  'alternate_url': 'https://hh.ru/employer/2392442',\n",
       "  'logo_urls': None,\n",
       "  'vacancies_url': 'https://api.hh.ru/vacancies?employer_id=2392442',\n",
       "  'open_vacancies': 0},\n",
       " {'id': '1272187',\n",
       "  'name': '007 Ваш Успех',\n",
       "  'url': 'https://api.hh.ru/employers/1272187',\n",
       "  'alternate_url': 'https://hh.ru/employer/1272187',\n",
       "  'logo_urls': None,\n",
       "  'vacancies_url': 'https://api.hh.ru/vacancies?employer_id=1272187',\n",
       "  'open_vacancies': 0},\n",
       " {'id': '3357506',\n",
       "  'name': '007 Проджект Групп',\n",
       "  'url': 'https://api.hh.ru/employers/3357506',\n",
       "  'alternate_url': 'https://hh.ru/employer/3357506',\n",
       "  'logo_urls': None,\n",
       "  'vacancies_url': 'https://api.hh.ru/vacancies?employer_id=3357506',\n",
       "  'open_vacancies': 0},\n",
       " {'id': '605490',\n",
       "  'name': '007, центр услуг',\n",
       "  'url': 'https://api.hh.ru/employers/605490',\n",
       "  'alternate_url': 'https://hh.ru/employer/605490',\n",
       "  'logo_urls': {'original': 'https://hhcdn.ru/employer-logo-original/356320.PNG',\n",
       "   '240': 'https://hhcdn.ru/employer-logo/1867543.png',\n",
       "   '90': 'https://hhcdn.ru/employer-logo/1867542.png'},\n",
       "  'vacancies_url': 'https://api.hh.ru/vacancies?employer_id=605490',\n",
       "  'open_vacancies': 0},\n",
       " {'id': '4244677',\n",
       "  'name': '01',\n",
       "  'url': 'https://api.hh.ru/employers/4244677',\n",
       "  'alternate_url': 'https://hh.ru/employer/4244677',\n",
       "  'logo_urls': None,\n",
       "  'vacancies_url': 'https://api.hh.ru/vacancies?employer_id=4244677',\n",
       "  'open_vacancies': 0},\n",
       " {'id': '4492703',\n",
       "  'name': '01',\n",
       "  'url': 'https://api.hh.ru/employers/4492703',\n",
       "  'alternate_url': 'https://hh.ru/employer/4492703',\n",
       "  'logo_urls': None,\n",
       "  'vacancies_url': 'https://api.hh.ru/vacancies?employer_id=4492703',\n",
       "  'open_vacancies': 0},\n",
       " {'id': '5231866',\n",
       "  'name': '010.community',\n",
       "  'url': 'https://api.hh.ru/employers/5231866',\n",
       "  'alternate_url': 'https://hh.ru/employer/5231866',\n",
       "  'logo_urls': {'original': 'https://hhcdn.ru/employer-logo-original/820686.jpeg',\n",
       "   '240': 'https://hhcdn.ru/employer-logo/3723632.jpeg',\n",
       "   '90': 'https://hhcdn.ru/employer-logo/3723631.jpeg'},\n",
       "  'vacancies_url': 'https://api.hh.ru/vacancies?employer_id=5231866',\n",
       "  'open_vacancies': 0},\n",
       " {'id': '5296076',\n",
       "  'name': '01ourdoor',\n",
       "  'url': 'https://api.hh.ru/employers/5296076',\n",
       "  'alternate_url': 'https://hh.ru/employer/5296076',\n",
       "  'logo_urls': None,\n",
       "  'vacancies_url': 'https://api.hh.ru/vacancies?employer_id=5296076',\n",
       "  'open_vacancies': 0},\n",
       " {'id': '576501',\n",
       "  'name': '01PROMO',\n",
       "  'url': 'https://api.hh.ru/employers/576501',\n",
       "  'alternate_url': 'https://hh.ru/employer/576501',\n",
       "  'logo_urls': {'original': 'https://hhcdn.ru/employer-logo-original/171898.jpg',\n",
       "   '240': 'https://hhcdn.ru/employer-logo/440356.jpeg',\n",
       "   '90': 'https://hhcdn.ru/employer-logo/367499.jpeg'},\n",
       "  'vacancies_url': 'https://api.hh.ru/vacancies?employer_id=576501',\n",
       "  'open_vacancies': 0},\n",
       " {'id': '1503841',\n",
       "  'name': '01SNAB',\n",
       "  'url': 'https://api.hh.ru/employers/1503841',\n",
       "  'alternate_url': 'https://hh.ru/employer/1503841',\n",
       "  'logo_urls': None,\n",
       "  'vacancies_url': 'https://api.hh.ru/vacancies?employer_id=1503841',\n",
       "  'open_vacancies': 0},\n",
       " {'id': '1479609',\n",
       "  'name': '01 Групп',\n",
       "  'url': 'https://api.hh.ru/employers/1479609',\n",
       "  'alternate_url': 'https://hh.ru/employer/1479609',\n",
       "  'logo_urls': {'original': 'https://hhcdn.ru/employer-logo-original/472277.png',\n",
       "   '240': 'https://hhcdn.ru/employer-logo/2330961.png',\n",
       "   '90': 'https://hhcdn.ru/employer-logo/2330960.png'},\n",
       "  'vacancies_url': 'https://api.hh.ru/vacancies?employer_id=1479609',\n",
       "  'open_vacancies': 0},\n",
       " {'id': '4620243',\n",
       "  'name': '01Математика Образование',\n",
       "  'url': 'https://api.hh.ru/employers/4620243',\n",
       "  'alternate_url': 'https://hh.ru/employer/4620243',\n",
       "  'logo_urls': None,\n",
       "  'vacancies_url': 'https://api.hh.ru/vacancies?employer_id=4620243',\n",
       "  'open_vacancies': 0}]"
      ]
     },
     "execution_count": 100,
     "metadata": {},
     "output_type": "execute_result"
    },
    {
     "data": {
      "application/javascript": [
       "\n",
       "            setTimeout(function() {\n",
       "                var nbb_cell_id = 100;\n",
       "                var nbb_unformatted_code = \"import json\\n\\njson.loads(response.content)[\\\"items\\\"]\";\n",
       "                var nbb_formatted_code = \"import json\\n\\njson.loads(response.content)[\\\"items\\\"]\";\n",
       "                var nbb_cells = Jupyter.notebook.get_cells();\n",
       "                for (var i = 0; i < nbb_cells.length; ++i) {\n",
       "                    if (nbb_cells[i].input_prompt_number == nbb_cell_id) {\n",
       "                        if (nbb_cells[i].get_text() == nbb_unformatted_code) {\n",
       "                             nbb_cells[i].set_text(nbb_formatted_code);\n",
       "                        }\n",
       "                        break;\n",
       "                    }\n",
       "                }\n",
       "            }, 500);\n",
       "            "
      ],
      "text/plain": [
       "<IPython.core.display.Javascript object>"
      ]
     },
     "metadata": {},
     "output_type": "display_data"
    }
   ],
   "source": [
    "import json\n",
    "\n",
    "json.loads(response.content)[\"items\"]"
   ]
  },
  {
   "cell_type": "markdown",
   "metadata": {},
   "source": [
    "# Beautiful Soup\n",
    "\n",
    "https://www.crummy.com/software/BeautifulSoup/bs4/doc/"
   ]
  },
  {
   "cell_type": "code",
   "execution_count": 3,
   "metadata": {},
   "outputs": [
    {
     "data": {
      "application/javascript": [
       "\n",
       "            setTimeout(function() {\n",
       "                var nbb_cell_id = 3;\n",
       "                var nbb_unformatted_code = \"from bs4 import BeautifulSoup\";\n",
       "                var nbb_formatted_code = \"from bs4 import BeautifulSoup\";\n",
       "                var nbb_cells = Jupyter.notebook.get_cells();\n",
       "                for (var i = 0; i < nbb_cells.length; ++i) {\n",
       "                    if (nbb_cells[i].input_prompt_number == nbb_cell_id) {\n",
       "                        if (nbb_cells[i].get_text() == nbb_unformatted_code) {\n",
       "                             nbb_cells[i].set_text(nbb_formatted_code);\n",
       "                        }\n",
       "                        break;\n",
       "                    }\n",
       "                }\n",
       "            }, 500);\n",
       "            "
      ],
      "text/plain": [
       "<IPython.core.display.Javascript object>"
      ]
     },
     "metadata": {},
     "output_type": "display_data"
    }
   ],
   "source": [
    "from bs4 import BeautifulSoup"
   ]
  },
  {
   "cell_type": "code",
   "execution_count": 102,
   "metadata": {},
   "outputs": [
    {
     "data": {
      "application/javascript": [
       "\n",
       "            setTimeout(function() {\n",
       "                var nbb_cell_id = 102;\n",
       "                var nbb_unformatted_code = \"page = requests.get(\\\"https://habr.com/ru/all/\\\")\\nsoup = BeautifulSoup(page.content, \\\"html.parser\\\")\";\n",
       "                var nbb_formatted_code = \"page = requests.get(\\\"https://habr.com/ru/all/\\\")\\nsoup = BeautifulSoup(page.content, \\\"html.parser\\\")\";\n",
       "                var nbb_cells = Jupyter.notebook.get_cells();\n",
       "                for (var i = 0; i < nbb_cells.length; ++i) {\n",
       "                    if (nbb_cells[i].input_prompt_number == nbb_cell_id) {\n",
       "                        if (nbb_cells[i].get_text() == nbb_unformatted_code) {\n",
       "                             nbb_cells[i].set_text(nbb_formatted_code);\n",
       "                        }\n",
       "                        break;\n",
       "                    }\n",
       "                }\n",
       "            }, 500);\n",
       "            "
      ],
      "text/plain": [
       "<IPython.core.display.Javascript object>"
      ]
     },
     "metadata": {},
     "output_type": "display_data"
    }
   ],
   "source": [
    "page = requests.get(\"https://habr.com/ru/all/\")\n",
    "soup = BeautifulSoup(page.content, \"html.parser\")"
   ]
  },
  {
   "cell_type": "code",
   "execution_count": 104,
   "metadata": {},
   "outputs": [
    {
     "data": {
      "text/plain": [
       "'<!DOCTYPE html>\\n<html data-vue-meta=\"%7B%22lang%22:%7B%22ssr%22:%22ru%22%7D%7D\" lang=\"ru\">\\n <head>\\n  <meta charset=\"utf-8\"/>\\n  <meta content=\"width=device-width,initial-scale=1.0,viewport-fit=cover\" name=\"viewport\"/>\\n  <title>\\n   Все публикации подряд / Хабр\\n  </title>\\n  <style>\\n   /* cyrillic-ext */\\n    @font-face {\\n      font-family: \\'Fira Sans\\';\\n      font-style: normal;\\n      font-weight: 500;\\n      font-display: swap;\\n      src: url(https://fonts.gstatic.com/s/firasans/v11/va9B4kDNxMZdWfMOD5VnZKveSxf6TF0.woff2) format(\\'woff2\\');\\n      unicode-range: U+0460-052F, U+1C80-1C88, U+20B4, U+2DE0-2DFF, U+A640-A69F, U+FE2E-FE2F;\\n    }\\n\\n    /* cyrillic */\\n    @font-face {\\n      font-family: \\'Fira Sans\\';\\n      font-style: normal;\\n      font-weight: 500;\\n      font-display: swap;\\n      src: url(https://fonts.gstatic.com/s/firasans/v11/va9B4kDNxMZdWfMOD5VnZKveQhf6TF0.woff2) format(\\'woff2\\');\\n      unicode-range: U+0400-045F, U+0490-0491, U+04B0-04B1, U+2116;\\n    }\\n\\n    /* latin-ext */\\n    @font-face {\\n      font-family: \\'Fira Sans\\';\\n      font-style: normal;\\n      font-weight: 500;\\n      font-display: swap;\\n      src: url(https://fonts.gstatic.com/s/firasans/v11/va9B4kDNxMZdWfMOD5VnZKveSBf6TF0.woff2) format(\\'woff2\\');\\n      unicode-range: U+0100-024F, U+0259, U+1E00-1EFF, U+2020, U+20A0-20AB, U+20AD-20CF, U+2113, U+2C60-2C7F, U+A720-A7FF;\\n    }\\n\\n    /* latin */\\n    @font-face {\\n      font-family: \\'Fira Sans\\';\\n      font-style: normal;\\n      font-weight: 500;\\n      font-display: swap;\\n      src: url(https://fonts.gstatic.com/s/firasans/v11/va9B4kDNxMZdWfMOD5VnZKveRhf6.woff2) format(\\'woff2\\');\\n      unicode-range: U+0000-00FF, U+0131, U+0152-0153, U+02BB-02BC, U+02C6, U+02DA, U+02DC, U+2000-206F, U+2074, U+20AC, U+2122, U+2191, U+2193, U+2212, U+2215, U+FEFF, U+FFFD;\\n    }\\n  </style>\\n  <link as=\"style\" href=\"https://assets.habr.com/habr-web/css/chunk-vendors.db52f5c6.css\" rel=\"preload\"/>\\n  <link as=\"script\" href=\"https://assets.habr.com/habr-web/js/chunk-vendors.e52202e0.js\" rel=\"preload\"/>\\n  <link as=\"style\" href=\"https://assets.habr.com/habr-web/css/app.c420616c.css\" rel=\"preload\"/>\\n  <link as=\"script\" href=\"https://assets.habr.com/habr-web/js/app.211241c5.js\" rel=\"preload\"/>\\n  <link as=\"style\" href=\"https://assets.habr.com/habr-web/css/page-flows.fba8e213.css\" rel=\"preload\"/>\\n  <link as=\"script\" href=\"https://assets.habr.com/habr-web/js/page-flows.d556d5fc.js\" rel=\"preload\"/>\\n  <link href=\"https://assets.habr.com/habr-web/css/chunk-vendors.db52f5c6.css\" rel=\"stylesheet\"/>\\n  <link href=\"https://assets.habr.com/habr-web/css/app.c420616c.css\" rel=\"stylesheet\"/>\\n  <link href=\"https://assets.habr.com/habr-web/css/page-flows.fba8e213.css\" rel=\"stylesheet\"/>\\n  <script>\\n   window.i18nFetch = new Promise((res, rej) => {\\n          const xhr = new XMLHttpRequest();\\n          xhr.open(\\'GET\\', \\'/js/i18n/ru-compiled.4f7c12b4e1b1b4c0e44ef6f9f33b1f9f.json\\');\\n          xhr.responseType = \\'json\\';\\n          xhr.onload = function(e) {\\n            if (this.status === 200) {\\n              res({ru: xhr.response});\\n            } else {\\n              rej(e);\\n            }\\n          };\\n          xhr.send();\\n        });\\n  </script>\\n  <script data-vmid=\"checkad\" data-vue-meta=\"ssr\" onload=\"window[\\'zhY4i4nJ9K\\'] = true\" src=\"/js/ads.js\">\\n  </script>\\n  <script async=\"\" src=\"//www.googletagservices.com/tag/js/gpt.js\">\\n  </script>\\n  <style>\\n   .grecaptcha-badge{visibility: hidden;}\\n  </style>\\n  <meta content=\"2.47.1\" name=\"habr-version\"/>\\n  <meta content=\"/img/habr_en.png\" data-vmid=\"image:itemprop\" data-vue-meta=\"ssr\" itemprop=\"image\"/>\\n  <meta content=\"/img/habr_en.png\" data-vmid=\"og:image\" data-vue-meta=\"ssr\" property=\"og:image\"/>\\n  <meta content=\"/img/habr_en.png\" data-vmid=\"aiturec:image\" data-vue-meta=\"ssr\" property=\"aiturec:image\"/>\\n  <meta content=\"/img/habr_en.png\" data-vmid=\"twitter:image\" data-vue-meta=\"ssr\" name=\"twitter:image\"/>\\n  <meta content=\"/img/habr_en.png\" data-vmid=\"vk:image\" data-vue-meta=\"ssr\" property=\"vk:image\"/>\\n  <meta content=\"444736788986613\" data-vue-meta=\"ssr\" property=\"fb:app_id\"/>\\n  <meta content=\"472597926099084\" data-vue-meta=\"ssr\" property=\"fb:pages\"/>\\n  <meta content=\"summary_large_image\" data-vue-meta=\"ssr\" name=\"twitter:card\"/>\\n  <meta content=\"@habr_eng\" data-vue-meta=\"ssr\" name=\"twitter:site\"/>\\n  <meta content=\"ru_RU\" data-vmid=\"og:locale\" data-vue-meta=\"ssr\" property=\"og:locale\"/>\\n  <meta content=\"website\" data-vmid=\"og:type\" data-vue-meta=\"ssr\" property=\"og:type\"/>\\n  <meta content=\"Хабр — крупнейший в Европе ресурс для IT-специалистов. Сюда приходят обсудить новости индустрии и поделиться опытом.\" data-vmid=\"description\" data-vue-meta=\"ssr\" name=\"description\"/>\\n  <link data-vmid=\"image:href\" data-vue-meta=\"ssr\" href=\"/img/habr_en.png\" image_src=\"image\"/>\\n  <link data-vmid=\"canonical\" data-vue-meta=\"ssr\" href=\"https://habr.com/ru/all/\" rel=\"canonical\"/>\\n  <link data-vmid=\"hreflang\" data-vue-meta=\"ssr\" href=\"https://habr.com/ru/all/\" hreflang=\"ru\" rel=\"alternate\"/>\\n  <link data-vmid=\"hreflang\" data-vue-meta=\"ssr\" href=\"https://habr.com/en/all/\" hreflang=\"en\" rel=\"alternate\"/>\\n  <link data-vue-meta=\"ssr\" href=\"https://habr.com/ru/rss/all/all/?fl=ru\" name=\"rss\" rel=\"alternate\" title=\"Все публикации подряд\" type=\"application/rss+xml\"/>\\n  <meta content=\"#303b44\" name=\"apple-mobile-web-app-status-bar-style\"/>\\n  <meta content=\"#629FBC\" name=\"msapplication-TileColor\"/>\\n  <meta content=\"yes\" name=\"apple-mobile-web-app-capable\"/>\\n  <meta content=\"yes\" name=\"mobile-web-app-capable\"/>\\n  <link href=\"https://assets.habr.com/habr-web/img/favicons/favicon-16.png\" rel=\"shortcut icon\" sizes=\"16x16\" type=\"image/png\"/>\\n  <link href=\"https://assets.habr.com/habr-web/img/favicons/favicon-32.png\" rel=\"shortcut icon\" sizes=\"32x32\" type=\"image/png\"/>\\n  <link href=\"https://assets.habr.com/habr-web/img/favicons/apple-touch-icon-76.png\" rel=\"apple-touch-icon\" sizes=\"76x76\" type=\"image/png\"/>\\n  <link href=\"https://assets.habr.com/habr-web/img/favicons/apple-touch-icon-120.png\" rel=\"apple-touch-icon\" sizes=\"120x120\" type=\"image/png\"/>\\n  <link href=\"https://assets.habr.com/habr-web/img/favicons/apple-touch-icon-152.png\" rel=\"apple-touch-icon\" sizes=\"152x152\" type=\"image/png\"/>\\n  <link href=\"https://assets.habr.com/habr-web/img/favicons/apple-touch-icon-180.png\" rel=\"apple-touch-icon\" sizes=\"180x180\" type=\"image/png\"/>\\n  <link href=\"https://assets.habr.com/habr-web/img/favicons/apple-touch-icon-256.png\" rel=\"apple-touch-icon\" sizes=\"256x256\" type=\"image/png\"/>\\n  <link href=\"https://assets.habr.com/habr-web/img/splashes/splash_1136x640.png\" media=\"screen and (device-width: 320px) and (device-height: 568px) and (-webkit-device-pixel-ratio: 2) and (orientation: landscape)\" rel=\"apple-touch-startup-image\"/>\\n  <link href=\"https://assets.habr.com/habr-web/img/splashes/splash_2436x1125.png\" media=\"screen and (device-width: 375px) and (device-height: 812px) and (-webkit-device-pixel-ratio: 3) and (orientation: landscape)\" rel=\"apple-touch-startup-image\"/>\\n  <link href=\"https://assets.habr.com/habr-web/img/splashes/splash_1792x828.png\" media=\"screen and (device-width: 414px) and (device-height: 896px) and (-webkit-device-pixel-ratio: 2) and (orientation: landscape)\" rel=\"apple-touch-startup-image\"/>\\n  <link href=\"https://assets.habr.com/habr-web/img/splashes/splash_828x1792.png\" media=\"screen and (device-width: 414px) and (device-height: 896px) and (-webkit-device-pixel-ratio: 2) and (orientation: portrait)\" rel=\"apple-touch-startup-image\"/>\\n  <link href=\"https://assets.habr.com/habr-web/img/splashes/splash_1334x750.png\" media=\"screen and (device-width: 375px) and (device-height: 667px) and (-webkit-device-pixel-ratio: 2) and (orientation: landscape)\" rel=\"apple-touch-startup-image\"/>\\n  <link href=\"https://assets.habr.com/habr-web/img/splashes/splash_1242x2668.png\" media=\"screen and (device-width: 414px) and (device-height: 896px) and (-webkit-device-pixel-ratio: 3) and (orientation: portrait)\" rel=\"apple-touch-startup-image\"/>\\n  <link href=\"https://assets.habr.com/habr-web/img/splashes/splash_2208x1242.png\" media=\"screen and (device-width: 414px) and (device-height: 736px) and (-webkit-device-pixel-ratio: 3) and (orientation: landscape)\" rel=\"apple-touch-startup-image\"/>\\n  <link href=\"https://assets.habr.com/habr-web/img/splashes/splash_1125x2436.png\" media=\"screen and (device-width: 375px) and (device-height: 812px) and (-webkit-device-pixel-ratio: 3) and (orientation: portrait)\" rel=\"apple-touch-startup-image\"/>\\n  <link href=\"https://assets.habr.com/habr-web/img/splashes/splash_1242x2208.png\" media=\"screen and (device-width: 414px) and (device-height: 736px) and (-webkit-device-pixel-ratio: 3) and (orientation: portrait)\" rel=\"apple-touch-startup-image\"/>\\n  <link href=\"https://assets.habr.com/habr-web/img/splashes/splash_2732x2048.png\" media=\"screen and (device-width: 1024px) and (device-height: 1366px) and (-webkit-device-pixel-ratio: 2) and (orientation: landscape)\" rel=\"apple-touch-startup-image\"/>\\n  <link href=\"https://assets.habr.com/habr-web/img/splashes/splash_2688x1242.png\" media=\"screen and (device-width: 414px) and (device-height: 896px) and (-webkit-device-pixel-ratio: 3) and (orientation: landscape)\" rel=\"apple-touch-startup-image\"/>\\n  <link href=\"https://assets.habr.com/habr-web/img/splashes/splash_2224x1668.png\" media=\"screen and (device-width: 834px) and (device-height: 1112px) and (-webkit-device-pixel-ratio: 2) and (orientation: landscape)\" rel=\"apple-touch-startup-image\"/>\\n  <link href=\"https://assets.habr.com/habr-web/img/splashes/splash_750x1334.png\" media=\"screen and (device-width: 375px) and (device-height: 667px) and (-webkit-device-pixel-ratio: 2) and (orientation: portrait)\" rel=\"apple-touch-startup-image\"/>\\n  <link href=\"https://assets.habr.com/habr-web/img/splashes/splash_2048x2732.png\" media=\"screen and (device-width: 1024px) and (device-height: 1366px) and (-webkit-device-pixel-ratio: 2) and (orientation: portrait)\" rel=\"apple-touch-startup-image\"/>\\n  <link href=\"https://assets.habr.com/habr-web/img/splashes/splash_2388x1668.png\" media=\"screen and (device-width: 834px) and (device-height: 1194px) and (-webkit-device-pixel-ratio: 2) and (orientation: landscape)\" rel=\"apple-touch-startup-image\"/>\\n  <link href=\"https://assets.habr.com/habr-web/img/splashes/splash_1668x2224.png\" media=\"screen and (device-width: 834px) and (device-height: 1112px) and (-webkit-device-pixel-ratio: 2) and (orientation: portrait)\" rel=\"apple-touch-startup-image\"/>\\n  <link href=\"https://assets.habr.com/habr-web/img/splashes/splash_640x1136.png\" media=\"screen and (device-width: 320px) and (device-height: 568px) and (-webkit-device-pixel-ratio: 2) and (orientation: portrait)\" rel=\"apple-touch-startup-image\"/>\\n  <link href=\"https://assets.habr.com/habr-web/img/splashes/splash_1668x2388.png\" media=\"screen and (device-width: 834px) and (device-height: 1194px) and (-webkit-device-pixel-ratio: 2) and (orientation: portrait)\" rel=\"apple-touch-startup-image\"/>\\n  <link href=\"https://assets.habr.com/habr-web/img/splashes/splash_2048x1536.png\" media=\"screen and (device-width: 768px) and (device-height: 1024px) and (-webkit-device-pixel-ratio: 2) and (orientation: landscape)\" rel=\"apple-touch-startup-image\"/>\\n  <link href=\"https://assets.habr.com/habr-web/img/splashes/splash_1536x2048.png\" media=\"screen and (device-width: 768px) and (device-height: 1024px) and (-webkit-device-pixel-ratio: 2) and (orientation: portrait)\" rel=\"apple-touch-startup-image\"/>\\n  <link color=\"#77a2b6\" href=\"https://assets.habr.com/habr-web/img/favicons/apple-touch-icon-120.svg\" rel=\"mask-icon\"/>\\n  <link crossorigin=\"use-credentials\" href=\"/manifest.webmanifest\" rel=\"manifest\"/>\\n </head>\\n <body>\\n  <div data-async-called=\"true\" data-server-rendered=\"true\" id=\"app\">\\n   <div class=\"tm-layout__wrapper\">\\n    <!-- -->\\n    <div>\\n    </div>\\n    <!-- -->\\n    <header class=\"tm-header\">\\n     <div class=\"tm-page-width\">\\n      <div class=\"tm-header__container\">\\n       <!-- -->\\n       <span class=\"tm-header__logo-wrap\">\\n        <a class=\"tm-header__logo tm-header__logo_ru\" href=\"/ru/\">\\n         <svg class=\"tm-svg-img tm-header__icon\" height=\"16\" width=\"16\">\\n          <title>\\n           Хабр\\n          </title>\\n          <use xlink:href=\"/img/habr-logo-ru.svg#logo\">\\n          </use>\\n         </svg>\\n        </a>\\n        <span class=\"tm-header__beta-sign\" style=\"display:none;\">\\n         β\\n        </span>\\n       </span>\\n       <div class=\"tm-dropdown tm-header__projects\">\\n        <div class=\"tm-dropdown__head\">\\n         <button class=\"tm-header__dropdown-toggle\">\\n          <svg class=\"tm-svg-img tm-header__icon tm-header__icon_dropdown\" height=\"16\" width=\"16\">\\n           <title>\\n            Открыть список\\n           </title>\\n           <use xlink:href=\"/img/megazord-v24.cee85629.svg#arrow-down\">\\n           </use>\\n          </svg>\\n         </button>\\n        </div>\\n        <!-- -->\\n       </div>\\n       <a class=\"tm-header__become-author-btn\" href=\"/ru/sandbox/start/\">\\n        Как стать автором\\n       </a>\\n       <div class=\"tm-feature tm-header__feature tm-feature_variant-inline\">\\n        <!-- -->\\n       </div>\\n       <!-- -->\\n       <!-- -->\\n      </div>\\n     </div>\\n    </header>\\n    <div class=\"tm-layout\">\\n     <div class=\"tm-page-progress-bar\">\\n     </div>\\n     <div class=\"tm-base-layout__header tm-base-layout__header_is-sticky\" data-menu-sticky=\"true\">\\n      <div class=\"tm-page-width\">\\n       <div class=\"tm-base-layout__header-wrapper\">\\n        <div class=\"tm-main-menu\">\\n         <div class=\"tm-main-menu__section\">\\n          <nav class=\"tm-main-menu__section-content\">\\n           <!-- -->\\n           <a aria-current=\"page\" class=\"tm-main-menu__item router-link-exact-active tm-main-menu__item_active\" href=\"/ru/all/\">\\n            Все потоки\\n           </a>\\n           <a class=\"tm-main-menu__item\" href=\"/ru/flows/develop/\">\\n            Разработка\\n           </a>\\n           <a class=\"tm-main-menu__item\" href=\"/ru/flows/admin/\">\\n            Администрирование\\n           </a>\\n           <a class=\"tm-main-menu__item\" href=\"/ru/flows/design/\">\\n            Дизайн\\n           </a>\\n           <a class=\"tm-main-menu__item\" href=\"/ru/flows/management/\">\\n            Менеджмент\\n           </a>\\n           <a class=\"tm-main-menu__item\" href=\"/ru/flows/marketing/\">\\n            Маркетинг\\n           </a>\\n           <a class=\"tm-main-menu__item\" href=\"/ru/flows/popsci/\">\\n            Научпоп\\n           </a>\\n          </nav>\\n         </div>\\n        </div>\\n        <div class=\"tm-header-user-menu tm-base-layout__user-menu\">\\n         <a class=\"tm-header-user-menu__item tm-header-user-menu__search\" href=\"/ru/search/\">\\n          <svg class=\"tm-svg-img tm-header-user-menu__icon tm-header-user-menu__icon_search tm-header-user-menu__icon_dark\" height=\"24\" width=\"24\">\\n           <title>\\n            Поиск\\n           </title>\\n           <use xlink:href=\"/img/megazord-v24.cee85629.svg#search\">\\n           </use>\\n          </svg>\\n         </a>\\n         <!-- -->\\n         <!-- -->\\n         <!-- -->\\n         <div class=\"tm-header-user-menu__item tm-header-user-menu__user_desktop\">\\n          <div class=\"tm-dropdown\">\\n           <div class=\"tm-dropdown__head\">\\n            <svg class=\"tm-svg-img tm-header-user-menu__icon\" data-test-id=\"menu-toggle-guest\" height=\"24\" width=\"24\">\\n             <title>\\n              Профиль\\n             </title>\\n             <use xlink:href=\"/img/megazord-v24.cee85629.svg#header-user\">\\n             </use>\\n            </svg>\\n            <!-- -->\\n           </div>\\n           <!-- -->\\n          </div>\\n          <!-- -->\\n         </div>\\n         <!-- -->\\n        </div>\\n       </div>\\n      </div>\\n     </div>\\n     <!-- -->\\n     <div class=\"tm-page-width\">\\n     </div>\\n     <main class=\"tm-layout__container\">\\n      <div class=\"tm-page\">\\n       <div class=\"tm-page-width\">\\n        <!-- -->\\n        <div class=\"tm-page__wrapper\">\\n         <div class=\"tm-page__main tm-page__main_has-sidebar\">\\n          <div class=\"pull-down\">\\n           <div class=\"pull-down__header\" style=\"height:0px;\">\\n            <div class=\"pull-down__content\" style=\"bottom:10px;\">\\n             <svg class=\"tm-svg-img pull-down__arrow\" height=\"24\" width=\"24\">\\n              <title>\\n               Обновить\\n              </title>\\n              <use xlink:href=\"/img/megazord-v24.cee85629.svg#pull-arrow\">\\n              </use>\\n             </svg>\\n            </div>\\n           </div>\\n           <div class=\"tm-page__top\">\\n            <div class=\"tm-section-name\">\\n             <h1 class=\"tm-section-name__text\">\\n              Все потоки\\n             </h1>\\n            </div>\\n            <div class=\"tm-tabs tm-tabs_page-header\">\\n             <div class=\"tm-tabs__scroll-area\">\\n              <span class=\"tm-tabs__tab-item\">\\n               <a aria-current=\"page\" class=\"tm-tabs__tab-link router-link-exact-active tm-tabs__tab-link_active\" href=\"/ru/all/\">\\n                Статьи\\n                <!-- -->\\n               </a>\\n              </span>\\n              <span class=\"tm-tabs__tab-item\">\\n               <a class=\"tm-tabs__tab-link\" href=\"/ru/news/\">\\n                Новости\\n                <!-- -->\\n               </a>\\n              </span>\\n              <span class=\"tm-tabs__tab-item\">\\n               <a class=\"tm-tabs__tab-link\" href=\"/ru/hubs/\">\\n                Хабы\\n                <!-- -->\\n               </a>\\n              </span>\\n              <span class=\"tm-tabs__tab-item\">\\n               <a class=\"tm-tabs__tab-link\" href=\"/ru/users/\">\\n                Авторы\\n                <!-- -->\\n               </a>\\n              </span>\\n              <span class=\"tm-tabs__tab-item\">\\n               <a class=\"tm-tabs__tab-link\" href=\"/ru/companies/\">\\n                Компании\\n                <!-- -->\\n               </a>\\n              </span>\\n             </div>\\n             <!-- -->\\n            </div>\\n            <div class=\"tm-navigation-filter\">\\n             <div class=\"tm-navigation-filters\">\\n              <div class=\"tm-navigation-filters__wrapper\">\\n               <button class=\"tm-navigation-filters__button\">\\n                Все подряд\\n                <svg class=\"tm-svg-img icon_dropdown-arrow\" height=\"16\" width=\"16\">\\n                 <title>\\n                  Открыть список\\n                 </title>\\n                 <use xlink:href=\"/img/megazord-v24.cee85629.svg#arrow-down\">\\n                 </use>\\n                </svg>\\n               </button>\\n               <button class=\"tm-rss-button tm-rss-button_default\">\\n                <span class=\"tm-svg-icon__wrapper tm-rss-button__icon\">\\n                 <svg class=\"tm-svg-img tm-svg-icon\" height=\"16\" width=\"16\">\\n                  <title>\\n                   Скопировать ссылку на RSS\\n                  </title>\\n                  <use xlink:href=\"/img/megazord-v24.cee85629.svg#rss\">\\n                  </use>\\n                 </svg>\\n                </span>\\n               </button>\\n              </div>\\n              <div class=\"tm-navigation-filters__options\">\\n               <div class=\"tm-navigation-filters__list-label\">\\n                Сначала показывать\\n               </div>\\n               <ul class=\"tm-navigation-filters__list\">\\n                <li class=\"tm-navigation-filters__option tm-navigation-filters__option_active\">\\n                 Новые\\n                </li>\\n                <li class=\"tm-navigation-filters__option\">\\n                 Лучшие\\n                </li>\\n               </ul>\\n               <div class=\"tm-navigation-filters__list-label\">\\n                Порог рейтинга\\n               </div>\\n               <ul class=\"tm-navigation-filters__list\">\\n                <li class=\"tm-navigation-filters__option tm-navigation-filters__option_active\">\\n                 Все\\n                </li>\\n                <li class=\"tm-navigation-filters__option\">\\n                 ≥0\\n                </li>\\n                <li class=\"tm-navigation-filters__option\">\\n                 ≥10\\n                </li>\\n                <li class=\"tm-navigation-filters__option\">\\n                 ≥25\\n                </li>\\n                <li class=\"tm-navigation-filters__option\">\\n                 ≥50\\n                </li>\\n                <li class=\"tm-navigation-filters__option\">\\n                 ≥100\\n                </li>\\n               </ul>\\n               <button class=\"tm-navigation-filters__apply btn btn_solid btn_small\" type=\"button\">\\n                Применить\\n               </button>\\n              </div>\\n             </div>\\n            </div>\\n            <!-- -->\\n           </div>\\n           <div class=\"tm-articles-subpage\" data-async-called=\"true\">\\n            <!-- -->\\n            <div>\\n             <div class=\"tm-articles-list\">\\n              <!-- -->\\n              <article class=\"tm-articles-list__item\" data-navigatable=\"\" id=\"581524\" tabindex=\"0\">\\n               <div class=\"tm-article-snippet\">\\n                <div class=\"tm-article-snippet__meta-container\">\\n                 <div class=\"tm-article-snippet__meta\">\\n                  <span class=\"tm-user-info tm-article-snippet__author\">\\n                   <a class=\"tm-user-info__userpic\" href=\"/ru/users/glphmedia/\" title=\"glphmedia\">\\n                    <div class=\"tm-entity-image\">\\n                     <img alt=\"\" class=\"tm-entity-image__pic\" height=\"24\" loading=\"lazy\" src=\"//habrastorage.org/r/w32/getpro/habr/avatars/75a/0d4/caf/75a0d4caf525df8ca1a233124c36663e.png\" width=\"24\"/>\\n                    </div>\\n                   </a>\\n                   <span class=\"tm-user-info__user\">\\n                    <a class=\"tm-user-info__username\" href=\"/ru/users/glphmedia/\">\\n                     glphmedia\\n                    </a>\\n                   </span>\\n                  </span>\\n                  <span class=\"tm-article-snippet__datetime-published\">\\n                   <time datetime=\"2021-10-05T08:23:27.000Z\" title=\"2021-10-05, 11:23\">\\n                    сегодня в 11:23\\n                   </time>\\n                  </span>\\n                 </div>\\n                 <!-- -->\\n                </div>\\n                <h2 class=\"tm-article-snippet__title tm-article-snippet__title_h2\">\\n                 <a class=\"tm-article-snippet__title-link\" data-article-link=\"\" href=\"/ru/post/581524/\">\\n                  <span>\\n                   Что стоит учитывать тем, кто занимается контент-маркетингом и продвижением технологических компаний [интервью]\\n                  </span>\\n                 </a>\\n                </h2>\\n                <div class=\"tm-article-snippet__hubs\">\\n                 <span class=\"tm-article-snippet__hubs-item\">\\n                  <a class=\"tm-article-snippet__hubs-item-link\" href=\"/ru/hub/contentmarketing/\">\\n                   <span>\\n                    Контент-маркетинг\\n                   </span>\\n                   <!-- -->\\n                  </a>\\n                 </span>\\n                </div>\\n                <!-- -->\\n                <!-- -->\\n                <div class=\"tm-article-body tm-article-snippet__lead\">\\n                 <div class=\"tm-article-snippet__cover tm-article-snippet__cover_cover\">\\n                  <img class=\"tm-article-snippet__lead-image\" src=\"https://habrastorage.org/getpro/habr/upload_files/12d/04b/edc/12d04bedc8bcd872f49b5a82dee6aa34.png\" style=\"object-position:0.64102564102564% 85.681818181818%;\"/>\\n                 </div>\\n                 <div class=\"article-formatted-body article-formatted-body_version-2\">\\n                  <p>\\n                   Это — подкаст о контент-маркетинге и о тех, кто\\n                   <a href=\"https://habr.com/company/vsce/blog/423447/\" rel=\"noopener noreferrer nofollow\">\\n                    пишет\\n                   </a>\\n                   ,\\n                   <a href=\"https://habr.com/en/company/vsce/blog/428760/\" rel=\"noopener noreferrer nofollow\">\\n                    редактирует\\n                   </a>\\n                   и\\n                   <a href=\"https://habr.com/company/vsce/blog/432568/\" rel=\"noopener noreferrer nofollow\">\\n                    руководит\\n                   </a>\\n                   производством материалов о технологиях и бизнесе. Сегодня делимся с вами нашей беседой с Марией Лапук, соосновательницей Vinci Agency.\\n                  </p>\\n                  <p>\\n                   Ее команда специализируется на работе с технологическими компаниями и помогает им продвигать продукты и сервисы. Для этого интервью у нас есть и\\n                   <a href=\"https://youtu.be/PsVJ-ExiKw0\" rel=\"noopener noreferrer nofollow\">\\n                    видеоверсия\\n                   </a>\\n                   , а под катом вы найдете полную текстовую расшифровку.\\n                  </p>\\n                 </div>\\n                 <a class=\"tm-article-snippet__readmore\" href=\"/ru/post/581524/\">\\n                  <span>\\n                   Читать далее\\n                  </span>\\n                 </a>\\n                </div>\\n               </div>\\n               <div class=\"tm-data-icons\">\\n                <!-- -->\\n                <div class=\"tm-votes-meter tm-data-icons__item\">\\n                 <svg class=\"tm-svg-img tm-votes-meter__icon tm-votes-meter__icon_small\" height=\"16\" width=\"16\">\\n                  <title>\\n                   Рейтинг\\n                  </title>\\n                  <use xlink:href=\"/img/megazord-v24.cee85629.svg#counter-rating\">\\n                  </use>\\n                 </svg>\\n                 <span class=\"tm-votes-meter__value tm-votes-meter__value_small\">\\n                  0\\n                 </span>\\n                </div>\\n                <span class=\"tm-icon-counter tm-data-icons__item\" title=\"Количество просмотров\">\\n                 <svg class=\"tm-svg-img tm-icon-counter__icon\" height=\"16\" width=\"16\">\\n                  <title>\\n                   Просмотры\\n                  </title>\\n                  <use xlink:href=\"/img/megazord-v24.cee85629.svg#counter-views\">\\n                  </use>\\n                 </svg>\\n                 <span class=\"tm-icon-counter__value\">\\n                  4\\n                 </span>\\n                </span>\\n                <button class=\"bookmarks-button tm-data-icons__item\" title=\"Добавить в закладки\" type=\"button\">\\n                 <span class=\"tm-svg-icon__wrapper bookmarks-button__icon\" title=\"Добавить в закладки\">\\n                  <svg class=\"tm-svg-img tm-svg-icon\" height=\"16\" width=\"16\">\\n                   <title>\\n                    Добавить в закладки\\n                   </title>\\n                   <use xlink:href=\"/img/megazord-v24.cee85629.svg#counter-favorite\">\\n                   </use>\\n                  </svg>\\n                 </span>\\n                 <span class=\"bookmarks-button__counter\" title=\"Количество пользователей, добавивших публикацию в закладки\">\\n                  1\\n                 </span>\\n                </button>\\n                <div class=\"tm-article-comments-counter-link tm-data-icons__item\" title=\"Читать комментарии\">\\n                 <a class=\"tm-article-comments-counter-link__link\" href=\"/ru/post/581524/comments/\">\\n                  <svg class=\"tm-svg-img tm-article-comments-counter-link__icon\" height=\"16\" width=\"16\">\\n                   <title>\\n                    Комментарии\\n                   </title>\\n                   <use xlink:href=\"/img/megazord-v24.cee85629.svg#counter-comments\">\\n                   </use>\\n                  </svg>\\n                  <span class=\"tm-article-comments-counter-link__value\">\\n                   0\\n                  </span>\\n                 </a>\\n                 <!-- -->\\n                </div>\\n                <!-- -->\\n                <div class=\"v-portal\" style=\"display:none;\">\\n                </div>\\n               </div>\\n              </article>\\n              <div class=\"tm-articles-list__after-article\">\\n               <!-- -->\\n              </div>\\n              <!-- -->\\n              <article class=\"tm-articles-list__item\" data-navigatable=\"\" id=\"573666\" tabindex=\"0\">\\n               <div class=\"tm-article-snippet\">\\n                <div class=\"tm-article-snippet__meta-container\">\\n                 <div class=\"tm-article-snippet__meta\">\\n                  <span class=\"tm-user-info tm-article-snippet__author\">\\n                   <a class=\"tm-user-info__userpic\" href=\"/ru/users/Yermack/\" title=\"Yermack\">\\n                    <div class=\"tm-entity-image\">\\n                     <img alt=\"\" class=\"tm-entity-image__pic\" height=\"24\" loading=\"lazy\" src=\"//habrastorage.org/r/w32/getpro/habr/avatars/690/140/823/690140823f555d03574a59d46f648d24.jpg\" width=\"24\"/>\\n                    </div>\\n                   </a>\\n                   <span class=\"tm-user-info__user\">\\n                    <a class=\"tm-user-info__username\" href=\"/ru/users/Yermack/\">\\n                     Yermack\\n                    </a>\\n                   </span>\\n                  </span>\\n                  <span class=\"tm-article-snippet__datetime-published\">\\n                   <time datetime=\"2021-10-05T08:01:19.000Z\" title=\"2021-10-05, 11:01\">\\n                    сегодня в 11:01\\n                   </time>\\n                  </span>\\n                 </div>\\n                 <!-- -->\\n                </div>\\n                <h2 class=\"tm-article-snippet__title tm-article-snippet__title_h2\">\\n                 <a class=\"tm-article-snippet__title-link\" data-article-link=\"\" href=\"/ru/post/573666/\">\\n                  <span>\\n                   Кадрим девчонок с помощью метрики Эллиса-Бронникова\\n                  </span>\\n                 </a>\\n                </h2>\\n                <div class=\"tm-article-snippet__hubs\">\\n                 <span class=\"tm-article-snippet__hubs-item\">\\n                  <a class=\"tm-article-snippet__hubs-item-link\" href=\"/ru/hub/julia/\">\\n                   <span>\\n                    Julia\\n                   </span>\\n                   <span class=\"tm-article-snippet__profiled-hub\" title=\"Профильный хаб\">\\n                    *\\n                   </span>\\n                  </a>\\n                 </span>\\n                 <span class=\"tm-article-snippet__hubs-item\">\\n                  <a class=\"tm-article-snippet__hubs-item-link\" href=\"/ru/hub/popular_science/\">\\n                   <span>\\n                    Научно-популярное\\n                   </span>\\n                   <!-- -->\\n                  </a>\\n                 </span>\\n                 <span class=\"tm-article-snippet__hubs-item\">\\n                  <a class=\"tm-article-snippet__hubs-item-link\" href=\"/ru/hub/physics/\">\\n                   <span>\\n                    Физика\\n                   </span>\\n                   <!-- -->\\n                  </a>\\n                 </span>\\n                 <span class=\"tm-article-snippet__hubs-item\">\\n                  <a class=\"tm-article-snippet__hubs-item-link\" href=\"/ru/hub/astronomy/\">\\n                   <span>\\n                    Астрономия\\n                   </span>\\n                   <!-- -->\\n                  </a>\\n                 </span>\\n                </div>\\n                <div class=\"tm-article-snippet__labels\">\\n                 <div class=\"tm-article-snippet__label\">\\n                  <span>\\n                   Tutorial\\n                  </span>\\n                 </div>\\n                </div>\\n                <!-- -->\\n                <div class=\"tm-article-body tm-article-snippet__lead\">\\n                 <div class=\"tm-article-snippet__cover tm-article-snippet__cover_cover\">\\n                  <img class=\"tm-article-snippet__lead-image\" src=\"https://habrastorage.org/getpro/habr/upload_files/c13/b94/579/c13b94579498fcfa64a83dc2994ca55d.png\" style=\"object-position:0% 0%;\"/>\\n                 </div>\\n                 <div class=\"article-formatted-body article-formatted-body_version-2\">\\n                  <p>\\n                   Ничто так не вызывает интерес у противоположного пола, как страстные разъяснения физики кротовых нор.\\n                  </p>\\n                 </div>\\n                 <a class=\"tm-article-snippet__readmore\" href=\"/ru/post/573666/\">\\n                  <span>\\n                   Читать далее\\n                  </span>\\n                 </a>\\n                </div>\\n               </div>\\n               <div class=\"tm-data-icons\">\\n                <!-- -->\\n                <div class=\"tm-votes-meter tm-data-icons__item\">\\n                 <svg class=\"tm-svg-img tm-votes-meter__icon tm-votes-meter__icon_small\" height=\"16\" width=\"16\">\\n                  <title>\\n                   Всего голосов 1: ↑1 и ↓0\\n                  </title>\\n                  <use xlink:href=\"/img/megazord-v24.cee85629.svg#counter-rating\">\\n                  </use>\\n                 </svg>\\n                 <span class=\"tm-votes-meter__value tm-votes-meter__value_positive tm-votes-meter__value_small\" title=\"Всего голосов 1: ↑1 и ↓0\">\\n                  +1\\n                 </span>\\n                </div>\\n                <span class=\"tm-icon-counter tm-data-icons__item\" title=\"Количество просмотров\">\\n                 <svg class=\"tm-svg-img tm-icon-counter__icon\" height=\"16\" width=\"16\">\\n                  <title>\\n                   Просмотры\\n                  </title>\\n                  <use xlink:href=\"/img/megazord-v24.cee85629.svg#counter-views\">\\n                  </use>\\n                 </svg>\\n                 <span class=\"tm-icon-counter__value\">\\n                  576\\n                 </span>\\n                </span>\\n                <button class=\"bookmarks-button tm-data-icons__item\" title=\"Добавить в закладки\" type=\"button\">\\n                 <span class=\"tm-svg-icon__wrapper bookmarks-button__icon\" title=\"Добавить в закладки\">\\n                  <svg class=\"tm-svg-img tm-svg-icon\" height=\"16\" width=\"16\">\\n                   <title>\\n                    Добавить в закладки\\n                   </title>\\n                   <use xlink:href=\"/img/megazord-v24.cee85629.svg#counter-favorite\">\\n                   </use>\\n                  </svg>\\n                 </span>\\n                 <span class=\"bookmarks-button__counter\" title=\"Количество пользователей, добавивших публикацию в закладки\">\\n                  0\\n                 </span>\\n                </button>\\n                <div class=\"tm-article-comments-counter-link tm-data-icons__item\" title=\"Читать комментарии\">\\n                 <a class=\"tm-article-comments-counter-link__link\" href=\"/ru/post/573666/comments/\">\\n                  <svg class=\"tm-svg-img tm-article-comments-counter-link__icon\" height=\"16\" width=\"16\">\\n                   <title>\\n                    Комментарии\\n                   </title>\\n                   <use xlink:href=\"/img/megazord-v24.cee85629.svg#counter-comments\">\\n                   </use>\\n                  </svg>\\n                  <span class=\"tm-article-comments-counter-link__value\">\\n                   0\\n                  </span>\\n                 </a>\\n                 <!-- -->\\n                </div>\\n                <!-- -->\\n                <div class=\"v-portal\" style=\"display:none;\">\\n                </div>\\n               </div>\\n              </article>\\n              <div class=\"tm-articles-list__after-article\">\\n               <!-- -->\\n              </div>\\n              <!-- -->\\n              <article class=\"tm-articles-list__item\" data-navigatable=\"\" id=\"576612\" tabindex=\"0\">\\n               <div class=\"tm-article-snippet\">\\n                <div class=\"tm-article-snippet__meta-container\">\\n                 <div class=\"tm-article-snippet__meta\">\\n                  <span class=\"tm-user-info tm-article-snippet__author\">\\n                   <a class=\"tm-user-info__userpic\" href=\"/ru/users/stanislav_as/\" title=\"stanislav_as\">\\n                    <div class=\"tm-entity-image\">\\n                     <img alt=\"\" class=\"tm-entity-image__pic\" height=\"24\" loading=\"lazy\" src=\"//habrastorage.org/r/w32/getpro/habr/avatars/61d/904/a4b/61d904a4b01af378058e1226d267546b.jpg\" width=\"24\"/>\\n                    </div>\\n                   </a>\\n                   <span class=\"tm-user-info__user\">\\n                    <a class=\"tm-user-info__username\" href=\"/ru/users/stanislav_as/\">\\n                     stanislav_as\\n                    </a>\\n                   </span>\\n                  </span>\\n                  <span class=\"tm-article-snippet__datetime-published\">\\n                   <time datetime=\"2021-10-05T08:00:56.000Z\" title=\"2021-10-05, 11:00\">\\n                    сегодня в 11:00\\n                   </time>\\n                  </span>\\n                 </div>\\n                 <!-- -->\\n                </div>\\n                <h2 class=\"tm-article-snippet__title tm-article-snippet__title_h2\">\\n                 <a class=\"tm-article-snippet__title-link\" data-article-link=\"\" href=\"/ru/company/ashmanov_net/blog/576612/\">\\n                  <span>\\n                   Как мы проверили качество распознавания речи у Яндекса, Гугла, Тинькофф, Amazon и др\\n                  </span>\\n                 </a>\\n                </h2>\\n                <div class=\"tm-article-snippet__hubs\">\\n                 <span class=\"tm-article-snippet__hubs-item\">\\n                  <a class=\"tm-article-snippet__hubs-item-link\" href=\"/ru/company/ashmanov_net/blog/\">\\n                   <span>\\n                    Блог компании Наносемантика\\n                   </span>\\n                   <!-- -->\\n                  </a>\\n                 </span>\\n                 <span class=\"tm-article-snippet__hubs-item\">\\n                  <a class=\"tm-article-snippet__hubs-item-link\" href=\"/ru/hub/machine_learning/\">\\n                   <span>\\n                    Машинное обучение\\n                   </span>\\n                   <span class=\"tm-article-snippet__profiled-hub\" title=\"Профильный хаб\">\\n                    *\\n                   </span>\\n                  </a>\\n                 </span>\\n                 <span class=\"tm-article-snippet__hubs-item\">\\n                  <a class=\"tm-article-snippet__hubs-item-link\" href=\"/ru/hub/artificial_intelligence/\">\\n                   <span>\\n                    Искусственный интеллект\\n                   </span>\\n                   <!-- -->\\n                  </a>\\n                 </span>\\n                 <span class=\"tm-article-snippet__hubs-item\">\\n                  <a class=\"tm-article-snippet__hubs-item-link\" href=\"/ru/hub/sound/\">\\n                   <span>\\n                    Звук\\n                   </span>\\n                   <!-- -->\\n                  </a>\\n                 </span>\\n                 <span class=\"tm-article-snippet__hubs-item\">\\n                  <a class=\"tm-article-snippet__hubs-item-link\" href=\"/ru/hub/voice_interfaces/\">\\n                   <span>\\n                    Голосовые интерфейсы\\n                   </span>\\n                   <!-- -->\\n                  </a>\\n                 </span>\\n                </div>\\n                <!-- -->\\n                <!-- -->\\n                <div class=\"tm-article-body tm-article-snippet__lead\">\\n                 <div class=\"tm-article-snippet__cover tm-article-snippet__cover_cover\">\\n                  <img class=\"tm-article-snippet__lead-image\" src=\"https://habrastorage.org/getpro/habr/upload_files/87f/e8c/0e7/87fe8c0e7bd4a12384cd126bd8cb5e57.png\" style=\"object-position:0% 0%;\"/>\\n                 </div>\\n                 <div class=\"article-formatted-body article-formatted-body_version-2\">\\n                  <p>\\n                   Всем привет! Я руковожу «\\n                   <a href=\"http://nanosemantics.ai/?utm_source=habr&amp;utm_medium=article&amp;utm_campaign=bench&amp;utm_content=link\">\\n                    Наносемантикой\\n                   </a>\\n                   », сегодня хотел бы поделиться с вами результатами нашего сравнения сервисов распознавания речи (ASR). Мы собрали и разметили тестовый датасет на русском языке, прогнали через сервисы ASR, проанализировали результаты работы разных вендоров, собрали основные выводы.\\n                  </p>\\n                  <p>\\n                   Получилось интересно, подробности в статье.\\n                  </p>\\n                 </div>\\n                 <a class=\"tm-article-snippet__readmore\" href=\"/ru/company/ashmanov_net/blog/576612/\">\\n                  <span>\\n                   Читать далее\\n                  </span>\\n                 </a>\\n                </div>\\n               </div>\\n               <div class=\"tm-data-icons\">\\n                <!-- -->\\n                <div class=\"tm-votes-meter tm-data-icons__item\">\\n                 <svg class=\"tm-svg-img tm-votes-meter__icon tm-votes-meter__icon_small\" height=\"16\" width=\"16\">\\n                  <title>\\n                   Рейтинг\\n                  </title>\\n                  <use xlink:href=\"/img/megazord-v24.cee85629.svg#counter-rating\">\\n                  </use>\\n                 </svg>\\n                 <span class=\"tm-votes-meter__value tm-votes-meter__value_small\">\\n                  0\\n                 </span>\\n                </div>\\n                <span class=\"tm-icon-counter tm-data-icons__item\" title=\"Количество просмотров\">\\n                 <svg class=\"tm-svg-img tm-icon-counter__icon\" height=\"16\" width=\"16\">\\n                  <title>\\n                   Просмотры\\n                  </title>\\n                  <use xlink:href=\"/img/megazord-v24.cee85629.svg#counter-views\">\\n                  </use>\\n                 </svg>\\n                 <span class=\"tm-icon-counter__value\">\\n                  258\\n                 </span>\\n                </span>\\n                <button class=\"bookmarks-button tm-data-icons__item\" title=\"Добавить в закладки\" type=\"button\">\\n                 <span class=\"tm-svg-icon__wrapper bookmarks-button__icon\" title=\"Добавить в закладки\">\\n                  <svg class=\"tm-svg-img tm-svg-icon\" height=\"16\" width=\"16\">\\n                   <title>\\n                    Добавить в закладки\\n                   </title>\\n                   <use xlink:href=\"/img/megazord-v24.cee85629.svg#counter-favorite\">\\n                   </use>\\n                  </svg>\\n                 </span>\\n                 <span class=\"bookmarks-button__counter\" title=\"Количество пользователей, добавивших публикацию в закладки\">\\n                  0\\n                 </span>\\n                </button>\\n                <div class=\"tm-article-comments-counter-link tm-data-icons__item\" title=\"Читать комментарии\">\\n                 <a class=\"tm-article-comments-counter-link__link\" href=\"/ru/company/ashmanov_net/blog/576612/comments/\">\\n                  <svg class=\"tm-svg-img tm-article-comments-counter-link__icon\" height=\"16\" width=\"16\">\\n                   <title>\\n                    Комментарии\\n                   </title>\\n                   <use xlink:href=\"/img/megazord-v24.cee85629.svg#counter-comments\">\\n                   </use>\\n                  </svg>\\n                  <span class=\"tm-article-comments-counter-link__value\">\\n                   0\\n                  </span>\\n                 </a>\\n                 <!-- -->\\n                </div>\\n                <!-- -->\\n                <div class=\"v-portal\" style=\"display:none;\">\\n                </div>\\n               </div>\\n              </article>\\n              <div class=\"tm-articles-list__after-article\">\\n               <!-- -->\\n              </div>\\n              <!-- -->\\n              <article class=\"tm-articles-list__item\" data-navigatable=\"\" id=\"581294\" tabindex=\"0\">\\n               <div class=\"tm-article-snippet\">\\n                <div class=\"tm-article-snippet__meta-container\">\\n                 <div class=\"tm-article-snippet__meta\">\\n                  <span class=\"tm-user-info tm-article-snippet__author\">\\n                   <a class=\"tm-user-info__userpic\" href=\"/ru/users/jestr/\" title=\"jestr\">\\n                    <div class=\"tm-entity-image\">\\n                     <svg class=\"tm-svg-img tm-image-placeholder tm-image-placeholder_blue\" height=\"24\" width=\"24\">\\n                      <!-- -->\\n                      <use xlink:href=\"/img/megazord-v24.cee85629.svg#placeholder-user\">\\n                      </use>\\n                     </svg>\\n                    </div>\\n                   </a>\\n                   <span class=\"tm-user-info__user\">\\n                    <a class=\"tm-user-info__username\" href=\"/ru/users/jestr/\">\\n                     jestr\\n                    </a>\\n                   </span>\\n                  </span>\\n                  <span class=\"tm-article-snippet__datetime-published\">\\n                   <time datetime=\"2021-10-05T08:00:17.000Z\" title=\"2021-10-05, 11:00\">\\n                    сегодня в 11:00\\n                   </time>\\n                  </span>\\n                 </div>\\n                 <!-- -->\\n                </div>\\n                <h2 class=\"tm-article-snippet__title tm-article-snippet__title_h2\">\\n                 <a class=\"tm-article-snippet__title-link\" data-article-link=\"\" href=\"/ru/company/domclick/blog/581294/\">\\n                  <span>\\n                   Упрощаем работу в Camunda Modeler с помощью плагинов\\n                  </span>\\n                 </a>\\n                </h2>\\n                <div class=\"tm-article-snippet__hubs\">\\n                 <span class=\"tm-article-snippet__hubs-item\">\\n                  <a class=\"tm-article-snippet__hubs-item-link\" href=\"/ru/company/domclick/blog/\">\\n                   <span>\\n                    Блог компании ДомКлик\\n                   </span>\\n                   <!-- -->\\n                  </a>\\n                 </span>\\n                 <span class=\"tm-article-snippet__hubs-item\">\\n                  <a class=\"tm-article-snippet__hubs-item-link\" href=\"/ru/hub/programming/\">\\n                   <span>\\n                    Программирование\\n                   </span>\\n                   <span class=\"tm-article-snippet__profiled-hub\" title=\"Профильный хаб\">\\n                    *\\n                   </span>\\n                  </a>\\n                 </span>\\n                 <span class=\"tm-article-snippet__hubs-item\">\\n                  <a class=\"tm-article-snippet__hubs-item-link\" href=\"/ru/hub/java/\">\\n                   <span>\\n                    Java\\n                   </span>\\n                   <span class=\"tm-article-snippet__profiled-hub\" title=\"Профильный хаб\">\\n                    *\\n                   </span>\\n                  </a>\\n                 </span>\\n                 <span class=\"tm-article-snippet__hubs-item\">\\n                  <a class=\"tm-article-snippet__hubs-item-link\" href=\"/ru/hub/visual_programming/\">\\n                   <span>\\n                    Визуальное программирование\\n                   </span>\\n                   <span class=\"tm-article-snippet__profiled-hub\" title=\"Профильный хаб\">\\n                    *\\n                   </span>\\n                  </a>\\n                 </span>\\n                </div>\\n                <div class=\"tm-article-snippet__labels\">\\n                 <div class=\"tm-article-snippet__label\">\\n                  <span>\\n                   Tutorial\\n                  </span>\\n                 </div>\\n                </div>\\n                <!-- -->\\n                <div class=\"tm-article-body tm-article-snippet__lead\">\\n                 <div class=\"tm-article-snippet__cover tm-article-snippet__cover_cover\">\\n                  <img class=\"tm-article-snippet__lead-image\" src=\"https://habrastorage.org/getpro/habr/upload_files/6d5/99c/721/6d599c7217ced33711fe3dd7bf373053.png\" style=\"object-position:4.6153846153846% 60.681818181818%;\"/>\\n                 </div>\\n                 <div class=\"article-formatted-body article-formatted-body_version-2\">\\n                  <p>\\n                   Camunda Modeler позволяет довольно легко набросать BPMN-схему процесса, перетащив элементы в рабочую область и соединив их стрелками. Далее дела обстоят немного сложнее: нужно быть очень внимательным, чтобы с первого раза для каждого элемента заполнить необходимые поля в панели свойств и не допустить ни одной ошибки. С этой точки зрения создание исполняемых BPMN-схем напоминает программирование в Блокноте.\\n                  </p>\\n                  <p>\\n                   Например, очень легко в Script Task написать скрипт на Groovy и забыть указать Script Format. Тогда по умолчанию движок попробует выполнить переданную ему строку как JUEL-код, и вряд ли мы получим ожидаемый результат.\\n                  </p>\\n                  <p>\\n                   Было бы неплохо иметь что-то вроде подсказок, на какие поля нужно обратить внимание, какое значение вписать, какие флаги отметить, и так далее в соответствии с принятыми в команде практиками. К счастью, Camunda Modeler позволяет расширять функциональность, не форкая всё приложение, а применив плагины, что мы и решили сделать.\\n                  </p>\\n                 </div>\\n                 <a class=\"tm-article-snippet__readmore\" href=\"/ru/company/domclick/blog/581294/\">\\n                  <span>\\n                   Читать далее\\n                  </span>\\n                 </a>\\n                </div>\\n               </div>\\n               <div class=\"tm-data-icons\">\\n                <!-- -->\\n                <div class=\"tm-votes-meter tm-data-icons__item\">\\n                 <svg class=\"tm-svg-img tm-votes-meter__icon tm-votes-meter__icon_small\" height=\"16\" width=\"16\">\\n                  <title>\\n                   Всего голосов 11: ↑11 и ↓0\\n                  </title>\\n                  <use xlink:href=\"/img/megazord-v24.cee85629.svg#counter-rating\">\\n                  </use>\\n                 </svg>\\n                 <span class=\"tm-votes-meter__value tm-votes-meter__value_positive tm-votes-meter__value_small\" title=\"Всего голосов 11: ↑11 и ↓0\">\\n                  +11\\n                 </span>\\n                </div>\\n                <span class=\"tm-icon-counter tm-data-icons__item\" title=\"Количество просмотров\">\\n                 <svg class=\"tm-svg-img tm-icon-counter__icon\" height=\"16\" width=\"16\">\\n                  <title>\\n                   Просмотры\\n                  </title>\\n                  <use xlink:href=\"/img/megazord-v24.cee85629.svg#counter-views\">\\n                  </use>\\n                 </svg>\\n                 <span class=\"tm-icon-counter__value\">\\n                  115\\n                 </span>\\n                </span>\\n                <button class=\"bookmarks-button tm-data-icons__item\" title=\"Добавить в закладки\" type=\"button\">\\n                 <span class=\"tm-svg-icon__wrapper bookmarks-button__icon\" title=\"Добавить в закладки\">\\n                  <svg class=\"tm-svg-img tm-svg-icon\" height=\"16\" width=\"16\">\\n                   <title>\\n                    Добавить в закладки\\n                   </title>\\n                   <use xlink:href=\"/img/megazord-v24.cee85629.svg#counter-favorite\">\\n                   </use>\\n                  </svg>\\n                 </span>\\n                 <span class=\"bookmarks-button__counter\" title=\"Количество пользователей, добавивших публикацию в закладки\">\\n                  1\\n                 </span>\\n                </button>\\n                <div class=\"tm-article-comments-counter-link tm-data-icons__item\" title=\"Читать комментарии\">\\n                 <a class=\"tm-article-comments-counter-link__link\" href=\"/ru/company/domclick/blog/581294/comments/\">\\n                  <svg class=\"tm-svg-img tm-article-comments-counter-link__icon\" height=\"16\" width=\"16\">\\n                   <title>\\n                    Комментарии\\n                   </title>\\n                   <use xlink:href=\"/img/megazord-v24.cee85629.svg#counter-comments\">\\n                   </use>\\n                  </svg>\\n                  <span class=\"tm-article-comments-counter-link__value\">\\n                   0\\n                  </span>\\n                 </a>\\n                 <!-- -->\\n                </div>\\n                <!-- -->\\n                <div class=\"v-portal\" style=\"display:none;\">\\n                </div>\\n               </div>\\n              </article>\\n              <div class=\"tm-articles-list__after-article\">\\n               <div class=\"tm-article-feed-blocks\">\\n                <!-- -->\\n               </div>\\n              </div>\\n              <!-- -->\\n              <article class=\"tm-articles-list__item\" data-navigatable=\"\" id=\"581586\" tabindex=\"0\">\\n               <div class=\"tm-article-snippet\">\\n                <div class=\"tm-article-snippet__meta-container\">\\n                 <div class=\"tm-article-snippet__meta\">\\n                  <span class=\"tm-user-info tm-article-snippet__author\">\\n                   <a class=\"tm-user-info__userpic\" href=\"/ru/users/chemtech/\" title=\"chemtech\">\\n                    <div class=\"tm-entity-image\">\\n                     <img alt=\"\" class=\"tm-entity-image__pic\" height=\"24\" loading=\"lazy\" src=\"//habrastorage.org/r/w32/getpro/habr/avatars/e18/935/57e/e1893557eeaacf388b0e596d910014c8.jpg\" width=\"24\"/>\\n                    </div>\\n                   </a>\\n                   <span class=\"tm-user-info__user\">\\n                    <a class=\"tm-user-info__username\" href=\"/ru/users/chemtech/\">\\n                     chemtech\\n                    </a>\\n                   </span>\\n                  </span>\\n                  <span class=\"tm-article-snippet__datetime-published\">\\n                   <time datetime=\"2021-10-05T07:49:42.000Z\" title=\"2021-10-05, 10:49\">\\n                    сегодня в 10:49\\n                   </time>\\n                  </span>\\n                 </div>\\n                 <!-- -->\\n                </div>\\n                <h2 class=\"tm-article-snippet__title tm-article-snippet__title_h2\">\\n                 <a class=\"tm-article-snippet__title-link\" data-article-link=\"\" href=\"/ru/post/581586/\">\\n                  <span>\\n                   Учим Kibana работать с Clickhouse (Ярослав Саган, Николай Нестеренко)\\n                  </span>\\n                 </a>\\n                </h2>\\n                <div class=\"tm-article-snippet__hubs\">\\n                 <span class=\"tm-article-snippet__hubs-item\">\\n                  <a class=\"tm-article-snippet__hubs-item-link\" href=\"/ru/hub/data_visualization/\">\\n                   <span>\\n                    Визуализация данных\\n                   </span>\\n                   <!-- -->\\n                  </a>\\n                 </span>\\n                 <span class=\"tm-article-snippet__hubs-item\">\\n                  <a class=\"tm-article-snippet__hubs-item-link\" href=\"/ru/hub/devops/\">\\n                   <span>\\n                    DevOps\\n                   </span>\\n                   <span class=\"tm-article-snippet__profiled-hub\" title=\"Профильный хаб\">\\n                    *\\n                   </span>\\n                  </a>\\n                 </span>\\n                </div>\\n                <!-- -->\\n                <!-- -->\\n                <div class=\"tm-article-body tm-article-snippet__lead\">\\n                 <!-- -->\\n                 <div class=\"article-formatted-body article-formatted-body_version-1\">\\n                  <p>\\n                   <img src=\"https://habrastorage.org/webt/70/sn/tb/70sntbucjhrxxzz_lskgcljrb04.jpeg\"/>\\n                  </p>\\n                  <br/>\\n                  <p>\\n                   (Ярослав Саган) Мы расскажем о том, как делали архитектуру для компактного хранения логов в ClickHouse; как прикручивали Kibana для просмотра логов, их фильтрации и аналитики. А также расскажем, с какими трудностями столкнулись и что у нас получилось в итоге.\\n                  </p>\\n                 </div>\\n                 <a class=\"tm-article-snippet__readmore\" href=\"/ru/post/581586/\">\\n                  <span>\\n                   Читать дальше →\\n                  </span>\\n                 </a>\\n                </div>\\n               </div>\\n               <div class=\"tm-data-icons\">\\n                <!-- -->\\n                <div class=\"tm-votes-meter tm-data-icons__item\">\\n                 <svg class=\"tm-svg-img tm-votes-meter__icon tm-votes-meter__icon_small\" height=\"16\" width=\"16\">\\n                  <title>\\n                   Всего голосов 4: ↑4 и ↓0\\n                  </title>\\n                  <use xlink:href=\"/img/megazord-v24.cee85629.svg#counter-rating\">\\n                  </use>\\n                 </svg>\\n                 <span class=\"tm-votes-meter__value tm-votes-meter__value_positive tm-votes-meter__value_small\" title=\"Всего голосов 4: ↑4 и ↓0\">\\n                  +4\\n                 </span>\\n                </div>\\n                <span class=\"tm-icon-counter tm-data-icons__item\" title=\"Количество просмотров\">\\n                 <svg class=\"tm-svg-img tm-icon-counter__icon\" height=\"16\" width=\"16\">\\n                  <title>\\n                   Просмотры\\n                  </title>\\n                  <use xlink:href=\"/img/megazord-v24.cee85629.svg#counter-views\">\\n                  </use>\\n                 </svg>\\n                 <span class=\"tm-icon-counter__value\">\\n                  163\\n                 </span>\\n                </span>\\n                <button class=\"bookmarks-button tm-data-icons__item\" title=\"Добавить в закладки\" type=\"button\">\\n                 <span class=\"tm-svg-icon__wrapper bookmarks-button__icon\" title=\"Добавить в закладки\">\\n                  <svg class=\"tm-svg-img tm-svg-icon\" height=\"16\" width=\"16\">\\n                   <title>\\n                    Добавить в закладки\\n                   </title>\\n                   <use xlink:href=\"/img/megazord-v24.cee85629.svg#counter-favorite\">\\n                   </use>\\n                  </svg>\\n                 </span>\\n                 <span class=\"bookmarks-button__counter\" title=\"Количество пользователей, добавивших публикацию в закладки\">\\n                  1\\n                 </span>\\n                </button>\\n                <div class=\"tm-article-comments-counter-link tm-data-icons__item\" title=\"Читать комментарии\">\\n                 <a class=\"tm-article-comments-counter-link__link\" href=\"/ru/post/581586/comments/\">\\n                  <svg class=\"tm-svg-img tm-article-comments-counter-link__icon\" height=\"16\" width=\"16\">\\n                   <title>\\n                    Комментарии\\n                   </title>\\n                   <use xlink:href=\"/img/megazord-v24.cee85629.svg#counter-comments\">\\n                   </use>\\n                  </svg>\\n                  <span class=\"tm-article-comments-counter-link__value\">\\n                   0\\n                  </span>\\n                 </a>\\n                 <!-- -->\\n                </div>\\n                <!-- -->\\n                <div class=\"v-portal\" style=\"display:none;\">\\n                </div>\\n               </div>\\n              </article>\\n              <div class=\"tm-articles-list__after-article\">\\n               <!-- -->\\n              </div>\\n              <!-- -->\\n              <article class=\"tm-articles-list__item\" data-navigatable=\"\" id=\"581448\" tabindex=\"0\">\\n               <div class=\"tm-article-snippet\">\\n                <div class=\"tm-article-snippet__meta-container\">\\n                 <div class=\"tm-article-snippet__meta\">\\n                  <span class=\"tm-user-info tm-article-snippet__author\">\\n                   <a class=\"tm-user-info__userpic\" href=\"/ru/users/sahsAGU/\" title=\"sahsAGU\">\\n                    <div class=\"tm-entity-image\">\\n                     <img alt=\"\" class=\"tm-entity-image__pic\" height=\"24\" loading=\"lazy\" src=\"//habrastorage.org/r/w32/getpro/habr/avatars/43c/6c7/0ab/43c6c70ab024d45474e6abe8db797573.jpg\" width=\"24\"/>\\n                    </div>\\n                   </a>\\n                   <span class=\"tm-user-info__user\">\\n                    <a class=\"tm-user-info__username\" href=\"/ru/users/sahsAGU/\">\\n                     sahsAGU\\n                    </a>\\n                   </span>\\n                  </span>\\n                  <span class=\"tm-article-snippet__datetime-published\">\\n                   <time datetime=\"2021-10-05T07:30:02.000Z\" title=\"2021-10-05, 10:30\">\\n                    сегодня в 10:30\\n                   </time>\\n                  </span>\\n                 </div>\\n                 <!-- -->\\n                </div>\\n                <h2 class=\"tm-article-snippet__title tm-article-snippet__title_h2\">\\n                 <a class=\"tm-article-snippet__title-link\" data-article-link=\"\" href=\"/ru/post/581448/\">\\n                  <span>\\n                   Выгорание в IT — результаты свежего исследования\\n                  </span>\\n                 </a>\\n                </h2>\\n                <div class=\"tm-article-snippet__hubs\">\\n                 <span class=\"tm-article-snippet__hubs-item\">\\n                  <a class=\"tm-article-snippet__hubs-item-link\" href=\"/ru/hub/programming/\">\\n                   <span>\\n                    Программирование\\n                   </span>\\n                   <span class=\"tm-article-snippet__profiled-hub\" title=\"Профильный хаб\">\\n                    *\\n                   </span>\\n                  </a>\\n                 </span>\\n                 <span class=\"tm-article-snippet__hubs-item\">\\n                  <a class=\"tm-article-snippet__hubs-item-link\" href=\"/ru/hub/research/\">\\n                   <span>\\n                    Исследования и прогнозы в IT\\n                   </span>\\n                   <!-- -->\\n                  </a>\\n                 </span>\\n                 <span class=\"tm-article-snippet__hubs-item\">\\n                  <a class=\"tm-article-snippet__hubs-item-link\" href=\"/ru/hub/infographics/\">\\n                   <span>\\n                    Инфографика\\n                   </span>\\n                   <!-- -->\\n                  </a>\\n                 </span>\\n                 <span class=\"tm-article-snippet__hubs-item\">\\n                  <a class=\"tm-article-snippet__hubs-item-link\" href=\"/ru/hub/health/\">\\n                   <span>\\n                    Здоровье\\n                   </span>\\n                   <!-- -->\\n                  </a>\\n                 </span>\\n                 <span class=\"tm-article-snippet__hubs-item\">\\n                  <a class=\"tm-article-snippet__hubs-item-link\" href=\"/ru/hub/itcompanies/\">\\n                   <span>\\n                    IT-компании\\n                   </span>\\n                   <!-- -->\\n                  </a>\\n                 </span>\\n                </div>\\n                <div class=\"tm-article-snippet__labels\">\\n                 <div class=\"tm-article-snippet__label\">\\n                  <span>\\n                   Перевод\\n                  </span>\\n                 </div>\\n                </div>\\n                <!-- -->\\n                <div class=\"tm-article-body tm-article-snippet__lead\">\\n                 <div class=\"tm-article-snippet__cover tm-article-snippet__cover_cover\">\\n                  <img class=\"tm-article-snippet__lead-image\" src=\"https://habrastorage.org/getpro/habr/upload_files/0a8/59e/1de/0a859e1deff20776ba49b12895135bac.png\" style=\"object-position:48.076923076923% 8.6363636363636%;\"/>\\n                 </div>\\n                 <div class=\"article-formatted-body article-formatted-body_version-2\">\\n                  <p>\\n                   Привет, Хабр. Увидел неплохую англоязычную статью с результатами свежего исследования в секторе IT про выгорание в целом и в период пандемии в частности. Упустив в своем переводе такие подробности оригинала, как \"Что такое выгорание\", \"Что вызывает выгорание\" и \"Как избежать выгорания\" (я уверен, что вы уже видели статьи про это, а если не видели - легко найдете в том числе на хабре),\\n                   <strong>\\n                    перейду сразу к цифрам\\n                   </strong>\\n                   .\\n                  </p>\\n                 </div>\\n                 <a class=\"tm-article-snippet__readmore\" href=\"/ru/post/581448/\">\\n                  <span>\\n                   Читать далее\\n                  </span>\\n                 </a>\\n                </div>\\n               </div>\\n               <div class=\"tm-data-icons\">\\n                <!-- -->\\n                <div class=\"tm-votes-meter tm-data-icons__item\">\\n                 <svg class=\"tm-svg-img tm-votes-meter__icon tm-votes-meter__icon_small\" height=\"16\" width=\"16\">\\n                  <title>\\n                   Всего голосов 6: ↑3 и ↓3\\n                  </title>\\n                  <use xlink:href=\"/img/megazord-v24.cee85629.svg#counter-rating\">\\n                  </use>\\n                 </svg>\\n                 <span class=\"tm-votes-meter__value tm-votes-meter__value_small\" title=\"Всего голосов 6: ↑3 и ↓3\">\\n                  0\\n                 </span>\\n                </div>\\n                <span class=\"tm-icon-counter tm-data-icons__item\" title=\"Количество просмотров\">\\n                 <svg class=\"tm-svg-img tm-icon-counter__icon\" height=\"16\" width=\"16\">\\n                  <title>\\n                   Просмотры\\n                  </title>\\n                  <use xlink:href=\"/img/megazord-v24.cee85629.svg#counter-views\">\\n                  </use>\\n                 </svg>\\n                 <span class=\"tm-icon-counter__value\">\\n                  1.1K\\n                 </span>\\n                </span>\\n                <button class=\"bookmarks-button tm-data-icons__item\" title=\"Добавить в закладки\" type=\"button\">\\n                 <span class=\"tm-svg-icon__wrapper bookmarks-button__icon\" title=\"Добавить в закладки\">\\n                  <svg class=\"tm-svg-img tm-svg-icon\" height=\"16\" width=\"16\">\\n                   <title>\\n                    Добавить в закладки\\n                   </title>\\n                   <use xlink:href=\"/img/megazord-v24.cee85629.svg#counter-favorite\">\\n                   </use>\\n                  </svg>\\n                 </span>\\n                 <span class=\"bookmarks-button__counter\" title=\"Количество пользователей, добавивших публикацию в закладки\">\\n                  7\\n                 </span>\\n                </button>\\n                <div class=\"tm-article-comments-counter-link tm-data-icons__item\" title=\"Читать комментарии\">\\n                 <a class=\"tm-article-comments-counter-link__link\" href=\"/ru/post/581448/comments/\">\\n                  <svg class=\"tm-svg-img tm-article-comments-counter-link__icon\" height=\"16\" width=\"16\">\\n                   <title>\\n                    Комментарии\\n                   </title>\\n                   <use xlink:href=\"/img/megazord-v24.cee85629.svg#counter-comments\">\\n                   </use>\\n                  </svg>\\n                  <span class=\"tm-article-comments-counter-link__value\">\\n                   0\\n                  </span>\\n                 </a>\\n                 <!-- -->\\n                </div>\\n                <!-- -->\\n                <div class=\"v-portal\" style=\"display:none;\">\\n                </div>\\n               </div>\\n              </article>\\n              <div class=\"tm-articles-list__after-article\">\\n               <!-- -->\\n              </div>\\n              <!-- -->\\n              <article class=\"tm-articles-list__item\" data-navigatable=\"\" id=\"580758\" tabindex=\"0\">\\n               <div class=\"tm-article-snippet\">\\n                <div class=\"tm-article-snippet__meta-container\">\\n                 <div class=\"tm-article-snippet__meta\">\\n                  <span class=\"tm-user-info tm-article-snippet__author\">\\n                   <a class=\"tm-user-info__userpic\" href=\"/ru/users/Fattakh/\" title=\"Fattakh\">\\n                    <div class=\"tm-entity-image\">\\n                     <svg class=\"tm-svg-img tm-image-placeholder tm-image-placeholder_green\" height=\"24\" width=\"24\">\\n                      <!-- -->\\n                      <use xlink:href=\"/img/megazord-v24.cee85629.svg#placeholder-user\">\\n                      </use>\\n                     </svg>\\n                    </div>\\n                   </a>\\n                   <span class=\"tm-user-info__user\">\\n                    <a class=\"tm-user-info__username\" href=\"/ru/users/Fattakh/\">\\n                     Fattakh\\n                    </a>\\n                   </span>\\n                  </span>\\n                  <span class=\"tm-article-snippet__datetime-published\">\\n                   <time datetime=\"2021-10-05T07:20:23.000Z\" title=\"2021-10-05, 10:20\">\\n                    сегодня в 10:20\\n                   </time>\\n                  </span>\\n                 </div>\\n                 <!-- -->\\n                </div>\\n                <h2 class=\"tm-article-snippet__title tm-article-snippet__title_h2\">\\n                 <a class=\"tm-article-snippet__title-link\" data-article-link=\"\" href=\"/ru/company/megafon/blog/580758/\">\\n                  <span>\\n                   4 дня из жизни unix-инженера, хроника разработки скрипта\\n                  </span>\\n                 </a>\\n                </h2>\\n                <div class=\"tm-article-snippet__hubs\">\\n                 <span class=\"tm-article-snippet__hubs-item\">\\n                  <a class=\"tm-article-snippet__hubs-item-link\" href=\"/ru/company/megafon/blog/\">\\n                   <span>\\n                    Блог компании МегаФон\\n                   </span>\\n                   <!-- -->\\n                  </a>\\n                 </span>\\n                 <span class=\"tm-article-snippet__hubs-item\">\\n                  <a class=\"tm-article-snippet__hubs-item-link\" href=\"/ru/hub/linux/\">\\n                   <span>\\n                    Настройка Linux\\n                   </span>\\n                   <span class=\"tm-article-snippet__profiled-hub\" title=\"Профильный хаб\">\\n                    *\\n                   </span>\\n                  </a>\\n                 </span>\\n                 <span class=\"tm-article-snippet__hubs-item\">\\n                  <a class=\"tm-article-snippet__hubs-item-link\" href=\"/ru/hub/sys_admin/\">\\n                   <span>\\n                    Системное администрирование\\n                   </span>\\n                   <span class=\"tm-article-snippet__profiled-hub\" title=\"Профильный хаб\">\\n                    *\\n                   </span>\\n                  </a>\\n                 </span>\\n                 <span class=\"tm-article-snippet__hubs-item\">\\n                  <a class=\"tm-article-snippet__hubs-item-link\" href=\"/ru/hub/programming/\">\\n                   <span>\\n                    Программирование\\n                   </span>\\n                   <span class=\"tm-article-snippet__profiled-hub\" title=\"Профильный хаб\">\\n                    *\\n                   </span>\\n                  </a>\\n                 </span>\\n                 <span class=\"tm-article-snippet__hubs-item\">\\n                  <a class=\"tm-article-snippet__hubs-item-link\" href=\"/ru/hub/s_admin/\">\\n                   <span>\\n                    Серверное администрирование\\n                   </span>\\n                   <span class=\"tm-article-snippet__profiled-hub\" title=\"Профильный хаб\">\\n                    *\\n                   </span>\\n                  </a>\\n                 </span>\\n                </div>\\n                <!-- -->\\n                <!-- -->\\n                <div class=\"tm-article-body tm-article-snippet__lead\">\\n                 <div class=\"tm-article-snippet__cover tm-article-snippet__cover_cover\">\\n                  <img class=\"tm-article-snippet__lead-image\" src=\"https://habrastorage.org/getpro/habr/upload_files/abd/d96/0c4/abdd960c403538ce9abede70681e33af.png\" style=\"object-position:2.0512820512821% 0%;\"/>\\n                 </div>\\n                 <div class=\"article-formatted-body article-formatted-body_version-2\">\\n                  <p>\\n                   Статья будет полезна unix-инженерам и владельцам информационных систем, которые сталкиваются в своей работе с нехваткой технических данных о серверной нагрузке за длительный период времени.\\n                   <br/>\\n                   Я - unix-инженер и расскажу, как мы разрабатывали скрипт по логированию потребления ресурсов сервера процессами, пошагово, в виде фотографии своего рабочего дня. А точнее, четырёх дней: пройдёмся по этапам, начиная с выявления проблемы и заканчивая развертыванием в проде. Параллельно покажу взаимодействие команды на каждом этапе наглядно. Вас ждет скрипт в конце лонгрида)\\n                  </p>\\n                 </div>\\n                 <a class=\"tm-article-snippet__readmore\" href=\"/ru/company/megafon/blog/580758/\">\\n                  <span>\\n                   Итак в путь &gt;&gt;\\n                  </span>\\n                 </a>\\n                </div>\\n               </div>\\n               <div class=\"tm-data-icons\">\\n                <!-- -->\\n                <div class=\"tm-votes-meter tm-data-icons__item\">\\n                 <svg class=\"tm-svg-img tm-votes-meter__icon tm-votes-meter__icon_small\" height=\"16\" width=\"16\">\\n                  <title>\\n                   Всего голосов 3: ↑1 и ↓2\\n                  </title>\\n                  <use xlink:href=\"/img/megazord-v24.cee85629.svg#counter-rating\">\\n                  </use>\\n                 </svg>\\n                 <span class=\"tm-votes-meter__value tm-votes-meter__value_negative tm-votes-meter__value_small\" title=\"Всего голосов 3: ↑1 и ↓2\">\\n                  -1\\n                 </span>\\n                </div>\\n                <span class=\"tm-icon-counter tm-data-icons__item\" title=\"Количество просмотров\">\\n                 <svg class=\"tm-svg-img tm-icon-counter__icon\" height=\"16\" width=\"16\">\\n                  <title>\\n                   Просмотры\\n                  </title>\\n                  <use xlink:href=\"/img/megazord-v24.cee85629.svg#counter-views\">\\n                  </use>\\n                 </svg>\\n                 <span class=\"tm-icon-counter__value\">\\n                  578\\n                 </span>\\n                </span>\\n                <button class=\"bookmarks-button tm-data-icons__item\" title=\"Добавить в закладки\" type=\"button\">\\n                 <span class=\"tm-svg-icon__wrapper bookmarks-button__icon\" title=\"Добавить в закладки\">\\n                  <svg class=\"tm-svg-img tm-svg-icon\" height=\"16\" width=\"16\">\\n                   <title>\\n                    Добавить в закладки\\n                   </title>\\n                   <use xlink:href=\"/img/megazord-v24.cee85629.svg#counter-favorite\">\\n                   </use>\\n                  </svg>\\n                 </span>\\n                 <span class=\"bookmarks-button__counter\" title=\"Количество пользователей, добавивших публикацию в закладки\">\\n                  8\\n                 </span>\\n                </button>\\n                <div class=\"tm-article-comments-counter-link tm-data-icons__item\" title=\"Читать комментарии\">\\n                 <a class=\"tm-article-comments-counter-link__link\" href=\"/ru/company/megafon/blog/580758/comments/\">\\n                  <svg class=\"tm-svg-img tm-article-comments-counter-link__icon\" height=\"16\" width=\"16\">\\n                   <title>\\n                    Комментарии\\n                   </title>\\n                   <use xlink:href=\"/img/megazord-v24.cee85629.svg#counter-comments\">\\n                   </use>\\n                  </svg>\\n                  <span class=\"tm-article-comments-counter-link__value\">\\n                   2\\n                  </span>\\n                 </a>\\n                 <!-- -->\\n                </div>\\n                <!-- -->\\n                <div class=\"v-portal\" style=\"display:none;\">\\n                </div>\\n               </div>\\n              </article>\\n              <div class=\"tm-articles-list__after-article\">\\n               <div class=\"tm-article-feed-blocks\">\\n                <div class=\"tm-ad-banner__container\">\\n                 <!-- -->\\n                 <div class=\"tm-ad-banner\" id=\"articlesListBanner\">\\n                 </div>\\n                </div>\\n               </div>\\n              </div>\\n              <!-- -->\\n              <article class=\"tm-articles-list__item\" data-navigatable=\"\" id=\"581224\" tabindex=\"0\">\\n               <div class=\"tm-article-snippet\">\\n                <div class=\"tm-article-snippet__meta-container\">\\n                 <div class=\"tm-article-snippet__meta\">\\n                  <span class=\"tm-user-info tm-article-snippet__author\">\\n                   <a class=\"tm-user-info__userpic\" href=\"/ru/users/m_a_d/\" title=\"m_a_d\">\\n                    <div class=\"tm-entity-image\">\\n                     <img alt=\"\" class=\"tm-entity-image__pic\" height=\"24\" loading=\"lazy\" src=\"//habrastorage.org/r/w32/getpro/habr/avatars/5e8/0f3/081/5e80f3081d2961b93b15ee727128c19d.png\" width=\"24\"/>\\n                    </div>\\n                   </a>\\n                   <span class=\"tm-user-info__user\">\\n                    <a class=\"tm-user-info__username\" href=\"/ru/users/m_a_d/\">\\n                     m_a_d\\n                    </a>\\n                   </span>\\n                  </span>\\n                  <span class=\"tm-article-snippet__datetime-published\">\\n                   <time datetime=\"2021-10-05T07:10:01.000Z\" title=\"2021-10-05, 10:10\">\\n                    сегодня в 10:10\\n                   </time>\\n                  </span>\\n                 </div>\\n                 <!-- -->\\n                </div>\\n                <h2 class=\"tm-article-snippet__title tm-article-snippet__title_h2\">\\n                 <a class=\"tm-article-snippet__title-link\" data-article-link=\"\" href=\"/ru/company/jugru/blog/581224/\">\\n                  <span>\\n                   Книга «ASP.NET Core в действии» в правильном переводе команды DotNetRu\\n                  </span>\\n                 </a>\\n                </h2>\\n                <div class=\"tm-article-snippet__hubs\">\\n                 <span class=\"tm-article-snippet__hubs-item\">\\n                  <a class=\"tm-article-snippet__hubs-item-link\" href=\"/ru/company/jugru/blog/\">\\n                   <span>\\n                    Блог компании JUG Ru Group\\n                   </span>\\n                   <!-- -->\\n                  </a>\\n                 </span>\\n                 <span class=\"tm-article-snippet__hubs-item\">\\n                  <a class=\"tm-article-snippet__hubs-item-link\" href=\"/ru/hub/net/\">\\n                   <span>\\n                    .NET\\n                   </span>\\n                   <span class=\"tm-article-snippet__profiled-hub\" title=\"Профильный хаб\">\\n                    *\\n                   </span>\\n                  </a>\\n                 </span>\\n                 <span class=\"tm-article-snippet__hubs-item\">\\n                  <a class=\"tm-article-snippet__hubs-item-link\" href=\"/ru/hub/csharp/\">\\n                   <span>\\n                    C#\\n                   </span>\\n                   <span class=\"tm-article-snippet__profiled-hub\" title=\"Профильный хаб\">\\n                    *\\n                   </span>\\n                  </a>\\n                 </span>\\n                </div>\\n                <!-- -->\\n                <!-- -->\\n                <div class=\"tm-article-body tm-article-snippet__lead\">\\n                 <div class=\"tm-article-snippet__cover tm-article-snippet__cover_cover\">\\n                  <img class=\"tm-article-snippet__lead-image\" src=\"https://habrastorage.org/getpro/habr/upload_files/b26/85c/743/b2685c74306ebd7bec5aba5f9d39e868.png\" style=\"object-position:9.7435897435897% 16.363636363636%;\"/>\\n                 </div>\\n                 <div class=\"article-formatted-body article-formatted-body_version-2\">\\n                  <p>\\n                   Полтора года назад мы\\n                   <a href=\"https://habr.com/ru/company/jugru/blog/498932/\">\\n                    <u>\\n                     рассказывали\\n                    </u>\\n                   </a>\\n                   про опыт совместной работы нашего сообщества\\n                   <strong>\\n                    <a href=\"https://dotnet.ru/\">\\n                     <u>\\n                      DotNetRu\\n                     </u>\\n                    </a>\\n                   </strong>\\n                   с издательством ДМК Пресс над переводом книги Конрада Кокосы «Управление памятью в .NET для профессионалов». Напомним суть: издатель делал первоначальный перевод, а ребята из сообщества в качестве экспертов доводили текст до ума, пока кровь из глаз не превратилась в слезы счастья. В итоге книга была успешно напечатана и выпущена в продажу, а эксперимент признан успешным.\\n                  </p>\\n                  <p>\\n                   И сегодня мы рады представить вам наш следующий совместный проект: книга Эндрю Лока\\n                   <strong>\\n                    «ASP.NET Core в действии»\\n                   </strong>\\n                   в правильном переводе DotNetRu. В продолжении поста — впечатления о процессе перевода от непосредственных участников и промокод на скидку от издательства.\\n                  </p>\\n                 </div>\\n                 <a class=\"tm-article-snippet__readmore\" href=\"/ru/company/jugru/blog/581224/\">\\n                  <span>\\n                   Читать далее\\n                  </span>\\n                 </a>\\n                </div>\\n               </div>\\n               <div class=\"tm-data-icons\">\\n                <!-- -->\\n                <div class=\"tm-votes-meter tm-data-icons__item\">\\n                 <svg class=\"tm-svg-img tm-votes-meter__icon tm-votes-meter__icon_small\" height=\"16\" width=\"16\">\\n                  <title>\\n                   Всего голосов 5: ↑5 и ↓0\\n                  </title>\\n                  <use xlink:href=\"/img/megazord-v24.cee85629.svg#counter-rating\">\\n                  </use>\\n                 </svg>\\n                 <span class=\"tm-votes-meter__value tm-votes-meter__value_positive tm-votes-meter__value_small\" title=\"Всего голосов 5: ↑5 и ↓0\">\\n                  +5\\n                 </span>\\n                </div>\\n                <span class=\"tm-icon-counter tm-data-icons__item\" title=\"Количество просмотров\">\\n                 <svg class=\"tm-svg-img tm-icon-counter__icon\" height=\"16\" width=\"16\">\\n                  <title>\\n                   Просмотры\\n                  </title>\\n                  <use xlink:href=\"/img/megazord-v24.cee85629.svg#counter-views\">\\n                  </use>\\n                 </svg>\\n                 <span class=\"tm-icon-counter__value\">\\n                  635\\n                 </span>\\n                </span>\\n                <button class=\"bookmarks-button tm-data-icons__item\" title=\"Добавить в закладки\" type=\"button\">\\n                 <span class=\"tm-svg-icon__wrapper bookmarks-button__icon\" title=\"Добавить в закладки\">\\n                  <svg class=\"tm-svg-img tm-svg-icon\" height=\"16\" width=\"16\">\\n                   <title>\\n                    Добавить в закладки\\n                   </title>\\n                   <use xlink:href=\"/img/megazord-v24.cee85629.svg#counter-favorite\">\\n                   </use>\\n                  </svg>\\n                 </span>\\n                 <span class=\"bookmarks-button__counter\" title=\"Количество пользователей, добавивших публикацию в закладки\">\\n                  5\\n                 </span>\\n                </button>\\n                <div class=\"tm-article-comments-counter-link tm-data-icons__item\" title=\"Читать комментарии\">\\n                 <a class=\"tm-article-comments-counter-link__link\" href=\"/ru/company/jugru/blog/581224/comments/\">\\n                  <svg class=\"tm-svg-img tm-article-comments-counter-link__icon\" height=\"16\" width=\"16\">\\n                   <title>\\n                    Комментарии\\n                   </title>\\n                   <use xlink:href=\"/img/megazord-v24.cee85629.svg#counter-comments\">\\n                   </use>\\n                  </svg>\\n                  <span class=\"tm-article-comments-counter-link__value\">\\n                   3\\n                  </span>\\n                 </a>\\n                 <!-- -->\\n                </div>\\n                <!-- -->\\n                <div class=\"v-portal\" style=\"display:none;\">\\n                </div>\\n               </div>\\n              </article>\\n              <div class=\"tm-articles-list__after-article\">\\n               <!-- -->\\n              </div>\\n              <!-- -->\\n              <article class=\"tm-articles-list__item\" data-navigatable=\"\" id=\"581574\" tabindex=\"0\">\\n               <div class=\"tm-article-snippet\">\\n                <div class=\"tm-article-snippet__meta-container\">\\n                 <div class=\"tm-article-snippet__meta\">\\n                  <span class=\"tm-user-info tm-article-snippet__author\">\\n                   <a class=\"tm-user-info__userpic\" href=\"/ru/users/hatman/\" title=\"hatman\">\\n                    <div class=\"tm-entity-image\">\\n                     <img alt=\"\" class=\"tm-entity-image__pic\" height=\"24\" loading=\"lazy\" src=\"//habrastorage.org/r/w32/getpro/habr/avatars/75d/8b5/802/75d8b580217d4fd5e2f0bd0ce407fa6b.jpg\" width=\"24\"/>\\n                    </div>\\n                   </a>\\n                   <span class=\"tm-user-info__user\">\\n                    <a class=\"tm-user-info__username\" href=\"/ru/users/hatman/\">\\n                     hatman\\n                    </a>\\n                   </span>\\n                  </span>\\n                  <span class=\"tm-article-snippet__datetime-published\">\\n                   <time datetime=\"2021-10-05T07:04:07.000Z\" title=\"2021-10-05, 10:04\">\\n                    сегодня в 10:04\\n                   </time>\\n                  </span>\\n                 </div>\\n                 <!-- -->\\n                </div>\\n                <h2 class=\"tm-article-snippet__title tm-article-snippet__title_h2\">\\n                 <a class=\"tm-article-snippet__title-link\" data-article-link=\"\" href=\"/ru/post/581574/\">\\n                  <span>\\n                   Книжная доминация\\xa0Python\\xa0и\\xa0Java\\n                  </span>\\n                 </a>\\n                </h2>\\n                <div class=\"tm-article-snippet__hubs\">\\n                 <span class=\"tm-article-snippet__hubs-item\">\\n                  <a class=\"tm-article-snippet__hubs-item-link\" href=\"/ru/hub/php/\">\\n                   <span>\\n                    PHP\\n                   </span>\\n                   <span class=\"tm-article-snippet__profiled-hub\" title=\"Профильный хаб\">\\n                    *\\n                   </span>\\n                  </a>\\n                 </span>\\n                 <span class=\"tm-article-snippet__hubs-item\">\\n                  <a class=\"tm-article-snippet__hubs-item-link\" href=\"/ru/hub/python/\">\\n                   <span>\\n                    Python\\n                   </span>\\n                   <span class=\"tm-article-snippet__profiled-hub\" title=\"Профильный хаб\">\\n                    *\\n                   </span>\\n                  </a>\\n                 </span>\\n                 <span class=\"tm-article-snippet__hubs-item\">\\n                  <a class=\"tm-article-snippet__hubs-item-link\" href=\"/ru/hub/java/\">\\n                   <span>\\n                    Java\\n                   </span>\\n                   <span class=\"tm-article-snippet__profiled-hub\" title=\"Профильный хаб\">\\n                    *\\n                   </span>\\n                  </a>\\n                 </span>\\n                 <span class=\"tm-article-snippet__hubs-item\">\\n                  <a class=\"tm-article-snippet__hubs-item-link\" href=\"/ru/hub/lib/\">\\n                   <span>\\n                    Профессиональная литература\\n                   </span>\\n                   <!-- -->\\n                  </a>\\n                 </span>\\n                </div>\\n                <!-- -->\\n                <!-- -->\\n                <div class=\"tm-article-body tm-article-snippet__lead\">\\n                 <div class=\"tm-article-snippet__cover tm-article-snippet__cover_cover\">\\n                  <img class=\"tm-article-snippet__lead-image\" src=\"https://habrastorage.org/webt/c8/au/vu/c8auvujndeep0nofgds_jtpyboc.jpeg\" style=\"object-position:0% 0%;\"/>\\n                 </div>\\n                 <div class=\"article-formatted-body article-formatted-body_version-2\">\\n                  <p>\\n                   Популярность технологий в современной мире - это сочетание реализованных исторических возможностей, верное и преданное комьюнити, удобный инструментарий, накопленная база знаний и поддержка крупным игроком. Ну и не нужно забывать про удачу, она всегда была и будет в\\xa0it-сфере.\\n                  </p>\\n                  <p>\\n                   Без всякого сомнения, самыми влиятельными языками программирования в настоящий момент являются\\xa0Java\\xa0и\\xa0Python.\\xa0И я приведу простой пример, почему их величие еще не скоро сойдет на нет.\\n                  </p>\\n                  <p>\\n                   P.s.\\xa0я специально опускаю из обсуждения\\xa0JS, Swift\\xa0и Котлин, так как их доминирующее положение обусловлено немного другими факторами, нежели я обсужу в этой статье.\\n                   <br/>\\n                  </p>\\n                 </div>\\n                 <a class=\"tm-article-snippet__readmore\" href=\"/ru/post/581574/\">\\n                  <span>\\n                   Читать далее\\n                  </span>\\n                 </a>\\n                </div>\\n               </div>\\n               <div class=\"tm-data-icons\">\\n                <!-- -->\\n                <div class=\"tm-votes-meter tm-data-icons__item\">\\n                 <svg class=\"tm-svg-img tm-votes-meter__icon tm-votes-meter__icon_small\" height=\"16\" width=\"16\">\\n                  <title>\\n                   Всего голосов 5: ↑4 и ↓1\\n                  </title>\\n                  <use xlink:href=\"/img/megazord-v24.cee85629.svg#counter-rating\">\\n                  </use>\\n                 </svg>\\n                 <span class=\"tm-votes-meter__value tm-votes-meter__value_positive tm-votes-meter__value_small\" title=\"Всего голосов 5: ↑4 и ↓1\">\\n                  +3\\n                 </span>\\n                </div>\\n                <span class=\"tm-icon-counter tm-data-icons__item\" title=\"Количество просмотров\">\\n                 <svg class=\"tm-svg-img tm-icon-counter__icon\" height=\"16\" width=\"16\">\\n                  <title>\\n                   Просмотры\\n                  </title>\\n                  <use xlink:href=\"/img/megazord-v24.cee85629.svg#counter-views\">\\n                  </use>\\n                 </svg>\\n                 <span class=\"tm-icon-counter__value\">\\n                  717\\n                 </span>\\n                </span>\\n                <button class=\"bookmarks-button tm-data-icons__item\" title=\"Добавить в закладки\" type=\"button\">\\n                 <span class=\"tm-svg-icon__wrapper bookmarks-button__icon\" title=\"Добавить в закладки\">\\n                  <svg class=\"tm-svg-img tm-svg-icon\" height=\"16\" width=\"16\">\\n                   <title>\\n                    Добавить в закладки\\n                   </title>\\n                   <use xlink:href=\"/img/megazord-v24.cee85629.svg#counter-favorite\">\\n                   </use>\\n                  </svg>\\n                 </span>\\n                 <span class=\"bookmarks-button__counter\" title=\"Количество пользователей, добавивших публикацию в закладки\">\\n                  2\\n                 </span>\\n                </button>\\n                <div class=\"tm-article-comments-counter-link tm-data-icons__item\" title=\"Читать комментарии\">\\n                 <a class=\"tm-article-comments-counter-link__link\" href=\"/ru/post/581574/comments/\">\\n                  <svg class=\"tm-svg-img tm-article-comments-counter-link__icon\" height=\"16\" width=\"16\">\\n                   <title>\\n                    Комментарии\\n                   </title>\\n                   <use xlink:href=\"/img/megazord-v24.cee85629.svg#counter-comments\">\\n                   </use>\\n                  </svg>\\n                  <span class=\"tm-article-comments-counter-link__value\">\\n                   4\\n                  </span>\\n                 </a>\\n                 <!-- -->\\n                </div>\\n                <!-- -->\\n                <div class=\"v-portal\" style=\"display:none;\">\\n                </div>\\n               </div>\\n              </article>\\n              <div class=\"tm-articles-list__after-article\">\\n               <!-- -->\\n              </div>\\n              <!-- -->\\n              <article class=\"tm-articles-list__item\" data-navigatable=\"\" id=\"581052\" tabindex=\"0\">\\n               <div class=\"tm-article-snippet\">\\n                <div class=\"tm-article-snippet__meta-container\">\\n                 <div class=\"tm-article-snippet__meta\">\\n                  <span class=\"tm-user-info tm-article-snippet__author\">\\n                   <a class=\"tm-user-info__userpic\" href=\"/ru/users/vladbalv/\" title=\"vladbalv\">\\n                    <div class=\"tm-entity-image\">\\n                     <svg class=\"tm-svg-img tm-image-placeholder tm-image-placeholder_blue\" height=\"24\" width=\"24\">\\n                      <!-- -->\\n                      <use xlink:href=\"/img/megazord-v24.cee85629.svg#placeholder-user\">\\n                      </use>\\n                     </svg>\\n                    </div>\\n                   </a>\\n                   <span class=\"tm-user-info__user\">\\n                    <a class=\"tm-user-info__username\" href=\"/ru/users/vladbalv/\">\\n                     vladbalv\\n                    </a>\\n                   </span>\\n                  </span>\\n                  <span class=\"tm-article-snippet__datetime-published\">\\n                   <time datetime=\"2021-10-05T07:01:15.000Z\" title=\"2021-10-05, 10:01\">\\n                    сегодня в 10:01\\n                   </time>\\n                  </span>\\n                 </div>\\n                 <!-- -->\\n                </div>\\n                <h2 class=\"tm-article-snippet__title tm-article-snippet__title_h2\">\\n                 <a class=\"tm-article-snippet__title-link\" data-article-link=\"\" href=\"/ru/company/lanit/blog/581052/\">\\n                  <span>\\n                   Few-shot-learning и другие страшные слова в классификации текстов\\n                  </span>\\n                 </a>\\n                </h2>\\n                <div class=\"tm-article-snippet__hubs\">\\n                 <span class=\"tm-article-snippet__hubs-item\">\\n                  <a class=\"tm-article-snippet__hubs-item-link\" href=\"/ru/company/lanit/blog/\">\\n                   <span>\\n                    Блог компании ГК ЛАНИТ\\n                   </span>\\n                   <!-- -->\\n                  </a>\\n                 </span>\\n                 <span class=\"tm-article-snippet__hubs-item\">\\n                  <a class=\"tm-article-snippet__hubs-item-link\" href=\"/ru/hub/machine_learning/\">\\n                   <span>\\n                    Машинное обучение\\n                   </span>\\n                   <span class=\"tm-article-snippet__profiled-hub\" title=\"Профильный хаб\">\\n                    *\\n                   </span>\\n                  </a>\\n                 </span>\\n                 <span class=\"tm-article-snippet__hubs-item\">\\n                  <a class=\"tm-article-snippet__hubs-item-link\" href=\"/ru/hub/artificial_intelligence/\">\\n                   <span>\\n                    Искусственный интеллект\\n                   </span>\\n                   <!-- -->\\n                  </a>\\n                 </span>\\n                </div>\\n                <!-- -->\\n                <!-- -->\\n                <div class=\"tm-article-body tm-article-snippet__lead\">\\n                 <div class=\"tm-article-snippet__cover tm-article-snippet__cover_cover\">\\n                  <img class=\"tm-article-snippet__lead-image\" src=\"https://habrastorage.org/getpro/habr/upload_files/10a/227/4f0/10a2274f0295b3e021d9648807f46c6c.png\" style=\"object-position:3.4615384615385% 43.636363636364%;\"/>\\n                 </div>\\n                 <div class=\"article-formatted-body article-formatted-body_version-2\">\\n                  <p>\\n                   <em>\\n                    “Не значил он анапеста от анапеста,\\n                   </em>\\n                  </p>\\n                  <p>\\n                   <em>\\n                    как мы ни колотились отличить.”\\n                   </em>\\n                  </p>\\n                  <p>\\n                   nevmenandr (https://github.com/nevmenandr)\\n                  </p>\\n                  <p>\\n                   В настоящий момент количество курсов, на которых вы сможете получить знания, необходимые для трудоустройства по специальности «Аналитик данных» (Data Scientist, ML Engineer), растет и растет. И это замечательно. Но количество информации, которую требуется усвоить, просто зашкаливает и, даже уже работая в этой области, постоянно удивляешься, сколь многое ты еще не знаешь. Скорость появления новых словосочетаний в DS-специальностях тоже крайне высокая, но за многими страшными словосочетаниями может прятаться совершенно простой смысл. Кроме того, часто подход к задаче следующий: сначала навесить на нее некоторый ярлык - например, object detection и копать в этом направлении. И это правильный и эффективный подход. Оказывается, что иногда несколько подходов с разными названиями могут решать одну и ту же задачу. Недавно в работе Центра компетенции больших данных и искусственного интеллекта ЛАНИТ (ЦК ДАТА), мы столкнулись с одной задачей по классификации текстов, на которой мне захотелось такой эффект продемонстрировать.\\n                  </p>\\n                 </div>\\n                 <a class=\"tm-article-snippet__readmore\" href=\"/ru/company/lanit/blog/581052/\">\\n                  <span>\\n                   Читать далее\\n                  </span>\\n                 </a>\\n                </div>\\n               </div>\\n               <div class=\"tm-data-icons\">\\n                <!-- -->\\n                <div class=\"tm-votes-meter tm-data-icons__item\">\\n                 <svg class=\"tm-svg-img tm-votes-meter__icon tm-votes-meter__icon_small\" height=\"16\" width=\"16\">\\n                  <title>\\n                   Всего голосов 3: ↑3 и ↓0\\n                  </title>\\n                  <use xlink:href=\"/img/megazord-v24.cee85629.svg#counter-rating\">\\n                  </use>\\n                 </svg>\\n                 <span class=\"tm-votes-meter__value tm-votes-meter__value_positive tm-votes-meter__value_small\" title=\"Всего голосов 3: ↑3 и ↓0\">\\n                  +3\\n                 </span>\\n                </div>\\n                <span class=\"tm-icon-counter tm-data-icons__item\" title=\"Количество просмотров\">\\n                 <svg class=\"tm-svg-img tm-icon-counter__icon\" height=\"16\" width=\"16\">\\n                  <title>\\n                   Просмотры\\n                  </title>\\n                  <use xlink:href=\"/img/megazord-v24.cee85629.svg#counter-views\">\\n                  </use>\\n                 </svg>\\n                 <span class=\"tm-icon-counter__value\">\\n                  123\\n                 </span>\\n                </span>\\n                <button class=\"bookmarks-button tm-data-icons__item\" title=\"Добавить в закладки\" type=\"button\">\\n                 <span class=\"tm-svg-icon__wrapper bookmarks-button__icon\" title=\"Добавить в закладки\">\\n                  <svg class=\"tm-svg-img tm-svg-icon\" height=\"16\" width=\"16\">\\n                   <title>\\n                    Добавить в закладки\\n                   </title>\\n                   <use xlink:href=\"/img/megazord-v24.cee85629.svg#counter-favorite\">\\n                   </use>\\n                  </svg>\\n                 </span>\\n                 <span class=\"bookmarks-button__counter\" title=\"Количество пользователей, добавивших публикацию в закладки\">\\n                  1\\n                 </span>\\n                </button>\\n                <div class=\"tm-article-comments-counter-link tm-data-icons__item\" title=\"Читать комментарии\">\\n                 <a class=\"tm-article-comments-counter-link__link\" href=\"/ru/company/lanit/blog/581052/comments/\">\\n                  <svg class=\"tm-svg-img tm-article-comments-counter-link__icon\" height=\"16\" width=\"16\">\\n                   <title>\\n                    Комментарии\\n                   </title>\\n                   <use xlink:href=\"/img/megazord-v24.cee85629.svg#counter-comments\">\\n                   </use>\\n                  </svg>\\n                  <span class=\"tm-article-comments-counter-link__value\">\\n                   0\\n                  </span>\\n                 </a>\\n                 <!-- -->\\n                </div>\\n                <!-- -->\\n                <div class=\"v-portal\" style=\"display:none;\">\\n                </div>\\n               </div>\\n              </article>\\n              <div class=\"tm-articles-list__after-article\">\\n               <div class=\"tm-article-feed-blocks\">\\n                <!-- -->\\n               </div>\\n              </div>\\n              <a name=\"more-news\">\\n              </a>\\n              <article class=\"tm-articles-list__item\" data-navigatable=\"\" id=\"581570\" tabindex=\"0\">\\n               <div class=\"tm-article-snippet\">\\n                <div class=\"tm-article-snippet__meta-container\">\\n                 <div class=\"tm-article-snippet__meta\">\\n                  <span class=\"tm-user-info tm-article-snippet__author\">\\n                   <a class=\"tm-user-info__userpic\" href=\"/ru/users/Gummio_7/\" title=\"Gummio_7\">\\n                    <div class=\"tm-entity-image\">\\n                     <img alt=\"\" class=\"tm-entity-image__pic\" height=\"24\" loading=\"lazy\" src=\"//habrastorage.org/r/w32/getpro/habr/avatars/c04/19e/cfc/c0419ecfc621e35042c804206728d309.jpg\" width=\"24\"/>\\n                    </div>\\n                   </a>\\n                   <span class=\"tm-user-info__user\">\\n                    <a class=\"tm-user-info__username\" href=\"/ru/users/Gummio_7/\">\\n                     Gummio_7\\n                    </a>\\n                   </span>\\n                  </span>\\n                  <span class=\"tm-article-snippet__datetime-published\">\\n                   <time datetime=\"2021-10-05T06:50:38.000Z\" title=\"2021-10-05, 09:50\">\\n                    сегодня в 09:50\\n                   </time>\\n                  </span>\\n                 </div>\\n                 <!-- -->\\n                </div>\\n                <h2 class=\"tm-article-snippet__title tm-article-snippet__title_h2\">\\n                 <a class=\"tm-article-snippet__title-link\" data-article-link=\"\" href=\"/ru/company/acronis/blog/581570/\">\\n                  <span>\\n                   Дайджест киберинцидентов Acronis #11\\n                  </span>\\n                 </a>\\n                </h2>\\n                <div class=\"tm-article-snippet__hubs\">\\n                 <span class=\"tm-article-snippet__hubs-item\">\\n                  <a class=\"tm-article-snippet__hubs-item-link\" href=\"/ru/company/acronis/blog/\">\\n                   <span>\\n                    Блог компании Acronis\\n                   </span>\\n                   <!-- -->\\n                  </a>\\n                 </span>\\n                 <span class=\"tm-article-snippet__hubs-item\">\\n                  <a class=\"tm-article-snippet__hubs-item-link\" href=\"/ru/hub/infosecurity/\">\\n                   <span>\\n                    Информационная безопасность\\n                   </span>\\n                   <span class=\"tm-article-snippet__profiled-hub\" title=\"Профильный хаб\">\\n                    *\\n                   </span>\\n                  </a>\\n                 </span>\\n                 <span class=\"tm-article-snippet__hubs-item\">\\n                  <a class=\"tm-article-snippet__hubs-item-link\" href=\"/ru/hub/virus/\">\\n                   <span>\\n                    Антивирусная защита\\n                   </span>\\n                   <span class=\"tm-article-snippet__profiled-hub\" title=\"Профильный хаб\">\\n                    *\\n                   </span>\\n                  </a>\\n                 </span>\\n                 <span class=\"tm-article-snippet__hubs-item\">\\n                  <a class=\"tm-article-snippet__hubs-item-link\" href=\"/ru/hub/backup/\">\\n                   <span>\\n                    Резервное копирование\\n                   </span>\\n                   <span class=\"tm-article-snippet__profiled-hub\" title=\"Профильный хаб\">\\n                    *\\n                   </span>\\n                  </a>\\n                 </span>\\n                </div>\\n                <!-- -->\\n                <!-- -->\\n                <div class=\"tm-article-body tm-article-snippet__lead\">\\n                 <div class=\"tm-article-snippet__cover tm-article-snippet__cover_cover\">\\n                  <img class=\"tm-article-snippet__lead-image\" src=\"https://habrastorage.org/getpro/habr/upload_files/1eb/7c6/69a/1eb7c669a41f63bf848034b026752774.png\" style=\"object-position:0% 0%;\"/>\\n                 </div>\\n                 <div class=\"article-formatted-body article-formatted-body_version-2\">\\n                  <p>\\n                   Привет, Хабр! Сегодня в дайджесте киберновостей мы расскажем о том, почему вам точно пора обновить Firefox, какие новые атаки провели известные группы Ransomware и какие новые цели выбрала агрессивная группа TeamTNT. Вы узнаете, почему медицинским организациям стоит подумать о киберзащите, а также о новых принципах публичности некоторых вымогателей.\\n                  </p>\\n                 </div>\\n                 <a class=\"tm-article-snippet__readmore\" href=\"/ru/company/acronis/blog/581570/\">\\n                  <span>\\n                   Читать дайджест\\n                  </span>\\n                 </a>\\n                </div>\\n               </div>\\n               <div class=\"tm-data-icons\">\\n                <!-- -->\\n                <div class=\"tm-votes-meter tm-data-icons__item\">\\n                 <svg class=\"tm-svg-img tm-votes-meter__icon tm-votes-meter__icon_small\" height=\"16\" width=\"16\">\\n                  <title>\\n                   Рейтинг\\n                  </title>\\n                  <use xlink:href=\"/img/megazord-v24.cee85629.svg#counter-rating\">\\n                  </use>\\n                 </svg>\\n                 <span class=\"tm-votes-meter__value tm-votes-meter__value_small\">\\n                  0\\n                 </span>\\n                </div>\\n                <span class=\"tm-icon-counter tm-data-icons__item\" title=\"Количество просмотров\">\\n                 <svg class=\"tm-svg-img tm-icon-counter__icon\" height=\"16\" width=\"16\">\\n                  <title>\\n                   Просмотры\\n                  </title>\\n                  <use xlink:href=\"/img/megazord-v24.cee85629.svg#counter-views\">\\n                  </use>\\n                 </svg>\\n                 <span class=\"tm-icon-counter__value\">\\n                  193\\n                 </span>\\n                </span>\\n                <button class=\"bookmarks-button tm-data-icons__item\" title=\"Добавить в закладки\" type=\"button\">\\n                 <span class=\"tm-svg-icon__wrapper bookmarks-button__icon\" title=\"Добавить в закладки\">\\n                  <svg class=\"tm-svg-img tm-svg-icon\" height=\"16\" width=\"16\">\\n                   <title>\\n                    Добавить в закладки\\n                   </title>\\n                   <use xlink:href=\"/img/megazord-v24.cee85629.svg#counter-favorite\">\\n                   </use>\\n                  </svg>\\n                 </span>\\n                 <span class=\"bookmarks-button__counter\" title=\"Количество пользователей, добавивших публикацию в закладки\">\\n                  1\\n                 </span>\\n                </button>\\n                <div class=\"tm-article-comments-counter-link tm-data-icons__item\" title=\"Читать комментарии\">\\n                 <a class=\"tm-article-comments-counter-link__link\" href=\"/ru/company/acronis/blog/581570/comments/\">\\n                  <svg class=\"tm-svg-img tm-article-comments-counter-link__icon\" height=\"16\" width=\"16\">\\n                   <title>\\n                    Комментарии\\n                   </title>\\n                   <use xlink:href=\"/img/megazord-v24.cee85629.svg#counter-comments\">\\n                   </use>\\n                  </svg>\\n                  <span class=\"tm-article-comments-counter-link__value\">\\n                   0\\n                  </span>\\n                 </a>\\n                 <!-- -->\\n                </div>\\n                <!-- -->\\n                <div class=\"v-portal\" style=\"display:none;\">\\n                </div>\\n               </div>\\n              </article>\\n              <div class=\"tm-articles-list__after-article\">\\n               <!-- -->\\n              </div>\\n              <!-- -->\\n              <article class=\"tm-articles-list__item\" data-navigatable=\"\" id=\"577154\" tabindex=\"0\">\\n               <div class=\"tm-article-snippet\">\\n                <div class=\"tm-article-snippet__meta-container\">\\n                 <div class=\"tm-article-snippet__meta\">\\n                  <span class=\"tm-user-info tm-article-snippet__author\">\\n                   <a class=\"tm-user-info__userpic\" href=\"/ru/users/Xadok/\" title=\"Xadok\">\\n                    <div class=\"tm-entity-image\">\\n                     <svg class=\"tm-svg-img tm-image-placeholder tm-image-placeholder_green\" height=\"24\" width=\"24\">\\n                      <!-- -->\\n                      <use xlink:href=\"/img/megazord-v24.cee85629.svg#placeholder-user\">\\n                      </use>\\n                     </svg>\\n                    </div>\\n                   </a>\\n                   <span class=\"tm-user-info__user\">\\n                    <a class=\"tm-user-info__username\" href=\"/ru/users/Xadok/\">\\n                     Xadok\\n                    </a>\\n                   </span>\\n                  </span>\\n                  <span class=\"tm-article-snippet__datetime-published\">\\n                   <time datetime=\"2021-10-05T06:30:02.000Z\" title=\"2021-10-05, 09:30\">\\n                    сегодня в 09:30\\n                   </time>\\n                  </span>\\n                 </div>\\n                 <!-- -->\\n                </div>\\n                <h2 class=\"tm-article-snippet__title tm-article-snippet__title_h2\">\\n                 <a class=\"tm-article-snippet__title-link\" data-article-link=\"\" href=\"/ru/post/577154/\">\\n                  <span>\\n                   Заводим трактор: CMake -&gt; QMake\\n                  </span>\\n                 </a>\\n                </h2>\\n                <div class=\"tm-article-snippet__hubs\">\\n                 <span class=\"tm-article-snippet__hubs-item\">\\n                  <a class=\"tm-article-snippet__hubs-item-link\" href=\"/ru/hub/open_source/\">\\n                   <span>\\n                    Open source\\n                   </span>\\n                   <span class=\"tm-article-snippet__profiled-hub\" title=\"Профильный хаб\">\\n                    *\\n                   </span>\\n                  </a>\\n                 </span>\\n                 <span class=\"tm-article-snippet__hubs-item\">\\n                  <a class=\"tm-article-snippet__hubs-item-link\" href=\"/ru/hub/cpp/\">\\n                   <span>\\n                    C++\\n                   </span>\\n                   <span class=\"tm-article-snippet__profiled-hub\" title=\"Профильный хаб\">\\n                    *\\n                   </span>\\n                  </a>\\n                 </span>\\n                 <span class=\"tm-article-snippet__hubs-item\">\\n                  <a class=\"tm-article-snippet__hubs-item-link\" href=\"/ru/hub/qt_software/\">\\n                   <span>\\n                    Qt\\n                   </span>\\n                   <span class=\"tm-article-snippet__profiled-hub\" title=\"Профильный хаб\">\\n                    *\\n                   </span>\\n                  </a>\\n                 </span>\\n                </div>\\n                <!-- -->\\n                <!-- -->\\n                <div class=\"tm-article-body tm-article-snippet__lead\">\\n                 <div class=\"tm-article-snippet__cover tm-article-snippet__cover_cover\">\\n                  <img class=\"tm-article-snippet__lead-image\" src=\"https://habrastorage.org/getpro/habr/upload_files/8c2/d24/86f/8c2d2486f6ccaf1249cfda363e462e2b.jpg\" style=\"object-position:0% 0%;\"/>\\n                 </div>\\n                 <div class=\"article-formatted-body article-formatted-body_version-2\">\\n                  <p>\\n                   Заводим трактор: переезжаем с QMake на CMake🚜\\n                  </p>\\n                  <p>\\n                   По дороге заглянем на улицу \"Кросс компиляторщиков\", в сквер \"Систем сборки\" и посидим в баре \"Управления зависимостями\". Заодно увидим тех, кто использует Qt в embedded linux.\\n                  </p>\\n                 </div>\\n                 <a class=\"tm-article-snippet__readmore\" href=\"/ru/post/577154/\">\\n                  <span>\\n                   Поехали\\n                  </span>\\n                 </a>\\n                </div>\\n               </div>\\n               <div class=\"tm-data-icons\">\\n                <!-- -->\\n                <div class=\"tm-votes-meter tm-data-icons__item\">\\n                 <svg class=\"tm-svg-img tm-votes-meter__icon tm-votes-meter__icon_small\" height=\"16\" width=\"16\">\\n                  <title>\\n                   Всего голосов 6: ↑4 и ↓2\\n                  </title>\\n                  <use xlink:href=\"/img/megazord-v24.cee85629.svg#counter-rating\">\\n                  </use>\\n                 </svg>\\n                 <span class=\"tm-votes-meter__value tm-votes-meter__value_positive tm-votes-meter__value_small\" title=\"Всего голосов 6: ↑4 и ↓2\">\\n                  +2\\n                 </span>\\n                </div>\\n                <span class=\"tm-icon-counter tm-data-icons__item\" title=\"Количество просмотров\">\\n                 <svg class=\"tm-svg-img tm-icon-counter__icon\" height=\"16\" width=\"16\">\\n                  <title>\\n                   Просмотры\\n                  </title>\\n                  <use xlink:href=\"/img/megazord-v24.cee85629.svg#counter-views\">\\n                  </use>\\n                 </svg>\\n                 <span class=\"tm-icon-counter__value\">\\n                  717\\n                 </span>\\n                </span>\\n                <button class=\"bookmarks-button tm-data-icons__item\" title=\"Добавить в закладки\" type=\"button\">\\n                 <span class=\"tm-svg-icon__wrapper bookmarks-button__icon\" title=\"Добавить в закладки\">\\n                  <svg class=\"tm-svg-img tm-svg-icon\" height=\"16\" width=\"16\">\\n                   <title>\\n                    Добавить в закладки\\n                   </title>\\n                   <use xlink:href=\"/img/megazord-v24.cee85629.svg#counter-favorite\">\\n                   </use>\\n                  </svg>\\n                 </span>\\n                 <span class=\"bookmarks-button__counter\" title=\"Количество пользователей, добавивших публикацию в закладки\">\\n                  4\\n                 </span>\\n                </button>\\n                <div class=\"tm-article-comments-counter-link tm-data-icons__item\" title=\"Читать комментарии\">\\n                 <a class=\"tm-article-comments-counter-link__link\" href=\"/ru/post/577154/comments/\">\\n                  <svg class=\"tm-svg-img tm-article-comments-counter-link__icon\" height=\"16\" width=\"16\">\\n                   <title>\\n                    Комментарии\\n                   </title>\\n                   <use xlink:href=\"/img/megazord-v24.cee85629.svg#counter-comments\">\\n                   </use>\\n                  </svg>\\n                  <span class=\"tm-article-comments-counter-link__value\">\\n                   1\\n                  </span>\\n                 </a>\\n                 <!-- -->\\n                </div>\\n                <!-- -->\\n                <div class=\"v-portal\" style=\"display:none;\">\\n                </div>\\n               </div>\\n              </article>\\n              <div class=\"tm-articles-list__after-article\">\\n               <!-- -->\\n              </div>\\n              <!-- -->\\n              <article class=\"tm-articles-list__item\" data-navigatable=\"\" id=\"581476\" tabindex=\"0\">\\n               <div class=\"tm-article-snippet\">\\n                <div class=\"tm-article-snippet__meta-container\">\\n                 <div class=\"tm-article-snippet__meta\">\\n                  <span class=\"tm-user-info tm-article-snippet__author\">\\n                   <a class=\"tm-user-info__userpic\" href=\"/ru/users/Surf_Studio/\" title=\"Surf_Studio\">\\n                    <div class=\"tm-entity-image\">\\n                     <img alt=\"\" class=\"tm-entity-image__pic\" height=\"24\" loading=\"lazy\" src=\"//habrastorage.org/r/w32/getpro/habr/avatars/ffb/239/13d/ffb23913d57ecd841b8eff3cb1c48c4a.png\" width=\"24\"/>\\n                    </div>\\n                   </a>\\n                   <span class=\"tm-user-info__user\">\\n                    <a class=\"tm-user-info__username\" href=\"/ru/users/Surf_Studio/\">\\n                     Surf_Studio\\n                    </a>\\n                   </span>\\n                  </span>\\n                  <span class=\"tm-article-snippet__datetime-published\">\\n                   <time datetime=\"2021-10-05T06:00:02.000Z\" title=\"2021-10-05, 09:00\">\\n                    сегодня в 09:00\\n                   </time>\\n                  </span>\\n                 </div>\\n                 <!-- -->\\n                </div>\\n                <h2 class=\"tm-article-snippet__title tm-article-snippet__title_h2\">\\n                 <a class=\"tm-article-snippet__title-link\" data-article-link=\"\" href=\"/ru/company/surfstudio/blog/581476/\">\\n                  <span>\\n                   Функциональный подход в Jetpack Compose: каррирование функций\\n                  </span>\\n                 </a>\\n                </h2>\\n                <div class=\"tm-article-snippet__hubs\">\\n                 <span class=\"tm-article-snippet__hubs-item\">\\n                  <a class=\"tm-article-snippet__hubs-item-link\" href=\"/ru/company/surfstudio/blog/\">\\n                   <span>\\n                    Блог компании Surf\\n                   </span>\\n                   <!-- -->\\n                  </a>\\n                 </span>\\n                 <span class=\"tm-article-snippet__hubs-item\">\\n                  <a class=\"tm-article-snippet__hubs-item-link\" href=\"/ru/hub/programming/\">\\n                   <span>\\n                    Программирование\\n                   </span>\\n                   <span class=\"tm-article-snippet__profiled-hub\" title=\"Профильный хаб\">\\n                    *\\n                   </span>\\n                  </a>\\n                 </span>\\n                 <span class=\"tm-article-snippet__hubs-item\">\\n                  <a class=\"tm-article-snippet__hubs-item-link\" href=\"/ru/hub/mobile_dev/\">\\n                   <span>\\n                    Разработка мобильных приложений\\n                   </span>\\n                   <span class=\"tm-article-snippet__profiled-hub\" title=\"Профильный хаб\">\\n                    *\\n                   </span>\\n                  </a>\\n                 </span>\\n                 <span class=\"tm-article-snippet__hubs-item\">\\n                  <a class=\"tm-article-snippet__hubs-item-link\" href=\"/ru/hub/android_dev/\">\\n                   <span>\\n                    Разработка под Android\\n                   </span>\\n                   <span class=\"tm-article-snippet__profiled-hub\" title=\"Профильный хаб\">\\n                    *\\n                   </span>\\n                  </a>\\n                 </span>\\n                 <span class=\"tm-article-snippet__hubs-item\">\\n                  <a class=\"tm-article-snippet__hubs-item-link\" href=\"/ru/hub/funcprog/\">\\n                   <span>\\n                    Функциональное программирование\\n                   </span>\\n                   <span class=\"tm-article-snippet__profiled-hub\" title=\"Профильный хаб\">\\n                    *\\n                   </span>\\n                  </a>\\n                 </span>\\n                </div>\\n                <!-- -->\\n                <!-- -->\\n                <div class=\"tm-article-body tm-article-snippet__lead\">\\n                 <div class=\"tm-article-snippet__cover tm-article-snippet__cover_cover\">\\n                  <img class=\"tm-article-snippet__lead-image\" src=\"https://habrastorage.org/getpro/habr/upload_files/83e/fa6/5cf/83efa65cfa62deb723f7eef4f8a9f8b9.jpg\" style=\"object-position:0% 0%;\"/>\\n                 </div>\\n                 <div class=\"article-formatted-body article-formatted-body_version-2\">\\n                  <p>\\n                   Современные языки программирования всё чаще становятся мультипарадигменными, и Kotlin не исключение. С появлением Jetpack Compose наблюдается уход от ООП\\xa0 в функциональное программирование. Изучая новые средства разработки, такие как Jetpack Compose, давайте вспомним и те, которым уже около 60 лет. А главное — разберёмся, как их можно применить к современным подходам для получения большей эффективности.\\n                  </p>\\n                 </div>\\n                 <a class=\"tm-article-snippet__readmore\" href=\"/ru/company/surfstudio/blog/581476/\">\\n                  <span>\\n                   Читать далее\\n                  </span>\\n                 </a>\\n                </div>\\n               </div>\\n               <div class=\"tm-data-icons\">\\n                <!-- -->\\n                <div class=\"tm-votes-meter tm-data-icons__item\">\\n                 <svg class=\"tm-svg-img tm-votes-meter__icon tm-votes-meter__icon_small\" height=\"16\" width=\"16\">\\n                  <title>\\n                   Рейтинг\\n                  </title>\\n                  <use xlink:href=\"/img/megazord-v24.cee85629.svg#counter-rating\">\\n                  </use>\\n                 </svg>\\n                 <span class=\"tm-votes-meter__value tm-votes-meter__value_small\">\\n                  0\\n                 </span>\\n                </div>\\n                <span class=\"tm-icon-counter tm-data-icons__item\" title=\"Количество просмотров\">\\n                 <svg class=\"tm-svg-img tm-icon-counter__icon\" height=\"16\" width=\"16\">\\n                  <title>\\n                   Просмотры\\n                  </title>\\n                  <use xlink:href=\"/img/megazord-v24.cee85629.svg#counter-views\">\\n                  </use>\\n                 </svg>\\n                 <span class=\"tm-icon-counter__value\">\\n                  344\\n                 </span>\\n                </span>\\n                <button class=\"bookmarks-button tm-data-icons__item\" title=\"Добавить в закладки\" type=\"button\">\\n                 <span class=\"tm-svg-icon__wrapper bookmarks-button__icon\" title=\"Добавить в закладки\">\\n                  <svg class=\"tm-svg-img tm-svg-icon\" height=\"16\" width=\"16\">\\n                   <title>\\n                    Добавить в закладки\\n                   </title>\\n                   <use xlink:href=\"/img/megazord-v24.cee85629.svg#counter-favorite\">\\n                   </use>\\n                  </svg>\\n                 </span>\\n                 <span class=\"bookmarks-button__counter\" title=\"Количество пользователей, добавивших публикацию в закладки\">\\n                  3\\n                 </span>\\n                </button>\\n                <div class=\"tm-article-comments-counter-link tm-data-icons__item\" title=\"Читать комментарии\">\\n                 <a class=\"tm-article-comments-counter-link__link\" href=\"/ru/company/surfstudio/blog/581476/comments/\">\\n                  <svg class=\"tm-svg-img tm-article-comments-counter-link__icon\" height=\"16\" width=\"16\">\\n                   <title>\\n                    Комментарии\\n                   </title>\\n                   <use xlink:href=\"/img/megazord-v24.cee85629.svg#counter-comments\">\\n                   </use>\\n                  </svg>\\n                  <span class=\"tm-article-comments-counter-link__value\">\\n                   1\\n                  </span>\\n                 </a>\\n                 <!-- -->\\n                </div>\\n                <!-- -->\\n                <div class=\"v-portal\" style=\"display:none;\">\\n                </div>\\n               </div>\\n              </article>\\n              <div class=\"tm-articles-list__after-article\">\\n               <div class=\"tm-article-feed-blocks\">\\n                <!-- -->\\n               </div>\\n              </div>\\n              <!-- -->\\n              <article class=\"tm-articles-list__item\" data-navigatable=\"\" id=\"581566\" tabindex=\"0\">\\n               <div class=\"tm-article-snippet\">\\n                <div class=\"tm-article-snippet__meta-container\">\\n                 <div class=\"tm-article-snippet__meta\">\\n                  <span class=\"tm-user-info tm-article-snippet__author\">\\n                   <a class=\"tm-user-info__userpic\" href=\"/ru/users/Gummio_7/\" title=\"Gummio_7\">\\n                    <div class=\"tm-entity-image\">\\n                     <img alt=\"\" class=\"tm-entity-image__pic\" height=\"24\" loading=\"lazy\" src=\"//habrastorage.org/r/w32/getpro/habr/avatars/c04/19e/cfc/c0419ecfc621e35042c804206728d309.jpg\" width=\"24\"/>\\n                    </div>\\n                   </a>\\n                   <span class=\"tm-user-info__user\">\\n                    <a class=\"tm-user-info__username\" href=\"/ru/users/Gummio_7/\">\\n                     Gummio_7\\n                    </a>\\n                   </span>\\n                  </span>\\n                  <span class=\"tm-article-snippet__datetime-published\">\\n                   <time datetime=\"2021-10-05T05:53:35.000Z\" title=\"2021-10-05, 08:53\">\\n                    сегодня в 08:53\\n                   </time>\\n                  </span>\\n                 </div>\\n                 <!-- -->\\n                </div>\\n                <h2 class=\"tm-article-snippet__title tm-article-snippet__title_h2\">\\n                 <a class=\"tm-article-snippet__title-link\" data-article-link=\"\" href=\"/ru/company/acronis/blog/581566/\">\\n                  <span>\\n                   Киберстрахование — новый метод «борьбы» с рисками?\\n                  </span>\\n                 </a>\\n                </h2>\\n                <div class=\"tm-article-snippet__hubs\">\\n                 <span class=\"tm-article-snippet__hubs-item\">\\n                  <a class=\"tm-article-snippet__hubs-item-link\" href=\"/ru/company/acronis/blog/\">\\n                   <span>\\n                    Блог компании Acronis\\n                   </span>\\n                   <!-- -->\\n                  </a>\\n                 </span>\\n                 <span class=\"tm-article-snippet__hubs-item\">\\n                  <a class=\"tm-article-snippet__hubs-item-link\" href=\"/ru/hub/infosecurity/\">\\n                   <span>\\n                    Информационная безопасность\\n                   </span>\\n                   <span class=\"tm-article-snippet__profiled-hub\" title=\"Профильный хаб\">\\n                    *\\n                   </span>\\n                  </a>\\n                 </span>\\n                 <span class=\"tm-article-snippet__hubs-item\">\\n                  <a class=\"tm-article-snippet__hubs-item-link\" href=\"/ru/hub/virus/\">\\n                   <span>\\n                    Антивирусная защита\\n                   </span>\\n                   <span class=\"tm-article-snippet__profiled-hub\" title=\"Профильный хаб\">\\n                    *\\n                   </span>\\n                  </a>\\n                 </span>\\n                 <span class=\"tm-article-snippet__hubs-item\">\\n                  <a class=\"tm-article-snippet__hubs-item-link\" href=\"/ru/hub/backup/\">\\n                   <span>\\n                    Резервное копирование\\n                   </span>\\n                   <span class=\"tm-article-snippet__profiled-hub\" title=\"Профильный хаб\">\\n                    *\\n                   </span>\\n                  </a>\\n                 </span>\\n                 <span class=\"tm-article-snippet__hubs-item\">\\n                  <a class=\"tm-article-snippet__hubs-item-link\" href=\"/ru/hub/finance/\">\\n                   <span>\\n                    Финансы в IT\\n                   </span>\\n                   <!-- -->\\n                  </a>\\n                 </span>\\n                </div>\\n                <!-- -->\\n                <!-- -->\\n                <div class=\"tm-article-body tm-article-snippet__lead\">\\n                 <div class=\"tm-article-snippet__cover tm-article-snippet__cover_cover\">\\n                  <img class=\"tm-article-snippet__lead-image\" src=\"https://habrastorage.org/getpro/habr/upload_files/956/43a/b5e/95643ab5e543b7688df1489bc9364d24.jpeg\" style=\"object-position:0% 0%;\"/>\\n                 </div>\\n                 <div class=\"article-formatted-body article-formatted-body_version-2\">\\n                  <p>\\n                   Киберстраховка — это относительно новый тип переноса корпоративной ответственности. Подобный полис потенциально позволяет покрыть ущерб, связанный с нарушениями систем безопасности. Рынок такого страхования продолжает стремительно расти, и сегодня мы хотим поговорить о том, кто является главным потребителем таких страховок, и что они дают сервисным компаниям.\\n                  </p>\\n                 </div>\\n                 <a class=\"tm-article-snippet__readmore\" href=\"/ru/company/acronis/blog/581566/\">\\n                  <span>\\n                   Читать далее\\n                  </span>\\n                 </a>\\n                </div>\\n               </div>\\n               <div class=\"tm-data-icons\">\\n                <!-- -->\\n                <div class=\"tm-votes-meter tm-data-icons__item\">\\n                 <svg class=\"tm-svg-img tm-votes-meter__icon tm-votes-meter__icon_small\" height=\"16\" width=\"16\">\\n                  <title>\\n                   Всего голосов 5: ↑5 и ↓0\\n                  </title>\\n                  <use xlink:href=\"/img/megazord-v24.cee85629.svg#counter-rating\">\\n                  </use>\\n                 </svg>\\n                 <span class=\"tm-votes-meter__value tm-votes-meter__value_positive tm-votes-meter__value_small\" title=\"Всего голосов 5: ↑5 и ↓0\">\\n                  +5\\n                 </span>\\n                </div>\\n                <span class=\"tm-icon-counter tm-data-icons__item\" title=\"Количество просмотров\">\\n                 <svg class=\"tm-svg-img tm-icon-counter__icon\" height=\"16\" width=\"16\">\\n                  <title>\\n                   Просмотры\\n                  </title>\\n                  <use xlink:href=\"/img/megazord-v24.cee85629.svg#counter-views\">\\n                  </use>\\n                 </svg>\\n                 <span class=\"tm-icon-counter__value\">\\n                  330\\n                 </span>\\n                </span>\\n                <button class=\"bookmarks-button tm-data-icons__item\" title=\"Добавить в закладки\" type=\"button\">\\n                 <span class=\"tm-svg-icon__wrapper bookmarks-button__icon\" title=\"Добавить в закладки\">\\n                  <svg class=\"tm-svg-img tm-svg-icon\" height=\"16\" width=\"16\">\\n                   <title>\\n                    Добавить в закладки\\n                   </title>\\n                   <use xlink:href=\"/img/megazord-v24.cee85629.svg#counter-favorite\">\\n                   </use>\\n                  </svg>\\n                 </span>\\n                 <span class=\"bookmarks-button__counter\" title=\"Количество пользователей, добавивших публикацию в закладки\">\\n                  1\\n                 </span>\\n                </button>\\n                <div class=\"tm-article-comments-counter-link tm-data-icons__item\" title=\"Читать комментарии\">\\n                 <a class=\"tm-article-comments-counter-link__link\" href=\"/ru/company/acronis/blog/581566/comments/\">\\n                  <svg class=\"tm-svg-img tm-article-comments-counter-link__icon\" height=\"16\" width=\"16\">\\n                   <title>\\n                    Комментарии\\n                   </title>\\n                   <use xlink:href=\"/img/megazord-v24.cee85629.svg#counter-comments\">\\n                   </use>\\n                  </svg>\\n                  <span class=\"tm-article-comments-counter-link__value\">\\n                   0\\n                  </span>\\n                 </a>\\n                 <!-- -->\\n                </div>\\n                <!-- -->\\n                <div class=\"v-portal\" style=\"display:none;\">\\n                </div>\\n               </div>\\n              </article>\\n              <div class=\"tm-articles-list__after-article\">\\n               <!-- -->\\n              </div>\\n              <!-- -->\\n              <article class=\"tm-articles-list__item\" data-navigatable=\"\" id=\"581562\" tabindex=\"0\">\\n               <div class=\"tm-article-snippet\">\\n                <div class=\"tm-article-snippet__meta-container\">\\n                 <div class=\"tm-article-snippet__meta\">\\n                  <span class=\"tm-user-info tm-article-snippet__author\">\\n                   <a class=\"tm-user-info__userpic\" href=\"/ru/users/ConLenov/\" title=\"ConLenov\">\\n                    <div class=\"tm-entity-image\">\\n                     <svg class=\"tm-svg-img tm-image-placeholder tm-image-placeholder_blue\" height=\"24\" width=\"24\">\\n                      <!-- -->\\n                      <use xlink:href=\"/img/megazord-v24.cee85629.svg#placeholder-user\">\\n                      </use>\\n                     </svg>\\n                    </div>\\n                   </a>\\n                   <span class=\"tm-user-info__user\">\\n                    <a class=\"tm-user-info__username\" href=\"/ru/users/ConLenov/\">\\n                     ConLenov\\n                    </a>\\n                   </span>\\n                  </span>\\n                  <span class=\"tm-article-snippet__datetime-published\">\\n                   <time datetime=\"2021-10-05T05:50:53.000Z\" title=\"2021-10-05, 08:50\">\\n                    сегодня в 08:50\\n                   </time>\\n                  </span>\\n                 </div>\\n                 <!-- -->\\n                </div>\\n                <h2 class=\"tm-article-snippet__title tm-article-snippet__title_h2\">\\n                 <a class=\"tm-article-snippet__title-link\" data-article-link=\"\" href=\"/ru/post/581562/\">\\n                  <span>\\n                   iPadOS в стиле Windows 95\\n                  </span>\\n                 </a>\\n                </h2>\\n                <div class=\"tm-article-snippet__hubs\">\\n                 <span class=\"tm-article-snippet__hubs-item\">\\n                  <a class=\"tm-article-snippet__hubs-item-link\" href=\"/ru/hub/ui/\">\\n                   <span>\\n                    Интерфейсы\\n                   </span>\\n                   <span class=\"tm-article-snippet__profiled-hub\" title=\"Профильный хаб\">\\n                    *\\n                   </span>\\n                  </a>\\n                 </span>\\n                </div>\\n                <div class=\"tm-article-snippet__labels\">\\n                 <div class=\"tm-article-snippet__label\">\\n                  <span>\\n                   Из песочницы\\n                  </span>\\n                 </div>\\n                </div>\\n                <!-- -->\\n                <div class=\"tm-article-body tm-article-snippet__lead\">\\n                 <div class=\"tm-article-snippet__cover tm-article-snippet__cover_cover\">\\n                  <img class=\"tm-article-snippet__lead-image\" src=\"https://habrastorage.org/getpro/habr/upload_files/014/a58/c8e/014a58c8e4175ddc7cf691bbd3ad020c.png\" style=\"object-position:0% 0%;\"/>\\n                 </div>\\n                 <div class=\"article-formatted-body article-formatted-body_version-2\">\\n                  <p>\\n                   Я решил нарисовать интерфейс, который объединяет стиль Windows 95 и логику управления из IPadOS. До меня (по крайней мере, я не встречал подобных концептов).\\n                  </p>\\n                  <p>\\n                   Как в оригинальном айпаде, сверху находятся часы, трей и индикаторы Wi-Fi. Снизу находится док, где слева расположены, закрепленные в док, приложения, а справа - запущенные приложения (которые не закреплены в док). По центру сетка приложений и виджетов.\\n                  </p>\\n                 </div>\\n                 <a class=\"tm-article-snippet__readmore\" href=\"/ru/post/581562/\">\\n                  <span>\\n                   Читать далее\\n                  </span>\\n                 </a>\\n                </div>\\n               </div>\\n               <div class=\"tm-data-icons\">\\n                <!-- -->\\n                <div class=\"tm-votes-meter tm-data-icons__item\">\\n                 <svg class=\"tm-svg-img tm-votes-meter__icon tm-votes-meter__icon_small\" height=\"16\" width=\"16\">\\n                  <title>\\n                   Всего голосов 4: ↑3 и ↓1\\n                  </title>\\n                  <use xlink:href=\"/img/megazord-v24.cee85629.svg#counter-rating\">\\n                  </use>\\n                 </svg>\\n                 <span class=\"tm-votes-meter__value tm-votes-meter__value_positive tm-votes-meter__value_small\" title=\"Всего голосов 4: ↑3 и ↓1\">\\n                  +2\\n                 </span>\\n                </div>\\n                <span class=\"tm-icon-counter tm-data-icons__item\" title=\"Количество просмотров\">\\n                 <svg class=\"tm-svg-img tm-icon-counter__icon\" height=\"16\" width=\"16\">\\n                  <title>\\n                   Просмотры\\n                  </title>\\n                  <use xlink:href=\"/img/megazord-v24.cee85629.svg#counter-views\">\\n                  </use>\\n                 </svg>\\n                 <span class=\"tm-icon-counter__value\">\\n                  1.2K\\n                 </span>\\n                </span>\\n                <button class=\"bookmarks-button tm-data-icons__item\" title=\"Добавить в закладки\" type=\"button\">\\n                 <span class=\"tm-svg-icon__wrapper bookmarks-button__icon\" title=\"Добавить в закладки\">\\n                  <svg class=\"tm-svg-img tm-svg-icon\" height=\"16\" width=\"16\">\\n                   <title>\\n                    Добавить в закладки\\n                   </title>\\n                   <use xlink:href=\"/img/megazord-v24.cee85629.svg#counter-favorite\">\\n                   </use>\\n                  </svg>\\n                 </span>\\n                 <span class=\"bookmarks-button__counter\" title=\"Количество пользователей, добавивших публикацию в закладки\">\\n                  2\\n                 </span>\\n                </button>\\n                <div class=\"tm-article-comments-counter-link tm-data-icons__item\" title=\"Читать комментарии\">\\n                 <a class=\"tm-article-comments-counter-link__link\" href=\"/ru/post/581562/comments/\">\\n                  <svg class=\"tm-svg-img tm-article-comments-counter-link__icon\" height=\"16\" width=\"16\">\\n                   <title>\\n                    Комментарии\\n                   </title>\\n                   <use xlink:href=\"/img/megazord-v24.cee85629.svg#counter-comments\">\\n                   </use>\\n                  </svg>\\n                  <span class=\"tm-article-comments-counter-link__value\">\\n                   4\\n                  </span>\\n                 </a>\\n                 <!-- -->\\n                </div>\\n                <!-- -->\\n                <div class=\"v-portal\" style=\"display:none;\">\\n                </div>\\n               </div>\\n              </article>\\n              <div class=\"tm-articles-list__after-article\">\\n               <!-- -->\\n              </div>\\n              <!-- -->\\n              <article class=\"tm-articles-list__item\" data-navigatable=\"\" id=\"581560\" tabindex=\"0\">\\n               <div class=\"tm-article-snippet\">\\n                <div class=\"tm-article-snippet__meta-container\">\\n                 <div class=\"tm-article-snippet__meta\">\\n                  <span class=\"tm-user-info tm-article-snippet__author\">\\n                   <a class=\"tm-user-info__userpic\" href=\"/ru/users/shurup/\" title=\"shurup\">\\n                    <div class=\"tm-entity-image\">\\n                     <img alt=\"\" class=\"tm-entity-image__pic\" height=\"24\" loading=\"lazy\" src=\"//habrastorage.org/r/w32/getpro/habr/avatars/062/c85/607/062c85607fbe4aaa29e1ad2076cd13a0.jpg\" width=\"24\"/>\\n                    </div>\\n                   </a>\\n                   <span class=\"tm-user-info__user\">\\n                    <a class=\"tm-user-info__username\" href=\"/ru/users/shurup/\">\\n                     shurup\\n                    </a>\\n                   </span>\\n                  </span>\\n                  <span class=\"tm-article-snippet__datetime-published\">\\n                   <time datetime=\"2021-10-05T04:56:56.000Z\" title=\"2021-10-05, 07:56\">\\n                    сегодня в 07:56\\n                   </time>\\n                  </span>\\n                 </div>\\n                 <!-- -->\\n                </div>\\n                <h2 class=\"tm-article-snippet__title tm-article-snippet__title_h2\">\\n                 <a class=\"tm-article-snippet__title-link\" data-article-link=\"\" href=\"/ru/company/flant/blog/581560/\">\\n                  <span>\\n                   Из-за чего Facebook стал глобально недоступен. Технический ликбез\\n                  </span>\\n                 </a>\\n                </h2>\\n                <div class=\"tm-article-snippet__hubs\">\\n                 <span class=\"tm-article-snippet__hubs-item\">\\n                  <a class=\"tm-article-snippet__hubs-item-link\" href=\"/ru/company/flant/blog/\">\\n                   <span>\\n                    Блог компании Флант\\n                   </span>\\n                   <!-- -->\\n                  </a>\\n                 </span>\\n                 <span class=\"tm-article-snippet__hubs-item\">\\n                  <a class=\"tm-article-snippet__hubs-item-link\" href=\"/ru/hub/network_technologies/\">\\n                   <span>\\n                    Сетевые технологии\\n                   </span>\\n                   <span class=\"tm-article-snippet__profiled-hub\" title=\"Профильный хаб\">\\n                    *\\n                   </span>\\n                  </a>\\n                 </span>\\n                 <span class=\"tm-article-snippet__hubs-item\">\\n                  <a class=\"tm-article-snippet__hubs-item-link\" href=\"/ru/hub/social_networks/\">\\n                   <span>\\n                    Социальные сети и сообщества\\n                   </span>\\n                   <!-- -->\\n                  </a>\\n                 </span>\\n                </div>\\n                <div class=\"tm-article-snippet__labels\">\\n                 <div class=\"tm-article-snippet__label\">\\n                  <span>\\n                   Перевод\\n                  </span>\\n                 </div>\\n                </div>\\n                <!-- -->\\n                <div class=\"tm-article-body tm-article-snippet__lead\">\\n                 <!-- -->\\n                 <div class=\"article-formatted-body article-formatted-body_version-2\">\\n                  <p>\\n                   <strong>\\n                    <em>\\n                     Прим. перев.\\n                    </em>\\n                   </strong>\\n                   <em>\\n                    : в этой статье инженеры онлайн-сервиса Cloudflare весьма популярно объясняют, что именно (технически) произошло с недоступностью Facebook минувшим вечером (4-го октября 2021), а также затрагивают тему того, как этот сбой повлиял на более глобальные процессы в интернете.\\n                   </em>\\n                  </p>\\n                  <p>\\n                   «Разве Facebook может упасть?» — задумались мы на секунду…\\n                  </p>\\n                  <p>\\n                   Сегодня в 16:51 UTC\\n                   <em>\\n                    (в 19:51 MSK — прим. перев.)\\n                   </em>\\n                   у нас был открыт внутренний инцидент под названием «Facebook DNS lookup returning SERVFAIL». Мы решили, что это с нашим DNS-ресолвером 1.1.1.1 что-то не так. Однако к моменту размещения соответствующего обновления на публичной статус-странице стало ясно, что здесь что-то серьёзное.\\n                  </p>\\n                  <p>\\n                   Социальные сети уже разрывались от сообщений о том, что быстро подтвердили и наши инженеры: Facebook и связанные с ним сервисы WhatsApp и Instagram действительно упали. Их DNS-имена больше не ресолвились, а IP-адреса инфраструктуры были недоступны. Выглядело так, как будто кто-то буквально выдернул кабели разом во всех их дата-центрах, отключив от интернета.\\n                  </p>\\n                  <p>\\n                   Как такое вообще возможно?\\n                  </p>\\n                 </div>\\n                 <a class=\"tm-article-snippet__readmore\" href=\"/ru/company/flant/blog/581560/\">\\n                  <span>\\n                   Читать далее\\n                  </span>\\n                 </a>\\n                </div>\\n               </div>\\n               <div class=\"tm-data-icons\">\\n                <!-- -->\\n                <div class=\"tm-votes-meter tm-data-icons__item\">\\n                 <svg class=\"tm-svg-img tm-votes-meter__icon tm-votes-meter__icon_small\" height=\"16\" width=\"16\">\\n                  <title>\\n                   Всего голосов 70: ↑68 и ↓2\\n                  </title>\\n                  <use xlink:href=\"/img/megazord-v24.cee85629.svg#counter-rating\">\\n                  </use>\\n                 </svg>\\n                 <span class=\"tm-votes-meter__value tm-votes-meter__value_positive tm-votes-meter__value_small\" title=\"Всего голосов 70: ↑68 и ↓2\">\\n                  +66\\n                 </span>\\n                </div>\\n                <span class=\"tm-icon-counter tm-data-icons__item\" title=\"Количество просмотров\">\\n                 <svg class=\"tm-svg-img tm-icon-counter__icon\" height=\"16\" width=\"16\">\\n                  <title>\\n                   Просмотры\\n                  </title>\\n                  <use xlink:href=\"/img/megazord-v24.cee85629.svg#counter-views\">\\n                  </use>\\n                 </svg>\\n                 <span class=\"tm-icon-counter__value\">\\n                  24K\\n                 </span>\\n                </span>\\n                <button class=\"bookmarks-button tm-data-icons__item\" title=\"Добавить в закладки\" type=\"button\">\\n                 <span class=\"tm-svg-icon__wrapper bookmarks-button__icon\" title=\"Добавить в закладки\">\\n                  <svg class=\"tm-svg-img tm-svg-icon\" height=\"16\" width=\"16\">\\n                   <title>\\n                    Добавить в закладки\\n                   </title>\\n                   <use xlink:href=\"/img/megazord-v24.cee85629.svg#counter-favorite\">\\n                   </use>\\n                  </svg>\\n                 </span>\\n                 <span class=\"bookmarks-button__counter\" title=\"Количество пользователей, добавивших публикацию в закладки\">\\n                  32\\n                 </span>\\n                </button>\\n                <div class=\"tm-article-comments-counter-link tm-data-icons__item\" title=\"Читать комментарии\">\\n                 <a class=\"tm-article-comments-counter-link__link\" href=\"/ru/company/flant/blog/581560/comments/\">\\n                  <svg class=\"tm-svg-img tm-article-comments-counter-link__icon\" height=\"16\" width=\"16\">\\n                   <title>\\n                    Комментарии\\n                   </title>\\n                   <use xlink:href=\"/img/megazord-v24.cee85629.svg#counter-comments\">\\n                   </use>\\n                  </svg>\\n                  <span class=\"tm-article-comments-counter-link__value\">\\n                   33\\n                  </span>\\n                 </a>\\n                 <!-- -->\\n                </div>\\n                <!-- -->\\n                <div class=\"v-portal\" style=\"display:none;\">\\n                </div>\\n               </div>\\n              </article>\\n              <div class=\"tm-articles-list__after-article\">\\n               <div class=\"tm-article-feed-blocks\">\\n                <!-- -->\\n               </div>\\n              </div>\\n              <!-- -->\\n              <article class=\"tm-articles-list__item\" data-navigatable=\"\" id=\"581544\" tabindex=\"0\">\\n               <div class=\"tm-article-snippet\">\\n                <div class=\"tm-article-snippet__meta-container\">\\n                 <div class=\"tm-article-snippet__meta\">\\n                  <span class=\"tm-user-info tm-article-snippet__author\">\\n                   <a class=\"tm-user-info__userpic\" href=\"/ru/users/GenPol/\" title=\"GenPol\">\\n                    <div class=\"tm-entity-image\">\\n                     <img alt=\"\" class=\"tm-entity-image__pic\" height=\"24\" loading=\"lazy\" src=\"//habrastorage.org/r/w32/getpro/habr/avatars/a31/84f/114/a3184f114b2f5cdd75f4083a013fe056.jpg\" width=\"24\"/>\\n                    </div>\\n                   </a>\\n                   <span class=\"tm-user-info__user\">\\n                    <a class=\"tm-user-info__username\" href=\"/ru/users/GenPol/\">\\n                     GenPol\\n                    </a>\\n                   </span>\\n                  </span>\\n                  <span class=\"tm-article-snippet__datetime-published\">\\n                   <time datetime=\"2021-10-05T02:57:53.000Z\" title=\"2021-10-05, 05:57\">\\n                    сегодня в 05:57\\n                   </time>\\n                  </span>\\n                 </div>\\n                 <!-- -->\\n                </div>\\n                <h2 class=\"tm-article-snippet__title tm-article-snippet__title_h2\">\\n                 <a class=\"tm-article-snippet__title-link\" data-article-link=\"\" href=\"/ru/post/581544/\">\\n                  <span>\\n                   Windows 11 подойдёт программисту?\\n                  </span>\\n                 </a>\\n                </h2>\\n                <div class=\"tm-article-snippet__hubs\">\\n                 <span class=\"tm-article-snippet__hubs-item\">\\n                  <a class=\"tm-article-snippet__hubs-item-link\" href=\"/ru/hub/graph_design/\">\\n                   <span>\\n                    Графический дизайн\\n                   </span>\\n                   <span class=\"tm-article-snippet__profiled-hub\" title=\"Профильный хаб\">\\n                    *\\n                   </span>\\n                  </a>\\n                 </span>\\n                </div>\\n                <!-- -->\\n                <!-- -->\\n                <div class=\"tm-article-body tm-article-snippet__lead\">\\n                 <div class=\"tm-article-snippet__cover tm-article-snippet__cover_cover\">\\n                  <img class=\"tm-article-snippet__lead-image\" src=\"https://habrastorage.org/getpro/habr/upload_files/2d0/69a/b57/2d069ab5784c8e83c7e6600efb2f3cd0.jpg\" style=\"object-position:0% 0%;\"/>\\n                 </div>\\n                 <div class=\"article-formatted-body article-formatted-body_version-2\">\\n                  <p>\\n                   Что нового в дизайне вы и так увидите своими глазами! Но вот будут ли новые( или обновлённые) фичи полезны для нас?\\n                  </p>\\n                 </div>\\n                 <a class=\"tm-article-snippet__readmore\" href=\"/ru/post/581544/\">\\n                  <span>\\n                   Ну-ка ну-ка!\\n                  </span>\\n                 </a>\\n                </div>\\n               </div>\\n               <div class=\"tm-data-icons\">\\n                <!-- -->\\n                <div class=\"tm-votes-meter tm-data-icons__item\">\\n                 <svg class=\"tm-svg-img tm-votes-meter__icon tm-votes-meter__icon_small\" height=\"16\" width=\"16\">\\n                  <title>\\n                   Всего голосов 16: ↑8 и ↓8\\n                  </title>\\n                  <use xlink:href=\"/img/megazord-v24.cee85629.svg#counter-rating\">\\n                  </use>\\n                 </svg>\\n                 <span class=\"tm-votes-meter__value tm-votes-meter__value_small\" title=\"Всего голосов 16: ↑8 и ↓8\">\\n                  0\\n                 </span>\\n                </div>\\n                <span class=\"tm-icon-counter tm-data-icons__item\" title=\"Количество просмотров\">\\n                 <svg class=\"tm-svg-img tm-icon-counter__icon\" height=\"16\" width=\"16\">\\n                  <title>\\n                   Просмотры\\n                  </title>\\n                  <use xlink:href=\"/img/megazord-v24.cee85629.svg#counter-views\">\\n                  </use>\\n                 </svg>\\n                 <span class=\"tm-icon-counter__value\">\\n                  6.9K\\n                 </span>\\n                </span>\\n                <button class=\"bookmarks-button tm-data-icons__item\" title=\"Добавить в закладки\" type=\"button\">\\n                 <span class=\"tm-svg-icon__wrapper bookmarks-button__icon\" title=\"Добавить в закладки\">\\n                  <svg class=\"tm-svg-img tm-svg-icon\" height=\"16\" width=\"16\">\\n                   <title>\\n                    Добавить в закладки\\n                   </title>\\n                   <use xlink:href=\"/img/megazord-v24.cee85629.svg#counter-favorite\">\\n                   </use>\\n                  </svg>\\n                 </span>\\n                 <span class=\"bookmarks-button__counter\" title=\"Количество пользователей, добавивших публикацию в закладки\">\\n                  3\\n                 </span>\\n                </button>\\n                <div class=\"tm-article-comments-counter-link tm-data-icons__item\" title=\"Читать комментарии\">\\n                 <a class=\"tm-article-comments-counter-link__link\" href=\"/ru/post/581544/comments/\">\\n                  <svg class=\"tm-svg-img tm-article-comments-counter-link__icon\" height=\"16\" width=\"16\">\\n                   <title>\\n                    Комментарии\\n                   </title>\\n                   <use xlink:href=\"/img/megazord-v24.cee85629.svg#counter-comments\">\\n                   </use>\\n                  </svg>\\n                  <span class=\"tm-article-comments-counter-link__value\">\\n                   25\\n                  </span>\\n                 </a>\\n                 <!-- -->\\n                </div>\\n                <!-- -->\\n                <div class=\"v-portal\" style=\"display:none;\">\\n                </div>\\n               </div>\\n              </article>\\n              <div class=\"tm-articles-list__after-article\">\\n               <!-- -->\\n              </div>\\n              <!-- -->\\n              <article class=\"tm-articles-list__item\" data-navigatable=\"\" id=\"581558\" tabindex=\"0\">\\n               <div class=\"tm-article-snippet\">\\n                <div class=\"tm-article-snippet__meta-container\">\\n                 <div class=\"tm-article-snippet__meta\">\\n                  <span class=\"tm-user-info tm-article-snippet__author\">\\n                   <a class=\"tm-user-info__userpic\" href=\"/ru/users/cmirnow/\" title=\"cmirnow\">\\n                    <div class=\"tm-entity-image\">\\n                     <img alt=\"\" class=\"tm-entity-image__pic\" height=\"24\" loading=\"lazy\" src=\"//habrastorage.org/r/w32/getpro/habr/avatars/dae/78e/fe4/dae78efe439d4a2f2d0a6a247c4f841a.jpg\" width=\"24\"/>\\n                    </div>\\n                   </a>\\n                   <span class=\"tm-user-info__user\">\\n                    <a class=\"tm-user-info__username\" href=\"/ru/users/cmirnow/\">\\n                     cmirnow\\n                    </a>\\n                   </span>\\n                  </span>\\n                  <span class=\"tm-article-snippet__datetime-published\">\\n                   <time datetime=\"2021-10-05T00:39:18.000Z\" title=\"2021-10-05, 03:39\">\\n                    сегодня в 03:39\\n                   </time>\\n                  </span>\\n                 </div>\\n                 <!-- -->\\n                </div>\\n                <h2 class=\"tm-article-snippet__title tm-article-snippet__title_h2\">\\n                 <a class=\"tm-article-snippet__title-link\" data-article-link=\"\" href=\"/ru/post/581558/\">\\n                  <span>\\n                   Google Cloud Text to Speech API как квинтэссенция Света. Реминисценции\\n                  </span>\\n                 </a>\\n                </h2>\\n                <div class=\"tm-article-snippet__hubs\">\\n                 <span class=\"tm-article-snippet__hubs-item\">\\n                  <a class=\"tm-article-snippet__hubs-item-link\" href=\"/ru/hub/ror/\">\\n                   <span>\\n                    Ruby on Rails\\n                   </span>\\n                   <span class=\"tm-article-snippet__profiled-hub\" title=\"Профильный хаб\">\\n                    *\\n                   </span>\\n                  </a>\\n                 </span>\\n                 <span class=\"tm-article-snippet__hubs-item\">\\n                  <a class=\"tm-article-snippet__hubs-item-link\" href=\"/ru/hub/google_api/\">\\n                   <span>\\n                    Google API\\n                   </span>\\n                   <span class=\"tm-article-snippet__profiled-hub\" title=\"Профильный хаб\">\\n                    *\\n                   </span>\\n                  </a>\\n                 </span>\\n                </div>\\n                <!-- -->\\n                <!-- -->\\n                <div class=\"tm-article-body tm-article-snippet__lead\">\\n                 <div class=\"tm-article-snippet__cover tm-article-snippet__cover_cover\">\\n                  <img class=\"tm-article-snippet__lead-image\" src=\"https://habrastorage.org/getpro/habr/upload_files/b21/b49/0d3/b21b490d313f2f08a94b3b1418f18f77.jpg\" style=\"object-position:2.4358974358974% 37.954545454545%;\"/>\\n                 </div>\\n                 <div class=\"article-formatted-body article-formatted-body_version-2\">\\n                  <p>\\n                   Запомнилась мне одна книга, от польского, если не ошибаюсь, писателя (имени сейчас, к сожалению, не вспомню). Вернее сказать, не сам сюжет написанной в жанре фэнтэзи книжки, но положенная в основу идея оказалась неожиданно хороша и оригинальна. Смысл был в том, что всякая-разная сказочная нечисть — практически любая, без разбору и конфессиональных различий; ведьмы, лешие, бабы-яги, черти и много-много-много всякой-другой — априори должна быть занесена в реестр сил Добра, Света и Справедливости… по одной лишь простой причине: способность молниеносно перемещаться в пространстве, т. е. передавать с огромной скоростью по общемировым сетям массивы информации в любую точку известной нам области Вселенной — автоматически делает обладателя данной способности в конечном итоге приверженцем Прогресса и Демократии, противником Тоталитаризма и Тьмы.\\n                  </p>\\n                 </div>\\n                 <a class=\"tm-article-snippet__readmore\" href=\"/ru/post/581558/\">\\n                  <span>\\n                   Читать далее\\n                  </span>\\n                 </a>\\n                </div>\\n               </div>\\n               <div class=\"tm-data-icons\">\\n                <!-- -->\\n                <div class=\"tm-votes-meter tm-data-icons__item\">\\n                 <svg class=\"tm-svg-img tm-votes-meter__icon tm-votes-meter__icon_small\" height=\"16\" width=\"16\">\\n                  <title>\\n                   Всего голосов 1: ↑1 и ↓0\\n                  </title>\\n                  <use xlink:href=\"/img/megazord-v24.cee85629.svg#counter-rating\">\\n                  </use>\\n                 </svg>\\n                 <span class=\"tm-votes-meter__value tm-votes-meter__value_positive tm-votes-meter__value_small\" title=\"Всего голосов 1: ↑1 и ↓0\">\\n                  +1\\n                 </span>\\n                </div>\\n                <span class=\"tm-icon-counter tm-data-icons__item\" title=\"Количество просмотров\">\\n                 <svg class=\"tm-svg-img tm-icon-counter__icon\" height=\"16\" width=\"16\">\\n                  <title>\\n                   Просмотры\\n                  </title>\\n                  <use xlink:href=\"/img/megazord-v24.cee85629.svg#counter-views\">\\n                  </use>\\n                 </svg>\\n                 <span class=\"tm-icon-counter__value\">\\n                  547\\n                 </span>\\n                </span>\\n                <button class=\"bookmarks-button tm-data-icons__item\" title=\"Добавить в закладки\" type=\"button\">\\n                 <span class=\"tm-svg-icon__wrapper bookmarks-button__icon\" title=\"Добавить в закладки\">\\n                  <svg class=\"tm-svg-img tm-svg-icon\" height=\"16\" width=\"16\">\\n                   <title>\\n                    Добавить в закладки\\n                   </title>\\n                   <use xlink:href=\"/img/megazord-v24.cee85629.svg#counter-favorite\">\\n                   </use>\\n                  </svg>\\n                 </span>\\n                 <span class=\"bookmarks-button__counter\" title=\"Количество пользователей, добавивших публикацию в закладки\">\\n                  1\\n                 </span>\\n                </button>\\n                <div class=\"tm-article-comments-counter-link tm-data-icons__item\" title=\"Читать комментарии\">\\n                 <a class=\"tm-article-comments-counter-link__link\" href=\"/ru/post/581558/comments/\">\\n                  <svg class=\"tm-svg-img tm-article-comments-counter-link__icon\" height=\"16\" width=\"16\">\\n                   <title>\\n                    Комментарии\\n                   </title>\\n                   <use xlink:href=\"/img/megazord-v24.cee85629.svg#counter-comments\">\\n                   </use>\\n                  </svg>\\n                  <span class=\"tm-article-comments-counter-link__value\">\\n                   1\\n                  </span>\\n                 </a>\\n                 <!-- -->\\n                </div>\\n                <!-- -->\\n                <div class=\"v-portal\" style=\"display:none;\">\\n                </div>\\n               </div>\\n              </article>\\n              <div class=\"tm-articles-list__after-article\">\\n               <!-- -->\\n              </div>\\n              <!-- -->\\n              <article class=\"tm-articles-list__item\" data-navigatable=\"\" id=\"579086\" tabindex=\"0\">\\n               <div class=\"tm-article-snippet\">\\n                <div class=\"tm-article-snippet__meta-container\">\\n                 <div class=\"tm-article-snippet__meta\">\\n                  <span class=\"tm-user-info tm-article-snippet__author\">\\n                   <a class=\"tm-user-info__userpic\" href=\"/ru/users/Belisckner/\" title=\"Belisckner\">\\n                    <div class=\"tm-entity-image\">\\n                     <img alt=\"\" class=\"tm-entity-image__pic\" height=\"24\" loading=\"lazy\" src=\"//habrastorage.org/r/w32/getpro/habr/avatars/615/e00/6c7/615e006c7fa8b7805cfb9a7da16fb0a1.jpg\" width=\"24\"/>\\n                    </div>\\n                   </a>\\n                   <span class=\"tm-user-info__user\">\\n                    <a class=\"tm-user-info__username\" href=\"/ru/users/Belisckner/\">\\n                     Belisckner\\n                    </a>\\n                   </span>\\n                  </span>\\n                  <span class=\"tm-article-snippet__datetime-published\">\\n                   <time datetime=\"2021-10-04T22:23:37.000Z\" title=\"2021-10-05, 01:23\">\\n                    сегодня в 01:23\\n                   </time>\\n                  </span>\\n                 </div>\\n                 <!-- -->\\n                </div>\\n                <h2 class=\"tm-article-snippet__title tm-article-snippet__title_h2\">\\n                 <a class=\"tm-article-snippet__title-link\" data-article-link=\"\" href=\"/ru/company/selectel/blog/579086/\">\\n                  <span>\\n                   Цены на электронику вниз не идут: похоже, отрасль попала в «идеальный шторм»\\n                  </span>\\n                 </a>\\n                </h2>\\n                <div class=\"tm-article-snippet__hubs\">\\n                 <span class=\"tm-article-snippet__hubs-item\">\\n                  <a class=\"tm-article-snippet__hubs-item-link\" href=\"/ru/company/selectel/blog/\">\\n                   <span>\\n                    Блог компании Selectel\\n                   </span>\\n                   <!-- -->\\n                  </a>\\n                 </span>\\n                 <span class=\"tm-article-snippet__hubs-item\">\\n                  <a class=\"tm-article-snippet__hubs-item-link\" href=\"/ru/hub/research/\">\\n                   <span>\\n                    Исследования и прогнозы в IT\\n                   </span>\\n                   <!-- -->\\n                  </a>\\n                 </span>\\n                 <span class=\"tm-article-snippet__hubs-item\">\\n                  <a class=\"tm-article-snippet__hubs-item-link\" href=\"/ru/hub/electronics/\">\\n                   <span>\\n                    Производство и разработка электроники\\n                   </span>\\n                   <span class=\"tm-article-snippet__profiled-hub\" title=\"Профильный хаб\">\\n                    *\\n                   </span>\\n                  </a>\\n                 </span>\\n                 <span class=\"tm-article-snippet__hubs-item\">\\n                  <a class=\"tm-article-snippet__hubs-item-link\" href=\"/ru/hub/statistics/\">\\n                   <span>\\n                    Статистика в IT\\n                   </span>\\n                   <!-- -->\\n                  </a>\\n                 </span>\\n                 <span class=\"tm-article-snippet__hubs-item\">\\n                  <a class=\"tm-article-snippet__hubs-item-link\" href=\"/ru/hub/gadgets/\">\\n                   <span>\\n                    Гаджеты\\n                   </span>\\n                   <!-- -->\\n                  </a>\\n                 </span>\\n                </div>\\n                <!-- -->\\n                <!-- -->\\n                <div class=\"tm-article-body tm-article-snippet__lead\">\\n                 <!-- -->\\n                 <div class=\"article-formatted-body article-formatted-body_version-1\">\\n                  <div style=\"text-align:center;\">\\n                   <img src=\"https://habrastorage.org/getpro/habr/post_images/015/19a/ad9/01519aad94c7058d6edfb50da6c349d6.jpg\"/>\\n                  </div>\\n                  <br/>\\n                  Не так давно мы\\n                  <a href=\"https://habr.com/ru/company/selectel/blog/578496/\">\\n                   публиковали статью\\n                  </a>\\n                  , в которой говорилось о довольно оптимистичном прогнозе аналитиков из Trendforce. Они заявили, что есть далеко ненулевая вероятность того, что в IV квартале 2021 года цены на чипы оперативной памяти и SSD начнут резко снижаться. Но, вероятно, в текущих условиях это чрезмерно оптимистичная оценка.\\n                  <br/>\\n                  <br/>\\n                  Более того, ситуация указывает как раз на то, что цены будут лишь расти, а отрасль производства электронных компонентов, а также индустрии, связанные с ней, либо уже находятся в «идеальном шторме», либо находятся очень близко к нему. Здесь и сейчас вместе сошлись несколько негативных факторов, которые и по отдельности могут повысить цены на компоненты и электронику, а уж совокупное их действие способно поднять стоимость очень быстро.\\n                  <br/>\\n                 </div>\\n                 <a class=\"tm-article-snippet__readmore\" href=\"/ru/company/selectel/blog/579086/\">\\n                  <span>\\n                   Читать дальше →\\n                  </span>\\n                 </a>\\n                </div>\\n               </div>\\n               <div class=\"tm-data-icons\">\\n                <!-- -->\\n                <div class=\"tm-votes-meter tm-data-icons__item\">\\n                 <svg class=\"tm-svg-img tm-votes-meter__icon tm-votes-meter__icon_small\" height=\"16\" width=\"16\">\\n                  <title>\\n                   Всего голосов 22: ↑21 и ↓1\\n                  </title>\\n                  <use xlink:href=\"/img/megazord-v24.cee85629.svg#counter-rating\">\\n                  </use>\\n                 </svg>\\n                 <span class=\"tm-votes-meter__value tm-votes-meter__value_positive tm-votes-meter__value_small\" title=\"Всего голосов 22: ↑21 и ↓1\">\\n                  +20\\n                 </span>\\n                </div>\\n                <span class=\"tm-icon-counter tm-data-icons__item\" title=\"Количество просмотров\">\\n                 <svg class=\"tm-svg-img tm-icon-counter__icon\" height=\"16\" width=\"16\">\\n                  <title>\\n                   Просмотры\\n                  </title>\\n                  <use xlink:href=\"/img/megazord-v24.cee85629.svg#counter-views\">\\n                  </use>\\n                 </svg>\\n                 <span class=\"tm-icon-counter__value\">\\n                  5.7K\\n                 </span>\\n                </span>\\n                <button class=\"bookmarks-button tm-data-icons__item\" title=\"Добавить в закладки\" type=\"button\">\\n                 <span class=\"tm-svg-icon__wrapper bookmarks-button__icon\" title=\"Добавить в закладки\">\\n                  <svg class=\"tm-svg-img tm-svg-icon\" height=\"16\" width=\"16\">\\n                   <title>\\n                    Добавить в закладки\\n                   </title>\\n                   <use xlink:href=\"/img/megazord-v24.cee85629.svg#counter-favorite\">\\n                   </use>\\n                  </svg>\\n                 </span>\\n                 <span class=\"bookmarks-button__counter\" title=\"Количество пользователей, добавивших публикацию в закладки\">\\n                  5\\n                 </span>\\n                </button>\\n                <div class=\"tm-article-comments-counter-link tm-data-icons__item\" title=\"Читать комментарии\">\\n                 <a class=\"tm-article-comments-counter-link__link\" href=\"/ru/company/selectel/blog/579086/comments/\">\\n                  <svg class=\"tm-svg-img tm-article-comments-counter-link__icon\" height=\"16\" width=\"16\">\\n                   <title>\\n                    Комментарии\\n                   </title>\\n                   <use xlink:href=\"/img/megazord-v24.cee85629.svg#counter-comments\">\\n                   </use>\\n                  </svg>\\n                  <span class=\"tm-article-comments-counter-link__value\">\\n                   15\\n                  </span>\\n                 </a>\\n                 <!-- -->\\n                </div>\\n                <!-- -->\\n                <div class=\"v-portal\" style=\"display:none;\">\\n                </div>\\n               </div>\\n              </article>\\n              <div class=\"tm-articles-list__after-article\">\\n               <!-- -->\\n              </div>\\n              <!-- -->\\n              <article class=\"tm-articles-list__item\" data-navigatable=\"\" id=\"581548\" tabindex=\"0\">\\n               <div class=\"tm-article-snippet\">\\n                <div class=\"tm-article-snippet__meta-container\">\\n                 <div class=\"tm-article-snippet__meta\">\\n                  <span class=\"tm-user-info tm-article-snippet__author\">\\n                   <a class=\"tm-user-info__userpic\" href=\"/ru/users/Andebugan/\" title=\"Andebugan\">\\n                    <div class=\"tm-entity-image\">\\n                     <img alt=\"\" class=\"tm-entity-image__pic\" height=\"24\" loading=\"lazy\" src=\"//habrastorage.org/r/w32/getpro/habr/avatars/b15/678/50d/b1567850d9dd8c19285790061d95fa62.jpg\" width=\"24\"/>\\n                    </div>\\n                   </a>\\n                   <span class=\"tm-user-info__user\">\\n                    <a class=\"tm-user-info__username\" href=\"/ru/users/Andebugan/\">\\n                     Andebugan\\n                    </a>\\n                   </span>\\n                  </span>\\n                  <span class=\"tm-article-snippet__datetime-published\">\\n                   <time datetime=\"2021-10-04T21:24:19.000Z\" title=\"2021-10-05, 00:24\">\\n                    сегодня в 00:24\\n                   </time>\\n                  </span>\\n                 </div>\\n                 <!-- -->\\n                </div>\\n                <h2 class=\"tm-article-snippet__title tm-article-snippet__title_h2\">\\n                 <a class=\"tm-article-snippet__title-link\" data-article-link=\"\" href=\"/ru/post/581548/\">\\n                  <span>\\n                   Основы работы с PostgreSQL в Docker\\n                  </span>\\n                 </a>\\n                </h2>\\n                <div class=\"tm-article-snippet__hubs\">\\n                 <span class=\"tm-article-snippet__hubs-item\">\\n                  <a class=\"tm-article-snippet__hubs-item-link\" href=\"/ru/hub/postgresql/\">\\n                   <span>\\n                    PostgreSQL\\n                   </span>\\n                   <span class=\"tm-article-snippet__profiled-hub\" title=\"Профильный хаб\">\\n                    *\\n                   </span>\\n                  </a>\\n                 </span>\\n                 <span class=\"tm-article-snippet__hubs-item\">\\n                  <a class=\"tm-article-snippet__hubs-item-link\" href=\"/ru/hub/sql/\">\\n                   <span>\\n                    SQL\\n                   </span>\\n                   <span class=\"tm-article-snippet__profiled-hub\" title=\"Профильный хаб\">\\n                    *\\n                   </span>\\n                  </a>\\n                 </span>\\n                </div>\\n                <div class=\"tm-article-snippet__labels\">\\n                 <div class=\"tm-article-snippet__label\">\\n                  <span>\\n                   Из песочницы\\n                  </span>\\n                 </div>\\n                </div>\\n                <!-- -->\\n                <div class=\"tm-article-body tm-article-snippet__lead\">\\n                 <div class=\"tm-article-snippet__cover tm-article-snippet__cover_cover\">\\n                  <img class=\"tm-article-snippet__lead-image\" src=\"https://habrastorage.org/getpro/habr/upload_files/ac5/f13/db8/ac5f13db8626b271aac38010bf0e1c59.jpeg\" style=\"object-position:0% 0%;\"/>\\n                 </div>\\n                 <div class=\"article-formatted-body article-formatted-body_version-2\">\\n                  <p>\\n                   В данной статье рассматриваются некоторые особенности начала работы с\\n                   <abbr title=\"Системы Управления Базами Данных\">\\n                    СУБД\\n                   </abbr>\\n                   PostgreSQL в Docker, которые могут быть полезны читателю, если он только начинает познавать искусство работы с контейнерами. Написать сие произведение меня побудило отсутствие статей, которые полностью покрывают базовые вещи в начале работы с PostgreSQL в Docker. В этой статье мы не будем подробно рассматривать принципы работы PostgreSQL, однако напишем несколько базовых запросов для того, чтобы протестировать работу контейнера.\\n                  </p>\\n                 </div>\\n                 <a class=\"tm-article-snippet__readmore\" href=\"/ru/post/581548/\">\\n                  <span>\\n                   Читать далее\\n                  </span>\\n                 </a>\\n                </div>\\n               </div>\\n               <div class=\"tm-data-icons\">\\n                <!-- -->\\n                <div class=\"tm-votes-meter tm-data-icons__item\">\\n                 <svg class=\"tm-svg-img tm-votes-meter__icon tm-votes-meter__icon_small\" height=\"16\" width=\"16\">\\n                  <title>\\n                   Всего голосов 9: ↑5 и ↓4\\n                  </title>\\n                  <use xlink:href=\"/img/megazord-v24.cee85629.svg#counter-rating\">\\n                  </use>\\n                 </svg>\\n                 <span class=\"tm-votes-meter__value tm-votes-meter__value_positive tm-votes-meter__value_small\" title=\"Всего голосов 9: ↑5 и ↓4\">\\n                  +1\\n                 </span>\\n                </div>\\n                <span class=\"tm-icon-counter tm-data-icons__item\" title=\"Количество просмотров\">\\n                 <svg class=\"tm-svg-img tm-icon-counter__icon\" height=\"16\" width=\"16\">\\n                  <title>\\n                   Просмотры\\n                  </title>\\n                  <use xlink:href=\"/img/megazord-v24.cee85629.svg#counter-views\">\\n                  </use>\\n                 </svg>\\n                 <span class=\"tm-icon-counter__value\">\\n                  3K\\n                 </span>\\n                </span>\\n                <button class=\"bookmarks-button tm-data-icons__item\" title=\"Добавить в закладки\" type=\"button\">\\n                 <span class=\"tm-svg-icon__wrapper bookmarks-button__icon\" title=\"Добавить в закладки\">\\n                  <svg class=\"tm-svg-img tm-svg-icon\" height=\"16\" width=\"16\">\\n                   <title>\\n                    Добавить в закладки\\n                   </title>\\n                   <use xlink:href=\"/img/megazord-v24.cee85629.svg#counter-favorite\">\\n                   </use>\\n                  </svg>\\n                 </span>\\n                 <span class=\"bookmarks-button__counter\" title=\"Количество пользователей, добавивших публикацию в закладки\">\\n                  65\\n                 </span>\\n                </button>\\n                <div class=\"tm-article-comments-counter-link tm-data-icons__item\" title=\"Читать комментарии\">\\n                 <a class=\"tm-article-comments-counter-link__link\" href=\"/ru/post/581548/comments/\">\\n                  <svg class=\"tm-svg-img tm-article-comments-counter-link__icon\" height=\"16\" width=\"16\">\\n                   <title>\\n                    Комментарии\\n                   </title>\\n                   <use xlink:href=\"/img/megazord-v24.cee85629.svg#counter-comments\">\\n                   </use>\\n                  </svg>\\n                  <span class=\"tm-article-comments-counter-link__value\">\\n                   7\\n                  </span>\\n                 </a>\\n                 <!-- -->\\n                </div>\\n                <!-- -->\\n                <div class=\"v-portal\" style=\"display:none;\">\\n                </div>\\n               </div>\\n              </article>\\n              <div class=\"tm-articles-list__after-article\">\\n               <!-- -->\\n              </div>\\n             </div>\\n             <!-- -->\\n             <div class=\"tm-pagination\">\\n              <div class=\"tm-pagination__navigation-link\" data-pagination-prev=\"\" id=\"pagination-prev-page\" rel=\"prev\">\\n               <svg class=\"tm-svg-img tm-pagination__arrow tm-pagination__arrow_prev\" height=\"16\" width=\"16\">\\n                <title>\\n                 Назад\\n                </title>\\n                <use xlink:href=\"/img/megazord-v24.cee85629.svg#arrow-back\">\\n                </use>\\n               </svg>\\n               <span class=\"tm-pagination__navigation-link-title\">\\n                Сюда\\n               </span>\\n              </div>\\n              <div class=\"tm-pagination__pages\">\\n               <span class=\"tm-pagination__page tm-pagination__page_current\">\\n                1\\n               </span>\\n               <div class=\"tm-pagination__page-group\">\\n                <a class=\"tm-pagination__page\" href=\"/ru/all/page2/\">\\n                 2\\n                </a>\\n                <a class=\"tm-pagination__page\" href=\"/ru/all/page3/\">\\n                 3\\n                </a>\\n                <span class=\"tm-pagination__page tm-pagination__page_skip\">\\n                 ...\\n                </span>\\n               </div>\\n               <div class=\"tm-pagination__page-group\">\\n                <a class=\"tm-pagination__page\" href=\"/ru/all/page49/\">\\n                 49\\n                </a>\\n                <a class=\"tm-pagination__page\" href=\"/ru/all/page50/\">\\n                 50\\n                </a>\\n                <!-- -->\\n               </div>\\n              </div>\\n              <a class=\"tm-pagination__navigation-link tm-pagination__navigation-link_active\" data-pagination-next=\"\" href=\"/ru/all/page2/\" id=\"pagination-next-page\" rel=\"next\">\\n               <span class=\"tm-pagination__navigation-link-title\">\\n                Туда\\n               </span>\\n               <svg class=\"tm-svg-img tm-pagination__arrow tm-pagination__arrow_next\" height=\"16\" width=\"16\">\\n                <title>\\n                 Назад\\n                </title>\\n                <use xlink:href=\"/img/megazord-v24.cee85629.svg#arrow-back\">\\n                </use>\\n               </svg>\\n              </a>\\n             </div>\\n            </div>\\n           </div>\\n          </div>\\n         </div>\\n         <div class=\"tm-page__sidebar\">\\n          <div class=\"tm-layout-sidebar\" data-async-called=\"true\">\\n           <div class=\"tm-layout-sidebar__ads tm-layout-sidebar__ads_initial\">\\n            <div class=\"tm-ad-banner__container tm-layout-sidebar__banner\">\\n             <!-- -->\\n             <div class=\"tm-ad-banner\" id=\"sidebarBanner\">\\n             </div>\\n            </div>\\n           </div>\\n           <div class=\"tm-sexy-sidebar tm-sexy-sidebar_initial\" style=\"margin-top:0px;\">\\n            <section class=\"tm-block tm-block_spacing-bottom\">\\n             <header class=\"tm-block__header\">\\n              <h2 class=\"tm-block__title\">\\n               Лучшие блоги\\n              </h2>\\n              <!-- -->\\n             </header>\\n             <div class=\"tm-block__body\">\\n              <div class=\"tm-companies-rating\">\\n               <a class=\"tm-companies-rating__item\" href=\"/ru/company/ruvds/blog/\">\\n                <div class=\"tm-entity-image tm-companies-rating__avatar\">\\n                 <img alt=\"\" class=\"tm-entity-image__pic\" height=\"36\" src=\"//habrastorage.org/getpro/habr/company/f27/ea8/5bd/f27ea85bd62fbd985c308110885af7e0.png\" width=\"36\"/>\\n                </div>\\n                <span class=\"tm-companies-rating__name\">\\n                 RUVDS.com\\n                </span>\\n                <span class=\"tm-companies-rating__rating\">\\n                 3388.02\\n                </span>\\n               </a>\\n               <a class=\"tm-companies-rating__item\" href=\"/ru/company/selectel/blog/\">\\n                <div class=\"tm-entity-image tm-companies-rating__avatar\">\\n                 <img alt=\"\" class=\"tm-entity-image__pic\" height=\"36\" src=\"//habrastorage.org/getpro/habr/company/66a/f7d/039/66af7d03979b6d18654293d8f1e72837.png\" width=\"36\"/>\\n                </div>\\n                <span class=\"tm-companies-rating__name\">\\n                 Selectel\\n                </span>\\n                <span class=\"tm-companies-rating__rating\">\\n                 1388.17\\n                </span>\\n               </a>\\n               <a class=\"tm-companies-rating__item\" href=\"/ru/company/timeweb/blog/\">\\n                <div class=\"tm-entity-image tm-companies-rating__avatar\">\\n                 <img alt=\"\" class=\"tm-entity-image__pic\" height=\"36\" src=\"//habrastorage.org/getpro/habr/company/b5b/7e1/c48/b5b7e1c4819388606f1a3c7ed1d2373a.jpg\" width=\"36\"/>\\n                </div>\\n                <span class=\"tm-companies-rating__name\">\\n                 Timeweb\\n                </span>\\n                <span class=\"tm-companies-rating__rating\">\\n                 952.36\\n                </span>\\n               </a>\\n               <a class=\"tm-companies-rating__item\" href=\"/ru/company/yandex/blog/\">\\n                <div class=\"tm-entity-image tm-companies-rating__avatar\">\\n                 <img alt=\"\" class=\"tm-entity-image__pic\" height=\"36\" src=\"//habrastorage.org/getpro/habr/company/b02/d9b/1d4/b02d9b1d4a6e64ff069e2ab32fdedae2.png\" width=\"36\"/>\\n                </div>\\n                <span class=\"tm-companies-rating__name\">\\n                 Яндекс\\n                </span>\\n                <span class=\"tm-companies-rating__rating\">\\n                 708.58\\n                </span>\\n               </a>\\n               <a class=\"tm-companies-rating__item\" href=\"/ru/company/domclick/blog/\">\\n                <div class=\"tm-entity-image tm-companies-rating__avatar\">\\n                 <img alt=\"\" class=\"tm-entity-image__pic\" height=\"36\" src=\"//habrastorage.org/getpro/habr/company/d28/115/f55/d28115f5503229d4f9018292fabd1840.jpg\" width=\"36\"/>\\n                </div>\\n                <span class=\"tm-companies-rating__name\">\\n                 Домклик\\n                </span>\\n                <span class=\"tm-companies-rating__rating\">\\n                 657.81\\n                </span>\\n               </a>\\n               <a class=\"tm-companies-rating__item\" href=\"/ru/company/lamptest/blog/\">\\n                <div class=\"tm-entity-image tm-companies-rating__avatar\">\\n                 <img alt=\"\" class=\"tm-entity-image__pic\" height=\"36\" src=\"//habrastorage.org/getpro/geektimes/company/faa/8f3/29f/faa8f329f54ab8821c7f2d1459ec2bda.jpg\" width=\"36\"/>\\n                </div>\\n                <span class=\"tm-companies-rating__name\">\\n                 LampTest\\n                </span>\\n                <span class=\"tm-companies-rating__rating\">\\n                 646.77\\n                </span>\\n               </a>\\n               <a class=\"tm-companies-rating__item\" href=\"/ru/company/croc/blog/\">\\n                <div class=\"tm-entity-image tm-companies-rating__avatar\">\\n                 <img alt=\"\" class=\"tm-entity-image__pic\" height=\"36\" src=\"//habrastorage.org/getpro/habr/company/5b6/5b7/955/5b65b7955dca146a7fa4bda37463bc04.png\" width=\"36\"/>\\n                </div>\\n                <span class=\"tm-companies-rating__name\">\\n                 КРОК\\n                </span>\\n                <span class=\"tm-companies-rating__rating\">\\n                 436.24\\n                </span>\\n               </a>\\n               <a class=\"tm-companies-rating__item\" href=\"/ru/company/habr/blog/\">\\n                <div class=\"tm-entity-image tm-companies-rating__avatar\">\\n                 <img alt=\"\" class=\"tm-entity-image__pic\" height=\"36\" src=\"//habrastorage.org/getpro/habr/company/7e4/7b8/e31/7e47b8e31d0efe9f398461278a16a357.png\" width=\"36\"/>\\n                </div>\\n                <span class=\"tm-companies-rating__name\">\\n                 Хабр\\n                </span>\\n                <span class=\"tm-companies-rating__rating\">\\n                 435.92\\n                </span>\\n               </a>\\n               <a class=\"tm-companies-rating__item\" href=\"/ru/company/itsoft/blog/\">\\n                <div class=\"tm-entity-image tm-companies-rating__avatar\">\\n                 <img alt=\"\" class=\"tm-entity-image__pic\" height=\"36\" src=\"//habrastorage.org/getpro/habr/company/f48/d46/029/f48d460297f1a9fe1a9e3e0a1e7aedc9.png\" width=\"36\"/>\\n                </div>\\n                <span class=\"tm-companies-rating__name\">\\n                 ITSOFT\\n                </span>\\n                <span class=\"tm-companies-rating__rating\">\\n                 358.63\\n                </span>\\n               </a>\\n               <a class=\"tm-companies-rating__item\" href=\"/ru/company/qrator/blog/\">\\n                <div class=\"tm-entity-image tm-companies-rating__avatar\">\\n                 <svg class=\"tm-svg-img tm-image-placeholder tm-image-placeholder_pink\" height=\"36\" width=\"36\">\\n                  <!-- -->\\n                  <use xlink:href=\"/img/megazord-v24.cee85629.svg#placeholder-company\">\\n                  </use>\\n                 </svg>\\n                </div>\\n                <span class=\"tm-companies-rating__name\">\\n                 Qrator Labs\\n                </span>\\n                <span class=\"tm-companies-rating__rating\">\\n                 347.93\\n                </span>\\n               </a>\\n              </div>\\n             </div>\\n             <footer class=\"tm-block__footer\">\\n              <a class=\"tm-block-extralink\" href=\"/ru/companies/\">\\n               Все компании\\n              </a>\\n             </footer>\\n            </section>\\n            <!-- -->\\n           </div>\\n          </div>\\n         </div>\\n        </div>\\n       </div>\\n      </div>\\n     </main>\\n     <!-- -->\\n    </div>\\n    <div class=\"tm-footer-menu\">\\n     <div class=\"tm-page-width\">\\n      <div class=\"tm-footer-menu__container\">\\n       <div class=\"tm-footer-menu__block\">\\n        <h3 class=\"tm-footer-menu__block-title\">\\n         Ваш аккаунт\\n        </h3>\\n        <div class=\"tm-footer-menu__block-content\">\\n         <ul class=\"tm-footer-menu__list\">\\n          <li class=\"tm-footer-menu__list-item\">\\n           <a href=\"/kek/v1/auth/habrahabr/?back=/ru/all/&amp;hl=ru\" rel=\"nofollow\" target=\"_self\">\\n            Войти\\n           </a>\\n          </li>\\n          <li class=\"tm-footer-menu__list-item\">\\n           <a href=\"/kek/v1/auth/habrahabr-register/?back=/ru/all/&amp;hl=ru\" rel=\"nofollow\" target=\"_self\">\\n            Регистрация\\n           </a>\\n          </li>\\n         </ul>\\n        </div>\\n       </div>\\n       <div class=\"tm-footer-menu__block\">\\n        <h3 class=\"tm-footer-menu__block-title\">\\n         Разделы\\n        </h3>\\n        <div class=\"tm-footer-menu__block-content\">\\n         <ul class=\"tm-footer-menu__list\">\\n          <li class=\"tm-footer-menu__list-item\">\\n           <a class=\"footer-menu__item-link router-link-active\" href=\"/ru/\">\\n            Публикации\\n           </a>\\n          </li>\\n          <li class=\"tm-footer-menu__list-item\">\\n           <a class=\"footer-menu__item-link\" href=\"/ru/news/\">\\n            Новости\\n           </a>\\n          </li>\\n          <li class=\"tm-footer-menu__list-item\">\\n           <a class=\"footer-menu__item-link\" href=\"/ru/hubs/\">\\n            Хабы\\n           </a>\\n          </li>\\n          <li class=\"tm-footer-menu__list-item\">\\n           <a class=\"footer-menu__item-link\" href=\"/ru/companies/\">\\n            Компании\\n           </a>\\n          </li>\\n          <li class=\"tm-footer-menu__list-item\">\\n           <a class=\"footer-menu__item-link\" href=\"/ru/users/\">\\n            Авторы\\n           </a>\\n          </li>\\n          <li class=\"tm-footer-menu__list-item\">\\n           <a class=\"footer-menu__item-link\" href=\"/ru/sandbox/\">\\n            Песочница\\n           </a>\\n          </li>\\n         </ul>\\n        </div>\\n       </div>\\n       <div class=\"tm-footer-menu__block\">\\n        <h3 class=\"tm-footer-menu__block-title\">\\n         Информация\\n        </h3>\\n        <div class=\"tm-footer-menu__block-content\">\\n         <ul class=\"tm-footer-menu__list\">\\n          <li class=\"tm-footer-menu__list-item\">\\n           <a class=\"footer-menu__item-link\" href=\"/ru/docs/help/\">\\n            Устройство сайта\\n           </a>\\n          </li>\\n          <li class=\"tm-footer-menu__list-item\">\\n           <a class=\"footer-menu__item-link\" href=\"/ru/docs/authors/codex/\">\\n            Для авторов\\n           </a>\\n          </li>\\n          <li class=\"tm-footer-menu__list-item\">\\n           <a class=\"footer-menu__item-link\" href=\"/ru/docs/companies/corpblogs/\">\\n            Для компаний\\n           </a>\\n          </li>\\n          <li class=\"tm-footer-menu__list-item\">\\n           <a class=\"footer-menu__item-link\" href=\"/ru/docs/docs/transparency/\">\\n            Документы\\n           </a>\\n          </li>\\n          <li class=\"tm-footer-menu__list-item\">\\n           <a href=\"https://account.habr.com/info/agreement\" target=\"_blank\">\\n            Соглашение\\n           </a>\\n          </li>\\n          <li class=\"tm-footer-menu__list-item\">\\n           <a href=\"https://account.habr.com/info/confidential/\" target=\"_blank\">\\n            Конфиденциальность\\n           </a>\\n          </li>\\n         </ul>\\n        </div>\\n       </div>\\n       <div class=\"tm-footer-menu__block\">\\n        <h3 class=\"tm-footer-menu__block-title\">\\n         Услуги\\n        </h3>\\n        <div class=\"tm-footer-menu__block-content\">\\n         <ul class=\"tm-footer-menu__list\">\\n          <li class=\"tm-footer-menu__list-item\">\\n           <a href=\"https://docs.google.com/presentation/d/e/2PACX-1vQLwRfQmXibiUlWaRg-BAc38s7oM3lJiaPju7qmdJsp8ysIvZ_G-Npem0njJLMozE2bPHMpDqiI5hhy/pub?start=false&amp;loop=false&amp;delayms=60000&amp;slide=id.g91a03369cd_4_297\" target=\"_blank\">\\n            Реклама\\n           </a>\\n          </li>\\n          <li class=\"tm-footer-menu__list-item\">\\n           <a href=\"https://habrastorage.org/storage/stuff/habr/service_price.pdf\" target=\"_blank\">\\n            Тарифы\\n           </a>\\n          </li>\\n          <li class=\"tm-footer-menu__list-item\">\\n           <a href=\"https://docs.google.com/presentation/d/e/2PACX-1vQJJds8-Di7BQSP_guHxICN7woVYoN5NP_22ra-BIo4bqnTT9FR6fB-Ku2P0AoRpX0Ds-LRkDeAoD8F/pub?start=false&amp;loop=false&amp;delayms=60000\" target=\"_blank\">\\n            Контент\\n           </a>\\n          </li>\\n          <li class=\"tm-footer-menu__list-item\">\\n           <a href=\"https://tmtm.timepad.ru/\" target=\"_blank\">\\n            Семинары\\n           </a>\\n          </li>\\n          <li class=\"tm-footer-menu__list-item\">\\n           <a class=\"footer-menu__item-link\" href=\"/ru/megaprojects/\">\\n            Мегапроекты\\n           </a>\\n          </li>\\n         </ul>\\n        </div>\\n       </div>\\n      </div>\\n     </div>\\n    </div>\\n    <div class=\"tm-footer\">\\n     <div class=\"tm-page-width\">\\n      <div class=\"tm-footer__container\">\\n       <!-- -->\\n       <div class=\"tm-footer__social\">\\n        <a class=\"tm-svg-icon__wrapper tm-social-icons__icon\" href=\"https://www.facebook.com/habrahabr.ru\" rel=\"nofollow noopener noreferrer\" target=\"_blank\">\\n         <svg class=\"tm-svg-img tm-svg-icon\" height=\"16\" width=\"16\">\\n          <title>\\n           Facebook\\n          </title>\\n          <use xlink:href=\"/img/social-icons-sprite.svg#social-logo-facebook\">\\n          </use>\\n         </svg>\\n        </a>\\n        <a class=\"tm-svg-icon__wrapper tm-social-icons__icon\" href=\"https://twitter.com/habr_com\" rel=\"nofollow noopener noreferrer\" target=\"_blank\">\\n         <svg class=\"tm-svg-img tm-svg-icon\" height=\"16\" width=\"16\">\\n          <title>\\n           Twitter\\n          </title>\\n          <use xlink:href=\"/img/social-icons-sprite.svg#social-logo-twitter\">\\n          </use>\\n         </svg>\\n        </a>\\n        <a class=\"tm-svg-icon__wrapper tm-social-icons__icon\" href=\"https://vk.com/habr\" rel=\"nofollow noopener noreferrer\" target=\"_blank\">\\n         <svg class=\"tm-svg-img tm-svg-icon\" height=\"16\" width=\"16\">\\n          <title>\\n           VK\\n          </title>\\n          <use xlink:href=\"/img/social-icons-sprite.svg#social-logo-vkontakte\">\\n          </use>\\n         </svg>\\n        </a>\\n        <a class=\"tm-svg-icon__wrapper tm-social-icons__icon\" href=\"https://telegram.me/habr_com\" rel=\"nofollow noopener noreferrer\" target=\"_blank\">\\n         <svg class=\"tm-svg-img tm-svg-icon\" height=\"16\" width=\"16\">\\n          <title>\\n           Telegram\\n          </title>\\n          <use xlink:href=\"/img/social-icons-sprite.svg#social-logo-telegram\">\\n          </use>\\n         </svg>\\n        </a>\\n        <a class=\"tm-svg-icon__wrapper tm-social-icons__icon\" href=\"https://www.youtube.com/channel/UCd_sTwKqVrweTt4oAKY5y4w\" rel=\"nofollow noopener noreferrer\" target=\"_blank\">\\n         <svg class=\"tm-svg-img tm-svg-icon\" height=\"16\" width=\"16\">\\n          <title>\\n           Youtube\\n          </title>\\n          <use xlink:href=\"/img/social-icons-sprite.svg#social-logo-youtube\">\\n          </use>\\n         </svg>\\n        </a>\\n        <a class=\"tm-svg-icon__wrapper tm-social-icons__icon\" href=\"https://zen.yandex.ru/habr\" rel=\"nofollow noopener noreferrer\" target=\"_blank\">\\n         <svg class=\"tm-svg-img tm-svg-icon\" height=\"16\" width=\"16\">\\n          <title>\\n           Яндекс Дзен\\n          </title>\\n          <use xlink:href=\"/img/social-icons-sprite.svg#social-logo-zen\">\\n          </use>\\n         </svg>\\n        </a>\\n       </div>\\n       <div class=\"v-portal\" style=\"display:none;\">\\n       </div>\\n       <button class=\"tm-footer__link\">\\n        <!-- -->\\n        Настройка языка\\n       </button>\\n       <a class=\"tm-footer__link\" href=\"/ru/about\">\\n        О сайте\\n       </a>\\n       <a class=\"tm-footer__link\" href=\"/ru/feedback/\">\\n        Техническая поддержка\\n       </a>\\n       <!-- -->\\n       <a class=\"tm-footer__link\" href=\"/berserk-mode-nope\">\\n        Вернуться на старую версию\\n       </a>\\n       <div class=\"tm-footer-copyright\">\\n        <span class=\"tm-copyright\">\\n         <span class=\"tm-copyright__years\">\\n          © 2006–2021\\n         </span>\\n         <span class=\"tm-copyright__name\">\\n          «\\n          <a class=\"tm-copyright__link\" href=\"https://company.habr.com/\" rel=\"noopener\" target=\"_blank\">\\n           Habr\\n          </a>\\n          »\\n         </span>\\n        </span>\\n       </div>\\n      </div>\\n     </div>\\n    </div>\\n    <!-- -->\\n    <!-- -->\\n   </div>\\n   <div class=\"vue-portal-target\">\\n   </div>\\n  </div>\\n  <script>\\n   window.__INITIAL_STATE__={\"adblock\":{\"hasAcceptableAdsFilter\":false,\"hasAdblock\":false},\"articlesList\":{\"articlesList\":{\"573666\":{\"id\":\"573666\",\"timePublished\":\"2021-10-05T08:01:19+00:00\",\"isCorporative\":false,\"lang\":\"ru\",\"titleHtml\":\"Кадрим девчонок с помощью метрики Эллиса-Бронникова\",\"editorVersion\":\"2.0\",\"postType\":\"article\",\"postLabels\":[{\"type\":\"tutorial\",\"data\":null}],\"author\":{\"id\":\"1832999\",\"alias\":\"Yermack\",\"fullname\":null,\"avatarUrl\":\"\\\\u002F\\\\u002Fhabrastorage.org\\\\u002Fgetpro\\\\u002Fhabr\\\\u002Favatars\\\\u002F690\\\\u002F140\\\\u002F823\\\\u002F690140823f555d03574a59d46f648d24.jpg\",\"speciality\":\"Пользователь\"},\"statistics\":{\"commentsCount\":0,\"favoritesCount\":0,\"readingCount\":576,\"score\":1,\"votesCount\":1},\"hubs\":[{\"relatedData\":null,\"id\":\"18840\",\"alias\":\"julia\",\"type\":\"collective\",\"title\":\"Julia\",\"titleHtml\":\"Julia\",\"isProfiled\":true},{\"relatedData\":null,\"id\":\"21910\",\"alias\":\"popular_science\",\"type\":\"collective\",\"title\":\"Научно-популярное\",\"titleHtml\":\"Научно-популярное\",\"isProfiled\":false},{\"relatedData\":null,\"id\":\"21968\",\"alias\":\"physics\",\"type\":\"collective\",\"title\":\"Физика\",\"titleHtml\":\"Физика\",\"isProfiled\":false},{\"relatedData\":null,\"id\":\"22022\",\"alias\":\"astronomy\",\"type\":\"collective\",\"title\":\"Астрономия\",\"titleHtml\":\"Астрономия\",\"isProfiled\":false}],\"flows\":[{\"id\":\"1\",\"alias\":\"develop\",\"title\":\"Разработка\"},{\"id\":\"7\",\"alias\":\"popsci\",\"title\":\"Научпоп\"}],\"relatedData\":null,\"leadData\":{\"textHtml\":\"\\\\u003Cp\\\\u003EНичто так не вызывает интерес у противоположного пола, как страстные разъяснения физики кротовых нор.\\\\u003C\\\\u002Fp\\\\u003E\",\"imageUrl\":\"https:\\\\u002F\\\\u002Fhabrastorage.org\\\\u002Fgetpro\\\\u002Fhabr\\\\u002Fupload_files\\\\u002Fc13\\\\u002Fb94\\\\u002F579\\\\u002Fc13b94579498fcfa64a83dc2994ca55d.png\",\"buttonTextHtml\":\"Читать далее\",\"image\":{\"url\":\"https:\\\\u002F\\\\u002Fhabrastorage.org\\\\u002Fgetpro\\\\u002Fhabr\\\\u002Fupload_files\\\\u002Fc13\\\\u002Fb94\\\\u002F579\\\\u002Fc13b94579498fcfa64a83dc2994ca55d.png\",\"fit\":\"cover\",\"positionY\":0,\"positionX\":0}},\"status\":\"published\",\"plannedPublishTime\":null,\"checked\":null,\"tags\":[{\"titleHtml\":\"червоточины\"},{\"titleHtml\":\"черные дыры\"},{\"titleHtml\":\"теория относительности\"},{\"titleHtml\":\"интерстеллар\"},{\"titleHtml\":\"спасибо scihub\"},{\"titleHtml\":\"черви рэперы секут метрику\"}]},\"576612\":{\"id\":\"576612\",\"timePublished\":\"2021-10-05T08:00:56+00:00\",\"isCorporative\":true,\"lang\":\"ru\",\"titleHtml\":\"Как мы проверили качество распознавания речи у Яндекса, Гугла, Тинькофф, Amazon и др\",\"editorVersion\":\"2.0\",\"postType\":\"article\",\"postLabels\":[],\"author\":{\"id\":\"827827\",\"alias\":\"stanislav_as\",\"fullname\":\"Станислав Ашманов\",\"avatarUrl\":\"\\\\u002F\\\\u002Fhabrastorage.org\\\\u002Fgetpro\\\\u002Fhabr\\\\u002Favatars\\\\u002F61d\\\\u002F904\\\\u002Fa4b\\\\u002F61d904a4b01af378058e1226d267546b.jpg\",\"speciality\":\"Data Scientist\"},\"statistics\":{\"commentsCount\":0,\"favoritesCount\":0,\"readingCount\":258,\"score\":0,\"votesCount\":0},\"hubs\":[{\"relatedData\":null,\"id\":\"21078\",\"alias\":\"ashmanov_net\",\"type\":\"corporative\",\"title\":\"Блог компании Наносемантика\",\"titleHtml\":\"Блог компании Наносемантика\",\"isProfiled\":false},{\"relatedData\":null,\"id\":\"19439\",\"alias\":\"machine_learning\",\"type\":\"collective\",\"title\":\"Машинное обучение\",\"titleHtml\":\"Машинное обучение\",\"isProfiled\":true},{\"relatedData\":null,\"id\":\"21922\",\"alias\":\"artificial_intelligence\",\"type\":\"collective\",\"title\":\"Искусственный интеллект\",\"titleHtml\":\"Искусственный интеллект\",\"isProfiled\":false},{\"relatedData\":null,\"id\":\"21988\",\"alias\":\"sound\",\"type\":\"collective\",\"title\":\"Звук\",\"titleHtml\":\"Звук\",\"isProfiled\":false},{\"relatedData\":null,\"id\":\"22319\",\"alias\":\"voice_interfaces\",\"type\":\"collective\",\"title\":\"Голосовые интерфейсы\",\"titleHtml\":\"Голосовые интерфейсы\",\"isProfiled\":false}],\"flows\":[{\"id\":\"1\",\"alias\":\"develop\",\"title\":\"Разработка\"},{\"id\":\"2\",\"alias\":\"design\",\"title\":\"Дизайн\"},{\"id\":\"7\",\"alias\":\"popsci\",\"title\":\"Научпоп\"}],\"relatedData\":null,\"leadData\":{\"textHtml\":\"\\\\u003Cp\\\\u003EВсем привет! Я руковожу «\\\\u003Ca href=\\\\\"http:\\\\u002F\\\\u002Fnanosemantics.ai\\\\u002F?utm_source=habr&amp;utm_medium=article&amp;utm_campaign=bench&amp;utm_content=link\\\\\"\\\\u003EНаносемантикой\\\\u003C\\\\u002Fa\\\\u003E», сегодня хотел бы поделиться с вами результатами нашего сравнения сервисов распознавания речи (ASR). Мы собрали и разметили тестовый датасет на русском языке, прогнали через сервисы ASR, проанализировали результаты работы разных вендоров, собрали основные выводы.\\\\u003C\\\\u002Fp\\\\u003E\\\\u003Cp\\\\u003EПолучилось интересно, подробности в статье.\\\\u003C\\\\u002Fp\\\\u003E\",\"imageUrl\":\"https:\\\\u002F\\\\u002Fhabrastorage.org\\\\u002Fgetpro\\\\u002Fhabr\\\\u002Fupload_files\\\\u002F87f\\\\u002Fe8c\\\\u002F0e7\\\\u002F87fe8c0e7bd4a12384cd126bd8cb5e57.png\",\"buttonTextHtml\":\"Читать далее\",\"image\":{\"url\":\"https:\\\\u002F\\\\u002Fhabrastorage.org\\\\u002Fgetpro\\\\u002Fhabr\\\\u002Fupload_files\\\\u002F87f\\\\u002Fe8c\\\\u002F0e7\\\\u002F87fe8c0e7bd4a12384cd126bd8cb5e57.png\",\"fit\":\"cover\",\"positionY\":0,\"positionX\":0}},\"status\":\"published\",\"plannedPublishTime\":null,\"checked\":null,\"tags\":[{\"titleHtml\":\"распознавание речи\"},{\"titleHtml\":\"asr\"},{\"titleHtml\":\"голосовые интерфейсы\"},{\"titleHtml\":\"машинное+обучение\"},{\"titleHtml\":\"искусственный интеллект\"},{\"titleHtml\":\"бенчмарк\"},{\"titleHtml\":\"речевая аналитика\"}]},\"577154\":{\"id\":\"577154\",\"timePublished\":\"2021-10-05T06:30:02+00:00\",\"isCorporative\":false,\"lang\":\"ru\",\"titleHtml\":\"Заводим трактор: CMake -&gt; QMake\",\"editorVersion\":\"2.0\",\"postType\":\"article\",\"postLabels\":[],\"author\":{\"id\":\"1376242\",\"alias\":\"Xadok\",\"fullname\":null,\"avatarUrl\":\"\",\"speciality\":\"C++ Developer\"},\"statistics\":{\"commentsCount\":1,\"favoritesCount\":4,\"readingCount\":717,\"score\":2,\"votesCount\":6},\"hubs\":[{\"relatedData\":null,\"id\":\"144\",\"alias\":\"open_source\",\"type\":\"collective\",\"title\":\"Open source\",\"titleHtml\":\"Open source\",\"isProfiled\":true},{\"relatedData\":null,\"id\":\"559\",\"alias\":\"cpp\",\"type\":\"collective\",\"title\":\"C++\",\"titleHtml\":\"C++\",\"isProfiled\":true},{\"relatedData\":null,\"id\":\"7330\",\"alias\":\"qt_software\",\"type\":\"collective\",\"title\":\"Qt\",\"titleHtml\":\"Qt\",\"isProfiled\":true}],\"flows\":[{\"id\":\"1\",\"alias\":\"develop\",\"title\":\"Разработка\"}],\"relatedData\":null,\"leadData\":{\"textHtml\":\"\\\\u003Cp\\\\u003EЗаводим трактор: переезжаем с QMake на CMake🚜\\\\u003C\\\\u002Fp\\\\u003E\\\\u003Cp\\\\u003EПо дороге заглянем на улицу \\\\\"Кросс компиляторщиков\\\\\", в сквер \\\\\"Систем сборки\\\\\" и посидим в баре \\\\\"Управления зависимостями\\\\\". Заодно увидим тех, кто использует Qt в embedded linux.\\\\u003C\\\\u002Fp\\\\u003E\",\"imageUrl\":\"https:\\\\u002F\\\\u002Fhabrastorage.org\\\\u002Fgetpro\\\\u002Fhabr\\\\u002Fupload_files\\\\u002F8c2\\\\u002Fd24\\\\u002F86f\\\\u002F8c2d2486f6ccaf1249cfda363e462e2b.jpg\",\"buttonTextHtml\":\"Поехали\",\"image\":{\"url\":\"https:\\\\u002F\\\\u002Fhabrastorage.org\\\\u002Fgetpro\\\\u002Fhabr\\\\u002Fupload_files\\\\u002F8c2\\\\u002Fd24\\\\u002F86f\\\\u002F8c2d2486f6ccaf1249cfda363e462e2b.jpg\",\"fit\":\"cover\",\"positionY\":0,\"positionX\":0}},\"status\":\"published\",\"plannedPublishTime\":null,\"checked\":null,\"tags\":[{\"titleHtml\":\"cmake\"},{\"titleHtml\":\"qmake\"},{\"titleHtml\":\"разработка\"},{\"titleHtml\":\"системы сборки\"}]},\"579086\":{\"id\":\"579086\",\"timePublished\":\"2021-10-04T22:23:37+00:00\",\"isCorporative\":true,\"lang\":\"ru\",\"titleHtml\":\"Цены на электронику вниз не идут: похоже, отрасль попала в «идеальный шторм»\",\"editorVersion\":\"1.0\",\"postType\":\"article\",\"postLabels\":[],\"author\":{\"id\":\"1303252\",\"alias\":\"Belisckner\",\"fullname\":\"Александр\",\"avatarUrl\":\"\\\\u002F\\\\u002Fhabrastorage.org\\\\u002Fgetpro\\\\u002Fhabr\\\\u002Favatars\\\\u002F615\\\\u002Fe00\\\\u002F6c7\\\\u002F615e006c7fa8b7805cfb9a7da16fb0a1.jpg\",\"speciality\":\"QA-engineer\"},\"statistics\":{\"commentsCount\":15,\"favoritesCount\":5,\"readingCount\":5699,\"score\":20,\"votesCount\":22},\"hubs\":[{\"relatedData\":null,\"id\":\"14740\",\"alias\":\"selectel\",\"type\":\"corporative\",\"title\":\"Блог компании Selectel\",\"titleHtml\":\"Блог компании Selectel\",\"isProfiled\":false},{\"relatedData\":null,\"id\":\"20688\",\"alias\":\"research\",\"type\":\"collective\",\"title\":\"Исследования и прогнозы в IT\",\"titleHtml\":\"Исследования и прогнозы в IT\",\"isProfiled\":false},{\"relatedData\":null,\"id\":\"21484\",\"alias\":\"electronics\",\"type\":\"collective\",\"title\":\"Производство и разработка электроники\",\"titleHtml\":\"Производство и разработка электроники\",\"isProfiled\":true},{\"relatedData\":null,\"id\":\"21890\",\"alias\":\"statistics\",\"type\":\"collective\",\"title\":\"Статистика в IT\",\"titleHtml\":\"Статистика в IT\",\"isProfiled\":false},{\"relatedData\":null,\"id\":\"21894\",\"alias\":\"gadgets\",\"type\":\"collective\",\"title\":\"Гаджеты\",\"titleHtml\":\"Гаджеты\",\"isProfiled\":false}],\"flows\":[{\"id\":\"1\",\"alias\":\"develop\",\"title\":\"Разработка\"},{\"id\":\"3\",\"alias\":\"management\",\"title\":\"Менеджмент\"},{\"id\":\"7\",\"alias\":\"popsci\",\"title\":\"Научпоп\"}],\"relatedData\":null,\"leadData\":{\"textHtml\":\"\\\\u003Cdiv style=\\\\\"text-align:center;\\\\\"\\\\u003E\\\\u003Cimg src=\\\\\"https:\\\\u002F\\\\u002Fhabrastorage.org\\\\u002Fgetpro\\\\u002Fhabr\\\\u002Fpost_images\\\\u002F015\\\\u002F19a\\\\u002Fad9\\\\u002F01519aad94c7058d6edfb50da6c349d6.jpg\\\\\"\\\\u003E\\\\u003C\\\\u002Fdiv\\\\u003E\\\\u003Cbr\\\\u003E\\\\r\\\\nНе так давно мы \\\\u003Ca href=\\\\\"https:\\\\u002F\\\\u002Fhabr.com\\\\u002Fru\\\\u002Fcompany\\\\u002Fselectel\\\\u002Fblog\\\\u002F578496\\\\u002F\\\\\"\\\\u003Eпубликовали статью\\\\u003C\\\\u002Fa\\\\u003E, в которой говорилось о довольно оптимистичном прогнозе аналитиков из Trendforce. Они заявили, что есть далеко ненулевая вероятность того, что в IV квартале 2021 года цены на чипы оперативной памяти и SSD начнут резко снижаться. Но, вероятно, в текущих условиях это чрезмерно оптимистичная оценка. \\\\u003Cbr\\\\u003E\\\\r\\\\n\\\\u003Cbr\\\\u003E\\\\r\\\\nБолее того, ситуация указывает как раз на то, что цены будут лишь расти, а отрасль производства электронных компонентов, а также индустрии, связанные с ней, либо уже находятся в «идеальном шторме», либо находятся очень близко к нему. Здесь и сейчас вместе сошлись несколько негативных факторов, которые и по отдельности могут повысить цены на компоненты и электронику, а уж совокупное их действие способно поднять стоимость очень быстро. \\\\u003Cbr\\\\u003E\",\"imageUrl\":null,\"buttonTextHtml\":\"Читать дальше &rarr;\",\"image\":null},\"status\":\"published\",\"plannedPublishTime\":null,\"checked\":null,\"tags\":[{\"titleHtml\":\"дефицит электроники\"},{\"titleHtml\":\"чипы\"},{\"titleHtml\":\"проблемы\"},{\"titleHtml\":\"кризис\"}]},\"580758\":{\"id\":\"580758\",\"timePublished\":\"2021-10-05T07:20:23+00:00\",\"isCorporative\":true,\"lang\":\"ru\",\"titleHtml\":\"4 дня из жизни unix-инженера, хроника разработки скрипта\",\"editorVersion\":\"2.0\",\"postType\":\"article\",\"postLabels\":[],\"author\":{\"id\":\"2719935\",\"alias\":\"Fattakh\",\"fullname\":null,\"avatarUrl\":\"\",\"speciality\":\"\"},\"statistics\":{\"commentsCount\":2,\"favoritesCount\":8,\"readingCount\":578,\"score\":-1,\"votesCount\":3},\"hubs\":[{\"relatedData\":null,\"id\":\"5160\",\"alias\":\"megafon\",\"type\":\"corporative\",\"title\":\"Блог компании МегаФон\",\"titleHtml\":\"Блог компании МегаФон\",\"isProfiled\":false},{\"relatedData\":null,\"id\":\"36\",\"alias\":\"linux\",\"type\":\"collective\",\"title\":\"Настройка Linux\",\"titleHtml\":\"Настройка Linux\",\"isProfiled\":true},{\"relatedData\":null,\"id\":\"221\",\"alias\":\"sys_admin\",\"type\":\"collective\",\"title\":\"Системное администрирование\",\"titleHtml\":\"Системное администрирование\",\"isProfiled\":true},{\"relatedData\":null,\"id\":\"359\",\"alias\":\"programming\",\"type\":\"collective\",\"title\":\"Программирование\",\"titleHtml\":\"Программирование\",\"isProfiled\":true},{\"relatedData\":null,\"id\":\"17350\",\"alias\":\"s_admin\",\"type\":\"collective\",\"title\":\"Серверное администрирование\",\"titleHtml\":\"Серверное администрирование\",\"isProfiled\":true}],\"flows\":[{\"id\":\"1\",\"alias\":\"develop\",\"title\":\"Разработка\"},{\"id\":\"6\",\"alias\":\"admin\",\"title\":\"Администрирование\"}],\"relatedData\":null,\"leadData\":{\"textHtml\":\"\\\\u003Cp\\\\u003EСтатья будет полезна unix-инженерам и владельцам информационных систем, которые сталкиваются в своей работе с нехваткой технических данных о серверной нагрузке за длительный период времени.\\\\u003Cbr\\\\u003EЯ - unix-инженер и расскажу, как мы разрабатывали скрипт по логированию потребления ресурсов сервера процессами, пошагово, в виде фотографии своего рабочего дня. А точнее, четырёх дней: пройдёмся по этапам, начиная с выявления проблемы и заканчивая развертыванием в проде. Параллельно покажу взаимодействие команды на каждом этапе наглядно. Вас ждет скрипт в конце лонгрида)\\\\u003C\\\\u002Fp\\\\u003E\",\"imageUrl\":\"https:\\\\u002F\\\\u002Fhabrastorage.org\\\\u002Fgetpro\\\\u002Fhabr\\\\u002Fupload_files\\\\u002Fabd\\\\u002Fd96\\\\u002F0c4\\\\u002Fabdd960c403538ce9abede70681e33af.png\",\"buttonTextHtml\":\"Итак в путь &gt;&gt;\",\"image\":{\"url\":\"https:\\\\u002F\\\\u002Fhabrastorage.org\\\\u002Fgetpro\\\\u002Fhabr\\\\u002Fupload_files\\\\u002Fabd\\\\u002Fd96\\\\u002F0c4\\\\u002Fabdd960c403538ce9abede70681e33af.png\",\"fit\":\"cover\",\"positionY\":0,\"positionX\":2.0512820512821}},\"status\":\"published\",\"plannedPublishTime\":null,\"checked\":null,\"tags\":[{\"titleHtml\":\"troubleshooting\"},{\"titleHtml\":\"bash-скрипт\"},{\"titleHtml\":\"администрирование linux\"},{\"titleHtml\":\"логирование\"},{\"titleHtml\":\"высоконагруженные системы\"},{\"titleHtml\":\"server\"},{\"titleHtml\":\"диагностика производительности\"},{\"titleHtml\":\"хроника\"},{\"titleHtml\":\"серверное администрирование\"},{\"titleHtml\":\"системное администрирование\"}]},\"581052\":{\"id\":\"581052\",\"timePublished\":\"2021-10-05T07:01:15+00:00\",\"isCorporative\":true,\"lang\":\"ru\",\"titleHtml\":\"Few-shot-learning и другие страшные слова в классификации текстов\",\"editorVersion\":\"2.0\",\"postType\":\"article\",\"postLabels\":[],\"author\":{\"id\":\"1955861\",\"alias\":\"vladbalv\",\"fullname\":\"Владислав Балаев\",\"avatarUrl\":\"\",\"speciality\":\"\"},\"statistics\":{\"commentsCount\":0,\"favoritesCount\":1,\"readingCount\":123,\"score\":3,\"votesCount\":3},\"hubs\":[{\"relatedData\":null,\"id\":\"20920\",\"alias\":\"lanit\",\"type\":\"corporative\",\"title\":\"Блог компании ГК ЛАНИТ\",\"titleHtml\":\"Блог компании ГК ЛАНИТ\",\"isProfiled\":false},{\"relatedData\":null,\"id\":\"19439\",\"alias\":\"machine_learning\",\"type\":\"collective\",\"title\":\"Машинное обучение\",\"titleHtml\":\"Машинное обучение\",\"isProfiled\":true},{\"relatedData\":null,\"id\":\"21922\",\"alias\":\"artificial_intelligence\",\"type\":\"collective\",\"title\":\"Искусственный интеллект\",\"titleHtml\":\"Искусственный интеллект\",\"isProfiled\":false}],\"flows\":[{\"id\":\"1\",\"alias\":\"develop\",\"title\":\"Разработка\"},{\"id\":\"7\",\"alias\":\"popsci\",\"title\":\"Научпоп\"}],\"relatedData\":null,\"leadData\":{\"textHtml\":\"\\\\u003Cp\\\\u003E\\\\u003Cem\\\\u003E“Не значил он анапеста от анапеста,&nbsp;\\\\u003C\\\\u002Fem\\\\u003E\\\\u003C\\\\u002Fp\\\\u003E\\\\u003Cp\\\\u003E\\\\u003Cem\\\\u003Eкак мы ни колотились отличить.”\\\\u003C\\\\u002Fem\\\\u003E\\\\u003C\\\\u002Fp\\\\u003E\\\\u003Cp\\\\u003Enevmenandr (https:\\\\u002F\\\\u002Fgithub.com\\\\u002Fnevmenandr)\\\\u003C\\\\u002Fp\\\\u003E\\\\u003Cp\\\\u003EВ настоящий момент количество курсов, на которых вы сможете получить знания, необходимые для трудоустройства по специальности «Аналитик данных» (Data Scientist, ML Engineer), растет и растет. И это замечательно. Но количество информации, которую требуется усвоить, просто зашкаливает и, даже уже работая в этой области, постоянно удивляешься, сколь многое ты еще не знаешь. Скорость появления новых словосочетаний в DS-специальностях тоже крайне высокая, но за многими страшными словосочетаниями может прятаться совершенно простой смысл. Кроме того, часто подход к задаче следующий: сначала навесить на нее некоторый ярлык - например, object detection и копать в этом направлении. И это правильный и эффективный подход. Оказывается, что иногда несколько подходов с разными названиями могут решать одну и ту же задачу. Недавно в работе Центра компетенции больших данных и искусственного интеллекта ЛАНИТ (ЦК ДАТА), мы столкнулись с одной задачей по классификации текстов, на которой мне захотелось такой эффект продемонстрировать.&nbsp;\\\\u003C\\\\u002Fp\\\\u003E\",\"imageUrl\":\"https:\\\\u002F\\\\u002Fhabrastorage.org\\\\u002Fgetpro\\\\u002Fhabr\\\\u002Fupload_files\\\\u002F10a\\\\u002F227\\\\u002F4f0\\\\u002F10a2274f0295b3e021d9648807f46c6c.png\",\"buttonTextHtml\":\"Читать далее\",\"image\":{\"url\":\"https:\\\\u002F\\\\u002Fhabrastorage.org\\\\u002Fgetpro\\\\u002Fhabr\\\\u002Fupload_files\\\\u002F10a\\\\u002F227\\\\u002F4f0\\\\u002F10a2274f0295b3e021d9648807f46c6c.png\",\"fit\":\"cover\",\"positionY\":43.636363636364,\"positionX\":3.4615384615385}},\"status\":\"published\",\"plannedPublishTime\":null,\"checked\":null,\"tags\":[{\"titleHtml\":\"cleverdata\"},{\"titleHtml\":\"ланит\"},{\"titleHtml\":\"Few-shot-learning\"},{\"titleHtml\":\"классификация текстов\"}]},\"581224\":{\"id\":\"581224\",\"timePublished\":\"2021-10-05T07:10:01+00:00\",\"isCorporative\":true,\"lang\":\"ru\",\"titleHtml\":\"Книга «ASP.NET Core в действии» в правильном переводе команды DotNetRu\",\"editorVersion\":\"2.0\",\"postType\":\"article\",\"postLabels\":[],\"author\":{\"id\":\"59299\",\"alias\":\"m_a_d\",\"fullname\":\"Алексей Мерсон\",\"avatarUrl\":\"\\\\u002F\\\\u002Fhabrastorage.org\\\\u002Fgetpro\\\\u002Fhabr\\\\u002Favatars\\\\u002F5e8\\\\u002F0f3\\\\u002F081\\\\u002F5e80f3081d2961b93b15ee727128c19d.png\",\"speciality\":\"Solutions Architect\"},\"statistics\":{\"commentsCount\":3,\"favoritesCount\":5,\"readingCount\":635,\"score\":5,\"votesCount\":5},\"hubs\":[{\"relatedData\":null,\"id\":\"18226\",\"alias\":\"jugru\",\"type\":\"corporative\",\"title\":\"Блог компании JUG Ru Group\",\"titleHtml\":\"Блог компании JUG Ru Group\",\"isProfiled\":false},{\"relatedData\":null,\"id\":\"546\",\"alias\":\"net\",\"type\":\"collective\",\"title\":\".NET\",\"titleHtml\":\".NET\",\"isProfiled\":true},{\"relatedData\":null,\"id\":\"17718\",\"alias\":\"csharp\",\"type\":\"collective\",\"title\":\"C#\",\"titleHtml\":\"C#\",\"isProfiled\":true}],\"flows\":[{\"id\":\"1\",\"alias\":\"develop\",\"title\":\"Разработка\"}],\"relatedData\":null,\"leadData\":{\"textHtml\":\"\\\\u003Cp\\\\u003EПолтора года назад мы \\\\u003Ca href=\\\\\"https:\\\\u002F\\\\u002Fhabr.com\\\\u002Fru\\\\u002Fcompany\\\\u002Fjugru\\\\u002Fblog\\\\u002F498932\\\\u002F\\\\\"\\\\u003E\\\\u003Cu\\\\u003Eрассказывали\\\\u003C\\\\u002Fu\\\\u003E\\\\u003C\\\\u002Fa\\\\u003E про опыт совместной работы нашего сообщества \\\\u003Cstrong\\\\u003E\\\\u003Ca href=\\\\\"https:\\\\u002F\\\\u002Fdotnet.ru\\\\u002F\\\\\"\\\\u003E\\\\u003Cu\\\\u003EDotNetRu\\\\u003C\\\\u002Fu\\\\u003E\\\\u003C\\\\u002Fa\\\\u003E\\\\u003C\\\\u002Fstrong\\\\u003E с издательством ДМК Пресс над переводом книги Конрада Кокосы «Управление памятью в .NET для профессионалов». Напомним суть: издатель делал первоначальный перевод, а ребята из сообщества в качестве экспертов доводили текст до ума, пока кровь из глаз не превратилась в слезы счастья. В итоге книга была успешно напечатана и выпущена в продажу, а эксперимент признан успешным.\\\\u003C\\\\u002Fp\\\\u003E\\\\u003Cp\\\\u003EИ сегодня мы рады представить вам наш следующий совместный проект: книга Эндрю Лока \\\\u003Cstrong\\\\u003E«ASP.NET Core в действии»\\\\u003C\\\\u002Fstrong\\\\u003E в правильном переводе DotNetRu. В продолжении поста — впечатления о процессе перевода от непосредственных участников и промокод на скидку от издательства.\\\\u003C\\\\u002Fp\\\\u003E\",\"imageUrl\":\"https:\\\\u002F\\\\u002Fhabrastorage.org\\\\u002Fgetpro\\\\u002Fhabr\\\\u002Fupload_files\\\\u002Fb26\\\\u002F85c\\\\u002F743\\\\u002Fb2685c74306ebd7bec5aba5f9d39e868.png\",\"buttonTextHtml\":\"Читать далее\",\"image\":{\"url\":\"https:\\\\u002F\\\\u002Fhabrastorage.org\\\\u002Fgetpro\\\\u002Fhabr\\\\u002Fupload_files\\\\u002Fb26\\\\u002F85c\\\\u002F743\\\\u002Fb2685c74306ebd7bec5aba5f9d39e868.png\",\"fit\":\"cover\",\"positionY\":16.363636363636,\"positionX\":9.7435897435897}},\"status\":\"published\",\"plannedPublishTime\":null,\"checked\":null,\"tags\":[{\"titleHtml\":\"dotnetru\"},{\"titleHtml\":\"book\"},{\"titleHtml\":\"aspnetcore\"}]},\"581294\":{\"id\":\"581294\",\"timePublished\":\"2021-10-05T08:00:17+00:00\",\"isCorporative\":true,\"lang\":\"ru\",\"titleHtml\":\"Упрощаем работу в Camunda Modeler с помощью плагинов\",\"editorVersion\":\"2.0\",\"postType\":\"article\",\"postLabels\":[{\"type\":\"tutorial\",\"data\":null}],\"author\":{\"id\":\"2798295\",\"alias\":\"jestr\",\"fullname\":null,\"avatarUrl\":\"\",\"speciality\":\"\"},\"statistics\":{\"commentsCount\":0,\"favoritesCount\":1,\"readingCount\":115,\"score\":11,\"votesCount\":11},\"hubs\":[{\"relatedData\":null,\"id\":\"22422\",\"alias\":\"domclick\",\"type\":\"corporative\",\"title\":\"Блог компании ДомКлик\",\"titleHtml\":\"Блог компании ДомКлик\",\"isProfiled\":false},{\"relatedData\":null,\"id\":\"359\",\"alias\":\"programming\",\"type\":\"collective\",\"title\":\"Программирование\",\"titleHtml\":\"Программирование\",\"isProfiled\":true},{\"relatedData\":null,\"id\":\"375\",\"alias\":\"java\",\"type\":\"collective\",\"title\":\"Java\",\"titleHtml\":\"Java\",\"isProfiled\":true},{\"relatedData\":null,\"id\":\"22518\",\"alias\":\"visual_programming\",\"type\":\"collective\",\"title\":\"Визуальное программирование\",\"titleHtml\":\"Визуальное программирование\",\"isProfiled\":true}],\"flows\":[{\"id\":\"1\",\"alias\":\"develop\",\"title\":\"Разработка\"}],\"relatedData\":null,\"leadData\":{\"textHtml\":\"\\\\u003Cp\\\\u003ECamunda Modeler позволяет довольно легко набросать BPMN-схему процесса, перетащив элементы в рабочую область и соединив их стрелками. Далее дела обстоят немного сложнее: нужно быть очень внимательным, чтобы с первого раза для каждого элемента заполнить необходимые поля в панели свойств и не допустить ни одной ошибки. С этой точки зрения создание исполняемых BPMN-схем напоминает программирование в Блокноте.\\\\u003C\\\\u002Fp\\\\u003E\\\\u003Cp\\\\u003EНапример, очень легко в Script Task написать скрипт на Groovy и забыть указать Script Format. Тогда по умолчанию движок попробует выполнить переданную ему строку как JUEL-код, и вряд ли мы получим ожидаемый результат.\\\\u003C\\\\u002Fp\\\\u003E\\\\u003Cp\\\\u003EБыло бы неплохо иметь что-то вроде подсказок, на какие поля нужно обратить внимание, какое значение вписать, какие флаги отметить, и так далее в соответствии с принятыми в команде практиками. К счастью, Camunda Modeler позволяет расширять функциональность, не форкая всё приложение, а применив плагины, что мы и решили сделать.\\\\u003C\\\\u002Fp\\\\u003E\",\"imageUrl\":\"https:\\\\u002F\\\\u002Fhabrastorage.org\\\\u002Fgetpro\\\\u002Fhabr\\\\u002Fupload_files\\\\u002F6d5\\\\u002F99c\\\\u002F721\\\\u002F6d599c7217ced33711fe3dd7bf373053.png\",\"buttonTextHtml\":\"Читать далее\",\"image\":{\"url\":\"https:\\\\u002F\\\\u002Fhabrastorage.org\\\\u002Fgetpro\\\\u002Fhabr\\\\u002Fupload_files\\\\u002F6d5\\\\u002F99c\\\\u002F721\\\\u002F6d599c7217ced33711fe3dd7bf373053.png\",\"fit\":\"cover\",\"positionY\":60.681818181818,\"positionX\":4.6153846153846}},\"status\":\"published\",\"plannedPublishTime\":null,\"checked\":null,\"tags\":[{\"titleHtml\":\"camunda\"},{\"titleHtml\":\"bpmn 2.0\"},{\"titleHtml\":\"bpmn\"},{\"titleHtml\":\"tutorial\"}]},\"581448\":{\"id\":\"581448\",\"timePublished\":\"2021-10-05T07:30:02+00:00\",\"isCorporative\":false,\"lang\":\"ru\",\"titleHtml\":\"Выгорание в IT — результаты свежего исследования\",\"editorVersion\":\"2.0\",\"postType\":\"article\",\"postLabels\":[{\"type\":\"translation\",\"data\":{\"originalAuthorName\":\"Umer\",\"originalUrl\":\"https:\\\\u002F\\\\u002Fcodeahoy.com\\\\u002F2021\\\\u002F10\\\\u002F01\\\\u002Fsoftware-developer-burn-out-survey\\\\u002F\"}}],\"author\":{\"id\":\"1585037\",\"alias\":\"sahsAGU\",\"fullname\":\"Александр Гуреев\",\"avatarUrl\":\"\\\\u002F\\\\u002Fhabrastorage.org\\\\u002Fgetpro\\\\u002Fhabr\\\\u002Favatars\\\\u002F43c\\\\u002F6c7\\\\u002F0ab\\\\u002F43c6c70ab024d45474e6abe8db797573.jpg\",\"speciality\":\"Автор\"},\"statistics\":{\"commentsCount\":0,\"favoritesCount\":7,\"readingCount\":1071,\"score\":0,\"votesCount\":6},\"hubs\":[{\"relatedData\":null,\"id\":\"359\",\"alias\":\"programming\",\"type\":\"collective\",\"title\":\"Программирование\",\"titleHtml\":\"Программирование\",\"isProfiled\":true},{\"relatedData\":null,\"id\":\"20688\",\"alias\":\"research\",\"type\":\"collective\",\"title\":\"Исследования и прогнозы в IT\",\"titleHtml\":\"Исследования и прогнозы в IT\",\"isProfiled\":false},{\"relatedData\":null,\"id\":\"21926\",\"alias\":\"infographics\",\"type\":\"collective\",\"title\":\"Инфографика\",\"titleHtml\":\"Инфографика\",\"isProfiled\":false},{\"relatedData\":null,\"id\":\"21996\",\"alias\":\"health\",\"type\":\"collective\",\"title\":\"Здоровье\",\"titleHtml\":\"Здоровье\",\"isProfiled\":false},{\"relatedData\":null,\"id\":\"22026\",\"alias\":\"itcompanies\",\"type\":\"collective\",\"title\":\"IT-компании\",\"titleHtml\":\"IT-компании\",\"isProfiled\":false}],\"flows\":[{\"id\":\"1\",\"alias\":\"develop\",\"title\":\"Разработка\"},{\"id\":\"3\",\"alias\":\"management\",\"title\":\"Менеджмент\"},{\"id\":\"7\",\"alias\":\"popsci\",\"title\":\"Научпоп\"}],\"relatedData\":null,\"leadData\":{\"textHtml\":\"\\\\u003Cp\\\\u003EПривет, Хабр. Увидел неплохую англоязычную статью с результатами свежего исследования в секторе IT про выгорание в целом и в период пандемии в частности. Упустив в своем переводе такие подробности оригинала, как \\\\\"Что такое выгорание\\\\\", \\\\\"Что вызывает выгорание\\\\\" и \\\\\"Как избежать выгорания\\\\\" (я уверен, что вы уже видели статьи про это, а если не видели - легко найдете в том числе на хабре), \\\\u003Cstrong\\\\u003Eперейду сразу к цифрам\\\\u003C\\\\u002Fstrong\\\\u003E.\\\\u003C\\\\u002Fp\\\\u003E\",\"imageUrl\":\"https:\\\\u002F\\\\u002Fhabrastorage.org\\\\u002Fgetpro\\\\u002Fhabr\\\\u002Fupload_files\\\\u002F0a8\\\\u002F59e\\\\u002F1de\\\\u002F0a859e1deff20776ba49b12895135bac.png\",\"buttonTextHtml\":\"Читать далее\",\"image\":{\"url\":\"https:\\\\u002F\\\\u002Fhabrastorage.org\\\\u002Fgetpro\\\\u002Fhabr\\\\u002Fupload_files\\\\u002F0a8\\\\u002F59e\\\\u002F1de\\\\u002F0a859e1deff20776ba49b12895135bac.png\",\"fit\":\"cover\",\"positionY\":8.6363636363636,\"positionX\":48.076923076923}},\"status\":\"published\",\"plannedPublishTime\":null,\"checked\":null,\"tags\":[{\"titleHtml\":\"выгорание\"},{\"titleHtml\":\"covid-19\"},{\"titleHtml\":\"исследование\"}]},\"581476\":{\"id\":\"581476\",\"timePublished\":\"2021-10-05T06:00:02+00:00\",\"isCorporative\":true,\"lang\":\"ru\",\"titleHtml\":\"Функциональный подход в Jetpack Compose: каррирование функций\",\"editorVersion\":\"2.0\",\"postType\":\"article\",\"postLabels\":[],\"author\":{\"id\":\"2090603\",\"alias\":\"Surf_Studio\",\"fullname\":null,\"avatarUrl\":\"\\\\u002F\\\\u002Fhabrastorage.org\\\\u002Fgetpro\\\\u002Fhabr\\\\u002Favatars\\\\u002Fffb\\\\u002F239\\\\u002F13d\\\\u002Fffb23913d57ecd841b8eff3cb1c48c4a.png\",\"speciality\":\"\"},\"statistics\":{\"commentsCount\":1,\"favoritesCount\":3,\"readingCount\":344,\"score\":0,\"votesCount\":0},\"hubs\":[{\"relatedData\":null,\"id\":\"22290\",\"alias\":\"surfstudio\",\"type\":\"corporative\",\"title\":\"Блог компании Surf\",\"titleHtml\":\"Блог компании Surf\",\"isProfiled\":false},{\"relatedData\":null,\"id\":\"359\",\"alias\":\"programming\",\"type\":\"collective\",\"title\":\"Программирование\",\"titleHtml\":\"Программирование\",\"isProfiled\":true},{\"relatedData\":null,\"id\":\"6345\",\"alias\":\"mobile_dev\",\"type\":\"collective\",\"title\":\"Разработка мобильных приложений\",\"titleHtml\":\"Разработка мобильных приложений\",\"isProfiled\":true},{\"relatedData\":null,\"id\":\"17107\",\"alias\":\"android_dev\",\"type\":\"collective\",\"title\":\"Разработка под Android\",\"titleHtml\":\"Разработка под Android\",\"isProfiled\":true},{\"relatedData\":null,\"id\":\"17853\",\"alias\":\"funcprog\",\"type\":\"collective\",\"title\":\"Функциональное программирование\",\"titleHtml\":\"Функциональное программирование\",\"isProfiled\":true}],\"flows\":[{\"id\":\"1\",\"alias\":\"develop\",\"title\":\"Разработка\"}],\"relatedData\":null,\"leadData\":{\"textHtml\":\"\\\\u003Cp\\\\u003EСовременные языки программирования всё чаще становятся мультипарадигменными, и Kotlin не исключение. С появлением Jetpack Compose наблюдается уход от ООП&nbsp; в функциональное программирование. Изучая новые средства разработки, такие как Jetpack Compose, давайте вспомним и те, которым уже около 60 лет. А главное — разберёмся, как их можно применить к современным подходам для получения большей эффективности.\\\\u003C\\\\u002Fp\\\\u003E\",\"imageUrl\":\"https:\\\\u002F\\\\u002Fhabrastorage.org\\\\u002Fgetpro\\\\u002Fhabr\\\\u002Fupload_files\\\\u002F83e\\\\u002Ffa6\\\\u002F5cf\\\\u002F83efa65cfa62deb723f7eef4f8a9f8b9.jpg\",\"buttonTextHtml\":\"Читать далее\",\"image\":{\"url\":\"https:\\\\u002F\\\\u002Fhabrastorage.org\\\\u002Fgetpro\\\\u002Fhabr\\\\u002Fupload_files\\\\u002F83e\\\\u002Ffa6\\\\u002F5cf\\\\u002F83efa65cfa62deb723f7eef4f8a9f8b9.jpg\",\"fit\":\"cover\",\"positionY\":0,\"positionX\":0}},\"status\":\"published\",\"plannedPublishTime\":null,\"checked\":null,\"tags\":[{\"titleHtml\":\"ооп\"},{\"titleHtml\":\"функциональное программирование\"},{\"titleHtml\":\"surfstudio\"},{\"titleHtml\":\"программирование\"},{\"titleHtml\":\"мобильная разработка\"},{\"titleHtml\":\"android\"},{\"titleHtml\":\"jetpack compose\"},{\"titleHtml\":\"разработка под android\"},{\"titleHtml\":\"compose\"},{\"titleHtml\":\"jetpack\"}]},\"581524\":{\"id\":\"581524\",\"timePublished\":\"2021-10-05T08:23:27+00:00\",\"isCorporative\":false,\"lang\":\"ru\",\"titleHtml\":\"Что стоит учитывать тем, кто занимается контент-маркетингом и продвижением технологических компаний [интервью]\",\"editorVersion\":\"2.0\",\"postType\":\"article\",\"postLabels\":[],\"author\":{\"id\":\"1865435\",\"alias\":\"glphmedia\",\"fullname\":\"Glyph media\",\"avatarUrl\":\"\\\\u002F\\\\u002Fhabrastorage.org\\\\u002Fgetpro\\\\u002Fhabr\\\\u002Favatars\\\\u002F75a\\\\u002F0d4\\\\u002Fcaf\\\\u002F75a0d4caf525df8ca1a233124c36663e.png\",\"speciality\":\"Помогаем компаниям и говорим о контент-мейкерах\"},\"statistics\":{\"commentsCount\":0,\"favoritesCount\":1,\"readingCount\":4,\"score\":0,\"votesCount\":0},\"hubs\":[{\"relatedData\":null,\"id\":\"20720\",\"alias\":\"contentmarketing\",\"type\":\"collective\",\"title\":\"Контент-маркетинг\",\"titleHtml\":\"Контент-маркетинг\",\"isProfiled\":false}],\"flows\":[{\"id\":\"4\",\"alias\":\"marketing\",\"title\":\"Маркетинг\"},{\"id\":\"7\",\"alias\":\"popsci\",\"title\":\"Научпоп\"}],\"relatedData\":null,\"leadData\":{\"textHtml\":\"\\\\u003Cp\\\\u003EЭто — подкаст о контент-маркетинге и о тех, кто \\\\u003Ca href=\\\\\"https:\\\\u002F\\\\u002Fhabr.com\\\\u002Fcompany\\\\u002Fvsce\\\\u002Fblog\\\\u002F423447\\\\u002F\\\\\" rel=\\\\\"noopener noreferrer nofollow\\\\\"\\\\u003Eпишет\\\\u003C\\\\u002Fa\\\\u003E, \\\\u003Ca href=\\\\\"https:\\\\u002F\\\\u002Fhabr.com\\\\u002Fen\\\\u002Fcompany\\\\u002Fvsce\\\\u002Fblog\\\\u002F428760\\\\u002F\\\\\" rel=\\\\\"noopener noreferrer nofollow\\\\\"\\\\u003Eредактирует\\\\u003C\\\\u002Fa\\\\u003E и \\\\u003Ca href=\\\\\"https:\\\\u002F\\\\u002Fhabr.com\\\\u002Fcompany\\\\u002Fvsce\\\\u002Fblog\\\\u002F432568\\\\u002F\\\\\" rel=\\\\\"noopener noreferrer nofollow\\\\\"\\\\u003Eруководит\\\\u003C\\\\u002Fa\\\\u003E производством материалов о технологиях и бизнесе. Сегодня делимся с вами нашей беседой с Марией Лапук, соосновательницей Vinci Agency.\\\\u003C\\\\u002Fp\\\\u003E\\\\u003Cp\\\\u003EЕе команда специализируется на работе с технологическими компаниями и помогает им продвигать продукты и сервисы. Для этого интервью у нас есть и \\\\u003Ca href=\\\\\"https:\\\\u002F\\\\u002Fyoutu.be\\\\u002FPsVJ-ExiKw0\\\\\" rel=\\\\\"noopener noreferrer nofollow\\\\\"\\\\u003Eвидеоверсия\\\\u003C\\\\u002Fa\\\\u003E, а под катом вы найдете полную текстовую расшифровку.\\\\u003C\\\\u002Fp\\\\u003E\",\"imageUrl\":\"https:\\\\u002F\\\\u002Fhabrastorage.org\\\\u002Fgetpro\\\\u002Fhabr\\\\u002Fupload_files\\\\u002F12d\\\\u002F04b\\\\u002Fedc\\\\u002F12d04bedc8bcd872f49b5a82dee6aa34.png\",\"buttonTextHtml\":\"Читать далее\",\"image\":{\"url\":\"https:\\\\u002F\\\\u002Fhabrastorage.org\\\\u002Fgetpro\\\\u002Fhabr\\\\u002Fupload_files\\\\u002F12d\\\\u002F04b\\\\u002Fedc\\\\u002F12d04bedc8bcd872f49b5a82dee6aa34.png\",\"fit\":\"cover\",\"positionY\":85.681818181818,\"positionX\":0.64102564102564}},\"status\":\"published\",\"plannedPublishTime\":null,\"checked\":null,\"tags\":[{\"titleHtml\":\"glyph media\"},{\"titleHtml\":\"vinci agency\"},{\"titleHtml\":\"vinci pr\"},{\"titleHtml\":\"алина тестова\"},{\"titleHtml\":\"мария лапук\"},{\"titleHtml\":\"контент-маркетинг\"},{\"titleHtml\":\"пиар\"}]},\"581544\":{\"id\":\"581544\",\"timePublished\":\"2021-10-05T02:57:53+00:00\",\"isCorporative\":false,\"lang\":\"ru\",\"titleHtml\":\"Windows 11 подойдёт программисту?\",\"editorVersion\":\"2.0\",\"postType\":\"article\",\"postLabels\":[],\"author\":{\"id\":\"2135383\",\"alias\":\"GenPol\",\"fullname\":\"Ген Пол\",\"avatarUrl\":\"\\\\u002F\\\\u002Fhabrastorage.org\\\\u002Fgetpro\\\\u002Fhabr\\\\u002Favatars\\\\u002Fa31\\\\u002F84f\\\\u002F114\\\\u002Fa3184f114b2f5cdd75f4083a013fe056.jpg\",\"speciality\":\"Пользователь\"},\"statistics\":{\"commentsCount\":25,\"favoritesCount\":3,\"readingCount\":6913,\"score\":0,\"votesCount\":16},\"hubs\":[{\"relatedData\":null,\"id\":\"19802\",\"alias\":\"graph_design\",\"type\":\"collective\",\"title\":\"Графический дизайн\",\"titleHtml\":\"Графический дизайн\",\"isProfiled\":true}],\"flows\":[{\"id\":\"2\",\"alias\":\"design\",\"title\":\"Дизайн\"}],\"relatedData\":null,\"leadData\":{\"textHtml\":\"\\\\u003Cp\\\\u003EЧто нового в дизайне вы и так увидите своими глазами! Но вот будут ли новые( или обновлённые) фичи полезны для нас? \\\\u003C\\\\u002Fp\\\\u003E\",\"imageUrl\":\"https:\\\\u002F\\\\u002Fhabrastorage.org\\\\u002Fgetpro\\\\u002Fhabr\\\\u002Fupload_files\\\\u002F2d0\\\\u002F69a\\\\u002Fb57\\\\u002F2d069ab5784c8e83c7e6600efb2f3cd0.jpg\",\"buttonTextHtml\":\"Ну-ка ну-ка!\",\"image\":{\"url\":\"https:\\\\u002F\\\\u002Fhabrastorage.org\\\\u002Fgetpro\\\\u002Fhabr\\\\u002Fupload_files\\\\u002F2d0\\\\u002F69a\\\\u002Fb57\\\\u002F2d069ab5784c8e83c7e6600efb2f3cd0.jpg\",\"fit\":\"cover\",\"positionY\":0,\"positionX\":0}},\"status\":\"published\",\"plannedPublishTime\":null,\"checked\":null,\"tags\":[{\"titleHtml\":\"windows 11\"}]},\"581548\":{\"id\":\"581548\",\"timePublished\":\"2021-10-04T21:24:19+00:00\",\"isCorporative\":false,\"lang\":\"ru\",\"titleHtml\":\"Основы работы с PostgreSQL в Docker\",\"editorVersion\":\"2.0\",\"postType\":\"article\",\"postLabels\":[{\"type\":\"sandbox\",\"data\":null}],\"author\":{\"id\":\"2770151\",\"alias\":\"Andebugan\",\"fullname\":\"Андрей\",\"avatarUrl\":\"\\\\u002F\\\\u002Fhabrastorage.org\\\\u002Fgetpro\\\\u002Fhabr\\\\u002Favatars\\\\u002Fb15\\\\u002F678\\\\u002F50d\\\\u002Fb1567850d9dd8c19285790061d95fa62.jpg\",\"speciality\":\"Бекенд-программист, python, C\\\\u002FC++\"},\"statistics\":{\"commentsCount\":7,\"favoritesCount\":65,\"readingCount\":2950,\"score\":1,\"votesCount\":9},\"hubs\":[{\"relatedData\":null,\"id\":\"358\",\"alias\":\"postgresql\",\"type\":\"collective\",\"title\":\"PostgreSQL\",\"titleHtml\":\"PostgreSQL\",\"isProfiled\":true},{\"relatedData\":null,\"id\":\"594\",\"alias\":\"sql\",\"type\":\"collective\",\"title\":\"SQL\",\"titleHtml\":\"SQL\",\"isProfiled\":true}],\"flows\":[{\"id\":\"1\",\"alias\":\"develop\",\"title\":\"Разработка\"}],\"relatedData\":null,\"leadData\":{\"textHtml\":\"\\\\u003Cp\\\\u003EВ данной статье рассматриваются некоторые особенности начала работы с \\\\u003Cabbr title=\\\\\"Системы Управления Базами Данных\\\\\"\\\\u003EСУБД\\\\u003C\\\\u002Fabbr\\\\u003E PostgreSQL в Docker, которые могут быть полезны читателю, если он только начинает познавать искусство работы с контейнерами. Написать сие произведение меня побудило отсутствие статей, которые полностью покрывают базовые вещи в начале работы с PostgreSQL в Docker. В этой статье мы не будем подробно рассматривать принципы работы PostgreSQL, однако напишем несколько базовых запросов для того, чтобы протестировать работу контейнера.\\\\u003C\\\\u002Fp\\\\u003E\",\"imageUrl\":null,\"buttonTextHtml\":\"Читать далее\",\"image\":{\"url\":\"https:\\\\u002F\\\\u002Fhabrastorage.org\\\\u002Fgetpro\\\\u002Fhabr\\\\u002Fupload_files\\\\u002Fac5\\\\u002Ff13\\\\u002Fdb8\\\\u002Fac5f13db8626b271aac38010bf0e1c59.jpeg\",\"fit\":\"cover\",\"positionY\":0,\"positionX\":0}},\"status\":\"published\",\"plannedPublishTime\":null,\"checked\":null,\"tags\":[{\"titleHtml\":\"docker\"},{\"titleHtml\":\"postgres\"},{\"titleHtml\":\"postgresql\"},{\"titleHtml\":\"новичкам\"},{\"titleHtml\":\"новичкам на заметку\"},{\"titleHtml\":\"sql\"}]},\"581558\":{\"id\":\"581558\",\"timePublished\":\"2021-10-05T00:39:18+00:00\",\"isCorporative\":false,\"lang\":\"ru\",\"titleHtml\":\"Google Cloud Text to Speech API как квинтэссенция Света. Реминисценции\",\"editorVersion\":\"2.0\",\"postType\":\"article\",\"postLabels\":[],\"author\":{\"id\":\"2672059\",\"alias\":\"cmirnow\",\"fullname\":null,\"avatarUrl\":\"\\\\u002F\\\\u002Fhabrastorage.org\\\\u002Fgetpro\\\\u002Fhabr\\\\u002Favatars\\\\u002Fdae\\\\u002F78e\\\\u002Ffe4\\\\u002Fdae78efe439d4a2f2d0a6a247c4f841a.jpg\",\"speciality\":\"Ruby Developer\"},\"statistics\":{\"commentsCount\":1,\"favoritesCount\":1,\"readingCount\":547,\"score\":1,\"votesCount\":1},\"hubs\":[{\"relatedData\":null,\"id\":\"8279\",\"alias\":\"ror\",\"type\":\"collective\",\"title\":\"Ruby on Rails\",\"titleHtml\":\"Ruby on Rails\",\"isProfiled\":true},{\"relatedData\":null,\"id\":\"17692\",\"alias\":\"google_api\",\"type\":\"collective\",\"title\":\"Google API\",\"titleHtml\":\"Google API\",\"isProfiled\":true}],\"flows\":[{\"id\":\"1\",\"alias\":\"develop\",\"title\":\"Разработка\"}],\"relatedData\":null,\"leadData\":{\"textHtml\":\"\\\\u003Cp\\\\u003EЗапомнилась мне одна книга, от польского, если не ошибаюсь, писателя (имени сейчас, к сожалению, не вспомню). Вернее сказать, не сам сюжет написанной в жанре фэнтэзи книжки, но положенная в основу идея оказалась неожиданно хороша и оригинальна. Смысл был в том, что всякая-разная сказочная нечисть — практически любая, без разбору и конфессиональных различий; ведьмы, лешие, бабы-яги, черти и много-много-много всякой-другой — априори должна быть занесена в реестр сил Добра, Света и Справедливости… по одной лишь простой причине: способность молниеносно перемещаться в пространстве, т. е. передавать с огромной скоростью по общемировым сетям массивы информации в любую точку известной нам области Вселенной — автоматически делает обладателя данной способности в конечном итоге приверженцем Прогресса и Демократии, противником Тоталитаризма и Тьмы.\\\\u003C\\\\u002Fp\\\\u003E\",\"imageUrl\":\"https:\\\\u002F\\\\u002Fhabrastorage.org\\\\u002Fgetpro\\\\u002Fhabr\\\\u002Fupload_files\\\\u002Fb21\\\\u002Fb49\\\\u002F0d3\\\\u002Fb21b490d313f2f08a94b3b1418f18f77.jpg\",\"buttonTextHtml\":\"Читать далее\",\"image\":{\"url\":\"https:\\\\u002F\\\\u002Fhabrastorage.org\\\\u002Fgetpro\\\\u002Fhabr\\\\u002Fupload_files\\\\u002Fb21\\\\u002Fb49\\\\u002F0d3\\\\u002Fb21b490d313f2f08a94b3b1418f18f77.jpg\",\"fit\":\"cover\",\"positionY\":37.954545454545,\"positionX\":2.4358974358974}},\"status\":\"published\",\"plannedPublishTime\":null,\"checked\":null,\"tags\":[{\"titleHtml\":\"text to speech\"},{\"titleHtml\":\"google translate\"},{\"titleHtml\":\"ruby on rails\"},{\"titleHtml\":\"bootstrap\"}]},\"581560\":{\"id\":\"581560\",\"timePublished\":\"2021-10-05T04:56:56+00:00\",\"isCorporative\":true,\"lang\":\"ru\",\"titleHtml\":\"Из-за чего Facebook стал глобально недоступен. Технический ликбез\",\"editorVersion\":\"2.0\",\"postType\":\"article\",\"postLabels\":[{\"type\":\"translation\",\"data\":{\"originalAuthorName\":\"Tom Strickx, Celso Martinho\",\"originalUrl\":\"https:\\\\u002F\\\\u002Fblog.cloudflare.com\\\\u002Foctober-2021-facebook-outage\\\\u002F\"}}],\"author\":{\"id\":\"16172\",\"alias\":\"shurup\",\"fullname\":\"Дмитрий Шурупов\",\"avatarUrl\":\"\\\\u002F\\\\u002Fhabrastorage.org\\\\u002Fgetpro\\\\u002Fhabr\\\\u002Favatars\\\\u002F062\\\\u002Fc85\\\\u002F607\\\\u002F062c85607fbe4aaa29e1ad2076cd13a0.jpg\",\"speciality\":\"Open Source geek\"},\"statistics\":{\"commentsCount\":33,\"favoritesCount\":32,\"readingCount\":24397,\"score\":66,\"votesCount\":70},\"hubs\":[{\"relatedData\":null,\"id\":\"20940\",\"alias\":\"flant\",\"type\":\"corporative\",\"title\":\"Блог компании Флант\",\"titleHtml\":\"Блог компании Флант\",\"isProfiled\":false},{\"relatedData\":null,\"id\":\"17123\",\"alias\":\"network_technologies\",\"type\":\"collective\",\"title\":\"Сетевые технологии\",\"titleHtml\":\"Сетевые технологии\",\"isProfiled\":true},{\"relatedData\":null,\"id\":\"21924\",\"alias\":\"social_networks\",\"type\":\"collective\",\"title\":\"Социальные сети и сообщества\",\"titleHtml\":\"Социальные сети и сообщества\",\"isProfiled\":false}],\"flows\":[{\"id\":\"6\",\"alias\":\"admin\",\"title\":\"Администрирование\"},{\"id\":\"7\",\"alias\":\"popsci\",\"title\":\"Научпоп\"}],\"relatedData\":null,\"leadData\":{\"textHtml\":\"\\\\u003Cp\\\\u003E\\\\u003Cstrong\\\\u003E\\\\u003Cem\\\\u003EПрим. перев.\\\\u003C\\\\u002Fem\\\\u003E\\\\u003C\\\\u002Fstrong\\\\u003E\\\\u003Cem\\\\u003E: в этой статье инженеры онлайн-сервиса Cloudflare весьма популярно объясняют, что именно (технически) произошло с недоступностью Facebook минувшим вечером (4-го октября 2021), а также затрагивают тему того, как этот сбой повлиял на более глобальные процессы в интернете.\\\\u003C\\\\u002Fem\\\\u003E\\\\u003C\\\\u002Fp\\\\u003E\\\\u003Cp\\\\u003E«Разве Facebook может упасть?» — задумались мы на секунду…\\\\u003C\\\\u002Fp\\\\u003E\\\\u003Cp\\\\u003EСегодня в 16:51 UTC \\\\u003Cem\\\\u003E(в 19:51 MSK — прим. перев.)\\\\u003C\\\\u002Fem\\\\u003E у нас был открыт внутренний инцидент под названием «Facebook DNS lookup returning SERVFAIL». Мы решили, что это с нашим DNS-ресолвером 1.1.1.1 что-то не так. Однако к моменту размещения соответствующего обновления на публичной статус-странице стало ясно, что здесь что-то серьёзное.\\\\u003C\\\\u002Fp\\\\u003E\\\\u003Cp\\\\u003EСоциальные сети уже разрывались от сообщений о том, что быстро подтвердили и наши инженеры: Facebook и связанные с ним сервисы WhatsApp и Instagram действительно упали. Их DNS-имена больше не ресолвились, а IP-адреса инфраструктуры были недоступны. Выглядело так, как будто кто-то буквально выдернул кабели разом во всех их дата-центрах, отключив от интернета.\\\\u003C\\\\u002Fp\\\\u003E\\\\u003Cp\\\\u003EКак такое вообще возможно?\\\\u003C\\\\u002Fp\\\\u003E\",\"imageUrl\":null,\"buttonTextHtml\":\"Читать далее\",\"image\":null},\"status\":\"published\",\"plannedPublishTime\":null,\"checked\":null,\"tags\":[{\"titleHtml\":\"Facebook\"},{\"titleHtml\":\"BGP\"},{\"titleHtml\":\"DNS\"},{\"titleHtml\":\"интернет\"},{\"titleHtml\":\"failure stories\"}]},\"581562\":{\"id\":\"581562\",\"timePublished\":\"2021-10-05T05:50:53+00:00\",\"isCorporative\":false,\"lang\":\"ru\",\"titleHtml\":\"iPadOS в стиле Windows 95\",\"editorVersion\":\"2.0\",\"postType\":\"article\",\"postLabels\":[{\"type\":\"sandbox\",\"data\":null}],\"author\":{\"id\":\"2243746\",\"alias\":\"ConLenov\",\"fullname\":\"Кондратий Леновин\",\"avatarUrl\":\"\",\"speciality\":\"Пользователь\"},\"statistics\":{\"commentsCount\":4,\"favoritesCount\":2,\"readingCount\":1237,\"score\":2,\"votesCount\":4},\"hubs\":[{\"relatedData\":null,\"id\":\"9188\",\"alias\":\"ui\",\"type\":\"collective\",\"title\":\"Интерфейсы\",\"titleHtml\":\"Интерфейсы\",\"isProfiled\":true}],\"flows\":[{\"id\":\"2\",\"alias\":\"design\",\"title\":\"Дизайн\"}],\"relatedData\":null,\"leadData\":{\"textHtml\":\"\\\\u003Cp\\\\u003EЯ решил нарисовать интерфейс, который объединяет стиль Windows 95 и логику управления из IPadOS. До меня (по крайней мере, я не встречал подобных концептов).\\\\u003C\\\\u002Fp\\\\u003E\\\\u003Cp\\\\u003EКак в оригинальном айпаде, сверху находятся часы, трей и индикаторы Wi-Fi. Снизу находится док, где слева расположены, закрепленные в док, приложения, а справа - запущенные приложения (которые не закреплены в док). По центру сетка приложений и виджетов.\\\\u003C\\\\u002Fp\\\\u003E\",\"imageUrl\":null,\"buttonTextHtml\":\"Читать далее\",\"image\":{\"url\":\"https:\\\\u002F\\\\u002Fhabrastorage.org\\\\u002Fgetpro\\\\u002Fhabr\\\\u002Fupload_files\\\\u002F014\\\\u002Fa58\\\\u002Fc8e\\\\u002F014a58c8e4175ddc7cf691bbd3ad020c.png\",\"fit\":\"cover\",\"positionY\":0,\"positionX\":0}},\"status\":\"published\",\"plannedPublishTime\":null,\"checked\":null,\"tags\":[{\"titleHtml\":\"ipados\"},{\"titleHtml\":\"ipad\"},{\"titleHtml\":\"windows\"},{\"titleHtml\":\"windows 95\"}]},\"581566\":{\"id\":\"581566\",\"timePublished\":\"2021-10-05T05:53:35+00:00\",\"isCorporative\":true,\"lang\":\"ru\",\"titleHtml\":\"Киберстрахование — новый метод «борьбы» с рисками?\",\"editorVersion\":\"2.0\",\"postType\":\"article\",\"postLabels\":[],\"author\":{\"id\":\"1291732\",\"alias\":\"Gummio_7\",\"fullname\":\"Андрей Шуклин\",\"avatarUrl\":\"\\\\u002F\\\\u002Fhabrastorage.org\\\\u002Fgetpro\\\\u002Fhabr\\\\u002Favatars\\\\u002Fc04\\\\u002F19e\\\\u002Fcfc\\\\u002Fc0419ecfc621e35042c804206728d309.jpg\",\"speciality\":\"Пользователь\"},\"statistics\":{\"commentsCount\":0,\"favoritesCount\":1,\"readingCount\":330,\"score\":5,\"votesCount\":5},\"hubs\":[{\"relatedData\":null,\"id\":\"5338\",\"alias\":\"acronis\",\"type\":\"corporative\",\"title\":\"Блог компании Acronis\",\"titleHtml\":\"Блог компании Acronis\",\"isProfiled\":false},{\"relatedData\":null,\"id\":\"50\",\"alias\":\"infosecurity\",\"type\":\"collective\",\"title\":\"Информационная безопасность\",\"titleHtml\":\"Информационная безопасность\",\"isProfiled\":true},{\"relatedData\":null,\"id\":\"332\",\"alias\":\"virus\",\"type\":\"collective\",\"title\":\"Антивирусная защита\",\"titleHtml\":\"Антивирусная защита\",\"isProfiled\":true},{\"relatedData\":null,\"id\":\"18792\",\"alias\":\"backup\",\"type\":\"collective\",\"title\":\"Резервное копирование\",\"titleHtml\":\"Резервное копирование\",\"isProfiled\":true},{\"relatedData\":null,\"id\":\"21928\",\"alias\":\"finance\",\"type\":\"collective\",\"title\":\"Финансы в IT\",\"titleHtml\":\"Финансы в IT\",\"isProfiled\":false}],\"flows\":[{\"id\":\"1\",\"alias\":\"develop\",\"title\":\"Разработка\"},{\"id\":\"6\",\"alias\":\"admin\",\"title\":\"Администрирование\"},{\"id\":\"7\",\"alias\":\"popsci\",\"title\":\"Научпоп\"}],\"relatedData\":null,\"leadData\":{\"textHtml\":\"\\\\u003Cp\\\\u003EКиберстраховка — это относительно новый тип переноса корпоративной ответственности. Подобный полис потенциально позволяет покрыть ущерб, связанный с нарушениями систем безопасности. Рынок такого страхования продолжает стремительно расти, и сегодня мы хотим поговорить о том, кто является главным потребителем таких страховок, и что они дают сервисным компаниям.\\\\u003C\\\\u002Fp\\\\u003E\",\"imageUrl\":\"https:\\\\u002F\\\\u002Fhabrastorage.org\\\\u002Fgetpro\\\\u002Fhabr\\\\u002Fupload_files\\\\u002F956\\\\u002F43a\\\\u002Fb5e\\\\u002F95643ab5e543b7688df1489bc9364d24.jpeg\",\"buttonTextHtml\":\"Читать далее\",\"image\":{\"url\":\"https:\\\\u002F\\\\u002Fhabrastorage.org\\\\u002Fgetpro\\\\u002Fhabr\\\\u002Fupload_files\\\\u002F956\\\\u002F43a\\\\u002Fb5e\\\\u002F95643ab5e543b7688df1489bc9364d24.jpeg\",\"fit\":\"cover\",\"positionY\":0,\"positionX\":0}},\"status\":\"published\",\"plannedPublishTime\":null,\"checked\":null,\"tags\":[{\"titleHtml\":\"Acronis\"},{\"titleHtml\":\"киберзащита\"},{\"titleHtml\":\"киберстраховка\"},{\"titleHtml\":\"риски\"},{\"titleHtml\":\"риски иб\"}]},\"581570\":{\"id\":\"581570\",\"timePublished\":\"2021-10-05T06:50:38+00:00\",\"isCorporative\":true,\"lang\":\"ru\",\"titleHtml\":\"Дайджест киберинцидентов Acronis #11\",\"editorVersion\":\"2.0\",\"postType\":\"article\",\"postLabels\":[],\"author\":{\"id\":\"1291732\",\"alias\":\"Gummio_7\",\"fullname\":\"Андрей Шуклин\",\"avatarUrl\":\"\\\\u002F\\\\u002Fhabrastorage.org\\\\u002Fgetpro\\\\u002Fhabr\\\\u002Favatars\\\\u002Fc04\\\\u002F19e\\\\u002Fcfc\\\\u002Fc0419ecfc621e35042c804206728d309.jpg\",\"speciality\":\"Пользователь\"},\"statistics\":{\"commentsCount\":0,\"favoritesCount\":1,\"readingCount\":193,\"score\":0,\"votesCount\":0},\"hubs\":[{\"relatedData\":null,\"id\":\"5338\",\"alias\":\"acronis\",\"type\":\"corporative\",\"title\":\"Блог компании Acronis\",\"titleHtml\":\"Блог компании Acronis\",\"isProfiled\":false},{\"relatedData\":null,\"id\":\"50\",\"alias\":\"infosecurity\",\"type\":\"collective\",\"title\":\"Информационная безопасность\",\"titleHtml\":\"Информационная безопасность\",\"isProfiled\":true},{\"relatedData\":null,\"id\":\"332\",\"alias\":\"virus\",\"type\":\"collective\",\"title\":\"Антивирусная защита\",\"titleHtml\":\"Антивирусная защита\",\"isProfiled\":true},{\"relatedData\":null,\"id\":\"18792\",\"alias\":\"backup\",\"type\":\"collective\",\"title\":\"Резервное копирование\",\"titleHtml\":\"Резервное копирование\",\"isProfiled\":true}],\"flows\":[{\"id\":\"1\",\"alias\":\"develop\",\"title\":\"Разработка\"},{\"id\":\"6\",\"alias\":\"admin\",\"title\":\"Администрирование\"}],\"relatedData\":null,\"leadData\":{\"textHtml\":\"\\\\u003Cp\\\\u003EПривет, Хабр! Сегодня в дайджесте киберновостей мы расскажем о том, почему вам точно пора обновить Firefox, какие новые атаки провели известные группы Ransomware и какие новые цели выбрала агрессивная группа TeamTNT. Вы узнаете, почему медицинским организациям стоит подумать о киберзащите, а также о новых принципах публичности некоторых вымогателей. \\\\u003C\\\\u002Fp\\\\u003E\",\"imageUrl\":\"https:\\\\u002F\\\\u002Fhabrastorage.org\\\\u002Fgetpro\\\\u002Fhabr\\\\u002Fupload_files\\\\u002F1eb\\\\u002F7c6\\\\u002F69a\\\\u002F1eb7c669a41f63bf848034b026752774.png\",\"buttonTextHtml\":\"Читать дайджест\",\"image\":{\"url\":\"https:\\\\u002F\\\\u002Fhabrastorage.org\\\\u002Fgetpro\\\\u002Fhabr\\\\u002Fupload_files\\\\u002F1eb\\\\u002F7c6\\\\u002F69a\\\\u002F1eb7c669a41f63bf848034b026752774.png\",\"fit\":\"cover\",\"positionY\":0,\"positionX\":0}},\"status\":\"published\",\"plannedPublishTime\":null,\"checked\":null,\"tags\":[{\"titleHtml\":\"дайджест\"},{\"titleHtml\":\"киберзащита\"},{\"titleHtml\":\"инциденты\"},{\"titleHtml\":\"ransomware\"}]},\"581574\":{\"id\":\"581574\",\"timePublished\":\"2021-10-05T07:04:07+00:00\",\"isCorporative\":false,\"lang\":\"ru\",\"titleHtml\":\"Книжная доминация\\xa0Python\\xa0и\\xa0Java\",\"editorVersion\":\"2.0\",\"postType\":\"article\",\"postLabels\":[],\"author\":{\"id\":\"1422000\",\"alias\":\"hatman\",\"fullname\":\"Сергей НиНо\",\"avatarUrl\":\"\\\\u002F\\\\u002Fhabrastorage.org\\\\u002Fgetpro\\\\u002Fhabr\\\\u002Favatars\\\\u002F75d\\\\u002F8b5\\\\u002F802\\\\u002F75d8b580217d4fd5e2f0bd0ce407fa6b.jpg\",\"speciality\":\"Веб-разработчик (Python\\\\u002FPHP)\"},\"statistics\":{\"commentsCount\":4,\"favoritesCount\":2,\"readingCount\":717,\"score\":3,\"votesCount\":5},\"hubs\":[{\"relatedData\":null,\"id\":\"260\",\"alias\":\"php\",\"type\":\"collective\",\"title\":\"PHP\",\"titleHtml\":\"PHP\",\"isProfiled\":true},{\"relatedData\":null,\"id\":\"340\",\"alias\":\"python\",\"type\":\"collective\",\"title\":\"Python\",\"titleHtml\":\"Python\",\"isProfiled\":true},{\"relatedData\":null,\"id\":\"375\",\"alias\":\"java\",\"type\":\"collective\",\"title\":\"Java\",\"titleHtml\":\"Java\",\"isProfiled\":true},{\"relatedData\":null,\"id\":\"19309\",\"alias\":\"lib\",\"type\":\"collective\",\"title\":\"Профессиональная литература\",\"titleHtml\":\"Профессиональная литература\",\"isProfiled\":false}],\"flows\":[{\"id\":\"1\",\"alias\":\"develop\",\"title\":\"Разработка\"}],\"relatedData\":null,\"leadData\":{\"textHtml\":\"\\\\u003Cp\\\\u003EПопулярность технологий в современной мире - это сочетание реализованных исторических возможностей, верное и преданное комьюнити, удобный инструментарий, накопленная база знаний и поддержка крупным игроком. Ну и не нужно забывать про удачу, она всегда была и будет в&nbsp;it-сфере.\\\\u003C\\\\u002Fp\\\\u003E\\\\u003Cp\\\\u003EБез всякого сомнения, самыми влиятельными языками программирования в настоящий момент являются&nbsp;Java&nbsp;и&nbsp;Python.&nbsp;И я приведу простой пример, почему их величие еще не скоро сойдет на нет.\\\\u003C\\\\u002Fp\\\\u003E\\\\u003Cp\\\\u003EP.s.&nbsp;я специально опускаю из обсуждения&nbsp;JS, Swift&nbsp;и Котлин, так как их доминирующее положение обусловлено немного другими факторами, нежели я обсужу в этой статье.\\\\u003Cbr\\\\u003E\\\\u003C\\\\u002Fp\\\\u003E\",\"imageUrl\":\"https:\\\\u002F\\\\u002Fhabrastorage.org\\\\u002Fwebt\\\\u002Fc8\\\\u002Fau\\\\u002Fvu\\\\u002Fc8auvujndeep0nofgds_jtpyboc.jpeg\",\"buttonTextHtml\":\"Читать далее\",\"image\":{\"url\":\"https:\\\\u002F\\\\u002Fhabrastorage.org\\\\u002Fwebt\\\\u002Fc8\\\\u002Fau\\\\u002Fvu\\\\u002Fc8auvujndeep0nofgds_jtpyboc.jpeg\",\"fit\":\"cover\",\"positionY\":0,\"positionX\":0}},\"status\":\"published\",\"plannedPublishTime\":null,\"checked\":null,\"tags\":[{\"titleHtml\":\"книги\"},{\"titleHtml\":\"профессиональная литература\"},{\"titleHtml\":\"java\"}]},\"581586\":{\"id\":\"581586\",\"timePublished\":\"2021-10-05T07:49:42+00:00\",\"isCorporative\":false,\"lang\":\"ru\",\"titleHtml\":\"Учим Kibana работать с Clickhouse (Ярослав Саган, Николай Нестеренко)\",\"editorVersion\":\"1.0\",\"postType\":\"article\",\"postLabels\":[],\"author\":{\"id\":\"106514\",\"alias\":\"chemtech\",\"fullname\":\"Пацев Антон\",\"avatarUrl\":\"\\\\u002F\\\\u002Fhabrastorage.org\\\\u002Fgetpro\\\\u002Fhabr\\\\u002Favatars\\\\u002Fe18\\\\u002F935\\\\u002F57e\\\\u002Fe1893557eeaacf388b0e596d910014c8.jpg\",\"speciality\":\"DevOps-инженер\"},\"statistics\":{\"commentsCount\":0,\"favoritesCount\":1,\"readingCount\":163,\"score\":4,\"votesCount\":4},\"hubs\":[{\"relatedData\":null,\"id\":\"18202\",\"alias\":\"data_visualization\",\"type\":\"collective\",\"title\":\"Визуализация данных\",\"titleHtml\":\"Визуализация данных\",\"isProfiled\":false},{\"relatedData\":null,\"id\":\"20788\",\"alias\":\"devops\",\"type\":\"collective\",\"title\":\"DevOps\",\"titleHtml\":\"DevOps\",\"isProfiled\":true}],\"flows\":[{\"id\":\"1\",\"alias\":\"develop\",\"title\":\"Разработка\"},{\"id\":\"6\",\"alias\":\"admin\",\"title\":\"Администрирование\"}],\"relatedData\":null,\"leadData\":{\"textHtml\":\"\\\\u003Cp\\\\u003E\\\\u003Cimg src=\\\\\"https:\\\\u002F\\\\u002Fhabrastorage.org\\\\u002Fwebt\\\\u002F70\\\\u002Fsn\\\\u002Ftb\\\\u002F70sntbucjhrxxzz_lskgcljrb04.jpeg\\\\\"\\\\u003E\\\\u003C\\\\u002Fp\\\\u003E\\\\u003Cbr\\\\u003E\\\\r\\\\n\\\\u003Cp\\\\u003E(Ярослав Саган) Мы расскажем о том, как делали архитектуру для компактного хранения логов в ClickHouse; как прикручивали Kibana для просмотра логов, их фильтрации и аналитики. А также расскажем, с какими трудностями столкнулись и что у нас получилось в итоге. \\\\u003C\\\\u002Fp\\\\u003E\",\"imageUrl\":null,\"buttonTextHtml\":\"Читать дальше &rarr;\",\"image\":null},\"status\":\"published\",\"plannedPublishTime\":null,\"checked\":null,\"tags\":[{\"titleHtml\":\"kibana\"},{\"titleHtml\":\"clickhouse\"}]}},\"articlesIds\":{\"ARTICLES_LIST_ALL\":[\"581524\",\"573666\",\"576612\",\"581294\",\"581586\",\"581448\",\"580758\",\"581224\",\"581574\",\"581052\",\"581570\",\"577154\",\"581476\",\"581566\",\"581562\",\"581560\",\"581544\",\"581558\",\"579086\",\"581548\"]},\"isLoading\":false,\"pagesCount\":{\"ARTICLES_LIST_ALL\":50},\"route\":{\"name\":\"ARTICLES_LIST_ALL\",\"params\":{\"hl\":\"ru\"},\"query\":{}},\"reasonsList\":null,\"view\":\"cards\",\"lastVisitedRoute\":{},\"ssrCommentsArticleIds\":[],\"karma\":{}},\"authorContribution\":{\"authors\":{}},\"betaTest\":{\"currentAnnouncement\":null,\"announcements\":{},\"announcementCards\":null,\"announcementComments\":{},\"announcementCommentThreads\":{},\"announcementCommentingStatuses\":{},\"archivedList\":[]},\"authorStatistics\":{\"articleRefs\":{},\"articleIds\":{},\"pagesCount\":{},\"route\":{},\"viewsCount\":[],\"maxStatsCount\":{}},\"comments\":{\"articleComments\":{},\"searchCommentsResults\":null,\"previewComment\":null,\"pagesCount\":null,\"commentAccess\":{},\"scrollParents\":{},\"pageArticleComments\":{\"lastViewedComment\":0,\"postId\":null,\"lastCommentTimestamp\":\"\",\"moderated\":[],\"moderatedIds\":[],\"commentRoute\":\"\"}},\"companies\":{\"companyRefs\":{\"ruvds\":{\"id\":\"3593\",\"alias\":\"ruvds\",\"titleHtml\":\"RUVDS.com\",\"descriptionHtml\":\"VDS\\\\u002FVPS-хостинг. Скидка 10% по коду \\\\u003Cb\\\\u003EHABR10\\\\u003C\\\\u002Fb\\\\u003E\",\"imageUrl\":\"\\\\u002F\\\\u002Fhabrastorage.org\\\\u002Fgetpro\\\\u002Fhabr\\\\u002Fcompany\\\\u002Ff27\\\\u002Fea8\\\\u002F5bd\\\\u002Ff27ea85bd62fbd985c308110885af7e0.png\",\"relatedData\":null,\"statistics\":{\"subscribersCount\":35463,\"rating\":3388.02,\"invest\":null},\"commonHubs\":[{\"id\":\"21976\",\"alias\":\"DIY\",\"type\":\"collective\",\"title\":\"DIY или Сделай сам\",\"titleHtml\":\"DIY или Сделай сам\",\"isProfiled\":false},{\"id\":\"21910\",\"alias\":\"popular_science\",\"type\":\"collective\",\"title\":\"Научно-популярное\",\"titleHtml\":\"Научно-популярное\",\"isProfiled\":false},{\"id\":\"221\",\"alias\":\"sys_admin\",\"type\":\"collective\",\"title\":\"Системное администрирование\",\"titleHtml\":\"Системное администрирование\",\"isProfiled\":true},{\"id\":\"91\",\"alias\":\"webdev\",\"type\":\"collective\",\"title\":\"Разработка веб-сайтов\",\"titleHtml\":\"Разработка веб-сайтов\",\"isProfiled\":true},{\"id\":\"359\",\"alias\":\"programming\",\"type\":\"collective\",\"title\":\"Программирование\",\"titleHtml\":\"Программирование\",\"isProfiled\":true}]},\"selectel\":{\"id\":\"975\",\"alias\":\"selectel\",\"titleHtml\":\"Selectel\",\"descriptionHtml\":\"IT-инфраструктура для бизнеса\",\"imageUrl\":\"\\\\u002F\\\\u002Fhabrastorage.org\\\\u002Fgetpro\\\\u002Fhabr\\\\u002Fcompany\\\\u002F66a\\\\u002Ff7d\\\\u002F039\\\\u002F66af7d03979b6d18654293d8f1e72837.png\",\"relatedData\":null,\"statistics\":{\"subscribersCount\":26837,\"rating\":1388.17,\"invest\":null},\"commonHubs\":[{\"id\":\"21898\",\"alias\":\"hardware\",\"type\":\"collective\",\"title\":\"Компьютерное железо\",\"titleHtml\":\"Компьютерное железо\",\"isProfiled\":false},{\"id\":\"22014\",\"alias\":\"futurenow\",\"type\":\"collective\",\"title\":\"Будущее здесь\",\"titleHtml\":\"Будущее здесь\",\"isProfiled\":false},{\"id\":\"21910\",\"alias\":\"popular_science\",\"type\":\"collective\",\"title\":\"Научно-популярное\",\"titleHtml\":\"Научно-популярное\",\"isProfiled\":false},{\"id\":\"21894\",\"alias\":\"gadgets\",\"type\":\"collective\",\"title\":\"Гаджеты\",\"titleHtml\":\"Гаджеты\",\"isProfiled\":false},{\"id\":\"21906\",\"alias\":\"history\",\"type\":\"collective\",\"title\":\"История IT\",\"titleHtml\":\"История IT\",\"isProfiled\":false}]},\"timeweb\":{\"id\":\"1461\",\"alias\":\"timeweb\",\"titleHtml\":\"Timeweb\",\"descriptionHtml\":\"Хостинг, VDS и ИТ-инфраструктура\",\"imageUrl\":\"\\\\u002F\\\\u002Fhabrastorage.org\\\\u002Fgetpro\\\\u002Fhabr\\\\u002Fcompany\\\\u002Fb5b\\\\u002F7e1\\\\u002Fc48\\\\u002Fb5b7e1c4819388606f1a3c7ed1d2373a.jpg\",\"relatedData\":null,\"statistics\":{\"subscribersCount\":467,\"rating\":952.36,\"invest\":null},\"commonHubs\":[{\"id\":\"21910\",\"alias\":\"popular_science\",\"type\":\"collective\",\"title\":\"Научно-популярное\",\"titleHtml\":\"Научно-популярное\",\"isProfiled\":false},{\"id\":\"359\",\"alias\":\"programming\",\"type\":\"collective\",\"title\":\"Программирование\",\"titleHtml\":\"Программирование\",\"isProfiled\":true},{\"id\":\"20742\",\"alias\":\"read\",\"type\":\"collective\",\"title\":\"Читальный зал\",\"titleHtml\":\"Читальный зал\",\"isProfiled\":false},{\"id\":\"357\",\"alias\":\"javascript\",\"type\":\"collective\",\"title\":\"JavaScript\",\"titleHtml\":\"JavaScript\",\"isProfiled\":true},{\"id\":\"91\",\"alias\":\"webdev\",\"type\":\"collective\",\"title\":\"Разработка веб-сайтов\",\"titleHtml\":\"Разработка веб-сайтов\",\"isProfiled\":true}]},\"yandex\":{\"id\":\"1\",\"alias\":\"yandex\",\"titleHtml\":\"Яндекс\",\"descriptionHtml\":\"Как мы делаем Яндекс\",\"imageUrl\":\"\\\\u002F\\\\u002Fhabrastorage.org\\\\u002Fgetpro\\\\u002Fhabr\\\\u002Fcompany\\\\u002Fb02\\\\u002Fd9b\\\\u002F1d4\\\\u002Fb02d9b1d4a6e64ff069e2ab32fdedae2.png\",\"relatedData\":null,\"statistics\":{\"subscribersCount\":113934,\"rating\":708.58,\"invest\":null},\"commonHubs\":[{\"id\":\"9188\",\"alias\":\"ui\",\"type\":\"collective\",\"title\":\"Интерфейсы\",\"titleHtml\":\"Интерфейсы\",\"isProfiled\":true},{\"id\":\"4\",\"alias\":\"hi\",\"type\":\"collective\",\"title\":\"Высокая производительность\",\"titleHtml\":\"Высокая производительность\",\"isProfiled\":true},{\"id\":\"19439\",\"alias\":\"machine_learning\",\"type\":\"collective\",\"title\":\"Машинное обучение\",\"titleHtml\":\"Машинное обучение\",\"isProfiled\":true},{\"id\":\"559\",\"alias\":\"cpp\",\"type\":\"collective\",\"title\":\"C++\",\"titleHtml\":\"C++\",\"isProfiled\":true},{\"id\":\"6345\",\"alias\":\"mobile_dev\",\"type\":\"collective\",\"title\":\"Разработка мобильных приложений\",\"titleHtml\":\"Разработка мобильных приложений\",\"isProfiled\":true}]},\"domclick\":{\"id\":\"6680\",\"alias\":\"domclick\",\"titleHtml\":\"Домклик\",\"descriptionHtml\":\"Место силы\",\"imageUrl\":\"\\\\u002F\\\\u002Fhabrastorage.org\\\\u002Fgetpro\\\\u002Fhabr\\\\u002Fcompany\\\\u002Fd28\\\\u002F115\\\\u002Ff55\\\\u002Fd28115f5503229d4f9018292fabd1840.jpg\",\"relatedData\":null,\"statistics\":{\"subscribersCount\":589,\"rating\":657.81,\"invest\":null},\"commonHubs\":[{\"id\":\"359\",\"alias\":\"programming\",\"type\":\"collective\",\"title\":\"Программирование\",\"titleHtml\":\"Программирование\",\"isProfiled\":true},{\"id\":\"340\",\"alias\":\"python\",\"type\":\"collective\",\"title\":\"Python\",\"titleHtml\":\"Python\",\"isProfiled\":true},{\"id\":\"357\",\"alias\":\"javascript\",\"type\":\"collective\",\"title\":\"JavaScript\",\"titleHtml\":\"JavaScript\",\"isProfiled\":true},{\"id\":\"91\",\"alias\":\"webdev\",\"type\":\"collective\",\"title\":\"Разработка веб-сайтов\",\"titleHtml\":\"Разработка веб-сайтов\",\"isProfiled\":true},{\"id\":\"19583\",\"alias\":\"dev_management\",\"type\":\"collective\",\"title\":\"Управление разработкой\",\"titleHtml\":\"Управление разработкой\",\"isProfiled\":true}]},\"lamptest\":{\"id\":\"5286\",\"alias\":\"lamptest\",\"titleHtml\":\"LampTest\",\"descriptionHtml\":\"Тестирование светодиодных ламп\",\"imageUrl\":\"\\\\u002F\\\\u002Fhabrastorage.org\\\\u002Fgetpro\\\\u002Fgeektimes\\\\u002Fcompany\\\\u002Ffaa\\\\u002F8f3\\\\u002F29f\\\\u002Ffaa8f329f54ab8821c7f2d1459ec2bda.jpg\",\"relatedData\":null,\"statistics\":{\"subscribersCount\":36887,\"rating\":646.77,\"invest\":null},\"commonHubs\":[{\"id\":\"21894\",\"alias\":\"gadgets\",\"type\":\"collective\",\"title\":\"Гаджеты\",\"titleHtml\":\"Гаджеты\",\"isProfiled\":false},{\"id\":\"21914\",\"alias\":\"energy\",\"type\":\"collective\",\"title\":\"Энергия и элементы питания\",\"titleHtml\":\"Энергия и элементы питания\",\"isProfiled\":false},{\"id\":\"21966\",\"alias\":\"home_automation\",\"type\":\"collective\",\"title\":\"Умный дом\",\"titleHtml\":\"Умный дом\",\"isProfiled\":false},{\"id\":\"21474\",\"alias\":\"arduino\",\"type\":\"collective\",\"title\":\"Разработка под Arduino\",\"titleHtml\":\"Разработка под Arduino\",\"isProfiled\":true},{\"id\":\"21976\",\"alias\":\"DIY\",\"type\":\"collective\",\"title\":\"DIY или Сделай сам\",\"titleHtml\":\"DIY или Сделай сам\",\"isProfiled\":false}]},\"croc\":{\"id\":\"1118\",\"alias\":\"croc\",\"titleHtml\":\"КРОК\",\"descriptionHtml\":\"IT-компания\",\"imageUrl\":\"\\\\u002F\\\\u002Fhabrastorage.org\\\\u002Fgetpro\\\\u002Fhabr\\\\u002Fcompany\\\\u002F5b6\\\\u002F5b7\\\\u002F955\\\\u002F5b65b7955dca146a7fa4bda37463bc04.png\",\"relatedData\":null,\"statistics\":{\"subscribersCount\":28832,\"rating\":436.24,\"invest\":null},\"commonHubs\":[{\"id\":\"6398\",\"alias\":\"it-infrastructure\",\"type\":\"collective\",\"title\":\"IT-инфраструктура\",\"titleHtml\":\"IT-инфраструктура\",\"isProfiled\":true},{\"id\":\"20682\",\"alias\":\"pm\",\"type\":\"collective\",\"title\":\"Управление проектами\",\"titleHtml\":\"Управление проектами\",\"isProfiled\":true},{\"id\":\"20740\",\"alias\":\"career\",\"type\":\"collective\",\"title\":\"Карьера в IT-индустрии\",\"titleHtml\":\"Карьера в IT-индустрии\",\"isProfiled\":false},{\"id\":\"22113\",\"alias\":\"engineering_systems\",\"type\":\"collective\",\"title\":\"Инженерные системы\",\"titleHtml\":\"Инженерные системы\",\"isProfiled\":false},{\"id\":\"397\",\"alias\":\"analysis_design\",\"type\":\"collective\",\"title\":\"Анализ и проектирование систем\",\"titleHtml\":\"Анализ и проектирование систем\",\"isProfiled\":true}]},\"habr\":{\"id\":\"412\",\"alias\":\"habr\",\"titleHtml\":\"Хабр\",\"descriptionHtml\":\"Создаем и развиваем сервисы для гиков\",\"imageUrl\":\"\\\\u002F\\\\u002Fhabrastorage.org\\\\u002Fgetpro\\\\u002Fhabr\\\\u002Fcompany\\\\u002F7e4\\\\u002F7b8\\\\u002Fe31\\\\u002F7e47b8e31d0efe9f398461278a16a357.png\",\"relatedData\":null,\"statistics\":{\"subscribersCount\":31801,\"rating\":435.92,\"invest\":null},\"commonHubs\":[{\"id\":\"20720\",\"alias\":\"contentmarketing\",\"type\":\"collective\",\"title\":\"Контент-маркетинг\",\"titleHtml\":\"Контент-маркетинг\",\"isProfiled\":false},{\"id\":\"20742\",\"alias\":\"read\",\"type\":\"collective\",\"title\":\"Читальный зал\",\"titleHtml\":\"Читальный зал\",\"isProfiled\":false},{\"id\":\"161\",\"alias\":\"habr\",\"type\":\"collective\",\"title\":\"Habr\",\"titleHtml\":\"Habr\",\"isProfiled\":false},{\"id\":\"20566\",\"alias\":\"habr_career\",\"type\":\"corporative\",\"title\":\"Блог компании Хабр Карьера\",\"titleHtml\":\"Блог компании Хабр Карьера\",\"isProfiled\":false},{\"id\":\"21910\",\"alias\":\"popular_science\",\"type\":\"collective\",\"title\":\"Научно-популярное\",\"titleHtml\":\"Научно-популярное\",\"isProfiled\":false}]},\"itsoft\":{\"id\":\"7728\",\"alias\":\"itsoft\",\"titleHtml\":\"ITSOFT\",\"descriptionHtml\":\"Дата-центры: размещение и аренда серверов и стоек.\",\"imageUrl\":\"\\\\u002F\\\\u002Fhabrastorage.org\\\\u002Fgetpro\\\\u002Fhabr\\\\u002Fcompany\\\\u002Ff48\\\\u002Fd46\\\\u002F029\\\\u002Ff48d460297f1a9fe1a9e3e0a1e7aedc9.png\",\"relatedData\":null,\"statistics\":{\"subscribersCount\":505,\"rating\":358.63,\"invest\":null},\"commonHubs\":[{\"id\":\"21910\",\"alias\":\"popular_science\",\"type\":\"collective\",\"title\":\"Научно-популярное\",\"titleHtml\":\"Научно-популярное\",\"isProfiled\":false},{\"id\":\"22014\",\"alias\":\"futurenow\",\"type\":\"collective\",\"title\":\"Будущее здесь\",\"titleHtml\":\"Будущее здесь\",\"isProfiled\":false},{\"id\":\"50\",\"alias\":\"infosecurity\",\"type\":\"collective\",\"title\":\"Информационная безопасность\",\"titleHtml\":\"Информационная безопасность\",\"isProfiled\":true},{\"id\":\"21962\",\"alias\":\"space\",\"type\":\"collective\",\"title\":\"Космонавтика\",\"titleHtml\":\"Космонавтика\",\"isProfiled\":false},{\"id\":\"17123\",\"alias\":\"network_technologies\",\"type\":\"collective\",\"title\":\"Сетевые технологии\",\"titleHtml\":\"Сетевые технологии\",\"isProfiled\":true}]},\"qrator\":{\"id\":\"817\",\"alias\":\"qrator\",\"titleHtml\":\"Qrator Labs\",\"descriptionHtml\":\"Непрерывная доступность и нейтрализация DDoS-атак\",\"imageUrl\":null,\"relatedData\":null,\"statistics\":{\"subscribersCount\":24951,\"rating\":347.93,\"invest\":null},\"commonHubs\":[{\"id\":\"50\",\"alias\":\"infosecurity\",\"type\":\"collective\",\"title\":\"Информационная безопасность\",\"titleHtml\":\"Информационная безопасность\",\"isProfiled\":true},{\"id\":\"17123\",\"alias\":\"network_technologies\",\"type\":\"collective\",\"title\":\"Сетевые технологии\",\"titleHtml\":\"Сетевые технологии\",\"isProfiled\":true},{\"id\":\"6398\",\"alias\":\"it-infrastructure\",\"type\":\"collective\",\"title\":\"IT-инфраструктура\",\"titleHtml\":\"IT-инфраструктура\",\"isProfiled\":true},{\"id\":\"8000\",\"alias\":\"algorithms\",\"type\":\"collective\",\"title\":\"Алгоритмы\",\"titleHtml\":\"Алгоритмы\",\"isProfiled\":true},{\"id\":\"17812\",\"alias\":\"maths\",\"type\":\"collective\",\"title\":\"Математика\",\"titleHtml\":\"Математика\",\"isProfiled\":true}]}},\"companyIds\":{},\"companyTopIds\":[\"ruvds\",\"selectel\",\"timeweb\",\"yandex\",\"domclick\",\"lamptest\",\"croc\",\"habr\",\"itsoft\",\"qrator\"],\"pagesCount\":{},\"companyProfiles\":{},\"companiesCategories\":[],\"companiesCategoriesTotalCount\":0,\"companiesWidgets\":{},\"companiesWorkers\":{},\"companiesFans\":{},\"route\":{},\"isLoading\":false,\"companyWorkersLoading\":false,\"companyFansLoading\":false,\"vacancies\":{}},\"companiesContribution\":{\"hubs\":{},\"flows\":{},\"companyRefs\":{}},\"companyHubsContribution\":{\"contributionRefs\":{\"hubRefs\":{},\"hubIds\":{}}},\"conversation\":{\"messages\":[],\"respondent\":null,\"isLoadMore\":false},\"conversations\":{\"conversations\":[],\"unreadCount\":0,\"pagesCount\":0,\"isLoadMore\":false},\"desktopState\":{\"desktopFl\":null,\"desktopHl\":null,\"isChecked\":false,\"isLoginDemanded\":false},\"dfp\":{\"slotsDict\":{}},\"docs\":{\"menu\":{},\"articles\":{},\"mainMenu\":[],\"loading\":{\"main\":false,\"dropdown\":false,\"article\":false}},\"feature\":{\"isProbablyVisible\":\"true\"},\"flows\":{\"flows\":[{\"alias\":\"develop\",\"id\":1,\"route\":{\"name\":\"FLOW_PAGE\",\"params\":{\"flowName\":\"develop\"}}},{\"alias\":\"admin\",\"id\":6,\"route\":{\"name\":\"FLOW_PAGE\",\"params\":{\"flowName\":\"admin\"}}},{\"alias\":\"design\",\"id\":2,\"route\":{\"name\":\"FLOW_PAGE\",\"params\":{\"flowName\":\"design\"}}},{\"alias\":\"management\",\"id\":3,\"route\":{\"name\":\"FLOW_PAGE\",\"params\":{\"flowName\":\"management\"}}},{\"alias\":\"marketing\",\"id\":4,\"route\":{\"name\":\"FLOW_PAGE\",\"params\":{\"flowName\":\"marketing\"}}},{\"alias\":\"popsci\",\"id\":7,\"route\":{\"name\":\"FLOW_PAGE\",\"params\":{\"flowName\":\"popsci\"}}}]},\"global\":{\"isPwa\":false,\"device\":\"desktop\",\"isHabrCom\":true},\"hubs\":{\"hubRefs\":{},\"hubIds\":{},\"pagesCount\":{},\"isLoading\":false,\"route\":{}},\"hubsBlock\":{\"hubRefs\":{},\"hubIds\":{}},\"i18n\":{\"fl\":\"ru\",\"hl\":\"ru\"},\"info\":{\"infoPage\":{},\"isLoading\":true},\"location\":{\"urlStruct\":{\"protocol\":null,\"slashes\":null,\"auth\":null,\"host\":null,\"port\":null,\"hostname\":null,\"hash\":null,\"search\":null,\"query\":{},\"pathname\":null,\"path\":null,\"href\":\"\"},\"searchQuery\":null},\"me\":{\"user\":null,\"ppgDemanded\":false,\"karmaResetInfo\":{\"canReincarnate\":null,\"wasReincarnated\":null,\"currentScore\":null},\"notes\":null},\"mostReadingList\":{\"mostReadingListIds\":[],\"mostReadingListRefs\":null,\"promoPost\":null},\"pinnedPost\":{\"pinnedPost\":null},\"ppa\":{\"articles\":{},\"card\":null,\"transactions\":null,\"totalTransactions\":null,\"isAccessible\":null},\"projectsBlocks\":{\"activeBlocks\":{}},\"pullRefresh\":{\"shouldRefresh\":false},\"sandbox\":{\"articleIds\":[],\"articleRefs\":{},\"pagesCount\":null,\"route\":{},\"lastVisitedRoute\":{},\"isLoading\":false},\"settingsOther\":{\"inputs\":{\"uiLang\":{\"errors\":[],\"ref\":null,\"value\":\"\"},\"articlesLangEnglish\":{\"errors\":[],\"ref\":null,\"value\":false},\"articlesLangRussian\":{\"errors\":[],\"ref\":null,\"value\":false},\"agreement\":{\"errors\":[],\"ref\":null,\"value\":false},\"email\":{\"errors\":[],\"ref\":null,\"value\":true},\"digest\":{\"errors\":[],\"ref\":null,\"value\":true}}},\"similarList\":{\"similarListIds\":[],\"similarListRefs\":null},\"ssr\":{\"error\":null,\"isDataLoaded\":false,\"isDataLoading\":false,\"isHydrationFailed\":false,\"isServer\":false},\"userHubsContribution\":{\"contributionRefs\":{\"hubRefs\":{},\"hubIds\":{}}},\"userInvites\":{\"availableInvites\":0,\"usedInvitesIds\":[],\"usedInvitesRefs\":{},\"usedInvitesPagesCount\":0,\"unusedInvitesIds\":[],\"unusedInvitesRefs\":{},\"unusedInvitesPagesCount\":0},\"users\":{\"authorRefs\":{},\"authorIds\":{},\"pagesCount\":{},\"authorProfiles\":{},\"userHubs\":{},\"userInvitations\":{},\"authorFollowers\":{},\"authorFollowed\":{},\"karmaStats\":[],\"statistics\":null,\"isLoading\":false,\"authorFollowersLoading\":false,\"authorFollowedLoading\":false,\"userHubsLoading\":false,\"userInvitationsLoading\":false,\"route\":{}},\"viewport\":{\"prevScrollY\":{},\"scrollY\":0,\"width\":0},\"tracker\":{\"items\":{},\"pagesCache\":{},\"markedViewedSilently\":{},\"markedRead\":{},\"unreadCounters\":{\"applications\":null,\"system\":null,\"mentions\":null,\"subscribers\":null,\"posts_and_comments\":null},\"unviewedCounters\":{\"applications\":null,\"system\":null,\"mentions\":null,\"subscribers\":null,\"posts_and_comments\":null}}};(function(){var s;(s=document.currentScript||document.scripts[document.scripts.length-1]).parentNode.removeChild(s);}());\\n  </script>\\n  <script defer=\"\" src=\"https://assets.habr.com/habr-web/js/chunk-vendors.e52202e0.js\">\\n  </script>\\n  <script defer=\"\" src=\"https://assets.habr.com/habr-web/js/page-flows.d556d5fc.js\">\\n  </script>\\n  <script defer=\"\" src=\"https://assets.habr.com/habr-web/js/app.211241c5.js\">\\n  </script>\\n  <script>\\n   (function(i,s,o,g,r,a,m){i[\\'GoogleAnalyticsObject\\']=r;i[r]=i[r]||function(){\\n        (i[r].q=i[r].q||[]).push(arguments)},i[r].l=1*new Date();a=s.createElement(o),\\n        m=s.getElementsByTagName(o)[0];a.async=1;a.src=g;m.parentNode.insertBefore(a,m)\\n      })(window,document,\\'script\\',\\'//www.google-analytics.com/analytics.js\\',\\'ga\\');\\n  </script>\\n  <script type=\"text/javascript\">\\n   (function(m,e,t,r,i,k,a){m[i]=m[i]||function(){(m[i].a=m[i].a||[]).push(arguments)};\\n    m[i].l=1*new Date();k=e.createElement(t),a=e.getElementsByTagName(t)[0],k.async=1,k.src=r,a.parentNode.insertBefore(k,a)})\\n    (window, document, \"script\", \"https://mc.yandex.ru/metrika/tag.js\", \"ym\");\\n\\n    ym(24049213, \"init\", {\\n      defer:true,\\n      trackLinks:true,\\n      accurateTrackBounce:true,\\n      webvisor:false,\\n    });\\n  </script>\\n  <noscript>\\n   <div>\\n    <img alt=\"\" src=\"https://mc.yandex.ru/watch/24049213\" style=\"position:absolute; left:-9999px;\">\\n    </img>\\n   </div>\\n  </noscript>\\n  <script type=\"text/javascript\">\\n   window.addEventListener(\\'load\\', function () {\\n        setTimeout(() => {\\n          const img = new Image();\\n          img.src = \\'https://vk.com/rtrg?p=VK-RTRG-421343-57vKE\\';\\n        }, 0);\\n      });\\n  </script>\\n </body>\\n</html>\\n'"
      ]
     },
     "execution_count": 104,
     "metadata": {},
     "output_type": "execute_result"
    },
    {
     "data": {
      "application/javascript": [
       "\n",
       "            setTimeout(function() {\n",
       "                var nbb_cell_id = 104;\n",
       "                var nbb_unformatted_code = \"soup.prettify()\";\n",
       "                var nbb_formatted_code = \"soup.prettify()\";\n",
       "                var nbb_cells = Jupyter.notebook.get_cells();\n",
       "                for (var i = 0; i < nbb_cells.length; ++i) {\n",
       "                    if (nbb_cells[i].input_prompt_number == nbb_cell_id) {\n",
       "                        if (nbb_cells[i].get_text() == nbb_unformatted_code) {\n",
       "                             nbb_cells[i].set_text(nbb_formatted_code);\n",
       "                        }\n",
       "                        break;\n",
       "                    }\n",
       "                }\n",
       "            }, 500);\n",
       "            "
      ],
      "text/plain": [
       "<IPython.core.display.Javascript object>"
      ]
     },
     "metadata": {},
     "output_type": "display_data"
    }
   ],
   "source": [
    "soup  # .prettify()"
   ]
  },
  {
   "cell_type": "code",
   "execution_count": 105,
   "metadata": {},
   "outputs": [
    {
     "data": {
      "text/plain": [
       "<title>Все публикации подряд / Хабр</title>"
      ]
     },
     "execution_count": 105,
     "metadata": {},
     "output_type": "execute_result"
    },
    {
     "data": {
      "application/javascript": [
       "\n",
       "            setTimeout(function() {\n",
       "                var nbb_cell_id = 105;\n",
       "                var nbb_unformatted_code = \"soup.title  # text\";\n",
       "                var nbb_formatted_code = \"soup.title  # text\";\n",
       "                var nbb_cells = Jupyter.notebook.get_cells();\n",
       "                for (var i = 0; i < nbb_cells.length; ++i) {\n",
       "                    if (nbb_cells[i].input_prompt_number == nbb_cell_id) {\n",
       "                        if (nbb_cells[i].get_text() == nbb_unformatted_code) {\n",
       "                             nbb_cells[i].set_text(nbb_formatted_code);\n",
       "                        }\n",
       "                        break;\n",
       "                    }\n",
       "                }\n",
       "            }, 500);\n",
       "            "
      ],
      "text/plain": [
       "<IPython.core.display.Javascript object>"
      ]
     },
     "metadata": {},
     "output_type": "display_data"
    }
   ],
   "source": [
    "soup.title  # text"
   ]
  },
  {
   "cell_type": "code",
   "execution_count": 107,
   "metadata": {},
   "outputs": [
    {
     "data": {
      "text/plain": [
       "{'class': ['tm-section-name__text']}"
      ]
     },
     "execution_count": 107,
     "metadata": {},
     "output_type": "execute_result"
    },
    {
     "data": {
      "application/javascript": [
       "\n",
       "            setTimeout(function() {\n",
       "                var nbb_cell_id = 107;\n",
       "                var nbb_unformatted_code = \"soup.find(\\\"h1\\\").attrs  # .attrs\";\n",
       "                var nbb_formatted_code = \"soup.find(\\\"h1\\\").attrs  # .attrs\";\n",
       "                var nbb_cells = Jupyter.notebook.get_cells();\n",
       "                for (var i = 0; i < nbb_cells.length; ++i) {\n",
       "                    if (nbb_cells[i].input_prompt_number == nbb_cell_id) {\n",
       "                        if (nbb_cells[i].get_text() == nbb_unformatted_code) {\n",
       "                             nbb_cells[i].set_text(nbb_formatted_code);\n",
       "                        }\n",
       "                        break;\n",
       "                    }\n",
       "                }\n",
       "            }, 500);\n",
       "            "
      ],
      "text/plain": [
       "<IPython.core.display.Javascript object>"
      ]
     },
     "metadata": {},
     "output_type": "display_data"
    }
   ],
   "source": [
    "soup.find(\"h1\").attrs  # .attrs"
   ]
  },
  {
   "cell_type": "code",
   "execution_count": 116,
   "metadata": {},
   "outputs": [
    {
     "data": {
      "text/plain": [
       "<h2 class=\"tm-article-snippet__title tm-article-snippet__title_h2\"><a class=\"tm-article-snippet__title-link\" data-article-link=\"\" href=\"/ru/post/581524/\"><span>Что стоит учитывать тем, кто занимается контент-маркетингом и продвижением технологических компаний [интервью]</span></a></h2>"
      ]
     },
     "execution_count": 116,
     "metadata": {},
     "output_type": "execute_result"
    },
    {
     "data": {
      "application/javascript": [
       "\n",
       "            setTimeout(function() {\n",
       "                var nbb_cell_id = 116;\n",
       "                var nbb_unformatted_code = \"soup.find(\\\"h2\\\")  # .a[\\\"href\\\"]  # .a # .a.span.text\";\n",
       "                var nbb_formatted_code = \"soup.find(\\\"h2\\\")  # .a[\\\"href\\\"]  # .a # .a.span.text\";\n",
       "                var nbb_cells = Jupyter.notebook.get_cells();\n",
       "                for (var i = 0; i < nbb_cells.length; ++i) {\n",
       "                    if (nbb_cells[i].input_prompt_number == nbb_cell_id) {\n",
       "                        if (nbb_cells[i].get_text() == nbb_unformatted_code) {\n",
       "                             nbb_cells[i].set_text(nbb_formatted_code);\n",
       "                        }\n",
       "                        break;\n",
       "                    }\n",
       "                }\n",
       "            }, 500);\n",
       "            "
      ],
      "text/plain": [
       "<IPython.core.display.Javascript object>"
      ]
     },
     "metadata": {},
     "output_type": "display_data"
    }
   ],
   "source": [
    "soup.find(\"h2\")  # .a[\"href\"]  # .a # .a.span.text"
   ]
  },
  {
   "cell_type": "code",
   "execution_count": 117,
   "metadata": {},
   "outputs": [
    {
     "data": {
      "text/plain": [
       "[<a class=\"tm-article-snippet__title-link\" data-article-link=\"\" href=\"/ru/post/581524/\"><span>Что стоит учитывать тем, кто занимается контент-маркетингом и продвижением технологических компаний [интервью]</span></a>]"
      ]
     },
     "execution_count": 117,
     "metadata": {},
     "output_type": "execute_result"
    },
    {
     "data": {
      "application/javascript": [
       "\n",
       "            setTimeout(function() {\n",
       "                var nbb_cell_id = 117;\n",
       "                var nbb_unformatted_code = \"soup.find(\\\"h2\\\").contents\";\n",
       "                var nbb_formatted_code = \"soup.find(\\\"h2\\\").contents\";\n",
       "                var nbb_cells = Jupyter.notebook.get_cells();\n",
       "                for (var i = 0; i < nbb_cells.length; ++i) {\n",
       "                    if (nbb_cells[i].input_prompt_number == nbb_cell_id) {\n",
       "                        if (nbb_cells[i].get_text() == nbb_unformatted_code) {\n",
       "                             nbb_cells[i].set_text(nbb_formatted_code);\n",
       "                        }\n",
       "                        break;\n",
       "                    }\n",
       "                }\n",
       "            }, 500);\n",
       "            "
      ],
      "text/plain": [
       "<IPython.core.display.Javascript object>"
      ]
     },
     "metadata": {},
     "output_type": "display_data"
    }
   ],
   "source": [
    "soup.find(\"h2\").contents"
   ]
  },
  {
   "cell_type": "code",
   "execution_count": 118,
   "metadata": {},
   "outputs": [
    {
     "name": "stdout",
     "output_type": "stream",
     "text": [
      "->> <div class=\"tm-section-name\"><h1 class=\"tm-section-name__text\">\n",
      "    Все потоки\n",
      "  </h1> </div>\n",
      "->>  \n",
      "->> <div class=\"tm-tabs tm-tabs_page-header\"><div class=\"tm-tabs__scroll-area\"><span class=\"tm-tabs__tab-item\"><a aria-current=\"page\" class=\"tm-tabs__tab-link router-link-exact-active tm-tabs__tab-link_active\" href=\"/ru/all/\">\n",
      "        Статьи\n",
      "        <!-- --></a></span><span class=\"tm-tabs__tab-item\"><a class=\"tm-tabs__tab-link\" href=\"/ru/news/\">\n",
      "        Новости\n",
      "        <!-- --></a></span><span class=\"tm-tabs__tab-item\"><a class=\"tm-tabs__tab-link\" href=\"/ru/hubs/\">\n",
      "        Хабы\n",
      "        <!-- --></a></span><span class=\"tm-tabs__tab-item\"><a class=\"tm-tabs__tab-link\" href=\"/ru/users/\">\n",
      "        Авторы\n",
      "        <!-- --></a></span><span class=\"tm-tabs__tab-item\"><a class=\"tm-tabs__tab-link\" href=\"/ru/companies/\">\n",
      "        Компании\n",
      "        <!-- --></a></span></div> <!-- --></div>\n",
      "->>  \n",
      "->> <div class=\"tm-navigation-filter\"><div class=\"tm-navigation-filters\"><div class=\"tm-navigation-filters__wrapper\"><button class=\"tm-navigation-filters__button\">\n",
      "      Все подряд\n",
      "      <svg class=\"tm-svg-img icon_dropdown-arrow\" height=\"16\" width=\"16\"><title>Открыть список</title> <use xlink:href=\"/img/megazord-v24.cee85629.svg#arrow-down\"></use></svg></button> <button class=\"tm-rss-button tm-rss-button_default\"><span class=\"tm-svg-icon__wrapper tm-rss-button__icon\"><svg class=\"tm-svg-img tm-svg-icon\" height=\"16\" width=\"16\"><title>Скопировать ссылку на RSS</title> <use xlink:href=\"/img/megazord-v24.cee85629.svg#rss\"></use></svg></span></button></div> <div class=\"tm-navigation-filters__options\"><div class=\"tm-navigation-filters__list-label\">\n",
      "      Сначала показывать\n",
      "    </div> <ul class=\"tm-navigation-filters__list\"><li class=\"tm-navigation-filters__option tm-navigation-filters__option_active\">\n",
      "        Новые\n",
      "      </li><li class=\"tm-navigation-filters__option\">\n",
      "        Лучшие\n",
      "      </li></ul> <div class=\"tm-navigation-filters__list-label\">\n",
      "      Порог рейтинга\n",
      "    </div> <ul class=\"tm-navigation-filters__list\"><li class=\"tm-navigation-filters__option tm-navigation-filters__option_active\">\n",
      "        Все\n",
      "      </li><li class=\"tm-navigation-filters__option\">\n",
      "        ≥0\n",
      "      </li><li class=\"tm-navigation-filters__option\">\n",
      "        ≥10\n",
      "      </li><li class=\"tm-navigation-filters__option\">\n",
      "        ≥25\n",
      "      </li><li class=\"tm-navigation-filters__option\">\n",
      "        ≥50\n",
      "      </li><li class=\"tm-navigation-filters__option\">\n",
      "        ≥100\n",
      "      </li></ul> <button class=\"tm-navigation-filters__apply btn btn_solid btn_small\" type=\"button\">\n",
      "      Применить\n",
      "    </button></div></div></div>\n",
      "->>  \n",
      "->>  \n"
     ]
    },
    {
     "data": {
      "application/javascript": [
       "\n",
       "            setTimeout(function() {\n",
       "                var nbb_cell_id = 118;\n",
       "                var nbb_unformatted_code = \"for i in soup.find(\\\"h1\\\").parent.parent.children:\\n    print(\\\"->>\\\", i)\\n# < - next_sibling,sibling_soup.c.previous_sibling\";\n",
       "                var nbb_formatted_code = \"for i in soup.find(\\\"h1\\\").parent.parent.children:\\n    print(\\\"->>\\\", i)\\n# < - next_sibling,sibling_soup.c.previous_sibling\";\n",
       "                var nbb_cells = Jupyter.notebook.get_cells();\n",
       "                for (var i = 0; i < nbb_cells.length; ++i) {\n",
       "                    if (nbb_cells[i].input_prompt_number == nbb_cell_id) {\n",
       "                        if (nbb_cells[i].get_text() == nbb_unformatted_code) {\n",
       "                             nbb_cells[i].set_text(nbb_formatted_code);\n",
       "                        }\n",
       "                        break;\n",
       "                    }\n",
       "                }\n",
       "            }, 500);\n",
       "            "
      ],
      "text/plain": [
       "<IPython.core.display.Javascript object>"
      ]
     },
     "metadata": {},
     "output_type": "display_data"
    }
   ],
   "source": [
    "for i in soup.find(\"h1\").parent.parent.children:\n",
    "    print(\"->>\", i)\n",
    "# < - next_sibling,sibling_soup.c.previous_sibling"
   ]
  },
  {
   "cell_type": "code",
   "execution_count": 119,
   "metadata": {},
   "outputs": [
    {
     "data": {
      "text/plain": [
       "'Что стоит учитывать тем, кто занимается контент-маркетингом и продвижением технологических компаний [интервью]'"
      ]
     },
     "execution_count": 119,
     "metadata": {},
     "output_type": "execute_result"
    },
    {
     "data": {
      "application/javascript": [
       "\n",
       "            setTimeout(function() {\n",
       "                var nbb_cell_id = 119;\n",
       "                var nbb_unformatted_code = \"soup.find(\\\"h2\\\").next_element.next_element.next_element\";\n",
       "                var nbb_formatted_code = \"soup.find(\\\"h2\\\").next_element.next_element.next_element\";\n",
       "                var nbb_cells = Jupyter.notebook.get_cells();\n",
       "                for (var i = 0; i < nbb_cells.length; ++i) {\n",
       "                    if (nbb_cells[i].input_prompt_number == nbb_cell_id) {\n",
       "                        if (nbb_cells[i].get_text() == nbb_unformatted_code) {\n",
       "                             nbb_cells[i].set_text(nbb_formatted_code);\n",
       "                        }\n",
       "                        break;\n",
       "                    }\n",
       "                }\n",
       "            }, 500);\n",
       "            "
      ],
      "text/plain": [
       "<IPython.core.display.Javascript object>"
      ]
     },
     "metadata": {},
     "output_type": "display_data"
    }
   ],
   "source": [
    "soup.find(\"h2\").next_element.next_element.next_element"
   ]
  },
  {
   "cell_type": "code",
   "execution_count": null,
   "metadata": {},
   "outputs": [],
   "source": [
    "[i for i in soup.find_all(\"h2\") if i != None]"
   ]
  },
  {
   "cell_type": "code",
   "execution_count": null,
   "metadata": {},
   "outputs": [],
   "source": [
    "soup.find_all('h2',{'class','tm-article-snippet__title'})"
   ]
  },
  {
   "cell_type": "code",
   "execution_count": 120,
   "metadata": {
    "scrolled": true
   },
   "outputs": [
    {
     "name": "stdout",
     "output_type": "stream",
     "text": [
      "<h2 class=\"tm-article-snippet__title tm-article-snippet__title_h2\"><a class=\"tm-article-snippet__title-link\" data-article-link=\"\" href=\"/ru/post/581524/\"><span>Что стоит учитывать тем, кто занимается контент-маркетингом и продвижением технологических компаний [интервью]</span></a></h2>\n",
      "<h2 class=\"tm-article-snippet__title tm-article-snippet__title_h2\"><a class=\"tm-article-snippet__title-link\" data-article-link=\"\" href=\"/ru/post/573666/\"><span>Кадрим девчонок с помощью метрики Эллиса-Бронникова</span></a></h2>\n",
      "<h2 class=\"tm-article-snippet__title tm-article-snippet__title_h2\"><a class=\"tm-article-snippet__title-link\" data-article-link=\"\" href=\"/ru/company/ashmanov_net/blog/576612/\"><span>Как мы проверили качество распознавания речи у Яндекса, Гугла, Тинькофф, Amazon и др</span></a></h2>\n",
      "<h2 class=\"tm-article-snippet__title tm-article-snippet__title_h2\"><a class=\"tm-article-snippet__title-link\" data-article-link=\"\" href=\"/ru/company/domclick/blog/581294/\"><span>Упрощаем работу в Camunda Modeler с помощью плагинов</span></a></h2>\n",
      "<h2 class=\"tm-article-snippet__title tm-article-snippet__title_h2\"><a class=\"tm-article-snippet__title-link\" data-article-link=\"\" href=\"/ru/post/581586/\"><span>Учим Kibana работать с Clickhouse (Ярослав Саган, Николай Нестеренко)</span></a></h2>\n",
      "<h2 class=\"tm-article-snippet__title tm-article-snippet__title_h2\"><a class=\"tm-article-snippet__title-link\" data-article-link=\"\" href=\"/ru/post/581448/\"><span>Выгорание в IT — результаты свежего исследования</span></a></h2>\n",
      "<h2 class=\"tm-article-snippet__title tm-article-snippet__title_h2\"><a class=\"tm-article-snippet__title-link\" data-article-link=\"\" href=\"/ru/company/megafon/blog/580758/\"><span>4 дня из жизни unix-инженера, хроника разработки скрипта</span></a></h2>\n",
      "<h2 class=\"tm-article-snippet__title tm-article-snippet__title_h2\"><a class=\"tm-article-snippet__title-link\" data-article-link=\"\" href=\"/ru/company/jugru/blog/581224/\"><span>Книга «ASP.NET Core в действии» в правильном переводе команды DotNetRu</span></a></h2>\n",
      "<h2 class=\"tm-article-snippet__title tm-article-snippet__title_h2\"><a class=\"tm-article-snippet__title-link\" data-article-link=\"\" href=\"/ru/post/581574/\"><span>Книжная доминация Python и Java</span></a></h2>\n",
      "<h2 class=\"tm-article-snippet__title tm-article-snippet__title_h2\"><a class=\"tm-article-snippet__title-link\" data-article-link=\"\" href=\"/ru/company/lanit/blog/581052/\"><span>Few-shot-learning и другие страшные слова в классификации текстов</span></a></h2>\n",
      "<h2 class=\"tm-article-snippet__title tm-article-snippet__title_h2\"><a class=\"tm-article-snippet__title-link\" data-article-link=\"\" href=\"/ru/company/acronis/blog/581570/\"><span>Дайджест киберинцидентов Acronis #11</span></a></h2>\n",
      "<h2 class=\"tm-article-snippet__title tm-article-snippet__title_h2\"><a class=\"tm-article-snippet__title-link\" data-article-link=\"\" href=\"/ru/post/577154/\"><span>Заводим трактор: CMake -&gt; QMake</span></a></h2>\n",
      "<h2 class=\"tm-article-snippet__title tm-article-snippet__title_h2\"><a class=\"tm-article-snippet__title-link\" data-article-link=\"\" href=\"/ru/company/surfstudio/blog/581476/\"><span>Функциональный подход в Jetpack Compose: каррирование функций</span></a></h2>\n",
      "<h2 class=\"tm-article-snippet__title tm-article-snippet__title_h2\"><a class=\"tm-article-snippet__title-link\" data-article-link=\"\" href=\"/ru/company/acronis/blog/581566/\"><span>Киберстрахование — новый метод «борьбы» с рисками?</span></a></h2>\n",
      "<h2 class=\"tm-article-snippet__title tm-article-snippet__title_h2\"><a class=\"tm-article-snippet__title-link\" data-article-link=\"\" href=\"/ru/post/581562/\"><span>iPadOS в стиле Windows 95</span></a></h2>\n",
      "<h2 class=\"tm-article-snippet__title tm-article-snippet__title_h2\"><a class=\"tm-article-snippet__title-link\" data-article-link=\"\" href=\"/ru/company/flant/blog/581560/\"><span>Из-за чего Facebook стал глобально недоступен. Технический ликбез</span></a></h2>\n",
      "<h2 class=\"tm-article-snippet__title tm-article-snippet__title_h2\"><a class=\"tm-article-snippet__title-link\" data-article-link=\"\" href=\"/ru/post/581544/\"><span>Windows 11 подойдёт программисту?</span></a></h2>\n",
      "<h2 class=\"tm-article-snippet__title tm-article-snippet__title_h2\"><a class=\"tm-article-snippet__title-link\" data-article-link=\"\" href=\"/ru/post/581558/\"><span>Google Cloud Text to Speech API как квинтэссенция Света. Реминисценции</span></a></h2>\n",
      "<h2 class=\"tm-article-snippet__title tm-article-snippet__title_h2\"><a class=\"tm-article-snippet__title-link\" data-article-link=\"\" href=\"/ru/company/selectel/blog/579086/\"><span>Цены на электронику вниз не идут: похоже, отрасль попала в «идеальный шторм»</span></a></h2>\n",
      "<h2 class=\"tm-article-snippet__title tm-article-snippet__title_h2\"><a class=\"tm-article-snippet__title-link\" data-article-link=\"\" href=\"/ru/post/581548/\"><span>Основы работы с PostgreSQL в Docker</span></a></h2>\n",
      "<h2 class=\"tm-block__title\">Лучшие блоги</h2>\n"
     ]
    },
    {
     "data": {
      "application/javascript": [
       "\n",
       "            setTimeout(function() {\n",
       "                var nbb_cell_id = 120;\n",
       "                var nbb_unformatted_code = \"for title in soup.find_all(\\\"h2\\\"):\\n    print(title)\";\n",
       "                var nbb_formatted_code = \"for title in soup.find_all(\\\"h2\\\"):\\n    print(title)\";\n",
       "                var nbb_cells = Jupyter.notebook.get_cells();\n",
       "                for (var i = 0; i < nbb_cells.length; ++i) {\n",
       "                    if (nbb_cells[i].input_prompt_number == nbb_cell_id) {\n",
       "                        if (nbb_cells[i].get_text() == nbb_unformatted_code) {\n",
       "                             nbb_cells[i].set_text(nbb_formatted_code);\n",
       "                        }\n",
       "                        break;\n",
       "                    }\n",
       "                }\n",
       "            }, 500);\n",
       "            "
      ],
      "text/plain": [
       "<IPython.core.display.Javascript object>"
      ]
     },
     "metadata": {},
     "output_type": "display_data"
    }
   ],
   "source": [
    "for title in soup.find_all(\"h2\"):\n",
    "    print(title)"
   ]
  },
  {
   "cell_type": "code",
   "execution_count": 122,
   "metadata": {
    "scrolled": true
   },
   "outputs": [
    {
     "name": "stdout",
     "output_type": "stream",
     "text": [
      "<h2 class=\"tm-article-snippet__title tm-article-snippet__title_h2\"><a class=\"tm-article-snippet__title-link\" data-article-link=\"\" href=\"/ru/post/581524/\"><span>Что стоит учитывать тем, кто занимается контент-маркетингом и продвижением технологических компаний [интервью]</span></a></h2> Что стоит учитывать тем, кто занимается контент-маркетингом и продвижением технологических компаний [интервью] /ru/post/581524/\n",
      "<h2 class=\"tm-article-snippet__title tm-article-snippet__title_h2\"><a class=\"tm-article-snippet__title-link\" data-article-link=\"\" href=\"/ru/post/573666/\"><span>Кадрим девчонок с помощью метрики Эллиса-Бронникова</span></a></h2> Кадрим девчонок с помощью метрики Эллиса-Бронникова /ru/post/573666/\n",
      "<h2 class=\"tm-article-snippet__title tm-article-snippet__title_h2\"><a class=\"tm-article-snippet__title-link\" data-article-link=\"\" href=\"/ru/company/ashmanov_net/blog/576612/\"><span>Как мы проверили качество распознавания речи у Яндекса, Гугла, Тинькофф, Amazon и др</span></a></h2> Как мы проверили качество распознавания речи у Яндекса, Гугла, Тинькофф, Amazon и др /ru/company/ashmanov_net/blog/576612/\n",
      "<h2 class=\"tm-article-snippet__title tm-article-snippet__title_h2\"><a class=\"tm-article-snippet__title-link\" data-article-link=\"\" href=\"/ru/company/domclick/blog/581294/\"><span>Упрощаем работу в Camunda Modeler с помощью плагинов</span></a></h2> Упрощаем работу в Camunda Modeler с помощью плагинов /ru/company/domclick/blog/581294/\n",
      "<h2 class=\"tm-article-snippet__title tm-article-snippet__title_h2\"><a class=\"tm-article-snippet__title-link\" data-article-link=\"\" href=\"/ru/post/581586/\"><span>Учим Kibana работать с Clickhouse (Ярослав Саган, Николай Нестеренко)</span></a></h2> Учим Kibana работать с Clickhouse (Ярослав Саган, Николай Нестеренко) /ru/post/581586/\n",
      "<h2 class=\"tm-article-snippet__title tm-article-snippet__title_h2\"><a class=\"tm-article-snippet__title-link\" data-article-link=\"\" href=\"/ru/post/581448/\"><span>Выгорание в IT — результаты свежего исследования</span></a></h2> Выгорание в IT — результаты свежего исследования /ru/post/581448/\n",
      "<h2 class=\"tm-article-snippet__title tm-article-snippet__title_h2\"><a class=\"tm-article-snippet__title-link\" data-article-link=\"\" href=\"/ru/company/megafon/blog/580758/\"><span>4 дня из жизни unix-инженера, хроника разработки скрипта</span></a></h2> 4 дня из жизни unix-инженера, хроника разработки скрипта /ru/company/megafon/blog/580758/\n",
      "<h2 class=\"tm-article-snippet__title tm-article-snippet__title_h2\"><a class=\"tm-article-snippet__title-link\" data-article-link=\"\" href=\"/ru/company/jugru/blog/581224/\"><span>Книга «ASP.NET Core в действии» в правильном переводе команды DotNetRu</span></a></h2> Книга «ASP.NET Core в действии» в правильном переводе команды DotNetRu /ru/company/jugru/blog/581224/\n",
      "<h2 class=\"tm-article-snippet__title tm-article-snippet__title_h2\"><a class=\"tm-article-snippet__title-link\" data-article-link=\"\" href=\"/ru/post/581574/\"><span>Книжная доминация Python и Java</span></a></h2> Книжная доминация Python и Java /ru/post/581574/\n",
      "<h2 class=\"tm-article-snippet__title tm-article-snippet__title_h2\"><a class=\"tm-article-snippet__title-link\" data-article-link=\"\" href=\"/ru/company/lanit/blog/581052/\"><span>Few-shot-learning и другие страшные слова в классификации текстов</span></a></h2> Few-shot-learning и другие страшные слова в классификации текстов /ru/company/lanit/blog/581052/\n",
      "<h2 class=\"tm-article-snippet__title tm-article-snippet__title_h2\"><a class=\"tm-article-snippet__title-link\" data-article-link=\"\" href=\"/ru/company/acronis/blog/581570/\"><span>Дайджест киберинцидентов Acronis #11</span></a></h2> Дайджест киберинцидентов Acronis #11 /ru/company/acronis/blog/581570/\n",
      "<h2 class=\"tm-article-snippet__title tm-article-snippet__title_h2\"><a class=\"tm-article-snippet__title-link\" data-article-link=\"\" href=\"/ru/post/577154/\"><span>Заводим трактор: CMake -&gt; QMake</span></a></h2> Заводим трактор: CMake -> QMake /ru/post/577154/\n",
      "<h2 class=\"tm-article-snippet__title tm-article-snippet__title_h2\"><a class=\"tm-article-snippet__title-link\" data-article-link=\"\" href=\"/ru/company/surfstudio/blog/581476/\"><span>Функциональный подход в Jetpack Compose: каррирование функций</span></a></h2> Функциональный подход в Jetpack Compose: каррирование функций /ru/company/surfstudio/blog/581476/\n",
      "<h2 class=\"tm-article-snippet__title tm-article-snippet__title_h2\"><a class=\"tm-article-snippet__title-link\" data-article-link=\"\" href=\"/ru/company/acronis/blog/581566/\"><span>Киберстрахование — новый метод «борьбы» с рисками?</span></a></h2> Киберстрахование — новый метод «борьбы» с рисками? /ru/company/acronis/blog/581566/\n",
      "<h2 class=\"tm-article-snippet__title tm-article-snippet__title_h2\"><a class=\"tm-article-snippet__title-link\" data-article-link=\"\" href=\"/ru/post/581562/\"><span>iPadOS в стиле Windows 95</span></a></h2> iPadOS в стиле Windows 95 /ru/post/581562/\n",
      "<h2 class=\"tm-article-snippet__title tm-article-snippet__title_h2\"><a class=\"tm-article-snippet__title-link\" data-article-link=\"\" href=\"/ru/company/flant/blog/581560/\"><span>Из-за чего Facebook стал глобально недоступен. Технический ликбез</span></a></h2> Из-за чего Facebook стал глобально недоступен. Технический ликбез /ru/company/flant/blog/581560/\n",
      "<h2 class=\"tm-article-snippet__title tm-article-snippet__title_h2\"><a class=\"tm-article-snippet__title-link\" data-article-link=\"\" href=\"/ru/post/581544/\"><span>Windows 11 подойдёт программисту?</span></a></h2> Windows 11 подойдёт программисту? /ru/post/581544/\n",
      "<h2 class=\"tm-article-snippet__title tm-article-snippet__title_h2\"><a class=\"tm-article-snippet__title-link\" data-article-link=\"\" href=\"/ru/post/581558/\"><span>Google Cloud Text to Speech API как квинтэссенция Света. Реминисценции</span></a></h2> Google Cloud Text to Speech API как квинтэссенция Света. Реминисценции /ru/post/581558/\n",
      "<h2 class=\"tm-article-snippet__title tm-article-snippet__title_h2\"><a class=\"tm-article-snippet__title-link\" data-article-link=\"\" href=\"/ru/company/selectel/blog/579086/\"><span>Цены на электронику вниз не идут: похоже, отрасль попала в «идеальный шторм»</span></a></h2> Цены на электронику вниз не идут: похоже, отрасль попала в «идеальный шторм» /ru/company/selectel/blog/579086/\n",
      "<h2 class=\"tm-article-snippet__title tm-article-snippet__title_h2\"><a class=\"tm-article-snippet__title-link\" data-article-link=\"\" href=\"/ru/post/581548/\"><span>Основы работы с PostgreSQL в Docker</span></a></h2> Основы работы с PostgreSQL в Docker /ru/post/581548/\n"
     ]
    },
    {
     "data": {
      "application/javascript": [
       "\n",
       "            setTimeout(function() {\n",
       "                var nbb_cell_id = 122;\n",
       "                var nbb_unformatted_code = \"for title in soup.find_all(\\\"h2\\\", \\\"tm-article-snippet__title\\\"):\\n    print(title,title.text.strip(), title.a[\\\"href\\\"])\";\n",
       "                var nbb_formatted_code = \"for title in soup.find_all(\\\"h2\\\", \\\"tm-article-snippet__title\\\"):\\n    print(title, title.text.strip(), title.a[\\\"href\\\"])\";\n",
       "                var nbb_cells = Jupyter.notebook.get_cells();\n",
       "                for (var i = 0; i < nbb_cells.length; ++i) {\n",
       "                    if (nbb_cells[i].input_prompt_number == nbb_cell_id) {\n",
       "                        if (nbb_cells[i].get_text() == nbb_unformatted_code) {\n",
       "                             nbb_cells[i].set_text(nbb_formatted_code);\n",
       "                        }\n",
       "                        break;\n",
       "                    }\n",
       "                }\n",
       "            }, 500);\n",
       "            "
      ],
      "text/plain": [
       "<IPython.core.display.Javascript object>"
      ]
     },
     "metadata": {},
     "output_type": "display_data"
    }
   ],
   "source": [
    "for title in soup.find_all(\"h2\", \"tm-article-snippet__title\"):\n",
    "    print(title, title.text.strip(), title.a[\"href\"])"
   ]
  },
  {
   "cell_type": "markdown",
   "metadata": {},
   "source": [
    "# career.habr.com/vacancies"
   ]
  },
  {
   "cell_type": "code",
   "execution_count": 125,
   "metadata": {},
   "outputs": [
    {
     "data": {
      "text/plain": [
       "'https://career.habr.com/vacancies?divisions[]=backend&divisions[]=frontend&divisions[]=apps&divisions[]=software&divisions[]=management&divisions[]=marketing&divisions[]=analytics&divisions[]=design&type=all'"
      ]
     },
     "execution_count": 125,
     "metadata": {},
     "output_type": "execute_result"
    },
    {
     "data": {
      "application/javascript": [
       "\n",
       "            setTimeout(function() {\n",
       "                var nbb_cell_id = 125;\n",
       "                var nbb_unformatted_code = \"\\\"\\\"\\\"https://career.habr.com/vacancies?divisions[]=backend&divisions[]=frontend&divisions[]=apps&divisions[]=software&divisions[]=management&divisions[]=marketing&divisions[]=analytics&divisions[]=design&type=all\\\"\\\"\\\"\";\n",
       "                var nbb_formatted_code = \"\\\"\\\"\\\"https://career.habr.com/vacancies?divisions[]=backend&divisions[]=frontend&divisions[]=apps&divisions[]=software&divisions[]=management&divisions[]=marketing&divisions[]=analytics&divisions[]=design&type=all\\\"\\\"\\\"\";\n",
       "                var nbb_cells = Jupyter.notebook.get_cells();\n",
       "                for (var i = 0; i < nbb_cells.length; ++i) {\n",
       "                    if (nbb_cells[i].input_prompt_number == nbb_cell_id) {\n",
       "                        if (nbb_cells[i].get_text() == nbb_unformatted_code) {\n",
       "                             nbb_cells[i].set_text(nbb_formatted_code);\n",
       "                        }\n",
       "                        break;\n",
       "                    }\n",
       "                }\n",
       "            }, 500);\n",
       "            "
      ],
      "text/plain": [
       "<IPython.core.display.Javascript object>"
      ]
     },
     "metadata": {},
     "output_type": "display_data"
    }
   ],
   "source": [
    "\"\"\"https://career.habr.com/vacancies?divisions[]=backend&divisions[]=frontend&divisions[]=apps&divisions[]=software&divisions[]=management&divisions[]=marketing&divisions[]=analytics&divisions[]=design&type=all\"\"\""
   ]
  },
  {
   "cell_type": "code",
   "execution_count": 124,
   "metadata": {},
   "outputs": [
    {
     "data": {
      "text/plain": [
       "'https://career.habr.com/vacancies?divisions[]=backend&page=3&type=all'"
      ]
     },
     "execution_count": 124,
     "metadata": {},
     "output_type": "execute_result"
    },
    {
     "data": {
      "application/javascript": [
       "\n",
       "            setTimeout(function() {\n",
       "                var nbb_cell_id = 124;\n",
       "                var nbb_unformatted_code = \"'https://career.habr.com/vacancies?divisions[]=backend&page=3&type=all'\";\n",
       "                var nbb_formatted_code = \"\\\"https://career.habr.com/vacancies?divisions[]=backend&page=3&type=all\\\"\";\n",
       "                var nbb_cells = Jupyter.notebook.get_cells();\n",
       "                for (var i = 0; i < nbb_cells.length; ++i) {\n",
       "                    if (nbb_cells[i].input_prompt_number == nbb_cell_id) {\n",
       "                        if (nbb_cells[i].get_text() == nbb_unformatted_code) {\n",
       "                             nbb_cells[i].set_text(nbb_formatted_code);\n",
       "                        }\n",
       "                        break;\n",
       "                    }\n",
       "                }\n",
       "            }, 500);\n",
       "            "
      ],
      "text/plain": [
       "<IPython.core.display.Javascript object>"
      ]
     },
     "metadata": {},
     "output_type": "display_data"
    }
   ],
   "source": [
    "\"https://career.habr.com/vacancies?divisions[]=backend&page=3&type=all\""
   ]
  },
  {
   "cell_type": "code",
   "execution_count": null,
   "metadata": {},
   "outputs": [],
   "source": [
    "BASE_URL = \"https://career.habr.com/vacancies?divisions[]={}&type=all\""
   ]
  },
  {
   "cell_type": "code",
   "execution_count": null,
   "metadata": {},
   "outputs": [],
   "source": [
    "\"\"\"https://career.habr.com/vacancies?\n",
    "city_id=678&\n",
    "divisions[]=frontend&\n",
    "divisions[]=software&\n",
    "divisions[]=testing&\n",
    "employment_type=part_time&\n",
    "qid=3&\n",
    "remote=true&\n",
    "salary=100000&type=all\"\"\""
   ]
  },
  {
   "cell_type": "markdown",
   "metadata": {},
   "source": [
    "# Task 0\n",
    "Describe, why do we use <b>?</b> and arguments after in the cell above?"
   ]
  },
  {
   "cell_type": "markdown",
   "metadata": {},
   "source": [
    "# Task 1\n",
    "* Fetch at least 100 non-blank carreers\n",
    "* Determine which division has the highest salary"
   ]
  },
  {
   "cell_type": "code",
   "execution_count": 16,
   "metadata": {},
   "outputs": [
    {
     "data": {
      "application/javascript": [
       "\n",
       "            setTimeout(function() {\n",
       "                var nbb_cell_id = 16;\n",
       "                var nbb_unformatted_code = \"base_url = \\\"https://career.habr.com\\\"\\ndivisions = [\\n    \\\"frontend\\\",\\n    \\\"backend\\\",\\n    \\\"apps\\\",\\n    \\\"design\\\",\\n    \\\"software\\\",\\n    \\\"marketing\\\",\\n    \\\"management\\\",\\n    \\\"analytics\\\",\\n]\\nURL = \\\"https://career.habr.com/vacancies?divisions[]={}&type=all&page={}\\\"\";\n",
       "                var nbb_formatted_code = \"base_url = \\\"https://career.habr.com\\\"\\ndivisions = [\\n    \\\"frontend\\\",\\n    \\\"backend\\\",\\n    \\\"apps\\\",\\n    \\\"design\\\",\\n    \\\"software\\\",\\n    \\\"marketing\\\",\\n    \\\"management\\\",\\n    \\\"analytics\\\",\\n]\\nURL = \\\"https://career.habr.com/vacancies?divisions[]={}&type=all&page={}\\\"\";\n",
       "                var nbb_cells = Jupyter.notebook.get_cells();\n",
       "                for (var i = 0; i < nbb_cells.length; ++i) {\n",
       "                    if (nbb_cells[i].input_prompt_number == nbb_cell_id) {\n",
       "                        if (nbb_cells[i].get_text() == nbb_unformatted_code) {\n",
       "                             nbb_cells[i].set_text(nbb_formatted_code);\n",
       "                        }\n",
       "                        break;\n",
       "                    }\n",
       "                }\n",
       "            }, 500);\n",
       "            "
      ],
      "text/plain": [
       "<IPython.core.display.Javascript object>"
      ]
     },
     "metadata": {},
     "output_type": "display_data"
    }
   ],
   "source": [
    "base_url = \"https://career.habr.com\"\n",
    "divisions = [\n",
    "    \"frontend\",\n",
    "    \"backend\",\n",
    "    \"apps\",\n",
    "    \"design\",\n",
    "    \"software\",\n",
    "    \"marketing\",\n",
    "    \"management\",\n",
    "    \"analytics\",\n",
    "]\n",
    "URL = \"https://career.habr.com/vacancies?divisions[]={}&type=all&page={}\""
   ]
  },
  {
   "cell_type": "code",
   "execution_count": 7,
   "metadata": {},
   "outputs": [
    {
     "name": "stdout",
     "output_type": "stream",
     "text": [
      "https://career.habr.com/vacancies?divisions[]=backend&type=all&page=1\n",
      "https://career.habr.com/vacancies?divisions[]=frontend&type=all&page=1\n",
      "https://career.habr.com/vacancies?divisions[]=apps&type=all&page=1\n",
      "https://career.habr.com/vacancies?divisions[]=design&type=all&page=1\n",
      "https://career.habr.com/vacancies?divisions[]=software&type=all&page=1\n",
      "https://career.habr.com/vacancies?divisions[]=marketing&type=all&page=1\n",
      "https://career.habr.com/vacancies?divisions[]=management&type=all&page=1\n",
      "https://career.habr.com/vacancies?divisions[]=analytics&type=all&page=1\n"
     ]
    },
    {
     "data": {
      "application/javascript": [
       "\n",
       "            setTimeout(function() {\n",
       "                var nbb_cell_id = 7;\n",
       "                var nbb_unformatted_code = \"for div in divisions:\\n    print(URL.format(div, 1))\";\n",
       "                var nbb_formatted_code = \"for div in divisions:\\n    print(URL.format(div, 1))\";\n",
       "                var nbb_cells = Jupyter.notebook.get_cells();\n",
       "                for (var i = 0; i < nbb_cells.length; ++i) {\n",
       "                    if (nbb_cells[i].input_prompt_number == nbb_cell_id) {\n",
       "                        if (nbb_cells[i].get_text() == nbb_unformatted_code) {\n",
       "                             nbb_cells[i].set_text(nbb_formatted_code);\n",
       "                        }\n",
       "                        break;\n",
       "                    }\n",
       "                }\n",
       "            }, 500);\n",
       "            "
      ],
      "text/plain": [
       "<IPython.core.display.Javascript object>"
      ]
     },
     "metadata": {},
     "output_type": "display_data"
    }
   ],
   "source": [
    "for div in divisions:\n",
    "    print(URL.format(div, 1))"
   ]
  },
  {
   "cell_type": "code",
   "execution_count": null,
   "metadata": {},
   "outputs": [],
   "source": [
    "URL.format(divisions[0])"
   ]
  },
  {
   "cell_type": "code",
   "execution_count": 130,
   "metadata": {},
   "outputs": [
    {
     "data": {
      "application/javascript": [
       "\n",
       "            setTimeout(function() {\n",
       "                var nbb_cell_id = 130;\n",
       "                var nbb_unformatted_code = \"resp = requests.get(URL.format(divisions[0],1)).content\\nsoup = BeautifulSoup(resp, \\\"html.parser\\\")\";\n",
       "                var nbb_formatted_code = \"resp = requests.get(URL.format(divisions[0], 1)).content\\nsoup = BeautifulSoup(resp, \\\"html.parser\\\")\";\n",
       "                var nbb_cells = Jupyter.notebook.get_cells();\n",
       "                for (var i = 0; i < nbb_cells.length; ++i) {\n",
       "                    if (nbb_cells[i].input_prompt_number == nbb_cell_id) {\n",
       "                        if (nbb_cells[i].get_text() == nbb_unformatted_code) {\n",
       "                             nbb_cells[i].set_text(nbb_formatted_code);\n",
       "                        }\n",
       "                        break;\n",
       "                    }\n",
       "                }\n",
       "            }, 500);\n",
       "            "
      ],
      "text/plain": [
       "<IPython.core.display.Javascript object>"
      ]
     },
     "metadata": {},
     "output_type": "display_data"
    }
   ],
   "source": [
    "resp = requests.get(URL.format(divisions[0], 1)).content\n",
    "soup = BeautifulSoup(resp, \"html.parser\")"
   ]
  },
  {
   "cell_type": "code",
   "execution_count": 8,
   "metadata": {},
   "outputs": [
    {
     "data": {
      "application/javascript": [
       "\n",
       "            setTimeout(function() {\n",
       "                var nbb_cell_id = 8;\n",
       "                var nbb_unformatted_code = \"from tqdm import tqdm\";\n",
       "                var nbb_formatted_code = \"from tqdm import tqdm\";\n",
       "                var nbb_cells = Jupyter.notebook.get_cells();\n",
       "                for (var i = 0; i < nbb_cells.length; ++i) {\n",
       "                    if (nbb_cells[i].input_prompt_number == nbb_cell_id) {\n",
       "                        if (nbb_cells[i].get_text() == nbb_unformatted_code) {\n",
       "                             nbb_cells[i].set_text(nbb_formatted_code);\n",
       "                        }\n",
       "                        break;\n",
       "                    }\n",
       "                }\n",
       "            }, 500);\n",
       "            "
      ],
      "text/plain": [
       "<IPython.core.display.Javascript object>"
      ]
     },
     "metadata": {},
     "output_type": "display_data"
    }
   ],
   "source": [
    "from tqdm import tqdm"
   ]
  },
  {
   "cell_type": "code",
   "execution_count": null,
   "metadata": {},
   "outputs": [],
   "source": []
  },
  {
   "cell_type": "code",
   "execution_count": 18,
   "metadata": {},
   "outputs": [
    {
     "name": "stderr",
     "output_type": "stream",
     "text": [
      "  0%|          | 0/8 [00:29<?, ?it/s]\n"
     ]
    },
    {
     "data": {
      "application/javascript": [
       "\n",
       "            setTimeout(function() {\n",
       "                var nbb_cell_id = 18;\n",
       "                var nbb_unformatted_code = \"lst = []\\nfor div in tqdm(divisions):\\n    \\n    for p in range(1, 2):\\n        resp = requests.get(URL.format(div, p)).content\\n        soup = BeautifulSoup(resp, \\\"html.parser\\\")\\n\\n        for i in soup.find_all(\\\"div\\\", \\\"vacancy-card__title\\\"):\\n            _article_url = base_url + i.a[\\\"href\\\"]\\n            resp = requests.get(_article_url).content\\n            soup = BeautifulSoup(resp, \\\"html.parser\\\")\\n            lst.append(soup.find(\\\"div\\\", \\\"job_show_description__body\\\").text)\\n\\n        break\\n    break\";\n",
       "                var nbb_formatted_code = \"lst = []\\nfor div in tqdm(divisions):\\n\\n    for p in range(1, 2):\\n        resp = requests.get(URL.format(div, p)).content\\n        soup = BeautifulSoup(resp, \\\"html.parser\\\")\\n\\n        for i in soup.find_all(\\\"div\\\", \\\"vacancy-card__title\\\"):\\n            _article_url = base_url + i.a[\\\"href\\\"]\\n            resp = requests.get(_article_url).content\\n            soup = BeautifulSoup(resp, \\\"html.parser\\\")\\n            lst.append(soup.find(\\\"div\\\", \\\"job_show_description__body\\\").text)\\n\\n        break\\n    break\";\n",
       "                var nbb_cells = Jupyter.notebook.get_cells();\n",
       "                for (var i = 0; i < nbb_cells.length; ++i) {\n",
       "                    if (nbb_cells[i].input_prompt_number == nbb_cell_id) {\n",
       "                        if (nbb_cells[i].get_text() == nbb_unformatted_code) {\n",
       "                             nbb_cells[i].set_text(nbb_formatted_code);\n",
       "                        }\n",
       "                        break;\n",
       "                    }\n",
       "                }\n",
       "            }, 500);\n",
       "            "
      ],
      "text/plain": [
       "<IPython.core.display.Javascript object>"
      ]
     },
     "metadata": {},
     "output_type": "display_data"
    }
   ],
   "source": [
    "lst = []\n",
    "for div in tqdm(divisions):\n",
    "\n",
    "    for p in range(1, 2):\n",
    "        resp = requests.get(URL.format(div, p)).content\n",
    "        soup = BeautifulSoup(resp, \"html.parser\")\n",
    "\n",
    "        for i in soup.find_all(\"div\", \"vacancy-card__title\"):\n",
    "            _article_url = base_url + i.a[\"href\"]\n",
    "            resp = requests.get(_article_url).content\n",
    "            soup = BeautifulSoup(resp, \"html.parser\")\n",
    "            lst.append(soup.find(\"div\", \"job_show_description__body\").text)\n",
    "\n",
    "        break\n",
    "    break"
   ]
  },
  {
   "cell_type": "code",
   "execution_count": 20,
   "metadata": {},
   "outputs": [
    {
     "data": {
      "text/plain": [
       "25"
      ]
     },
     "execution_count": 20,
     "metadata": {},
     "output_type": "execute_result"
    },
    {
     "data": {
      "application/javascript": [
       "\n",
       "            setTimeout(function() {\n",
       "                var nbb_cell_id = 20;\n",
       "                var nbb_unformatted_code = \"len(lst)\";\n",
       "                var nbb_formatted_code = \"len(lst)\";\n",
       "                var nbb_cells = Jupyter.notebook.get_cells();\n",
       "                for (var i = 0; i < nbb_cells.length; ++i) {\n",
       "                    if (nbb_cells[i].input_prompt_number == nbb_cell_id) {\n",
       "                        if (nbb_cells[i].get_text() == nbb_unformatted_code) {\n",
       "                             nbb_cells[i].set_text(nbb_formatted_code);\n",
       "                        }\n",
       "                        break;\n",
       "                    }\n",
       "                }\n",
       "            }, 500);\n",
       "            "
      ],
      "text/plain": [
       "<IPython.core.display.Javascript object>"
      ]
     },
     "metadata": {},
     "output_type": "display_data"
    }
   ],
   "source": [
    "len(lst)"
   ]
  },
  {
   "cell_type": "code",
   "execution_count": 21,
   "metadata": {},
   "outputs": [
    {
     "data": {
      "application/javascript": [
       "\n",
       "            setTimeout(function() {\n",
       "                var nbb_cell_id = 21;\n",
       "                var nbb_unformatted_code = \"a,b = lst[0],lst[1]\";\n",
       "                var nbb_formatted_code = \"a, b = lst[0], lst[1]\";\n",
       "                var nbb_cells = Jupyter.notebook.get_cells();\n",
       "                for (var i = 0; i < nbb_cells.length; ++i) {\n",
       "                    if (nbb_cells[i].input_prompt_number == nbb_cell_id) {\n",
       "                        if (nbb_cells[i].get_text() == nbb_unformatted_code) {\n",
       "                             nbb_cells[i].set_text(nbb_formatted_code);\n",
       "                        }\n",
       "                        break;\n",
       "                    }\n",
       "                }\n",
       "            }, 500);\n",
       "            "
      ],
      "text/plain": [
       "<IPython.core.display.Javascript object>"
      ]
     },
     "metadata": {},
     "output_type": "display_data"
    }
   ],
   "source": [
    "a, b = lst[0], lst[1]"
   ]
  },
  {
   "cell_type": "code",
   "execution_count": 77,
   "metadata": {},
   "outputs": [
    {
     "data": {
      "text/plain": [
       "['пока',\n",
       " 'мочь',\n",
       " 'повыпендриватиться',\n",
       " 'описание',\n",
       " 'вакансия',\n",
       " 'корпорация',\n",
       " '20-летний',\n",
       " 'опыт',\n",
       " 'мочь',\n",
       " 'повыпендриватиться',\n",
       " 'гибкость',\n",
       " 'быстрый',\n",
       " 'рост',\n",
       " 'амбициозность',\n",
       " 'цель',\n",
       " 'офигенный',\n",
       " 'корпоративный',\n",
       " 'культура',\n",
       " 'ориентировать',\n",
       " 'удаленный',\n",
       " 'работа',\n",
       " 'бешеный',\n",
       " 'энергетика',\n",
       " 'высокий',\n",
       " 'уровень',\n",
       " 'профессионализм',\n",
       " 'относительный',\n",
       " 'молодость',\n",
       " 'компания',\n",
       " 'год',\n",
       " 'быть',\n",
       " 'небольшой',\n",
       " 'семейный',\n",
       " 'компания',\n",
       " 'расти',\n",
       " 'нуль',\n",
       " 'команда',\n",
       " '+',\n",
       " 'человек',\n",
       " 'проект',\n",
       " 'десяток',\n",
       " 'час',\n",
       " 'проект',\n",
       " 'десяток',\n",
       " 'тысяча',\n",
       " 'час',\n",
       " 'год',\n",
       " 'принять',\n",
       " 'решение',\n",
       " 'активно',\n",
       " 'расти',\n",
       " 'планировать',\n",
       " 'открытие',\n",
       " 'выделить',\n",
       " 'отдел',\n",
       " 'разрабатывать',\n",
       " 'собственный',\n",
       " 'цифровой',\n",
       " 'продукт',\n",
       " 'быть',\n",
       " 'интересный',\n",
       " 'амбициозный',\n",
       " 'цель',\n",
       " 'миссия',\n",
       " 'классный',\n",
       " 'корпоративный',\n",
       " 'культура',\n",
       " 'найтись',\n",
       " 'место',\n",
       " 'талантливый',\n",
       " 'разработчик',\n",
       " 'склад',\n",
       " 'ум',\n",
       " 'психотип',\n",
       " 'конечно',\n",
       " 'огромный',\n",
       " 'количество',\n",
       " 'возможность',\n",
       " 'рост',\n",
       " 'профессиональный',\n",
       " 'личностный',\n",
       " 'материальный',\n",
       " 'поэтому',\n",
       " 'очень',\n",
       " 'активно',\n",
       " 'искать',\n",
       " 'front-end',\n",
       " 'developer',\n",
       " 'vue',\n",
       " 'js',\n",
       " 'разработчик',\n",
       " 'готовый',\n",
       " 'присоединиться',\n",
       " 'расти',\n",
       " 'компания',\n",
       " 'вместе',\n",
       " 'участвовать',\n",
       " 'построение',\n",
       " 'интересный',\n",
       " 'яркий',\n",
       " 'уникальный',\n",
       " 'нужный',\n",
       " 'быть',\n",
       " 'делать',\n",
       " 'разрабатывать',\n",
       " 'быстрый',\n",
       " 'удобный',\n",
       " 'пользователь',\n",
       " 'интерфейс',\n",
       " 'нуль',\n",
       " 'реализовывать',\n",
       " 'бизнес-логика',\n",
       " 'приложение',\n",
       " 'совместно',\n",
       " 'бекенд-разработчик',\n",
       " 'требование',\n",
       " 'опыт',\n",
       " 'разработка',\n",
       " 'vue',\n",
       " 'js',\n",
       " 'год',\n",
       " 'хороший',\n",
       " 'уровень',\n",
       " 'английский',\n",
       " 'уметь',\n",
       " 'оценивать',\n",
       " 'объем',\n",
       " 'срок',\n",
       " 'работа',\n",
       " 'впоследствии',\n",
       " 'придерживаться',\n",
       " 'способность',\n",
       " 'понимать',\n",
       " 'дизайнер',\n",
       " 'идея',\n",
       " 'верстать',\n",
       " 'делать',\n",
       " 'свежеиспеченный',\n",
       " 'интерфейс',\n",
       " 'живой',\n",
       " 'горение',\n",
       " 'дело',\n",
       " 'унылый',\n",
       " 'верстка',\n",
       " 'нарезка',\n",
       " 'макет',\n",
       " 'поддержка',\n",
       " 'крутой',\n",
       " 'интерфейс',\n",
       " 'проект',\n",
       " 'работа',\n",
       " 'вместе',\n",
       " 'владелец',\n",
       " 'продукт',\n",
       " 'дизайнер',\n",
       " 'другой',\n",
       " 'дело',\n",
       " 'стремиться',\n",
       " 'новый',\n",
       " 'интересный',\n",
       " 'неизведанный',\n",
       " 'число',\n",
       " 'ускорение',\n",
       " 'фронтенд-разработка',\n",
       " 'очевидный',\n",
       " 'знание',\n",
       " 'html',\n",
       " 'css',\n",
       " 'опыт',\n",
       " 'работа',\n",
       " 'шаблонизатор',\n",
       " 'препроцессор',\n",
       " 'ход',\n",
       " 'scss',\n",
       " 'быть',\n",
       " 'плюс',\n",
       " 'теряться',\n",
       " 'вид',\n",
       " 'фрагмент',\n",
       " 'javascript-код',\n",
       " 'изящно',\n",
       " 'уверенно',\n",
       " 'укрощать',\n",
       " 'es',\n",
       " 'кстати',\n",
       " 'понимание',\n",
       " 'архитектура',\n",
       " 'spa-подход',\n",
       " 'так',\n",
       " 'универсальный',\n",
       " 'приложение',\n",
       " 'знание',\n",
       " 'vue',\n",
       " 'js',\n",
       " 'приходиться',\n",
       " 'использовать',\n",
       " 'иной',\n",
       " 'фронтенд-фреймворк',\n",
       " 'также',\n",
       " 'плюс',\n",
       " 'наименование',\n",
       " 'webpack',\n",
       " 'babel',\n",
       " 'postcss',\n",
       " 'node',\n",
       " 'js',\n",
       " 'иметь',\n",
       " 'смысл',\n",
       " 'опыт',\n",
       " 'коммерческий',\n",
       " 'разработка',\n",
       " 'предлагать',\n",
       " 'первый',\n",
       " 'день',\n",
       " 'тк',\n",
       " 'рф',\n",
       " 'оформление',\n",
       " 'ип',\n",
       " 'график',\n",
       " 'фуллтайм',\n",
       " 'рабочий',\n",
       " 'место',\n",
       " 'там',\n",
       " 'где',\n",
       " 'удобный',\n",
       " 'быть',\n",
       " 'интернет',\n",
       " 'дмс',\n",
       " 'испытательный',\n",
       " 'срок',\n",
       " 'интересный',\n",
       " 'проект',\n",
       " 'серьезный',\n",
       " 'задача',\n",
       " 'разный',\n",
       " 'область',\n",
       " 'возможность',\n",
       " 'перемещаться',\n",
       " 'проект',\n",
       " 'профессиональный',\n",
       " 'обучение',\n",
       " 'наставничество',\n",
       " 'внутренний',\n",
       " 'конференция',\n",
       " 'частичный',\n",
       " 'полный',\n",
       " 'оплата',\n",
       " 'обучение',\n",
       " 'английский',\n",
       " 'железо',\n",
       " 'компания',\n",
       " 'возможность',\n",
       " 'создание',\n",
       " 'собственный',\n",
       " 'продукт',\n",
       " 'компания',\n",
       " 'сплоченный',\n",
       " 'душевный',\n",
       " 'команда',\n",
       " 'молодой',\n",
       " 'профессионал',\n",
       " 'помогать',\n",
       " 'поддерживать',\n",
       " 'способствовать',\n",
       " 'развитие',\n",
       " 'возможность',\n",
       " 'горизонтальный',\n",
       " 'вертикальный',\n",
       " 'карьерный',\n",
       " 'рост',\n",
       " 'любить',\n",
       " 'проактивность',\n",
       " 'инициативность',\n",
       " 'слушать',\n",
       " 'слышать',\n",
       " 'оставить',\n",
       " 'отклик',\n",
       " 'написать',\n",
       " '@',\n",
       " 'oks']"
      ]
     },
     "execution_count": 77,
     "metadata": {},
     "output_type": "execute_result"
    },
    {
     "data": {
      "application/javascript": [
       "\n",
       "            setTimeout(function() {\n",
       "                var nbb_cell_id = 77;\n",
       "                var nbb_unformatted_code = \"import re\\n\\n\\ndef preprocess(text: str) -> str:\\n    doc = Doc(text)\\n    doc.segment(segmenter)\\n    doc.tag_morph(morph_tagger)\\n    for token in doc.tokens:\\n        token.lemmatize(morph_vocab)\\n    doc.tag_ner(ner_tagger)\\n\\n\\n    return [\\n            i.lemma\\n            for i in doc.tokens\\n            if i.pos\\n            not in [\\\"SCONJ\\\", \\\"PRON\\\", \\\"PART\\\", \\\"PUNCT\\\", \\\"ADP\\\", \\\"CCONJ\\\", \\\"DET\\\", \\\"NUM\\\"]\\n        ]\\n\\n\\npreprocess(a)\";\n",
       "                var nbb_formatted_code = \"import re\\n\\n\\ndef preprocess(text: str) -> str:\\n    doc = Doc(text)\\n    doc.segment(segmenter)\\n    doc.tag_morph(morph_tagger)\\n    for token in doc.tokens:\\n        token.lemmatize(morph_vocab)\\n    doc.tag_ner(ner_tagger)\\n\\n    return [\\n        i.lemma\\n        for i in doc.tokens\\n        if i.pos not in [\\\"SCONJ\\\", \\\"PRON\\\", \\\"PART\\\", \\\"PUNCT\\\", \\\"ADP\\\", \\\"CCONJ\\\", \\\"DET\\\", \\\"NUM\\\"]\\n    ]\\n\\n\\npreprocess(a)\";\n",
       "                var nbb_cells = Jupyter.notebook.get_cells();\n",
       "                for (var i = 0; i < nbb_cells.length; ++i) {\n",
       "                    if (nbb_cells[i].input_prompt_number == nbb_cell_id) {\n",
       "                        if (nbb_cells[i].get_text() == nbb_unformatted_code) {\n",
       "                             nbb_cells[i].set_text(nbb_formatted_code);\n",
       "                        }\n",
       "                        break;\n",
       "                    }\n",
       "                }\n",
       "            }, 500);\n",
       "            "
      ],
      "text/plain": [
       "<IPython.core.display.Javascript object>"
      ]
     },
     "metadata": {},
     "output_type": "display_data"
    }
   ],
   "source": [
    "import re\n",
    "\n",
    "\n",
    "def preprocess(text: str) -> str:\n",
    "    doc = Doc(text)\n",
    "    doc.segment(segmenter)\n",
    "    doc.tag_morph(morph_tagger)\n",
    "    for token in doc.tokens:\n",
    "        token.lemmatize(morph_vocab)\n",
    "    doc.tag_ner(ner_tagger)\n",
    "\n",
    "    return [\n",
    "        i.lemma\n",
    "        for i in doc.tokens\n",
    "        if i.pos not in [\"SCONJ\", \"PRON\", \"PART\", \"PUNCT\", \"ADP\", \"CCONJ\", \"DET\", \"NUM\"]\n",
    "    ]\n",
    "\n",
    "\n",
    "preprocess(a)"
   ]
  },
  {
   "cell_type": "code",
   "execution_count": 78,
   "metadata": {},
   "outputs": [
    {
     "name": "stdout",
     "output_type": "stream",
     "text": [
      "0 212\n",
      "1 41\n",
      "2 112\n",
      "3 60\n",
      "4 42\n",
      "5 18\n",
      "6 31\n",
      "7 11\n",
      "8 42\n",
      "9 38\n",
      "10 20\n",
      "11 16\n",
      "12 25\n",
      "13 43\n",
      "14 45\n",
      "15 34\n",
      "16 42\n",
      "17 35\n",
      "18 31\n",
      "19 2\n",
      "20 1\n",
      "21 20\n",
      "22 54\n",
      "23 12\n",
      "24 25\n"
     ]
    },
    {
     "data": {
      "application/javascript": [
       "\n",
       "            setTimeout(function() {\n",
       "                var nbb_cell_id = 78;\n",
       "                var nbb_unformatted_code = \"for i, t in enumerate(lst):\\n    print(i, len(set(preprocess(a)).intersection(set(preprocess(t)))))\";\n",
       "                var nbb_formatted_code = \"for i, t in enumerate(lst):\\n    print(i, len(set(preprocess(a)).intersection(set(preprocess(t)))))\";\n",
       "                var nbb_cells = Jupyter.notebook.get_cells();\n",
       "                for (var i = 0; i < nbb_cells.length; ++i) {\n",
       "                    if (nbb_cells[i].input_prompt_number == nbb_cell_id) {\n",
       "                        if (nbb_cells[i].get_text() == nbb_unformatted_code) {\n",
       "                             nbb_cells[i].set_text(nbb_formatted_code);\n",
       "                        }\n",
       "                        break;\n",
       "                    }\n",
       "                }\n",
       "            }, 500);\n",
       "            "
      ],
      "text/plain": [
       "<IPython.core.display.Javascript object>"
      ]
     },
     "metadata": {},
     "output_type": "display_data"
    }
   ],
   "source": [
    "for i, t in enumerate(lst):\n",
    "    print(i, len(set(preprocess(a)).intersection(set(preprocess(t)))))"
   ]
  },
  {
   "cell_type": "code",
   "execution_count": 105,
   "metadata": {},
   "outputs": [
    {
     "name": "stdout",
     "output_type": "stream",
     "text": [
      "23.643180835073778\n",
      "15.033296378372908\n",
      "26.851443164195103\n",
      "24.06241883103193\n",
      "22.181073012818835\n",
      "21.88606862823929\n",
      "22.090722034374522\n",
      "23.916521486202797\n",
      "23.874672772626646\n",
      "22.271057451320086\n",
      "21.748563170931547\n",
      "23.811761799581316\n",
      "26.40075756488817\n",
      "25.238858928247925\n",
      "23.302360395462088\n",
      "23.49468024894146\n",
      "23.643180835073778\n",
      "23.173260452512935\n",
      "26.095976701399778\n",
      "48.010415536631214\n",
      "21.6794833886788\n",
      "26.70205984563738\n",
      "22.22611077089287\n",
      "21.817424229271428\n"
     ]
    },
    {
     "data": {
      "application/javascript": [
       "\n",
       "            setTimeout(function() {\n",
       "                var nbb_cell_id = 105;\n",
       "                var nbb_unformatted_code = \"for i in range(1, len(matrix)):\\n    print(euclidean_similarity(matrix[0], matrix[i]))\";\n",
       "                var nbb_formatted_code = \"for i in range(1, len(matrix)):\\n    print(euclidean_similarity(matrix[0], matrix[i]))\";\n",
       "                var nbb_cells = Jupyter.notebook.get_cells();\n",
       "                for (var i = 0; i < nbb_cells.length; ++i) {\n",
       "                    if (nbb_cells[i].input_prompt_number == nbb_cell_id) {\n",
       "                        if (nbb_cells[i].get_text() == nbb_unformatted_code) {\n",
       "                             nbb_cells[i].set_text(nbb_formatted_code);\n",
       "                        }\n",
       "                        break;\n",
       "                    }\n",
       "                }\n",
       "            }, 500);\n",
       "            "
      ],
      "text/plain": [
       "<IPython.core.display.Javascript object>"
      ]
     },
     "metadata": {},
     "output_type": "display_data"
    }
   ],
   "source": [
    "for i in range(1, len(matrix)):\n",
    "    print(euclidean_similarity(matrix[0], matrix[i]))"
   ]
  },
  {
   "cell_type": "code",
   "execution_count": 79,
   "metadata": {},
   "outputs": [
    {
     "data": {
      "application/javascript": [
       "\n",
       "            setTimeout(function() {\n",
       "                var nbb_cell_id = 79;\n",
       "                var nbb_unformatted_code = \"pre_texts = list(map(preprocess,lst))\";\n",
       "                var nbb_formatted_code = \"pre_texts = list(map(preprocess, lst))\";\n",
       "                var nbb_cells = Jupyter.notebook.get_cells();\n",
       "                for (var i = 0; i < nbb_cells.length; ++i) {\n",
       "                    if (nbb_cells[i].input_prompt_number == nbb_cell_id) {\n",
       "                        if (nbb_cells[i].get_text() == nbb_unformatted_code) {\n",
       "                             nbb_cells[i].set_text(nbb_formatted_code);\n",
       "                        }\n",
       "                        break;\n",
       "                    }\n",
       "                }\n",
       "            }, 500);\n",
       "            "
      ],
      "text/plain": [
       "<IPython.core.display.Javascript object>"
      ]
     },
     "metadata": {},
     "output_type": "display_data"
    }
   ],
   "source": [
    "pre_texts = list(map(preprocess, lst))\n"
   ]
  },
  {
   "cell_type": "code",
   "execution_count": 86,
   "metadata": {},
   "outputs": [
    {
     "data": {
      "application/javascript": [
       "\n",
       "            setTimeout(function() {\n",
       "                var nbb_cell_id = 86;\n",
       "                var nbb_unformatted_code = \"DICT = {key: i for i, key in enumerate(set(sum(pre_texts, [])))}\";\n",
       "                var nbb_formatted_code = \"DICT = {key: i for i, key in enumerate(set(sum(pre_texts, [])))}\";\n",
       "                var nbb_cells = Jupyter.notebook.get_cells();\n",
       "                for (var i = 0; i < nbb_cells.length; ++i) {\n",
       "                    if (nbb_cells[i].input_prompt_number == nbb_cell_id) {\n",
       "                        if (nbb_cells[i].get_text() == nbb_unformatted_code) {\n",
       "                             nbb_cells[i].set_text(nbb_formatted_code);\n",
       "                        }\n",
       "                        break;\n",
       "                    }\n",
       "                }\n",
       "            }, 500);\n",
       "            "
      ],
      "text/plain": [
       "<IPython.core.display.Javascript object>"
      ]
     },
     "metadata": {},
     "output_type": "display_data"
    }
   ],
   "source": [
    "DICT = {key: i for i, key in enumerate(set(sum(pre_texts, [])))}"
   ]
  },
  {
   "cell_type": "code",
   "execution_count": 94,
   "metadata": {},
   "outputs": [
    {
     "data": {
      "application/javascript": [
       "\n",
       "            setTimeout(function() {\n",
       "                var nbb_cell_id = 94;\n",
       "                var nbb_unformatted_code = \"matrix = []\\nfor text in pre_texts:\\n    _x = [0]*len(DICT)\\n    for word in text:\\n        _x[DICT[word]] += 1\\n    matrix.append(_x)\";\n",
       "                var nbb_formatted_code = \"matrix = []\\nfor text in pre_texts:\\n    _x = [0] * len(DICT)\\n    for word in text:\\n        _x[DICT[word]] += 1\\n    matrix.append(_x)\";\n",
       "                var nbb_cells = Jupyter.notebook.get_cells();\n",
       "                for (var i = 0; i < nbb_cells.length; ++i) {\n",
       "                    if (nbb_cells[i].input_prompt_number == nbb_cell_id) {\n",
       "                        if (nbb_cells[i].get_text() == nbb_unformatted_code) {\n",
       "                             nbb_cells[i].set_text(nbb_formatted_code);\n",
       "                        }\n",
       "                        break;\n",
       "                    }\n",
       "                }\n",
       "            }, 500);\n",
       "            "
      ],
      "text/plain": [
       "<IPython.core.display.Javascript object>"
      ]
     },
     "metadata": {},
     "output_type": "display_data"
    }
   ],
   "source": [
    "matrix = []\n",
    "for text in pre_texts:\n",
    "    _x = [0]*len(DICT)\n",
    "    for word in text:\n",
    "        _x[DICT[word]] += 1\n",
    "    matrix.append(_x)"
   ]
  },
  {
   "cell_type": "code",
   "execution_count": 104,
   "metadata": {},
   "outputs": [
    {
     "data": {
      "application/javascript": [
       "\n",
       "            setTimeout(function() {\n",
       "                var nbb_cell_id = 104;\n",
       "                var nbb_unformatted_code = \"def euclidean_similarity(x: list, y: list) -> float:\\n    _sum = 0\\n    for i in range(len(x)):\\n        _sum += (x[i] - y[i]) ** 2\\n    _sum **= 1 / 2\\n\\n    return  _sum\";\n",
       "                var nbb_formatted_code = \"def euclidean_similarity(x: list, y: list) -> float:\\n    _sum = 0\\n    for i in range(len(x)):\\n        _sum += (x[i] - y[i]) ** 2\\n    _sum **= 1 / 2\\n\\n    return _sum\";\n",
       "                var nbb_cells = Jupyter.notebook.get_cells();\n",
       "                for (var i = 0; i < nbb_cells.length; ++i) {\n",
       "                    if (nbb_cells[i].input_prompt_number == nbb_cell_id) {\n",
       "                        if (nbb_cells[i].get_text() == nbb_unformatted_code) {\n",
       "                             nbb_cells[i].set_text(nbb_formatted_code);\n",
       "                        }\n",
       "                        break;\n",
       "                    }\n",
       "                }\n",
       "            }, 500);\n",
       "            "
      ],
      "text/plain": [
       "<IPython.core.display.Javascript object>"
      ]
     },
     "metadata": {},
     "output_type": "display_data"
    }
   ],
   "source": [
    "def euclidean_similarity(x: list, y: list) -> float:\n",
    "    _sum = 0\n",
    "    for i in range(len(x)):\n",
    "        _sum += (x[i] - y[i]) ** 2\n",
    "    _sum **= 1 / 2\n",
    "\n",
    "    return  _sum"
   ]
  },
  {
   "cell_type": "code",
   "execution_count": 80,
   "metadata": {},
   "outputs": [
    {
     "ename": "TypeError",
     "evalue": "unhashable type: 'list'",
     "output_type": "error",
     "traceback": [
      "\u001b[0;31m---------------------------------------------------------------------------\u001b[0m",
      "\u001b[0;31mTypeError\u001b[0m                                 Traceback (most recent call last)",
      "\u001b[0;32m<ipython-input-80-01794b9b49bc>\u001b[0m in \u001b[0;36m<module>\u001b[0;34m\u001b[0m\n\u001b[0;32m----> 1\u001b[0;31m \u001b[0mset\u001b[0m\u001b[0;34m(\u001b[0m\u001b[0mpre_texts\u001b[0m\u001b[0;34m)\u001b[0m\u001b[0;34m\u001b[0m\u001b[0;34m\u001b[0m\u001b[0m\n\u001b[0m",
      "\u001b[0;31mTypeError\u001b[0m: unhashable type: 'list'"
     ]
    },
    {
     "data": {
      "application/javascript": [
       "\n",
       "            setTimeout(function() {\n",
       "                var nbb_cell_id = 80;\n",
       "                var nbb_unformatted_code = \"set(pre_texts)\";\n",
       "                var nbb_formatted_code = \"set(pre_texts)\";\n",
       "                var nbb_cells = Jupyter.notebook.get_cells();\n",
       "                for (var i = 0; i < nbb_cells.length; ++i) {\n",
       "                    if (nbb_cells[i].input_prompt_number == nbb_cell_id) {\n",
       "                        if (nbb_cells[i].get_text() == nbb_unformatted_code) {\n",
       "                             nbb_cells[i].set_text(nbb_formatted_code);\n",
       "                        }\n",
       "                        break;\n",
       "                    }\n",
       "                }\n",
       "            }, 500);\n",
       "            "
      ],
      "text/plain": [
       "<IPython.core.display.Javascript object>"
      ]
     },
     "metadata": {},
     "output_type": "display_data"
    }
   ],
   "source": [
    "set(pre_texts)"
   ]
  },
  {
   "cell_type": "code",
   "execution_count": 48,
   "metadata": {},
   "outputs": [
    {
     "data": {
      "text/plain": [
       "'6 лет мы были небольшой «семейной компанией». Росли «с нуля» до команды в 25+ человек, от проектов на несколько десятков часов до проектов на несколько десятков тысяч часов.\\xa0В этом году мы приняли решение активно расти!\\xa0Планируем\\xa0открытие выделенного отдела, разрабатывающего собственные цифровые продукты.У нас есть:\\xa0интересные и амбициозные цели,\\xa0 миссия,\\xa0 классная корпоративная культура, в которой найдется место для талантливых разработчиков любого склада ума и психотипа. И конечно же огромное количество возможностей для роста: профессионального, личностного и материального.\\nПоэтому мы очень активно ищем\\xa0Front-end Developer(React.js)\\xa0разработчиков, которые готовы присоединиться к растущей компании и вместе с ней участвовать в построении чего-то интересного, яркого и уникального.\\n\\nОсновной стек:React.js от 2х летReduxJavaScriptБудет здорово, но необязательно:Понимание протоколов HTTP/TCP/UDPПонимание стилей проектирования API - REST, jsonRPCОценка задач по ТЗ и доработок по проектамTypescriptMobX\\n\\nМы предлагаем:\\nС первого дня по ТК РФ или оформление через ИП;График 5/2, фуллтайм, гибкое утро;Рабочее место там, где вам удобно и есть интернет;Интересные проекты с серьезными задачами в разных областях ;Возможность перемещаться между проектам;Возможность в создании собственного продукта внутри компании;Сплоченная и душевная команда молодых профессионалов, которая помогает, поддерживает и способствует развитию;Мы любим проактивность и инициативность, слушаем и слышим каждого;)Оставь свой отклик или напиши @lov_gor\\n\\n\\n\\n\\nБонусыЧастичная или полная оплата обучения английскому\\nДМС после испытательного срока\\n«Железо» от компании\\nВозможности горизонтального и вертикального карьерного роста\\nПрофессиональное обучение, наставничество и внутренние конференции'"
      ]
     },
     "execution_count": 48,
     "metadata": {},
     "output_type": "execute_result"
    },
    {
     "data": {
      "application/javascript": [
       "\n",
       "            setTimeout(function() {\n",
       "                var nbb_cell_id = 48;\n",
       "                var nbb_unformatted_code = \"lst[2]\";\n",
       "                var nbb_formatted_code = \"lst[2]\";\n",
       "                var nbb_cells = Jupyter.notebook.get_cells();\n",
       "                for (var i = 0; i < nbb_cells.length; ++i) {\n",
       "                    if (nbb_cells[i].input_prompt_number == nbb_cell_id) {\n",
       "                        if (nbb_cells[i].get_text() == nbb_unformatted_code) {\n",
       "                             nbb_cells[i].set_text(nbb_formatted_code);\n",
       "                        }\n",
       "                        break;\n",
       "                    }\n",
       "                }\n",
       "            }, 500);\n",
       "            "
      ],
      "text/plain": [
       "<IPython.core.display.Javascript object>"
      ]
     },
     "metadata": {},
     "output_type": "display_data"
    }
   ],
   "source": [
    "lst[2]"
   ]
  },
  {
   "cell_type": "code",
   "execution_count": 182,
   "metadata": {},
   "outputs": [
    {
     "name": "stderr",
     "output_type": "stream",
     "text": [
      " 12%|█▎        | 1/8 [00:02<00:15,  2.26s/it]"
     ]
    },
    {
     "name": "stdout",
     "output_type": "stream",
     "text": [
      "Division: backend; Mean salary: 196416.875\n"
     ]
    },
    {
     "name": "stderr",
     "output_type": "stream",
     "text": [
      "\r",
      " 25%|██▌       | 2/8 [00:04<00:14,  2.35s/it]"
     ]
    },
    {
     "name": "stdout",
     "output_type": "stream",
     "text": [
      "Division: frontend; Mean salary: 207860.21212121213\n"
     ]
    },
    {
     "name": "stderr",
     "output_type": "stream",
     "text": [
      "\r",
      " 38%|███▊      | 3/8 [00:07<00:12,  2.59s/it]"
     ]
    },
    {
     "name": "stdout",
     "output_type": "stream",
     "text": [
      "Division: apps; Mean salary: 208206.88888888888\n"
     ]
    },
    {
     "name": "stderr",
     "output_type": "stream",
     "text": [
      "\r",
      " 50%|█████     | 4/8 [00:15<00:15,  3.94s/it]"
     ]
    },
    {
     "name": "stdout",
     "output_type": "stream",
     "text": [
      "Division: design; Mean salary: 166334.73684210525\n"
     ]
    },
    {
     "name": "stderr",
     "output_type": "stream",
     "text": [
      "\r",
      " 62%|██████▎   | 5/8 [00:17<00:10,  3.48s/it]"
     ]
    },
    {
     "name": "stdout",
     "output_type": "stream",
     "text": [
      "Division: software; Mean salary: 206329.5\n"
     ]
    },
    {
     "name": "stderr",
     "output_type": "stream",
     "text": [
      "\r",
      " 75%|███████▌  | 6/8 [00:19<00:06,  3.03s/it]"
     ]
    },
    {
     "name": "stdout",
     "output_type": "stream",
     "text": [
      "Division: marketing; Mean salary: 131766.95652173914\n"
     ]
    },
    {
     "name": "stderr",
     "output_type": "stream",
     "text": [
      "\r",
      " 88%|████████▊ | 7/8 [00:22<00:02,  2.95s/it]"
     ]
    },
    {
     "name": "stdout",
     "output_type": "stream",
     "text": [
      "Division: management; Mean salary: 186545.80952380953\n"
     ]
    },
    {
     "name": "stderr",
     "output_type": "stream",
     "text": [
      "100%|██████████| 8/8 [00:24<00:00,  3.10s/it]"
     ]
    },
    {
     "name": "stdout",
     "output_type": "stream",
     "text": [
      "Division: analytics; Mean salary: 179333.5\n"
     ]
    },
    {
     "name": "stderr",
     "output_type": "stream",
     "text": [
      "\n"
     ]
    },
    {
     "data": {
      "application/javascript": [
       "\n",
       "            setTimeout(function() {\n",
       "                var nbb_cell_id = 182;\n",
       "                var nbb_unformatted_code = \"for div in tqdm(divisions):\\n    lst = []\\n    for p in range(1, 3):\\n        resp = requests.get(URL.format(div, p)).content\\n        soup = BeautifulSoup(resp, \\\"html.parser\\\")\\n\\n        for i in soup.find_all(\\\"div\\\", \\\"basic-salary\\\"):\\n\\n            if i.text:\\n                lst.append(toSalaryInRubs(i.text))\\n\\n    print(f\\\"Division: {div}; Mean salary: {sum(lst) / len(lst)}\\\")\";\n",
       "                var nbb_formatted_code = \"for div in tqdm(divisions):\\n    lst = []\\n    for p in range(1, 3):\\n        resp = requests.get(URL.format(div, p)).content\\n        soup = BeautifulSoup(resp, \\\"html.parser\\\")\\n\\n        for i in soup.find_all(\\\"div\\\", \\\"basic-salary\\\"):\\n\\n            if i.text:\\n                lst.append(toSalaryInRubs(i.text))\\n\\n    print(f\\\"Division: {div}; Mean salary: {sum(lst) / len(lst)}\\\")\";\n",
       "                var nbb_cells = Jupyter.notebook.get_cells();\n",
       "                for (var i = 0; i < nbb_cells.length; ++i) {\n",
       "                    if (nbb_cells[i].input_prompt_number == nbb_cell_id) {\n",
       "                        if (nbb_cells[i].get_text() == nbb_unformatted_code) {\n",
       "                             nbb_cells[i].set_text(nbb_formatted_code);\n",
       "                        }\n",
       "                        break;\n",
       "                    }\n",
       "                }\n",
       "            }, 500);\n",
       "            "
      ],
      "text/plain": [
       "<IPython.core.display.Javascript object>"
      ]
     },
     "metadata": {},
     "output_type": "display_data"
    }
   ],
   "source": [
    "for div in tqdm(divisions):\n",
    "    lst = []\n",
    "    for p in range(1, 3):\n",
    "        resp = requests.get(URL.format(div, p)).content\n",
    "        soup = BeautifulSoup(resp, \"html.parser\")\n",
    "\n",
    "        for i in soup.find_all(\"div\", \"basic-salary\"):\n",
    "            if i.text:\n",
    "                lst.append(toSalaryInRubs(i.text))\n",
    "\n",
    "    print(f\"Division: {div}; Mean salary: {sum(lst) / len(lst)}\")"
   ]
  },
  {
   "cell_type": "code",
   "execution_count": null,
   "metadata": {},
   "outputs": [],
   "source": [
    "exchange = {\"$\": 72.67, \"₽\": 1, \"€\": 84.26}"
   ]
  },
  {
   "cell_type": "code",
   "execution_count": 183,
   "metadata": {},
   "outputs": [
    {
     "data": {
      "text/plain": [
       "1"
      ]
     },
     "execution_count": 183,
     "metadata": {},
     "output_type": "execute_result"
    },
    {
     "data": {
      "application/javascript": [
       "\n",
       "            setTimeout(function() {\n",
       "                var nbb_cell_id = 183;\n",
       "                var nbb_unformatted_code = \"exchange[\\\"\\u20bd\\\"]\";\n",
       "                var nbb_formatted_code = \"exchange[\\\"\\u20bd\\\"]\";\n",
       "                var nbb_cells = Jupyter.notebook.get_cells();\n",
       "                for (var i = 0; i < nbb_cells.length; ++i) {\n",
       "                    if (nbb_cells[i].input_prompt_number == nbb_cell_id) {\n",
       "                        if (nbb_cells[i].get_text() == nbb_unformatted_code) {\n",
       "                             nbb_cells[i].set_text(nbb_formatted_code);\n",
       "                        }\n",
       "                        break;\n",
       "                    }\n",
       "                }\n",
       "            }, 500);\n",
       "            "
      ],
      "text/plain": [
       "<IPython.core.display.Javascript object>"
      ]
     },
     "metadata": {},
     "output_type": "display_data"
    }
   ],
   "source": [
    "exchange[\"₽\"]"
   ]
  },
  {
   "cell_type": "code",
   "execution_count": 169,
   "metadata": {},
   "outputs": [
    {
     "data": {
      "text/plain": [
       "327015.0"
      ]
     },
     "execution_count": 169,
     "metadata": {},
     "output_type": "execute_result"
    },
    {
     "data": {
      "application/javascript": [
       "\n",
       "            setTimeout(function() {\n",
       "                var nbb_cell_id = 169;\n",
       "                var nbb_unformatted_code = \"import re\\n\\n\\ndef minusSpace(x):\\n    return int(x.replace(\\\" \\\", \\\"\\\"))\\n\\n\\ndef toSalaryInRubs(line):\\n    _currency = line[-1]\\n    line = line[:-1].lower()\\n    line = re.sub(r\\\"[\\u0430-\\u044f]+\\\", \\\"\\\", line)\\n    lst = line.split(\\\"  \\\")\\n    lst = list(map(lambda x: int(x.replace(\\\" \\\", \\\"\\\")), lst))\\n\\n    return exchange[_currency] * (sum(lst) / len(lst))\\n\\n\\ntoSalaryInRubs(\\\"\\u043e\\u0442 3 500 \\u0434\\u043e 5 500 $\\\")\";\n",
       "                var nbb_formatted_code = \"import re\\n\\n\\ndef minusSpace(x):\\n    return int(x.replace(\\\" \\\", \\\"\\\"))\\n\\n\\ndef toSalaryInRubs(line):\\n    _currency = line[-1]\\n    line = line[:-1].lower()\\n    line = re.sub(r\\\"[\\u0430-\\u044f]+\\\", \\\"\\\", line)\\n    lst = line.split(\\\"  \\\")\\n    lst = list(map(lambda x: int(x.replace(\\\" \\\", \\\"\\\")), lst))\\n\\n    return exchange[_currency] * (sum(lst) / len(lst))\\n\\n\\ntoSalaryInRubs(\\\"\\u043e\\u0442 3 500 \\u0434\\u043e 5 500 $\\\")\";\n",
       "                var nbb_cells = Jupyter.notebook.get_cells();\n",
       "                for (var i = 0; i < nbb_cells.length; ++i) {\n",
       "                    if (nbb_cells[i].input_prompt_number == nbb_cell_id) {\n",
       "                        if (nbb_cells[i].get_text() == nbb_unformatted_code) {\n",
       "                             nbb_cells[i].set_text(nbb_formatted_code);\n",
       "                        }\n",
       "                        break;\n",
       "                    }\n",
       "                }\n",
       "            }, 500);\n",
       "            "
      ],
      "text/plain": [
       "<IPython.core.display.Javascript object>"
      ]
     },
     "metadata": {},
     "output_type": "display_data"
    }
   ],
   "source": [
    "import re\n",
    "\n",
    "\n",
    "def minusSpace(x):\n",
    "    return int(x.replace(\" \", \"\"))\n",
    "\n",
    "\n",
    "def toSalaryInRubs(line):\n",
    "    _currency = line[-1]\n",
    "    line = line[:-1].lower()\n",
    "    line = re.sub(r\"[а-я]+\", \"\", line)\n",
    "    lst = line.split(\"  \")\n",
    "    lst = list(map(lambda x: int(x.replace(\" \", \"\")), lst))\n",
    "\n",
    "    return exchange[_currency] * (sum(lst) / len(lst))\n",
    "\n",
    "\n",
    "toSalaryInRubs(\"от 3 500 до 5 500 $\")"
   ]
  },
  {
   "cell_type": "code",
   "execution_count": null,
   "metadata": {},
   "outputs": [],
   "source": []
  },
  {
   "cell_type": "code",
   "execution_count": null,
   "metadata": {},
   "outputs": [],
   "source": []
  },
  {
   "cell_type": "code",
   "execution_count": null,
   "metadata": {},
   "outputs": [],
   "source": []
  },
  {
   "cell_type": "code",
   "execution_count": null,
   "metadata": {},
   "outputs": [],
   "source": []
  },
  {
   "cell_type": "code",
   "execution_count": null,
   "metadata": {},
   "outputs": [],
   "source": []
  },
  {
   "cell_type": "code",
   "execution_count": null,
   "metadata": {},
   "outputs": [],
   "source": []
  },
  {
   "cell_type": "code",
   "execution_count": null,
   "metadata": {},
   "outputs": [],
   "source": []
  },
  {
   "cell_type": "code",
   "execution_count": null,
   "metadata": {},
   "outputs": [],
   "source": []
  },
  {
   "cell_type": "code",
   "execution_count": null,
   "metadata": {},
   "outputs": [],
   "source": []
  },
  {
   "cell_type": "code",
   "execution_count": null,
   "metadata": {},
   "outputs": [],
   "source": []
  },
  {
   "cell_type": "code",
   "execution_count": null,
   "metadata": {},
   "outputs": [],
   "source": [
    "import re\n",
    "\n",
    "\n",
    "def toSalaryInRubs(sal):\n",
    "\n",
    "    if not sal:\n",
    "        return\n",
    "    salary = 0\n",
    "    symbl = sal[-1]\n",
    "\n",
    "    sal = sal.lower()[:-1]\n",
    "    _val = sal.split(\"до\")\n",
    "\n",
    "    if len(_val) == 1:\n",
    "        return int(re.sub(r\"[а-я\\s]+\", \"\", _val[0])) * exchange[symbl]\n",
    "    if len(_val) == 2:\n",
    "        if _val[0]:\n",
    "            salary += int(re.sub(r\"[а-я\\s]+\", \"\", _val[0]))\n",
    "        salary += int(re.sub(r\"[а-я\\s]+\", \"\", _val[1]))\n",
    "        salary *= exchange[symbl]\n",
    "\n",
    "        return salary / 2\n",
    "\n",
    "\n",
    "toSalaryInRubs(\"от 3 200 $\")"
   ]
  },
  {
   "cell_type": "code",
   "execution_count": null,
   "metadata": {},
   "outputs": [],
   "source": []
  },
  {
   "cell_type": "code",
   "execution_count": null,
   "metadata": {},
   "outputs": [],
   "source": []
  },
  {
   "cell_type": "code",
   "execution_count": null,
   "metadata": {},
   "outputs": [],
   "source": [
    "vac = dict()\n",
    "print(vac.keys())\n",
    "for i in soup.find_all(\"div\", {\"class\": \"vacancy-card\"}):\n",
    "#     _nameCompany = i.find('div','vacancy-card__company-title').text\n",
    "#     vac[_nameCompany] = vac.get(_nameCompany,0) + 1\n",
    "#     print(i.find('div','vacancy-card__company-title').text)\n",
    "    print(i.find('div','basic-salary').text)\n",
    "#     break\n",
    "# vac"
   ]
  },
  {
   "cell_type": "code",
   "execution_count": null,
   "metadata": {},
   "outputs": [],
   "source": [
    "salaries = {}\n",
    "counterDiv = {}\n",
    "for div in divisions:\n",
    "    for i in range(1, 2):\n",
    "        resp = requests.get(URL.format(div, i)).content\n",
    "        soup = BeautifulSoup(resp, \"html.parser\")\n",
    "        for i in soup.find_all(\"div\", {\"class\": \"vacancy-card\"}):\n",
    "            _sal = toSalaryInRubs(i.find(\"div\", \"basic-salary\").text)\n",
    "            if _sal:\n",
    "                salaries[div] = salaries.get(div, 0) + _sal\n",
    "                counterDiv[div] = counterDiv.get(div, 0) + 1"
   ]
  },
  {
   "cell_type": "code",
   "execution_count": null,
   "metadata": {},
   "outputs": [],
   "source": [
    "habr_url = \"https://career.habr.com{}\""
   ]
  },
  {
   "cell_type": "code",
   "execution_count": null,
   "metadata": {},
   "outputs": [],
   "source": [
    "# temp_url = \"https://career.habr.com/vacancies?divisions[]=backend&type=all&page=1\"\n",
    "# resp = requests.get(temp_url).content\n",
    "# soup = BeautifulSoup(resp, \"html.parser\")\n",
    "\n",
    "for i in soup.find_all(\"div\", {\"class\": \"vacancy-card\"}):\n",
    "    _href = i.find(\"div\", \"vacancy-card__title\").a[\"href\"]\n",
    "    page = requests.get(habr_url.format(_href)).content\n",
    "    soup_page = BeautifulSoup(page, \"html.parser\")\n",
    "    description = soup_page.find(\"div\", \"job_show_description__body\").text\n",
    "\n",
    "    break"
   ]
  },
  {
   "cell_type": "code",
   "execution_count": null,
   "metadata": {},
   "outputs": [],
   "source": [
    "descriptions = []\n",
    "for div in divisions:\n",
    "    for i in range(1, 2):\n",
    "        resp = requests.get(URL.format(div, i)).content\n",
    "        soup = BeautifulSoup(resp, \"html.parser\")\n",
    "        for i in soup.find_all(\"div\", {\"class\": \"vacancy-card\"}):\n",
    "            _href = i.find(\"div\", \"vacancy-card__title\").a[\"href\"]\n",
    "            _page = requests.get(habr_url.format(_href)).content\n",
    "            _soup_page = BeautifulSoup(_page, \"html.parser\")\n",
    "            _description = _soup_page.find(\"div\", \"job_show_description__body\").text\n",
    "\n",
    "            descriptions.append((_description, div))"
   ]
  },
  {
   "cell_type": "code",
   "execution_count": 185,
   "metadata": {},
   "outputs": [
    {
     "data": {
      "text/plain": [
       "('О проекте:\\nМы международная компания, занимаемся интернет маркетингом. На рынке уже более 10 лет.\\nНа данный момент у нас несколько проектов в production:\\nСистема управления рекламным трафиком (performance network)Система для управления почтовыми рассылкамиСеть контентных ресурсов\\xa0Множество утилит по автоматизации процессов (у нас большая инфраструктура которой необходим мониторинг и обслуживание)\\nВ планах у нас помимо доработки существующих систем есть несколько новых проектов для реализации которых мы ищем хорошего специалиста.\\nПредлагаем работатать в небольшой команде без лишней бюрократии - вы будете общаться непосредственно с руководством, видеть результат совей работы в продакшн, получать обратную связь по результатам выполнения задач.\\nТребования:\\n\\nPHP 7, понимание и опыт с ООП, DILaravel - разработка Web приложений,\\xa0REST API, command line утилитMysql - помимо опыта создания схем БД которые работают под нагрузкой и с большим объемом данных (у нас бывают таблицы с десятками миллионов записей) большим плюсом будет понимание того как MySQL работает в кластереRedis - основные команды, операции со спискамиRabbitMQ или аналогичная MQ система - будет большим плюсом опты работы с очередямиClickhouse - общее представление о хранении и обработке данныхFrontend: большим плюсом будет знание ReactJSHTML/CSS, Twitter bootstrap, умение верстать (PSD->HTML) не требуется, но приветствуетсяLinux (CentOS, Ubuntu) - понимание файловой системы, сети, установки софта, настройки веб сервера (достаточно понимания, не обязательно быть экспертом)Git, управление бранчами и развертыванием приложенийDocker для локальной разработки, мы пользуемся Laradock, а так же своими наработкамиЗнание Phpunit будет большим плюсомВладение английским языком на уровне чтения документации\\nУсловия:Remote onlyГибкий графикГотовы обсуждать повышение уровня оплаты трудаПремии по результатам работыДополнительные инструкцииНа интервью мы не задаем каверзных вопросов и не просим написать алгоритм сортировки пузырьком на листе бумаги)\\nСамое важное это качество кода, он должен быть понятным для коллег, поддерживаемым и соответствовать современным стандартам. Поэтому обычно мы просим кандидатов выполнить небольшое тестовое задание или показать пример написанного самостоятельно кода с пояснениями.',\n",
       " 'backend')"
      ]
     },
     "execution_count": 185,
     "metadata": {},
     "output_type": "execute_result"
    },
    {
     "data": {
      "application/javascript": [
       "\n",
       "            setTimeout(function() {\n",
       "                var nbb_cell_id = 185;\n",
       "                var nbb_unformatted_code = \"descriptions[0]\";\n",
       "                var nbb_formatted_code = \"descriptions[0]\";\n",
       "                var nbb_cells = Jupyter.notebook.get_cells();\n",
       "                for (var i = 0; i < nbb_cells.length; ++i) {\n",
       "                    if (nbb_cells[i].input_prompt_number == nbb_cell_id) {\n",
       "                        if (nbb_cells[i].get_text() == nbb_unformatted_code) {\n",
       "                             nbb_cells[i].set_text(nbb_formatted_code);\n",
       "                        }\n",
       "                        break;\n",
       "                    }\n",
       "                }\n",
       "            }, 500);\n",
       "            "
      ],
      "text/plain": [
       "<IPython.core.display.Javascript object>"
      ]
     },
     "metadata": {},
     "output_type": "display_data"
    }
   ],
   "source": [
    "descriptions[0]"
   ]
  },
  {
   "cell_type": "code",
   "execution_count": 186,
   "metadata": {},
   "outputs": [
    {
     "data": {
      "text/plain": [
       "91"
      ]
     },
     "execution_count": 186,
     "metadata": {},
     "output_type": "execute_result"
    },
    {
     "data": {
      "application/javascript": [
       "\n",
       "            setTimeout(function() {\n",
       "                var nbb_cell_id = 186;\n",
       "                var nbb_unformatted_code = \"len(descriptions)\";\n",
       "                var nbb_formatted_code = \"len(descriptions)\";\n",
       "                var nbb_cells = Jupyter.notebook.get_cells();\n",
       "                for (var i = 0; i < nbb_cells.length; ++i) {\n",
       "                    if (nbb_cells[i].input_prompt_number == nbb_cell_id) {\n",
       "                        if (nbb_cells[i].get_text() == nbb_unformatted_code) {\n",
       "                             nbb_cells[i].set_text(nbb_formatted_code);\n",
       "                        }\n",
       "                        break;\n",
       "                    }\n",
       "                }\n",
       "            }, 500);\n",
       "            "
      ],
      "text/plain": [
       "<IPython.core.display.Javascript object>"
      ]
     },
     "metadata": {},
     "output_type": "display_data"
    }
   ],
   "source": [
    "len(descriptions)"
   ]
  },
  {
   "cell_type": "code",
   "execution_count": 276,
   "metadata": {},
   "outputs": [
    {
     "name": "stdout",
     "output_type": "stream",
     "text": [
      "[DocSpan(start=790, stop=793, type='ORG', text='ООП', tokens=[...]), DocSpan(start=1322, stop=1329, type='ORG', text='Twitter', tokens=[...]), DocSpan(start=1551, stop=1554, type='ORG', text='Git', tokens=[...])]\n"
     ]
    },
    {
     "data": {
      "text/plain": [
       "['проект',\n",
       " 'международный',\n",
       " 'компания',\n",
       " 'заниматься',\n",
       " 'интернет',\n",
       " 'маркетинг',\n",
       " 'рынок',\n",
       " 'уже',\n",
       " 'более',\n",
       " 'год',\n",
       " 'данный',\n",
       " 'момент',\n",
       " 'несколько',\n",
       " 'проект',\n",
       " 'production',\n",
       " 'система',\n",
       " 'управление',\n",
       " 'рекламный',\n",
       " 'трафик',\n",
       " 'performance',\n",
       " 'network',\n",
       " 'система',\n",
       " 'управление',\n",
       " 'почтовый',\n",
       " 'рассылкамисеть',\n",
       " 'контентный',\n",
       " 'ресурс',\n",
       " 'множество',\n",
       " 'утилита',\n",
       " 'автоматизация',\n",
       " 'процесс',\n",
       " 'больший',\n",
       " 'инфраструктура',\n",
       " 'необходимый',\n",
       " 'мониторинг',\n",
       " 'обслуживание',\n",
       " 'план',\n",
       " 'доработка',\n",
       " 'существовать',\n",
       " 'система',\n",
       " 'быть',\n",
       " 'несколько',\n",
       " 'новый',\n",
       " 'проект',\n",
       " 'реализация',\n",
       " 'искать',\n",
       " 'хороший',\n",
       " 'специалист',\n",
       " 'предлагать',\n",
       " 'работатать',\n",
       " 'небольшой',\n",
       " 'команда',\n",
       " 'лишний',\n",
       " 'бюрократия',\n",
       " 'быть',\n",
       " 'общаться',\n",
       " 'непосредственно',\n",
       " 'руководство',\n",
       " 'видеть',\n",
       " 'результат',\n",
       " 'советь',\n",
       " 'работа',\n",
       " 'продакшн',\n",
       " 'получать',\n",
       " 'обратный',\n",
       " 'связь',\n",
       " 'результат',\n",
       " 'выполнение',\n",
       " 'задача',\n",
       " 'требование',\n",
       " 'php',\n",
       " 'понимание',\n",
       " 'опыт',\n",
       " 'ооп',\n",
       " 'dilaravel',\n",
       " 'разработка',\n",
       " 'web',\n",
       " 'приложение',\n",
       " 'rest',\n",
       " 'api',\n",
       " 'command',\n",
       " 'line',\n",
       " 'утилит',\n",
       " 'mysql',\n",
       " 'опыт',\n",
       " 'создание',\n",
       " 'схема',\n",
       " 'бд',\n",
       " 'работать',\n",
       " 'нагрузка',\n",
       " 'больший',\n",
       " 'объем',\n",
       " 'данные',\n",
       " 'бывать',\n",
       " 'таблица',\n",
       " 'десяток',\n",
       " 'миллион',\n",
       " 'запись',\n",
       " 'больший',\n",
       " 'плюс',\n",
       " 'быть',\n",
       " 'понимание',\n",
       " 'как',\n",
       " 'mysql',\n",
       " 'работать',\n",
       " 'кластер',\n",
       " 'redis',\n",
       " 'основной',\n",
       " 'команда',\n",
       " 'операция',\n",
       " 'список',\n",
       " 'rabbitmq',\n",
       " 'аналогичный',\n",
       " 'mq',\n",
       " 'система',\n",
       " 'быть',\n",
       " 'больший',\n",
       " 'плюс',\n",
       " 'опты',\n",
       " 'работа',\n",
       " 'очередь',\n",
       " 'clickhouse',\n",
       " 'общий',\n",
       " 'представление',\n",
       " 'хранение',\n",
       " 'обработка',\n",
       " 'данные',\n",
       " 'frontend',\n",
       " 'больший',\n",
       " 'плюс',\n",
       " 'быть',\n",
       " 'знание',\n",
       " 'reactjshtml',\n",
       " 'css',\n",
       " 'twitter',\n",
       " 'bootstrap',\n",
       " 'умение',\n",
       " 'верстать',\n",
       " 'psd',\n",
       " 'html',\n",
       " 'требоваться',\n",
       " 'приветствоваться',\n",
       " 'linux',\n",
       " 'centos',\n",
       " 'ubuntu',\n",
       " 'понимание',\n",
       " 'файловый',\n",
       " 'система',\n",
       " 'сеть',\n",
       " 'установка',\n",
       " 'софт',\n",
       " 'настройка',\n",
       " 'веб',\n",
       " 'сервер',\n",
       " 'достаточно',\n",
       " 'понимание',\n",
       " 'обязательно',\n",
       " 'быть',\n",
       " 'эксперт',\n",
       " 'git',\n",
       " 'управление',\n",
       " 'бранч',\n",
       " 'развертывание',\n",
       " 'приложение',\n",
       " 'docker',\n",
       " 'локальный',\n",
       " 'разработка',\n",
       " 'пользоваться',\n",
       " 'laradock',\n",
       " 'так',\n",
       " 'свой',\n",
       " 'наработкамизнание',\n",
       " 'phpunit',\n",
       " 'быть',\n",
       " 'больший',\n",
       " 'плюсомвладение',\n",
       " 'английский',\n",
       " 'язык',\n",
       " 'уровень',\n",
       " 'чтение',\n",
       " 'документация',\n",
       " 'условие',\n",
       " 'remote',\n",
       " 'only',\n",
       " 'гибкий',\n",
       " 'обсуждать',\n",
       " 'повышение',\n",
       " 'уровень',\n",
       " 'оплата',\n",
       " 'трудапремия',\n",
       " 'результат',\n",
       " 'работыдополнительная',\n",
       " 'интервью',\n",
       " 'задавать',\n",
       " 'каверзный',\n",
       " 'вопрос',\n",
       " 'просить',\n",
       " 'написать',\n",
       " 'алгоритм',\n",
       " 'сортировка',\n",
       " 'пузырек',\n",
       " 'лист',\n",
       " 'бумага',\n",
       " 'самый',\n",
       " 'важный',\n",
       " 'это',\n",
       " 'качество',\n",
       " 'код',\n",
       " 'должный',\n",
       " 'быть',\n",
       " 'понятный',\n",
       " 'коллега',\n",
       " 'поддерживать',\n",
       " 'соответствовать',\n",
       " 'современный',\n",
       " 'стандарт',\n",
       " 'поэтому',\n",
       " 'обычно',\n",
       " 'просить',\n",
       " 'кандидат',\n",
       " 'выполнить',\n",
       " 'небольшой',\n",
       " 'тестовый',\n",
       " 'задание',\n",
       " 'показать',\n",
       " 'пример',\n",
       " 'написать',\n",
       " 'самостоятельно',\n",
       " 'код',\n",
       " 'пояснение']"
      ]
     },
     "execution_count": 276,
     "metadata": {},
     "output_type": "execute_result"
    },
    {
     "data": {
      "application/javascript": [
       "\n",
       "            setTimeout(function() {\n",
       "                var nbb_cell_id = 275;\n",
       "                var nbb_unformatted_code = \"def preprocess(text: str) -> str:\\n    _text = text#.lower()\\n\\n    doc = Doc(_text)\\n    doc.segment(segmenter)\\n    doc.tag_morph(morph_tagger)\\n    \\n\\n    tokens = [token for token in doc.tokens if token.text.isalpha()]\\n    for token in tokens:\\n        token.lemmatize(morph_vocab)\\n    doc.tag_ner(ner_tagger)\\n    print(doc.span)\\n    tokens = [\\n        token.lemma\\n        for token in tokens\\n        if token.pos not in [\\\"ADP\\\", \\\"PRON\\\", \\\"CCONJ\\\", \\\"PART\\\"]\\n    ]\\n\\n    return tokens\\n\\n\\npreprocessed_texts = list(map(preprocess, [i[0] for i in descriptions[:1]]))\\npreprocessed_texts[0]\";\n",
       "                var nbb_formatted_code = \"def preprocess(text: str) -> str:\\n    _text = text  # .lower()\\n\\n    doc = Doc(_text)\\n    doc.segment(segmenter)\\n    doc.tag_morph(morph_tagger)\\n\\n    tokens = [token for token in doc.tokens if token.text.isalpha()]\\n    for token in tokens:\\n        token.lemmatize(morph_vocab)\\n    doc.tag_ner(ner_tagger)\\n    print(doc.span)\\n    tokens = [\\n        token.lemma\\n        for token in tokens\\n        if token.pos not in [\\\"ADP\\\", \\\"PRON\\\", \\\"CCONJ\\\", \\\"PART\\\"]\\n    ]\\n\\n    return tokens\\n\\n\\npreprocessed_texts = list(map(preprocess, [i[0] for i in descriptions[:1]]))\\npreprocessed_texts[0]\";\n",
       "                var nbb_cells = Jupyter.notebook.get_cells();\n",
       "                for (var i = 0; i < nbb_cells.length; ++i) {\n",
       "                    if (nbb_cells[i].input_prompt_number == nbb_cell_id) {\n",
       "                        if (nbb_cells[i].get_text() == nbb_unformatted_code) {\n",
       "                             nbb_cells[i].set_text(nbb_formatted_code);\n",
       "                        }\n",
       "                        break;\n",
       "                    }\n",
       "                }\n",
       "            }, 500);\n",
       "            "
      ],
      "text/plain": [
       "<IPython.core.display.Javascript object>"
      ]
     },
     "metadata": {},
     "output_type": "display_data"
    }
   ],
   "source": [
    "def preprocess(text: str) -> str:\n",
    "#     _text = text.lower()\n",
    "\n",
    "    doc = Doc(_text)\n",
    "    doc.segment(segmenter)\n",
    "    doc.tag_morph(morph_tagger)\n",
    "\n",
    "    tokens = [token for token in doc.tokens if token.text.isalpha()]\n",
    "    for token in tokens:\n",
    "        token.lemmatize(morph_vocab)\n",
    "\n",
    "    tokens = [\n",
    "        token.lemma\n",
    "        for token in tokens\n",
    "        if token.pos not in [\"ADP\", \"PRON\", \"CCONJ\", \"PART\"]\n",
    "    ]\n",
    "\n",
    "    return tokens\n",
    "\n",
    "\n",
    "preprocessed_texts = list(map(preprocess, [i[0] for i in descriptions]))\n",
    "preprocessed_texts[0]"
   ]
  },
  {
   "cell_type": "code",
   "execution_count": 259,
   "metadata": {},
   "outputs": [
    {
     "data": {
      "application/javascript": [
       "\n",
       "            setTimeout(function() {\n",
       "                var nbb_cell_id = 259;\n",
       "                var nbb_unformatted_code = \"def hamming_similarity(x: list, y: list) -> int:\\n    _count = len(set(x).intersection(set(y)))\\n    return _count\\n\\n\\ndef euclidean_similarity(x: list, y: list) -> float:\\n    _sum = 0\\n    for i in range(len(x)):\\n        _sum += (x[i] - y[i]) ** 2\\n    _sum **= 1 / 2\\n\\n    return 1 / _sum\\n\\n\\ndef cos_similarity(x: list, y: list) -> float:\\n    num = 0\\n    dem = [0, 0]\\n    for i in range(len(x)):\\n        num += x[i] * y[i]\\n        dem[0] += x[i] ** 2\\n        dem[1] += y[i] ** 2\\n    \\n    return num / ((dem[0] * dem[1]) ** 1 / 2)\";\n",
       "                var nbb_formatted_code = \"def hamming_similarity(x: list, y: list) -> int:\\n    _count = len(set(x).intersection(set(y)))\\n    return _count\\n\\n\\ndef euclidean_similarity(x: list, y: list) -> float:\\n    _sum = 0\\n    for i in range(len(x)):\\n        _sum += (x[i] - y[i]) ** 2\\n    _sum **= 1 / 2\\n\\n    return 1 / _sum\\n\\n\\ndef cos_similarity(x: list, y: list) -> float:\\n    num = 0\\n    dem = [0, 0]\\n    for i in range(len(x)):\\n        num += x[i] * y[i]\\n        dem[0] += x[i] ** 2\\n        dem[1] += y[i] ** 2\\n\\n    return num / ((dem[0] * dem[1]) ** 1 / 2)\";\n",
       "                var nbb_cells = Jupyter.notebook.get_cells();\n",
       "                for (var i = 0; i < nbb_cells.length; ++i) {\n",
       "                    if (nbb_cells[i].input_prompt_number == nbb_cell_id) {\n",
       "                        if (nbb_cells[i].get_text() == nbb_unformatted_code) {\n",
       "                             nbb_cells[i].set_text(nbb_formatted_code);\n",
       "                        }\n",
       "                        break;\n",
       "                    }\n",
       "                }\n",
       "            }, 500);\n",
       "            "
      ],
      "text/plain": [
       "<IPython.core.display.Javascript object>"
      ]
     },
     "metadata": {},
     "output_type": "display_data"
    }
   ],
   "source": [
    "def hamming_similarity(x: list, y: list) -> int:\n",
    "    _count = len(set(x).intersection(set(y)))\n",
    "    return _count\n",
    "\n",
    "\n",
    "def euclidean_similarity(x: list, y: list) -> float:\n",
    "    _sum = 0\n",
    "    for i in range(len(x)):\n",
    "        _sum += (x[i] - y[i]) ** 2\n",
    "    _sum **= 1 / 2\n",
    "\n",
    "    return 1 / _sum\n",
    "\n",
    "\n",
    "def cos_similarity(x: list, y: list) -> float:\n",
    "    num = 0\n",
    "    dem = [0, 0]\n",
    "    for i in range(len(x)):\n",
    "        num += x[i] * y[i]\n",
    "        dem[0] += x[i] ** 2\n",
    "        dem[1] += y[i] ** 2\n",
    "\n",
    "    return num / ((dem[0] * dem[1]) ** 1 / 2)"
   ]
  },
  {
   "cell_type": "code",
   "execution_count": 260,
   "metadata": {},
   "outputs": [
    {
     "data": {
      "application/javascript": [
       "\n",
       "            setTimeout(function() {\n",
       "                var nbb_cell_id = 260;\n",
       "                var nbb_unformatted_code = \"def getSimilar(idx: int, metric) -> int:\\n    _target = matrix[idx]\\n    _max_v, _max_i = 0, -1\\n    for i, vector in enumerate(matrix):\\n        if idx == i:\\n            continue\\n        _e = metric(_target, vector)\\n        if _max_v < _e:\\n            _max_v = _e\\n            _max_i = i\\n    return _max_i\";\n",
       "                var nbb_formatted_code = \"def getSimilar(idx: int, metric) -> int:\\n    _target = matrix[idx]\\n    _max_v, _max_i = 0, -1\\n    for i, vector in enumerate(matrix):\\n        if idx == i:\\n            continue\\n        _e = metric(_target, vector)\\n        if _max_v < _e:\\n            _max_v = _e\\n            _max_i = i\\n    return _max_i\";\n",
       "                var nbb_cells = Jupyter.notebook.get_cells();\n",
       "                for (var i = 0; i < nbb_cells.length; ++i) {\n",
       "                    if (nbb_cells[i].input_prompt_number == nbb_cell_id) {\n",
       "                        if (nbb_cells[i].get_text() == nbb_unformatted_code) {\n",
       "                             nbb_cells[i].set_text(nbb_formatted_code);\n",
       "                        }\n",
       "                        break;\n",
       "                    }\n",
       "                }\n",
       "            }, 500);\n",
       "            "
      ],
      "text/plain": [
       "<IPython.core.display.Javascript object>"
      ]
     },
     "metadata": {},
     "output_type": "display_data"
    }
   ],
   "source": [
    "def getSimilar(idx: int, metric) -> int:\n",
    "    _target = matrix[idx]\n",
    "    _max_v, _max_i = 0, -1\n",
    "    for i, vector in enumerate(matrix):\n",
    "        if idx == i:\n",
    "            continue\n",
    "        _e = metric(_target, vector)\n",
    "        if _max_v < _e:\n",
    "            _max_v = _e\n",
    "            _max_i = i\n",
    "    return _max_i"
   ]
  },
  {
   "cell_type": "code",
   "execution_count": 268,
   "metadata": {},
   "outputs": [
    {
     "name": "stdout",
     "output_type": "stream",
     "text": [
      "--- 0 ---\n",
      "15 23 23\n",
      "--- 10 ---\n",
      "0 41 37\n",
      "--- 20 ---\n",
      "0 23 23\n",
      "--- 30 ---\n",
      "39 15 37\n",
      "--- 40 ---\n",
      "0 41 46\n",
      "--- 50 ---\n",
      "14 53 53\n",
      "--- 60 ---\n",
      "0 41 59\n",
      "--- 70 ---\n",
      "0 67 67\n",
      "--- 80 ---\n",
      "0 41 76\n",
      "--- 90 ---\n",
      "0 25 75\n"
     ]
    },
    {
     "data": {
      "application/javascript": [
       "\n",
       "            setTimeout(function() {\n",
       "                var nbb_cell_id = 268;\n",
       "                var nbb_unformatted_code = \"for i in range(0, 91, 10):\\n    print(f\\\"--- {i} ---\\\")\\n    print(\\n        getSimilar(i, hamming_similarity),\\n        getSimilar(i, euclidean_similarity),\\n        getSimilar(i, cos_similarity),\\n    )\";\n",
       "                var nbb_formatted_code = \"for i in range(0, 91, 10):\\n    print(f\\\"--- {i} ---\\\")\\n    print(\\n        getSimilar(i, hamming_similarity),\\n        getSimilar(i, euclidean_similarity),\\n        getSimilar(i, cos_similarity),\\n    )\";\n",
       "                var nbb_cells = Jupyter.notebook.get_cells();\n",
       "                for (var i = 0; i < nbb_cells.length; ++i) {\n",
       "                    if (nbb_cells[i].input_prompt_number == nbb_cell_id) {\n",
       "                        if (nbb_cells[i].get_text() == nbb_unformatted_code) {\n",
       "                             nbb_cells[i].set_text(nbb_formatted_code);\n",
       "                        }\n",
       "                        break;\n",
       "                    }\n",
       "                }\n",
       "            }, 500);\n",
       "            "
      ],
      "text/plain": [
       "<IPython.core.display.Javascript object>"
      ]
     },
     "metadata": {},
     "output_type": "display_data"
    }
   ],
   "source": [
    "for i in range(0, 91, 10):\n",
    "    print(f\"--- {i} ---\")\n",
    "    print(\n",
    "        getSimilar(i, hamming_similarity),\n",
    "        getSimilar(i, euclidean_similarity),\n",
    "        getSimilar(i, cos_similarity),\n",
    "    )"
   ]
  },
  {
   "cell_type": "code",
   "execution_count": 236,
   "metadata": {},
   "outputs": [
    {
     "data": {
      "application/javascript": [
       "\n",
       "            setTimeout(function() {\n",
       "                var nbb_cell_id = 236;\n",
       "                var nbb_unformatted_code = \"_target = preprocessed_texts[0]\\n_max_v, _max_i = 0, 1\\nfor i, text in enumerate(preprocessed_texts[1:]):\\n    _h = hamming_similarity(_target, text)\\n#     print(i, _h)\\n    if _max_v < _h:\\n        _max_v = _h\\n        _max_i = i\";\n",
       "                var nbb_formatted_code = \"_target = preprocessed_texts[0]\\n_max_v, _max_i = 0, 1\\nfor i, text in enumerate(preprocessed_texts[1:]):\\n    _h = hamming_similarity(_target, text)\\n    #     print(i, _h)\\n    if _max_v < _h:\\n        _max_v = _h\\n        _max_i = i\";\n",
       "                var nbb_cells = Jupyter.notebook.get_cells();\n",
       "                for (var i = 0; i < nbb_cells.length; ++i) {\n",
       "                    if (nbb_cells[i].input_prompt_number == nbb_cell_id) {\n",
       "                        if (nbb_cells[i].get_text() == nbb_unformatted_code) {\n",
       "                             nbb_cells[i].set_text(nbb_formatted_code);\n",
       "                        }\n",
       "                        break;\n",
       "                    }\n",
       "                }\n",
       "            }, 500);\n",
       "            "
      ],
      "text/plain": [
       "<IPython.core.display.Javascript object>"
      ]
     },
     "metadata": {},
     "output_type": "display_data"
    }
   ],
   "source": [
    "_target = preprocessed_texts[0]\n",
    "_max_v, _max_i = 0, 1\n",
    "for i, text in enumerate(preprocessed_texts[1:]):\n",
    "    _h = hamming_similarity(_target, text)\n",
    "\n",
    "    if _max_v < _h:\n",
    "        _max_v = _h\n",
    "        _max_i = i"
   ]
  },
  {
   "cell_type": "code",
   "execution_count": 269,
   "metadata": {},
   "outputs": [
    {
     "data": {
      "text/plain": [
       "('В международную компанию - вендор Humanforce (TimeTarget) с офисом в г. Пенза (центральный офис г. Сидней) на постоянной основе требуется – Android\\xa0разработчик, со знанием kotlin.\\nОсновные обязанности и требования:\\n\\nопыт      найтивной разработки под Android платформу;\\nопыт      коммерческой разработки Kotlin/Java;\\nзнание      принципов ООП, паттернов проектирования и умение их применять (MVC, MVVM);\\nопыт      работы со стандартными сервисами Android OS;\\nзнание      архитектурных компонентов (ViewModel, LiveData);\\nопыт      работы с Git: branching, merging и т.д., JIRA;\\nзнание      английского языка, достаточного для взаимодействия с распределенной      командой (навыки письменного английского, минимальные навыки разговорного      английского).\\n\\nМы предлагаем\\n\\nофициальное      трудоустройство, конкурентную заработную плату, годовые премии;\\nработу      в комфортном современном офисе в центре г. Пензы с оснащенным снэк-баром;\\nгибкий      режим работы (удаленная работа\\\\работа из офиса - компенсация расходов на      оплату стоимости проезда (Яндекс такси));\\nпоощрение      обучения (выделение времени), компенсация стоимости прохождения      сертифицированных экзаменов;\\nвозможность      совершенствования английского языка в команде с носителями языка;\\nкомпания      оплачивает различные совместные мероприятия.\\n\\nЕсли вы хотите работать в больших и сложных проектах и быстро меняющемся окружении, а также ищете новые возможности для своего развития приходите к нам!',\n",
       " 'apps')"
      ]
     },
     "execution_count": 269,
     "metadata": {},
     "output_type": "execute_result"
    },
    {
     "data": {
      "application/javascript": [
       "\n",
       "            setTimeout(function() {\n",
       "                var nbb_cell_id = 269;\n",
       "                var nbb_unformatted_code = \"descriptions[70]\";\n",
       "                var nbb_formatted_code = \"descriptions[70]\";\n",
       "                var nbb_cells = Jupyter.notebook.get_cells();\n",
       "                for (var i = 0; i < nbb_cells.length; ++i) {\n",
       "                    if (nbb_cells[i].input_prompt_number == nbb_cell_id) {\n",
       "                        if (nbb_cells[i].get_text() == nbb_unformatted_code) {\n",
       "                             nbb_cells[i].set_text(nbb_formatted_code);\n",
       "                        }\n",
       "                        break;\n",
       "                    }\n",
       "                }\n",
       "            }, 500);\n",
       "            "
      ],
      "text/plain": [
       "<IPython.core.display.Javascript object>"
      ]
     },
     "metadata": {},
     "output_type": "display_data"
    }
   ],
   "source": [
    "descriptions[70]"
   ]
  },
  {
   "cell_type": "code",
   "execution_count": 270,
   "metadata": {},
   "outputs": [
    {
     "data": {
      "text/plain": [
       "('Мы ждем от тебя:\\nОпыт коммерческой разработки iOS приложенийНаличие опубликованных приложений в AppStoreОтличное знание SwiftПонимание принципов работы RESTful API и HTTPПонимание архитектурных паттернов MVC, MVVMРабота согласно SOLIDЗнание и опыт работы с Core DataПонимание iOS Human Interface GuidelinesУверенную работу с UI, Autolayout и анимациейУверенную работу с многопоточностьюОпыт работы с MapsKitОпыт интеграции платежных сервисовОпыт работы с WebSocketsБонусыМы предлагаем:\\nРаботу в отличной команде — наши менеджеры, дизайнеры и разработчики по-настоящему влюблены в свое дело;Бесплатные профессиональные курсы, доступные всем сотрудникам офиса;100% компенсацию приобретения профессиональной литературы;Официальное трудоустройство, гибкий режим рабочего времени.',\n",
       " 'apps')"
      ]
     },
     "execution_count": 270,
     "metadata": {},
     "output_type": "execute_result"
    },
    {
     "data": {
      "application/javascript": [
       "\n",
       "            setTimeout(function() {\n",
       "                var nbb_cell_id = 270;\n",
       "                var nbb_unformatted_code = \"descriptions[67]\";\n",
       "                var nbb_formatted_code = \"descriptions[67]\";\n",
       "                var nbb_cells = Jupyter.notebook.get_cells();\n",
       "                for (var i = 0; i < nbb_cells.length; ++i) {\n",
       "                    if (nbb_cells[i].input_prompt_number == nbb_cell_id) {\n",
       "                        if (nbb_cells[i].get_text() == nbb_unformatted_code) {\n",
       "                             nbb_cells[i].set_text(nbb_formatted_code);\n",
       "                        }\n",
       "                        break;\n",
       "                    }\n",
       "                }\n",
       "            }, 500);\n",
       "            "
      ],
      "text/plain": [
       "<IPython.core.display.Javascript object>"
      ]
     },
     "metadata": {},
     "output_type": "display_data"
    }
   ],
   "source": [
    "descriptions[67]"
   ]
  },
  {
   "cell_type": "code",
   "execution_count": 233,
   "metadata": {},
   "outputs": [
    {
     "data": {
      "text/plain": [
       "(42, 60)"
      ]
     },
     "execution_count": 233,
     "metadata": {},
     "output_type": "execute_result"
    },
    {
     "data": {
      "application/javascript": [
       "\n",
       "            setTimeout(function() {\n",
       "                var nbb_cell_id = 233;\n",
       "                var nbb_unformatted_code = \"_max_v, _max_i\";\n",
       "                var nbb_formatted_code = \"_max_v, _max_i\";\n",
       "                var nbb_cells = Jupyter.notebook.get_cells();\n",
       "                for (var i = 0; i < nbb_cells.length; ++i) {\n",
       "                    if (nbb_cells[i].input_prompt_number == nbb_cell_id) {\n",
       "                        if (nbb_cells[i].get_text() == nbb_unformatted_code) {\n",
       "                             nbb_cells[i].set_text(nbb_formatted_code);\n",
       "                        }\n",
       "                        break;\n",
       "                    }\n",
       "                }\n",
       "            }, 500);\n",
       "            "
      ],
      "text/plain": [
       "<IPython.core.display.Javascript object>"
      ]
     },
     "metadata": {},
     "output_type": "display_data"
    }
   ],
   "source": [
    "_max_v, _max_i"
   ]
  },
  {
   "cell_type": "code",
   "execution_count": 206,
   "metadata": {},
   "outputs": [
    {
     "data": {
      "text/plain": [
       "319"
      ]
     },
     "execution_count": 206,
     "metadata": {},
     "output_type": "execute_result"
    },
    {
     "data": {
      "application/javascript": [
       "\n",
       "            setTimeout(function() {\n",
       "                var nbb_cell_id = 206;\n",
       "                var nbb_unformatted_code = \"len(set(sum(preprocessed_texts[:2], [])))\";\n",
       "                var nbb_formatted_code = \"len(set(sum(preprocessed_texts[:2], [])))\";\n",
       "                var nbb_cells = Jupyter.notebook.get_cells();\n",
       "                for (var i = 0; i < nbb_cells.length; ++i) {\n",
       "                    if (nbb_cells[i].input_prompt_number == nbb_cell_id) {\n",
       "                        if (nbb_cells[i].get_text() == nbb_unformatted_code) {\n",
       "                             nbb_cells[i].set_text(nbb_formatted_code);\n",
       "                        }\n",
       "                        break;\n",
       "                    }\n",
       "                }\n",
       "            }, 500);\n",
       "            "
      ],
      "text/plain": [
       "<IPython.core.display.Javascript object>"
      ]
     },
     "metadata": {},
     "output_type": "display_data"
    }
   ],
   "source": [
    "len(set(sum(preprocessed_texts[:2], [])))"
   ]
  },
  {
   "cell_type": "code",
   "execution_count": 209,
   "metadata": {},
   "outputs": [
    {
     "name": "stdout",
     "output_type": "stream",
     "text": [
      "0 ['проект', 'международный', 'компания', 'заниматься', 'интернет', 'маркетинг', 'рынок', 'уже', 'более', 'год', 'данный', 'момент', 'несколько', 'проект', 'production', 'система', 'управление', 'рекламный', 'трафик', 'performance', 'network', 'система', 'управление', 'почтовый', 'рассылкамисеть', 'контентный', 'ресурс', 'множество', 'утилита', 'автоматизация', 'процесс', 'больший', 'инфраструктура', 'необходимый', 'мониторинг', 'обслуживание', 'план', 'доработка', 'существовать', 'система', 'быть', 'несколько', 'новый', 'проект', 'реализация', 'искать', 'хороший', 'специалист', 'предлагать', 'работатать', 'небольшой', 'команда', 'лишний', 'бюрократия', 'быть', 'общаться', 'непосредственно', 'руководство', 'видеть', 'результат', 'советь', 'работа', 'продакшн', 'получать', 'обратный', 'связь', 'результат', 'выполнение', 'задача', 'требование', 'php', 'понимание', 'опыт', 'ооп', 'dilaravel', 'разработка', 'web', 'приложение', 'rest', 'api', 'command', 'line', 'утилит', 'mysql', 'опыт', 'создание', 'схема', 'бд', 'работать', 'нагрузка', 'больший', 'объем', 'данные', 'бывать', 'таблица', 'десяток', 'миллион', 'запись', 'больший', 'плюс', 'быть', 'понимание', 'как', 'mysql', 'работать', 'кластер', 'redis', 'основной', 'команда', 'операция', 'список', 'rabbitmq', 'аналогичный', 'mq', 'система', 'быть', 'больший', 'плюс', 'опты', 'работа', 'очередь', 'clickhouse', 'общий', 'представление', 'хранение', 'обработка', 'данные', 'frontend', 'больший', 'плюс', 'быть', 'знание', 'reactjshtml', 'css', 'twitter', 'bootstrap', 'умение', 'верстать', 'psd', 'html', 'требоваться', 'приветствоваться', 'linux', 'centos', 'ubuntu', 'понимание', 'файловый', 'система', 'сеть', 'установка', 'софт', 'настройка', 'веб', 'сервер', 'достаточно', 'понимание', 'обязательно', 'быть', 'эксперт', 'git', 'управление', 'бранч', 'развертывание', 'приложение', 'docker', 'локальный', 'разработка', 'пользоваться', 'laradock', 'так', 'свой', 'наработкамизнание', 'phpunit', 'быть', 'больший', 'плюсомвладение', 'английский', 'язык', 'уровень', 'чтение', 'документация', 'условие', 'remote', 'only', 'гибкий', 'графикготов', 'обсуждать', 'повышение', 'уровень', 'оплата', 'трудапремия', 'результат', 'работыдополнительный', 'инструкциин', 'интервью', 'задавать', 'каверзный', 'вопрос', 'просить', 'написать', 'алгоритм', 'сортировка', 'пузырек', 'лист', 'бумага', 'самый', 'важный', 'это', 'качество', 'код', 'должный', 'быть', 'понятный', 'коллега', 'поддерживать', 'соответствовать', 'современный', 'стандарт', 'поэтому', 'обычно', 'просить', 'кандидат', 'выполнить', 'небольшой', 'тестовый', 'задание', 'показать', 'пример', 'написать', 'самостоятельно', 'код', 'пояснение']\n"
     ]
    },
    {
     "data": {
      "application/javascript": [
       "\n",
       "            setTimeout(function() {\n",
       "                var nbb_cell_id = 209;\n",
       "                var nbb_unformatted_code = \"for i,text in enumerate(preprocessed_texts):\\n    print(i, text)\\n    break\";\n",
       "                var nbb_formatted_code = \"for i, text in enumerate(preprocessed_texts):\\n    print(i, text)\\n    break\";\n",
       "                var nbb_cells = Jupyter.notebook.get_cells();\n",
       "                for (var i = 0; i < nbb_cells.length; ++i) {\n",
       "                    if (nbb_cells[i].input_prompt_number == nbb_cell_id) {\n",
       "                        if (nbb_cells[i].get_text() == nbb_unformatted_code) {\n",
       "                             nbb_cells[i].set_text(nbb_formatted_code);\n",
       "                        }\n",
       "                        break;\n",
       "                    }\n",
       "                }\n",
       "            }, 500);\n",
       "            "
      ],
      "text/plain": [
       "<IPython.core.display.Javascript object>"
      ]
     },
     "metadata": {},
     "output_type": "display_data"
    }
   ],
   "source": [
    "for i, text in enumerate(preprocessed_texts):\n",
    "    print(i, text)\n",
    "    break"
   ]
  },
  {
   "cell_type": "code",
   "execution_count": 211,
   "metadata": {},
   "outputs": [
    {
     "data": {
      "text/plain": [
       "{0, 1, 2, 3, 4, 5, 6, 7, 8, 9}"
      ]
     },
     "execution_count": 211,
     "metadata": {},
     "output_type": "execute_result"
    },
    {
     "data": {
      "application/javascript": [
       "\n",
       "            setTimeout(function() {\n",
       "                var nbb_cell_id = 211;\n",
       "                var nbb_unformatted_code = \"{i  for i in range(10)}\";\n",
       "                var nbb_formatted_code = \"{i for i in range(10)}\";\n",
       "                var nbb_cells = Jupyter.notebook.get_cells();\n",
       "                for (var i = 0; i < nbb_cells.length; ++i) {\n",
       "                    if (nbb_cells[i].input_prompt_number == nbb_cell_id) {\n",
       "                        if (nbb_cells[i].get_text() == nbb_unformatted_code) {\n",
       "                             nbb_cells[i].set_text(nbb_formatted_code);\n",
       "                        }\n",
       "                        break;\n",
       "                    }\n",
       "                }\n",
       "            }, 500);\n",
       "            "
      ],
      "text/plain": [
       "<IPython.core.display.Javascript object>"
      ]
     },
     "metadata": {},
     "output_type": "display_data"
    }
   ],
   "source": [
    "{i for i in range(10)}"
   ]
  },
  {
   "cell_type": "code",
   "execution_count": 216,
   "metadata": {},
   "outputs": [
    {
     "data": {
      "text/plain": [
       "{'м': 0,\n",
       " 'разделять': 1,\n",
       " 'tallinn': 2,\n",
       " 'реселлер': 3,\n",
       " 'bloodofheroes': 4,\n",
       " 'зависимость': 5,\n",
       " 'applications': 6,\n",
       " 'страхование': 7,\n",
       " 'sonarqube': 8,\n",
       " 'frame': 9,\n",
       " 'нацелить': 10,\n",
       " 'bootstrap': 11,\n",
       " 'год': 12,\n",
       " 'reflects': 13,\n",
       " 'анимированный': 14,\n",
       " 'hermes': 15,\n",
       " 'описание': 16,\n",
       " 'rails': 17,\n",
       " 'публикацийнаписание': 18,\n",
       " 'маркетинг': 19,\n",
       " 'рядом': 20,\n",
       " 'кроссбраузерный': 21,\n",
       " 'ниже': 22,\n",
       " 'solve': 23,\n",
       " 'сметь': 24,\n",
       " 'переговорный': 25,\n",
       " 'референс': 26,\n",
       " 'тестовый': 27,\n",
       " 'thinking': 28,\n",
       " 'уверенно': 29,\n",
       " 'протокол': 30,\n",
       " 'microservices': 31,\n",
       " 'json': 32,\n",
       " 'professional': 33,\n",
       " 'tinkoff': 34,\n",
       " 'windows': 35,\n",
       " 'bureaucracy': 36,\n",
       " 'стек': 37,\n",
       " 'svelte': 38,\n",
       " 'soft': 39,\n",
       " 'прокачиваться': 40,\n",
       " 'remarkable': 41,\n",
       " 'ops': 42,\n",
       " 'm': 43,\n",
       " 'огромный': 44,\n",
       " 'открытый': 45,\n",
       " 'unique': 46,\n",
       " 'хранить': 47,\n",
       " 'филадельфия': 48,\n",
       " 'team': 49,\n",
       " 'xd': 50,\n",
       " 'mv': 51,\n",
       " 'istio': 52,\n",
       " 'autoqa': 53,\n",
       " 'underscorejs': 54,\n",
       " 'выбор': 55,\n",
       " 'авто': 56,\n",
       " 'schedule': 57,\n",
       " 'курсовотсутствие': 58,\n",
       " 'youtube': 59,\n",
       " 'specification': 60,\n",
       " 'pixel': 61,\n",
       " 'highlights': 62,\n",
       " 'грид': 63,\n",
       " 'experiences': 64,\n",
       " 'twitter': 65,\n",
       " 'локализация': 66,\n",
       " 'comprehensive': 67,\n",
       " 'самат': 68,\n",
       " 'создаваться': 69,\n",
       " 'response': 70,\n",
       " 'подробность': 71,\n",
       " 'интервьюпринимаемый': 72,\n",
       " 'оплачиваться': 73,\n",
       " 'allows': 74,\n",
       " 'level': 75,\n",
       " 'гипотеза': 76,\n",
       " 'рассматриваться': 77,\n",
       " 'пцр': 78,\n",
       " 'stack': 79,\n",
       " 'базовый': 80,\n",
       " 'partner': 81,\n",
       " 'видеоконференция': 82,\n",
       " 'shift': 83,\n",
       " 'командамиразвитие': 84,\n",
       " 'фаза': 85,\n",
       " 'trailblazing': 86,\n",
       " 'клиентский': 87,\n",
       " 'actors': 88,\n",
       " 'participating': 89,\n",
       " 'центральный': 90,\n",
       " 'computer': 91,\n",
       " 'готовность': 92,\n",
       " 'уровень': 93,\n",
       " 'vanilla': 94,\n",
       " 'аудитория': 95,\n",
       " 'привычка': 96,\n",
       " 'офлайновый': 97,\n",
       " 'ios': 98,\n",
       " 'individual': 99,\n",
       " 'жалеть': 100,\n",
       " 'contract': 101,\n",
       " 'успевать': 102,\n",
       " 'закон': 103,\n",
       " 'другузарплату': 104,\n",
       " 'банк': 105,\n",
       " 'порядок': 106,\n",
       " 'excellent': 107,\n",
       " 'идеал': 108,\n",
       " 'traceability': 109,\n",
       " 'yourself': 110,\n",
       " 'формат': 111,\n",
       " 'can': 112,\n",
       " 'architecting': 113,\n",
       " 'важность': 114,\n",
       " 'dancecolor': 115,\n",
       " 'лидерский': 116,\n",
       " 'info': 117,\n",
       " 'велосипед': 118,\n",
       " 'чехол': 119,\n",
       " 'знакомый': 120,\n",
       " 'бонусный': 121,\n",
       " 'сразу': 122,\n",
       " 'трехмерный': 123,\n",
       " 'индустрия': 124,\n",
       " 'ноооо': 125,\n",
       " 'teamcity': 126,\n",
       " 'бюджет': 127,\n",
       " 'разработкиустный': 128,\n",
       " 'форматерыкоммуникация': 129,\n",
       " 'любой': 130,\n",
       " 'будущий': 131,\n",
       " 'неограниченный': 132,\n",
       " 'спасибо': 133,\n",
       " 'apps': 134,\n",
       " 'kotlin': 135,\n",
       " 'нефинансовый': 136,\n",
       " 'высокий': 137,\n",
       " 'еще': 138,\n",
       " 'фитнесцелевой': 139,\n",
       " 'заказамизнаешь': 140,\n",
       " 'звать': 141,\n",
       " 'xml': 142,\n",
       " 'брать': 143,\n",
       " 'выдвигать': 144,\n",
       " 'скиллама': 145,\n",
       " 'краснодараещ': 146,\n",
       " 'постоянно': 147,\n",
       " 'running': 148,\n",
       " 'бакалавр': 149,\n",
       " 'ux': 150,\n",
       " 'использоваться': 151,\n",
       " 'бок': 152,\n",
       " 'придумать': 153,\n",
       " 'ракурс': 154,\n",
       " 'vc': 155,\n",
       " 'админк': 156,\n",
       " 'строго': 157,\n",
       " 'keep': 158,\n",
       " 'csgo': 159,\n",
       " 'написать': 160,\n",
       " 'англии': 161,\n",
       " 'webby': 162,\n",
       " 'производительность': 163,\n",
       " 'you': 164,\n",
       " 'www': 165,\n",
       " 'граница': 166,\n",
       " 'icpc': 167,\n",
       " 'meyvn': 168,\n",
       " 'начаться': 169,\n",
       " 'цель': 170,\n",
       " 'пузырек': 171,\n",
       " 'логичный': 172,\n",
       " 'moba': 173,\n",
       " 'штат': 174,\n",
       " 'архитектурный': 175,\n",
       " 'features': 176,\n",
       " 'ucars': 177,\n",
       " 'don': 178,\n",
       " 'небезопасный': 179,\n",
       " 'латинский': 180,\n",
       " 'economy': 181,\n",
       " 'позволить': 182,\n",
       " 'bytedance': 183,\n",
       " 'citieswant': 184,\n",
       " 'ротация': 185,\n",
       " 'разобраться': 186,\n",
       " 'ваш': 187,\n",
       " 'рф': 188,\n",
       " 'review': 189,\n",
       " 'that': 190,\n",
       " 'strong': 191,\n",
       " 'designing': 192,\n",
       " 'way': 193,\n",
       " 'trip': 194,\n",
       " 'нуждаться': 195,\n",
       " 'дресскод': 196,\n",
       " 'декомпозиция': 197,\n",
       " 'unites': 198,\n",
       " 'объединяться': 199,\n",
       " 'postman': 200,\n",
       " 'vision': 201,\n",
       " 'парадигма': 202,\n",
       " 'платформа': 203,\n",
       " 'бонусыгибкий': 204,\n",
       " 'dotcomm': 205,\n",
       " 'англия': 206,\n",
       " 'узнать': 207,\n",
       " 'atdd': 208,\n",
       " 'релевантный': 209,\n",
       " 'строка': 210,\n",
       " 'командный': 211,\n",
       " 'аналогичный': 212,\n",
       " 'hubs': 213,\n",
       " 'далее': 214,\n",
       " 'формулировать': 215,\n",
       " 'vpn': 216,\n",
       " 'часто': 217,\n",
       " 'младший': 218,\n",
       " 'пустовать': 219,\n",
       " 'join': 220,\n",
       " 'внедрение': 221,\n",
       " 'редкий': 222,\n",
       " 'страница': 223,\n",
       " 'смежный': 224,\n",
       " 'декомпозировать': 225,\n",
       " 'отлаживать': 226,\n",
       " 'продукт': 227,\n",
       " 'оплачивать': 228,\n",
       " 'games': 229,\n",
       " 'бонусыпочему': 230,\n",
       " 'проектевладение': 231,\n",
       " 'горьковский': 232,\n",
       " 'respect': 233,\n",
       " 'тк': 234,\n",
       " 'обучение': 235,\n",
       " 'mobx': 236,\n",
       " 'где': 237,\n",
       " 'обучаемость': 238,\n",
       " 'and': 239,\n",
       " 'mesh': 240,\n",
       " 'минивэн': 241,\n",
       " 'goat': 242,\n",
       " 'мягкий': 243,\n",
       " 'интроверт': 244,\n",
       " 'native': 245,\n",
       " 'across': 246,\n",
       " 'контекст': 247,\n",
       " 'классавый': 248,\n",
       " 'там': 249,\n",
       " 'вести': 250,\n",
       " 'peakvisor': 251,\n",
       " 'vuex': 252,\n",
       " 'наем': 253,\n",
       " 'обсуждение': 254,\n",
       " 'getuniq': 255,\n",
       " 'вещь': 256,\n",
       " 'закрытие': 257,\n",
       " 'целиком': 258,\n",
       " 'связьоплата': 259,\n",
       " 'кафепосещение': 260,\n",
       " 'тренер': 261,\n",
       " 'нспк': 262,\n",
       " 'd': 263,\n",
       " 'конференция': 264,\n",
       " 'оформление': 265,\n",
       " 'preferably': 266,\n",
       " 'русский': 267,\n",
       " 'настя': 268,\n",
       " 'семейный': 269,\n",
       " 'growing': 270,\n",
       " 'новосибирск': 271,\n",
       " 'летумение': 272,\n",
       " 'присутствие': 273,\n",
       " 'заходить': 274,\n",
       " 'on': 275,\n",
       " 'сплоченный': 276,\n",
       " 'specifics': 277,\n",
       " 'требовательный': 278,\n",
       " 'здоровье': 279,\n",
       " 'математика': 280,\n",
       " 'coredata': 281,\n",
       " 'zookeeper': 282,\n",
       " 'устраивать': 283,\n",
       " 'рассказать': 284,\n",
       " 'то': 285,\n",
       " 'менторинг': 286,\n",
       " 'оперативно': 287,\n",
       " 'суммарный': 288,\n",
       " 'покупать': 289,\n",
       " 'crypto': 290,\n",
       " 'here': 291,\n",
       " 'трудапремия': 292,\n",
       " 'вызов': 293,\n",
       " 'sqs': 294,\n",
       " 'проактивность': 295,\n",
       " 'pass': 296,\n",
       " 'hrbp': 297,\n",
       " 'whether': 298,\n",
       " 'договориться': 299,\n",
       " 'reacthave': 300,\n",
       " 'летний': 301,\n",
       " 'доступностьювладение': 302,\n",
       " 'алгоритмический': 303,\n",
       " 'выше': 304,\n",
       " 'достижение': 305,\n",
       " 'становиться': 306,\n",
       " 'художник': 307,\n",
       " 'крупный': 308,\n",
       " 'внедряться': 309,\n",
       " 'party': 310,\n",
       " 'directors': 311,\n",
       " 'тестировщик': 312,\n",
       " 'креативный': 313,\n",
       " 'офис': 314,\n",
       " 'linix': 315,\n",
       " 'основной': 316,\n",
       " 'shape': 317,\n",
       " 'ждать': 318,\n",
       " 'hibernate': 319,\n",
       " 'три': 320,\n",
       " 'boot': 321,\n",
       " 'positive': 322,\n",
       " 'современный': 323,\n",
       " 'тыловой': 324,\n",
       " 'таблица': 325,\n",
       " 'moteefe': 326,\n",
       " 'опубликовать': 327,\n",
       " 'заказ': 328,\n",
       " 'bus': 329,\n",
       " 'track': 330,\n",
       " 'происходить': 331,\n",
       " 'transport': 332,\n",
       " 'внештатный': 333,\n",
       " 'important': 334,\n",
       " 'unit': 335,\n",
       " 'redux': 336,\n",
       " 'менеджер': 337,\n",
       " 'лидерство': 338,\n",
       " 'портал': 339,\n",
       " 'creating': 340,\n",
       " 'выступать': 341,\n",
       " 'cypress': 342,\n",
       " 'реверсингу': 343,\n",
       " 'everyone': 344,\n",
       " 'менторство': 345,\n",
       " 'дизайн': 346,\n",
       " 'borderless': 347,\n",
       " 'core': 348,\n",
       " 'возглавить': 349,\n",
       " 'разработать': 350,\n",
       " 'разговаривать': 351,\n",
       " 'поддерживаться': 352,\n",
       " 'gta': 353,\n",
       " 'инициативность': 354,\n",
       " 'dart': 355,\n",
       " 'ndk': 356,\n",
       " 'зеленый': 357,\n",
       " 'ежегодно': 358,\n",
       " 'обсудить': 359,\n",
       " 'spoken': 360,\n",
       " 'дилер': 361,\n",
       " 'qa': 362,\n",
       " 'indicated': 363,\n",
       " 'превосходный': 364,\n",
       " 'move': 365,\n",
       " 'apply': 366,\n",
       " 'timetarget': 367,\n",
       " 'stakeholders': 368,\n",
       " 'группа': 369,\n",
       " 'цена': 370,\n",
       " 'ключевой': 371,\n",
       " 'ml': 372,\n",
       " 'задание': 373,\n",
       " 'ситуация': 374,\n",
       " 'b': 375,\n",
       " 'casual': 376,\n",
       " 'адекватный': 377,\n",
       " 'сбербанк': 378,\n",
       " 'давать': 379,\n",
       " 'встреча': 380,\n",
       " 'изобразительный': 381,\n",
       " 'коммуницировать': 382,\n",
       " 'нижний': 383,\n",
       " 'достаточно': 384,\n",
       " 'премиидмс': 385,\n",
       " 'vizor': 386,\n",
       " 'тестированиешаблоны': 387,\n",
       " 'приз': 388,\n",
       " 'инструкцииждь': 389,\n",
       " 'things': 390,\n",
       " 'tigertrade': 391,\n",
       " 'увлечь': 392,\n",
       " 'офисный': 393,\n",
       " 'tiktok': 394,\n",
       " 'saves': 395,\n",
       " 'савеловский': 396,\n",
       " 'vcs': 397,\n",
       " 'закрепиться': 398,\n",
       " 'пиксель': 399,\n",
       " 'toolchains': 400,\n",
       " 'проектиование': 401,\n",
       " 'бщение': 402,\n",
       " 'расход': 403,\n",
       " 'developerwant': 404,\n",
       " 'менее': 405,\n",
       " 'венчурный': 406,\n",
       " 'enivo': 407,\n",
       " 'игра': 408,\n",
       " 'eurocooperation': 409,\n",
       " 'hr': 410,\n",
       " 'факт': 411,\n",
       " 'completely': 412,\n",
       " 'ps': 413,\n",
       " 'тула': 414,\n",
       " 'sbt': 415,\n",
       " 'амый': 416,\n",
       " 'напомнить': 417,\n",
       " 'регулярно': 418,\n",
       " 'сервисовопыт': 419,\n",
       " 'лишний': 420,\n",
       " 'фидбэк': 421,\n",
       " 'запускать': 422,\n",
       " 'х': 423,\n",
       " 'поток': 424,\n",
       " 'последний': 425,\n",
       " 'материальный': 426,\n",
       " 'ddd': 427,\n",
       " 'subversion': 428,\n",
       " 'related': 429,\n",
       " 'ide': 430,\n",
       " 'them': 431,\n",
       " 'мелочь': 432,\n",
       " 'to': 433,\n",
       " 'эксперимент': 434,\n",
       " 'отличие': 435,\n",
       " 'инструкциибольша': 436,\n",
       " 'петроградка': 437,\n",
       " 'сторона': 438,\n",
       " 'виртуальный': 439,\n",
       " 'событийный': 440,\n",
       " 'белый': 441,\n",
       " 'образование': 442,\n",
       " 'самарский': 443,\n",
       " 'вовремя': 444,\n",
       " 'flowwow': 445,\n",
       " 'bug': 446,\n",
       " 'консоль': 447,\n",
       " 'история': 448,\n",
       " 'обязанность': 449,\n",
       " 'design': 450,\n",
       " 'разумный': 451,\n",
       " 'летопыт': 452,\n",
       " 'coroutines': 453,\n",
       " 'воспринимать': 454,\n",
       " 'hask': 455,\n",
       " 'унифицировать': 456,\n",
       " 'изменить': 457,\n",
       " 'ребования': 458,\n",
       " 'применить': 459,\n",
       " 'переезд': 460,\n",
       " 'число': 461,\n",
       " 'prior': 462,\n",
       " 'краснодарасовместный': 463,\n",
       " 'branching': 464,\n",
       " 'зарплата': 465,\n",
       " 'where': 466,\n",
       " 'таллинпредусмотреть': 467,\n",
       " 'расширение': 468,\n",
       " 'set': 469,\n",
       " 'secure': 470,\n",
       " 'командыодноуровневый': 471,\n",
       " 'индия': 472,\n",
       " 'премиум': 473,\n",
       " 'регистрация': 474,\n",
       " 'продавать': 475,\n",
       " 'so': 476,\n",
       " 'since': 477,\n",
       " 'мобильный': 478,\n",
       " 'квартальный': 479,\n",
       " 'компонент': 480,\n",
       " 'acm': 481,\n",
       " 'инструкцииесли': 482,\n",
       " 'обсужденияхиметь': 483,\n",
       " 'дняпервое': 484,\n",
       " 'cqrs': 485,\n",
       " 'github': 486,\n",
       " 'обновление': 487,\n",
       " 'бывать': 488,\n",
       " 'ия': 489,\n",
       " 'golang': 490,\n",
       " 'ubuntu': 491,\n",
       " 'ос': 492,\n",
       " 'thrill': 493,\n",
       " 'inema': 494,\n",
       " 'спортивный': 495,\n",
       " 'познакомиться': 496,\n",
       " 'реляционный': 497,\n",
       " 'остальной': 498,\n",
       " 'tester': 499,\n",
       " 'артдень': 500,\n",
       " 'осуществить': 501,\n",
       " 'families': 502,\n",
       " 'цифровой': 503,\n",
       " 'предложить': 504,\n",
       " 'openapi': 505,\n",
       " 'единый': 506,\n",
       " 'integrating': 507,\n",
       " 'jvm': 508,\n",
       " 'разработкепостроенный': 509,\n",
       " 'бекенд': 510,\n",
       " 'агентство': 511,\n",
       " 'превращать': 512,\n",
       " 'домашний': 513,\n",
       " 'руководитель': 514,\n",
       " 'card': 515,\n",
       " 'coursera': 516,\n",
       " 'комфорт': 517,\n",
       " 'привнести': 518,\n",
       " 'xbox': 519,\n",
       " 'проектыиметь': 520,\n",
       " 'гис': 521,\n",
       " 'skill': 522,\n",
       " 'сноб': 523,\n",
       " 'shaped': 524,\n",
       " 'низкоуровневый': 525,\n",
       " 'habr': 526,\n",
       " 'бы': 527,\n",
       " 'принцип': 528,\n",
       " 'тайминга': 529,\n",
       " 'проработка': 530,\n",
       " 'график': 531,\n",
       " 'worksupporting': 532,\n",
       " 'слабый': 533,\n",
       " 'основа': 534,\n",
       " 'пенза': 535,\n",
       " 'значимый': 536,\n",
       " 'компания': 537,\n",
       " 'жизнь': 538,\n",
       " 'иметься': 539,\n",
       " 'проектевыстраивать': 540,\n",
       " 'обеспечивать': 541,\n",
       " 'оопбольшой': 542,\n",
       " 'текучка': 543,\n",
       " 'сумма': 544,\n",
       " 'clean': 545,\n",
       " 'тэг': 546,\n",
       " 'умеренно': 547,\n",
       " 'распознавание': 548,\n",
       " 'system': 549,\n",
       " 'тусовка': 550,\n",
       " 'терраса': 551,\n",
       " 'утро': 552,\n",
       " 'for': 553,\n",
       " 'документациют': 554,\n",
       " 'entity': 555,\n",
       " 'билет': 556,\n",
       " 'предоставлять': 557,\n",
       " 'препроцессор': 558,\n",
       " 'developing': 559,\n",
       " 'крайность': 560,\n",
       " 'автомобиль': 561,\n",
       " 'пандемия': 562,\n",
       " 'персонализировать': 563,\n",
       " 'rides': 564,\n",
       " 'фронт': 565,\n",
       " 'demand': 566,\n",
       " 'исследованийсоздание': 567,\n",
       " 'operations': 568,\n",
       " 'techcrunch': 569,\n",
       " 'глупый': 570,\n",
       " 'rabbit': 571,\n",
       " 'тюнинг': 572,\n",
       " 'рассказывать': 573,\n",
       " 'асинхронный': 574,\n",
       " 'rx': 575,\n",
       " 'kafka': 576,\n",
       " 'упор': 577,\n",
       " 'подразделение': 578,\n",
       " 'human': 579,\n",
       " 'hesitate': 580,\n",
       " 'дать': 581,\n",
       " 'existing': 582,\n",
       " 'ready': 583,\n",
       " 'конечно': 584,\n",
       " 'профилирование': 585,\n",
       " 'testng': 586,\n",
       " 'data': 587,\n",
       " 'grunt': 588,\n",
       " 'голова': 589,\n",
       " 'дело': 590,\n",
       " 'they': 591,\n",
       " 'выявлять': 592,\n",
       " 'оптимизировать': 593,\n",
       " 'lowest': 594,\n",
       " 'войс': 595,\n",
       " 'строгий': 596,\n",
       " 'apple': 597,\n",
       " 'бэк': 598,\n",
       " 'информационный': 599,\n",
       " 'структура': 600,\n",
       " 'релиз': 601,\n",
       " 'кластер': 602,\n",
       " 'ежедневно': 603,\n",
       " 'прототип': 604,\n",
       " 'специфика': 605,\n",
       " 'reactjshtml': 606,\n",
       " 'a': 607,\n",
       " 'celery': 608,\n",
       " 'developed': 609,\n",
       " 'прогресс': 610,\n",
       " 'многий': 611,\n",
       " 'proven': 612,\n",
       " 'laravel': 613,\n",
       " 'odata': 614,\n",
       " 'принудительный': 615,\n",
       " 'построить': 616,\n",
       " 'счастливый': 617,\n",
       " 'markets': 618,\n",
       " 'unix': 619,\n",
       " 'qualifications': 620,\n",
       " 'поэтому': 621,\n",
       " 'москвариум': 622,\n",
       " 'ozvvq': 623,\n",
       " 'nda': 624,\n",
       " 'plus': 625,\n",
       " 'roblox': 626,\n",
       " 'периодический': 627,\n",
       " 'an': 628,\n",
       " 'ощущать': 629,\n",
       " 'сберздоровье': 630,\n",
       " 'вид': 631,\n",
       " 'сопутствующий': 632,\n",
       " 'геймдизайнер': 633,\n",
       " 'дисконтный': 634,\n",
       " 'столовая': 635,\n",
       " 'менять': 636,\n",
       " 'фултайм': 637,\n",
       " 'организационный': 638,\n",
       " 'г': 639,\n",
       " 'kyiv': 640,\n",
       " 'акция': 641,\n",
       " 'альтернативный': 642,\n",
       " 'покупка': 643,\n",
       " 'оскомина': 644,\n",
       " 'methodologies': 645,\n",
       " 'pioneers': 646,\n",
       " 'designer': 647,\n",
       " 'визуальный': 648,\n",
       " 'нести': 649,\n",
       " 'присоединиться': 650,\n",
       " 'пригласить': 651,\n",
       " 'mindset': 652,\n",
       " 'машинный': 653,\n",
       " 'стека': 654,\n",
       " 'выполнение': 655,\n",
       " 'поставить': 656,\n",
       " 'релокейт': 657,\n",
       " 'продумать': 658,\n",
       " 'пожалуйста': 659,\n",
       " 'admitad': 660,\n",
       " 'позавидовать': 661,\n",
       " 'запустить': 662,\n",
       " 'кривой': 663,\n",
       " 'следом': 664,\n",
       " 'писатель': 665,\n",
       " 'rd': 666,\n",
       " 'phpunit': 667,\n",
       " 'managers': 668,\n",
       " 'находить': 669,\n",
       " 'уверенность': 670,\n",
       " 'медленно': 671,\n",
       " 'regulatory': 672,\n",
       " 'строить': 673,\n",
       " 'научить': 674,\n",
       " 'масштабирование': 675,\n",
       " 'вместе': 676,\n",
       " 'delivers': 677,\n",
       " 'большинство': 678,\n",
       " 'остин': 679,\n",
       " 'appropriatelycode': 680,\n",
       " 'продумывание': 681,\n",
       " 'dynamodb': 682,\n",
       " 'бумага': 683,\n",
       " 'стоматология': 684,\n",
       " 'разработкивнедрение': 685,\n",
       " 'corporate': 686,\n",
       " 'плюс': 687,\n",
       " 'artists': 688,\n",
       " 'ритуал': 689,\n",
       " 'инструкциипри': 690,\n",
       " 'точечный': 691,\n",
       " 'позволять': 692,\n",
       " 'есть': 693,\n",
       " 'внутри': 694,\n",
       " 'прямой': 695,\n",
       " 'интересный': 696,\n",
       " 'оптимизация': 697,\n",
       " 'стремительный': 698,\n",
       " 'внесение': 699,\n",
       " 'dbflow': 700,\n",
       " 'experience': 701,\n",
       " 'asp': 702,\n",
       " 'ценность': 703,\n",
       " 'ensuring': 704,\n",
       " 'бренд': 705,\n",
       " 'набираемся': 706,\n",
       " 'млн': 707,\n",
       " 'работывозможность': 708,\n",
       " 'heroes': 709,\n",
       " 'инновационный': 710,\n",
       " 'митап': 711,\n",
       " 'общий': 712,\n",
       " 'высоконагруженный': 713,\n",
       " 'international': 714,\n",
       " 'fun': 715,\n",
       " 'автоштраф': 716,\n",
       " 'ecom': 717,\n",
       " 'дорога': 718,\n",
       " 'ленин': 719,\n",
       " 'present': 720,\n",
       " 'кроссплатформенный': 721,\n",
       " 'passionate': 722,\n",
       " 'candidate': 723,\n",
       " 'продуктивный': 724,\n",
       " 'meaningful': 725,\n",
       " 'омниканальный': 726,\n",
       " 'отказ': 727,\n",
       " 'understanding': 728,\n",
       " 'инструкциима': 729,\n",
       " 'совмещать': 730,\n",
       " 'colleagueswork': 731,\n",
       " 'ly': 732,\n",
       " 'сделать': 733,\n",
       " 'dare': 734,\n",
       " 'интересовать': 735,\n",
       " 'c': 736,\n",
       " 'обеспечение': 737,\n",
       " 'требовать': 738,\n",
       " 'need': 739,\n",
       " 'телефония': 740,\n",
       " 'remotely': 741,\n",
       " 'такси': 742,\n",
       " 'интегратор': 743,\n",
       " 'денвер': 744,\n",
       " 'заданиекандидат': 745,\n",
       " 'стандарт': 746,\n",
       " 'хоккейный': 747,\n",
       " 'искусственный': 748,\n",
       " 'удобный': 749,\n",
       " 'business': 750,\n",
       " 'волноваться': 751,\n",
       " 'crawling': 752,\n",
       " 'методично': 753,\n",
       " 'осуществление': 754,\n",
       " 'индивидуально': 755,\n",
       " 'ответственностьпунктуальностьчестностьтрудолюбиежелание': 756,\n",
       " 'внимание': 757,\n",
       " 'финансовый': 758,\n",
       " 'интерфейс': 759,\n",
       " 'федеральный': 760,\n",
       " 'рассказ': 761,\n",
       " 'qualitative': 762,\n",
       " 'драга': 763,\n",
       " 'ссылка': 764,\n",
       " 'исполнитель': 765,\n",
       " 'закладывать': 766,\n",
       " 'gle': 767,\n",
       " 'бонусыстабильный': 768,\n",
       " 'id': 769,\n",
       " 'инструмент': 770,\n",
       " 'playstation': 771,\n",
       " 'разбор': 772,\n",
       " 'take': 773,\n",
       " 'rocks': 774,\n",
       " 'оказаться': 775,\n",
       " 'sophisticated': 776,\n",
       " 'подтверждать': 777,\n",
       " 'скидка': 778,\n",
       " 'письменный': 779,\n",
       " 'ilogosgames': 780,\n",
       " 'продвинуть': 781,\n",
       " 'стремиться': 782,\n",
       " 'теоретический': 783,\n",
       " 'идти': 784,\n",
       " 'offer': 785,\n",
       " 'клиника': 786,\n",
       " 'спецификация': 787,\n",
       " 'собеседование': 788,\n",
       " 'генерить': 789,\n",
       " 'поддержка': 790,\n",
       " 'crimes': 791,\n",
       " 'упрощать': 792,\n",
       " 'работать': 793,\n",
       " 'convertsocial': 794,\n",
       " 'последующий': 795,\n",
       " 'accountant': 796,\n",
       " 'общаться': 797,\n",
       " 'convertlink': 798,\n",
       " 'gamedev': 799,\n",
       " 'релокационный': 800,\n",
       " 'sql': 801,\n",
       " 'таллинабогатый': 802,\n",
       " 'комфортный': 803,\n",
       " 'диагностический': 804,\n",
       " 'ms': 805,\n",
       " 'контентный': 806,\n",
       " 'мировой': 807,\n",
       " 'тд': 808,\n",
       " 'ненужный': 809,\n",
       " 'qalaisyn': 810,\n",
       " 'forbes': 811,\n",
       " 'праздник': 812,\n",
       " 'завтра': 813,\n",
       " 'efficiently': 814,\n",
       " 'solution': 815,\n",
       " 'develop': 816,\n",
       " 'выдавать': 817,\n",
       " 'грамотный': 818,\n",
       " 'o': 819,\n",
       " 'еда': 820,\n",
       " 'addition': 821,\n",
       " 'первый': 822,\n",
       " 'external': 823,\n",
       " 'достойный': 824,\n",
       " 'taking': 825,\n",
       " 'замечательный': 826,\n",
       " 'open': 827,\n",
       " 'school': 828,\n",
       " 'хаотичный': 829,\n",
       " 'чистый': 830,\n",
       " 'bootcamp': 831,\n",
       " 'will': 832,\n",
       " 'покрывать': 833,\n",
       " 'delivery': 834,\n",
       " 'dev': 835,\n",
       " 'соответствие': 836,\n",
       " 'классический': 837,\n",
       " 'x': 838,\n",
       " 'learning': 839,\n",
       " 'возврат': 840,\n",
       " 'касперский': 841,\n",
       " 'порешать': 842,\n",
       " 'прогнозирование': 843,\n",
       " 'настолочь': 844,\n",
       " 'задать': 845,\n",
       " 'аналитика': 846,\n",
       " 'application': 847,\n",
       " 'поколение': 848,\n",
       " 'размер': 849,\n",
       " 'англоговорящий': 850,\n",
       " 'communicator': 851,\n",
       " 'vendor': 852,\n",
       " 'нуль': 853,\n",
       " 'лиссабон': 854,\n",
       " 'идея': 855,\n",
       " 'кстати': 856,\n",
       " 'вендор': 857,\n",
       " 'compliance': 858,\n",
       " 'анимациейуверенный': 859,\n",
       " 'быть': 860,\n",
       " 'преимущество': 861,\n",
       " 'аудит': 862,\n",
       " 'аргументировать': 863,\n",
       " 'профессионально': 864,\n",
       " 'kubernetes': 865,\n",
       " 'cocoa': 866,\n",
       " 'удаляться': 867,\n",
       " 'круто': 868,\n",
       " 'constantly': 869,\n",
       " 'millions': 870,\n",
       " 'порог': 871,\n",
       " 'in': 872,\n",
       " 'gitlab': 873,\n",
       " 'fastlane': 874,\n",
       " 'winner': 875,\n",
       " 'оценка': 876,\n",
       " 'чувствовать': 877,\n",
       " 'упростить': 878,\n",
       " 'development': 879,\n",
       " 'ориентироваться': 880,\n",
       " 'di': 881,\n",
       " 'носитель': 882,\n",
       " 'believe': 883,\n",
       " 'проектный': 884,\n",
       " 'успеть': 885,\n",
       " 'саморазвитие': 886,\n",
       " 'средний': 887,\n",
       " 'чтобы': 888,\n",
       " 'разрабатывать': 889,\n",
       " 'k': 890,\n",
       " 'заказчик': 891,\n",
       " 'arc': 892,\n",
       " 'важнее': 893,\n",
       " 'рад': 894,\n",
       " 'teams': 895,\n",
       " 'результат': 896,\n",
       " 'activity': 897,\n",
       " 'средство': 898,\n",
       " 'mining': 899,\n",
       " 'лицо': 900,\n",
       " 'смотреть': 901,\n",
       " 'перестать': 902,\n",
       " 'developers': 903,\n",
       " 'vp': 904,\n",
       " 'сердце': 905,\n",
       " 'авиабилет': 906,\n",
       " 'гк': 907,\n",
       " 'evenings': 908,\n",
       " 'least': 909,\n",
       " 'contact': 910,\n",
       " 'glide': 911,\n",
       " 'навигация': 912,\n",
       " 'three': 913,\n",
       " 'сменить': 914,\n",
       " 'сценарий': 915,\n",
       " 'контракт': 916,\n",
       " 'браузерный': 917,\n",
       " 'elastic': 918,\n",
       " 'trends': 919,\n",
       " 'designers': 920,\n",
       " 'match': 921,\n",
       " 'future': 922,\n",
       " 'strict': 923,\n",
       " 'kinesis': 924,\n",
       " 'его': 925,\n",
       " 'домен': 926,\n",
       " 'фича': 927,\n",
       " 'амбициозный': 928,\n",
       " 'фп': 929,\n",
       " 'отдел': 930,\n",
       " 'релокация': 931,\n",
       " 'культура': 932,\n",
       " 'продакшн': 933,\n",
       " 'lambda': 934,\n",
       " 'фреймворками': 935,\n",
       " 'solutions': 936,\n",
       " 'утилита': 937,\n",
       " 'больничный': 938,\n",
       " 'криптовалюта': 939,\n",
       " 'род': 940,\n",
       " 'collaborating': 941,\n",
       " 'passenger': 942,\n",
       " 'пара': 943,\n",
       " 'телеграм': 944,\n",
       " 'jobs': 945,\n",
       " 'командировка': 946,\n",
       " 'отладка': 947,\n",
       " 'минута': 948,\n",
       " 'измерять': 949,\n",
       " 'русскоязычный': 950,\n",
       " 'store': 951,\n",
       " 'владеть': 952,\n",
       " 'ошибка': 953,\n",
       " 'смочь': 954,\n",
       " 'legendary': 955,\n",
       " 'find': 956,\n",
       " 'wcf': 957,\n",
       " 'пятидневный': 958,\n",
       " 'инструкциин': 959,\n",
       " 'удаленный': 960,\n",
       " 'зарплатный': 961,\n",
       " 'так': 962,\n",
       " 'побеждать': 963,\n",
       " 'rxswift': 964,\n",
       " 'разработка': 965,\n",
       " 'revolutionizes': 966,\n",
       " 'скил': 967,\n",
       " 'далекий': 968,\n",
       " 'обсуждать': 969,\n",
       " 'исторический': 970,\n",
       " 'мес': 971,\n",
       " 'operators': 972,\n",
       " 'метод': 973,\n",
       " 'наглядный': 974,\n",
       " 'определить': 975,\n",
       " 'бонусыконкурентный': 976,\n",
       " 'companies': 977,\n",
       " 'больше': 978,\n",
       " 'legislation': 979,\n",
       " 'opened': 980,\n",
       " 'build': 981,\n",
       " 'разработкиработа': 982,\n",
       " 'развлекательный': 983,\n",
       " 'swdbuv': 984,\n",
       " 'unexpected': 985,\n",
       " 'symphonyfrontend': 986,\n",
       " 'issues': 987,\n",
       " 'beanstalk': 988,\n",
       " 'создать': 989,\n",
       " 'разработкиуж': 990,\n",
       " 'контейнерный': 991,\n",
       " 'кодаопыт': 992,\n",
       " 'sendsay': 993,\n",
       " 'локация': 994,\n",
       " 'федя': 995,\n",
       " 'тренироваться': 996,\n",
       " 'вакансияэто': 997,\n",
       " 'ru': 998,\n",
       " 'австралии': 999,\n",
       " ...}"
      ]
     },
     "execution_count": 216,
     "metadata": {},
     "output_type": "execute_result"
    },
    {
     "data": {
      "application/javascript": [
       "\n",
       "            setTimeout(function() {\n",
       "                var nbb_cell_id = 216;\n",
       "                var nbb_unformatted_code = \"dictionary = {key: i for i, key in enumerate(set(sum(preprocessed_texts, [])))}\\ndictionary\";\n",
       "                var nbb_formatted_code = \"dictionary = {key: i for i, key in enumerate(set(sum(preprocessed_texts, [])))}\\ndictionary\";\n",
       "                var nbb_cells = Jupyter.notebook.get_cells();\n",
       "                for (var i = 0; i < nbb_cells.length; ++i) {\n",
       "                    if (nbb_cells[i].input_prompt_number == nbb_cell_id) {\n",
       "                        if (nbb_cells[i].get_text() == nbb_unformatted_code) {\n",
       "                             nbb_cells[i].set_text(nbb_formatted_code);\n",
       "                        }\n",
       "                        break;\n",
       "                    }\n",
       "                }\n",
       "            }, 500);\n",
       "            "
      ],
      "text/plain": [
       "<IPython.core.display.Javascript object>"
      ]
     },
     "metadata": {},
     "output_type": "display_data"
    }
   ],
   "source": [
    "dictionary = {key: i for i, key in enumerate(set(sum(preprocessed_texts, [])))}\n",
    "dictionary"
   ]
  },
  {
   "cell_type": "code",
   "execution_count": 219,
   "metadata": {},
   "outputs": [
    {
     "data": {
      "application/javascript": [
       "\n",
       "            setTimeout(function() {\n",
       "                var nbb_cell_id = 219;\n",
       "                var nbb_unformatted_code = \"from tqdm import tqdm \";\n",
       "                var nbb_formatted_code = \"from tqdm import tqdm\";\n",
       "                var nbb_cells = Jupyter.notebook.get_cells();\n",
       "                for (var i = 0; i < nbb_cells.length; ++i) {\n",
       "                    if (nbb_cells[i].input_prompt_number == nbb_cell_id) {\n",
       "                        if (nbb_cells[i].get_text() == nbb_unformatted_code) {\n",
       "                             nbb_cells[i].set_text(nbb_formatted_code);\n",
       "                        }\n",
       "                        break;\n",
       "                    }\n",
       "                }\n",
       "            }, 500);\n",
       "            "
      ],
      "text/plain": [
       "<IPython.core.display.Javascript object>"
      ]
     },
     "metadata": {},
     "output_type": "display_data"
    }
   ],
   "source": [
    "from tqdm import tqdm"
   ]
  },
  {
   "cell_type": "code",
   "execution_count": 221,
   "metadata": {},
   "outputs": [
    {
     "name": "stderr",
     "output_type": "stream",
     "text": [
      "100%|██████████| 91/91 [00:00<00:00, 8457.94it/s]\n"
     ]
    },
    {
     "data": {
      "application/javascript": [
       "\n",
       "            setTimeout(function() {\n",
       "                var nbb_cell_id = 221;\n",
       "                var nbb_unformatted_code = \"matrix = []\\nfor text in tqdm(preprocessed_texts):\\n    _x = [0] * len(dictionary)\\n    for word in text:\\n        _x[dictionary.get(word)] += 1\\n    matrix.append(_x)\";\n",
       "                var nbb_formatted_code = \"matrix = []\\nfor text in tqdm(preprocessed_texts):\\n    _x = [0] * len(dictionary)\\n    for word in text:\\n        _x[dictionary.get(word)] += 1\\n    matrix.append(_x)\";\n",
       "                var nbb_cells = Jupyter.notebook.get_cells();\n",
       "                for (var i = 0; i < nbb_cells.length; ++i) {\n",
       "                    if (nbb_cells[i].input_prompt_number == nbb_cell_id) {\n",
       "                        if (nbb_cells[i].get_text() == nbb_unformatted_code) {\n",
       "                             nbb_cells[i].set_text(nbb_formatted_code);\n",
       "                        }\n",
       "                        break;\n",
       "                    }\n",
       "                }\n",
       "            }, 500);\n",
       "            "
      ],
      "text/plain": [
       "<IPython.core.display.Javascript object>"
      ]
     },
     "metadata": {},
     "output_type": "display_data"
    }
   ],
   "source": [
    "matrix = []\n",
    "for text in tqdm(preprocessed_texts):\n",
    "    _x = [0] * len(dictionary)\n",
    "    for word in text:\n",
    "        _x[dictionary.get(word)] += 1\n",
    "    matrix.append(_x)\n"
   ]
  },
  {
   "cell_type": "code",
   "execution_count": null,
   "metadata": {},
   "outputs": [],
   "source": []
  },
  {
   "cell_type": "code",
   "execution_count": null,
   "metadata": {},
   "outputs": [],
   "source": [
    "counterDiv"
   ]
  },
  {
   "cell_type": "code",
   "execution_count": null,
   "metadata": {},
   "outputs": [],
   "source": [
    "for i in salaries:\n",
    "    salaries[i] /= counterDiv[i]"
   ]
  },
  {
   "cell_type": "code",
   "execution_count": null,
   "metadata": {},
   "outputs": [],
   "source": [
    "salaries "
   ]
  },
  {
   "cell_type": "code",
   "execution_count": null,
   "metadata": {},
   "outputs": [],
   "source": [
    "import random\n",
    "lst = [random.randrange(1,1000000) for _ in range(100)]\n",
    "sum(lst) / 100,sorted(lst)[50]"
   ]
  },
  {
   "cell_type": "markdown",
   "metadata": {},
   "source": [
    "# Task 2\n",
    "* Obtain and save at least 100 carreers specifications\n",
    "* Data should be preprocessed \n",
    "* Build BoW (or another model) matrix for the corpus\n",
    "* Try to build keywords to find needed information on 'habr.com'"
   ]
  },
  {
   "cell_type": "code",
   "execution_count": null,
   "metadata": {},
   "outputs": [],
   "source": [
    "import re\n",
    "x = [re.sub(r'[^\\w\\s]','',i) for i in data]"
   ]
  },
  {
   "cell_type": "markdown",
   "metadata": {},
   "source": [
    "## Bag of words\n",
    "<img src=\"https://encrypted-tbn0.gstatic.com/images?q=tbn:ANd9GcSDULOITIaIm8GF0pBBmBVMHkPUFf_X3cNK9z274pYxORhMqu7z\">\n",
    "\n",
    "https://www.oreilly.com/library/view/feature-engineering-for/9781491953235/ch04.html"
   ]
  },
  {
   "cell_type": "markdown",
   "metadata": {},
   "source": [
    "## N-Grams\n",
    "<img src=\"https://devopedia.org/images/article/219/7356.1569499094.png\">\n",
    "\n",
    "https://devopedia.org/n-gram-model"
   ]
  },
  {
   "cell_type": "markdown",
   "metadata": {},
   "source": [
    "## More complex models \n",
    "* TF-IDF\n",
    "* W2V / FastText\n",
    "* ..."
   ]
  },
  {
   "cell_type": "markdown",
   "metadata": {},
   "source": [
    "# Task 3\n",
    "* Find 3 the closest posts in habr.com and print Titles out.\n",
    "\n",
    "Which metric has been used?"
   ]
  },
  {
   "cell_type": "markdown",
   "metadata": {},
   "source": [
    "# Appendix\n",
    "## Natasha \n",
    "https://github.com/natasha/natasha"
   ]
  },
  {
   "cell_type": "code",
   "execution_count": 50,
   "metadata": {},
   "outputs": [
    {
     "data": {
      "application/javascript": [
       "\n",
       "            setTimeout(function() {\n",
       "                var nbb_cell_id = 50;\n",
       "                var nbb_unformatted_code = \"from natasha import (\\n    Segmenter,\\n    MorphVocab,\\n    NewsEmbedding,\\n    NewsMorphTagger,\\n    NewsSyntaxParser,\\n    NewsNERTagger,\\n    PER,\\n    NamesExtractor,\\n    Doc,\\n)\";\n",
       "                var nbb_formatted_code = \"from natasha import (\\n    Segmenter,\\n    MorphVocab,\\n    NewsEmbedding,\\n    NewsMorphTagger,\\n    NewsSyntaxParser,\\n    NewsNERTagger,\\n    PER,\\n    NamesExtractor,\\n    Doc,\\n)\";\n",
       "                var nbb_cells = Jupyter.notebook.get_cells();\n",
       "                for (var i = 0; i < nbb_cells.length; ++i) {\n",
       "                    if (nbb_cells[i].input_prompt_number == nbb_cell_id) {\n",
       "                        if (nbb_cells[i].get_text() == nbb_unformatted_code) {\n",
       "                             nbb_cells[i].set_text(nbb_formatted_code);\n",
       "                        }\n",
       "                        break;\n",
       "                    }\n",
       "                }\n",
       "            }, 500);\n",
       "            "
      ],
      "text/plain": [
       "<IPython.core.display.Javascript object>"
      ]
     },
     "metadata": {},
     "output_type": "display_data"
    }
   ],
   "source": [
    "from natasha import (\n",
    "    Segmenter,\n",
    "    MorphVocab,\n",
    "    NewsEmbedding,\n",
    "    NewsMorphTagger,\n",
    "    NewsSyntaxParser,\n",
    "    NewsNERTagger,\n",
    "    PER,\n",
    "    NamesExtractor,\n",
    "    Doc,\n",
    ")"
   ]
  },
  {
   "cell_type": "code",
   "execution_count": 51,
   "metadata": {},
   "outputs": [
    {
     "data": {
      "application/javascript": [
       "\n",
       "            setTimeout(function() {\n",
       "                var nbb_cell_id = 51;\n",
       "                var nbb_unformatted_code = \"segmenter = Segmenter()\\nmorph_vocab = MorphVocab()\\n\\nemb = NewsEmbedding()\\nmorph_tagger = NewsMorphTagger(emb)\\nsyntax_parser = NewsSyntaxParser(emb)\\nner_tagger = NewsNERTagger(emb)\\n\\nnames_extractor = NamesExtractor(morph_vocab)\\n\\n\\n# doc = Doc()\";\n",
       "                var nbb_formatted_code = \"segmenter = Segmenter()\\nmorph_vocab = MorphVocab()\\n\\nemb = NewsEmbedding()\\nmorph_tagger = NewsMorphTagger(emb)\\nsyntax_parser = NewsSyntaxParser(emb)\\nner_tagger = NewsNERTagger(emb)\\n\\nnames_extractor = NamesExtractor(morph_vocab)\\n\\n\\n# doc = Doc()\";\n",
       "                var nbb_cells = Jupyter.notebook.get_cells();\n",
       "                for (var i = 0; i < nbb_cells.length; ++i) {\n",
       "                    if (nbb_cells[i].input_prompt_number == nbb_cell_id) {\n",
       "                        if (nbb_cells[i].get_text() == nbb_unformatted_code) {\n",
       "                             nbb_cells[i].set_text(nbb_formatted_code);\n",
       "                        }\n",
       "                        break;\n",
       "                    }\n",
       "                }\n",
       "            }, 500);\n",
       "            "
      ],
      "text/plain": [
       "<IPython.core.display.Javascript object>"
      ]
     },
     "metadata": {},
     "output_type": "display_data"
    }
   ],
   "source": [
    "segmenter = Segmenter()\n",
    "morph_vocab = MorphVocab()\n",
    "\n",
    "emb = NewsEmbedding()\n",
    "morph_tagger = NewsMorphTagger(emb)\n",
    "syntax_parser = NewsSyntaxParser(emb)\n",
    "ner_tagger = NewsNERTagger(emb)\n",
    "\n",
    "names_extractor = NamesExtractor(morph_vocab)\n",
    "\n",
    "\n",
    "# doc = Doc()"
   ]
  },
  {
   "cell_type": "code",
   "execution_count": null,
   "metadata": {},
   "outputs": [],
   "source": []
  }
 ],
 "metadata": {
  "kernelspec": {
   "display_name": "Python 3",
   "language": "python",
   "name": "python3"
  },
  "language_info": {
   "codemirror_mode": {
    "name": "ipython",
    "version": 3
   },
   "file_extension": ".py",
   "mimetype": "text/x-python",
   "name": "python",
   "nbconvert_exporter": "python",
   "pygments_lexer": "ipython3",
   "version": "3.7.7"
  }
 },
 "nbformat": 4,
 "nbformat_minor": 2
}
