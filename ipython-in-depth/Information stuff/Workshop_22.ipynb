{
 "cells": [
  {
   "cell_type": "markdown",
   "metadata": {
    "id": "dcVzy_yW1PxX"
   },
   "source": [
    "# Workshop 22. Graphs.\n",
    "\n",
    "\n",
    "Graph is a set of related objects. The objects themselves are called vertices and their relations are called edges.\n",
    "\n",
    "![Graph](https://upload.wikimedia.org/wikipedia/commons/thumb/5/5b/6n-graf.svg/333px-6n-graf.svg.png)\n",
    "\n",
    "Here is a graph consisting of 6 numbered vertices and 7 edges.\n",
    "\n",
    "## Trees\n",
    "\n",
    "A **cycle** is a graph (or a subgraph) in which vertices are connected in a cycle. For the example graph above, there are cycles **[1-2-5]**, **[1-2-3-4-5]** and **[2-3-4-5]**.\n",
    "\n",
    "A graph without cycles is a tree.\n",
    "\n",
    "![Tree](https://upload.wikimedia.org/wikipedia/commons/thumb/2/24/Tree_graph.svg/200px-Tree_graph.svg.png)\n",
    "\n",
    "Trees are commonly used in programming as a basis for a data structure, like a heap.\n",
    "\n",
    "## Adjacency matrix / adjacency list\n",
    "\n",
    "Adjacency matrix is one of several ways to represent graph as a data structure.\n",
    "\n",
    "It is a square matrix where each row and column represent a vertex, and the cells of the matrix represent the edge.\n",
    "\n",
    "Here is the matrix for the graph above.\n",
    "\n",
    "```\n",
    "  | 1 2 3 4 5 6\n",
    "--|------------\n",
    "1 | 0 1 0 0 1 0\n",
    "2 | 1 0 1 0 1 0\n",
    "3 | 0 1 0 1 0 0\n",
    "4 | 0 0 1 0 1 1\n",
    "5 | 1 1 0 1 0 0\n",
    "6 | 0 0 0 1 0 0\n",
    "```\n",
    "\n",
    "A similar approach is to use an adjacency list, where for each vertex a list of adjacent vertices is stored.\n",
    "\n",
    "```\n",
    "1 | [2, 5]\n",
    "2 | [1, 3, 5]\n",
    "3 | [2, 4]\n",
    "4 | [3, 5, 6]\n",
    "5 | [1, 2, 4]\n",
    "6 | [4]\n",
    "```\n",
    "\n"
   ]
  },
  {
   "cell_type": "code",
   "execution_count": 63,
   "metadata": {
    "colab": {
     "base_uri": "https://localhost:8080/"
    },
    "id": "1iuB_q7tEG9K",
    "outputId": "eac0574d-7373-431a-c12a-504c11941aeb"
   },
   "outputs": [
    {
     "name": "stdout",
     "output_type": "stream",
     "text": [
      "[3]\n",
      "[3]\n",
      "[3]\n",
      "[0, 1, 2, 4]\n",
      "[3, 5]\n",
      "[4]\n"
     ]
    }
   ],
   "source": [
    "# Example of a program that converts an adjacency matrix into an adjacency list\n",
    "\n",
    "adj_matrix = [\n",
    "              [0, 0, 0, 1, 0, 0],\n",
    "              [0, 0, 0, 1, 0, 0],\n",
    "              [0, 0, 0, 1, 0, 0],\n",
    "              [1, 1, 1, 0, 1, 0],\n",
    "              [0, 0, 0, 1, 0, 1],\n",
    "              [0, 0, 0, 0, 1, 0],\n",
    "]\n",
    "\n",
    "adj_list = []\n",
    "\n",
    "for row in adj_matrix:\n",
    "    new_row = []\n",
    "    for i, x in enumerate(row):\n",
    "        if x == 1:\n",
    "            new_row.append(i)\n",
    "    adj_list.append(new_row)\n",
    "\n",
    "print(*adj_list, sep='\\n')"
   ]
  },
  {
   "cell_type": "code",
   "execution_count": 79,
   "metadata": {},
   "outputs": [
    {
     "data": {
      "text/plain": [
       "[[0, 0, 0, 1, 0, 0],\n",
       " [0, 0, 0, 1, 0, 0],\n",
       " [0, 0, 0, 1, 0, 0],\n",
       " [1, 1, 1, 0, 1, 0],\n",
       " [0, 0, 0, 1, 0, 1],\n",
       " [0, 0, 0, 0, 1, 0]]"
      ]
     },
     "execution_count": 79,
     "metadata": {},
     "output_type": "execute_result"
    }
   ],
   "source": [
    "def adj_list_to_matrix(adj_list):\n",
    "    size  = len(adj_list)\n",
    "    matrix = [[0] * size for _ in range(size)]\n",
    "    \n",
    "    for i, v in enumerate(adj_list):\n",
    "        for j in v:\n",
    "            matrix[i][j] = 1\n",
    "    \n",
    "    return matrix \n",
    "\n",
    "\n",
    "matrix = adj_list_to_matrix(adj_list)\n",
    "matrix"
   ]
  },
  {
   "cell_type": "markdown",
   "metadata": {
    "id": "KaAoC_AjEHe9"
   },
   "source": [
    "\n",
    "## Search algorithms\n",
    "\n",
    "There are many algorithms related to graphs and trees, like finding the shortest path or finding the optimal way to cut the graph. Search algorithms are some of the basic ones.\n",
    "\n",
    "There are two main search algorithms: breadth-first search and depth-first search.\n",
    "\n",
    "### Breadth-first search\n",
    "\n",
    "In this algorithm, you first explore all the neighbor vertices of your known vertices before exploring the neighbors of the new ones.\n",
    "\n",
    "![BFS](https://upload.wikimedia.org/wikipedia/commons/thumb/3/33/Breadth-first-tree.svg/390px-Breadth-first-tree.svg.png)\n",
    "\n",
    "This illustration shows the order in which you would explore a graph using breadth-first search.\n",
    "\n",
    "### Depth-first search\n",
    "\n",
    "In this algorithm, you first explore the neighbors of the newly found vertices, and only then process other known branches.\n",
    "\n",
    "![DFS](https://upload.wikimedia.org/wikipedia/commons/thumb/1/1f/Depth-first-tree.svg/390px-Depth-first-tree.svg.png)\n",
    "\n",
    "### Implementation"
   ]
  },
  {
   "cell_type": "code",
   "execution_count": 1,
   "metadata": {
    "colab": {
     "base_uri": "https://localhost:8080/"
    },
    "id": "fwI-8Kim1LXF",
    "outputId": "5aa3dd98-410f-4962-e1ba-0cd32eda2f5a"
   },
   "outputs": [
    {
     "name": "stdout",
     "output_type": "stream",
     "text": [
      "0\n",
      "1\n",
      "6\n",
      "7\n",
      "2\n",
      "5\n",
      "8\n",
      "11\n",
      "3\n",
      "4\n",
      "9\n",
      "10\n"
     ]
    }
   ],
   "source": [
    "# Breadth-first search\n",
    "\n",
    "# Create a queue to store elements waiting to be processed\n",
    "from collections import deque\n",
    "queue = deque()\n",
    "\n",
    "# Create an adjacency list correspoding to a tree from an illustration above\n",
    "adj_list = [[1, 6, 7], [0, 2, 5], [1, 3, 4], [2], [2], [1], [0], [0, 8, 11],\n",
    "            [7, 9, 10], [8], [8], [7]]\n",
    "\n",
    "# Add the first element to the queue (the root)\n",
    "queue.append(0)\n",
    "\n",
    "# A set to save whether an element has been processed or not\n",
    "processed = {0}\n",
    "\n",
    "while queue:\n",
    "    current_v = queue.popleft()\n",
    "    print(current_v)\n",
    "    for v in adj_list[current_v]:\n",
    "        if v not in processed:\n",
    "            queue.append(v)\n",
    "        processed.add(v)"
   ]
  },
  {
   "cell_type": "code",
   "execution_count": 86,
   "metadata": {},
   "outputs": [
    {
     "name": "stdout",
     "output_type": "stream",
     "text": [
      "0\n",
      "1\n",
      "2\n",
      "3\n",
      "4\n",
      "5\n",
      "6\n",
      "7\n",
      "8\n",
      "9\n",
      "10\n",
      "11\n"
     ]
    }
   ],
   "source": [
    "# Depth-first search\n",
    "\n",
    "# Create a queue to store elements waiting to be processed\n",
    "from collections import deque\n",
    "queue = deque()\n",
    "\n",
    "# Create an adjacency list correspoding to a tree from an illustration above\n",
    "adj_list = [[1, 6, 7], [0, 2, 5], [1, 3, 4], [2], [2], [1], [0], [0, 8, 11],\n",
    "            [7, 9, 10], [8], [8], [7]]\n",
    "\n",
    "# Add the first element to the queue (the root)\n",
    "queue.append(0)\n",
    "\n",
    "# A set to save whether an element has been processed or not\n",
    "processed = {0}\n",
    "\n",
    "while queue:\n",
    "    current_v = queue.pop()\n",
    "    print(current_v)\n",
    "    for v in adj_list[current_v][::-1]:\n",
    "        if v not in processed:\n",
    "            queue.append(v)\n",
    "        processed.add(v)"
   ]
  },
  {
   "cell_type": "markdown",
   "metadata": {
    "id": "Mqi3SsK7pPwL"
   },
   "source": [
    "### Task 1\n",
    "\n",
    "Change a single line in the above implementation, so it becomes a depth-first search instead of breath-first one."
   ]
  },
  {
   "cell_type": "markdown",
   "metadata": {
    "id": "OGRBdbLQpX-G"
   },
   "source": [
    "### Task 2\n",
    "\n",
    "Implement a recursive algorithm for depth-first search. Print the current vertex as in the example above. If implemented correctly, your algorithm should print the vertices in order: `0 1 2 3 4...`\n",
    "\n",
    "### Task 2.1\n",
    "\n",
    "Write a program that determines whether a graph is a tree or not.\n"
   ]
  },
  {
   "cell_type": "code",
   "execution_count": 87,
   "metadata": {},
   "outputs": [
    {
     "name": "stdout",
     "output_type": "stream",
     "text": [
      "0\n",
      "1\n",
      "processed: 0\n",
      "6\n",
      "processed: 0\n",
      "2\n",
      "processed: 1\n",
      "3\n",
      "processed: 2\n",
      "4\n",
      "processed: 2\n",
      "5\n",
      "processed: 1\n",
      "processed: 6\n",
      "7\n",
      "processed: 0\n",
      "8\n",
      "processed: 7\n",
      "9\n",
      "processed: 8\n",
      "10\n",
      "processed: 8\n",
      "11\n",
      "processed: 7\n"
     ]
    }
   ],
   "source": [
    "def dfs(vertex, processed, adj_list):\n",
    "    if vertex not in processed:\n",
    "        print(vertex)\n",
    "        processed.add(vertex)\n",
    "        for x in adj_list[vertex]:\n",
    "            dfs(x, processed, adj_list)\n",
    "    else:\n",
    "        print('processed:', vertex)\n",
    "\n",
    "            \n",
    "dfs(0,set(),adj_list)"
   ]
  },
  {
   "cell_type": "markdown",
   "metadata": {
    "id": "lphvpZjd1_tg"
   },
   "source": [
    "### Task 3*\n",
    "\n",
    "You are given a matrix which has numbers **-1** and **-2** as its elements.\n",
    "\n",
    "```python\n",
    "a=[\n",
    "[-1,-1,-1,-1,-1,-1,-1],\n",
    "[-1,-2,-2,-2,-2,-1,-1],\n",
    "[-1,-2,-2,-1,-1,-2,-1],\n",
    "[-1,-2,-1,-2,-2,-2,-1],\n",
    "[-1,-2,-2,-2,-2,-2,-1],\n",
    "[-1,-2,-2,-1,-1,-1,-1],\n",
    "[-1,-2,-2,-2,-2,-2,-1],\n",
    "[-1,-1,-1,-1,-1,-1,-1]\n",
    "]\n",
    "```\n",
    "\n",
    "**-1** represents a wall (no cell)  \n",
    "**-2** represents a cell\n",
    "\n",
    "Convert this matrix into a graph where adjacent 4 cells become connected with an edge.\n",
    "\n",
    "### Part 1\n",
    "\n",
    "Replace **-1** with the number of the corresponding vertex\n",
    "\n",
    "For example, for breadth-first search starting with the cell `(4, 4)`, this is a possible order of the cells.\n",
    "\n",
    "```\n",
    "-1\t-1\t-1\t-1\t-1\t-1\t-1\n",
    "-1\t18\t20\t21\t22\t-1\t-1\n",
    "-1\t17\t19\t-1\t-1\t 5\t-1\n",
    "-1\t10\t-1\t 6\t 1\t 4\t-1\n",
    "-1\t 9\t 7\t 2\t 0 \t3\t-1\n",
    "-1\t11\t 8\t-1\t-1\t-1\t-1\n",
    "-1\t12\t13\t14\t15\t16\t-1\n",
    "-1\t-1\t-1\t-1\t-1\t-1\t-1\n",
    "```\n",
    "### Part 2\n",
    "\n",
    "Create an adjacency list for the resulting graph.\n",
    "\n",
    "The adjacency list for these cells is the following (vertex/cell numbers added for clarity):\n",
    "\n",
    "```\n",
    "(0, [1, 2, 3])\n",
    "(1, [0, 6, 4])\n",
    "(2, [6, 7, 0])\n",
    "(3, [4, 0])\n",
    "(4, [5, 3, 1])\n",
    "(5, [4])\n",
    "(6, [2, 1])\n",
    "(7, [8, 9, 2])\n",
    "(8, [7, 13, 11])\n",
    "(9, [10, 11, 7])\n",
    "(10, [17, 9])\n",
    "(11, [9, 12, 8])\n",
    "(12, [11, 13])\n",
    "(13, [8, 12, 14])\n",
    "(14, [13, 15])\n",
    "(15, [14, 16])\n",
    "(16, [15])\n",
    "(17, [18, 10, 19])\n",
    "(18, [17, 20])\n",
    "(19, [20, 17])\n",
    "(20, [19, 18, 21])\n",
    "(21, [20, 22])\n",
    "(22, [21])\n",
    "```\n"
   ]
  },
  {
   "cell_type": "code",
   "execution_count": 91,
   "metadata": {
    "id": "aZMbvI0jrsC2"
   },
   "outputs": [
    {
     "data": {
      "text/plain": [
       "[[],\n",
       " [1, 2, 3, 4],\n",
       " [1, 2, 5],\n",
       " [1, 3, 4, 5],\n",
       " [1, 2, 3, 4, 5],\n",
       " [1, 2],\n",
       " [1, 2, 3, 4, 5],\n",
       " []]"
      ]
     },
     "execution_count": 91,
     "metadata": {},
     "output_type": "execute_result"
    }
   ],
   "source": [
    "from collections import deque\n",
    "\n",
    "adj_matrix = [\n",
    "[-1,-1,-1,-1,-1,-1,-1],\n",
    "[-1,-2,-2,-2,-2,-1,-1],\n",
    "[-1,-2,-2,-1,-1,-2,-1],\n",
    "[-1,-2,-1,-2,-2,-2,-1],\n",
    "[-1,-2,-2,-2,-2,-2,-1],\n",
    "[-1,-2,-2,-1,-1,-1,-1],\n",
    "[-1,-2,-2,-2,-2,-2,-1],\n",
    "[-1,-1,-1,-1,-1,-1,-1]\n",
    "]\n",
    "\n",
    "adj_list = []\n",
    "\n",
    "for row in adj_matrix:\n",
    "    new_row = []\n",
    "    for i, x in enumerate(row):\n",
    "        if x == -2:\n",
    "            new_row.append(i)\n",
    "    adj_list.append(new_row)\n",
    "\n",
    "\n",
    "adj_list"
   ]
  },
  {
   "cell_type": "code",
   "execution_count": 1,
   "metadata": {},
   "outputs": [
    {
     "ename": "NameError",
     "evalue": "name 'adj_matrix' is not defined",
     "output_type": "error",
     "traceback": [
      "\u001b[0;31m---------------------------------------------------------------------------\u001b[0m",
      "\u001b[0;31mNameError\u001b[0m                                 Traceback (most recent call last)",
      "\u001b[0;32m/var/folders/mp/fq0hr_bj2z3850p7x62kfrjm0000gn/T/ipykernel_15191/3051269450.py\u001b[0m in \u001b[0;36m<module>\u001b[0;34m\u001b[0m\n\u001b[1;32m     19\u001b[0m \u001b[0;34m\u001b[0m\u001b[0m\n\u001b[1;32m     20\u001b[0m     \u001b[0;32mreturn\u001b[0m \u001b[0madj_matrix\u001b[0m\u001b[0;34m\u001b[0m\u001b[0;34m\u001b[0m\u001b[0m\n\u001b[0;32m---> 21\u001b[0;31m \u001b[0mbfs\u001b[0m\u001b[0;34m(\u001b[0m\u001b[0madj_matrix\u001b[0m\u001b[0;34m,\u001b[0m \u001b[0;34m(\u001b[0m\u001b[0;36m4\u001b[0m\u001b[0;34m,\u001b[0m\u001b[0;36m4\u001b[0m\u001b[0;34m)\u001b[0m\u001b[0;34m)\u001b[0m\u001b[0;34m\u001b[0m\u001b[0;34m\u001b[0m\u001b[0m\n\u001b[0m",
      "\u001b[0;31mNameError\u001b[0m: name 'adj_matrix' is not defined"
     ]
    }
   ],
   "source": [
    "def bfs(adj_matrix, point):\n",
    "    start = 0\n",
    "    visited = set(point)\n",
    "\n",
    "    queue = deque()\n",
    "    queue.append(point)\n",
    "    \n",
    "    while queue:\n",
    "        point = queue.popleft()\n",
    "        for i in [(point[0] + 1, point[1]),(point[0] - 1, point[1]),\n",
    "                  (point[0], point[1] + 1),(point[0], point[1] - 1)]:\n",
    "            if i[0] < 0 or i[1] < 0 or i[1] >=  len(adj_matrix) or i[0] >=  len(adj_matrix):\n",
    "                continue\n",
    "            if i not in visited:\n",
    "                if adj_matrix[i[0]][i[1]] == -2:\n",
    "                    adj_matrix[i[0]][i[1]] = start\n",
    "                    start += 1\n",
    "            visited.add(i)\n",
    "    \n",
    "    return adj_matrix \n",
    "bfs(adj_matrix, (4,4))"
   ]
  },
  {
   "cell_type": "code",
   "execution_count": 90,
   "metadata": {},
   "outputs": [
    {
     "data": {
      "text/plain": [
       "[[0, 0, 0, 0, 0, 0, 0, 0],\n",
       " [0, 1, 1, 1, 1, 0, 0, 0],\n",
       " [0, 1, 1, 0, 0, 1, 0, 0],\n",
       " [0, 1, 0, 1, 1, 1, 0, 0],\n",
       " [0, 1, 1, 1, 1, 1, 0, 0],\n",
       " [0, 1, 1, 0, 0, 0, 0, 0],\n",
       " [0, 1, 1, 1, 1, 1, 0, 0],\n",
       " [0, 0, 0, 0, 0, 0, 0, 0]]"
      ]
     },
     "execution_count": 90,
     "metadata": {},
     "output_type": "execute_result"
    }
   ],
   "source": [
    "\n",
    "\n",
    "def adj_list_to_matrix(adj_list):\n",
    "    size = len(adj_list)\n",
    "    matrix = [[0] * size for _ in range(size)]\n",
    "\n",
    "\n",
    "    for i,el in enumerate(adj_list):\n",
    "        for j in el:\n",
    "            matrix[i][j] = 1\n",
    "            \n",
    "    return matrix \n",
    "        \n",
    "\n",
    "        \n",
    "adj_list_to_matrix(adj_list)"
   ]
  },
  {
   "cell_type": "code",
   "execution_count": null,
   "metadata": {},
   "outputs": [],
   "source": []
  }
 ],
 "metadata": {
  "colab": {
   "collapsed_sections": [],
   "name": "Workshop 22.ipynb",
   "provenance": []
  },
  "kernelspec": {
   "display_name": "Python 3 (ipykernel)",
   "language": "python",
   "name": "python3"
  },
  "language_info": {
   "codemirror_mode": {
    "name": "ipython",
    "version": 3
   },
   "file_extension": ".py",
   "mimetype": "text/x-python",
   "name": "python",
   "nbconvert_exporter": "python",
   "pygments_lexer": "ipython3",
   "version": "3.9.7"
  }
 },
 "nbformat": 4,
 "nbformat_minor": 1
}
