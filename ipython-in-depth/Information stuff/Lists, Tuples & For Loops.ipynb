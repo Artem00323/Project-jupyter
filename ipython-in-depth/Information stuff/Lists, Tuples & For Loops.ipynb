{
 "cells": [
  {
   "cell_type": "markdown",
   "metadata": {},
   "source": [
    "# Data Structures (1)\n",
    "* <b>List</b> -- mutable sequence, ordered and non-unique storage allowed;\n",
    "* <b>Tuple</b> -- immutable sequence, ordered and non-unique storage allowed;\n",
    "* Set (consider later) -- unordered and unindexed mutable collection with no duplicate elements;\n",
    "* Dictionary (consider later) -- unordered  and indexed mutable collection with no duplicate elements.\n"
   ]
  },
  {
   "cell_type": "markdown",
   "metadata": {},
   "source": [
    "## Lists"
   ]
  },
  {
   "cell_type": "markdown",
   "metadata": {},
   "source": [
    "###  Creating\n",
    "* Using a pair of square brackets to denote the empty list: []\n",
    "* Using square brackets, separating items with commas: [a], [a, b, c]\n",
    "* Using a list comprehension: [x for x in iterable]\n",
    "* Using the type constructor: list() or list(iterable)\n",
    "\n",
    "Note:\n",
    "\n",
    "<i>iterable</i> i.e. elements of the object can be sequentially accessed"
   ]
  },
  {
   "cell_type": "code",
   "execution_count": null,
   "metadata": {},
   "outputs": [],
   "source": [
    "empty_list = []\n",
    "square_brackets_list = [\"Hello\",\",\",\"World\",\"!\"]\n",
    "list_comprehension = [letter for letter in \"some_string\"]\n",
    "with_type_constructor_list = list(\"some_string_2\")"
   ]
  },
  {
   "cell_type": "code",
   "execution_count": null,
   "metadata": {},
   "outputs": [],
   "source": [
    "[letter for letter in range(10)]\n",
    "list(range(10))"
   ]
  },
  {
   "cell_type": "code",
   "execution_count": null,
   "metadata": {},
   "outputs": [],
   "source": [
    "print(empty_list,square_brackets_list,list_comprehension,with_type_constructor_list,sep=\"\\n\")"
   ]
  },
  {
   "cell_type": "markdown",
   "metadata": {},
   "source": [
    "### Accessing"
   ]
  },
  {
   "cell_type": "code",
   "execution_count": 4,
   "metadata": {},
   "outputs": [
    {
     "name": "stdout",
     "output_type": "stream",
     "text": [
      "Hello\n",
      "[',', 'World']\n"
     ]
    }
   ],
   "source": [
    "print(square_brackets_list[0])\n",
    "print(square_brackets_list[1:3])"
   ]
  },
  {
   "cell_type": "markdown",
   "metadata": {},
   "source": [
    "### Changing"
   ]
  },
  {
   "cell_type": "code",
   "execution_count": 5,
   "metadata": {},
   "outputs": [
    {
     "data": {
      "text/plain": [
       "['Hello', ',', 'HSE', '!']"
      ]
     },
     "execution_count": 5,
     "metadata": {},
     "output_type": "execute_result"
    }
   ],
   "source": [
    "square_brackets_list[2] = \"HSE\"\n",
    "square_brackets_list"
   ]
  },
  {
   "cell_type": "code",
   "execution_count": 6,
   "metadata": {},
   "outputs": [
    {
     "ename": "IndexError",
     "evalue": "list assignment index out of range",
     "output_type": "error",
     "traceback": [
      "\u001b[0;31m---------------------------------------------------------------------------\u001b[0m",
      "\u001b[0;31mIndexError\u001b[0m                                Traceback (most recent call last)",
      "\u001b[0;32m<ipython-input-6-52f036fcf7d4>\u001b[0m in \u001b[0;36m<module>\u001b[0;34m\u001b[0m\n\u001b[0;32m----> 1\u001b[0;31m \u001b[0msquare_brackets_list\u001b[0m\u001b[0;34m[\u001b[0m\u001b[0;36m10\u001b[0m\u001b[0;34m]\u001b[0m \u001b[0;34m=\u001b[0m \u001b[0;34m\"Error Example\"\u001b[0m \u001b[0;31m# remember about list range\u001b[0m\u001b[0;34m\u001b[0m\u001b[0;34m\u001b[0m\u001b[0m\n\u001b[0m",
      "\u001b[0;31mIndexError\u001b[0m: list assignment index out of range"
     ]
    }
   ],
   "source": [
    "square_brackets_list[10] = \"Error Example\" # remember about list range"
   ]
  },
  {
   "cell_type": "markdown",
   "metadata": {},
   "source": [
    "### Adding"
   ]
  },
  {
   "cell_type": "code",
   "execution_count": 7,
   "metadata": {},
   "outputs": [],
   "source": [
    "empty_list.append(\"new_item\") # to the end of the sequence "
   ]
  },
  {
   "cell_type": "code",
   "execution_count": 8,
   "metadata": {},
   "outputs": [
    {
     "data": {
      "text/plain": [
       "['new_item']"
      ]
     },
     "execution_count": 8,
     "metadata": {},
     "output_type": "execute_result"
    }
   ],
   "source": [
    "empty_list"
   ]
  },
  {
   "cell_type": "code",
   "execution_count": 9,
   "metadata": {},
   "outputs": [
    {
     "data": {
      "text/plain": [
       "['Hello', 'INSERTION_AT_1', ',', 'HSE', '!', 'INSERTION_AT_10']"
      ]
     },
     "execution_count": 9,
     "metadata": {},
     "output_type": "execute_result"
    }
   ],
   "source": [
    "square_brackets_list.insert(1,\"INSERTION_AT_1\") # into list at the index\n",
    "square_brackets_list.insert(10,\"INSERTION_AT_10\")\n",
    "square_brackets_list"
   ]
  },
  {
   "cell_type": "code",
   "execution_count": 10,
   "metadata": {},
   "outputs": [
    {
     "data": {
      "text/plain": [
       "'INSERTION_AT_10'"
      ]
     },
     "execution_count": 10,
     "metadata": {},
     "output_type": "execute_result"
    }
   ],
   "source": [
    "square_brackets_list[5] # list index out of range"
   ]
  },
  {
   "cell_type": "markdown",
   "metadata": {},
   "source": [
    "### Removing / deleting"
   ]
  },
  {
   "cell_type": "code",
   "execution_count": 12,
   "metadata": {},
   "outputs": [
    {
     "ename": "ValueError",
     "evalue": "list.remove(x): x not in list",
     "output_type": "error",
     "traceback": [
      "\u001b[0;31m---------------------------------------------------------------------------\u001b[0m",
      "\u001b[0;31mValueError\u001b[0m                                Traceback (most recent call last)",
      "\u001b[0;32m<ipython-input-12-e817b5ddd624>\u001b[0m in \u001b[0;36m<module>\u001b[0;34m\u001b[0m\n\u001b[0;32m----> 1\u001b[0;31m \u001b[0msquare_brackets_list\u001b[0m\u001b[0;34m.\u001b[0m\u001b[0mremove\u001b[0m\u001b[0;34m(\u001b[0m\u001b[0;34m\"INSERTION_AT_10\"\u001b[0m\u001b[0;34m)\u001b[0m \u001b[0;31m# removing the specified item (tagret), if tagret not in list => ValueError\u001b[0m\u001b[0;34m\u001b[0m\u001b[0;34m\u001b[0m\u001b[0m\n\u001b[0m\u001b[1;32m      2\u001b[0m \u001b[0msquare_brackets_list\u001b[0m\u001b[0;34m\u001b[0m\u001b[0;34m\u001b[0m\u001b[0m\n",
      "\u001b[0;31mValueError\u001b[0m: list.remove(x): x not in list"
     ]
    }
   ],
   "source": [
    "square_brackets_list.remove(\"INSERTION_AT_10\") # removing the specified item (tagret), if tagret not in list => ValueError\n",
    "square_brackets_list"
   ]
  },
  {
   "cell_type": "code",
   "execution_count": 13,
   "metadata": {},
   "outputs": [
    {
     "data": {
      "text/plain": [
       "['Hello', ',', 'HSE', '!']"
      ]
     },
     "execution_count": 13,
     "metadata": {},
     "output_type": "execute_result"
    }
   ],
   "source": [
    "square_brackets_list.pop(1) #  removing the specified index, as default the specified index = the last item\n",
    "square_brackets_list"
   ]
  },
  {
   "cell_type": "markdown",
   "metadata": {},
   "source": [
    "The <b>del</b> statement is used to delete objects (variables, lists or its parts etc. -- everything is an object)"
   ]
  },
  {
   "cell_type": "code",
   "execution_count": 17,
   "metadata": {},
   "outputs": [],
   "source": [
    "a = 1\n",
    "b_list = [1,2,a,4,'5']"
   ]
  },
  {
   "cell_type": "code",
   "execution_count": 18,
   "metadata": {},
   "outputs": [
    {
     "ename": "NameError",
     "evalue": "name 'a' is not defined",
     "output_type": "error",
     "traceback": [
      "\u001b[0;31m---------------------------------------------------------------------------\u001b[0m",
      "\u001b[0;31mNameError\u001b[0m                                 Traceback (most recent call last)",
      "\u001b[0;32m<ipython-input-18-1686224acc3a>\u001b[0m in \u001b[0;36m<module>\u001b[0;34m\u001b[0m\n\u001b[1;32m      1\u001b[0m \u001b[0;32mdel\u001b[0m \u001b[0ma\u001b[0m\u001b[0;34m\u001b[0m\u001b[0;34m\u001b[0m\u001b[0m\n\u001b[0;32m----> 2\u001b[0;31m \u001b[0ma\u001b[0m \u001b[0;31m# name 'a' is not defined\u001b[0m\u001b[0;34m\u001b[0m\u001b[0;34m\u001b[0m\u001b[0m\n\u001b[0m",
      "\u001b[0;31mNameError\u001b[0m: name 'a' is not defined"
     ]
    }
   ],
   "source": [
    "del a\n",
    "a # name 'a' is not defined"
   ]
  },
  {
   "cell_type": "code",
   "execution_count": 19,
   "metadata": {},
   "outputs": [
    {
     "data": {
      "text/plain": [
       "[1, 4, '5']"
      ]
     },
     "execution_count": 19,
     "metadata": {},
     "output_type": "execute_result"
    }
   ],
   "source": [
    "del b_list[0:2]\n",
    "b_list"
   ]
  },
  {
   "cell_type": "code",
   "execution_count": 20,
   "metadata": {},
   "outputs": [],
   "source": [
    "del b_list"
   ]
  },
  {
   "cell_type": "markdown",
   "metadata": {},
   "source": [
    "### Clearing"
   ]
  },
  {
   "cell_type": "code",
   "execution_count": 21,
   "metadata": {},
   "outputs": [
    {
     "name": "stdout",
     "output_type": "stream",
     "text": [
      "LIST WITH LETTERS: ['q', 'w', 'e', 'r', 't', 'y', 'u', 'i', 'o', 'p', 'a', 's', 'd', 'f', 'g', 'h', 'j', 'k', 'l', 'z', 'x', 'c', 'v', 'b', 'n', 'm']\n",
      "EMPTY LIST:\n",
      "[]\n"
     ]
    }
   ],
   "source": [
    "list_of_letters = [letter for letter in \"qwertyuiopasdfghjklzxcvbnm\"]\n",
    "print(\"LIST WITH LETTERS:\",list_of_letters,sep=' ')\n",
    "list_of_letters.clear()\n",
    "print(\"EMPTY LIST:\",list_of_letters,sep='\\n')"
   ]
  },
  {
   "cell_type": "markdown",
   "metadata": {},
   "source": [
    "### Other list methods "
   ]
  },
  {
   "cell_type": "code",
   "execution_count": 30,
   "metadata": {},
   "outputs": [
    {
     "name": "stdout",
     "output_type": "stream",
     "text": [
      "['q', 'w', 'e', 'r', 't', 'y', 'u', 'i', 'o', 'p', 'a', 's', 'd', 'f', 'g', 'h', 'j', 'k', 'l', 'z', 'x', 'c', 'v', 'b', 'n', 'm']\n",
      "['m', 'n', 'b', 'v', 'c', 'x', 'z', 'l', 'k', 'j', 'h', 'g', 'f', 'd', 's', 'a', 'p', 'o', 'i', 'u', 'y', 't', 'r', 'e', 'w', 'q']\n",
      "['z', 'y', 'x', 'w', 'v', 'u', 't', 's', 'r', 'q', 'p', 'o', 'n', 'm', 'l', 'k', 'j', 'i', 'h', 'g', 'f', 'e', 'd', 'c', 'b', 'a']\n",
      "m\n",
      "['z', 'y', 'x', 'w', 'v', 'u', 't', 's', 'r', 'q', 'p', 'o', 'n', 'm', 'l', 'k', 'j', 'i', 'h', 'g', 'f', 'e', 'd', 'c', 'b', 'a', '1', '2', '3', '4', '5', '6', '7', '8', '9', '0', 'z', 'y', 'x', 'w', 'v', 'u', 't', 's', 'r', 'q', 'p', 'o', 'n', 'm', 'l', 'k', 'j', 'i', 'h', 'g', 'f', 'e', 'd', 'c', 'b', 'a', '1', '2', '3', '4', '5', '6', '7', '8', '9', '0']\n",
      "LIST SIZE: 36\n"
     ]
    }
   ],
   "source": [
    "list_of_letters = [letter for letter in \"qwertyuiopasdfghjklzxcvbnm\"]\n",
    "print(list_of_letters)\n",
    "\n",
    "list_of_letters.reverse()\n",
    "print(list_of_letters) # reversing list\n",
    "\n",
    "list_of_letters.sort(reverse=True) # sorting. Remember! sort() method accepts two argument and returns None \n",
    "print(list_of_letters)\n",
    "\n",
    "m_ind = list_of_letters.index('m') # find the first item whose value is equal to target\n",
    "print(list_of_letters[m_ind])\n",
    "\n",
    "list_of_letters.extend(list('1234567890')) # iterable extending\n",
    "print(list_of_letters+list_of_letters)\n",
    "\n",
    "print(\"LIST SIZE:\",len(list_of_letters)) # list length"
   ]
  },
  {
   "cell_type": "code",
   "execution_count": 32,
   "metadata": {},
   "outputs": [
    {
     "data": {
      "text/plain": [
       "<list_reverseiterator at 0x7f9e1498ca10>"
      ]
     },
     "execution_count": 32,
     "metadata": {},
     "output_type": "execute_result"
    }
   ],
   "source": [
    "reversed(list_of_letters)"
   ]
  },
  {
   "cell_type": "code",
   "execution_count": 37,
   "metadata": {},
   "outputs": [
    {
     "data": {
      "text/plain": [
       "1"
      ]
     },
     "execution_count": 37,
     "metadata": {},
     "output_type": "execute_result"
    }
   ],
   "source": [
    "min(sum([[1,2],[2,5],[2,2]],[]))"
   ]
  },
  {
   "cell_type": "code",
   "execution_count": null,
   "metadata": {},
   "outputs": [],
   "source": [
    "list(sorted(sum([[1,2],[2,5],[2,2]],[])))"
   ]
  },
  {
   "cell_type": "code",
   "execution_count": null,
   "metadata": {},
   "outputs": [],
   "source": [
    "[1,23,4]+[1,3,4,5]"
   ]
  },
  {
   "cell_type": "markdown",
   "metadata": {},
   "source": [
    "## Tuples"
   ]
  },
  {
   "cell_type": "markdown",
   "metadata": {},
   "source": [
    "###  Creating\n",
    "* Using a pair of parentheses to denote the empty tuple: ()\n",
    "* Using a trailing comma for a singleton tuple: a, or (a,)\n",
    "* Separating items with commas: a, b, c or (a, b, c)\n",
    "* Using the tuple() built-in: tuple() or tuple(iterable)"
   ]
  },
  {
   "cell_type": "code",
   "execution_count": 46,
   "metadata": {},
   "outputs": [
    {
     "data": {
      "text/plain": [
       "('s', 'o', 'm', 'e', '_', 's', 't', 'r', 'i', 'n', 'g', '_', '2')"
      ]
     },
     "execution_count": 46,
     "metadata": {},
     "output_type": "execute_result"
    }
   ],
   "source": [
    "empty_tuple = ()\n",
    "singleton = 'singleton',0,\n",
    "separated_tuple = (\"Hello\",\",\",\"World\",\"!\") # separated_tuple = \"Hello\",\",\",\"World\",\"!\"\n",
    "with_type_constructor_tuple = tuple(\"some_string_2\")\n",
    "with_type_constructor_tuple"
   ]
  },
  {
   "cell_type": "code",
   "execution_count": 44,
   "metadata": {},
   "outputs": [
    {
     "data": {
      "text/plain": [
       "()"
      ]
     },
     "execution_count": 44,
     "metadata": {},
     "output_type": "execute_result"
    }
   ],
   "source": [
    "# Important\n",
    "tuple([\"Hello\",\",\",\"World\",\"!\"]) # it works\n",
    "tuple() # it doesn not work"
   ]
  },
  {
   "cell_type": "code",
   "execution_count": 47,
   "metadata": {},
   "outputs": [
    {
     "name": "stdout",
     "output_type": "stream",
     "text": [
      "()\n",
      "('singleton', 0)\n",
      "('Hello', ',', 'World', '!')\n",
      "('s', 'o', 'm', 'e', '_', 's', 't', 'r', 'i', 'n', 'g', '_', '2')\n"
     ]
    }
   ],
   "source": [
    "print(empty_tuple)\n",
    "print(singleton)\n",
    "print(separated_tuple)\n",
    "print(with_type_constructor_tuple)"
   ]
  },
  {
   "cell_type": "code",
   "execution_count": 48,
   "metadata": {},
   "outputs": [
    {
     "name": "stdout",
     "output_type": "stream",
     "text": [
      "Hello , World !\n",
      "! World Hello ,\n",
      "Hello\n"
     ]
    }
   ],
   "source": [
    "a,b,c,d = separated_tuple # tuple unpacking\n",
    "print(a,b,c,d)\n",
    "\n",
    "a,b,c,d = d,c,a,b # tuple unpacking is not equal the following statement: a=d,b=c,c=a,d=b \n",
    "print(a,b,c,d) # not ! World ! World\n",
    "\n",
    "hello,_,_,_ = separated_tuple # syntax allows \"skipping\" not necessary variables\n",
    "print(hello)"
   ]
  },
  {
   "cell_type": "markdown",
   "metadata": {},
   "source": [
    "### Accessing"
   ]
  },
  {
   "cell_type": "code",
   "execution_count": 49,
   "metadata": {},
   "outputs": [
    {
     "data": {
      "text/plain": [
       "'s'"
      ]
     },
     "execution_count": 49,
     "metadata": {},
     "output_type": "execute_result"
    }
   ],
   "source": [
    "with_type_constructor_tuple[0]"
   ]
  },
  {
   "cell_type": "markdown",
   "metadata": {},
   "source": [
    "### Changing/Adding/Removing \n",
    "Tuples are immutable sequences"
   ]
  },
  {
   "cell_type": "code",
   "execution_count": 50,
   "metadata": {},
   "outputs": [
    {
     "ename": "TypeError",
     "evalue": "'tuple' object does not support item assignment",
     "output_type": "error",
     "traceback": [
      "\u001b[0;31m---------------------------------------------------------------------------\u001b[0m",
      "\u001b[0;31mTypeError\u001b[0m                                 Traceback (most recent call last)",
      "\u001b[0;32m<ipython-input-50-5214f9c36d3a>\u001b[0m in \u001b[0;36m<module>\u001b[0;34m\u001b[0m\n\u001b[0;32m----> 1\u001b[0;31m \u001b[0mwith_type_constructor_tuple\u001b[0m\u001b[0;34m[\u001b[0m\u001b[0;36m0\u001b[0m\u001b[0;34m]\u001b[0m \u001b[0;34m=\u001b[0m \u001b[0;34m'QQQQQQ'\u001b[0m \u001b[0;31m# 'tuple' object does not support item assignment\u001b[0m\u001b[0;34m\u001b[0m\u001b[0;34m\u001b[0m\u001b[0m\n\u001b[0m",
      "\u001b[0;31mTypeError\u001b[0m: 'tuple' object does not support item assignment"
     ]
    }
   ],
   "source": [
    "with_type_constructor_tuple[0] = 'QQQQQQ' # 'tuple' object does not support item assignment"
   ]
  },
  {
   "cell_type": "code",
   "execution_count": 51,
   "metadata": {},
   "outputs": [
    {
     "ename": "TypeError",
     "evalue": "'tuple' object doesn't support item deletion",
     "output_type": "error",
     "traceback": [
      "\u001b[0;31m---------------------------------------------------------------------------\u001b[0m",
      "\u001b[0;31mTypeError\u001b[0m                                 Traceback (most recent call last)",
      "\u001b[0;32m<ipython-input-51-7a8a7fd53430>\u001b[0m in \u001b[0;36m<module>\u001b[0;34m\u001b[0m\n\u001b[0;32m----> 1\u001b[0;31m \u001b[0;32mdel\u001b[0m \u001b[0mwith_type_constructor_tuple\u001b[0m\u001b[0;34m[\u001b[0m\u001b[0;36m0\u001b[0m\u001b[0;34m]\u001b[0m \u001b[0;31m# 'tuple' object doesn't support item deletion\u001b[0m\u001b[0;34m\u001b[0m\u001b[0;34m\u001b[0m\u001b[0m\n\u001b[0m",
      "\u001b[0;31mTypeError\u001b[0m: 'tuple' object doesn't support item deletion"
     ]
    }
   ],
   "source": [
    "del with_type_constructor_tuple[0] # 'tuple' object doesn't support item deletion"
   ]
  },
  {
   "cell_type": "code",
   "execution_count": 52,
   "metadata": {},
   "outputs": [],
   "source": [
    "del with_type_constructor_tuple # but you can delete a whole object"
   ]
  },
  {
   "cell_type": "markdown",
   "metadata": {},
   "source": [
    "### Methods"
   ]
  },
  {
   "cell_type": "code",
   "execution_count": 53,
   "metadata": {},
   "outputs": [
    {
     "name": "stdout",
     "output_type": "stream",
     "text": [
      "('q', 'w', 'e', 'r', 't', 'y', 'u', 'i', 'o', 'p', 'a', 's', 'd', 'f', 'g', 'h', 'j', 'k', 'l', 'z', 'x', 'c', 'v', 'b', 'n', 'm')\n",
      "o\n",
      "TUPLE SIZE: 26\n"
     ]
    }
   ],
   "source": [
    "letter_tuple = tuple(\"qwertyuiopasdfghjklzxcvbnm\")\n",
    "print(letter_tuple)\n",
    "\n",
    "letter_index = letter_tuple.index('o')\n",
    "print(letter_tuple[letter_index])\n",
    "\n",
    "print(\"TUPLE SIZE:\",len(letter_tuple)) # list length"
   ]
  },
  {
   "cell_type": "markdown",
   "metadata": {},
   "source": [
    "## If-statements in sequences or if target item exists?"
   ]
  },
  {
   "cell_type": "code",
   "execution_count": 54,
   "metadata": {},
   "outputs": [
    {
     "name": "stdout",
     "output_type": "stream",
     "text": [
      "YES_list!\n",
      "YES_tuple!\n",
      "False\n"
     ]
    }
   ],
   "source": [
    "ex = ['1','2','a']\n",
    "if 'a' in ex:\n",
    "    print(\"YES_list!\")\n",
    "if 'q' in ('q','w',0):\n",
    "    print(\"YES_tuple!\")\n",
    "    \n",
    "print(1 in ['1','2','3'])"
   ]
  },
  {
   "cell_type": "markdown",
   "metadata": {},
   "source": [
    "## For Loops Through Tuples, Lists and etc. \n",
    "For Loops can be used for any iterable objects"
   ]
  },
  {
   "cell_type": "code",
   "execution_count": 55,
   "metadata": {},
   "outputs": [
    {
     "data": {
      "text/plain": [
       "['q',\n",
       " 'w',\n",
       " 'e',\n",
       " 'r',\n",
       " 't',\n",
       " 'y',\n",
       " 'u',\n",
       " 'i',\n",
       " 'o',\n",
       " 'p',\n",
       " 'a',\n",
       " 's',\n",
       " 'd',\n",
       " 'f',\n",
       " 'g',\n",
       " 'h',\n",
       " 'j',\n",
       " 'k',\n",
       " 'l',\n",
       " 'z',\n",
       " 'x',\n",
       " 'c',\n",
       " 'v',\n",
       " 'b',\n",
       " 'n',\n",
       " 'm']"
      ]
     },
     "execution_count": 55,
     "metadata": {},
     "output_type": "execute_result"
    }
   ],
   "source": [
    "list_of_letters = list(\"qwertyuiopasdfghjklzxcvbnm\")\n",
    "(list_of_letters)"
   ]
  },
  {
   "cell_type": "code",
   "execution_count": 56,
   "metadata": {},
   "outputs": [
    {
     "data": {
      "text/plain": [
       "[0, 1, 2, 3, 4, 5, 6, 7, 8, 9]"
      ]
     },
     "execution_count": 56,
     "metadata": {},
     "output_type": "execute_result"
    }
   ],
   "source": [
    "list(range(10))"
   ]
  },
  {
   "cell_type": "code",
   "execution_count": 57,
   "metadata": {},
   "outputs": [
    {
     "name": "stdout",
     "output_type": "stream",
     "text": [
      "q\tw\te\tr\tt\ty\tu\ti\to\tp\ta\ts\td\tf\tg\th\tj\tk\tl\tz\tx\tc\tv\tb\tn\tm\t1\t2\t3\t4\t5\t6\t7\t8\t9\t0\t"
     ]
    }
   ],
   "source": [
    "for i in list_of_letters:\n",
    "    print(i,end=\"\\t\")\n",
    "for number in tuple(\"1234567890\"):\n",
    "    print(number,end=\"\\t\")\n",
    "\n",
    "# print(number,letter)"
   ]
  },
  {
   "cell_type": "code",
   "execution_count": 58,
   "metadata": {},
   "outputs": [
    {
     "name": "stdout",
     "output_type": "stream",
     "text": [
      "*\t*\t*\t*\t*\t*\t*\t*\t*\t*\ta\t*\t*\t*\t*\t*\t*\t*\t*\t*\t*\tc\t*\tb\t*\t*\t"
     ]
    }
   ],
   "source": [
    "for letter in list_of_letters:\n",
    "    if letter in ['a','b','c']:\n",
    "        print(letter,end=\"\\t\")\n",
    "    else:\n",
    "        print('*',end=\"\\t\")"
   ]
  },
  {
   "cell_type": "code",
   "execution_count": null,
   "metadata": {},
   "outputs": [],
   "source": [
    "for letter in list_of_letters:\n",
    "    if letter in ['a','b','c']:\n",
    "        continue\n",
    "    print(letter,end=\"\\t\")"
   ]
  },
  {
   "cell_type": "code",
   "execution_count": null,
   "metadata": {},
   "outputs": [],
   "source": [
    "for number in tuple((1,2,34,5,6,7,8,9,0)):\n",
    "    if number%3==0:\n",
    "        break\n",
    "    print(number,end=\"\\t\")"
   ]
  },
  {
   "cell_type": "code",
   "execution_count": null,
   "metadata": {},
   "outputs": [],
   "source": [
    "for letter in 'qwertyuiop':\n",
    "    continue\n",
    "else:\n",
    "    print(\"Else keyword allows executing code inside when For Loop is finised\")"
   ]
  },
  {
   "cell_type": "code",
   "execution_count": null,
   "metadata": {},
   "outputs": [],
   "source": [
    "for letter in list_of_letters:\n",
    "    if letter!='134':\n",
    "        print(letter)\n",
    "    for i in '1234567890':\n",
    "        print(i,end=\"\\t\")"
   ]
  },
  {
   "cell_type": "markdown",
   "metadata": {},
   "source": [
    "### Enumerate Function\n",
    "Enumerate allows to loop over iterable object and have an automatic counter."
   ]
  },
  {
   "cell_type": "code",
   "execution_count": 63,
   "metadata": {},
   "outputs": [
    {
     "name": "stdout",
     "output_type": "stream",
     "text": [
      "0 1\n",
      "1 1\n",
      "2 1\n",
      "3 1\n",
      "4 1\n",
      "5 1\n"
     ]
    },
    {
     "data": {
      "text/plain": [
       "[1, 1, 1, 1, 1, 1, 'u', 'i', 'o', 'p']"
      ]
     },
     "execution_count": 63,
     "metadata": {},
     "output_type": "execute_result"
    }
   ],
   "source": [
    "for j,letter in enumerate(list_of_letters[:6]): \n",
    "    list_of_letters[j] = 1\n",
    "    print(j,letter)\n",
    "list_of_letters[:10]"
   ]
  },
  {
   "cell_type": "markdown",
   "metadata": {},
   "source": [
    "### Nested Loops "
   ]
  },
  {
   "cell_type": "code",
   "execution_count": 59,
   "metadata": {},
   "outputs": [
    {
     "name": "stdout",
     "output_type": "stream",
     "text": [
      "q-itter_0\t1\t2\t3\t4\t5\t6\t7\t8\t9\t0\t\n",
      "w-itter_1\t1\t2\t3\t4\t5\t6\t7\t8\t9\t0\t\n",
      "e-itter_2\t1\t2\t3\t4\t5\t6\t7\t8\t9\t0\t\n",
      "r-itter_3\t1\t2\t3\t4\t5\t6\t7\t8\t9\t0\t\n",
      "t-itter_4\t1\t2\t3\t4\t5\t6\t7\t8\t9\t0\t\n",
      "y-itter_5\t1\t2\t3\t4\t5\t6\t7\t8\t9\t0\t\n",
      "u-itter_6\t1\t2\t3\t4\t5\t6\t7\t8\t9\t0\t\n",
      "!!!!!!!!!!!!!!!!!!!!!!!!!!!!!!!!!!!!!!!!!!!!!!!!!!!!!!!!!!!!!!!!!!!!!!!!!!!!!!!!!!!!!!!!!!\n",
      "o-itter_8\t1\t2\t3\t4\t5\t6\t7\t8\t9\t0\t\n",
      "p-itter_9\t1\t2\t3\t4\t5\t6\t7\t8\t9\t0\t\n",
      "a-itter_10\t1\t2\t3\t4\t5\t6\t7\t8\t9\t0\t\n",
      "s-itter_11\t1\t2\t3\t4\t5\t6\t7\t8\t9\t0\t\n",
      "d-itter_12\t1\t2\t3\t4\t5\t6\t7\t8\t9\t0\t\n",
      "f-itter_13\t1\t2\t3\t4\t5\t6\t7\t8\t9\t0\t\n",
      "g-itter_14\t1\t2\t3\t4\t5\t6\t7\t8\t9\t0\t\n",
      "h-itter_15\t1\t2\t3\t4\t5\t6\t7\t8\t9\t0\t\n",
      "j-itter_16\t1\t2\t3\t4\t5\t6\t7\t8\t9\t0\t\n",
      "!!!!!!!!!!!!!!!!!!!!!!!!!!!!!!!!!!!!!!!!!!!!!!!!!!!!!!!!!!!!!!!!!!!!!!!!!!!!!!!!!!!!!!!!!!\n",
      "!!!!!!!!!!!!!!!!!!!!!!!!!!!!!!!!!!!!!!!!!!!!!!!!!!!!!!!!!!!!!!!!!!!!!!!!!!!!!!!!!!!!!!!!!!\n",
      "z-itter_19\t1\t2\t3\t4\t5\t6\t7\t8\t9\t0\t\n",
      "x-itter_20\t1\t2\t3\t4\t5\t6\t7\t8\t9\t0\t\n",
      "c-itter_21\t1\t2\t3\t4\t5\t6\t7\t8\t9\t0\t\n",
      "v-itter_22\t1\t2\t3\t4\t5\t6\t7\t8\t9\t0\t\n",
      "b-itter_23\t1\t2\t3\t4\t5\t6\t7\t8\t9\t0\t\n",
      "n-itter_24\t1\t2\t3\t4\t5\t6\t7\t8\t9\t0\t\n",
      "!!!!!!!!!!!!!!!!!!!!!!!!!!!!!!!!!!!!!!!!!!!!!!!!!!!!!!!!!!!!!!!!!!!!!!!!!!!!!!!!!!!!!!!!!!\n"
     ]
    }
   ],
   "source": [
    "for j,letter in enumerate(list_of_letters): \n",
    "    if letter in tuple('milk'):\n",
    "        print(\"!\"*90)\n",
    "        continue\n",
    "#     elif letter =='b':\n",
    "#         break\n",
    "    print(letter,j,sep='-itter_',end=\"\\t\")\n",
    "    \n",
    "    for i in '1234567890':\n",
    "        print(i,end=\"\\t\")\n",
    "    \n",
    "    print()"
   ]
  },
  {
   "cell_type": "markdown",
   "metadata": {},
   "source": [
    "## Range\n",
    "One more mutable sequence type. The <b>range()</b> function allows to generate iterable integer objects and always used for loops with specified executing number of times.\n",
    "\n",
    "range(stop) -> range object\n",
    "<br>\n",
    "range(start, stop[, step]) -> range object"
   ]
  },
  {
   "cell_type": "code",
   "execution_count": 64,
   "metadata": {},
   "outputs": [
    {
     "name": "stdout",
     "output_type": "stream",
     "text": [
      "(0, 1, 2, 3, 4, 5, 6, 7, 8, 9)\n",
      "[5, 6, 7, 8, 9, 10, 11, 12, 13, 14, 15, 16, 17, 18, 19, 20, 21, 22, 23, 24, 25, 26, 27, 28, 29]\n"
     ]
    }
   ],
   "source": [
    "print(tuple(range(10)))\n",
    "print(list(range(5,30)))"
   ]
  },
  {
   "cell_type": "code",
   "execution_count": null,
   "metadata": {},
   "outputs": [],
   "source": [
    "range(10)"
   ]
  },
  {
   "cell_type": "code",
   "execution_count": 65,
   "metadata": {},
   "outputs": [
    {
     "name": "stdout",
     "output_type": "stream",
     "text": [
      "17\t16\t15\t14\t13\t12\t11\t10\t9\t\n",
      "<class 'int'>\n"
     ]
    }
   ],
   "source": [
    "for i in range(17,8,-1):\n",
    "    print(i,end='\\t')\n",
    "    if i%9==0:\n",
    "        print('\\n',type(i),sep='')"
   ]
  },
  {
   "cell_type": "code",
   "execution_count": null,
   "metadata": {},
   "outputs": [],
   "source": [
    "for i in range(10):\n",
    "    for j in range(0,5):\n",
    "        print(i,'*',j,'=',i*j,end='\\t')\n",
    "    print()\n",
    "    \n",
    "print()\n",
    "\n",
    "for i in range(10):\n",
    "    for j in range(5,10):\n",
    "        print(i,'*',j,'=',i*j,end='\\t')\n",
    "    print()"
   ]
  },
  {
   "cell_type": "code",
   "execution_count": null,
   "metadata": {},
   "outputs": [],
   "source": [
    "for i in range(len(list_of_letters)):\n",
    "    print(i,list_of_letters[i],end='\\t',sep='<-')"
   ]
  },
  {
   "cell_type": "code",
   "execution_count": null,
   "metadata": {},
   "outputs": [],
   "source": [
    "a = [1,2,3,4,5]\n",
    "a"
   ]
  },
  {
   "cell_type": "code",
   "execution_count": null,
   "metadata": {},
   "outputs": [],
   "source": [
    "b = a.copy()"
   ]
  },
  {
   "cell_type": "code",
   "execution_count": null,
   "metadata": {},
   "outputs": [],
   "source": [
    "b[1] = 102"
   ]
  },
  {
   "cell_type": "code",
   "execution_count": null,
   "metadata": {},
   "outputs": [],
   "source": [
    "b,a"
   ]
  },
  {
   "cell_type": "code",
   "execution_count": null,
   "metadata": {},
   "outputs": [],
   "source": [
    "list_of_letters_2 = list_of_letters.copy() # otherwise list_of_letters will be changed too\n",
    " \n",
    "for i in range(len(list_of_letters_2)):\n",
    "    list_of_letters_2[i] = '*'\n",
    "    \n",
    "print(list_of_letters_2,list_of_letters,sep='\\n')"
   ]
  },
  {
   "cell_type": "markdown",
   "metadata": {},
   "source": [
    "## Task 0\n",
    "\n",
    "Use For Loops.\n",
    "\n",
    "Display a chessboard (8x8), where black and white colors are \"b\" and \"w\" respectively and cells are separated by \"|\"-sign vertically and \"_\" and \".\" signs with space horizontally including borders, i.e."
   ]
  },
  {
   "cell_type": "code",
   "execution_count": null,
   "metadata": {},
   "outputs": [],
   "source": [
    "\"\"\"\n",
    "._._.\n",
    "|w|b|\n",
    "._._.\n",
    "|b|w|\n",
    "._._.\n",
    "\"\"\""
   ]
  },
  {
   "cell_type": "markdown",
   "metadata": {},
   "source": [
    "## Task 1\n",
    "Display a isosceles triangle with size n=20 signs in [\"/\",\"\\\",\"_\"]"
   ]
  },
  {
   "cell_type": "code",
   "execution_count": null,
   "metadata": {},
   "outputs": [],
   "source": [
    "\"\"\" \n",
    "   /\\\n",
    "  /  \\\n",
    " /    \\\n",
    "/______\\\n",
    "\"\"\"\n",
    "# n = 4"
   ]
  },
  {
   "cell_type": "markdown",
   "metadata": {},
   "source": [
    "### Map\n",
    "map(func, *iterables) --> map object\n",
    "\n",
    "Make an iterator that computes the function using arguments from\n",
    "each of the iterables."
   ]
  },
  {
   "cell_type": "code",
   "execution_count": null,
   "metadata": {},
   "outputs": [],
   "source": [
    "len('qwerqtyu')"
   ]
  },
  {
   "cell_type": "code",
   "execution_count": 68,
   "metadata": {},
   "outputs": [
    {
     "name": "stdout",
     "output_type": "stream",
     "text": [
      "[('h', 'e', 'l', 'l', 'o'), ('m', 'y'), ('w', 'o', 'r', 'l', 'd')]\n"
     ]
    }
   ],
   "source": [
    "print(list(map(,['hello','my','world'])))"
   ]
  },
  {
   "cell_type": "markdown",
   "metadata": {},
   "source": [
    "### Split & Join"
   ]
  },
  {
   "cell_type": "code",
   "execution_count": 69,
   "metadata": {},
   "outputs": [],
   "source": [
    "string = '1 2 3 4 5 6 7 8 9 0'"
   ]
  },
  {
   "cell_type": "code",
   "execution_count": 70,
   "metadata": {},
   "outputs": [
    {
     "data": {
      "text/plain": [
       "['1', '2', '3', '4', '5', '6', '7', '8', '9', '0']"
      ]
     },
     "execution_count": 70,
     "metadata": {},
     "output_type": "execute_result"
    }
   ],
   "source": [
    "splitted_list =  string.split()\n",
    "splitted_list"
   ]
  },
  {
   "cell_type": "code",
   "execution_count": 71,
   "metadata": {},
   "outputs": [
    {
     "data": {
      "text/plain": [
       "'1->2->3->4->5->6->7->8->9->0'"
      ]
     },
     "execution_count": 71,
     "metadata": {},
     "output_type": "execute_result"
    }
   ],
   "source": [
    "joined_string = '->'.join(splitted_list)\n",
    "joined_string"
   ]
  },
  {
   "cell_type": "code",
   "execution_count": 73,
   "metadata": {},
   "outputs": [
    {
     "name": "stdout",
     "output_type": "stream",
     "text": [
      "1 2 3 4 5\n",
      "5 6 7 8 9\n",
      "['1', '2', '3', '4', '5']\n",
      "[5, 6, 7, 8, 9]\n"
     ]
    }
   ],
   "source": [
    "list_of_str = input().split() # '1' '2' '3' '4' '5'\n",
    "list_of_int = list(map(int,input().split())) # 1 2 3 4 5 \n",
    "print(list_of_str)\n",
    "print((list_of_int))"
   ]
  },
  {
   "cell_type": "code",
   "execution_count": 75,
   "metadata": {},
   "outputs": [
    {
     "name": "stdout",
     "output_type": "stream",
     "text": [
      "1 2 3 4 5\n"
     ]
    }
   ],
   "source": [
    "print(*list_of_str)"
   ]
  },
  {
   "cell_type": "code",
   "execution_count": 79,
   "metadata": {},
   "outputs": [
    {
     "data": {
      "text/plain": [
       "'5||6||7||8||9'"
      ]
     },
     "execution_count": 79,
     "metadata": {},
     "output_type": "execute_result"
    }
   ],
   "source": [
    "'||'.join(map(str,list_of_int)) "
   ]
  },
  {
   "cell_type": "code",
   "execution_count": 80,
   "metadata": {},
   "outputs": [
    {
     "data": {
      "text/plain": [
       "[1, 2, 3, 4, 5, 6, 7, 8, 9, 0]"
      ]
     },
     "execution_count": 80,
     "metadata": {},
     "output_type": "execute_result"
    }
   ],
   "source": [
    "numbers = list(map(int,'1234567890')) \n",
    "numbers"
   ]
  },
  {
   "cell_type": "code",
   "execution_count": null,
   "metadata": {},
   "outputs": [],
   "source": [
    "numbers = list(map(int,'1234567890')) \n",
    "for i in range(len(numbers)):\n",
    "    print('i =',i,'\\tlen =',len(numbers),'\\tnumbers =',numbers)\n",
    "    print(\"Get:\",numbers[i])\n",
    "    if numbers[i] % 3 == 0: \n",
    "        numbers.pop(i) # list index out of range\n",
    "    print()\n",
    "print(' '.join(map(str, numbers)))"
   ]
  },
  {
   "cell_type": "markdown",
   "metadata": {},
   "source": [
    "## Task 2\n",
    "Suggest a solution to the problem above of removing items from the list."
   ]
  },
  {
   "cell_type": "markdown",
   "metadata": {},
   "source": [
    "## Bonus"
   ]
  },
  {
   "cell_type": "markdown",
   "metadata": {},
   "source": [
    "<img src=\"data_structures_01.jpg\">\n",
    "* http://www.thewillchan.com/wp-content/uploads/2018/01/data_structures_01.jpg"
   ]
  },
  {
   "cell_type": "markdown",
   "metadata": {},
   "source": [
    "## List Comprehensions (introduction)"
   ]
  },
  {
   "cell_type": "code",
   "execution_count": 85,
   "metadata": {},
   "outputs": [
    {
     "name": "stdout",
     "output_type": "stream",
     "text": [
      "[0, 10, 20, 30, 40, 50, 60, 70, 80, 90, 100]\n",
      "\n",
      "[0, 3, 6, 9, 12, 15, 18]\n",
      "\n",
      "[0, '@', 2, '@', 4, '@', 6, '@', 8, '@', 10, '@', 12, '@', 14, '@', 16, '@', 18, '@']\n",
      "\n",
      "[(0, 0, 0), (1, 1, 1), (2, 4, 8), (3, 9, 27), (4, 16, 64), (5, 25, 125), (6, 36, 216), (7, 49, 343), (8, 64, 512), (9, 81, 729)]\n",
      "\n",
      "[[], [0], [0, 1], [0, 1, 2], [0, 1, 2, 3], [0, 1, 2, 3, 4], [0, 1, 2, 3, 4, 5], [0, 1, 2, 3, 4, 5, 6], [0, 1, 2, 3, 4, 5, 6, 7], [0, 1, 2, 3, 4, 5, 6, 7, 8]]\n"
     ]
    }
   ],
   "source": [
    "print([i for i in range(0,101,10)])\n",
    "print()\n",
    "print([i for i in range(20) if i%3==0]) # if i%3 equals if i%3==1\n",
    "print()\n",
    "print([i if i%2==0 else \"@\" for i in range(20)])\n",
    "print()\n",
    "print([(i,i**2,i**3) for i in range(10)])\n",
    "print()\n",
    "print([[j for j in range(i)] for i in range(10)]) # nested"
   ]
  },
  {
   "cell_type": "code",
   "execution_count": 86,
   "metadata": {},
   "outputs": [
    {
     "data": {
      "text/plain": [
       "[0,\n",
       " 0,\n",
       " 1,\n",
       " 0,\n",
       " 1,\n",
       " 2,\n",
       " 0,\n",
       " 1,\n",
       " 2,\n",
       " 3,\n",
       " 0,\n",
       " 1,\n",
       " 2,\n",
       " 3,\n",
       " 4,\n",
       " 0,\n",
       " 1,\n",
       " 2,\n",
       " 3,\n",
       " 4,\n",
       " 5,\n",
       " 0,\n",
       " 1,\n",
       " 2,\n",
       " 3,\n",
       " 4,\n",
       " 5,\n",
       " 6,\n",
       " 0,\n",
       " 1,\n",
       " 2,\n",
       " 3,\n",
       " 4,\n",
       " 5,\n",
       " 6,\n",
       " 7,\n",
       " 0,\n",
       " 1,\n",
       " 2,\n",
       " 3,\n",
       " 4,\n",
       " 5,\n",
       " 6,\n",
       " 7,\n",
       " 8]"
      ]
     },
     "execution_count": 86,
     "metadata": {},
     "output_type": "execute_result"
    }
   ],
   "source": [
    "sum([[j for j in range(i)] for i in range(10)],[])"
   ]
  },
  {
   "cell_type": "code",
   "execution_count": 93,
   "metadata": {},
   "outputs": [
    {
     "data": {
      "text/plain": [
       "[20, 19, 18, 17, 16, 15, 14, 13, 12, 11, 10, 9, 8, 7, 6, 5, 4, 3, 2, 1]"
      ]
     },
     "execution_count": 93,
     "metadata": {},
     "output_type": "execute_result"
    }
   ],
   "source": [
    "list(range(20,0,-1))"
   ]
  },
  {
   "cell_type": "code",
   "execution_count": null,
   "metadata": {},
   "outputs": [],
   "source": [
    "a = [1, 1, 2, 3, 5, 8, 13, 21, 34, 55, 89]\n",
    "for i in a:\n",
    "    if i < 5:\n",
    "        print(i)"
   ]
  },
  {
   "cell_type": "code",
   "execution_count": 95,
   "metadata": {},
   "outputs": [
    {
     "name": "stdout",
     "output_type": "stream",
     "text": [
      "[1, 1, 2, 3, 5, 8, 13]\n"
     ]
    }
   ],
   "source": [
    "a = [1, 1, 2, 3, 5, 8, 13, 21, 34, 55, 89]\n",
    "b = [1, 2, 3, 4, 5, 6, 7, 8, 9, 10, 11, 12, 13]\n",
    "c = []\n",
    "\n",
    "for i in a:\n",
    "    if i in b:\n",
    "        c.append(i)\n",
    "print(c)"
   ]
  },
  {
   "cell_type": "code",
   "execution_count": 106,
   "metadata": {},
   "outputs": [
    {
     "name": "stdout",
     "output_type": "stream",
     "text": [
      "4\n",
      "4\n"
     ]
    }
   ],
   "source": [
    "lst = [1,2,3,5,20,56]\n",
    "for i in range(len(lst)):\n",
    "    if lst[i] == 20:\n",
    "        print(i)\n",
    "for element in enumerate(lst):\n",
    "    if element[1] == 20:\n",
    "        print(element[0])"
   ]
  },
  {
   "cell_type": "code",
   "execution_count": 153,
   "metadata": {},
   "outputs": [
    {
     "name": "stdout",
     "output_type": "stream",
     "text": [
      "['frjejekf', 'rfjke']\n"
     ]
    }
   ],
   "source": [
    "lst = ['', 'frjejekf', 'rfjke', '']\n",
    "print([i for i in lst if i])"
   ]
  },
  {
   "cell_type": "code",
   "execution_count": 155,
   "metadata": {},
   "outputs": [
    {
     "data": {
      "text/plain": [
       "''"
      ]
     },
     "execution_count": 155,
     "metadata": {},
     "output_type": "execute_result"
    }
   ],
   "source": [
    "lst[len(lst)-1]"
   ]
  },
  {
   "cell_type": "code",
   "execution_count": 156,
   "metadata": {},
   "outputs": [
    {
     "name": "stdout",
     "output_type": "stream",
     "text": [
      "63\n",
      "63\n",
      "63\n",
      "63\n",
      "63\n",
      "63\n",
      "63\n",
      "63\n",
      "63\n",
      "63\n",
      "63\n",
      "63\n",
      "63\n",
      "63\n",
      "63\n",
      "63\n",
      "63\n",
      "63\n",
      "63\n",
      "63\n",
      "63\n",
      "63\n",
      "63\n",
      "63\n",
      "63\n",
      "63\n",
      "63\n",
      "63\n",
      "63\n",
      "63\n",
      "63\n",
      "63\n",
      "63\n",
      "63\n",
      "63\n",
      "63\n",
      "63\n",
      "63\n",
      "63\n",
      "63\n",
      "63\n",
      "63\n",
      "63\n",
      "63\n",
      "63\n",
      "63\n",
      "63\n",
      "63\n",
      "63\n",
      "63\n",
      "63\n",
      "63\n",
      "63\n",
      "63\n",
      "63\n",
      "63\n",
      "63\n",
      "63\n",
      "63\n",
      "63\n",
      "63\n",
      "63\n",
      "63\n",
      "[0, 1, 2, 3, 4, 5, 6, 7, 8, 9, 10, 11, 12, 13, 14, 15, 16, 17, 18, 19, 20, 0, 1, 2, 3, 4, 5, 6, 7, 8, 9, 10, 11, 12, 13, 14, 15, 16, 17, 18, 19, 20, 0, 1, 2, 3, 4, 5, 6, 7, 8, 9, 10, 11, 12, 13, 14, 15, 16, 17, 18, 19, 20]\n"
     ]
    }
   ],
   "source": [
    "lst = list(range(21))*3\n",
    "# print([i for i in lst if i != 20])\n",
    "print(len(lst))\n",
    "u = range(len(lst))\n",
    "for i in u:\n",
    "#     print(list(u))\n",
    "    if lst[i] == 40 :        \n",
    "        del lst[i]\n",
    "    if len(lst) == i+1:\n",
    "        break\n",
    "    print(len(lst))\n",
    "print(lst)"
   ]
  },
  {
   "cell_type": "code",
   "execution_count": 147,
   "metadata": {},
   "outputs": [
    {
     "data": {
      "text/plain": [
       "['-10sdfghjkl',\n",
       " '-9sdfghjkl',\n",
       " '-8sdfghjkl',\n",
       " '-7sdfghjkl',\n",
       " '-6sdfghjkl',\n",
       " '-5sdfghjkl',\n",
       " '-4sdfghjkl',\n",
       " '-3sdfghjkl',\n",
       " '-2sdfghjkl',\n",
       " '-1sdfghjkl',\n",
       " '0sdfghjkl',\n",
       " '1sdfghjkl',\n",
       " '2sdfghjkl',\n",
       " '3sdfghjkl',\n",
       " '4sdfghjkl',\n",
       " '5sdfghjkl',\n",
       " '6sdfghjkl',\n",
       " '7sdfghjkl',\n",
       " '8sdfghjkl',\n",
       " '9sdfghjkl',\n",
       " '10sdfghjkl']"
      ]
     },
     "execution_count": 147,
     "metadata": {},
     "output_type": "execute_result"
    }
   ],
   "source": [
    "lst = list(range(-10,11))\n",
    "# def squ(x):\n",
    "#    return \n",
    "list(map(lambda x: str(x)+'sdfghjkl',lst))"
   ]
  },
  {
   "cell_type": "code",
   "execution_count": 143,
   "metadata": {},
   "outputs": [
    {
     "data": {
      "text/plain": [
       "729"
      ]
     },
     "execution_count": 143,
     "metadata": {},
     "output_type": "execute_result"
    }
   ],
   "source": [
    "squ(-27)"
   ]
  },
  {
   "cell_type": "code",
   "execution_count": 148,
   "metadata": {},
   "outputs": [
    {
     "data": {
      "text/plain": [
       "[[],\n",
       " [0],\n",
       " [0, 1],\n",
       " [0, 1, 2],\n",
       " [0, 1, 2, 3],\n",
       " [0, 1, 2, 3, 4],\n",
       " [0, 1, 2, 3, 4, 5],\n",
       " [0, 1, 2, 3, 4, 5, 6],\n",
       " [0, 1, 2, 3, 4, 5, 6, 7],\n",
       " [0, 1, 2, 3, 4, 5, 6, 7, 8]]"
      ]
     },
     "execution_count": 148,
     "metadata": {},
     "output_type": "execute_result"
    }
   ],
   "source": [
    "s = [[j for j in range(i)] for i in range(10)]\n",
    "s"
   ]
  },
  {
   "cell_type": "code",
   "execution_count": null,
   "metadata": {},
   "outputs": [],
   "source": []
  }
 ],
 "metadata": {
  "kernelspec": {
   "display_name": "Python 3",
   "language": "python",
   "name": "python3"
  },
  "language_info": {
   "codemirror_mode": {
    "name": "ipython",
    "version": 3
   },
   "file_extension": ".py",
   "mimetype": "text/x-python",
   "name": "python",
   "nbconvert_exporter": "python",
   "pygments_lexer": "ipython3",
   "version": "3.7.7"
  }
 },
 "nbformat": 4,
 "nbformat_minor": 2
}
