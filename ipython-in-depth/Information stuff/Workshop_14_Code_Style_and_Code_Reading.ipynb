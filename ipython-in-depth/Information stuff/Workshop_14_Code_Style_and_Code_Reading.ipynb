{
 "cells": [
  {
   "cell_type": "markdown",
   "metadata": {
    "id": "Qh18092XsO79"
   },
   "source": [
    "# Workshop 14. Code Style and Code Reading. \n"
   ]
  },
  {
   "cell_type": "markdown",
   "metadata": {
    "id": "dyaipPDzMYGR"
   },
   "source": [
    "# Code style. Zen."
   ]
  },
  {
   "cell_type": "markdown",
   "metadata": {
    "id": "IafkJ9D6sO7_"
   },
   "source": [
    "High readability is one of the great things about Python. For example, it forces the programmer to keep correct indentation, making the code automatically readable and not including unnecessary \"end\" statements.\n",
    "\n",
    "However, high readability comes not only from the syntax of the language itself, but also from its community and guidelines.\n",
    "\n",
    "PEP8 guideline with better readability than the python.org one: https://pep8.org/"
   ]
  },
  {
   "cell_type": "markdown",
   "metadata": {
    "id": "7_J2t85xsO8A"
   },
   "source": [
    "## Explicit vs Implicit\n",
    "\n",
    "Which one of the two snippets of code is explicit, which one is implicit?\n",
    "\n",
    "What is better about the explicit one? What is better about the implicit one? What should your reasoning be when you choose whether to use implicit code or explicit code?\n",
    "\n",
    "\n",
    "Example #1"
   ]
  },
  {
   "cell_type": "code",
   "execution_count": null,
   "metadata": {
    "id": "lvfS5Tu1sO8B"
   },
   "outputs": [],
   "source": [
    "def make_complex(*args):\n",
    "    x, y = args\n",
    "    return dict(**locals())"
   ]
  },
  {
   "cell_type": "code",
   "execution_count": null,
   "metadata": {
    "id": "IS00Qr6KsO8E"
   },
   "outputs": [],
   "source": [
    "def make_complex(x, y):\n",
    "    return {'x': x, 'y': y}"
   ]
  },
  {
   "cell_type": "markdown",
   "metadata": {
    "id": "7lD_Y53WsO8H"
   },
   "source": [
    "Example #2"
   ]
  },
  {
   "cell_type": "code",
   "execution_count": null,
   "metadata": {
    "id": "0qimyeIZsO8I"
   },
   "outputs": [],
   "source": [
    "import requests\n",
    "r = requests.get(\"https://miguelgfierro.com\")"
   ]
  },
  {
   "cell_type": "code",
   "execution_count": null,
   "metadata": {
    "id": "WE45xiQtsO8L"
   },
   "outputs": [],
   "source": [
    "from requests import *\n",
    "r = get(\"https://miguelgfierro.com\")"
   ]
  },
  {
   "cell_type": "markdown",
   "metadata": {
    "id": "EZI3SNolsO8N"
   },
   "source": [
    "Example #3"
   ]
  },
  {
   "cell_type": "code",
   "execution_count": null,
   "metadata": {
    "id": "pEQu7cx2sO8O"
   },
   "outputs": [],
   "source": [
    "def read(filename):\n",
    "    if filename[-4:] == '.csv':\n",
    "        # code for reading a csv\n",
    "        pass\n",
    "    elif filename[-5:] == '.json':\n",
    "        # code for reading a json\n",
    "        pass    "
   ]
  },
  {
   "cell_type": "code",
   "execution_count": null,
   "metadata": {
    "id": "Hx7GLNILsO8Q"
   },
   "outputs": [],
   "source": [
    "def read_csv(filename):\n",
    "    pass\n",
    "    # code for reading a csv\n",
    "\n",
    "def read_json(filename):\n",
    "    pass\n",
    "    # code for reading a json"
   ]
  },
  {
   "cell_type": "markdown",
   "metadata": {
    "id": "_oB2lSJHsO8T"
   },
   "source": [
    "Explicit examples make it clear right away what is happening even if in some cases this leads to redundant information.\n",
    "\n",
    "Implicit examples assume additional knowledge. This assumption may be correct. It may be incorrect.\n",
    "\n",
    "It is often easier to write implicit code. *When you write code, you have the additional knowledge. When you read code, this may not be the case*. This leads to cases when while writing code you compare Implicit and Explicit examples from the perspective of someone with additional knowledge. From this perspective explicit code is redundant.\n",
    "\n",
    "You reasoning shouldn't be \"what is easier to write\". It should be \"what is easier to read assuming minimal pre-existing knowledge about how the program works\". In this case explicit code is much more often the better option."
   ]
  },
  {
   "cell_type": "markdown",
   "metadata": {
    "id": "E9iY2sXNsO8T"
   },
   "source": [
    "## Simple vs Complex. One statement per line\n",
    "\n",
    "\"Sparse is better than dense\"\n",
    "\n",
    "It may be fun to put everything into a single dense statement. However, it hurts readability.\n",
    "\n",
    "Splitting code into small simple parts lets the reader easily understand what each part does separately."
   ]
  },
  {
   "cell_type": "code",
   "execution_count": null,
   "metadata": {
    "id": "dfmsltCzsO8U"
   },
   "outputs": [],
   "source": [
    "print('one'); print('two')\n",
    "\n",
    "if x == 1: print('one')\n",
    "\n",
    "if <complex comparison> and <other complex comparison>:\n",
    "    # do something"
   ]
  },
  {
   "cell_type": "code",
   "execution_count": null,
   "metadata": {
    "id": "K5adHSwwsO8X"
   },
   "outputs": [],
   "source": [
    "print('one')\n",
    "print('two')\n",
    "\n",
    "if x == 1:\n",
    "    print('one')\n",
    "\n",
    "cond1 = <complex comparison>\n",
    "cond2 = <other complex comparison>\n",
    "if cond1 and cond2:\n",
    "    # do something"
   ]
  },
  {
   "cell_type": "code",
   "execution_count": null,
   "metadata": {
    "colab": {
     "base_uri": "https://localhost:8080/"
    },
    "id": "FGrAVCYfsO8Z",
    "inputHidden": false,
    "outputHidden": false,
    "outputId": "06cee149-093a-4c37-9f98-3a1cfbcf71a3"
   },
   "outputs": [
    {
     "name": "stdout",
     "output_type": "stream",
     "text": [
      "1 bytes = 8 bits which has 255 possible values.\n",
      "2 bytes = 16 bits which has 65535 possible values.\n",
      "4 bytes = 32 bits which has 4294967295 possible values.\n",
      "8 bytes = 64 bits which has 18446744073709551615 possible values.\n",
      "16 bytes = 128 bits which has 340282366920938463463374607431768211455 possible values.\n",
      "32 bytes = 256 bits which has 115792089237316195423570985008687907853269984665640564039457584007913129639935 possible values.\n",
      "64 bytes = 512 bits which has 13407807929942597099574024998205846127479365820592393377723561443721764030073546976801874298166903427690031858186486050853753882811946569946433649006084095 possible values.\n",
      "128 bytes = 1024 bits which has 179769313486231590772930519078902473361797697894230657273430081157732675805500963132708477322407536021120113879871393357658789768814416622492847430639474124377767893424865485276302219601246094119453082952085005768838150682342462881473913110540827237163350510684586298239947245938479716304835356329624224137215 possible values.\n"
     ]
    }
   ],
   "source": [
    "# A single statement that is very hard to understand.\n",
    "print('\\n'.join(\"%i bytes = %i bits which has %i possible values.\" % (j, j*8, 256**j-1) for j in (1 << i for i in range(8))))"
   ]
  },
  {
   "cell_type": "markdown",
   "metadata": {
    "id": "FfzjOwA-sO8b"
   },
   "source": [
    "Example from Homework 1. Problem #18"
   ]
  },
  {
   "cell_type": "code",
   "execution_count": null,
   "metadata": {
    "id": "MYC3AMJ7sO8c",
    "outputId": "a66dbc55-133a-4856-8ca8-278d792db283"
   },
   "outputs": [
    {
     "name": "stdout",
     "output_type": "stream",
     "text": [
      "5\n",
      "8\n",
      "8\n"
     ]
    }
   ],
   "source": [
    "A = int(input())\n",
    "B = int(input())\n",
    "print(((((A // B) * A) + ((B // A) * B)) // ((A // B) + (B // A))))\n"
   ]
  },
  {
   "cell_type": "code",
   "execution_count": null,
   "metadata": {
    "id": "73GIxQfBsO8g",
    "outputId": "cb1d165a-6d64-42af-d9e0-74cb946824f3"
   },
   "outputs": [
    {
     "name": "stdout",
     "output_type": "stream",
     "text": [
      "8\n",
      "4\n",
      "8\n"
     ]
    }
   ],
   "source": [
    "a = int(input())\n",
    "b = int(input())\n",
    "\n",
    "remainder_a = a // b\n",
    "remainder_b = b // a\n",
    "\n",
    "max_number = (remainder_a * a + remainder_b * b) // (remainder_a + remainder_b)\n",
    "\n",
    "print(max_number)"
   ]
  },
  {
   "cell_type": "markdown",
   "metadata": {
    "id": "pFqVZl8JsO8i"
   },
   "source": [
    "## Indentation and whitespace\n",
    "\n",
    "Use four spaces per indentation level.\n",
    "\n",
    "You can start a next line inside parentheses, brackets and braces. In this case you are technically free to use any indentation you want. So you should make readability your priority when choosing the indentation.\n",
    "\n",
    "* Using vertical alignment makes it easy to see all the arguments of a function at once.\n",
    "* Using additional indentation makes it easy to see where the arguments end and the next line of code starts."
   ]
  },
  {
   "cell_type": "code",
   "execution_count": null,
   "metadata": {
    "id": "Gk7aMjCwsO8j",
    "inputHidden": false,
    "outputHidden": false
   },
   "outputs": [],
   "source": [
    "# Aligned with opening delimiter.\n",
    "foo = long_function_name(var_one, var_two,\n",
    "                         var_three, var_four)\n",
    "\n",
    "# More indentation included to distinguish this from the rest.\n",
    "def long_function_name(\n",
    "        var_one, var_two, var_three,\n",
    "        var_four):\n",
    "    print(var_one)\n",
    "\n",
    "# Hanging indents should add a level.\n",
    "foo = long_function_name(\n",
    "    var_one, var_two,\n",
    "    var_three, var_four)"
   ]
  },
  {
   "cell_type": "code",
   "execution_count": null,
   "metadata": {
    "id": "0U_VUeJKsO8l",
    "inputHidden": false,
    "outputHidden": false
   },
   "outputs": [],
   "source": [
    "# Arguments on first line forbidden when not using vertical alignment.\n",
    "foo = long_function_name(var_one, var_two,\n",
    "    var_three, var_four)\n",
    "\n",
    "# Further indentation required as indentation is not distinguishable.\n",
    "def long_function_name(\n",
    "    var_one, var_two, var_three,\n",
    "    var_four):\n",
    "    print(var_one)"
   ]
  },
  {
   "cell_type": "markdown",
   "metadata": {
    "id": "PSQyk22LsO8n"
   },
   "source": [
    "Use whitespace\n",
    "* To surround these binary operators with a single space on either side: assignment (=), augmented assignment (+=, -= etc.), comparisons (==, <, >, !=, <>, <=, >=, in, not in, is, is not), Booleans (and, or, not).\n",
    "* To surround operators starting with those with lower priority. `hypot2 = x*x + y*y`\n",
    "* After commas except before a close parenthesis\n",
    "\n",
    "Avoid whitespace\n",
    "* Immediately inside parentheses. `spam(ham[1], {eggs: 2})`\n",
    "* Before commas, semicolons, colons\n",
    "* Between function/list name and the following parentheses/brackets. (`spam(1)` and `spam_list[1]`)\n",
    "* Around the = sign in keyword arguments or default values. (`print(a, b, sep='')`)"
   ]
  },
  {
   "cell_type": "markdown",
   "metadata": {
    "id": "hcZ02shRsO8o"
   },
   "source": [
    "## Line length\n",
    "\n",
    "Recommended maximum line length is 79 symbols (and the newline symbol, making the total 80).\n",
    "\n",
    "Why?\n",
    "\n",
    "* To open code in narrow editor windows. Useful in code reviews, comparisons.\n",
    "* To avoid automatic wrapping as it is harder to read than manual one.\n",
    "\n",
    "The preferred way of wrapping long lines is by using Python’s implied line continuation inside parentheses, brackets and braces. Long lines can be broken over multiple lines by wrapping expressions in parentheses.\n",
    "\n",
    "Backslashes may be appropriate in some cases where the preferred way specifically fails. If you have a free choice of method, use parentheses."
   ]
  },
  {
   "cell_type": "markdown",
   "metadata": {
    "id": "Iv-uL22JsO8p"
   },
   "source": [
    "## Naming variables and functions\n",
    "\n",
    "The preferred way of naming variables and functions in Python is `lower_case_with_underscores`.\n",
    "\n",
    "Use descriptive names. Make code self-documenting, so that anyone would be able to understand what happens right away."
   ]
  },
  {
   "cell_type": "code",
   "execution_count": null,
   "metadata": {
    "colab": {
     "base_uri": "https://localhost:8080/",
     "height": 237
    },
    "id": "y74j1P30sO8q",
    "inputHidden": false,
    "outputHidden": false,
    "outputId": "d03ac0f3-d2d3-4f4e-a91c-85b2981e7ef8"
   },
   "outputs": [
    {
     "ename": "NameError",
     "evalue": "ignored",
     "output_type": "error",
     "traceback": [
      "\u001b[0;31m---------------------------------------------------------------------------\u001b[0m",
      "\u001b[0;31mNameError\u001b[0m                                 Traceback (most recent call last)",
      "\u001b[0;32m<ipython-input-2-feade3f6dc7a>\u001b[0m in \u001b[0;36m<module>\u001b[0;34m()\u001b[0m\n\u001b[1;32m      4\u001b[0m \u001b[0;34m\u001b[0m\u001b[0m\n\u001b[1;32m      5\u001b[0m \u001b[0;31m# Read a & b\u001b[0m\u001b[0;34m\u001b[0m\u001b[0;34m\u001b[0m\u001b[0;34m\u001b[0m\u001b[0m\n\u001b[0;32m----> 6\u001b[0;31m \u001b[0ma\u001b[0m\u001b[0;34m,\u001b[0m\u001b[0mb\u001b[0m \u001b[0;34m=\u001b[0m \u001b[0mreadvalues\u001b[0m\u001b[0;34m(\u001b[0m\u001b[0;34m)\u001b[0m\u001b[0;34m\u001b[0m\u001b[0;34m\u001b[0m\u001b[0m\n\u001b[0m\u001b[1;32m      7\u001b[0m \u001b[0;34m\u001b[0m\u001b[0m\n\u001b[1;32m      8\u001b[0m \u001b[0;31m# Add a and b, and divide by 2\u001b[0m\u001b[0;34m\u001b[0m\u001b[0;34m\u001b[0m\u001b[0;34m\u001b[0m\u001b[0m\n",
      "\u001b[0;31mNameError\u001b[0m: name 'readvalues' is not defined"
     ]
    }
   ],
   "source": [
    "# Init a & b to 0\n",
    "a = 0\n",
    "b = 0\n",
    " \n",
    "# Read a & b\n",
    "a, b = readvalues()\n",
    " \n",
    "# Add a and b, and divide by 2\n",
    "c = a + b\n",
    " \n",
    "#Divide c by 2\n",
    "d = c / 2\n",
    " \n",
    "# print c\n",
    "print(c)"
   ]
  },
  {
   "cell_type": "code",
   "execution_count": null,
   "metadata": {
    "id": "Fk-uTOt5sO8s",
    "inputHidden": false,
    "outputHidden": false
   },
   "outputs": [],
   "source": [
    "number1 = 0\n",
    "number2 = 0\n",
    " \n",
    "number1, number2  = readvalues()\n",
    " \n",
    "sum = number1  + number2\n",
    " \n",
    "average = sum / 2\n",
    " \n",
    "print(average)"
   ]
  },
  {
   "cell_type": "markdown",
   "metadata": {
    "id": "iRO4Y6wLsO8v"
   },
   "source": [
    "Use comments to help understand reasoning behind the code."
   ]
  },
  {
   "cell_type": "code",
   "execution_count": null,
   "metadata": {
    "id": "aV7mWzFVsO8v",
    "inputHidden": false,
    "outputHidden": false
   },
   "outputs": [],
   "source": [
    "# Our code doesn't work correctly when using a usb, so we have to add this extra checks\n",
    "if (special_case_usb):\n",
    "    Do_something_special"
   ]
  },
  {
   "cell_type": "markdown",
   "metadata": {
    "id": "rYcAwkZjMl53"
   },
   "source": [
    "# Code Reading"
   ]
  },
  {
   "cell_type": "markdown",
   "metadata": {
    "id": "RU3d4vnTMv3y"
   },
   "source": [
    "One of the most common tasks in programming is changing code you don't completely understand. This can both include your old code and other people's code.\n",
    "\n",
    "There are two ways of improving your solution of this task. The first one is to write good code that is easy to understand. If you follow the Zen of Python, learn about good programming practices and name your variables well, you will be able to do this. You will most often read your own code, so this is an important part of solving this task.  \n",
    "The second way is to get used to reading unfamiliar code, so that you can quickly recognize some patterns and understand how it works.\n",
    "\n"
   ]
  },
  {
   "cell_type": "markdown",
   "metadata": {
    "id": "43bEeBypM49N"
   },
   "source": [
    "Good practice in both reading code and learning about what Python can do is studying Python scripts for performing various things.\n",
    "\n",
    "For example, you can find them in these repositories.\n",
    "\n",
    "* https://github.com/geekcomputers/Python\n",
    "* https://github.com/bamos/python-scripts\n",
    "* https://github.com/hastagAB/Awesome-Python-Scripts\n",
    "* https://github.com/realpython/python-scripts\n",
    "\n",
    "Open a script that interests you, try running it and changing something."
   ]
  },
  {
   "cell_type": "markdown",
   "metadata": {
    "id": "ol7icBIFNAUd"
   },
   "source": [
    "For example, here is a script that prints file information.\n",
    "\n",
    "https://github.com/geekcomputers/Python/blob/master/fileinfo.py"
   ]
  },
  {
   "cell_type": "code",
   "execution_count": null,
   "metadata": {
    "id": "X6uDEJ1rNBw_"
   },
   "outputs": [],
   "source": [
    "from __future__ import print_function\n",
    "\n",
    "import os\n",
    "import stat\n",
    "import sys\n",
    "import time\n",
    "\n",
    "if sys.version_info >= (3, 0):\n",
    "    raw_input = input\n",
    "\n",
    "file_name = raw_input(\"Enter a file name: \")  # pick a file you have\n",
    "count = 0\n",
    "t_char = 0\n",
    "try:\n",
    "    with open(file_name) as f:\n",
    "        line = f.readline()\n",
    "        t_char += len(line)\n",
    "        while line:\n",
    "            count += 1\n",
    "            line = f.readline()\n",
    "            t_char += len(line)\n",
    "except FileNotFoundError as e:\n",
    "    print(e)\n",
    "    sys.exit()\n",
    "\n",
    "file_stats = os.stat(file_name)\n",
    "# create a dictionary to hold file info\n",
    "file_info = {\n",
    "    'fname': file_name,\n",
    "    'fsize': file_stats[stat.ST_SIZE],\n",
    "    'f_lm': time.strftime(\"%d/%m/%Y %I:%M:%S %p\",\n",
    "                          time.localtime(file_stats[stat.ST_MTIME])),\n",
    "    'f_la': time.strftime(\"%d/%m/%Y %I:%M:%S %p\",\n",
    "                          time.localtime(file_stats[stat.ST_ATIME])),\n",
    "    'f_ct': time.strftime(\"%d/%m/%Y %I:%M:%S %p\",\n",
    "                          time.localtime(file_stats[stat.ST_CTIME])),\n",
    "    'no_of_lines': count,\n",
    "    't_char': t_char\n",
    "}\n",
    "\n",
    "print(\"\\nfile name =\", file_info['fname'])\n",
    "print(\"file size =\", file_info['fsize'], \"bytes\")\n",
    "print(\"last modified =\", file_info['f_lm'])\n",
    "print(\"last accessed =\", file_info['f_la'])\n",
    "print(\"creation time =\", file_info['f_ct'])\n",
    "print(\"Total number of lines are =\", file_info['no_of_lines'])\n",
    "print(\"Total number of characters are =\", file_info['t_char'])\n",
    "\n",
    "if stat.S_ISDIR(file_stats[stat.ST_MODE]):\n",
    "    print(\"This a directory\")\n",
    "else:\n",
    "    print(\"This is not a directory\\n\")\n",
    "    print(\"A closer look at the os.stat(%s) tuple:\" % file_name)\n",
    "    print(file_stats)\n",
    "    print(\"\\nThe above tuple has the following sequence:   \")\n",
    "    print(\"\"\"st_mode (protection bits), st_ino (inode number), \n",
    "    st_dev (device),    st_nlink (number of hard links),    \n",
    "    st_uid (user ID of owner),   st_gid (group ID of owner),    \n",
    "    st_size (file size, bytes),  st_atime (last access time, seconds since epoch),  \n",
    "    st_mtime (last modification time),   st_ctime (time of creation, Windows)\"\"\"\n",
    "          )\n"
   ]
  },
  {
   "cell_type": "markdown",
   "metadata": {
    "id": "N63FBvb5NEe2"
   },
   "source": [
    "A good way to start is to find where output happens and go backwards. For example, the code above outputs file size. You may want to find what exactly provides this informations, but to do that you start with the point this information is printed.\n",
    "\n",
    "## Tracing the path of file size"
   ]
  },
  {
   "cell_type": "code",
   "execution_count": null,
   "metadata": {
    "id": "oZ47isTtNLTg"
   },
   "outputs": [],
   "source": [
    "print(\"file size =\", file_info['fsize'], \"bytes\")"
   ]
  },
  {
   "cell_type": "markdown",
   "metadata": {
    "id": "dLVylVe_NMOY"
   },
   "source": [
    "In this case, you can easily find the place that outputs file size because the line of code contains `file size =`. There are few ways of writing information to output, so you can search for them. For example, in larger programs you can run search for the term \"print\" and browse through all calls of the print function.\n",
    "\n",
    "The file size is stored in a dictionary called `file_info` at the key `'fsize'`.\n",
    "\n",
    "Now you can find where `file_info` dictionary got the information about the file size. To do that you need to either find where the dictionary was created or where the key `'fsize'` was added to it."
   ]
  },
  {
   "cell_type": "markdown",
   "metadata": {
    "id": "R7o7gLZ4NS2e"
   },
   "source": [
    "```\n",
    "    'fsize': file_stats[stat.ST_SIZE],\n",
    "```\n",
    "This is a part of the dictionary creation. Now you know that the dictionary got file size information from another source, the `file_stats` object. At this point `file_stats` can be a list or another dictionary. It is indexed with the `stat.ST_SIZE` and it could be an integer or something else."
   ]
  },
  {
   "cell_type": "code",
   "execution_count": null,
   "metadata": {
    "id": "FxdCDfpWNPeX"
   },
   "outputs": [],
   "source": [
    "file_stats = os.stat(file_name)"
   ]
  },
  {
   "cell_type": "markdown",
   "metadata": {
    "id": "OfjTGHm-NXd8"
   },
   "source": [
    "Finally, `file_stats` is an output of a library function `os.stat` that takes file name as an input. This means that if you ever want to find the size of a file, you can call the function `os.stat` with the file name as an argument and the output will be some object that contains file size at the index `stat.ST_SIZE`.\n",
    "\n",
    "Notice how naming the variable `file_name` tells you right away what it is. You can be reasonably sure that it is a string containing the name of the file you get the information for. To be absolutely certain that it is the case, you can check where this variable gets its value."
   ]
  },
  {
   "cell_type": "code",
   "execution_count": null,
   "metadata": {
    "id": "gpCCg5l5NfPd"
   },
   "outputs": [],
   "source": [
    "file_name = raw_input(\"Enter a file name: \")  # pick a file you have"
   ]
  },
  {
   "cell_type": "markdown",
   "metadata": {
    "id": "GJV9VWFFNhIu"
   },
   "source": [
    "It seems like this is the function that takes information from standard input. However, the function that takes that information in Python 3 is `input()`, not `raw_input()`.\n",
    "\n",
    "The code above explains this.\n",
    "\n",
    "```\n",
    "if sys.version_info >= (3, 0):\n",
    "    raw_input = input\n",
    "```\n",
    "This function works the same way as `input()` if your Python version is no less than 3.0. So it is a compatibility issue."
   ]
  },
  {
   "cell_type": "markdown",
   "metadata": {
    "id": "o4Oeg4X-N1-K"
   },
   "source": [
    "## Tracing the path of character count and line count\n",
    "\n",
    "If you browse through the `file_info` dictionary initialization code, you may notice that some parts of the file information don't come from the `file_stats` object. `file_name` is an obvious one, but there are also `count` and `t_char`.\n",
    "\n",
    "You can trace their path in a similar way, going backwards and asking the question \"where did this information come from?\"\n",
    "\n",
    "For `count` and `t_char` there is a piece of code that changes them in a loop. So to figure out why these variables hold the values for the line count and character count you need to understand how the loop works and what causes these variables to change. "
   ]
  },
  {
   "cell_type": "code",
   "execution_count": null,
   "metadata": {
    "id": "tVreS-b7N56C"
   },
   "outputs": [],
   "source": [
    "count = 0\n",
    "t_char = 0\n",
    "try:\n",
    "    with open(file_name) as f:\n",
    "        line = f.readline()\n",
    "        t_char += len(line)\n",
    "        while line:\n",
    "            count += 1\n",
    "            line = f.readline()\n",
    "            t_char += len(line)\n",
    "except FileNotFoundError as e:\n",
    "    print(e)\n",
    "    sys.exit()"
   ]
  },
  {
   "cell_type": "markdown",
   "metadata": {
    "id": "KwWTkDJyN-Fo"
   },
   "source": [
    "There is exception handling, a `with` statement and a loop here.\n",
    "\n",
    "You can read them the same way, going from what you know (`count` and `t_char`) to the parts of code these variables interact with. `t_char` is increased by the `len` of the `line`. Now `line` is the new unknown object.\n",
    "\n",
    "`line = f.readline()` explains what `line` is, it is a string, containing a line from the file `f`. Now `f` is the next part that is unaccounted for.\n",
    "\n",
    "`f` is a file object (descriptor) from the `with` statement. The file it represents is opened with `open(file_name)`, so you can be sure that it's the same file as in the previous case, because the same variable `file_name` contains its name."
   ]
  },
  {
   "cell_type": "markdown",
   "metadata": {
    "id": "0TRsSbj4OCdQ"
   },
   "source": [
    "## Another example\n",
    "\n",
    "By following similar steps you can analyze and understand many other pieces of code.\n",
    "\n",
    "Here is another example of a simple script dealing with files.\n",
    "\n",
    "https://github.com/geekcomputers/Python/blob/master/folder_size.py"
   ]
  },
  {
   "cell_type": "code",
   "execution_count": null,
   "metadata": {
    "id": "fAWp80noOGTu"
   },
   "outputs": [],
   "source": [
    "import os\n",
    "import   # Load the library module and the sys module for the argument vector'''\n",
    "\n",
    "directory = input(\"Enter directory name: \")\n",
    "\n",
    "dir_size = 0  # Set the size to 0\n",
    "fsizedicr = {'Bytes': 1,\n",
    "             'Kilobytes': float(1) / 1024,\n",
    "             'Megabytes': float(1) / (1024 * 1024),\n",
    "             'Gigabytes': float(1) / (1024 * 1024 * 1024)}\n",
    "for (path, dirs, files) in os.walk(\n",
    "        directory):  # Walk through all the directories. For each iteration, os.walk returns the folders, subfolders and files in the dir.\n",
    "    for file in files:  # Get all the files\n",
    "        filename = os.path.join(path, file)\n",
    "        dir_size += os.path.getsize(filename)  # Add the size of each file in the root dir to get the total size.\n",
    "\n",
    "fsizeList = [str(round(fsizedicr[key] * dir_size, 2)) + \" \" + key for key in fsizedicr]  # List of units\n",
    "\n",
    "if dir_size == 0:\n",
    "    print(\"File Empty\")  # Sanity check to eliminate corner-case of empty file.\n",
    "else:\n",
    "    for units in sorted(fsizeList)[::-1]:  # Reverse sort list of units so smallest magnitude units print first.\n",
    "        print(\"Folder Size: \" + units)\n"
   ]
  },
  {
   "cell_type": "markdown",
   "metadata": {
    "id": "_z3ZFLdUOKOG"
   },
   "source": [
    "Just like in the previous example, you can follow the value of a variable and see where and how it changes to understand how the whole piece of code works."
   ]
  },
  {
   "cell_type": "markdown",
   "metadata": {
    "id": "qVLgLKY4OMaM"
   },
   "source": [
    "## Task 1\n",
    "\n",
    "Modify the following script to include coordinates and humidity data in the output.\n",
    "\n",
    "Print the JSON data to see the structure of the data given to you and add two functions: one to retrieve coordinates and another one to retrieve humidity from the JSON data.\n"
   ]
  },
  {
   "cell_type": "code",
   "execution_count": null,
   "metadata": {
    "id": "wcTs_OGxOSsW"
   },
   "outputs": [],
   "source": [
    "import requests\n",
    "\n",
    "ork\n",
    "def get_temperature(json_data):\n",
    "    temp_in_celcius = json_data['main']['temp']\n",
    "    return temp_in_celcius\n",
    "\n",
    "def get_weather_type(json_data):\n",
    "    weather_type = json_data['weather'][0]['description']\n",
    "    return weather_type\n",
    "\n",
    "def get_wind_speed(json_data):\n",
    "    wind_speed = json_data['wind']['speed']\n",
    "    return wind_speed\n",
    "\n",
    "\n",
    "\n",
    "def get_weather_data(json_data, city):\n",
    "    description_of_weather = json_data['weather'][0]['description']\n",
    "    weather_type = get_weather_type(json_data)\n",
    "    temperature = get_temperature(json_data)\n",
    "    wind_speed = get_wind_speed(json_data)\n",
    "    weather_details = ''\n",
    "    return weather_details + (\"The weather in {} is currently {} with a temperature of {} degrees and wind speeds reaching {} km/ph\".format(city, weather_type, temperature, wind_speed))\n",
    "\n",
    "\n",
    "def main():\n",
    "    api_address = 'https://api.openweathermap.org/data/2.5/weather?appid=a10fd8a212e47edf8d946f26fb4cdef8&q='\n",
    "    city = input(\"City Name : \")\n",
    "    units_format = \"&units=metric\"\n",
    "    final_url = api_address + city + units_format\n",
    "    json_data = requests.get(final_url).json()\n",
    "    weather_details = get_weather_data(json_data, city)\n",
    "    # print formatted data\n",
    "    print(weather_details)\n",
    "\n",
    "\n",
    "\n",
    "main()\n"
   ]
  },
  {
   "cell_type": "markdown",
   "metadata": {
    "id": "3ppvPJIfOW0c"
   },
   "source": [
    "## Task 2\n",
    "\n",
    "Modify the following script.\n",
    "\n",
    "Right now it creates a markup table with information about several repositories. Add information about the repository's topics.\n",
    "\n",
    "You can find the relevant documentation about the PyGithub package here: https://pygithub.readthedocs.io/en/latest/examples/Repository.html"
   ]
  },
  {
   "cell_type": "code",
   "execution_count": null,
   "metadata": {
    "id": "CFz9nyjPOc2_"
   },
   "outputs": [],
   "source": [
    "!pip install PyGithub"
   ]
  },
  {
   "cell_type": "code",
   "execution_count": null,
   "metadata": {
    "id": "PDR61q0vOggH"
   },
   "outputs": [],
   "source": [
    "from github import Github\n",
    "import argparse\n",
    "import os\n",
    "import sys\n",
    "\n",
    "repos = ['hastagAB/Awesome-Python-Scripts', 'google/googletest']\n",
    "github = Github(os.getenv(\"GITHUB_TOKEN\"))\n",
    "\n",
    "\n",
    "def sanitize_for_md(s):\n",
    "    s = s.replace(\"*\", \"\\*\")\n",
    "    return s\n",
    "\n",
    "# print(\"Generated on {}.\\n\".format(time.strftime(\"%Y-%m-%d\")))\n",
    "print(\"Name | Stargazers | Description\")\n",
    "print(\"|\".join([\"----\"] * 3))\n",
    "for r_name in sorted(repos, key=lambda v: v.upper()):\n",
    "    try:\n",
    "        r = github.get_repo(r_name)\n",
    "    except:\n",
    "        sys.stderr.write(\"Error: Repository '{}' not found.\\n\".format(r_name))\n",
    "        sys.exit(-1)\n",
    "    content = \" | \".join([\n",
    "        \"[{}]({})\".format(r.full_name, r.html_url),\n",
    "        str(r.stargazers_count),\n",
    "        sanitize_for_md(r.description)\n",
    "    ])\n",
    "    print(content)"
   ]
  }
 ],
 "metadata": {
  "colab": {
   "name": "Workshop 14 Code Style and Code Reading.ipynb",
   "provenance": [],
   "toc_visible": true
  },
  "kernel_info": {
   "name": "python3"
  },
  "kernelspec": {
   "display_name": "Python 3",
   "language": "python",
   "name": "python3"
  },
  "language_info": {
   "codemirror_mode": {
    "name": "ipython",
    "version": 3
   },
   "file_extension": ".py",
   "mimetype": "text/x-python",
   "name": "python",
   "nbconvert_exporter": "python",
   "pygments_lexer": "ipython3",
   "version": "3.6.4"
  },
  "nteract": {
   "version": "0.15.0"
  }
 },
 "nbformat": 4,
 "nbformat_minor": 1
}
