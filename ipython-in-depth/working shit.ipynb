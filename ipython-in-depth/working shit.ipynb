{
 "cells": [
  {
   "cell_type": "code",
   "execution_count": 19,
   "id": "ffd25901",
   "metadata": {},
   "outputs": [],
   "source": [
    "%matplotlib inline\n",
    "\n",
    "import pandas as pd\n",
    "import numpy as np\n",
    "import matplotlib.pyplot as plt\n",
    "import seaborn as sns\n",
    "\n",
    "from pandas_profiling import ProfileReport ## не использовать"
   ]
  },
  {
   "cell_type": "code",
   "execution_count": 20,
   "id": "a3a114d7",
   "metadata": {},
   "outputs": [],
   "source": [
    "colnames=['symboling', 'normalized-losses', 'company', 'fuel-type', 'aspiration', 'num-of-doors', 'body-style', \n",
    "         'drive-wheels', 'engine-location', 'wheel-base', 'length', 'width', 'height', 'curb-weight', \n",
    "          'engine-type', 'num-of-cylinders', 'engine-size', 'fuel-system', 'bore', 'stroke', 'compression-ratio', \n",
    "          'horsepower', 'peak-rpm', 'city-mpg', 'highway-mpg', 'price'] \n",
    "\n",
    "# normalized-losses - payment per insured vehicle year\n",
    "# curb-weight - the weight of the vehicle including a full tank of fuel and all standard equipment\n",
    "# bore - the diameter of each cylinder\n",
    "# stroke - a phase of the engine's cycle\n",
    "# compression-ratio - the ratio of the volume of the cylinder and its head space\n",
    "# peak-rpm - max revolutions per minute (обороты в минуту)\n",
    "# city-mpg - miles per gallon = 2,352 * km per liter"
   ]
  },
  {
   "cell_type": "code",
   "execution_count": 21,
   "id": "e06b8f27",
   "metadata": {},
   "outputs": [],
   "source": [
    "# reading the data\n",
    "\n",
    "data = pd.read_csv(\"./DATA1/imports-85.data\", sep=',', names=colnames, header=None)\n",
    "for i in colnames:\n",
    "    data.loc[data[i] == '?', i] = np.nan\n",
    "del data['symboling']\n"
   ]
  },
  {
   "cell_type": "code",
   "execution_count": 22,
   "id": "c73125e2",
   "metadata": {},
   "outputs": [],
   "source": [
    "# remove restrictions from the table\n",
    "\n",
    "pd.set_option('display.max_rows', None)\n",
    "pd.set_option('display.max_columns', None)\n",
    "pd.set_option('display.max_colwidth', None)"
   ]
  },
  {
   "cell_type": "code",
   "execution_count": 23,
   "id": "1e1cf797",
   "metadata": {},
   "outputs": [],
   "source": [
    "# changing mpg to km/l\n",
    "data[['city-mpg']] = round(data[['city-mpg']] / 2.352, 2)\n",
    "data[['highway-mpg']] = round(data[['highway-mpg']] / 2.352, 2)\n",
    "data.rename(columns={'city-mpg': 'city-km/l'}, inplace = True)\n",
    "data.rename(columns={'highway-mpg': 'highway-km/l'}, inplace = True)\n",
    "data['horsepower'] = pd.to_numeric(data['horsepower'])\n",
    "data['peak-rpm'] = pd.to_numeric(data['peak-rpm'])"
   ]
  },
  {
   "cell_type": "markdown",
   "id": "a08abe89",
   "metadata": {},
   "source": [
    "# 1985 Auto Imports Database"
   ]
  },
  {
   "cell_type": "code",
   "execution_count": 24,
   "id": "0cb47926",
   "metadata": {
    "scrolled": true
   },
   "outputs": [
    {
     "data": {
      "text/html": [
       "<div>\n",
       "<style scoped>\n",
       "    .dataframe tbody tr th:only-of-type {\n",
       "        vertical-align: middle;\n",
       "    }\n",
       "\n",
       "    .dataframe tbody tr th {\n",
       "        vertical-align: top;\n",
       "    }\n",
       "\n",
       "    .dataframe thead th {\n",
       "        text-align: right;\n",
       "    }\n",
       "</style>\n",
       "<table border=\"1\" class=\"dataframe\">\n",
       "  <thead>\n",
       "    <tr style=\"text-align: right;\">\n",
       "      <th></th>\n",
       "      <th>normalized-losses</th>\n",
       "      <th>company</th>\n",
       "      <th>fuel-type</th>\n",
       "      <th>aspiration</th>\n",
       "      <th>num-of-doors</th>\n",
       "      <th>body-style</th>\n",
       "      <th>drive-wheels</th>\n",
       "      <th>engine-location</th>\n",
       "      <th>wheel-base</th>\n",
       "      <th>length</th>\n",
       "      <th>width</th>\n",
       "      <th>height</th>\n",
       "      <th>curb-weight</th>\n",
       "      <th>engine-type</th>\n",
       "      <th>num-of-cylinders</th>\n",
       "      <th>engine-size</th>\n",
       "      <th>fuel-system</th>\n",
       "      <th>bore</th>\n",
       "      <th>stroke</th>\n",
       "      <th>compression-ratio</th>\n",
       "      <th>horsepower</th>\n",
       "      <th>peak-rpm</th>\n",
       "      <th>city-km/l</th>\n",
       "      <th>highway-km/l</th>\n",
       "      <th>price</th>\n",
       "    </tr>\n",
       "  </thead>\n",
       "  <tbody>\n",
       "    <tr>\n",
       "      <th>0</th>\n",
       "      <td>NaN</td>\n",
       "      <td>alfa-romero</td>\n",
       "      <td>gas</td>\n",
       "      <td>std</td>\n",
       "      <td>two</td>\n",
       "      <td>convertible</td>\n",
       "      <td>rwd</td>\n",
       "      <td>front</td>\n",
       "      <td>88.6</td>\n",
       "      <td>168.8</td>\n",
       "      <td>64.1</td>\n",
       "      <td>48.8</td>\n",
       "      <td>2548.0</td>\n",
       "      <td>dohc</td>\n",
       "      <td>four</td>\n",
       "      <td>130.0</td>\n",
       "      <td>mpfi</td>\n",
       "      <td>3.47</td>\n",
       "      <td>2.68</td>\n",
       "      <td>9.0</td>\n",
       "      <td>111.0</td>\n",
       "      <td>5000.0</td>\n",
       "      <td>8.93</td>\n",
       "      <td>11.48</td>\n",
       "      <td>13495</td>\n",
       "    </tr>\n",
       "    <tr>\n",
       "      <th>1</th>\n",
       "      <td>NaN</td>\n",
       "      <td>alfa-romero</td>\n",
       "      <td>gas</td>\n",
       "      <td>std</td>\n",
       "      <td>two</td>\n",
       "      <td>convertible</td>\n",
       "      <td>rwd</td>\n",
       "      <td>front</td>\n",
       "      <td>88.6</td>\n",
       "      <td>168.8</td>\n",
       "      <td>64.1</td>\n",
       "      <td>48.8</td>\n",
       "      <td>2548.0</td>\n",
       "      <td>dohc</td>\n",
       "      <td>four</td>\n",
       "      <td>130.0</td>\n",
       "      <td>mpfi</td>\n",
       "      <td>3.47</td>\n",
       "      <td>2.68</td>\n",
       "      <td>9.0</td>\n",
       "      <td>111.0</td>\n",
       "      <td>5000.0</td>\n",
       "      <td>8.93</td>\n",
       "      <td>11.48</td>\n",
       "      <td>16500</td>\n",
       "    </tr>\n",
       "    <tr>\n",
       "      <th>2</th>\n",
       "      <td>NaN</td>\n",
       "      <td>alfa-romero</td>\n",
       "      <td>gas</td>\n",
       "      <td>std</td>\n",
       "      <td>two</td>\n",
       "      <td>hatchback</td>\n",
       "      <td>rwd</td>\n",
       "      <td>front</td>\n",
       "      <td>94.5</td>\n",
       "      <td>171.2</td>\n",
       "      <td>65.5</td>\n",
       "      <td>52.4</td>\n",
       "      <td>2823.0</td>\n",
       "      <td>ohcv</td>\n",
       "      <td>six</td>\n",
       "      <td>152.0</td>\n",
       "      <td>mpfi</td>\n",
       "      <td>2.68</td>\n",
       "      <td>3.47</td>\n",
       "      <td>9.0</td>\n",
       "      <td>154.0</td>\n",
       "      <td>5000.0</td>\n",
       "      <td>8.08</td>\n",
       "      <td>11.05</td>\n",
       "      <td>16500</td>\n",
       "    </tr>\n",
       "    <tr>\n",
       "      <th>3</th>\n",
       "      <td>164</td>\n",
       "      <td>audi</td>\n",
       "      <td>gas</td>\n",
       "      <td>std</td>\n",
       "      <td>four</td>\n",
       "      <td>sedan</td>\n",
       "      <td>fwd</td>\n",
       "      <td>front</td>\n",
       "      <td>99.8</td>\n",
       "      <td>176.6</td>\n",
       "      <td>66.2</td>\n",
       "      <td>54.3</td>\n",
       "      <td>2337.0</td>\n",
       "      <td>ohc</td>\n",
       "      <td>four</td>\n",
       "      <td>109.0</td>\n",
       "      <td>mpfi</td>\n",
       "      <td>3.19</td>\n",
       "      <td>3.40</td>\n",
       "      <td>10.0</td>\n",
       "      <td>102.0</td>\n",
       "      <td>5500.0</td>\n",
       "      <td>10.20</td>\n",
       "      <td>12.76</td>\n",
       "      <td>13950</td>\n",
       "    </tr>\n",
       "    <tr>\n",
       "      <th>4</th>\n",
       "      <td>164</td>\n",
       "      <td>audi</td>\n",
       "      <td>gas</td>\n",
       "      <td>std</td>\n",
       "      <td>four</td>\n",
       "      <td>sedan</td>\n",
       "      <td>4wd</td>\n",
       "      <td>front</td>\n",
       "      <td>99.4</td>\n",
       "      <td>176.6</td>\n",
       "      <td>66.4</td>\n",
       "      <td>54.3</td>\n",
       "      <td>2824.0</td>\n",
       "      <td>ohc</td>\n",
       "      <td>five</td>\n",
       "      <td>136.0</td>\n",
       "      <td>mpfi</td>\n",
       "      <td>3.19</td>\n",
       "      <td>3.40</td>\n",
       "      <td>8.0</td>\n",
       "      <td>115.0</td>\n",
       "      <td>5500.0</td>\n",
       "      <td>7.65</td>\n",
       "      <td>9.35</td>\n",
       "      <td>17450</td>\n",
       "    </tr>\n",
       "  </tbody>\n",
       "</table>\n",
       "</div>"
      ],
      "text/plain": [
       "  normalized-losses      company fuel-type aspiration num-of-doors  \\\n",
       "0               NaN  alfa-romero       gas        std          two   \n",
       "1               NaN  alfa-romero       gas        std          two   \n",
       "2               NaN  alfa-romero       gas        std          two   \n",
       "3               164         audi       gas        std         four   \n",
       "4               164         audi       gas        std         four   \n",
       "\n",
       "    body-style drive-wheels engine-location  wheel-base  length  width  \\\n",
       "0  convertible          rwd           front        88.6   168.8   64.1   \n",
       "1  convertible          rwd           front        88.6   168.8   64.1   \n",
       "2    hatchback          rwd           front        94.5   171.2   65.5   \n",
       "3        sedan          fwd           front        99.8   176.6   66.2   \n",
       "4        sedan          4wd           front        99.4   176.6   66.4   \n",
       "\n",
       "   height  curb-weight engine-type num-of-cylinders  engine-size fuel-system  \\\n",
       "0    48.8       2548.0        dohc             four        130.0        mpfi   \n",
       "1    48.8       2548.0        dohc             four        130.0        mpfi   \n",
       "2    52.4       2823.0        ohcv              six        152.0        mpfi   \n",
       "3    54.3       2337.0         ohc             four        109.0        mpfi   \n",
       "4    54.3       2824.0         ohc             five        136.0        mpfi   \n",
       "\n",
       "   bore stroke  compression-ratio  horsepower  peak-rpm  city-km/l  \\\n",
       "0  3.47   2.68                9.0       111.0    5000.0       8.93   \n",
       "1  3.47   2.68                9.0       111.0    5000.0       8.93   \n",
       "2  2.68   3.47                9.0       154.0    5000.0       8.08   \n",
       "3  3.19   3.40               10.0       102.0    5500.0      10.20   \n",
       "4  3.19   3.40                8.0       115.0    5500.0       7.65   \n",
       "\n",
       "   highway-km/l  price  \n",
       "0         11.48  13495  \n",
       "1         11.48  16500  \n",
       "2         11.05  16500  \n",
       "3         12.76  13950  \n",
       "4          9.35  17450  "
      ]
     },
     "execution_count": 24,
     "metadata": {},
     "output_type": "execute_result"
    }
   ],
   "source": [
    "data.head()"
   ]
  },
  {
   "cell_type": "markdown",
   "id": "23bb34a9",
   "metadata": {},
   "source": [
    "# Price Dataset (mean)\n",
    "There we can see that most of prices of cars are between 5000 and 13000 **usd**\n",
    "But there are also some expensive cars with the price more than 30000 **usd**"
   ]
  },
  {
   "cell_type": "code",
   "execution_count": 25,
   "id": "3677c9fe",
   "metadata": {},
   "outputs": [
    {
     "data": {
      "image/png": "[encoded data removed]",
      "text/plain": [
       "<Figure size 432x288 with 1 Axes>"
      ]
     },
     "metadata": {
      "needs_background": "light"
     },
     "output_type": "display_data"
    }
   ],
   "source": [
    "# Scatter plot of mean of price\n",
    "\n",
    "data['price'] = data1 = data['price'].fillna(data['price'][0]).astype('int64')\n",
    "mean = data['price'].fillna(data['price'][0]).astype('int64').mean()\n",
    "\n",
    "min_value = min(data1)\n",
    "max_value = max(data1)\n",
    "\n",
    "plt.title(\"Price Dataset\")\n",
    "plt.ylim(min_value - 10000, max_value + 10000)\n",
    "plt.scatter(x=data.index, y=data['price'])\n",
    "plt.hlines(y=mean, xmin=0, xmax=len(data1)) # average\n",
    "\n",
    "plt.hlines(y=min(data1), xmin=0, xmax=len(data), colors='r') # lowest\n",
    "plt.hlines(y=max(data1), xmin=0, xmax=len(data), colors='g') # highest\n",
    "\n",
    "plt.show()\n"
   ]
  },
  {
   "cell_type": "markdown",
   "id": "1b34ab9a",
   "metadata": {},
   "source": [
    "# Mean of wheel base for drive wheels\n",
    "There we can see, that the biggest average size of wheels is on Rear-wheel drive cars\n",
    "The size of Four-wheel drive cars' wheels are approximately the same as for Front-wheel drive cars"
   ]
  },
  {
   "cell_type": "code",
   "execution_count": 26,
   "id": "08f82c21",
   "metadata": {},
   "outputs": [
    {
     "data": {
      "text/html": [
       "<div>\n",
       "<style scoped>\n",
       "    .dataframe tbody tr th:only-of-type {\n",
       "        vertical-align: middle;\n",
       "    }\n",
       "\n",
       "    .dataframe tbody tr th {\n",
       "        vertical-align: top;\n",
       "    }\n",
       "\n",
       "    .dataframe thead th {\n",
       "        text-align: right;\n",
       "    }\n",
       "</style>\n",
       "<table border=\"1\" class=\"dataframe\">\n",
       "  <thead>\n",
       "    <tr style=\"text-align: right;\">\n",
       "      <th></th>\n",
       "      <th>wheel-base</th>\n",
       "    </tr>\n",
       "    <tr>\n",
       "      <th>drive-wheels</th>\n",
       "      <th></th>\n",
       "    </tr>\n",
       "  </thead>\n",
       "  <tbody>\n",
       "    <tr>\n",
       "      <th>4wd</th>\n",
       "      <td>96.822222</td>\n",
       "    </tr>\n",
       "    <tr>\n",
       "      <th>fwd</th>\n",
       "      <td>96.429167</td>\n",
       "    </tr>\n",
       "    <tr>\n",
       "      <th>rwd</th>\n",
       "      <td>102.660526</td>\n",
       "    </tr>\n",
       "  </tbody>\n",
       "</table>\n",
       "</div>"
      ],
      "text/plain": [
       "              wheel-base\n",
       "drive-wheels            \n",
       "4wd            96.822222\n",
       "fwd            96.429167\n",
       "rwd           102.660526"
      ]
     },
     "execution_count": 26,
     "metadata": {},
     "output_type": "execute_result"
    }
   ],
   "source": [
    "# lets calculate mean of wheel-base for drive-wheels\n",
    "\n",
    "data.pivot_table(index=[\"drive-wheels\"], values = ['wheel-base'], aggfunc = 'mean')"
   ]
  },
  {
   "cell_type": "markdown",
   "id": "875f056c",
   "metadata": {},
   "source": [
    "# Mean of horsepower, peak-rpm, city-km/l and highway-km/l for engine-type\n",
    "Firstly, we can see that engine type named \"dohcv\" has the highest horsepower, so it is good for racing\n",
    "\n",
    "Secondly, even though engine type named \"ohc\" has the lowest horsepower (average 93,7), it has the highest city and highway km/l, which provides less spending on oil, so it is good as a family car.\n",
    "\n",
    "Engine named 'dohc' has almost the same stats as 'dohcv' has, but 'dohc's' average horsepower is twice less.\n",
    "\n",
    "Talking about other engines: their stats are pretty the same as in those which I described before."
   ]
  },
  {
   "cell_type": "code",
   "execution_count": 27,
   "id": "69140334",
   "metadata": {},
   "outputs": [
    {
     "data": {
      "text/html": [
       "<div>\n",
       "<style scoped>\n",
       "    .dataframe tbody tr th:only-of-type {\n",
       "        vertical-align: middle;\n",
       "    }\n",
       "\n",
       "    .dataframe tbody tr th {\n",
       "        vertical-align: top;\n",
       "    }\n",
       "\n",
       "    .dataframe thead th {\n",
       "        text-align: right;\n",
       "    }\n",
       "</style>\n",
       "<table border=\"1\" class=\"dataframe\">\n",
       "  <thead>\n",
       "    <tr style=\"text-align: right;\">\n",
       "      <th></th>\n",
       "      <th>city-km/l</th>\n",
       "      <th>highway-km/l</th>\n",
       "      <th>horsepower</th>\n",
       "    </tr>\n",
       "    <tr>\n",
       "      <th>engine-type</th>\n",
       "      <th></th>\n",
       "      <th></th>\n",
       "      <th></th>\n",
       "    </tr>\n",
       "  </thead>\n",
       "  <tbody>\n",
       "    <tr>\n",
       "      <th>dohc</th>\n",
       "      <td>8.50</td>\n",
       "      <td>10.56</td>\n",
       "      <td>146.00</td>\n",
       "    </tr>\n",
       "    <tr>\n",
       "      <th>dohcv</th>\n",
       "      <td>7.23</td>\n",
       "      <td>11.90</td>\n",
       "      <td>288.00</td>\n",
       "    </tr>\n",
       "    <tr>\n",
       "      <th>l</th>\n",
       "      <td>10.42</td>\n",
       "      <td>12.26</td>\n",
       "      <td>95.50</td>\n",
       "    </tr>\n",
       "    <tr>\n",
       "      <th>ohc</th>\n",
       "      <td>11.40</td>\n",
       "      <td>13.85</td>\n",
       "      <td>93.70</td>\n",
       "    </tr>\n",
       "    <tr>\n",
       "      <th>ohcf</th>\n",
       "      <td>10.40</td>\n",
       "      <td>12.59</td>\n",
       "      <td>110.40</td>\n",
       "    </tr>\n",
       "    <tr>\n",
       "      <th>ohcv</th>\n",
       "      <td>7.13</td>\n",
       "      <td>9.03</td>\n",
       "      <td>169.54</td>\n",
       "    </tr>\n",
       "    <tr>\n",
       "      <th>rotor</th>\n",
       "      <td>7.12</td>\n",
       "      <td>9.78</td>\n",
       "      <td>109.50</td>\n",
       "    </tr>\n",
       "  </tbody>\n",
       "</table>\n",
       "</div>"
      ],
      "text/plain": [
       "             city-km/l  highway-km/l  horsepower\n",
       "engine-type                                     \n",
       "dohc              8.50         10.56      146.00\n",
       "dohcv             7.23         11.90      288.00\n",
       "l                10.42         12.26       95.50\n",
       "ohc              11.40         13.85       93.70\n",
       "ohcf             10.40         12.59      110.40\n",
       "ohcv              7.13          9.03      169.54\n",
       "rotor             7.12          9.78      109.50"
      ]
     },
     "execution_count": 27,
     "metadata": {},
     "output_type": "execute_result"
    }
   ],
   "source": [
    "# lets calculate mean of horsepower, city-km/l and highway-km/l for engine-type\n",
    "\n",
    "data.pivot_table(index=[\"engine-type\"], values = ['horsepower', 'city-km/l', 'highway-km/l'], \\\n",
    "                 aggfunc = 'mean', fill_value = 0).round(2)"
   ]
  },
  {
   "cell_type": "markdown",
   "id": "10236e98",
   "metadata": {},
   "source": [
    "# Medians of length, width, height and curb-weight\n",
    "\n",
    "There we can see, that:\n",
    "    1) Hardtop has the biggest average curb weight.\n",
    "    2) Wagon is the highest body style of the cat.\n",
    "    3) Also Wagon is the longest car on average.\n",
    "    4) And Sedan has the widest body style of the car.\n",
    "That means, convertible and hatchback are the most comfortable cars for cities, while it is more convenient to ride to a countryside on wagon, because of it's height."
   ]
  },
  {
   "cell_type": "code",
   "execution_count": 28,
   "id": "d361b478",
   "metadata": {},
   "outputs": [
    {
     "name": "stdout",
     "output_type": "stream",
     "text": [
      "   MEDIANs\n",
      "length : 173.2\n",
      "width : 65.5\n",
      "height : 54.1\n",
      "curb-weight : 2414.0\n",
      "\n",
      "\n",
      "\n",
      "             curb-weight  height  length  width\n",
      "body-style                                     \n",
      "convertible       2674.0    51.2  168.85  64.60\n",
      "hardtop           2717.5    52.0  176.20  65.60\n",
      "hatchback         2294.5    52.0  168.70  65.20\n",
      "sedan             2410.0    54.5  175.60  65.75\n",
      "wagon             2650.0    57.5  181.50  66.50\n"
     ]
    }
   ],
   "source": [
    "# Medians of length, width, height and curb-weight\n",
    "\n",
    "d = {'length': data['length'].median(), \n",
    "     'width': data['width'].median(),\n",
    "     'height': data['height'].median(),\n",
    "     'curb-weight': data['curb-weight'].median()}\n",
    "print('   MEDIANs')\n",
    "for i in range(len(d)):\n",
    "    print(list(d.keys())[i],':', list(d.values())[i])\n",
    "print('\\n\\n')\n",
    "# Medians compared to body-style\n",
    "\n",
    "print(data.pivot_table(index=[\"body-style\"], values = ['length', 'width', 'height', 'curb-weight'], \\\n",
    "                 aggfunc = 'median', fill_value = 0))"
   ]
  },
  {
   "cell_type": "markdown",
   "id": "358d6346",
   "metadata": {},
   "source": [
    "# Standard deviation of price and normalized-losses\tfor different companies' cars\n",
    "\n",
    "1) BMW has the biggest std prices among all the companies, that means BMW has lots of different prices to allow every people buy their car. And the smallest normalized-losses, which means that normalized-losses are almost the same on every car they produce.\n",
    "2) Mercedes-benz, Nissan, Plymouth, Saab, Toyota and Volkswagen have the biggest normalized-losses (more than $20)\n",
    "That means, their cars require different amount of money per month."
   ]
  },
  {
   "cell_type": "code",
   "execution_count": 29,
   "id": "72329eea",
   "metadata": {},
   "outputs": [
    {
     "data": {
      "text/html": [
       "<div>\n",
       "<style scoped>\n",
       "    .dataframe tbody tr th:only-of-type {\n",
       "        vertical-align: middle;\n",
       "    }\n",
       "\n",
       "    .dataframe tbody tr th {\n",
       "        vertical-align: top;\n",
       "    }\n",
       "\n",
       "    .dataframe thead th {\n",
       "        text-align: right;\n",
       "    }\n",
       "</style>\n",
       "<table border=\"1\" class=\"dataframe\">\n",
       "  <thead>\n",
       "    <tr style=\"text-align: right;\">\n",
       "      <th></th>\n",
       "      <th>price</th>\n",
       "    </tr>\n",
       "    <tr>\n",
       "      <th>company</th>\n",
       "      <th></th>\n",
       "    </tr>\n",
       "  </thead>\n",
       "  <tbody>\n",
       "    <tr>\n",
       "      <th>alfa-romero</th>\n",
       "      <td>1734.937559</td>\n",
       "    </tr>\n",
       "    <tr>\n",
       "      <th>audi</th>\n",
       "      <td>3557.145893</td>\n",
       "    </tr>\n",
       "    <tr>\n",
       "      <th>bmw</th>\n",
       "      <td>9263.832033</td>\n",
       "    </tr>\n",
       "    <tr>\n",
       "      <th>chevrolet</th>\n",
       "      <td>754.421633</td>\n",
       "    </tr>\n",
       "    <tr>\n",
       "      <th>dodge</th>\n",
       "      <td>2213.386044</td>\n",
       "    </tr>\n",
       "    <tr>\n",
       "      <th>honda</th>\n",
       "      <td>2061.672112</td>\n",
       "    </tr>\n",
       "    <tr>\n",
       "      <th>isuzu</th>\n",
       "      <td>3164.872127</td>\n",
       "    </tr>\n",
       "    <tr>\n",
       "      <th>jaguar</th>\n",
       "      <td>2047.559523</td>\n",
       "    </tr>\n",
       "    <tr>\n",
       "      <th>mazda</th>\n",
       "      <td>3975.682094</td>\n",
       "    </tr>\n",
       "    <tr>\n",
       "      <th>mercedes-benz</th>\n",
       "      <td>6789.560306</td>\n",
       "    </tr>\n",
       "    <tr>\n",
       "      <th>mitsubishi</th>\n",
       "      <td>3042.998690</td>\n",
       "    </tr>\n",
       "    <tr>\n",
       "      <th>nissan</th>\n",
       "      <td>4477.394200</td>\n",
       "    </tr>\n",
       "    <tr>\n",
       "      <th>peugot</th>\n",
       "      <td>2246.749673</td>\n",
       "    </tr>\n",
       "    <tr>\n",
       "      <th>plymouth</th>\n",
       "      <td>2395.544257</td>\n",
       "    </tr>\n",
       "    <tr>\n",
       "      <th>porsche</th>\n",
       "      <td>9802.558584</td>\n",
       "    </tr>\n",
       "    <tr>\n",
       "      <th>renault</th>\n",
       "      <td>424.264069</td>\n",
       "    </tr>\n",
       "    <tr>\n",
       "      <th>saab</th>\n",
       "      <td>2860.794761</td>\n",
       "    </tr>\n",
       "    <tr>\n",
       "      <th>subaru</th>\n",
       "      <td>1940.191468</td>\n",
       "    </tr>\n",
       "    <tr>\n",
       "      <th>toyota</th>\n",
       "      <td>3204.982114</td>\n",
       "    </tr>\n",
       "    <tr>\n",
       "      <th>volkswagen</th>\n",
       "      <td>2178.549872</td>\n",
       "    </tr>\n",
       "    <tr>\n",
       "      <th>volvo</th>\n",
       "      <td>3314.650263</td>\n",
       "    </tr>\n",
       "  </tbody>\n",
       "</table>\n",
       "</div>"
      ],
      "text/plain": [
       "                     price\n",
       "company                   \n",
       "alfa-romero    1734.937559\n",
       "audi           3557.145893\n",
       "bmw            9263.832033\n",
       "chevrolet       754.421633\n",
       "dodge          2213.386044\n",
       "honda          2061.672112\n",
       "isuzu          3164.872127\n",
       "jaguar         2047.559523\n",
       "mazda          3975.682094\n",
       "mercedes-benz  6789.560306\n",
       "mitsubishi     3042.998690\n",
       "nissan         4477.394200\n",
       "peugot         2246.749673\n",
       "plymouth       2395.544257\n",
       "porsche        9802.558584\n",
       "renault         424.264069\n",
       "saab           2860.794761\n",
       "subaru         1940.191468\n",
       "toyota         3204.982114\n",
       "volkswagen     2178.549872\n",
       "volvo          3314.650263"
      ]
     },
     "execution_count": 29,
     "metadata": {},
     "output_type": "execute_result"
    }
   ],
   "source": [
    "data.pivot_table(index=[\"company\"], values = ['price', 'normalized-losses'], \\\n",
    "                 aggfunc = 'std', fill_value = 0).replace(0, 'undefined', regex=True)"
   ]
  },
  {
   "cell_type": "markdown",
   "id": "9889e3e8",
   "metadata": {},
   "source": [
    "# Sedan is the most popular body style of the car in 1985"
   ]
  },
  {
   "cell_type": "code",
   "execution_count": 30,
   "id": "ccddad97",
   "metadata": {},
   "outputs": [
    {
     "data": {
      "image/png": "[encoded data removed]",
      "text/plain": [
       "<Figure size 432x288 with 1 Axes>"
      ]
     },
     "metadata": {
      "needs_background": "light"
     },
     "output_type": "display_data"
    }
   ],
   "source": [
    "# body_style information\n",
    "\n",
    "body_style = data['body-style'].value_counts().to_dict()\n",
    "\n",
    "plt.bar(range(len(body_style)), body_style.values(), align = 'center')\n",
    "plt.xticks(range(len(body_style)), body_style.keys()) \n",
    "# plt.savefig(\"body_style.png\")\n",
    "plt.show()"
   ]
  },
  {
   "cell_type": "code",
   "execution_count": 31,
   "id": "58655414",
   "metadata": {},
   "outputs": [
    {
     "data": {
      "text/plain": [
       "<AxesSubplot:>"
      ]
     },
     "execution_count": 31,
     "metadata": {},
     "output_type": "execute_result"
    },
    {
     "data": {
      "image/png": "[encoded data removed]",
      "text/plain": [
       "<Figure size 432x288 with 2 Axes>"
      ]
     },
     "metadata": {
      "needs_background": "light"
     },
     "output_type": "display_data"
    }
   ],
   "source": [
    "# correlation between a pair of features\n",
    "\n",
    "sns.heatmap(data.iloc[:].corr(), vmin = -1, vmax = 1, cmap=\"YlGnBu\")\n",
    "\n",
    "# data.iloc[:].corr()\n",
    "# sns.heatmap(data.iloc[:].corr(), center = 0, vmin = -1, vmax = 1, annot = True, linewidths=.5, cmap=\"YlGnBu\")\n",
    "# sns.clustermap(data.iloc[:].corr(), vmin = -1, vmax = 1)"
   ]
  },
  {
   "cell_type": "markdown",
   "id": "d09125f7",
   "metadata": {},
   "source": [
    "# normalized-losses information\n",
    "BMW has the biggest normalized-losses and the lowest normalized-losses std, that means, all of BWM's cars has very high normalized-losses, no metter how cheap was your car, you will spend the same amount of money as other owners of BWM per month."
   ]
  },
  {
   "cell_type": "code",
   "execution_count": 32,
   "id": "5f6cf286",
   "metadata": {},
   "outputs": [
    {
     "data": {
      "image/png": "[encoded data removed]",
      "text/plain": [
       "<Figure size 432x288 with 1 Axes>"
      ]
     },
     "metadata": {},
     "output_type": "display_data"
    }
   ],
   "source": [
    "# normalized-losses information\n",
    "\n",
    "data.dropna(subset = ['normalized-losses'], inplace = True)\n",
    "data[['normalized-losses']] = data[['normalized-losses']].astype('int64')\n",
    "\n",
    "d = dict()\n",
    "\n",
    "for i in set(data['company']): # making dictionary without values\n",
    "    d[i] = 0\n",
    "for j in range(len(data['company'])): # adding values to the dictionary\n",
    "    d[list(data['company'])[j]] += list(data['normalized-losses'])[j]\n",
    "for k in d.values(): # fingind average of values\n",
    "    d[list(d.keys())[list(d.values()).index(k)]] //= list(data['company']).count(list(d.keys())[list(d.values()).index(k)])\n",
    "\n",
    "myexplode = [0.2 if i == max(d.values()) else i * 0 for i in d.values()]\n",
    "\n",
    "plt.pie(d.values(), labels=d.keys(), explode = myexplode, autopct='%1.1f%%')\n",
    "# plt.savefig(\"normalized_losses.png\")\n",
    "plt.show()"
   ]
  },
  {
   "cell_type": "code",
   "execution_count": 33,
   "id": "725a1869",
   "metadata": {},
   "outputs": [],
   "source": [
    "# rereading the data bc we deleted NaN rows for normalized-losses column\n",
    "\n",
    "data = pd.read_csv(\"./DATA1/imports-85.data\", sep=',', names=colnames, header=None)\n",
    "for i in colnames:\n",
    "    data.loc[data[i] == '?', i] = np.nan\n",
    "# data"
   ]
  },
  {
   "cell_type": "markdown",
   "id": "74bf7073",
   "metadata": {},
   "source": [
    "# engine aspiration compared to engine type\n",
    "'OHC' was the most popular engine type in 1985. And Std was the most popular engine's aspiration in 1985."
   ]
  },
  {
   "cell_type": "code",
   "execution_count": 34,
   "id": "664ab8be",
   "metadata": {},
   "outputs": [
    {
     "data": {
      "image/png": "[encoded data removed]",
      "text/plain": [
       "<Figure size 432x288 with 1 Axes>"
      ]
     },
     "metadata": {
      "needs_background": "light"
     },
     "output_type": "display_data"
    }
   ],
   "source": [
    "# engine aspiration compared to engine type\n",
    "\n",
    "labels = list(set(data['engine-type']))\n",
    "\n",
    "first_lable, second_lable = list(set(data['aspiration']))[0], list(set(data['aspiration']))[1] # turbo, std\n",
    "turbo, std = [], []\n",
    "d = dict()\n",
    "for j in set(data['engine-type']):\n",
    "    d[j] = [0, 0]\n",
    "for i in range(len(data['engine-type'])):\n",
    "    if list(data['aspiration'])[i] == 'turbo':\n",
    "        ind = 0\n",
    "    else: ind = 1\n",
    "    d[list(data['engine-type'])[i]][ind] += 1\n",
    "for i in d.values():\n",
    "    turbo.append(i[0])\n",
    "    std.append(i[1])\n",
    "\n",
    "x = np.arange(len(set(data['engine-type'])))  # the location of the lable\n",
    "width = 0.35  # the width of the bars\n",
    "\n",
    "fig, ax = plt.subplots()\n",
    "rects1 = ax.bar(x - width/2, turbo, width, label = first_lable)\n",
    "rects2 = ax.bar(x + width/2, std, width, label = second_lable)\n",
    "\n",
    "# # Add some text for labels, title and custom x-axis tick labels, etc.\n",
    "ax.set_ylabel('Number of engines of certain type')\n",
    "ax.set_title('Types of engines')\n",
    "ax.set_xticks(x, labels)\n",
    "ax.legend()\n",
    "\n",
    "ax.bar_label(rects1, padding=3)\n",
    "ax.bar_label(rects2, padding=3)\n",
    "\n",
    "fig.tight_layout()\n",
    "\n",
    "# plt.savefig(\"engine.png\")\n",
    "plt.show()"
   ]
  },
  {
   "cell_type": "markdown",
   "id": "93bc37c6",
   "metadata": {},
   "source": [
    "# The correlation between horsepower and bore"
   ]
  },
  {
   "cell_type": "code",
   "execution_count": 35,
   "id": "fce5ad03",
   "metadata": {},
   "outputs": [],
   "source": [
    "data['horsepower'] = pd.to_numeric(data['horsepower'])\n",
    "data['bore'] = pd.to_numeric(data['bore'])"
   ]
  },
  {
   "cell_type": "code",
   "execution_count": 36,
   "id": "a7dc830e",
   "metadata": {
    "scrolled": false
   },
   "outputs": [
    {
     "data": {
      "text/plain": [
       "Text(0, 0.5, 'Horsepower')"
      ]
     },
     "execution_count": 36,
     "metadata": {},
     "output_type": "execute_result"
    },
    {
     "data": {
      "image/png": "[encoded data removed]",
      "text/plain": [
       "<Figure size 432x288 with 1 Axes>"
      ]
     },
     "metadata": {
      "needs_background": "light"
     },
     "output_type": "display_data"
    }
   ],
   "source": [
    "plt.plot(data.bore, data.horsepower, 'bo')\n",
    "plt.rcParams['figure.figsize'] = 11, 7\n",
    "plt.xlabel('Bore')\n",
    "plt.ylabel('Horsepower')"
   ]
  },
  {
   "cell_type": "code",
   "execution_count": null,
   "id": "d18adc1b",
   "metadata": {},
   "outputs": [],
   "source": []
  }
 ],
 "metadata": {
  "kernelspec": {
   "display_name": "Python 3 (ipykernel)",
   "language": "python",
   "name": "python3"
  },
  "language_info": {
   "codemirror_mode": {
    "name": "ipython",
    "version": 3
   },
   "file_extension": ".py",
   "mimetype": "text/x-python",
   "name": "python",
   "nbconvert_exporter": "python",
   "pygments_lexer": "ipython3",
   "version": "3.9.7"
  }
 },
 "nbformat": 4,
 "nbformat_minor": 5
}
